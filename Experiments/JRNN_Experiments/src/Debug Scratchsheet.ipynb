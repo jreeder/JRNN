{
 "metadata": {
  "name": "Debug Scratchsheet"
 },
 "nbformat": 3,
 "nbformat_minor": 0,
 "worksheets": [
  {
   "cells": [
    {
     "cell_type": "code",
     "collapsed": false,
     "input": [
      "import re\n",
      "from collections import defaultdict\n",
      "\n",
      "variables = re.compile('(\\S+?: \\S+) ?')\n",
      "\n",
      "name = re.compile(\"^(.+) ValSums\")\n",
      "\n",
      "def readIn(fileh):\n",
      "    data = defaultdict(list)\n",
      "    for line in fileh:\n",
      "        if len(line) < 5:\n",
      "            continue\n",
      "        vName = name.search(line).groups()[0]\n",
      "        values = variables.findall(line)\n",
      "        data[vName].append(values)\n",
      "    return data"
     ],
     "language": "python",
     "metadata": {},
     "outputs": []
    },
    {
     "cell_type": "code",
     "collapsed": false,
     "input": [
      "fileh = open(\"debugfile.txt\")"
     ],
     "language": "python",
     "metadata": {},
     "outputs": []
    },
    {
     "cell_type": "code",
     "collapsed": false,
     "input": [
      "data = readIn(fileh)"
     ],
     "language": "python",
     "metadata": {},
     "outputs": []
    },
    {
     "cell_type": "raw",
     "metadata": {},
     "source": [
      "testline = fileh.readline()"
     ]
    },
    {
     "cell_type": "raw",
     "metadata": {},
     "source": [
      "import re"
     ]
    },
    {
     "cell_type": "raw",
     "metadata": {},
     "source": [
      "re.findall('(\\S+?: \\S+) ?', testline)"
     ]
    },
    {
     "cell_type": "code",
     "collapsed": false,
     "input": [
      "data"
     ],
     "language": "python",
     "metadata": {},
     "outputs": []
    },
    {
     "cell_type": "code",
     "collapsed": false,
     "input": [
      "def SplitVars(arr, vardict):\n",
      "    for varstr in arr:\n",
      "        items = varstr.split(\":\")\n",
      "        vardict[items[0]].append(float(items[1]))"
     ],
     "language": "python",
     "metadata": {},
     "outputs": []
    },
    {
     "cell_type": "code",
     "collapsed": false,
     "input": [
      "vardict = defaultdict(list)\n",
      "SplitVars(data['cand_5-out_0'][0], vardict)"
     ],
     "language": "python",
     "metadata": {},
     "outputs": []
    },
    {
     "cell_type": "code",
     "collapsed": false,
     "input": [
      "vardict"
     ],
     "language": "python",
     "metadata": {},
     "outputs": []
    },
    {
     "cell_type": "code",
     "collapsed": false,
     "input": [
      "SplitVars(data['cand_5-out_0'][1], vardict)"
     ],
     "language": "python",
     "metadata": {},
     "outputs": []
    },
    {
     "cell_type": "code",
     "collapsed": false,
     "input": [
      "vardict"
     ],
     "language": "python",
     "metadata": {},
     "outputs": []
    },
    {
     "cell_type": "code",
     "collapsed": false,
     "input": [
      "values = {}\n",
      "for key in data.iterkeys():\n",
      "    tmpdict = defaultdict(list)\n",
      "    for arr in data[key]:\n",
      "        SplitVars(arr, tmpdict)\n",
      "    values[key] = tmpdict"
     ],
     "language": "python",
     "metadata": {},
     "outputs": []
    },
    {
     "cell_type": "code",
     "collapsed": false,
     "input": [
      "values['cand_5-out_0']"
     ],
     "language": "python",
     "metadata": {},
     "outputs": []
    },
    {
     "cell_type": "code",
     "collapsed": false,
     "input": [
      "%pylab"
     ],
     "language": "python",
     "metadata": {},
     "outputs": []
    },
    {
     "cell_type": "code",
     "collapsed": false,
     "input": [
      "varNames = ['Vals', 'val*err', 'cor[j]', 'ValSums', 'error']"
     ],
     "language": "python",
     "metadata": {},
     "outputs": []
    },
    {
     "cell_type": "code",
     "collapsed": false,
     "input": [
      "candName = 'cand_0'"
     ],
     "language": "python",
     "metadata": {},
     "outputs": []
    },
    {
     "cell_type": "code",
     "collapsed": false,
     "input": [
      "def plotCand(candName):\n",
      "    for name in varNames:\n",
      "        fig = figure()\n",
      "        plt.plot(values[candName][name])\n",
      "        fig.suptitle(name)"
     ],
     "language": "python",
     "metadata": {},
     "outputs": []
    },
    {
     "cell_type": "code",
     "collapsed": false,
     "input": [
      "errVals = [x/(1.0*y) for (x,y) in zip(values['cand_0']['val*err'], values['cand_0']['Vals'])]"
     ],
     "language": "python",
     "metadata": {},
     "outputs": []
    },
    {
     "cell_type": "code",
     "collapsed": false,
     "input": [
      "errVals2 = values['cand_0']['error']"
     ],
     "language": "python",
     "metadata": {},
     "outputs": []
    },
    {
     "cell_type": "code",
     "collapsed": false,
     "input": [
      "errVals"
     ],
     "language": "python",
     "metadata": {},
     "outputs": []
    },
    {
     "cell_type": "code",
     "collapsed": false,
     "input": [
      "errVals2"
     ],
     "language": "python",
     "metadata": {},
     "outputs": []
    },
    {
     "cell_type": "code",
     "collapsed": false,
     "input": [
      "errAvg = np.mean(np.array(errVals))"
     ],
     "language": "python",
     "metadata": {},
     "outputs": []
    },
    {
     "cell_type": "code",
     "collapsed": false,
     "input": [
      "errAvg"
     ],
     "language": "python",
     "metadata": {},
     "outputs": []
    },
    {
     "cell_type": "code",
     "collapsed": false,
     "input": [
      "valAvg = np.mean(np.array(values['cand_0']['Vals']))"
     ],
     "language": "python",
     "metadata": {},
     "outputs": []
    },
    {
     "cell_type": "code",
     "collapsed": false,
     "input": [
      "valAvg"
     ],
     "language": "python",
     "metadata": {},
     "outputs": []
    },
    {
     "cell_type": "code",
     "collapsed": false,
     "input": [
      "import bottleneck as bn\n",
      "sumsqerr = bn.ss(errVals2)"
     ],
     "language": "python",
     "metadata": {},
     "outputs": []
    },
    {
     "cell_type": "code",
     "collapsed": false,
     "input": [
      "sumsqerr"
     ],
     "language": "python",
     "metadata": {},
     "outputs": []
    },
    {
     "cell_type": "code",
     "collapsed": false,
     "input": [
      "valAvg * errAvg"
     ],
     "language": "python",
     "metadata": {},
     "outputs": []
    },
    {
     "cell_type": "code",
     "collapsed": false,
     "input": [
      "200 * valAvg*errAvg"
     ],
     "language": "python",
     "metadata": {},
     "outputs": []
    },
    {
     "cell_type": "code",
     "collapsed": false,
     "input": [
      "def CalcCor(name):\n",
      "    calj = values[name]['cor[j]'][-1]\n",
      "    avgVal = np.mean(np.array(values[name]['Vals']))\n",
      "    avgErr = np.mean(np.array(values[name]['error']))\n",
      "    n = len(values[name]['Vals'])\n",
      "    retVal = (calj - avgVal * avgErr) / sumsqerr\n",
      "    return retVal"
     ],
     "language": "python",
     "metadata": {},
     "outputs": []
    },
    {
     "cell_type": "code",
     "collapsed": false,
     "input": [
      "def CalcCor2(name):\n",
      "    calj = values[name]['cor[j]'][-1]\n",
      "    avgVal = np.mean(np.array(values[name]['Vals']))\n",
      "    avgErr = np.mean(np.array(values[name]['error']))\n",
      "    n = len(values[name]['Vals'])\n",
      "    retVal = (calj - n * avgVal * avgErr) / sumsqerr\n",
      "    return retVal"
     ],
     "language": "python",
     "metadata": {},
     "outputs": []
    },
    {
     "cell_type": "code",
     "collapsed": false,
     "input": [
      "def CalcCor6(name):\n",
      "    calj = values[name]['cor[j]'][-1]\n",
      "    avgVal = np.mean(np.array(values[name]['Vals']))\n",
      "    avgErr = np.mean(np.array(values[name]['error']))\n",
      "    n = len(values[name]['Vals'])\n",
      "    retVal = (calj/(1.0*n) -  avgVal * avgErr) / sumsqerr\n",
      "    return retVal"
     ],
     "language": "python",
     "metadata": {},
     "outputs": []
    },
    {
     "cell_type": "code",
     "collapsed": false,
     "input": [
      "def CalcCor5(name):\n",
      "    calj = values[name]['cor[j]'][-1]\n",
      "    avgVal = np.mean(np.array(values[name]['Vals']))\n",
      "    avgErr = np.mean(np.array(values[name]['error']))\n",
      "    ssVal = bn.ss(np.array(values[name]['Vals']))\n",
      "    sumAbsErr = bn.nansum(np.absolute(np.array(values[name]['error'])))\n",
      "    n = len(values[name]['Vals'])\n",
      "    retVal = (calj - n * avgVal * avgErr) / sumAbsErr\n",
      "    return retVal"
     ],
     "language": "python",
     "metadata": {},
     "outputs": []
    },
    {
     "cell_type": "code",
     "collapsed": false,
     "input": [
      "import math"
     ],
     "language": "python",
     "metadata": {},
     "outputs": []
    },
    {
     "cell_type": "code",
     "collapsed": false,
     "input": [
      "def CalcCor3(name):\n",
      "    calj = values[name]['cor[j]'][-1]\n",
      "    Vals = np.array(values[name]['Vals'])\n",
      "    Errs = np.array(values[name]['error'])\n",
      "    n = len(values[name]['Vals'])\n",
      "    retVal = (n*calj - bn.nansum(Vals) * bn.nansum(Errs)) / (math.sqrt(math.fabs(n*bn.ss(Vals) - (bn.nansum(Vals))**2))*math.sqrt(math.fabs(n*bn.ss(Errs) - (bn.nansum(Errs))**2)))\n",
      "    return retVal"
     ],
     "language": "python",
     "metadata": {},
     "outputs": []
    },
    {
     "cell_type": "code",
     "collapsed": false,
     "input": [
      "def CalcCor4(name):\n",
      "    calj = values[name]['cor[j]'][-1]\n",
      "    Vals = np.array(values[name]['Vals'])\n",
      "    Errs = np.array(values[name]['error'])\n",
      "    Valm = bn.nanmean(Vals)\n",
      "    Errm = bn.nanmean(Errs)\n",
      "    n = len(values[name]['Vals'])\n",
      "    retVal = (bn.nansum((Vals - Valm)*(Errs - Errm)))/(math.sqrt(bn.nansum((Vals-Valm)**2)*bn.nansum((Errs - Errm)**2)))\n",
      "    return retVal"
     ],
     "language": "python",
     "metadata": {},
     "outputs": []
    },
    {
     "cell_type": "code",
     "collapsed": false,
     "input": [
      "CalcCor('cand_0')"
     ],
     "language": "python",
     "metadata": {},
     "outputs": []
    },
    {
     "cell_type": "code",
     "collapsed": false,
     "input": [
      "for key in values.iterkeys():\n",
      "    print key, \" \", CalcCor(key)"
     ],
     "language": "python",
     "metadata": {},
     "outputs": []
    },
    {
     "cell_type": "code",
     "collapsed": false,
     "input": [
      "for key in values.iterkeys():\n",
      "    print key, \" \", CalcCor2(key)"
     ],
     "language": "python",
     "metadata": {},
     "outputs": []
    },
    {
     "cell_type": "code",
     "collapsed": false,
     "input": [
      "for key in values.iterkeys():\n",
      "    print key, \" \", CalcCor3(key)"
     ],
     "language": "python",
     "metadata": {},
     "outputs": []
    },
    {
     "cell_type": "code",
     "collapsed": false,
     "input": [
      "for key in values.iterkeys():\n",
      "    print key, \" \", CalcCor4(key)"
     ],
     "language": "python",
     "metadata": {},
     "outputs": []
    },
    {
     "cell_type": "code",
     "collapsed": false,
     "input": [
      "for key in values.iterkeys():\n",
      "    print key, \" \", CalcCor5(key)"
     ],
     "language": "python",
     "metadata": {},
     "outputs": []
    },
    {
     "cell_type": "code",
     "collapsed": false,
     "input": [
      "for key in values.iterkeys():\n",
      "    print key, \" \", CalcCor6(key)"
     ],
     "language": "python",
     "metadata": {},
     "outputs": []
    },
    {
     "cell_type": "code",
     "collapsed": false,
     "input": [
      "plotCand('cand_7-out_0')"
     ],
     "language": "python",
     "metadata": {},
     "outputs": []
    },
    {
     "cell_type": "code",
     "collapsed": false,
     "input": [
      "errAvg = np.mean(np.array(errVals2))"
     ],
     "language": "python",
     "metadata": {},
     "outputs": []
    },
    {
     "cell_type": "code",
     "collapsed": false,
     "input": [
      "(sumsqerr - errAvg * errAvg)/sumsqerr"
     ],
     "language": "python",
     "metadata": {},
     "outputs": []
    },
    {
     "cell_type": "code",
     "collapsed": false,
     "input": [
      "tmp1 = np.sum(np.array(values['cand_0']['Vals']))\n",
      "tmp2 = np.sum(np.array(values['cand_0']['error']))"
     ],
     "language": "python",
     "metadata": {},
     "outputs": []
    },
    {
     "cell_type": "code",
     "collapsed": false,
     "input": [
      "tmp1, tmp2"
     ],
     "language": "python",
     "metadata": {},
     "outputs": []
    },
    {
     "cell_type": "code",
     "collapsed": false,
     "input": [
      "tmp1 * tmp2"
     ],
     "language": "python",
     "metadata": {},
     "outputs": []
    },
    {
     "cell_type": "code",
     "collapsed": false,
     "input": [
      "tmp3 = np.sum(np.array(values['cand_0']['Vals'])*np.array(values['cand_0']['error']))\n",
      "tmp3"
     ],
     "language": "python",
     "metadata": {},
     "outputs": []
    },
    {
     "cell_type": "code",
     "collapsed": false,
     "input": [
      "size = len(values['cand_0']['Vals'])"
     ],
     "language": "python",
     "metadata": {},
     "outputs": []
    },
    {
     "cell_type": "code",
     "collapsed": false,
     "input": [
      "(1/(1.0*size))*tmp1*tmp2"
     ],
     "language": "python",
     "metadata": {},
     "outputs": []
    },
    {
     "cell_type": "code",
     "collapsed": false,
     "input": [
      "1/(1.0*size) * tmp2"
     ],
     "language": "python",
     "metadata": {},
     "outputs": []
    },
    {
     "cell_type": "code",
     "collapsed": false,
     "input": [
      "1/(1.0*size) * tmp1"
     ],
     "language": "python",
     "metadata": {},
     "outputs": []
    },
    {
     "cell_type": "code",
     "collapsed": false,
     "input": [],
     "language": "python",
     "metadata": {},
     "outputs": []
    }
   ],
   "metadata": {}
  }
 ]
}