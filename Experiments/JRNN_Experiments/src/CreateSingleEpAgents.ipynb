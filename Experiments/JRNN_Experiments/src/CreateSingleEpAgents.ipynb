{
 "metadata": {
  "name": "CreateSingleEpAgents"
 },
 "nbformat": 3,
 "nbformat_minor": 0,
 "worksheets": [
  {
   "cells": [
    {
     "cell_type": "heading",
     "level": 1,
     "metadata": {},
     "source": [
      "Set Things Up"
     ]
    },
    {
     "cell_type": "code",
     "collapsed": false,
     "input": [
      "%load_ext autoreload\n",
      "%autoreload 2"
     ],
     "language": "python",
     "metadata": {},
     "outputs": []
    },
    {
     "cell_type": "code",
     "collapsed": false,
     "input": [
      "import ObsUtility\n",
      "import PyJRNN\n",
      "import pyublas"
     ],
     "language": "python",
     "metadata": {},
     "outputs": []
    },
    {
     "cell_type": "code",
     "collapsed": false,
     "input": [
      "from ObsUtility import UserSettings, sortField\n",
      "from PyJRNN.utility import DSDatatype"
     ],
     "language": "python",
     "metadata": {},
     "outputs": []
    },
    {
     "cell_type": "code",
     "collapsed": false,
     "input": [
      "from config import *"
     ],
     "language": "python",
     "metadata": {},
     "outputs": []
    },
    {
     "cell_type": "code",
     "collapsed": false,
     "input": [
      "import os"
     ],
     "language": "python",
     "metadata": {},
     "outputs": []
    },
    {
     "cell_type": "code",
     "collapsed": false,
     "input": [
      "import re"
     ],
     "language": "python",
     "metadata": {},
     "outputs": []
    },
    {
     "cell_type": "code",
     "collapsed": false,
     "input": [
      "import json"
     ],
     "language": "python",
     "metadata": {},
     "outputs": []
    },
    {
     "cell_type": "code",
     "collapsed": false,
     "input": [
      "from collections import defaultdict"
     ],
     "language": "python",
     "metadata": {},
     "outputs": []
    },
    {
     "cell_type": "code",
     "collapsed": false,
     "input": [
      "userspath = ObsUtility.userspath"
     ],
     "language": "python",
     "metadata": {},
     "outputs": []
    },
    {
     "cell_type": "code",
     "collapsed": false,
     "input": [
      "userspath"
     ],
     "language": "python",
     "metadata": {},
     "outputs": []
    },
    {
     "cell_type": "code",
     "collapsed": false,
     "input": [
      "def GetUsers():\n",
      "    return [d for d in os.listdir(userspath) if os.path.isdir(os.path.join(userspath, d))]"
     ],
     "language": "python",
     "metadata": {},
     "outputs": []
    },
    {
     "cell_type": "code",
     "collapsed": false,
     "input": [
      "users = GetUsers()"
     ],
     "language": "python",
     "metadata": {},
     "outputs": []
    },
    {
     "cell_type": "code",
     "collapsed": false,
     "input": [
      "users"
     ],
     "language": "python",
     "metadata": {},
     "outputs": []
    },
    {
     "cell_type": "raw",
     "metadata": {},
     "source": [
      "data = ObsUtility.LoadUserData('jcginn')"
     ]
    },
    {
     "cell_type": "raw",
     "metadata": {},
     "source": [
      "data.keys()"
     ]
    },
    {
     "cell_type": "raw",
     "metadata": {},
     "source": [
      "[x for x in data.keys() if 'Feb' in x]"
     ]
    },
    {
     "cell_type": "code",
     "collapsed": false,
     "input": [
      "UserScenarios = {}\n",
      "epsNum = re.compile('eps_(\\d+)')\n",
      "for user in users:\n",
      "    data = ObsUtility.LoadUserData(user)\n",
      "    UserScenarios[user] = {}\n",
      "    scenes = [x for x in data.keys() if 'Feb' in x]\n",
      "    for scene in scenes:\n",
      "        filePaths = data[scene]['training']\n",
      "        fileNames = sorted([os.path.basename(x) for x in filePaths if 'eps' in x], key=lambda x: int(epsNum.search(x).group(1)))\n",
      "        UserScenarios[user][scene] = fileNames"
     ],
     "language": "python",
     "metadata": {},
     "outputs": []
    },
    {
     "cell_type": "code",
     "collapsed": false,
     "input": [
      "del UserScenarios['jreeder']"
     ],
     "language": "python",
     "metadata": {},
     "outputs": []
    },
    {
     "cell_type": "heading",
     "level": 3,
     "metadata": {},
     "source": [
      "Scratch Area"
     ]
    },
    {
     "cell_type": "raw",
     "metadata": {},
     "source": [
      "UserScenarios['jcginn']"
     ]
    },
    {
     "cell_type": "raw",
     "metadata": {},
     "source": [
      "testData = ObsUtility.LoadUserData('jcginn')\n",
      "[x for x in testData['Chase - 07Feb2013172954']['training'] if 'PersonTrainingData_eps_1.json' in x]"
     ]
    },
    {
     "cell_type": "raw",
     "metadata": {},
     "source": [
      "sceneName = 'Chase - 07Feb2013172954'"
     ]
    },
    {
     "cell_type": "raw",
     "metadata": {},
     "source": [
      "sceneName.split('-')[0].rstrip()"
     ]
    },
    {
     "cell_type": "raw",
     "metadata": {},
     "source": [
      "scene = 'ChaseObstaclesShoot - 13Feb2013183704'\n",
      "useFannedTurn = False\n",
      "winnerGroups = []\n",
      "if useFannedTurn:\n",
      "    winnerGroups = [[0,1],[2,3,4,5,6,7,8]]\n",
      "else:\n",
      "    winnerGroups = [[0,1],[2,3]]\n",
      "\n",
      "if 'Shoot' in scene:\n",
      "    winnerGroups.append([winnerGroups[1][-1]+1])\n",
      "    \n",
      "winnerGroups"
     ]
    },
    {
     "cell_type": "raw",
     "metadata": {},
     "source": [
      "sortField = ObsUtility.sortField"
     ]
    },
    {
     "cell_type": "heading",
     "level": 2,
     "metadata": {},
     "source": [
      "Define Functions"
     ]
    },
    {
     "cell_type": "code",
     "collapsed": false,
     "input": [
      "def CreateSingleEpAgent(user, scene, episodeFile, numTries=5, numFrames=1000, distNums = (), maxEpochs=3000, numCand=12, useSDCC=True, useVaryActFunc=True, useRev=True, useRecurrency=False, useFannedTurn=True):\n",
      "    userData = ObsUtility.LoadUserData(user)\n",
      "    settings = ObsUtility.LoadUserSettings(user)\n",
      "    trainingFiles = [x for x in userData[scene]['training'] if episodeFile in x]\n",
      "    data = ObsUtility.LoadTrainingData(trainingFiles)\n",
      "    cds = PyJRNN.utility.CSMTLDataset()\n",
      "    cds.realOuts = True\n",
      "    taskName = scene.split('-')[0].rstrip()\n",
      "    EpName = \"Eps_{0}\".format(ObsUtility.sortField.search(episodeFile).group(1))\n",
      "    ObsUtility.loadCSMTLDSfromData(cds, data, [0,], numFrames, taskName, useFannedTurn=useFannedTurn, settings=settings)\n",
      "    viewStrings = PyJRNN.types.strings()\n",
      "    viewStrings.append(taskName)\n",
      "    cds.View = viewStrings\n",
      "\n",
      "    numFrames = cds.GetSize(DSDatatype.ALL)\n",
      "\n",
      "    numTrain = 0\n",
      "    numVal = 0\n",
      "    numTest = 0\n",
      "    \n",
      "    if len(distNums) > 0:\n",
      "        numTrain = distNums[0]\n",
      "        numVal = distNums[1]\n",
      "        numTest = distNums[2]\n",
      "    else:\n",
      "        numTrain = 0.6 * numFrames\n",
      "        numVal = 0.2 * numFrames\n",
      "        numTest = 0.2 * numFrames\n",
      "        \n",
      "    del userData\n",
      "    del trainingFiles\n",
      "    del data\n",
      "    \n",
      "    cds.DistData(int(numTrain), int(numVal), int(numTest))\n",
      "    \n",
      "    winnerGroups = []\n",
      "    if useFannedTurn:\n",
      "        winnerGroups = [[0,1],[2,3,4,5,6,7,8]]\n",
      "    else:\n",
      "        winnerGroups = [[0,1],[2,3]]\n",
      "    \n",
      "    if 'Shoot' in scene:\n",
      "        winnerGroups.append([winnerGroups[1][-1]+1])\n",
      "    \n",
      "    trainer = None\n",
      "    netType = \"\"\n",
      "    if useRev is True:\n",
      "        trainer = PyJRNN.trainers.RevCCTrainer(cds.numInputs, cds.numOutputs, numCand)\n",
      "        netType = 'revcc'\n",
      "    else:\n",
      "        trainer = PyJRNN.trainers.DualKBCCTrainer(cds.numInputs, cds.numOutputs, numCand)\n",
      "        netType = 'kbcc'\n",
      "    \n",
      "    trainer.SetSDCCandVaryActFunc(useSDCC, useVaryActFunc)\n",
      "    trainer.SetUseRecurrency(useRecurrency)\n",
      "    trainer.revparams.numRev = 0\n",
      "    trainer.revparams.bufferSize = 0\n",
      "    archiver = PyJRNN.utility.JSONArchiver()\n",
      "    results = []\n",
      "    outFileName = '{user}-{scene}-{EpName}-nT{numTries}-nF{numFrames}-mE{maxEpochs}-nC{numCand}-uSD{useSDCC}-uVA{useVaryActFunc}-uR{useRev}-uRe{useRecurrency}-uFt{useFannedTurn}'.format(**locals())\n",
      "    for i in range(numTries):\n",
      "        trainer.TrainTask(cds, maxEpochs, True)\n",
      "        resultDict = {}\n",
      "        resultDict['epochs'] = trainer.net1vals.epochs\n",
      "        resultDict['hiddenLayers'] = trainer.net1vals.numHidLayers\n",
      "        resultDict['MSERec'] = [x for x in trainer.net1vals.MSERec]\n",
      "        testError = trainer.TestOnData(cds, DSDatatype.TEST)\n",
      "        resultDict['testError'] = testError\n",
      "        winError = ObsUtility.TestWiWinners(cds, DSDatatype.TEST, trainer, winnerGroups)\n",
      "        resultDict['winError'] = winError\n",
      "        results.append(resultDict)\n",
      "        netName = outFileName + \"-{i}-TE{testError}.{netType}\".format(**locals())\n",
      "        netString = archiver.SaveToString(trainer.net1)\n",
      "        with open(os.path.join(os.curdir, 'Notebook Data', 'UserAgents', netName), 'w') as fileh:\n",
      "            fileh.write(netString)\n",
      "        trainer.Reset()\n",
      "\n",
      "    with open(os.path.join(os.curdir, 'Notebook Data', 'UserAgents', outFileName + '.json'), 'w') as fileh:\n",
      "        json.dump(results, fileh)\n",
      "        \n",
      "    return results"
     ],
     "language": "python",
     "metadata": {},
     "outputs": []
    },
    {
     "cell_type": "code",
     "collapsed": false,
     "input": [
      "def sortkey(string):\n",
      "    sortField2 = re.compile('.*-(.+ - .+)-Eps_(\\d+).*-(\\d)-TE(\\d+\\.?\\d+)\\.(revcc|kbcc)')\n",
      "    return (sortField2.findall(string)[0][0], int(sortField2.findall(string)[0][1]), float(sortField2.findall(string)[0][3]))"
     ],
     "language": "python",
     "metadata": {},
     "outputs": []
    },
    {
     "cell_type": "code",
     "collapsed": false,
     "input": [
      "def CreateConSceneAgent(user, scene, numFrames=1000, distNums = (), maxEpochs=3000, numCand=12, useSDCC=True, useVaryActFunc=True, useRev=True, numRev=2, bufferSize=300, useRecurrency=False, useFannedTurn=True):\n",
      "    def sortkey(string):\n",
      "        sortField2 = re.compile('.*-(.+ - .+)-Eps_(\\d+).*-(\\d)-TE(\\d+\\.?\\d+)\\.(revcc|kbcc)')\n",
      "        return (sortField2.findall(string)[0][0], int(sortField2.findall(string)[0][1]), float(sortField2.findall(string)[0][3]))\n",
      "    \n",
      "    userData = ObsUtility.LoadUserData(user)\n",
      "    settings = ObsUtility.LoadUserSettings(user)\n",
      "    trainingFiles = [x for x in userData[scene]['training']]\n",
      "    trainingFiles.sort(key=lambda x: int(ObsUtility.sortField.findall(x)[0]))\n",
      "    winnerGroups = []\n",
      "    if useFannedTurn:\n",
      "        winnerGroups = [[0,1],[2,3,4,5,6,7,8]]\n",
      "    else:\n",
      "        winnerGroups = [[0,1],[2,3]]\n",
      "    \n",
      "    if 'Shoot' in scene:\n",
      "        winnerGroups.append([winnerGroups[1][-1]+1])\n",
      "    \n",
      "    trainer = None\n",
      "    netType = \"\"\n",
      "    \n",
      "    #Get the first network from the scene\n",
      "    \n",
      "    netType = 'revcc' if useRev else 'kbcc'\n",
      "    uft = \"uFt{useFannedTurn}\".format(**locals())\n",
      "    listofnets = [x for x in os.listdir('Notebook Data/UserAgents') if user in x and netType in x and scene in x and uft in x]\n",
      "    listofnets.sort(key=sortkey)\n",
      "    archiver = PyJRNN.utility.JSONArchiver()\n",
      "    existingNet = archiver.LoadFromFile(os.path.join('Notebook Data/UserAgents', listofnets[0]))\n",
      "    \n",
      "    if useRev is True:\n",
      "        trainer = PyJRNN.trainers.RevCCTrainer(existingNet.numIn, existingNet.numOut, numCand)\n",
      "        netType = 'revcc'\n",
      "    else:\n",
      "        trainer = PyJRNN.trainers.DualKBCCTrainer(existingNet.numIn, existingNet.numOut, numCand)\n",
      "        netType = 'kbcc'\n",
      "    \n",
      "    \n",
      "    trainer.AddPrevTrainedNets(existingNet, existingNet.Clone())\n",
      "    \n",
      "    trainer.SetSDCCandVaryActFunc(useSDCC, useVaryActFunc)\n",
      "    trainer.SetUseRecurrency(useRecurrency)\n",
      "    trainer.revparams.numRev = numRev\n",
      "    trainer.revparams.bufferSize = bufferSize\n",
      "    \n",
      "    #Trainer should now contain existing ep1 network that performed the best. \n",
      "    results = []\n",
      "    outFileName = '{user}-{scene}-Consol-nF{numFrames}-mE{maxEpochs}-nC{numCand}-uSD{useSDCC}-uVA{useVaryActFunc}-uR{useRev}-nRev{numRev}-BS{bufferSize}-uRe{useRecurrency}-uFt{useFannedTurn}'.format(**locals())\n",
      "    for trainingFile in trainingFiles:\n",
      "        EpName = \"Eps_{0}\".format(ObsUtility.sortField.search(trainingFile).group(1))\n",
      "        if EpName == 'Eps_1':\n",
      "            continue  #skip the first one since we're using the existing network\n",
      "        \n",
      "        data = ObsUtility.LoadTrainingData([trainingFile])\n",
      "        cds = PyJRNN.utility.CSMTLDataset()\n",
      "        cds.realOuts = True\n",
      "        taskName = scene.split('-')[0].rstrip()\n",
      "        ObsUtility.loadCSMTLDSfromData(cds, data, [0,], numFrames, taskName, useFannedTurn=useFannedTurn, settings=settings)\n",
      "        viewStrings = PyJRNN.types.strings()\n",
      "        viewStrings.append(taskName)\n",
      "        cds.View = viewStrings\n",
      "    \n",
      "        dsSize = cds.GetSize(DSDatatype.ALL)\n",
      "    \n",
      "        numTrain = 0\n",
      "        numVal = 0\n",
      "        numTest = 0\n",
      "        \n",
      "        if len(distNums) > 0:\n",
      "            numTrain = distNums[0]\n",
      "            numVal = distNums[1]\n",
      "            numTest = distNums[2]\n",
      "        else:\n",
      "            numTrain = 0.6 * dsSize\n",
      "            numVal = 0.2 * dsSize\n",
      "            numTest = 0.2 * dsSize\n",
      "            \n",
      "        del data\n",
      "        \n",
      "        cds.DistData(int(numTrain), int(numVal), int(numTest))\n",
      "        \n",
      "        trainer.TrainTask(cds, maxEpochs, True)\n",
      "        resultDict = {}\n",
      "        resultDict['Episode'] = EpName\n",
      "        resultDict['epochs'] = trainer.net1vals.epochs\n",
      "        resultDict['hiddenLayers'] = trainer.net1vals.numHidLayers\n",
      "        resultDict['MSERec'] = [x for x in trainer.net1vals.MSERec]\n",
      "        testError = trainer.TestOnData(cds, DSDatatype.TEST)\n",
      "        resultDict['testError'] = testError\n",
      "        winError = ObsUtility.TestWiWinners(cds, DSDatatype.TEST, trainer, winnerGroups)\n",
      "        resultDict['winError'] = winError\n",
      "        results.append(resultDict)\n",
      "        netName = outFileName + \"-Ep1To{EpName}-TE{testError:.4f}.{netType}\".format(**locals())\n",
      "        netString = archiver.SaveToString(trainer.net1)\n",
      "        with open(os.path.join(os.curdir, 'Notebook Data', 'UserAgents', 'Consolidated', netName), 'w') as fileh:\n",
      "            fileh.write(netString)\n",
      "        #trainer.Reset()\n",
      "\n",
      "    with open(os.path.join(os.curdir, 'Notebook Data', 'UserAgents', 'Consolidated', outFileName + '.json'), 'w') as fileh:\n",
      "        json.dump(results, fileh)\n",
      "        \n",
      "    return results"
     ],
     "language": "python",
     "metadata": {},
     "outputs": []
    },
    {
     "cell_type": "heading",
     "level": 2,
     "metadata": {},
     "source": [
      "Test things "
     ]
    },
    {
     "cell_type": "code",
     "collapsed": false,
     "input": [
      "import wingdbstub"
     ],
     "language": "python",
     "metadata": {},
     "outputs": []
    },
    {
     "cell_type": "code",
     "collapsed": false,
     "input": [
      "CreateSingleEpAgent('jcginn', 'Obstacles - 07Feb2013174443', 'PersonTrainingData_eps_1.json', numTries=1, maxEpochs=200, useRev=False)"
     ],
     "language": "python",
     "metadata": {},
     "outputs": []
    },
    {
     "cell_type": "code",
     "collapsed": false,
     "input": [
      "CreateConSceneAgent('jcginn', 'Chase - 07Feb2013172954', maxEpochs=200, useRev=True)"
     ],
     "language": "python",
     "metadata": {},
     "outputs": []
    },
    {
     "cell_type": "code",
     "collapsed": false,
     "input": [
      "data = ObsUtility.LoadUserData('jcginn')"
     ],
     "language": "python",
     "metadata": {},
     "outputs": []
    },
    {
     "cell_type": "code",
     "collapsed": false,
     "input": [
      "trainingData = ObsUtility.LoadTrainingData(data['ChaseObstaclesShoot - 13Feb2013183704']['training'])"
     ],
     "language": "python",
     "metadata": {},
     "outputs": []
    },
    {
     "cell_type": "code",
     "collapsed": false,
     "input": [
      "import numpy"
     ],
     "language": "python",
     "metadata": {},
     "outputs": []
    },
    {
     "cell_type": "code",
     "collapsed": false,
     "input": [
      "outputs = numpy.array([item['actions'] for item in trainingData[0]])"
     ],
     "language": "python",
     "metadata": {},
     "outputs": []
    },
    {
     "cell_type": "code",
     "collapsed": false,
     "input": [
      "outputs.shape[1]"
     ],
     "language": "python",
     "metadata": {},
     "outputs": []
    },
    {
     "cell_type": "heading",
     "level": 1,
     "metadata": {},
     "source": [
      "Parallel Tests"
     ]
    },
    {
     "cell_type": "code",
     "collapsed": false,
     "input": [
      "from IPython.parallel import Client\n",
      "rc = Client(profile=\"cluster\")\n",
      "rc.ids"
     ],
     "language": "python",
     "metadata": {},
     "outputs": []
    },
    {
     "cell_type": "code",
     "collapsed": false,
     "input": [
      "with rc[:].sync_imports(local=True):\n",
      "    import ObsUtility\n",
      "    from ObsUtility import userspath, UserSettings, loadCSMTLDSfromData\n",
      "    import json\n",
      "    from PyJRNN.utility import CSMTLDataset\n",
      "    import PyJRNN\n",
      "    import pyublas\n",
      "    import numpy\n",
      "    import os\n",
      "    import re\n",
      "    from PyJRNN.utility import DSDatatype\n",
      "    from PyJRNN.types import strings\n",
      "    from PyJRNN.trainers import TestResults, TestResult\n",
      "    #from config import *"
     ],
     "language": "python",
     "metadata": {},
     "outputs": []
    },
    {
     "cell_type": "code",
     "collapsed": false,
     "input": [
      "numTries=5\n",
      "numFrames=1000\n",
      "distNums = ()\n",
      "maxEpochs=3000\n",
      "numCand=8\n",
      "useSDCC=True\n",
      "useVaryActFunc=True\n",
      "useRev=True\n",
      "useRecurrency=True\n",
      "useFannedTurn=True\n",
      "numRev=2\n",
      "bufferSize=300"
     ],
     "language": "python",
     "metadata": {},
     "outputs": []
    },
    {
     "cell_type": "code",
     "collapsed": false,
     "input": [
      "lbv = rc.load_balanced_view()"
     ],
     "language": "python",
     "metadata": {},
     "outputs": []
    },
    {
     "cell_type": "code",
     "collapsed": false,
     "input": [
      "async_result = []\n",
      "count = 0\n",
      "for useRev in [True, False]:\n",
      "    for user in UserScenarios.iterkeys():\n",
      "        for scene in UserScenarios[user].iterkeys():\n",
      "            for epFile in UserScenarios[user][scene]:\n",
      "                if (user == 'jcginn' and 'Chase -' in scene):\n",
      "                    #count += 1\n",
      "                    ar = lbv.apply_async(CreateSingleEpAgent, user, scene, epFile, numTries, numFrames, distNums, maxEpochs, numCand, useSDCC, useVaryActFunc, useRev, useRecurrency, useFannedTurn)\n",
      "                    async_result.append(ar)\n",
      "                else:\n",
      "                    pass"
     ],
     "language": "python",
     "metadata": {},
     "outputs": []
    },
    {
     "cell_type": "code",
     "collapsed": false,
     "input": [
      "async_result = []\n",
      "count = 0\n",
      "for useFannedTurn in [True, False]:\n",
      "    for useRev in [True, False]:\n",
      "        for user in UserScenarios.iterkeys():\n",
      "            for scene in UserScenarios[user].iterkeys():\n",
      "                ar = lbv.apply_async(CreateConSceneAgent, user, scene, numFrames, distNums, maxEpochs, numCand, useSDCC, useVaryActFunc, useRev, numRev, bufferSize, useRecurrency, useFannedTurn)\n",
      "                async_result.append(ar)\n"
     ],
     "language": "python",
     "metadata": {},
     "outputs": []
    },
    {
     "cell_type": "code",
     "collapsed": false,
     "input": [
      "lbv.queue_status()"
     ],
     "language": "python",
     "metadata": {},
     "outputs": []
    },
    {
     "cell_type": "code",
     "collapsed": false,
     "input": [
      "sum([1 for x in async_result if x.progress == 1]) / (1.0 * len(async_result))"
     ],
     "language": "python",
     "metadata": {},
     "outputs": []
    },
    {
     "cell_type": "code",
     "collapsed": false,
     "input": [
      "async_result[2].result"
     ],
     "language": "python",
     "metadata": {},
     "outputs": []
    },
    {
     "cell_type": "code",
     "collapsed": false,
     "input": [
      "[ar.status for ar in async_result]"
     ],
     "language": "python",
     "metadata": {},
     "outputs": []
    },
    {
     "cell_type": "heading",
     "level": 1,
     "metadata": {},
     "source": [
      "Consolidate Agents per Scenario Scratch Area"
     ]
    },
    {
     "cell_type": "code",
     "collapsed": false,
     "input": [
      "jamesrevnets = [x for x in os.listdir('Notebook Data/UserAgents') if 'jcginn' in x and 'revcc' in x and 'ChaseObstaclesShoot - 13Feb2013183704' in x]"
     ],
     "language": "python",
     "metadata": {},
     "outputs": []
    },
    {
     "cell_type": "code",
     "collapsed": false,
     "input": [
      "testlist = [x for x in os.listdir('Notebook Data/UserAgents') if 'jcginn' in x and 'revcc' in x and 'ChaseObstaclesShoot - 13Feb2013183704' in x]"
     ],
     "language": "python",
     "metadata": {},
     "outputs": []
    },
    {
     "cell_type": "code",
     "collapsed": false,
     "input": [
      "testlist.sort(key=sortkey)"
     ],
     "language": "python",
     "metadata": {},
     "outputs": []
    },
    {
     "cell_type": "code",
     "collapsed": false,
     "input": [
      "testlist"
     ],
     "language": "python",
     "metadata": {},
     "outputs": []
    },
    {
     "cell_type": "code",
     "collapsed": false,
     "input": [
      "jamesrevnets"
     ],
     "language": "python",
     "metadata": {},
     "outputs": []
    },
    {
     "cell_type": "code",
     "collapsed": false,
     "input": [
      "teststring = jamesrevnets[0]"
     ],
     "language": "python",
     "metadata": {},
     "outputs": []
    },
    {
     "cell_type": "code",
     "collapsed": false,
     "input": [
      "test = re.compile('.*-(.+ - .+)-Eps_(\\d+).*-(\\d)-TE(\\d+\\.?\\d+)\\.(revcc|kbcc)')"
     ],
     "language": "python",
     "metadata": {},
     "outputs": []
    },
    {
     "cell_type": "code",
     "collapsed": false,
     "input": [
      "jamesrevnets = sorted(jamesrevnets, key=lambda x: sortkey(x))"
     ],
     "language": "python",
     "metadata": {},
     "outputs": []
    },
    {
     "cell_type": "code",
     "collapsed": false,
     "input": [
      "jamesrevnets"
     ],
     "language": "python",
     "metadata": {},
     "outputs": []
    },
    {
     "cell_type": "code",
     "collapsed": false,
     "input": [
      "test.findall(teststring)"
     ],
     "language": "python",
     "metadata": {},
     "outputs": []
    },
    {
     "cell_type": "code",
     "collapsed": false,
     "input": [
      "bestones = jamesrevnets[0::5]"
     ],
     "language": "python",
     "metadata": {},
     "outputs": []
    },
    {
     "cell_type": "code",
     "collapsed": false,
     "input": [
      "bestep1s = [x for x in bestones if 'Eps_1-' in x]"
     ],
     "language": "python",
     "metadata": {},
     "outputs": []
    },
    {
     "cell_type": "code",
     "collapsed": false,
     "input": [
      "bestep1s"
     ],
     "language": "python",
     "metadata": {},
     "outputs": []
    },
    {
     "cell_type": "code",
     "collapsed": false,
     "input": [
      "archiver = PyJRNN.utility.JSONArchiver()\n",
      "revccnet = archiver.LoadFromFile(os.path.join('NoteBook Data/UserAgents', bestep1s[0]))"
     ],
     "language": "python",
     "metadata": {},
     "outputs": []
    },
    {
     "cell_type": "code",
     "collapsed": false,
     "input": [
      "type(revccnet)"
     ],
     "language": "python",
     "metadata": {},
     "outputs": []
    },
    {
     "cell_type": "code",
     "collapsed": false,
     "input": [
      "\n",
      "revccnet.PrintConnections()"
     ],
     "language": "python",
     "metadata": {},
     "outputs": []
    },
    {
     "cell_type": "code",
     "collapsed": false,
     "input": [
      "revcct = PyJRNN.trainers.RevCCTrainer(revccnet.numIn, revccnet.numOut, 12)"
     ],
     "language": "python",
     "metadata": {},
     "outputs": []
    },
    {
     "cell_type": "code",
     "collapsed": false,
     "input": [
      "revcct.AddPrevTrainedNets(revccnet, revccnet.Clone())"
     ],
     "language": "python",
     "metadata": {},
     "outputs": []
    },
    {
     "cell_type": "code",
     "collapsed": false,
     "input": [
      "revcct.net2.PrintConnections()"
     ],
     "language": "python",
     "metadata": {},
     "outputs": []
    },
    {
     "cell_type": "code",
     "collapsed": false,
     "input": [
      "def sortkey(string):\n",
      "    sortField2 = re.compile('.*-(.+ - .+)-Eps_(\\d+).*-(\\d)-TE(\\d+\\.?\\d+)\\.(revcc|kbcc)')\n",
      "    return (sortField2.findall(string)[0][0], int(sortField2.findall(string)[0][1]), float(sortField2.findall(string)[0][3]))"
     ],
     "language": "python",
     "metadata": {},
     "outputs": []
    },
    {
     "cell_type": "code",
     "collapsed": false,
     "input": [
      "user = 'jcginn'\n",
      "netType= 'revcc' #'kbcc'\n",
      "scene = 'Chase - 07Feb2013172954'"
     ],
     "language": "python",
     "metadata": {},
     "outputs": []
    },
    {
     "cell_type": "code",
     "collapsed": false,
     "input": [
      "listofnets = [x for x in os.listdir('Notebook Data/UserAgents') if user in x and netType in x and scene in x]\n",
      "listofnets.sort(key=sortkey)"
     ],
     "language": "python",
     "metadata": {},
     "outputs": []
    },
    {
     "cell_type": "code",
     "collapsed": false,
     "input": [
      "bestnets = listofnets[::5]\n",
      "bestnets"
     ],
     "language": "python",
     "metadata": {},
     "outputs": []
    },
    {
     "cell_type": "code",
     "collapsed": false,
     "input": [
      "agentpath = os.path.join(userspath, user, 'agents')\n",
      "agentpath"
     ],
     "language": "python",
     "metadata": {},
     "outputs": []
    },
    {
     "cell_type": "code",
     "collapsed": false,
     "input": [
      "import shutil"
     ],
     "language": "python",
     "metadata": {},
     "outputs": []
    },
    {
     "cell_type": "code",
     "collapsed": false,
     "input": [
      "for net in bestnets:\n",
      "    srcPath = os.path.join('Notebook Data/UserAgents', net)\n",
      "    dstPath = os.path.join(agentpath, net)\n",
      "    shutil.copy2(srcPath, dstPath)"
     ],
     "language": "python",
     "metadata": {},
     "outputs": []
    },
    {
     "cell_type": "code",
     "collapsed": false,
     "input": [
      "def moveNets(user, netType, scene):\n",
      "    listofnets = [x for x in os.listdir('Notebook Data/UserAgents') if user in x and netType in x and scene in x]\n",
      "    listofnets.sort(key=sortkey)\n",
      "    bestnets = listofnets[::5]\n",
      "    agentpath = os.path.join(userspath, user, 'agents')\n",
      "    for net in bestnets:\n",
      "        srcPath = os.path.join('Notebook Data/UserAgents', net)\n",
      "        dstPath = os.path.join(agentpath, net)\n",
      "        shutil.copy2(srcPath, dstPath)"
     ],
     "language": "python",
     "metadata": {},
     "outputs": []
    },
    {
     "cell_type": "code",
     "collapsed": false,
     "input": [
      "for user in UserScenarios.iterkeys():\n",
      "    for scene in UserScenarios[user].iterkeys():\n",
      "        moveNets(user, 'revcc', scene)"
     ],
     "language": "python",
     "metadata": {},
     "outputs": []
    },
    {
     "cell_type": "code",
     "collapsed": false,
     "input": [
      "for scene in UserScenarios['jcginn'].iterkeys():\n",
      "    moveNets('jcginn', 'revcc', scene)\n",
      "   #moveNets('jcginn', 'kbcc', scene)"
     ],
     "language": "python",
     "metadata": {},
     "outputs": []
    },
    {
     "cell_type": "code",
     "collapsed": false,
     "input": [
      "listofConsolidatedNets = [x for x in os.listdir('Notebook Data/UserAgents/Consolidated') if user in x and netType in x and scene in x]\n",
      "newlistofCon = sorted(listofConsolidatedNets, key=lambda x: int(re.findall('ToEps_(\\d+)-',x)[0]))"
     ],
     "language": "python",
     "metadata": {},
     "outputs": []
    },
    {
     "cell_type": "code",
     "collapsed": false,
     "input": [
      "newlistofCon"
     ],
     "language": "python",
     "metadata": {},
     "outputs": []
    },
    {
     "cell_type": "code",
     "collapsed": false,
     "input": [
      "listofConsolidatedNets"
     ],
     "language": "python",
     "metadata": {},
     "outputs": []
    },
    {
     "cell_type": "code",
     "collapsed": false,
     "input": [
      "def moveNets2(user, netType, scene):\n",
      "    listofnets = [x for x in os.listdir('Notebook Data/UserAgents/Consolidated') if user in x and netType in x and scene in x]\n",
      "    listofnets.sort(key=lambda x: int(re.findall('ToEps_(\\d+)-',x)[0]))\n",
      "    netstoMove = [listofnets[-1], listofnets[-2], listofnets[-10], listofnets[-11]]\n",
      "    for net in netstoMove:\n",
      "        agentpath = os.path.join(userspath, user, 'agents')\n",
      "        srcPath = os.path.join(os.curdir, 'Notebook Data/UserAgents/Consolidated', net)\n",
      "        dstPath = os.path.join(agentpath, net)\n",
      "        shutil.copy2(srcPath, dstPath)"
     ],
     "language": "python",
     "metadata": {},
     "outputs": []
    },
    {
     "cell_type": "code",
     "collapsed": false,
     "input": [
      "for user in UserScenarios.iterkeys():\n",
      "    for scene in UserScenarios[user].iterkeys():\n",
      "        moveNets2(user, 'revcc', scene)"
     ],
     "language": "python",
     "metadata": {},
     "outputs": []
    },
    {
     "cell_type": "code",
     "collapsed": false,
     "input": [
      "for scene in UserScenarios['jcginn'].iterkeys():\n",
      "    #moveNets2('jcginn', 'kbcc', scene)\n",
      "    moveNets2('jcginn', 'revcc', scene)"
     ],
     "language": "python",
     "metadata": {},
     "outputs": []
    },
    {
     "cell_type": "code",
     "collapsed": false,
     "input": [
      "os.path.abspath(os.curdir)"
     ],
     "language": "python",
     "metadata": {},
     "outputs": []
    },
    {
     "cell_type": "code",
     "collapsed": false,
     "input": [],
     "language": "python",
     "metadata": {},
     "outputs": []
    },
    {
     "cell_type": "code",
     "collapsed": false,
     "input": [
      "user = 'Cong'\n",
      "scene = 'ChaseObstaclesShoot - 13Feb2013170519'"
     ],
     "language": "python",
     "metadata": {},
     "outputs": []
    },
    {
     "cell_type": "code",
     "collapsed": false,
     "input": [
      "CreateConSceneAgent(user, scene, numFrames=1000, distNums = (), maxEpochs=3000, numCand=12, useSDCC=True, useVaryActFunc=True, useRev=False, numRev=2, bufferSize=300, useRecurrency=False, useFannedTurn=True)"
     ],
     "language": "python",
     "metadata": {},
     "outputs": []
    }
   ],
   "metadata": {}
  }
 ]
}