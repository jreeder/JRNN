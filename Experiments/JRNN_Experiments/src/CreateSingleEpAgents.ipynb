{
 "metadata": {
  "name": "CreateSingleEpAgents"
 },
 "nbformat": 3,
 "nbformat_minor": 0,
 "worksheets": [
  {
   "cells": [
    {
     "cell_type": "code",
     "collapsed": false,
     "input": [
      "%load_ext autoreload\n",
      "%autoreload 2"
     ],
     "language": "python",
     "metadata": {},
     "outputs": []
    },
    {
     "cell_type": "code",
     "collapsed": false,
     "input": [
      "import ObsUtility\n",
      "import PyJRNN\n",
      "import pyublas"
     ],
     "language": "python",
     "metadata": {},
     "outputs": []
    },
    {
     "cell_type": "code",
     "collapsed": false,
     "input": [
      "from ObsUtility import UserSettings, sortField\n",
      "from PyJRNN.utility import DSDatatype"
     ],
     "language": "python",
     "metadata": {},
     "outputs": []
    },
    {
     "cell_type": "code",
     "collapsed": false,
     "input": [
      "from config import *"
     ],
     "language": "python",
     "metadata": {},
     "outputs": []
    },
    {
     "cell_type": "code",
     "collapsed": false,
     "input": [
      "import os"
     ],
     "language": "python",
     "metadata": {},
     "outputs": []
    },
    {
     "cell_type": "code",
     "collapsed": false,
     "input": [
      "import re"
     ],
     "language": "python",
     "metadata": {},
     "outputs": []
    },
    {
     "cell_type": "code",
     "collapsed": false,
     "input": [
      "import json"
     ],
     "language": "python",
     "metadata": {},
     "outputs": []
    },
    {
     "cell_type": "code",
     "collapsed": false,
     "input": [
      "from collections import defaultdict"
     ],
     "language": "python",
     "metadata": {},
     "outputs": []
    },
    {
     "cell_type": "code",
     "collapsed": false,
     "input": [
      "userspath = ObsUtility.userspath"
     ],
     "language": "python",
     "metadata": {},
     "outputs": []
    },
    {
     "cell_type": "code",
     "collapsed": false,
     "input": [
      "def GetUsers():\n",
      "    return [d for d in os.listdir(userspath) if os.path.isdir(os.path.join(userspath, d))]"
     ],
     "language": "python",
     "metadata": {},
     "outputs": []
    },
    {
     "cell_type": "code",
     "collapsed": false,
     "input": [
      "users = GetUsers()"
     ],
     "language": "python",
     "metadata": {},
     "outputs": []
    },
    {
     "cell_type": "raw",
     "metadata": {},
     "source": [
      "data = ObsUtility.LoadUserData('jcginn')"
     ]
    },
    {
     "cell_type": "raw",
     "metadata": {},
     "source": [
      "data.keys()"
     ]
    },
    {
     "cell_type": "raw",
     "metadata": {},
     "source": [
      "[x for x in data.keys() if 'Feb' in x]"
     ]
    },
    {
     "cell_type": "code",
     "collapsed": false,
     "input": [
      "UserScenarios = {}\n",
      "epsNum = re.compile('eps_(\\d+)')\n",
      "for user in users:\n",
      "    data = ObsUtility.LoadUserData(user)\n",
      "    UserScenarios[user] = {}\n",
      "    scenes = [x for x in data.keys() if 'Feb' in x]\n",
      "    for scene in scenes:\n",
      "        filePaths = data[scene]['training']\n",
      "        fileNames = sorted([os.path.basename(x) for x in filePaths if 'eps' in x], key=lambda x: int(epsNum.search(x).group(1)))\n",
      "        UserScenarios[user][scene] = fileNames"
     ],
     "language": "python",
     "metadata": {},
     "outputs": []
    },
    {
     "cell_type": "code",
     "collapsed": false,
     "input": [
      "del UserScenarios['jreeder']"
     ],
     "language": "python",
     "metadata": {},
     "outputs": []
    },
    {
     "cell_type": "code",
     "collapsed": false,
     "input": [
      "UserScenarios['jcginn']"
     ],
     "language": "python",
     "metadata": {},
     "outputs": []
    },
    {
     "cell_type": "raw",
     "metadata": {},
     "source": [
      "testData = ObsUtility.LoadUserData('jcginn')\n",
      "[x for x in testData['Chase - 07Feb2013172954']['training'] if 'PersonTrainingData_eps_1.json' in x]"
     ]
    },
    {
     "cell_type": "raw",
     "metadata": {},
     "source": [
      "sceneName = 'Chase - 07Feb2013172954'"
     ]
    },
    {
     "cell_type": "raw",
     "metadata": {},
     "source": [
      "sceneName.split('-')[0].rstrip()"
     ]
    },
    {
     "cell_type": "raw",
     "metadata": {},
     "source": [
      "scene = 'ChaseObstaclesShoot - 13Feb2013183704'\n",
      "useFannedTurn = False\n",
      "winnerGroups = []\n",
      "if useFannedTurn:\n",
      "    winnerGroups = [[0,1],[2,3,4,5,6,7,8]]\n",
      "else:\n",
      "    winnerGroups = [[0,1],[2,3]]\n",
      "\n",
      "if 'Shoot' in scene:\n",
      "    winnerGroups.append([winnerGroups[1][-1]+1])\n",
      "    \n",
      "winnerGroups"
     ]
    },
    {
     "cell_type": "raw",
     "metadata": {},
     "source": [
      "sortField = ObsUtility.sortField"
     ]
    },
    {
     "cell_type": "code",
     "collapsed": false,
     "input": [
      "def CreateSingleEpAgent(user, scene, episodeFile, numTries=5, numFrames=1000, distNums = (), maxEpochs=3000, numCand=12, useSDCC=True, useVaryActFunc=True, useRev=True, useRecurrency=False, useFannedTurn=True):\n",
      "    userData = ObsUtility.LoadUserData(user)\n",
      "    settings = ObsUtility.LoadUserSettings(user)\n",
      "    trainingFiles = [x for x in userData[scene]['training'] if episodeFile in x]\n",
      "    data = ObsUtility.LoadTrainingData(trainingFiles)\n",
      "    cds = PyJRNN.utility.CSMTLDataset()\n",
      "    cds.realOuts = True\n",
      "    taskName = scene.split('-')[0].rstrip()\n",
      "    EpName = \"Eps_{0}\".format(ObsUtility.sortField.search(episodeFile).group(1))\n",
      "    ObsUtility.loadCSMTLDSfromData(cds, data, [0,], numFrames, taskName, useFannedTurn=useFannedTurn, settings=settings)\n",
      "    viewStrings = PyJRNN.types.strings()\n",
      "    viewStrings.append(taskName)\n",
      "    cds.View = viewStrings\n",
      "    \n",
      "    numTrain = 0\n",
      "    numVal = 0\n",
      "    numTest = 0\n",
      "    \n",
      "    if len(distNums) > 0:\n",
      "        numTrain = distNums[0]\n",
      "        numVal = distNums[1]\n",
      "        numTest = distNums[2]\n",
      "    else:\n",
      "        numTrain = 0.6 * numFrames\n",
      "        numVal = 0.2 * numFrames\n",
      "        numTest = 0.2 * numFrames\n",
      "        \n",
      "    del userData\n",
      "    del trainingFiles\n",
      "    del data\n",
      "    \n",
      "    cds.DistData(int(numTrain), int(numVal), int(numTest))\n",
      "    \n",
      "    winnerGroups = []\n",
      "    if useFannedTurn:\n",
      "        winnerGroups = [[0,1],[2,3,4,5,6,7,8]]\n",
      "    else:\n",
      "        winnerGroups = [[0,1],[2,3]]\n",
      "    \n",
      "    if 'Shoot' in scene:\n",
      "        winnerGroups.append([winnerGroups[1][-1]+1])\n",
      "    \n",
      "    trainer = None\n",
      "    netType = \"\"\n",
      "    if useRev is True:\n",
      "        trainer = PyJRNN.trainers.RevCCTrainer(cds.numInputs, cds.numOutputs, numCand)\n",
      "        netType = 'revcc'\n",
      "    else:\n",
      "        trainer = PyJRNN.trainers.DualKBCCTrainer(cds.numInputs, cds.numOutputs, numCand)\n",
      "        netType = 'kbcc'\n",
      "    \n",
      "    trainer.SetSDCCandVaryActFunc(useSDCC, useVaryActFunc)\n",
      "    trainer.SetUseRecurrency(useRecurrency)\n",
      "    trainer.revparams.numRev = 0\n",
      "    trainer.revparams.bufferSize = 0\n",
      "    archiver = PyJRNN.utility.JSONArchiver()\n",
      "    results = []\n",
      "    outFileName = '{user}-{scene}-{EpName}-nT{numTries}-nF{numFrames}-mE{maxEpochs}-nC{numCand}-uSD{useSDCC}-uVA{useVaryActFunc}-uR{useRev}-uRe{useRecurrency}-uFt{useFannedTurn}'.format(**locals())\n",
      "    for i in range(numTries):\n",
      "        trainer.TrainTask(cds, maxEpochs, True)\n",
      "        resultDict = {}\n",
      "        resultDict['epochs'] = trainer.net1vals.epochs\n",
      "        resultDict['hiddenLayers'] = trainer.net1vals.numHidLayers\n",
      "        resultDict['MSERec'] = [x for x in trainer.net1vals.MSERec]\n",
      "        testError = trainer.TestOnData(cds, DSDatatype.TEST)\n",
      "        resultDict['testError'] = testError\n",
      "        winError = ObsUtility.TestWiWinners(cds, DSDatatype.TEST, trainer, winnerGroups)\n",
      "        resultDict['winError'] = winError\n",
      "        results.append(resultDict)\n",
      "        netName = outFileName + \"-{i}-TE{testError}.{netType}\".format(**locals())\n",
      "        netString = archiver.SaveToString(trainer.net1)\n",
      "        with open(os.path.join(os.curdir, 'Notebook Data', 'UserAgents', netName), 'w') as fileh:\n",
      "            fileh.write(netString)\n",
      "        trainer.Reset()\n",
      "\n",
      "    with open(os.path.join(os.curdir, 'Notebook Data', 'UserAgents', outFileName + '.json'), 'w') as fileh:\n",
      "        json.dump(results, fileh)\n",
      "        \n",
      "    return results"
     ],
     "language": "python",
     "metadata": {},
     "outputs": []
    },
    {
     "cell_type": "raw",
     "metadata": {},
     "source": [
      "import wingdbstub"
     ]
    },
    {
     "cell_type": "code",
     "collapsed": false,
     "input": [
      "CreateSingleEpAgent('jcginn', 'ChaseObstaclesShoot - 13Feb2013183704', 'PersonTrainingData_eps_1.json', numTries=1, maxEpochs=1000, useRev=False)"
     ],
     "language": "python",
     "metadata": {},
     "outputs": []
    },
    {
     "cell_type": "code",
     "collapsed": false,
     "input": [
      "data = ObsUtility.LoadUserData('jcginn')"
     ],
     "language": "python",
     "metadata": {},
     "outputs": []
    },
    {
     "cell_type": "code",
     "collapsed": false,
     "input": [
      "trainingData = ObsUtility.LoadTrainingData(data['ChaseObstaclesShoot - 13Feb2013183704']['training'])"
     ],
     "language": "python",
     "metadata": {},
     "outputs": []
    },
    {
     "cell_type": "code",
     "collapsed": false,
     "input": [
      "import numpy"
     ],
     "language": "python",
     "metadata": {},
     "outputs": []
    },
    {
     "cell_type": "code",
     "collapsed": false,
     "input": [
      "outputs = numpy.array([item['actions'] for item in trainingData[0]])"
     ],
     "language": "python",
     "metadata": {},
     "outputs": []
    },
    {
     "cell_type": "code",
     "collapsed": false,
     "input": [
      "outputs.shape[1]"
     ],
     "language": "python",
     "metadata": {},
     "outputs": []
    },
    {
     "cell_type": "heading",
     "level": 1,
     "metadata": {},
     "source": [
      "Parallel Tests"
     ]
    },
    {
     "cell_type": "code",
     "collapsed": false,
     "input": [
      "from IPython.parallel import Client\n",
      "rc = Client(profile=\"default\")\n",
      "rc.ids"
     ],
     "language": "python",
     "metadata": {},
     "outputs": []
    },
    {
     "cell_type": "code",
     "collapsed": false,
     "input": [
      "with rc[:].sync_imports(local=True):\n",
      "    import ObsUtility\n",
      "    from ObsUtility import userspath, UserSettings, loadCSMTLDSfromData\n",
      "    import json\n",
      "    from PyJRNN.utility import CSMTLDataset\n",
      "    import PyJRNN\n",
      "    import pyublas\n",
      "    import numpy\n",
      "    import os\n",
      "    from PyJRNN.utility import DSDatatype\n",
      "    from PyJRNN.types import strings\n",
      "    from PyJRNN.trainers import TestResults, TestResult\n",
      "    #from config import *"
     ],
     "language": "python",
     "metadata": {},
     "outputs": []
    },
    {
     "cell_type": "code",
     "collapsed": false,
     "input": [
      "numTries=5\n",
      "numFrames=1000\n",
      "distNums = ()\n",
      "maxEpochs=3000\n",
      "numCand=12\n",
      "useSDCC=True\n",
      "useVaryActFunc=True\n",
      "useRev=True\n",
      "useRecurrency=False\n",
      "useFannedTurn=True"
     ],
     "language": "python",
     "metadata": {},
     "outputs": []
    },
    {
     "cell_type": "code",
     "collapsed": false,
     "input": [
      "lbv = rc.load_balanced_view()"
     ],
     "language": "python",
     "metadata": {},
     "outputs": []
    },
    {
     "cell_type": "code",
     "collapsed": false,
     "input": [
      "async_result = []\n",
      "count = 0\n",
      "for useRev in [True, False]:\n",
      "    for user in UserScenarios.iterkeys():\n",
      "        for scene in UserScenarios[user].iterkeys():\n",
      "            for epFile in UserScenarios[user][scene]:\n",
      "                if count < 3:\n",
      "                    count += 1\n",
      "                    ar = lbv.apply_async(CreateSingleEpAgent, user, scene, epFile, numTries, numFrames, distNums, maxEpochs, numCand, useSDCC, useVaryActFunc, useRev, useRecurrency, useFannedTurn)\n",
      "                    async_result.append(ar)\n",
      "                else:\n",
      "                    pass"
     ],
     "language": "python",
     "metadata": {},
     "outputs": []
    },
    {
     "cell_type": "code",
     "collapsed": false,
     "input": [
      "lbv.queue_status()"
     ],
     "language": "python",
     "metadata": {},
     "outputs": []
    },
    {
     "cell_type": "code",
     "collapsed": false,
     "input": [
      "async_result[0].result"
     ],
     "language": "python",
     "metadata": {},
     "outputs": []
    },
    {
     "cell_type": "code",
     "collapsed": false,
     "input": [],
     "language": "python",
     "metadata": {},
     "outputs": []
    }
   ],
   "metadata": {}
  }
 ]
}