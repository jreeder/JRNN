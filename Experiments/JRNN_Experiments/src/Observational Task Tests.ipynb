{
 "metadata": {
  "name": "Observational Task Tests"
 },
 "nbformat": 3,
 "nbformat_minor": 0,
 "worksheets": [
  {
   "cells": [
    {
     "cell_type": "code",
     "collapsed": false,
     "input": [
      "userspath = \"D:\\Users\\John Reeder\\Code\\opennero\\Build\\dist\\Debug\\jrnnexp1\\users\" # For Titan"
     ],
     "language": "python",
     "metadata": {},
     "outputs": [],
     "prompt_number": 1
    },
    {
     "cell_type": "code",
     "collapsed": false,
     "input": [
      "import os"
     ],
     "language": "python",
     "metadata": {},
     "outputs": [],
     "prompt_number": 2
    },
    {
     "cell_type": "code",
     "collapsed": false,
     "input": [
      "def loadScenarioFiles(scenarioPath):\n",
      "    scenariofiles = {}\n",
      "    trainingdir = os.path.join(scenarioPath, \"training\")\n",
      "    historydir = os.path.join(scenarioPath, \"history\")\n",
      "    scenariofiles[\"training\"] = [os.path.join(trainingdir, x) for x in os.listdir(trainingdir)]\n",
      "    scenariofiles[\"history\"] = [os.path.join(historydir, x) for x in os.listdir(historydir)]\n",
      "    return scenariofiles"
     ],
     "language": "python",
     "metadata": {},
     "outputs": [],
     "prompt_number": 3
    },
    {
     "cell_type": "code",
     "collapsed": false,
     "input": [
      "def LoadUserData(username):\n",
      "    global userspath\n",
      "    Scenarios = {}\n",
      "    userP = os.path.join(userspath, username)\n",
      "    userDataP = os.path.join(userP, \"data\")\n",
      "    scenarioList = os.listdir(userDataP)\n",
      "    for scene in scenarioList:\n",
      "        Scenarios[scene] = loadScenarioFiles(os.path.join(userDataP, scene))\n",
      "    \n",
      "    return Scenarios"
     ],
     "language": "python",
     "metadata": {},
     "outputs": [],
     "prompt_number": 4
    },
    {
     "cell_type": "code",
     "collapsed": false,
     "input": [
      "jamesscenarios = LoadUserData('jcginn')"
     ],
     "language": "python",
     "metadata": {},
     "outputs": [],
     "prompt_number": 5
    },
    {
     "cell_type": "code",
     "collapsed": false,
     "input": [
      "yinjiescenarios = LoadUserData('Yinjie')\n",
      "congscenarios = LoadUserData('Cong')"
     ],
     "language": "python",
     "metadata": {},
     "outputs": [],
     "prompt_number": 6
    },
    {
     "cell_type": "code",
     "collapsed": false,
     "input": [
      "jamestraining = jamesscenarios['Chase - 13Nov2012223245']['training']"
     ],
     "language": "python",
     "metadata": {},
     "outputs": [],
     "prompt_number": 7
    },
    {
     "cell_type": "code",
     "collapsed": false,
     "input": [
      "import re\n",
      "prog = re.compile('eps_(\\d+)')\n",
      "print prog.search(jamestraining[0]).group(1)"
     ],
     "language": "python",
     "metadata": {},
     "outputs": [
      {
       "output_type": "stream",
       "stream": "stdout",
       "text": [
        "1\n"
       ]
      }
     ],
     "prompt_number": 8
    },
    {
     "cell_type": "code",
     "collapsed": false,
     "input": [
      "jamestraining.sort(key=lambda x: int(prog.search(x).group(1)))"
     ],
     "language": "python",
     "metadata": {},
     "outputs": [],
     "prompt_number": 9
    },
    {
     "cell_type": "code",
     "collapsed": false,
     "input": [
      "def LoadTrainingData(listOfTrainingFiles):\n",
      "    dataArray = []\n",
      "    for fileName in listOfTrainingFiles:\n",
      "        with open(fileName, 'r') as fileh:\n",
      "            dataArray.append(json.load(fileh))\n",
      "    \n",
      "    return dataArray"
     ],
     "language": "python",
     "metadata": {},
     "outputs": [],
     "prompt_number": 10
    },
    {
     "cell_type": "code",
     "collapsed": false,
     "input": [
      "import json\n",
      "jamesdata = LoadTrainingData(jamestraining)"
     ],
     "language": "python",
     "metadata": {},
     "outputs": [],
     "prompt_number": 11
    },
    {
     "cell_type": "code",
     "collapsed": false,
     "input": [
      "len(jamesdata)"
     ],
     "language": "python",
     "metadata": {},
     "outputs": [
      {
       "output_type": "pyout",
       "prompt_number": 12,
       "text": [
        "10"
       ]
      }
     ],
     "prompt_number": 12
    },
    {
     "cell_type": "code",
     "collapsed": false,
     "input": [
      "lengths = [len(x) for x in jamesdata]"
     ],
     "language": "python",
     "metadata": {},
     "outputs": [],
     "prompt_number": 13
    },
    {
     "cell_type": "code",
     "collapsed": false,
     "input": [
      "sum(lengths[1:]) / float(len(lengths[1:]))"
     ],
     "language": "python",
     "metadata": {},
     "outputs": [
      {
       "output_type": "pyout",
       "prompt_number": 14,
       "text": [
        "14953.111111111111"
       ]
      }
     ],
     "prompt_number": 14
    },
    {
     "cell_type": "code",
     "collapsed": false,
     "input": [
      "min(lengths)"
     ],
     "language": "python",
     "metadata": {},
     "outputs": [
      {
       "output_type": "pyout",
       "prompt_number": 15,
       "text": [
        "14896"
       ]
      }
     ],
     "prompt_number": 15
    },
    {
     "cell_type": "code",
     "collapsed": false,
     "input": [
      "import PyJRNN as pyj\n",
      "import pyublas\n",
      "%pylab\n",
      "from PyJRNN.utility import DSDatatype"
     ],
     "language": "python",
     "metadata": {},
     "outputs": [
      {
       "output_type": "stream",
       "stream": "stdout",
       "text": [
        "\n",
        "Welcome to pylab, a matplotlib-based Python environment [backend: TkAgg].\n",
        "For more information, type 'help(pylab)'.\n"
       ]
      }
     ],
     "prompt_number": 16
    },
    {
     "cell_type": "code",
     "collapsed": false,
     "input": [
      "tmpList = jamesdata[1][-14896::16]"
     ],
     "language": "python",
     "metadata": {},
     "outputs": [],
     "prompt_number": 17
    },
    {
     "cell_type": "code",
     "collapsed": false,
     "input": [
      "len(tmpList)"
     ],
     "language": "python",
     "metadata": {},
     "outputs": [
      {
       "output_type": "pyout",
       "prompt_number": 18,
       "text": [
        "931"
       ]
      }
     ],
     "prompt_number": 18
    },
    {
     "cell_type": "code",
     "collapsed": false,
     "input": [
      "14896 / (30*30)"
     ],
     "language": "python",
     "metadata": {},
     "outputs": [
      {
       "output_type": "pyout",
       "prompt_number": 19,
       "text": [
        "16"
       ]
      }
     ],
     "prompt_number": 19
    },
    {
     "cell_type": "code",
     "collapsed": false,
     "input": [
      "def matDoubleFromArray(inMat):\n",
      "    newMat = pyj.types.matDouble()\n",
      "    for vec in inMat:\n",
      "        if isinstance(vec, numpy.float64):\n",
      "            newMat.append(np.array([vec]))\n",
      "        else:\n",
      "            newMat.append(vec)\n",
      "    return newMat"
     ],
     "language": "python",
     "metadata": {},
     "outputs": []
    },
    {
     "cell_type": "code",
     "collapsed": false,
     "input": [
      "def CreateUserDatasets(userData, numFrames):\n",
      "    train1 = pyj.utility.Dataset()\n",
      "    train2 = pyj.utility.Dataset()\n",
      "    train3 = pyj.utility.Dataset()\n",
      "    test1 = pyj.utility.Dataset()\n",
      "    \n",
      "    minSize = min([len(x) for x in userData])\n",
      "    strideSize = minSize / numFrames\n",
      "    def loadDataset(ds, userDataList):\n",
      "        inputs = np.array([item['sensors'] for item in userDataList[-minSize::strideSize]])\n",
      "        outputs = np.array([item['actions'] for item in userDataList[-minSize::strideSize]])\n",
      "        ds.LoadFromMatDoubles(matDoubleFromArray(inputs), matDoubleFromArray(outputs))\n",
      "    \n",
      "    loadDataset(train1, userData[1])\n",
      "    loadDataset(train2, userData[2])\n",
      "    loadDataset(train3, userData[3])\n",
      "    loadDataset(test1, userData[4])\n",
      "    train1.DistData(int(numFrames * 0.8), int(numFrames * 0.2), 0)\n",
      "    train2.DistData(int(numFrames * 0.8), int(numFrames * 0.2), 0)\n",
      "    train3.DistData(int(numFrames * 0.8), int(numFrames * 0.2), 0)\n",
      "    test1.DistData(0,0,numFrames)\n",
      "    \n",
      "    return (train1, train2, train3, test1)"
     ],
     "language": "python",
     "metadata": {},
     "outputs": []
    },
    {
     "cell_type": "code",
     "collapsed": false,
     "input": [
      "(jtrain1, jtrain2, jtrain3, jtest1) = CreateUserDatasets(jamesdata, 900)"
     ],
     "language": "python",
     "metadata": {},
     "outputs": []
    },
    {
     "cell_type": "code",
     "collapsed": false,
     "input": [
      "print type(jtrain1)"
     ],
     "language": "python",
     "metadata": {},
     "outputs": []
    },
    {
     "cell_type": "code",
     "collapsed": false,
     "input": [
      "print jtrain1.numInputs, jtrain1.numOutputs"
     ],
     "language": "python",
     "metadata": {},
     "outputs": []
    },
    {
     "cell_type": "code",
     "collapsed": false,
     "input": [
      "revCC = pyj.trainers.RevCCTrainer(21, 2, 8)"
     ],
     "language": "python",
     "metadata": {},
     "outputs": []
    },
    {
     "cell_type": "code",
     "collapsed": false,
     "input": [
      "revCC.TrainTask(jtrain1, 3000, True)"
     ],
     "language": "python",
     "metadata": {},
     "outputs": []
    },
    {
     "cell_type": "code",
     "collapsed": false,
     "input": [
      "result = revCC.TestOnData(jtest1, DSDatatype.TEST)\n",
      "print result"
     ],
     "language": "python",
     "metadata": {},
     "outputs": []
    },
    {
     "cell_type": "code",
     "collapsed": false,
     "input": [
      "revCC.TrainTask(jtrain2, 3000, True)"
     ],
     "language": "python",
     "metadata": {},
     "outputs": []
    },
    {
     "cell_type": "code",
     "collapsed": false,
     "input": [
      "result2 = revCC.TestOnData(jtest1, DSDatatype.TEST)\n",
      "print result2"
     ],
     "language": "python",
     "metadata": {},
     "outputs": []
    },
    {
     "cell_type": "code",
     "collapsed": false,
     "input": [
      "revCC.TrainTask(jtrain3, 3000, True)"
     ],
     "language": "python",
     "metadata": {},
     "outputs": []
    },
    {
     "cell_type": "code",
     "collapsed": false,
     "input": [
      "result3 = revCC.TestOnData(jtest1, DSDatatype.TEST)\n",
      "print result3"
     ],
     "language": "python",
     "metadata": {},
     "outputs": []
    },
    {
     "cell_type": "code",
     "collapsed": false,
     "input": [
      "def ConsolidatedTrainingTest(dstupple, numRuns, rCC, maxEpochs):\n",
      "    tr1 = dstupple[0]\n",
      "    tr2 = dstupple[1]\n",
      "    tr3 = dstupple[2]\n",
      "    te1 = dstupple[3]\n",
      "    results = []\n",
      "    for i in range(numRuns):\n",
      "        print \"starting run {0}\".format(i)\n",
      "        resDict = {}\n",
      "        rCC.TrainTask(tr1, maxEpochs, True)\n",
      "        resDict['tr1.epochs'] = rCC.net1vals.epochs\n",
      "        resDict['tr1.hiddenLayers'] = rCC.net1vals.numHidLayers\n",
      "        resDict['tr1.testError'] = rCC.TestOnData(te1, DSDatatype.TEST)\n",
      "        print \"Finished Train and Test 1\"\n",
      "        \n",
      "        rCC.TrainTask(tr2, maxEpochs, True)\n",
      "        resDict['tr2.epochs'] = rCC.net1vals.epochs\n",
      "        resDict['tr2.hiddenLayers'] = rCC.net1vals.numHidLayers\n",
      "        resDict['tr2.testError'] = rCC.TestOnData(te1, DSDatatype.TEST)\n",
      "        print \"Finished Train and Test 2\"\n",
      "        \n",
      "        rCC.TrainTask(tr3, maxEpochs, True)\n",
      "        resDict['tr3.epochs'] = rCC.net1vals.epochs\n",
      "        resDict['tr3.hiddenLayers'] = rCC.net1vals.numHidLayers\n",
      "        resDict['tr3.testError'] = rCC.TestOnData(te1, DSDatatype.TEST)\n",
      "        print \"Finished Train and Test 3\"\n",
      "        \n",
      "        print resDict\n",
      "        \n",
      "        results.append(resDict)\n",
      "        rCC.Reset()\n",
      "        tr1.RedistData()\n",
      "        tr2.RedistData()\n",
      "        tr3.RedistData()\n",
      "        te1.RedistData()\n",
      "    \n",
      "    return results"
     ],
     "language": "python",
     "metadata": {},
     "outputs": []
    },
    {
     "cell_type": "code",
     "collapsed": false,
     "input": [
      "revCC.Reset()"
     ],
     "language": "python",
     "metadata": {},
     "outputs": []
    },
    {
     "cell_type": "code",
     "collapsed": false,
     "input": [
      "jamesds = (jtrain1, jtrain2, jtrain3, jtest1)"
     ],
     "language": "python",
     "metadata": {},
     "outputs": []
    },
    {
     "cell_type": "code",
     "collapsed": false,
     "input": [
      "jamesresults = ConsolidatedTrainingTest(jamesds, 1, revCC, 3000)"
     ],
     "language": "python",
     "metadata": {},
     "outputs": []
    },
    {
     "cell_type": "code",
     "collapsed": false,
     "input": [
      "jtrain1.GetSize(DSDatatype.TRAIN)"
     ],
     "language": "python",
     "metadata": {},
     "outputs": []
    }
   ],
   "metadata": {}
  }
 ]
}