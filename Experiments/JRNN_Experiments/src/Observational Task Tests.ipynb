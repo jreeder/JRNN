{
 "metadata": {
  "name": "Observational Task Tests"
 },
 "nbformat": 3,
 "nbformat_minor": 0,
 "worksheets": [
  {
   "cells": [
    {
     "cell_type": "code",
     "collapsed": false,
     "input": [
      "userspath = \"D:\\Users\\John Reeder\\Code\\opennero\\Build\\dist\\Debug\\jrnnexp1\\users\" # For Titan"
     ],
     "language": "python",
     "metadata": {},
     "outputs": [],
     "prompt_number": 1
    },
    {
     "cell_type": "code",
     "collapsed": false,
     "input": [
      "import os"
     ],
     "language": "python",
     "metadata": {},
     "outputs": [],
     "prompt_number": 2
    },
    {
     "cell_type": "code",
     "collapsed": false,
     "input": [
      "def loadScenarioFiles(scenarioPath):\n",
      "    scenariofiles = {}\n",
      "    trainingdir = os.path.join(scenarioPath, \"training\")\n",
      "    historydir = os.path.join(scenarioPath, \"history\")\n",
      "    scenariofiles[\"training\"] = [os.path.join(trainingdir, x) for x in os.listdir(trainingdir)]\n",
      "    scenariofiles[\"history\"] = [os.path.join(historydir, x) for x in os.listdir(historydir)]\n",
      "    return scenariofiles"
     ],
     "language": "python",
     "metadata": {},
     "outputs": [],
     "prompt_number": 3
    },
    {
     "cell_type": "code",
     "collapsed": false,
     "input": [
      "def LoadUserData(username):\n",
      "    global userspath\n",
      "    Scenarios = {}\n",
      "    userP = os.path.join(userspath, username)\n",
      "    userDataP = os.path.join(userP, \"data\")\n",
      "    scenarioList = os.listdir(userDataP)\n",
      "    for scene in scenarioList:\n",
      "        Scenarios[scene] = loadScenarioFiles(os.path.join(userDataP, scene))\n",
      "    \n",
      "    return Scenarios"
     ],
     "language": "python",
     "metadata": {},
     "outputs": [],
     "prompt_number": 4
    },
    {
     "cell_type": "code",
     "collapsed": false,
     "input": [
      "jamesscenarios = LoadUserData('jcginn')"
     ],
     "language": "python",
     "metadata": {},
     "outputs": [],
     "prompt_number": 5
    },
    {
     "cell_type": "code",
     "collapsed": false,
     "input": [
      "yinjiescenarios = LoadUserData('Yinjie')\n",
      "congscenarios = LoadUserData('Cong')"
     ],
     "language": "python",
     "metadata": {},
     "outputs": [],
     "prompt_number": 6
    },
    {
     "cell_type": "code",
     "collapsed": false,
     "input": [
      "jamesscenarios.keys()"
     ],
     "language": "python",
     "metadata": {},
     "outputs": []
    },
    {
     "cell_type": "code",
     "collapsed": false,
     "input": [
      "jamestraining = jamesscenarios['Chase - 13Nov2012223245']['training']"
     ],
     "language": "python",
     "metadata": {},
     "outputs": [],
     "prompt_number": 7
    },
    {
     "cell_type": "code",
     "collapsed": false,
     "input": [
      "jamestraining"
     ],
     "language": "python",
     "metadata": {},
     "outputs": []
    },
    {
     "cell_type": "code",
     "collapsed": false,
     "input": [
      "import re\n",
      "prog = re.compile('eps_(\\d+)')\n",
      "print prog.search(jamestraining[0]).group(1)"
     ],
     "language": "python",
     "metadata": {},
     "outputs": [
      {
       "output_type": "stream",
       "stream": "stdout",
       "text": [
        "1\n"
       ]
      }
     ],
     "prompt_number": 8
    },
    {
     "cell_type": "code",
     "collapsed": false,
     "input": [
      "jamestraining.sort(key=lambda x: int(prog.search(x).group(1)))"
     ],
     "language": "python",
     "metadata": {},
     "outputs": [],
     "prompt_number": 9
    },
    {
     "cell_type": "code",
     "collapsed": false,
     "input": [
      "jamestraining"
     ],
     "language": "python",
     "metadata": {},
     "outputs": []
    },
    {
     "cell_type": "code",
     "collapsed": false,
     "input": [
      "def LoadTrainingData(listOfTrainingFiles):\n",
      "    dataArray = []\n",
      "    for fileName in listOfTrainingFiles:\n",
      "        with open(fileName, 'r') as fileh:\n",
      "            dataArray.append(json.load(fileh))\n",
      "    \n",
      "    return dataArray"
     ],
     "language": "python",
     "metadata": {},
     "outputs": [],
     "prompt_number": 10
    },
    {
     "cell_type": "code",
     "collapsed": false,
     "input": [
      "import json\n",
      "jamesdata = LoadTrainingData(jamestraining)"
     ],
     "language": "python",
     "metadata": {},
     "outputs": [],
     "prompt_number": 11
    },
    {
     "cell_type": "code",
     "collapsed": false,
     "input": [
      "len(jamesdata)"
     ],
     "language": "python",
     "metadata": {},
     "outputs": [
      {
       "output_type": "pyout",
       "prompt_number": 12,
       "text": [
        "10"
       ]
      }
     ],
     "prompt_number": 12
    },
    {
     "cell_type": "code",
     "collapsed": false,
     "input": [
      "lengths = [len(x) for x in jamesdata]"
     ],
     "language": "python",
     "metadata": {},
     "outputs": [],
     "prompt_number": 13
    },
    {
     "cell_type": "code",
     "collapsed": false,
     "input": [
      "sum(lengths[1:]) / float(len(lengths[1:]))"
     ],
     "language": "python",
     "metadata": {},
     "outputs": [
      {
       "output_type": "pyout",
       "prompt_number": 14,
       "text": [
        "14953.111111111111"
       ]
      }
     ],
     "prompt_number": 14
    },
    {
     "cell_type": "code",
     "collapsed": false,
     "input": [
      "min(lengths)"
     ],
     "language": "python",
     "metadata": {},
     "outputs": [
      {
       "output_type": "pyout",
       "prompt_number": 15,
       "text": [
        "14896"
       ]
      }
     ],
     "prompt_number": 15
    },
    {
     "cell_type": "code",
     "collapsed": false,
     "input": [
      "tmp = jamesdata[0][-14890:]"
     ],
     "language": "python",
     "metadata": {},
     "outputs": [],
     "prompt_number": 16
    },
    {
     "cell_type": "code",
     "collapsed": false,
     "input": [
      "len(tmp)"
     ],
     "language": "python",
     "metadata": {},
     "outputs": [
      {
       "output_type": "pyout",
       "prompt_number": 17,
       "text": [
        "14890"
       ]
      }
     ],
     "prompt_number": 17
    },
    {
     "cell_type": "code",
     "collapsed": false,
     "input": [
      "tmp[-14890] == jamesdata[0][-14890]"
     ],
     "language": "python",
     "metadata": {},
     "outputs": [
      {
       "output_type": "pyout",
       "prompt_number": 18,
       "text": [
        "True"
       ]
      }
     ],
     "prompt_number": 18
    },
    {
     "cell_type": "code",
     "collapsed": false,
     "input": [
      "import PyJRNN as pyj\n",
      "import pyublas\n",
      "%pylab\n",
      "from PyJRNN.utility import DSDatatype"
     ],
     "language": "python",
     "metadata": {},
     "outputs": [
      {
       "output_type": "stream",
       "stream": "stdout",
       "text": [
        "\n",
        "Welcome to pylab, a matplotlib-based Python environment [backend: TkAgg].\n",
        "For more information, type 'help(pylab)'.\n"
       ]
      }
     ],
     "prompt_number": 19
    },
    {
     "cell_type": "code",
     "collapsed": false,
     "input": [
      "def matDoubleFromArray(inMat):\n",
      "    newMat = pyj.types.matDouble()\n",
      "    for vec in inMat:\n",
      "        if isinstance(vec, numpy.float64):\n",
      "            newMat.append(np.array([vec]))\n",
      "        else:\n",
      "            newMat.append(vec)\n",
      "    return newMat"
     ],
     "language": "python",
     "metadata": {},
     "outputs": [],
     "prompt_number": 20
    },
    {
     "cell_type": "code",
     "collapsed": false,
     "input": [
      "def CreateUserDatasets(userData):\n",
      "    train1 = pyj.utility.Dataset()\n",
      "    train2 = pyj.utility.Dataset()\n",
      "    train3 = pyj.utility.Dataset()\n",
      "    test1 = pyj.utility.Dataset()\n",
      "    \n",
      "    minSize = min([len(x) for x in userData])\n",
      "    def loadDataset(ds, userDataList):\n",
      "        inputs = np.array([item['sensors'] for item in userDataList])\n",
      "        outputs = np.array([item['actions'] for item in userDataList])\n",
      "        ds.LoadFromMatDoubles(matDoubleFromArray(inputs), matDoubleFromArray(outputs))\n",
      "    \n",
      "    loadDataset(train1, userData[1])\n",
      "    loadDataset(train2, userData[2])\n",
      "    loadDataset(train3, userData[3])\n",
      "    loadDataset(test1, userData[4])\n",
      "    train1.DistData(1000, 1000, 0)\n",
      "    train2.DistData(1000, 1000, 0)\n",
      "    train3.DistData(1000, 1000, 0)\n",
      "    test1.DistData(0,0,1000)\n",
      "    \n",
      "    return (train1, train2, train3, test1)"
     ],
     "language": "python",
     "metadata": {},
     "outputs": [],
     "prompt_number": 21
    },
    {
     "cell_type": "code",
     "collapsed": false,
     "input": [
      "(jtrain1, jtrain2, jtrain3, jtest1) = CreateUserDatasets(jamesdata)"
     ],
     "language": "python",
     "metadata": {},
     "outputs": [],
     "prompt_number": 22
    },
    {
     "cell_type": "code",
     "collapsed": false,
     "input": [
      "print type(jtrain1)"
     ],
     "language": "python",
     "metadata": {},
     "outputs": [
      {
       "output_type": "stream",
       "stream": "stdout",
       "text": [
        "<class 'PyJRNN.utility.Dataset'>\n"
       ]
      }
     ],
     "prompt_number": 23
    },
    {
     "cell_type": "code",
     "collapsed": false,
     "input": [
      "print jtrain1.numInputs, jtrain1.numOutputs"
     ],
     "language": "python",
     "metadata": {},
     "outputs": [
      {
       "output_type": "stream",
       "stream": "stdout",
       "text": [
        "21 2\n"
       ]
      }
     ],
     "prompt_number": 25
    },
    {
     "cell_type": "code",
     "collapsed": false,
     "input": [
      "revCC = pyj.trainers.RevCCTrainer(21, 2, 8)"
     ],
     "language": "python",
     "metadata": {},
     "outputs": [],
     "prompt_number": 27
    },
    {
     "cell_type": "code",
     "collapsed": false,
     "input": [
      "revCC.TrainTask(train1, 3000, True)"
     ],
     "language": "python",
     "metadata": {},
     "outputs": [
      {
       "ename": "NameError",
       "evalue": "name 'train1' is not defined",
       "output_type": "pyerr",
       "traceback": [
        "\u001b[1;31m---------------------------------------------------------------------------\u001b[0m\n\u001b[1;31mNameError\u001b[0m                                 Traceback (most recent call last)",
        "\u001b[1;32m<ipython-input-28-e1d7e2d4d7e7>\u001b[0m in \u001b[0;36m<module>\u001b[1;34m()\u001b[0m\n\u001b[1;32m----> 1\u001b[1;33m \u001b[0mrevCC\u001b[0m\u001b[1;33m.\u001b[0m\u001b[0mTrainTask\u001b[0m\u001b[1;33m(\u001b[0m\u001b[0mtrain1\u001b[0m\u001b[1;33m,\u001b[0m \u001b[1;36m3000\u001b[0m\u001b[1;33m,\u001b[0m \u001b[0mTrue\u001b[0m\u001b[1;33m)\u001b[0m\u001b[1;33m\u001b[0m\u001b[0m\n\u001b[0m",
        "\u001b[1;31mNameError\u001b[0m: name 'train1' is not defined"
       ]
      }
     ],
     "prompt_number": 28
    },
    {
     "cell_type": "code",
     "collapsed": false,
     "input": [],
     "language": "python",
     "metadata": {},
     "outputs": []
    }
   ],
   "metadata": {}
  }
 ]
}