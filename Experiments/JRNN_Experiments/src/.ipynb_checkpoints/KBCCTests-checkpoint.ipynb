{
 "metadata": {
  "name": "KBCCTests"
 },
 "nbformat": 3,
 "nbformat_minor": 0,
 "worksheets": [
  {
   "cells": [
    {
     "cell_type": "code",
     "collapsed": false,
     "input": [
      "import PyJRNN\n",
      "import pyublas\n",
      "import scipy.io\n",
      "import ObsUtility\n",
      "import numpy\n",
      "import os\n",
      "import re\n",
      "from config import LoadTabbedDataFiles"
     ],
     "language": "python",
     "metadata": {},
     "outputs": [],
     "prompt_number": 68
    },
    {
     "cell_type": "code",
     "collapsed": false,
     "input": [
      "from collections import defaultdict"
     ],
     "language": "python",
     "metadata": {},
     "outputs": [],
     "prompt_number": 2
    },
    {
     "cell_type": "code",
     "collapsed": false,
     "input": [
      "networkpath = 'Notebook Data/networks/'"
     ],
     "language": "python",
     "metadata": {},
     "outputs": [],
     "prompt_number": 3
    },
    {
     "cell_type": "code",
     "collapsed": false,
     "input": [
      "%pylab"
     ],
     "language": "python",
     "metadata": {},
     "outputs": [
      {
       "output_type": "stream",
       "stream": "stdout",
       "text": [
        "\n",
        "Welcome to pylab, a matplotlib-based Python environment [backend: module://IPython.kernel.zmq.pylab.backend_inline].\n",
        "For more information, type 'help(pylab)'.\n"
       ]
      }
     ],
     "prompt_number": 4
    },
    {
     "cell_type": "code",
     "collapsed": false,
     "input": [
      "from config import datapath\n",
      "datapath"
     ],
     "language": "python",
     "metadata": {},
     "outputs": [
      {
       "metadata": {},
       "output_type": "pyout",
       "prompt_number": 50,
       "text": [
        "'Z:/Home/Experiments/Data/Tabbed Data/New Binary Tasks/'"
       ]
      }
     ],
     "prompt_number": 50
    },
    {
     "cell_type": "code",
     "collapsed": false,
     "input": [
      "testfiles=os.listdir(datapath)\n",
      "testfiles[0]"
     ],
     "language": "python",
     "metadata": {},
     "outputs": [
      {
       "metadata": {},
       "output_type": "pyout",
       "prompt_number": 53,
       "text": [
        "'band-task5.txt'"
       ]
      }
     ],
     "prompt_number": 53
    },
    {
     "cell_type": "code",
     "collapsed": false,
     "input": [
      "re.findall('(.+)-(task(\\d))\\.', testfiles[0])"
     ],
     "language": "python",
     "metadata": {},
     "outputs": [
      {
       "metadata": {},
       "output_type": "pyout",
       "prompt_number": 58,
       "text": [
        "[('band', 'task5', '5')]"
       ]
      }
     ],
     "prompt_number": 58
    },
    {
     "cell_type": "code",
     "collapsed": false,
     "input": [
      "re.findall('-(task\\d)\\.', testfiles[0])[0]"
     ],
     "language": "python",
     "metadata": {},
     "outputs": [
      {
       "metadata": {},
       "output_type": "pyout",
       "prompt_number": 62,
       "text": [
        "'task5'"
       ]
      }
     ],
     "prompt_number": 62
    },
    {
     "cell_type": "code",
     "collapsed": false,
     "input": [
      "def sortTasks(string):\n",
      "    sortSearch = re.compile('(.+)-(task(\\d))\\.')\n",
      "    results = sortSearch.findall(string)\n",
      "    return (results[0][0], int(results[0][2]))"
     ],
     "language": "python",
     "metadata": {},
     "outputs": [],
     "prompt_number": 59
    },
    {
     "cell_type": "code",
     "collapsed": false,
     "input": [
      "sorted(testfiles, key=sortTasks)"
     ],
     "language": "python",
     "metadata": {},
     "outputs": [
      {
       "metadata": {},
       "output_type": "pyout",
       "prompt_number": 60,
       "text": [
        "['CirInSq-task1.txt',\n",
        " 'CirInSq-task2.txt',\n",
        " 'CirInSq-task3.txt',\n",
        " 'CirInSq-task4.txt',\n",
        " 'CirInSq-task5.txt',\n",
        " 'CirInSq-task6.txt',\n",
        " 'CirInSq-task7.txt',\n",
        " 'CirInSq-task8.txt',\n",
        " 'band-task1.txt',\n",
        " 'band-task2.txt',\n",
        " 'band-task3.txt',\n",
        " 'band-task4.txt',\n",
        " 'band-task5.txt',\n",
        " 'band-task6.txt',\n",
        " 'band-task7.txt',\n",
        " 'band-task8.txt',\n",
        " 'linear-task1.txt',\n",
        " 'linear-task2.txt',\n",
        " 'linear-task3.txt',\n",
        " 'linear-task4.txt',\n",
        " 'linear-task5.txt',\n",
        " 'linear-task6.txt']"
       ]
      }
     ],
     "prompt_number": 60
    },
    {
     "cell_type": "raw",
     "metadata": {},
     "source": [
      "archiver = PyJRNN.utility.JSONArchiver()"
     ]
    },
    {
     "cell_type": "raw",
     "metadata": {},
     "source": [
      "kbccnet = archiver.LoadFromFile(os.path.join(networkpath, 'kbcc-outBox1.net'))"
     ]
    },
    {
     "cell_type": "raw",
     "metadata": {},
     "source": [
      "ds = scipy.io.loadmat(\"Notebook Data/datasets/bandcross.mat\")\n",
      "\n",
      "# <codecell>"
     ]
    },
    {
     "cell_type": "raw",
     "metadata": {},
     "source": [
      "cds = PyJRNN.utility.CSMTLDataset()\n",
      "cds.isConceptData = False"
     ]
    },
    {
     "cell_type": "raw",
     "metadata": {},
     "source": [
      "# <codecell>\n",
      "\n",
      "inputs = np.ascontiguousarray(ds[\"inputs\"])\n",
      "\n",
      "# <codecell>\n",
      "\n",
      "outNames = ['outBox1', 'outBox2', 'outBox3', 'outBox12', 'outBox13', 'outBox123']\n",
      "\n",
      "# <codecell>\n",
      "\n",
      "for outName in outNames:\n",
      "    cds.AddMatDoublesToTask(ObsUtility.matDoubleFromArray(inputs), ObsUtility.matDoubleFromArray(np.ascontiguousarray(ds[outName])), outName)"
     ]
    },
    {
     "cell_type": "raw",
     "metadata": {},
     "source": [
      "def LoadBandCross():\n",
      "    ds = scipy.io.loadmat(\"Notebook Data/datasets/bandcross.mat\")\n",
      "    cds = PyJRNN.utility.CSMTLDataset()\n",
      "    cds.isConceptData = False\n",
      "    inputs = numpy.ascontiguousarray(ds[\"inputs\"])\n",
      "    outNames = ['outBox1', 'outBox2', 'outBox3', 'outBox12', 'outBox13', 'outBox123']\n",
      "    for outName in outNames:\n",
      "        cds.AddMatDoublesToTask(ObsUtility.matDoubleFromArray(inputs), ObsUtility.matDoubleFromArray(numpy.ascontiguousarray(ds[outName])), outName)\n",
      "    \n",
      "    cds.DistData(200,200,200)\n",
      "    \n",
      "    return cds"
     ]
    },
    {
     "cell_type": "raw",
     "metadata": {},
     "source": [
      "cds = LoadBandCross(True)"
     ]
    },
    {
     "cell_type": "raw",
     "metadata": {},
     "source": [
      "# <codecell>\n",
      "\n",
      "cds.GetTaskNames()\n",
      "\n",
      "# <codecell>\n",
      "\n",
      "for name in cds.GetTaskNames():\n",
      "    print name\n",
      "\n",
      "# <codecell>"
     ]
    },
    {
     "cell_type": "raw",
     "metadata": {},
     "source": [
      "def TestKBCC(cds, firsttask, secondtask, thirdtask):\n",
      "    tmpsview = PyJRNN.types.strings()\n",
      "    tmpsview.append(firsttask)\n",
      "    cds.View = tmpsview\n",
      "    cds.DistData(200,200,200)\n",
      "    ds1 = cds.SpawnDS()\n",
      "    del tmpsview[:]\n",
      "    tmpsview.append(secondtask)\n",
      "    cds.View = tmpsview\n",
      "    cds.RedistData()\n",
      "    ds2 = cds.SpawnDS()\n",
      "    del tmpsview[:]\n",
      "    tmpsview.append(thirdtask)\n",
      "    cds.View = tmpsview\n",
      "    cds.RedistData()\n",
      "    ds3 = cds.SpawnDS()\n",
      "    \n",
      "    #ccnet1 = PyJRNN.networks.CCNetwork.Create()\n",
      "    #ccnet2 = PyJRNN.networks.CCNetwork.Create()\n",
      "    kbccnet1 = PyJRNN.networks.KBCCNetwork.Create()\n",
      "    \n",
      "    #ccnet1.Build(ds1.numInputs, ds1.numOutputs, False, True, False)\n",
      "    #ccnet2.Build(ds2.numInputs, ds2.numOutputs, False, True, False)\n",
      "    #cct1 = PyJRNN.trainers.CCTrainer(ccnet1, ds1, 8)\n",
      "    #cct2 = PyJRNN.trainers.CCTrainer(ccnet2, ds2, 8)\n",
      "    \n",
      "    kbccnet1.Build(ds3.numInputs, ds3.numOutputs, False, True, False)\n",
      "    kbcct1 = PyJRNN.trainers.KBCCTrainer(kbccnet1, ds3, 4)\n",
      "\n",
      "    archiver = PyJRNN.utility.JSONArchiver()\n",
      "    \n",
      "    ccnet1 = archiver.LoadFromFile(\"ccnet1.net\")\n",
      "    ccnet2 = archiver.LoadFromFile(\"ccnet2.net\")\n",
      "    \n",
      "    kbcct1.AddSubNet(ccnet1)\n",
      "    kbcct1.AddSubNet(ccnet2)\n",
      "    kbcct1.numCopies = 1\n",
      "    \n",
      "    #cct1.TrainToValConv(2000)\n",
      "    #cct2.TrainToValConv(2000)\n",
      "    \n",
      "    kbcct1.TrainToValConv(2000)\n",
      "\n",
      "    res = kbcct1.TestWiClass(PyJRNN.utility.TEST)\n",
      "    print ObsUtility.ConvHashedDM(res)\n",
      "    print \"Done\"\n",
      "# <codecell>"
     ]
    },
    {
     "cell_type": "raw",
     "metadata": {},
     "source": [
      "TestKBCC(cds, \"outBox1\", \"outBox2\", \"outBox12\")"
     ]
    },
    {
     "cell_type": "raw",
     "metadata": {},
     "source": [
      "viewstring = PyJRNN.types.strings()\n",
      "for name in outNames:\n",
      "    viewstring.append(name)\n",
      "    \n",
      "cds.View = viewstring"
     ]
    },
    {
     "cell_type": "raw",
     "metadata": {},
     "source": [
      "cds.DistData(200,200,200)"
     ]
    },
    {
     "cell_type": "code",
     "collapsed": false,
     "input": [
      "dsname = 'band'\n",
      "filelist = [x for x in sorted(os.listdir(datapath), key=sortTasks) if dsname in x]\n",
      "tasks = {re.findall('-(task\\d)\\.', x)[0]: x for x in filelist}\n",
      "tasks"
     ],
     "language": "python",
     "metadata": {},
     "outputs": [
      {
       "metadata": {},
       "output_type": "pyout",
       "prompt_number": 65,
       "text": [
        "{'task1': 'band-task1.txt',\n",
        " 'task2': 'band-task2.txt',\n",
        " 'task3': 'band-task3.txt',\n",
        " 'task4': 'band-task4.txt',\n",
        " 'task5': 'band-task5.txt',\n",
        " 'task6': 'band-task6.txt',\n",
        " 'task7': 'band-task7.txt',\n",
        " 'task8': 'band-task8.txt'}"
       ]
      }
     ],
     "prompt_number": 65
    },
    {
     "cell_type": "heading",
     "level": 1,
     "metadata": {},
     "source": [
      "Create Networks and Generate Data"
     ]
    },
    {
     "cell_type": "code",
     "collapsed": false,
     "input": [
      "archiver = PyJRNN.utility.JSONArchiver()"
     ],
     "language": "python",
     "metadata": {},
     "outputs": []
    },
    {
     "cell_type": "code",
     "collapsed": false,
     "input": [
      "for name in outNames:\n",
      "    ds = cds.SpawnDS()\n",
      "    tmpstrings = PyJRNN.types.strings()\n",
      "    tmpstrings.append(name)\n",
      "    ds.DistSubview(tmpstrings)\n",
      "    ccnet = PyJRNN.networks.CCNetwork.Create()\n",
      "    ccnet.Build(ds.numInputs, ds.numOutputs,  False, True, False)\n",
      "    cct = PyJRNN.trainers.CCTrainer(ccnet, ds, 8)\n",
      "    for index in range(5):\n",
      "        cct.TrainToValConv(3000)\n",
      "        res = ObsUtility.ConvHashedDM(cct.TestWiClass(PyJRNN.utility.TEST))\n",
      "        err = res['task-0']\n",
      "        archiver.SaveToFile(ccnet, \"{0}-{1}.net\".format(name, err))\n",
      "        cct.Reset()\n",
      "    print name + \" saved to file.\""
     ],
     "language": "python",
     "metadata": {},
     "outputs": []
    },
    {
     "cell_type": "code",
     "collapsed": false,
     "input": [
      "import os"
     ],
     "language": "python",
     "metadata": {},
     "outputs": []
    },
    {
     "cell_type": "code",
     "collapsed": false,
     "input": [
      "genData = {}\n",
      "for name in outNames:\n",
      "    filename = [x for x in os.listdir(os.curdir) if name in x][0]\n",
      "    ccnet = archiver.LoadFromFile(filename)\n",
      "    ds = cds.SpawnDS()\n",
      "    tmpstrings = PyJRNN.types.strings()\n",
      "    tmpstrings.append(name)\n",
      "    ds.DistSubview(tmpstrings, 1000, 0, 0)\n",
      "    inputs = ds.GetInputs(PyJRNN.utility.TRAIN)\n",
      "    outputs = PyJRNN.types.matDouble()\n",
      "    for inVec in inputs:\n",
      "        ccnet.Activate(inVec)\n",
      "        outputs.append(ccnet.GetOutputs())\n",
      "    \n",
      "    genData[name] = (inputs, outputs)"
     ],
     "language": "python",
     "metadata": {},
     "outputs": []
    },
    {
     "cell_type": "code",
     "collapsed": false,
     "input": [
      "plotGenData = defaultdict(dict)\n",
      "for key in genData.iterkeys():\n",
      "    plotGenData[key]['inputs'] = np.array([x for x in genData[key][0]])\n",
      "    plotGenData[key]['outputs'] = np.array([x for x in genData[key][1]])"
     ],
     "language": "python",
     "metadata": {},
     "outputs": []
    },
    {
     "cell_type": "code",
     "collapsed": false,
     "input": [
      "colors = ['b' if x > 0.5 else 'r' for x in plotGenData['outBox1']['outputs'][:,0]]"
     ],
     "language": "python",
     "metadata": {},
     "outputs": []
    },
    {
     "cell_type": "code",
     "collapsed": false,
     "input": [
      "for key in plotGenData.iterkeys():\n",
      "    fig = figure()\n",
      "    plt.scatter(plotGenData[key]['inputs'][:,0], plotGenData[key]['inputs'][:,1], c=['b' if x > 0.5 else 'r' for x in plotGenData[key]['outputs'][:,0]])\n",
      "    fig.suptitle(key)"
     ],
     "language": "python",
     "metadata": {},
     "outputs": []
    },
    {
     "cell_type": "heading",
     "level": 1,
     "metadata": {},
     "source": [
      "Worker Functions"
     ]
    },
    {
     "cell_type": "code",
     "collapsed": false,
     "input": [
      "def LoadBandCross(shift = False, view=[]):\n",
      "    ds = scipy.io.loadmat(\"Notebook Data/datasets/bandcross.mat\")\n",
      "    cds = PyJRNN.utility.CSMTLDataset()\n",
      "    cds.isConceptData = False\n",
      "    inputs = numpy.ascontiguousarray(ds[\"inputs\"])\n",
      "    outNames = None\n",
      "    if shift:\n",
      "        inputs = inputs - 0.5\n",
      "    if len(view) == 0:\n",
      "        outNames = ['outBox1', 'outBox2', 'outBox3', 'outBox12', 'outBox13', 'outBox123']\n",
      "    else:\n",
      "        outNames = view\n",
      "        \n",
      "    for outName in outNames:\n",
      "        outputs = numpy.ascontiguousarray(ds[outName])\n",
      "        if shift:\n",
      "            outputs = outputs - 0.5\n",
      "        cds.AddMatDoublesToTask(ObsUtility.matDoubleFromArray(inputs), ObsUtility.matDoubleFromArray(numpy.ascontiguousarray(ds[outName])), outName)\n",
      "    \n",
      "    inView = PyJRNN.types.strings()\n",
      "    for name in outNames:\n",
      "        inView.append(name)\n",
      "    \n",
      "    cds.View = inView\n",
      "    \n",
      "    cds.DistData(200,200,200)\n",
      "    \n",
      "    return cds"
     ],
     "language": "python",
     "metadata": {},
     "outputs": [],
     "prompt_number": 5
    },
    {
     "cell_type": "code",
     "collapsed": false,
     "input": [
      "def sortTasks(string):\n",
      "    sortSearch = re.compile('(.+)-(task(\\d))\\.')\n",
      "    results = sortSearch.findall(string)\n",
      "    return (results[0][0], int(results[0][2]))"
     ],
     "language": "python",
     "metadata": {},
     "outputs": [],
     "prompt_number": 79
    },
    {
     "cell_type": "code",
     "collapsed": false,
     "input": [
      "def LoadTabbedDS(dsname, view=[], numIn=2, numOut=1, numTrain=200, numVal=200, numTest=200):\n",
      "    global datapath\n",
      "    cds = PyJRNN.utility.CSMTLDataset()\n",
      "    cds.isConceptData = True\n",
      "    \n",
      "    filelist = [x for x in sorted(os.listdir(datapath), key=sortTasks) if dsname in x]\n",
      "    \n",
      "    tasks = {re.findall('-(task\\d)\\.', x)[0]: x for x in filelist}\n",
      "    \n",
      "    if len(view) == 0:\n",
      "        view = [re.findall('-(task\\d)\\.', x)[0] for x in filelist]\n",
      "    \n",
      "    for task in view:\n",
      "        (inputs, outputs) = LoadTabbedDataFiles(numIn, numOut, os.path.join(datapath, tasks[task]))\n",
      "        cds.AddMatDoublesToTask(ObsUtility.matDoubleFromArray(inputs), ObsUtility.matDoubleFromArray(outputs),task)\n",
      "        \n",
      "    inView = PyJRNN.types.strings()\n",
      "    for name in view:\n",
      "        inView.append(name)\n",
      "        \n",
      "    cds.View = inView\n",
      "    \n",
      "    cds.DistData(numTrain, numVal, numTest)\n",
      "    \n",
      "    return cds"
     ],
     "language": "python",
     "metadata": {},
     "outputs": [],
     "prompt_number": 66
    },
    {
     "cell_type": "code",
     "collapsed": false,
     "input": [
      "def TestWiClass(net, dataset, dstype):\n",
      "    inputs = dataset.GetInputs(dstype)\n",
      "    outputs = dataset.GetOutputs(dstype)\n",
      "    numInCorrect = 0\n",
      "    totalItems = len(inputs)\n",
      "    numTasks = len(outputs[0])\n",
      "    taskErrs = defaultdict(int)\n",
      "    taskErrorRate = {}\n",
      "    for (inputIt, outputIt) in zip(inputs, outputs):\n",
      "        net.Activate(inputIt)\n",
      "        netout = net.GetOutputs()\n",
      "        error = outputIt - netout\n",
      "        for i in range(numTasks):\n",
      "            name = \"task-{0}\".format(i)\n",
      "            err = error[i]\n",
      "            if abs(err) > 0.5:\n",
      "                taskErrs[name] += 1\n",
      "    \n",
      "    for i in range(numTasks):\n",
      "        name = \"task-{0}\".format(i)\n",
      "        taskErrorRate[name] = taskErrs[name] / (totalItems * 1.0)\n",
      "    return taskErrorRate"
     ],
     "language": "python",
     "metadata": {},
     "outputs": [],
     "prompt_number": 6
    },
    {
     "cell_type": "code",
     "collapsed": false,
     "input": [
      "def SameDataTest(dsname, useVal = True, shift = False):\n",
      "    cds = LoadBandCross(shift)\n",
      "    tmpsview = PyJRNN.types.strings()\n",
      "    tmpsview.append(dsname)\n",
      "    cds.DistSubview(tmpsview)\n",
      "    ds = cds.SpawnDS()\n",
      "    kbcc = PyJRNN.networks.KBCCNetwork.Create()\n",
      "    outNodeType = PyJRNN.utility.ActType.ASIGMOID\n",
      "    if shift:\n",
      "        outNodeType = PyJRNN.utility.ActType.SIGMOID\n",
      "    kbcc.Build(ds.numInputs, ds.numOutputs, False, True, True, outNodeType)\n",
      "    kbcct = PyJRNN.trainers.KBCCTrainer(kbcc, ds, 8)\n",
      "    kbcct.parms.errorMeasure = PyJRNN.trainers.BITS\n",
      "    kbcct.useHoldBestCand = True\n",
      "    filename = \"\"\n",
      "    varString = \"uVal{0}-uSh{1}\".format(useVal, shift)\n",
      "    filename = sorted([x for x in os.listdir(networkpath) if dsname+'-' in x and varString in x], key=sortkey)[0]\n",
      "    archiver = PyJRNN.utility.JSONArchiver()\n",
      "    ccnet = archiver.LoadFromFile(os.path.join(networkpath, filename))\n",
      "    kbcct.AddSubNet(ccnet)\n",
      "    kbcct.numCopies = 2\n",
      "    kbcct.TrainToConvergence(3000, useVal)\n",
      "    #result = ObsUtility.ConvHashedDM(kbcct.TestWiClass(PyJRNN.utility.TEST))\n",
      "    result = TestWiClass(kbcc, cds, PyJRNN.utility.TEST)\n",
      "    epochs = kbcct.Epochs\n",
      "    numHid = kbcct.NumHidLayers\n",
      "    mseRec = kbcct.GetMSERec()\n",
      "    retVal = (result, epochs, numHid, [x for x in mseRec])\n",
      "    return retVal"
     ],
     "language": "python",
     "metadata": {},
     "outputs": [],
     "prompt_number": 7
    },
    {
     "cell_type": "code",
     "collapsed": false,
     "input": [
      "def SingleDataTest(dsname, archive=True, count = 0, useVal = True, shift = False):\n",
      "    cds = LoadBandCross(shift)\n",
      "    tmpsview = PyJRNN.types.strings()\n",
      "    tmpsview.append(dsname)\n",
      "    cds.DistSubview(tmpsview)\n",
      "    ds = cds.SpawnDS()\n",
      "    cc = PyJRNN.networks.CCNetwork.Create()\n",
      "    useSDCC = True\n",
      "    useVaryAct = True\n",
      "    outNodeType = PyJRNN.utility.ActType.ASIGMOID\n",
      "    if shift:\n",
      "        outNodeType = PyJRNN.utility.ActType.SIGMOID\n",
      "    cc.Build(ds.numInputs, ds.numOutputs, False, useSDCC, useVaryAct, outNodeType)\n",
      "    cct = PyJRNN.trainers.CCTrainer(cc, ds, 8)\n",
      "    cct.parms.errorMeasure = PyJRNN.trainers.BITS\n",
      "    cct.TrainToConvergence(3000, useVal)\n",
      "    #result = ObsUtility.ConvHashedDM(cct.TestWiClass(PyJRNN.utility.TEST))\n",
      "    result = TestWiClass(cc, cds, PyJRNN.utility.TEST)\n",
      "    epochs = cct.Epochs\n",
      "    numHid = cct.NumHidLayers\n",
      "    mseRec = cct.GetMSERec()\n",
      "    retVal = (result, epochs, numHid, [x for x in mseRec])\n",
      "    if archive:\n",
      "        archiver = PyJRNN.utility.JSONArchiver()\n",
      "        err = result['task-0']\n",
      "        archiver.SaveToFile(cc, os.path.join(networkpath, \"{0}-{1}-uSD{2}-uVA{3}-uVal{5}-uSh{6}-{4}.net\".format(dsname, err, useSDCC, useVaryAct, count, useVal, shift)))\n",
      "    return retVal"
     ],
     "language": "python",
     "metadata": {},
     "outputs": [],
     "prompt_number": 8
    },
    {
     "cell_type": "code",
     "collapsed": false,
     "input": [
      "def SingleDataTestRevTabbed(dsname, view=[], subview=[], archive=True, count = 0, useVal = True, useRev=True, numRev=2, bufferSize=0):\n",
      "    cds = LoadTabbedDS(dsname, view)\n",
      "    if len(view) == 0:\n",
      "        view = [x for x in cds.View]\n",
      "    if len(subview) == 0:\n",
      "        subview = view\n",
      "    tmpsview = PyJRNN.types.strings()\n",
      "    for task in subview:\n",
      "        tmpsview.append(task)\n",
      "    cds.DistSubview(tmpsview)\n",
      "    ds = cds.SpawnDS()\n",
      "    #cc = PyJRNN.networks.CCNetwork.Create()\n",
      "    useSDCC = True\n",
      "    useVaryAct = True\n",
      "    outNodeType = PyJRNN.utility.ActType.ASIGMOID\n",
      "    #if shift:\n",
      "    #    outNodeType = PyJRNN.utility.ActType.SIGMOID\n",
      "    #cc.Build(ds.numInputs, ds.numOutputs, False, useSDCC, useVaryAct, outNodeType)\n",
      "    cct = None\n",
      "    netType = 'revcc' if useRev else 'kbcc'\n",
      "    \n",
      "    if useRev:\n",
      "        cct = PyJRNN.trainers.RevCCTrainer(ds.numInputs, ds.numOutputs, 8, outNodeType, outNodeType)\n",
      "    else:\n",
      "        cct = PyJRNN.trainers.DualKBCCTrainer(ds.numInputs, ds.numOutputs, 8, outNodeType)\n",
      "    \n",
      "    cct.parms.errorMeasure = PyJRNN.trainers.BITS\n",
      "    \n",
      "    cct.SetSDCCandVaryActFunc(useSDCC, useVaryAct)\n",
      "    cct.revparams.numRev = numRev if useRev else 1\n",
      "    cct.revparams.bufferSize = bufferSize if useRev else 0\n",
      "    \n",
      "    cct.TrainTask(ds, 3000, useVal)\n",
      "    #cct.TrainToConvergence(3000, useVal)\n",
      "    #result = ObsUtility.ConvHashedDM(cct.TestWiClass(PyJRNN.utility.TEST))\n",
      "    result = TestWiClass(cct.net1, ds, PyJRNN.utility.TEST)\n",
      "    epochs = cct.Epochs\n",
      "    numHid = cct.NumHidLayers\n",
      "    mseRec = cct.GetMSERec()\n",
      "    retVal = (result, epochs, numHid, [x for x in mseRec])\n",
      "    if archive:\n",
      "        archiver = PyJRNN.utility.JSONArchiver()\n",
      "        err = result['task-0']\n",
      "        outdsname = \"{}-ve{}-sv{}\".format(dsname, ''.join(view), ''.join(subview))\n",
      "        archiver.SaveToFile(cct.net1, os.path.join(networkpath, \"{0}-{1}-uSD{2}-uVA{3}-uVal{5}-{4}.{6}\".format(outdsname, err, useSDCC, useVaryAct, count, useVal, netType)))\n",
      "    return retVal"
     ],
     "language": "python",
     "metadata": {},
     "outputs": [],
     "prompt_number": 76
    },
    {
     "cell_type": "code",
     "collapsed": false,
     "input": [
      "def SingleDataTestRev(dsname, archive=True, count = 0, useVal = True, shift = False, useRev=True, numRev=2, bufferSize=0):\n",
      "    cds = LoadBandCross(shift)\n",
      "    tmpsview = PyJRNN.types.strings()\n",
      "    tmpsview.append(dsname)\n",
      "    cds.DistSubview(tmpsview)\n",
      "    ds = cds.SpawnDS()\n",
      "    #cc = PyJRNN.networks.CCNetwork.Create()\n",
      "    useSDCC = True\n",
      "    useVaryAct = True\n",
      "    outNodeType = PyJRNN.utility.ActType.ASIGMOID\n",
      "    if shift:\n",
      "        outNodeType = PyJRNN.utility.ActType.SIGMOID\n",
      "    #cc.Build(ds.numInputs, ds.numOutputs, False, useSDCC, useVaryAct, outNodeType)\n",
      "    cct = None\n",
      "    netType = 'revcc' if useRev else 'kbcc'\n",
      "    \n",
      "    if useRev:\n",
      "        cct = PyJRNN.trainers.RevCCTrainer(ds.numInputs, ds.numOutputs, 8, outNodeType, outNodeType)\n",
      "    else:\n",
      "        cct = PyJRNN.trainers.DualKBCCTrainer(ds.numInputs, ds.numOutputs, 8, outNodeType)\n",
      "    \n",
      "    cct.parms.errorMeasure = PyJRNN.trainers.BITS\n",
      "    \n",
      "    cct.SetSDCCandVaryActFunc(useSDCC, useVaryAct)\n",
      "    cct.revparams.numRev = numRev if useRev else 1\n",
      "    cct.revparams.bufferSize = bufferSize if useRev else 0\n",
      "    \n",
      "    cct.TrainTask(ds, 3000, useVal)\n",
      "    #cct.TrainToConvergence(3000, useVal)\n",
      "    #result = ObsUtility.ConvHashedDM(cct.TestWiClass(PyJRNN.utility.TEST))\n",
      "    result = TestWiClass(cct.net1, ds, PyJRNN.utility.TEST)\n",
      "    epochs = cct.Epochs\n",
      "    numHid = cct.NumHidLayers\n",
      "    mseRec = cct.GetMSERec()\n",
      "    retVal = (result, epochs, numHid, [x for x in mseRec])\n",
      "    if archive:\n",
      "        archiver = PyJRNN.utility.JSONArchiver()\n",
      "        err = result['task-0']\n",
      "        archiver.SaveToFile(cct.net1, os.path.join(networkpath, \"{0}-{1}-uSD{2}-uVA{3}-uVal{5}-uSh{6}-{4}.{7}\".format(dsname, err, useSDCC, useVaryAct, count, useVal, shift, netType)))\n",
      "    return retVal"
     ],
     "language": "python",
     "metadata": {},
     "outputs": []
    },
    {
     "cell_type": "code",
     "collapsed": false,
     "input": [
      "def CombineDataTest(dsname1, dsname2, dsname12, useVal = True, shift=False):\n",
      "    cds = LoadBandCross(shift)\n",
      "    tmpsview = PyJRNN.types.strings()\n",
      "    tmpsview.append(dsname12)\n",
      "    cds.DistSubview(tmpsview)\n",
      "    ds = cds.SpawnDS()\n",
      "    filename1 = \"\"\n",
      "    filename2 = \"\"\n",
      "    varString = \"uVal{0}-uSh{1}\".format(useVal, shift)\n",
      "    filename1 = sorted([x for x in os.listdir(networkpath) if dsname1+'-' in x and varString in x], key=sortkey)[0]\n",
      "    filename2 = sorted([x for x in os.listdir(networkpath) if dsname2+'-' in x and varString in x], key=sortkey)[0]\n",
      "    archiver = PyJRNN.utility.JSONArchiver()\n",
      "    ccnet1 = archiver.LoadFromFile(os.path.join(networkpath, filename1))\n",
      "    ccnet2 = archiver.LoadFromFile(os.path.join(networkpath, filename2))\n",
      "    kbcc = PyJRNN.networks.KBCCNetwork.Create()\n",
      "    outNodeType = PyJRNN.utility.ActType.ASIGMOID\n",
      "    if shift:\n",
      "        outNodeType = PyJRNN.utility.ActType.SIGMOID\n",
      "    kbcc.Build(ds.numInputs, ds.numOutputs, False, True, True, outNodeType)\n",
      "    kbcct = PyJRNN.trainers.KBCCTrainer(kbcc, ds, 8)\n",
      "    kbcct.parms.errorMeasure = PyJRNN.trainers.BITS\n",
      "    kbcct.useHoldBestCand = True\n",
      "    kbcct.AddSubNet(ccnet1)\n",
      "    kbcct.AddSubNet(ccnet2)\n",
      "    kbcct.numCopies = 2\n",
      "    \n",
      "    kbcct.TrainToConvergence(3000, useVal)\n",
      "    #result = ObsUtility.ConvHashedDM(kbcct.TestWiClass(PyJRNN.utility.TEST))\n",
      "    result = TestWiClass(kbcc, cds, PyJRNN.utility.TEST)\n",
      "    epochs = kbcct.Epochs\n",
      "    numHid = kbcct.NumHidLayers\n",
      "    mseRec = kbcct.GetMSERec()\n",
      "    retVal = (result, epochs, numHid, [x for x in mseRec])\n",
      "    return retVal"
     ],
     "language": "python",
     "metadata": {},
     "outputs": [],
     "prompt_number": 10
    },
    {
     "cell_type": "code",
     "collapsed": false,
     "input": [
      "def sortkey(string):\n",
      "    errRe = re.compile(\"-(\\d+\\.\\d+)-\")\n",
      "    return float(errRe.findall(string)[0])"
     ],
     "language": "python",
     "metadata": {},
     "outputs": [],
     "prompt_number": 11
    },
    {
     "cell_type": "code",
     "collapsed": false,
     "input": [
      "def MergeNetTest(dsname1, dsname2, dsname12, count = 0, useVal = True, shift=False, useRev=True, numRev=2, bufferSize=200):\n",
      "    cds = LoadBandCross(shift)\n",
      "    tmpsview = PyJRNN.types.strings()\n",
      "    tmpsview.append(dsname12)\n",
      "    cds.DistSubview(tmpsview)\n",
      "    ds = cds.SpawnDS()\n",
      "    del tmpsview[:]\n",
      "    tmpsview.append(dsname1)\n",
      "    tmpsview.append(dsname2)\n",
      "    cds.DistSubview(tmpsview)\n",
      "    ds2 = cds.SpawnDS()\n",
      "    \n",
      "    numContext = cds.ViewSize\n",
      "    filename1 = \"\"\n",
      "    filename2 = \"\"\n",
      "    varString = \"uVal{0}-uSh{1}\".format(useVal, shift)\n",
      "    netType = 'revcc' if useRev else 'kbcc'\n",
      "    filename1 = sorted([x for x in os.listdir(networkpath) if dsname1+'-' in x and varString in x and netType in x], key=sortkey)[0]\n",
      "    filename2 = sorted([x for x in os.listdir(networkpath) if dsname2+'-' in x and varString in x and netType in x], key=sortkey)[0]\n",
      "    archiver = PyJRNN.utility.JSONArchiver()\n",
      "    print \"Loading Existing Nets\"\n",
      "    net1 = archiver.LoadFromFile(os.path.join(networkpath, filename1))\n",
      "    net2 = archiver.LoadFromFile(os.path.join(networkpath, filename2))\n",
      "    \n",
      "    revGenT = None\n",
      "    if useRev:\n",
      "        revGenT = PyJRNN.trainers.RevCCTrainer(net1.numIn, net1.numOut, 8)\n",
      "    else:\n",
      "        revGenT = PyJRNN.trainers.DualKBCCTrainer(net1.numIn, net1.numOut, 8)\n",
      "        \n",
      "    print \"Generating Pseudo Data\"\n",
      "    revGenT.AddPrevTrainedNets(net1, net1.Clone())\n",
      "    revGenT.revparams.numRev = numRev\n",
      "    revGenT.revparams.bufferSize = bufferSize\n",
      "    revGenT.revparams.numContexts = numContext\n",
      "    revGenT.revparams.cleanReverb = True\n",
      "    revGenT.SetDataSet(cds)\n",
      "    del tmpsview[:]\n",
      "    tmpsview.append(dsname1)\n",
      "    newDS = revGenT.ReverbMainNet(100, 100, tmpsview)\n",
      "    \n",
      "    del tmpsview[:]\n",
      "    tmpsview.append(dsname2)\n",
      "    revGenT.AddPrevTrainedNets(net2, net2.Clone())\n",
      "    secDS = revGenT.ReverbMainNet(100, 100, tmpsview)\n",
      "    \n",
      "    \n",
      "    newDS.MergeSubsets(secDS, True)\n",
      "    \n",
      "    kbcct = None\n",
      "    \n",
      "    if useRev:\n",
      "        kbcct = PyJRNN.trainers.RevKBCCTrainer(newDS.numInputs, newDS.numOutputs, 4) #use Varied means this gets trippled\n",
      "    else:\n",
      "        kbcct = PyJRNN.trainers.DualKBCCTrainer(newDS.numInputs, newDS.numOutputs, 4)\n",
      "        \n",
      "    print \"Creating Trainer\"\n",
      "    kbcct.SetSDCCandVaryActFunc(True, True)\n",
      "    kbcct.revparams.numRev = numRev if useRev else 0\n",
      "    kbcct.revparams.bufferSize = 0 # Only going to be training task once. \n",
      "    \n",
      "    subnet1 = net1 if not useRev else net1.CloneToCC()\n",
      "    subnet2 = net2 if not useRev else net2.CloneToCC()\n",
      "    \n",
      "    kbcct.AddSubNet(subnet1)\n",
      "    kbcct.AddSubNet(subnet2)\n",
      "    kbcct.numCopies = 1 \n",
      "    \n",
      "    print \"Training Pseudo Set\"\n",
      "    kbcct.TrainTask(newDS, 3000, useVal)\n",
      "    \n",
      "    print \"Getting Results\"\n",
      "    resultDict = {}\n",
      "    resultDict['FinTask'] = dsname12\n",
      "    resultDict['SubTasks'] = (filename1, filename2)\n",
      "    resultDict['epochs'] = kbcct.net1vals.epochs\n",
      "    resultDict['hiddenLayers'] = kbcct.net1vals.numHidLayers\n",
      "    resultDict['MSERec'] = [x for x in kbcct.net1vals.MSERec]\n",
      "    resultDict['testMSEComb'] = kbcct.TestOnData(ds, PyJRNN.utility.DSDatatype.TEST)\n",
      "    resultDict['errorRateComb'] = TestWiClass(kbcct.net1, ds, PyJRNN.utility.DSDatatype.TEST)\n",
      "    resultDict['testMSESep'] = kbcct.TestOnData(ds2, PyJRNN.utility.DSDatatype.TEST)\n",
      "    resultDict['errorRateSep'] = TestWiClass(kbcct.net1, ds2, PyJRNN.utility.DSDatatype.TEST)\n",
      "    \n",
      "    err = resultDict['errorRateSep']['task-0']\n",
      "    newNetType = 'revkbcc' if useRev else 'kbcc'\n",
      "    try:\n",
      "        with open(os.path.join(networkpath, \"merged-{dsname12}-{err}-uSDTrue-uVATrue-uVal{useVal}-uSh{shift}-{count}.{newNetType}\".format(**locals()))) as fileh:\n",
      "            netstring = archiver.SaveToString(kbcct.net1)\n",
      "            fileh.write(netstring)\n",
      "    except Exception as e:\n",
      "        print \"Error Writing File: {}\".format(e)\n",
      "    \n",
      "    return resultDict"
     ],
     "language": "python",
     "metadata": {},
     "outputs": [],
     "prompt_number": 104
    },
    {
     "cell_type": "code",
     "collapsed": false,
     "input": [
      "def MergeNetsTabbed(dsname, view=[], subview=[], count = 0, useVal = True, useRev=True, numRev=2, bufferSize=200):\n",
      "    cds = LoadTabbedDS(dsname, view)\n",
      "    if len(view) == 0:\n",
      "        view = [x for x in cds.View]\n",
      "    if len(subview) == 0:\n",
      "        subview = view\n",
      "    tmpsview = PyJRNN.types.strings()\n",
      "    for task in subview:\n",
      "        tmpsview.append(task)\n",
      "    cds.DistSubview(tmpsview)\n",
      "    ds = cds.SpawnDS()\n",
      "    #cc = PyJRNN.networks.CCNetwork.Create()\n",
      "    useSDCC = True\n",
      "    useVaryAct = True\n",
      "    outNodeType = PyJRNN.utility.ActType.ASIGMOID\n",
      "    #if shift:\n",
      "    #    outNodeType = PyJRNN.utility.ActType.SIGMOID\n",
      "    #cc.Build(ds.numInputs, ds.numOutputs, False, useSDCC, useVaryAct, outNodeType)\n",
      "    cct = None\n",
      "    netType = 'revcc' if useRev else 'kbcc'\n",
      "    numContext = cds.ViewSize\n",
      "    filename1 = \"\"\n",
      "    filename2 = \"\"\n",
      "    outdsname1 = \"{}-ve{}-sv{}\".format(dsname, ''.join(view), subview[0])\n",
      "    outdsname2 = \"{}-ve{}-sv{}\".format(dsname, ''.join(view), subview[1])\n",
      "    varString = \"uVal{0}\".format(useVal)\n",
      "    filename1 = sorted([x for x in os.listdir(networkpath) if outdsname1+'-' in x and varString in x and netType in x], key=sortkey)[0]\n",
      "    filename2 = sorted([x for x in os.listdir(networkpath) if outdsname2+'-' in x and varString in x and netType in x], key=sortkey)[0]\n",
      "    \n",
      "    archiver = PyJRNN.utility.JSONArchiver()\n",
      "    print \"Loading Existing Nets\"\n",
      "    net1 = archiver.LoadFromFile(os.path.join(networkpath, filename1))\n",
      "    net2 = archiver.LoadFromFile(os.path.join(networkpath, filename2))\n",
      "    \n",
      "    revGenT = None\n",
      "    if useRev:\n",
      "        revGenT = PyJRNN.trainers.RevCCTrainer(net1.numIn, net1.numOut, 8)\n",
      "    else:\n",
      "        revGenT = PyJRNN.trainers.DualKBCCTrainer(net1.numIn, net1.numOut, 8)\n",
      "        \n",
      "    print \"Generating Pseudo Data\"\n",
      "    revGenT.AddPrevTrainedNets(net1, net1.Clone())\n",
      "    revGenT.revparams.numRev = numRev\n",
      "    revGenT.revparams.bufferSize = bufferSize\n",
      "    revGenT.revparams.numContexts = numContext\n",
      "    revGenT.revparams.cleanReverb = True\n",
      "    revGenT.SetDataSet(cds)\n",
      "    \n",
      "    del tmpsview[:]\n",
      "    tmpsview.append(subview[0])\n",
      "    newDS = revGenT.ReverbMainNet(100, 100, tmpsview)\n",
      "    \n",
      "    del tmpsview[:]\n",
      "    tmpsview.append(subview[1])\n",
      "    revGenT.AddPrevTrainedNets(net2, net2.Clone())\n",
      "    secDS = revGenT.ReverbMainNet(100, 100, tmpsview)\n",
      "    \n",
      "    \n",
      "    newDS.MergeSubsets(secDS, True)\n",
      "    \n",
      "    kbcct = None\n",
      "    \n",
      "    if useRev:\n",
      "        kbcct = PyJRNN.trainers.RevKBCCTrainer(newDS.numInputs, newDS.numOutputs, 4) #use Varied means this gets trippled\n",
      "    else:\n",
      "        kbcct = PyJRNN.trainers.DualKBCCTrainer(newDS.numInputs, newDS.numOutputs, 4)\n",
      "        \n",
      "    print \"Creating Trainer\"\n",
      "    kbcct.SetSDCCandVaryActFunc(True, True)\n",
      "    kbcct.revparams.numRev = numRev if useRev else 0\n",
      "    kbcct.revparams.bufferSize = 0 # Only going to be training task once. \n",
      "    \n",
      "    subnet1 = net1 if not useRev else net1.CloneToCC()\n",
      "    subnet2 = net2 if not useRev else net2.CloneToCC()\n",
      "    \n",
      "    kbcct.AddSubNet(subnet1)\n",
      "    kbcct.AddSubNet(subnet2)\n",
      "    kbcct.numCopies = 1 \n",
      "    \n",
      "    print \"Training Pseudo Set\"\n",
      "    kbcct.TrainTask(newDS, 3000, useVal)\n",
      "    \n",
      "    print \"Getting Results\"\n",
      "    resultDict = {}\n",
      "    resultDict['FinTask'] = subview\n",
      "    resultDict['SubTasks'] = (filename1, filename2)\n",
      "    resultDict['epochs'] = kbcct.net1vals.epochs\n",
      "    resultDict['hiddenLayers'] = kbcct.net1vals.numHidLayers\n",
      "    resultDict['MSERec'] = [x for x in kbcct.net1vals.MSERec]\n",
      "    \n",
      "    resultDict['testMSESep'] = kbcct.TestOnData(ds, PyJRNN.utility.DSDatatype.TEST)\n",
      "    resultDict['errorRateSep'] = TestWiClass(kbcct.net1, ds, PyJRNN.utility.DSDatatype.TEST)\n",
      "    \n",
      "    err = resultDict['errorRateSep']['task-0']\n",
      "    newNetType = 'revkbcc' if useRev else 'kbcc'\n",
      "    outnetname = \"{}-ve{}\".format(dsname, ''.join(view))\n",
      "    \n",
      "    try:\n",
      "        with open(os.path.join(networkpath, \"merged-{outnetname}-{err}-uSDTrue-uVATrue-uVal{useVal}-{count}.{newNetType}\".format(**locals())), 'w') as fileh:\n",
      "            netstring = archiver.SaveToString(kbcct.net1)\n",
      "            fileh.write(netstring)\n",
      "    except Exception as e:\n",
      "        print \"Error Writing File: {}\".format(e)\n",
      "        \n",
      "    return resultDict"
     ],
     "language": "python",
     "metadata": {},
     "outputs": [],
     "prompt_number": 105
    },
    {
     "cell_type": "heading",
     "level": 3,
     "metadata": {},
     "source": [
      "Testing "
     ]
    },
    {
     "cell_type": "code",
     "collapsed": false,
     "input": [
      "dsname1 = 'outBox1'\n",
      "dsname2 = 'outBox2'\n",
      "dsname12 = 'outBox12'"
     ],
     "language": "python",
     "metadata": {},
     "outputs": [],
     "prompt_number": 13
    },
    {
     "cell_type": "code",
     "collapsed": false,
     "input": [
      "useVal = True\n",
      "shift = False\n",
      "useRev=True\n",
      "varString = \"uVal{0}-uSh{1}\".format(useVal, shift)\n",
      "netType = 'revcc' if useRev else 'kbcc'"
     ],
     "language": "python",
     "metadata": {},
     "outputs": [],
     "prompt_number": 14
    },
    {
     "cell_type": "code",
     "collapsed": false,
     "input": [
      "dsname = 'CirInSq'\n",
      "view = ['task1','task5']\n",
      "subview = ['task1']\n",
      "outdsname1 = \"{}-ve{}-sv{}\".format(dsname, ''.join(view), subview[0])\n",
      "varString = \"uVal{0}\".format(useVal)"
     ],
     "language": "python",
     "metadata": {},
     "outputs": [],
     "prompt_number": 108
    },
    {
     "cell_type": "code",
     "collapsed": false,
     "input": [
      "sorted([x for x in os.listdir(networkpath) if outdsname1+'-' in x and varString in x and netType in x], key=sortkey)[0]"
     ],
     "language": "python",
     "metadata": {},
     "outputs": [
      {
       "metadata": {},
       "output_type": "pyout",
       "prompt_number": 103,
       "text": [
        "'band-vetask1task5-svtask1-0.0-uSDTrue-uVATrue-uValFalse-13.revcc'"
       ]
      }
     ],
     "prompt_number": 103
    },
    {
     "cell_type": "code",
     "collapsed": false,
     "input": [
      "sorted([x for x in os.listdir(networkpath) if dsname2+'-' in x and varString in x and netType in x], key=sortkey)[0]"
     ],
     "language": "python",
     "metadata": {},
     "outputs": [
      {
       "metadata": {},
       "output_type": "pyout",
       "prompt_number": 15,
       "text": [
        "'outBox2-0.07-uSDTrue-uVATrue-uValTrue-uShFalse-12.revcc'"
       ]
      }
     ],
     "prompt_number": 15
    },
    {
     "cell_type": "code",
     "collapsed": false,
     "input": [
      "results = MergeNetTest(dsname1, dsname2, dsname12, useVal = True, shift=False, useRev=False, numRev=2, bufferSize=200)"
     ],
     "language": "python",
     "metadata": {},
     "outputs": [
      {
       "output_type": "stream",
       "stream": "stdout",
       "text": [
        "Loading Existing Nets\n",
        "Generating Pseudo Data\n",
        "Creating Trainer\n",
        "Training Pseudo Set\n",
        "Getting Results"
       ]
      },
      {
       "output_type": "stream",
       "stream": "stdout",
       "text": [
        "\n",
        "Error Writing File: [Errno 2] No such file or directory: \"Notebook Data/networks/merged-outBox12-{'task-0': 0.085}-uSDTrue-uVATrue-uValTrue-uShFalse-0.kbcc\"\n"
       ]
      }
     ],
     "prompt_number": 21
    },
    {
     "cell_type": "code",
     "collapsed": false,
     "input": [
      "results"
     ],
     "language": "python",
     "metadata": {},
     "outputs": [
      {
       "metadata": {},
       "output_type": "pyout",
       "prompt_number": 19,
       "text": [
        "{'FinTask': 'outBox12',\n",
        " 'MSERec': [0.24190577658036055,\n",
        "  0.08277773305216181,\n",
        "  0.08248376404376956,\n",
        "  0.0818396845733309,\n",
        "  0.08139297149222839,\n",
        "  0.08099009472490275,\n",
        "  0.08038354695787825,\n",
        "  0.0803193405588595,\n",
        "  0.08073662597648826,\n",
        "  0.07997148969908871,\n",
        "  0.07992991395044634,\n",
        "  0.07987514393973806,\n",
        "  0.0797684331171815,\n",
        "  0.07956180869610754,\n",
        "  0.07925946115661446,\n",
        "  0.0790148070684444,\n",
        "  0.07904824599764156,\n",
        "  0.07895625755223584,\n",
        "  0.07893312428274325,\n",
        "  0.07888639728717797,\n",
        "  0.07880020066311275,\n",
        "  0.07869674611449154,\n",
        "  0.0786388591281625,\n",
        "  0.07865590033484222,\n",
        "  0.07865325347475163,\n",
        "  0.0786483334465748,\n",
        "  0.07863749324107197,\n",
        "  0.0786183567792484,\n",
        "  0.0785990864080046,\n",
        "  0.07858794740083862,\n",
        "  0.07860146778182622,\n",
        "  0.07860435543198194,\n",
        "  0.07860862339841522,\n",
        "  0.07861237587888478,\n",
        "  0.07599670319002402,\n",
        "  0.07541352524416742,\n",
        "  0.07374498908394411,\n",
        "  0.07059431525091858,\n",
        "  0.06800775445237943,\n",
        "  0.06933734069644132,\n",
        "  0.06725098027208301,\n",
        "  0.0664783378094027,\n",
        "  0.06615106197973174,\n",
        "  0.06566946043241015,\n",
        "  0.0649947677448042,\n",
        "  0.0651660872885199,\n",
        "  0.07210562212274495,\n",
        "  0.06457568877195792,\n",
        "  0.06450707254743258,\n",
        "  0.06440855405663147,\n",
        "  0.06427349759538645,\n",
        "  0.06423490494433187,\n",
        "  0.06444060239567011,\n",
        "  0.06414484411392855,\n",
        "  0.06412675077815198,\n",
        "  0.06410532580315315,\n",
        "  0.06406606072280442,\n",
        "  0.06400360992049911,\n",
        "  0.0640649067731087,\n",
        "  0.06421318421828519,\n",
        "  0.06396687744283493,\n",
        "  0.06395883818588445,\n",
        "  0.06393964526198255,\n",
        "  0.06390260379509739,\n",
        "  0.06146277550788008,\n",
        "  0.060240825307916405,\n",
        "  0.05683081831790017,\n",
        "  0.050044728561335926,\n",
        "  0.04122312279679529,\n",
        "  0.04618547938914846,\n",
        "  0.04068724846136022,\n",
        "  0.04000450709424681,\n",
        "  0.03962452388238192,\n",
        "  0.038888173439423974,\n",
        "  0.03770536826911897,\n",
        "  0.036818254780944096,\n",
        "  0.04450925735345658,\n",
        "  0.03630242860229156,\n",
        "  0.036170256176047036,\n",
        "  0.04637891246501377,\n",
        "  0.04376536519863282,\n",
        "  0.039784612550321306,\n",
        "  0.034906897672919636,\n",
        "  0.03458198978884328,\n",
        "  0.033748577070064005,\n",
        "  0.03358865627688176,\n",
        "  0.03333166171133884,\n",
        "  0.03276938582685351,\n",
        "  0.03187772938219628,\n",
        "  0.03140054015396596,\n",
        "  0.0322366378706739,\n",
        "  0.03073060305436088,\n",
        "  0.04110220158406255,\n",
        "  0.03943949259290612,\n",
        "  0.03607722976521031,\n",
        "  0.032225455128530846,\n",
        "  0.031658899380174035,\n",
        "  0.031443700100669665,\n",
        "  0.030654960865623294,\n",
        "  0.03031653074340592,\n",
        "  0.030107247233494106,\n",
        "  0.029704592208325886,\n",
        "  0.02911126213477366,\n",
        "  0.029144273989460782,\n",
        "  0.028672124456473037,\n",
        "  0.036920482486367125,\n",
        "  0.03524113493155762,\n",
        "  0.0321250066867671,\n",
        "  0.030609423930548572,\n",
        "  0.032990831886321986,\n",
        "  0.03065994689563547,\n",
        "  0.03024784002723112,\n",
        "  0.030122049924784823,\n",
        "  0.03005058835779609,\n",
        "  0.029856893794483707,\n",
        "  0.02949928370069566,\n",
        "  0.02896460279764085,\n",
        "  0.02916126605850164],\n",
        " 'SubTasks': ('outBox1-0.05-uSDTrue-uVATrue-uValTrue-uShFalse-3.kbcc',\n",
        "  'outBox2-0.04-uSDTrue-uVATrue-uValTrue-uShFalse-3.kbcc'),\n",
        " 'epochs': 309,\n",
        " 'errorRateComb': {'task-0': 0.295},\n",
        " 'errorRateSep': {'task-0': 0.1175},\n",
        " 'hiddenLayers': 4,\n",
        " 'testMSEComb': 0.19519113739945088,\n",
        " 'testMSESep': 0.0846774298928718}"
       ]
      }
     ],
     "prompt_number": 19
    },
    {
     "cell_type": "code",
     "collapsed": false,
     "input": [
      "results2 = MergeNetsTabbed(dsname, view, view, useVal=True, useRev=True, numRev=2, bufferSize=200)"
     ],
     "language": "python",
     "metadata": {},
     "outputs": [
      {
       "output_type": "stream",
       "stream": "stdout",
       "text": [
        "Loading Existing Nets\n",
        "Generating Pseudo Data\n",
        "Creating Trainer"
       ]
      },
      {
       "output_type": "stream",
       "stream": "stdout",
       "text": [
        "\n",
        "Training Pseudo Set\n",
        "Getting Results"
       ]
      },
      {
       "output_type": "stream",
       "stream": "stdout",
       "text": [
        "\n",
        "Error Writing File: [Errno 2] No such file or directory: 'Notebook Data/networks/merged-CirInSq-vetask1task5-0.135-uSDTrue-uVATrue-uValTrue-0.revkbcc'\n"
       ]
      }
     ],
     "prompt_number": 109
    },
    {
     "cell_type": "code",
     "collapsed": false,
     "input": [
      "results2"
     ],
     "language": "python",
     "metadata": {},
     "outputs": [
      {
       "metadata": {},
       "output_type": "pyout",
       "prompt_number": 110,
       "text": [
        "{'FinTask': 'outBox13',\n",
        " 'MSERec': [0.1842149846652421,\n",
        "  0.16835793803458288,\n",
        "  0.16678847156527968,\n",
        "  0.16652163942801151,\n",
        "  0.16463977500801733,\n",
        "  0.16438638028725475,\n",
        "  0.16353643689547992,\n",
        "  0.16238222444112352,\n",
        "  0.16149959566489844,\n",
        "  0.16103927299049572,\n",
        "  0.16035329327207176,\n",
        "  0.16003006036112302,\n",
        "  0.15946485678978883,\n",
        "  0.15902435396320122,\n",
        "  0.15819670501158345,\n",
        "  0.15883484393475397,\n",
        "  0.15845666614930187,\n",
        "  0.15736114450647556,\n",
        "  0.15711360045663608,\n",
        "  0.15700528601761904,\n",
        "  0.1569446875951853,\n",
        "  0.15674373651507784,\n",
        "  0.1565064298878775,\n",
        "  0.15602617508492903,\n",
        "  0.15552345509141466,\n",
        "  0.16011529581941292,\n",
        "  0.15532988368503584,\n",
        "  0.15521564185561768,\n",
        "  0.15516080093650256,\n",
        "  0.1551468938294641,\n",
        "  0.15505799020936228,\n",
        "  0.15501496336541162,\n",
        "  0.15497155280356875,\n",
        "  0.15488528090705467,\n",
        "  0.1548444506738232,\n",
        "  0.15476758613704517,\n",
        "  0.15468301882885171,\n",
        "  0.15458830860078998,\n",
        "  0.15484007360179441,\n",
        "  0.15452460921532835,\n",
        "  0.15448965430243494,\n",
        "  0.15444884610538676,\n",
        "  0.15436518447917505,\n",
        "  0.15436206593540697,\n",
        "  0.15457139195690328,\n",
        "  0.15423766348703635,\n",
        "  0.1542180223492986,\n",
        "  0.15419456330720724,\n",
        "  0.15414937529222023,\n",
        "  0.1541670548927689,\n",
        "  0.15416044939060727,\n",
        "  0.15408084776059575,\n",
        "  0.1540697713969758,\n",
        "  0.15405554415915412,\n",
        "  0.1540305215995663,\n",
        "  0.1539800303187414,\n",
        "  0.15389082312274677,\n",
        "  0.1537688402288553,\n",
        "  0.15712009642754876,\n",
        "  0.15478643924617663,\n",
        "  0.15376734057605887,\n",
        "  0.15372878219619215,\n",
        "  0.15367632689020466,\n",
        "  0.15367632045825289,\n",
        "  0.1537084108652468,\n",
        "  0.15368940109804455,\n",
        "  0.15368894089319848,\n",
        "  0.15368881311608112,\n",
        "  0.1536892473655795,\n",
        "  0.15368805644248526,\n",
        "  0.15368766271773926,\n",
        "  0.15369068945953837,\n",
        "  0.153690015858437,\n",
        "  0.14143942114268204,\n",
        "  0.11395702287014688,\n",
        "  0.07824673289748356,\n",
        "  0.06150582627810309,\n",
        "  0.05312714536490753,\n",
        "  0.05119393340641898,\n",
        "  0.048763452499341574,\n",
        "  0.04790451215428196,\n",
        "  0.04766174747095433,\n",
        "  0.04716506732933386,\n",
        "  0.04706047782746989,\n",
        "  0.04702480224360953,\n",
        "  0.04701207201883325,\n",
        "  0.04700168564709472,\n",
        "  0.04702952114587744,\n",
        "  0.04699459398791257,\n",
        "  0.04699082676837831,\n",
        "  0.04698984492860094,\n",
        "  0.046987821340925336,\n",
        "  0.046983624947594164,\n",
        "  0.046978271364620156,\n",
        "  0.046969068245024455,\n",
        "  0.04696704689108031,\n",
        "  0.04714889003816384,\n",
        "  0.04696699546687199,\n",
        "  0.04696725547230975,\n",
        "  0.046968287849754875,\n",
        "  0.04696901849123838,\n",
        "  0.04696890858863939,\n",
        "  0.04696881363940732,\n",
        "  0.04696870630440576,\n",
        "  0.04696829684673436,\n",
        "  0.04696738570383611,\n",
        "  0.046968499057361425,\n",
        "  0.04696787737542148,\n",
        "  0.04414672160592701,\n",
        "  0.04200186721297041,\n",
        "  0.037370853736116524,\n",
        "  0.03519497716885797,\n",
        "  0.036524077996536855,\n",
        "  0.03348464771860733,\n",
        "  0.03279823990857369,\n",
        "  0.03398727773660517,\n",
        "  0.033075675431956886,\n",
        "  0.032135148379234486,\n",
        "  0.031684528919697905,\n",
        "  0.03154261979865756,\n",
        "  0.03142239824581184,\n",
        "  0.031273424163567196,\n",
        "  0.031000647688993105,\n",
        "  0.030484326466175833,\n",
        "  0.03080364335454227,\n",
        "  0.031084432386456366,\n",
        "  0.029994777055879333,\n",
        "  0.029938179926544555,\n",
        "  0.02984775112346918,\n",
        "  0.029779336682073453,\n",
        "  0.029708903330111235,\n",
        "  0.029562258513129,\n",
        "  0.029464151895847963,\n",
        "  0.029399669415782485,\n",
        "  0.02935219814033768,\n",
        "  0.029240066087659222,\n",
        "  0.02899512372722457,\n",
        "  0.028533310843070297,\n",
        "  0.027771452506552538,\n",
        "  0.03789935648553163,\n",
        "  0.027659800584805348,\n",
        "  0.027638065632989414,\n",
        "  0.027594356741382088,\n",
        "  0.027517317473227602,\n",
        "  0.027337400188086062,\n",
        "  0.027001329672375785,\n",
        "  0.0267941586159307,\n",
        "  0.03313960578477245,\n",
        "  0.026536146129666316,\n",
        "  0.026518553537515695,\n",
        "  0.02648691628322171,\n",
        "  0.026465245844029272,\n",
        "  0.026445236767035283,\n",
        "  0.026401259757204913,\n",
        "  0.025432537995228946,\n",
        "  0.024675416799932896,\n",
        "  0.02240093233557926,\n",
        "  0.01967960501905002,\n",
        "  0.024999630917207506,\n",
        "  0.019946211595622636,\n",
        "  0.019168619704922733,\n",
        "  0.019029830630550033,\n",
        "  0.018931804051162317,\n",
        "  0.018831689722667917,\n",
        "  0.018721545483871713,\n",
        "  0.018562163424888072,\n",
        "  0.01844040307718848,\n",
        "  0.018664380202730296,\n",
        "  0.018389685948152823,\n",
        "  0.01831837252562162,\n",
        "  0.01821222037161667,\n",
        "  0.01808528098029578,\n",
        "  0.01806397274861859,\n",
        "  0.018033578853774917,\n",
        "  0.01795810563952076,\n",
        "  0.01793332016777038,\n",
        "  0.01790716743128371,\n",
        "  0.017858151277847505,\n",
        "  0.017796538714897673,\n",
        "  0.01765103912402224,\n",
        "  0.017122410784773747,\n",
        "  0.016307821635968705,\n",
        "  0.015547974779639467,\n",
        "  0.015028281399289564,\n",
        "  0.014442532555802452,\n",
        "  0.01431767300145777,\n",
        "  0.014180491873476447,\n",
        "  0.013949070915600473,\n",
        "  0.013866552180749302,\n",
        "  0.014461747637750653,\n",
        "  0.013607328824993867,\n",
        "  0.013569167241170335,\n",
        "  0.013509460563946928,\n",
        "  0.013407516234913047,\n",
        "  0.0133839807110425,\n",
        "  0.01347210402836204,\n",
        "  0.013283297428979554,\n",
        "  0.013283978216368359,\n",
        "  0.013283336360524948,\n",
        "  0.013285432444613342,\n",
        "  0.013268687856531737,\n",
        "  0.013242804345540517,\n",
        "  0.013197147618376976,\n",
        "  0.013256274099703367,\n",
        "  0.013256356966395771,\n",
        "  0.012637976618005373,\n",
        "  0.012695003737037669,\n",
        "  0.011863191715270022,\n",
        "  0.01140572968150449,\n",
        "  0.01047031578849402,\n",
        "  0.009525533991155218,\n",
        "  0.009811419657688693,\n",
        "  0.009724496694721672,\n",
        "  0.009157773655742826,\n",
        "  0.009065737076454436,\n",
        "  0.008940640719479129,\n",
        "  0.008829268235066436,\n",
        "  0.008713471324617984,\n",
        "  0.008743136669183115,\n",
        "  0.008552242431348228,\n",
        "  0.008532835773358224,\n",
        "  0.00848962967582841,\n",
        "  0.008450862274521222,\n",
        "  0.00841405079174468,\n",
        "  0.008348719657440008,\n",
        "  0.008313423781418076,\n",
        "  0.008266278831222938,\n",
        "  0.008244896946612543,\n",
        "  0.008225594555030047,\n",
        "  0.00819154451872718,\n",
        "  0.008174897264181882,\n",
        "  0.008145420309662563,\n",
        "  0.008112756389251498,\n",
        "  0.00805232693431596,\n",
        "  0.00794538835961351,\n",
        "  0.007806953742336708,\n",
        "  0.010228773000827578,\n",
        "  0.007754959896329174,\n",
        "  0.007743080229559524,\n",
        "  0.007724638611647457,\n",
        "  0.007700568406232227,\n",
        "  0.007670928063096817,\n",
        "  0.007632697176488576,\n",
        "  0.007640637714152441,\n",
        "  0.007615494383414463,\n",
        "  0.007601355635024147,\n",
        "  0.007593589743265671,\n",
        "  0.007576714203508041,\n",
        "  0.00755137575847305,\n",
        "  0.007527548657253511,\n",
        "  0.007492623761387173,\n",
        "  0.007527957185225132,\n",
        "  0.007476292285284634,\n",
        "  0.007461145199460268,\n",
        "  0.007460078413197798,\n",
        "  0.007453222968517927,\n",
        "  0.0074400787865688735,\n",
        "  0.007423061898732386,\n",
        "  0.00741246343863972,\n",
        "  0.007394846621592989,\n",
        "  0.0073907387676551755,\n",
        "  0.00738477818038893,\n",
        "  0.00737424785272727,\n",
        "  0.007140478034717571,\n",
        "  0.007088885014151327,\n",
        "  0.006854794342748178,\n",
        "  0.006424154259607568,\n",
        "  0.005867386605018271,\n",
        "  0.005503068112986609,\n",
        "  0.004913592745222083,\n",
        "  0.005450057802456547,\n",
        "  0.00472055014340374,\n",
        "  0.004614718294770611,\n",
        "  0.004599760015515521,\n",
        "  0.004563310136476518,\n",
        "  0.004526442227530814,\n",
        "  0.004473675366830123,\n",
        "  0.0043976091077971916,\n",
        "  0.004291274490655021,\n",
        "  0.0042718513419028725,\n",
        "  0.004351014829463029,\n",
        "  0.0041992811575339035,\n",
        "  0.0041208377198195326,\n",
        "  0.004100164918307065,\n",
        "  0.004089258939326661,\n",
        "  0.004072498986358266,\n",
        "  0.004046416941565124,\n",
        "  0.004000642964433201,\n",
        "  0.0042413656898461945,\n",
        "  0.003979323194017914,\n",
        "  0.003964597164324254,\n",
        "  0.003943659485881579,\n",
        "  0.003932198764580914,\n",
        "  0.003907209836044736,\n",
        "  0.003911891881372799,\n",
        "  0.0038821905747458037,\n",
        "  0.003875570973824472,\n",
        "  0.0038621514343144796,\n",
        "  0.003835943499627642,\n",
        "  0.0038335570166451913,\n",
        "  0.0038323177905856057,\n",
        "  0.0038247421447355446,\n",
        "  0.0038090838208880463,\n",
        "  0.0037999212460468174,\n",
        "  0.0037783760295846476,\n",
        "  0.0037878618091558274,\n",
        "  0.003755792462396011,\n",
        "  0.0037539756660102883,\n",
        "  0.0037534600290552145,\n",
        "  0.003748123256304438,\n",
        "  0.0037356806158497483,\n",
        "  0.0037133745689488383,\n",
        "  0.0037222163729016687,\n",
        "  0.0037913276980142065,\n",
        "  0.003682242073697834,\n",
        "  0.003676419321601961,\n",
        "  0.0036693326881382772,\n",
        "  0.0036657917347950766,\n",
        "  0.003661080640173247,\n",
        "  0.003648366006211921,\n",
        "  0.0036272123569383303,\n",
        "  0.0036535205205927373,\n",
        "  0.003616480441220405,\n",
        "  0.0036120521146801336,\n",
        "  0.0036105314992237623,\n",
        "  0.0036066390050780643,\n",
        "  0.0035984535081885934,\n",
        "  0.0035938752768421354,\n",
        "  0.0035870429463594404,\n",
        "  0.003612050131411568,\n",
        "  0.0035774225648322775,\n",
        "  0.003580896268531975,\n",
        "  0.0035806707058405954,\n",
        "  0.003578255089170576,\n",
        "  0.003572132218978094,\n",
        "  0.003561251069524359,\n",
        "  0.0035441473427181716,\n",
        "  0.003517972122586628,\n",
        "  0.00381188223295682,\n",
        "  0.003514926344678626,\n",
        "  0.0035127425365920383,\n",
        "  0.0035093225522664744,\n",
        "  0.0035086042689383644,\n",
        "  0.003505538697344262,\n",
        "  0.0034994325024677105,\n",
        "  0.0034880023546116695,\n",
        "  0.003477484154838864,\n",
        "  0.0035848560892579057,\n",
        "  0.0035354231447195,\n",
        "  0.0033785581387523354,\n",
        "  0.0033569554453432115,\n",
        "  0.003322851498295819,\n",
        "  0.0032512936272676533,\n",
        "  0.0031553638518274562,\n",
        "  0.003012079132589705,\n",
        "  0.0029698207593429767,\n",
        "  0.0031425023093649336,\n",
        "  0.002850079191704769,\n",
        "  0.0028323164444109617,\n",
        "  0.002804696305962821,\n",
        "  0.002781383742068175,\n",
        "  0.00276453723692562,\n",
        "  0.002765846113054139,\n",
        "  0.0027364405779803816,\n",
        "  0.00272099181479138,\n",
        "  0.0027046556125366766,\n",
        "  0.0026814407727844005,\n",
        "  0.002655333611910743,\n",
        "  0.00265256757049705,\n",
        "  0.002703059683017714,\n",
        "  0.002623139140896511,\n",
        "  0.002615647799927909,\n",
        "  0.0026060296513469652,\n",
        "  0.0030779487859484847,\n",
        "  0.002790693411913345,\n",
        "  0.0027383348022782224,\n",
        "  0.0027106238400362638,\n",
        "  0.002708240632953982,\n",
        "  0.002669685536907975,\n",
        "  0.0026577092045108027,\n",
        "  0.0026471177534023315,\n",
        "  0.0026319069260529715,\n",
        "  0.0026077511938631835,\n",
        "  0.002562885337485132,\n",
        "  0.0026473503086155035,\n",
        "  0.0026016992702836074,\n",
        "  0.002529186925205641,\n",
        "  0.0026027958174096298,\n",
        "  0.002661119167503669,\n",
        "  0.0025330126200069896,\n",
        "  0.002472746811198613],\n",
        " 'SubTasks': ('CirInSq-vetask1task5-svtask1-0.02-uSDTrue-uVATrue-uValTrue-3.revcc',\n",
        "  'CirInSq-vetask1task5-svtask5-0.01-uSDTrue-uVATrue-uValTrue-3.revcc'),\n",
        " 'epochs': 824,\n",
        " 'errorRateSep': {'task-0': 0.135},\n",
        " 'hiddenLayers': 7,\n",
        " 'testMSESep': 0.12633682430053889}"
       ]
      }
     ],
     "prompt_number": 110
    },
    {
     "cell_type": "heading",
     "level": 1,
     "metadata": {},
     "source": [
      "Parallel Stuff"
     ]
    },
    {
     "cell_type": "code",
     "collapsed": false,
     "input": [
      "from IPython.parallel import Client"
     ],
     "language": "python",
     "metadata": {},
     "outputs": [],
     "prompt_number": 23
    },
    {
     "cell_type": "code",
     "collapsed": false,
     "input": [
      "rc = Client(profile='cluster')\n",
      "rc.ids"
     ],
     "language": "python",
     "metadata": {},
     "outputs": [
      {
       "metadata": {},
       "output_type": "pyout",
       "prompt_number": 25,
       "text": [
        "[0,\n",
        " 1,\n",
        " 2,\n",
        " 3,\n",
        " 4,\n",
        " 5,\n",
        " 6,\n",
        " 7,\n",
        " 8,\n",
        " 9,\n",
        " 10,\n",
        " 11,\n",
        " 12,\n",
        " 13,\n",
        " 14,\n",
        " 15,\n",
        " 16,\n",
        " 17,\n",
        " 18,\n",
        " 19,\n",
        " 20,\n",
        " 21,\n",
        " 22,\n",
        " 23]"
       ]
      }
     ],
     "prompt_number": 25
    },
    {
     "cell_type": "code",
     "collapsed": false,
     "input": [
      "rc = Client(profile='default')\n",
      "rc.ids"
     ],
     "language": "python",
     "metadata": {},
     "outputs": []
    },
    {
     "cell_type": "code",
     "collapsed": false,
     "input": [
      "with rc[:].sync_imports():\n",
      "    import PyJRNN\n",
      "    import pyublas\n",
      "    import scipy\n",
      "    import scipy.io\n",
      "    import ObsUtility\n",
      "    import numpy\n",
      "    from collections import defaultdict\n",
      "    import os\n",
      "    import re\n",
      "    from config import datapath, LoadTabbedDataFiles\n",
      "    \n",
      "rc[:]['networkpath'] = networkpath\n",
      "rc[:]['LoadBandCross'] = LoadBandCross\n",
      "rc[:]['sortkey'] = sortkey\n",
      "rc[:]['TestWiClass'] = TestWiClass\n",
      "rc[:]['LoadTabbedDS'] = LoadTabbedDS\n",
      "rc[:]['sortTasks'] = sortTasks"
     ],
     "language": "python",
     "metadata": {},
     "outputs": [
      {
       "output_type": "stream",
       "stream": "stdout",
       "text": [
        "importing PyJRNN on engine(s)\n",
        "importing pyublas on engine(s)\n",
        "importing scipy on engine(s)\n",
        "importing scipy.io on engine(s)\n",
        "importing ObsUtility on engine(s)"
       ]
      },
      {
       "output_type": "stream",
       "stream": "stdout",
       "text": [
        "\n",
        "importing numpy on engine(s)\n",
        "importing defaultdict from collections on engine(s)\n",
        "importing os on engine(s)\n",
        "importing re on engine(s)\n",
        "importing datapath,LoadTabbedDataFiles from config on engine(s)"
       ]
      },
      {
       "output_type": "stream",
       "stream": "stdout",
       "text": [
        "\n"
       ]
      }
     ],
     "prompt_number": 93
    },
    {
     "cell_type": "code",
     "collapsed": false,
     "input": [
      "lbv = rc.load_balanced_view()"
     ],
     "language": "python",
     "metadata": {},
     "outputs": [],
     "prompt_number": 28
    },
    {
     "cell_type": "raw",
     "metadata": {},
     "source": [
      "dsname, archive=True, count = 0, useVal = True, shift = False, useRev=True, numRev=2, bufferSize=0"
     ]
    },
    {
     "cell_type": "code",
     "collapsed": false,
     "input": [
      "numRuns = 15\n",
      "useVal = True\n",
      "shift = False\n",
      "useRev=True\n",
      "dsname1 = 'outBox1'\n",
      "dsname2 = 'outBox2'\n",
      "dsname12 = 'outBox12'\n",
      "numRev=4"
     ],
     "language": "python",
     "metadata": {},
     "outputs": [],
     "prompt_number": 30
    },
    {
     "cell_type": "code",
     "collapsed": false,
     "input": [
      "async_dict = defaultdict(list)\n",
      "for useRev in [True,False]:\n",
      "    for numRev in [2, 4, 6, 8]:\n",
      "        if not useRev and numRev > 2:\n",
      "            continue\n",
      "        name = \"merged-{dsname12}-uVal{useVal}-uSh{shift}-uR{useRev}-nRev{numRev}\".format(**locals())\n",
      "        for x in range(numRuns):\n",
      "            ar = lbv.apply_async(MergeNetTest, dsname1, dsname2, dsname12, count = x, useVal = useVal, shift=shift, useRev=useRev, numRev=numRev, bufferSize=200)\n",
      "            async_dict[name].append(ar)"
     ],
     "language": "python",
     "metadata": {},
     "outputs": [],
     "prompt_number": 43
    },
    {
     "cell_type": "code",
     "collapsed": false,
     "input": [
      "dsname1 = 'outBox1'\n",
      "dsname2 = 'outBox3'\n",
      "dsname12 = 'outBox13'"
     ],
     "language": "python",
     "metadata": {},
     "outputs": [],
     "prompt_number": 80
    },
    {
     "cell_type": "code",
     "collapsed": false,
     "input": [
      "async_dict2 = defaultdict(list)\n",
      "for useRev in [True,False]:\n",
      "    for numRev in [2, 4, 6, 8]:\n",
      "        if not useRev and numRev > 2:\n",
      "            continue\n",
      "        name = \"merged-{dsname12}-uVal{useVal}-uSh{shift}-uR{useRev}-nRev{numRev}\".format(**locals())\n",
      "        for x in range(numRuns):\n",
      "            ar = lbv.apply_async(MergeNetTest, dsname1, dsname2, dsname12, count = x, useVal = useVal, shift=shift, useRev=useRev, numRev=numRev, bufferSize=200)\n",
      "            async_dict2[name].append(ar)"
     ],
     "language": "python",
     "metadata": {},
     "outputs": [],
     "prompt_number": 81
    },
    {
     "cell_type": "code",
     "collapsed": false,
     "input": [
      "async_dict = defaultdict(list)\n",
      "for useVal in [True, False]:\n",
      "    for shift in [False,]:\n",
      "        for useRev in [False, True]:\n",
      "            for dsname in ['outBox1', 'outBox2', 'outBox3']:\n",
      "                name = \"{dsname}-uVal{useVal}-uSh{shift}-uR{useRev}\".format(**locals())\n",
      "                for x in range(numRuns):\n",
      "                    ar = lbv.apply_async(SingleDataTestRev, dsname, True, x, useVal, shift, useRev)\n",
      "                    async_dict[name].append(ar)"
     ],
     "language": "python",
     "metadata": {},
     "outputs": [],
     "prompt_number": 31
    },
    {
     "cell_type": "code",
     "collapsed": false,
     "input": [
      "async_dict3 = defaultdict(list)\n",
      "for useVal in [True, False]:\n",
      "    for useRev in [True, False]:\n",
      "        for dsname in ['band', 'CirInSq']:\n",
      "            for subview in [['task1'],['task5']]:\n",
      "                view = ['task1', 'task5']\n",
      "                outdsname = \"{}-ve{}-sv{}\".format(dsname, ''.join(view), ''.join(subview))\n",
      "                name = \"{outdsname}-uVal{useVal}-uR{useRev}\".format(**locals())\n",
      "                for x in range(numRuns):\n",
      "                    ar = lbv.apply_async(SingleDataTestRevTabbed, dsname, view=view, subview=subview, archive=True, count = x, useVal = useVal, useRev=useRev, numRev=2, bufferSize=0)\n",
      "                    async_dict3[name].append(ar)"
     ],
     "language": "python",
     "metadata": {},
     "outputs": [],
     "prompt_number": 94
    },
    {
     "cell_type": "heading",
     "level": 3,
     "metadata": {},
     "source": [
      "Regular KBCC with BandCross"
     ]
    },
    {
     "cell_type": "code",
     "collapsed": false,
     "input": [
      "async_results = []\n",
      "for x in range(numRuns):\n",
      "    ar = lbv.apply_async(SingleDataTest, 'outBox1', True, x, useVal, shift)\n",
      "    async_results.append(ar)"
     ],
     "language": "python",
     "metadata": {},
     "outputs": []
    },
    {
     "cell_type": "code",
     "collapsed": false,
     "input": [
      "async_results2 = []\n",
      "for x in range(numRuns):\n",
      "    ar = lbv.apply_async(SingleDataTest, 'outBox2', True, x, useVal, shift)\n",
      "    async_results2.append(ar)"
     ],
     "language": "python",
     "metadata": {},
     "outputs": []
    },
    {
     "cell_type": "code",
     "collapsed": false,
     "input": [
      "async_results3 = []\n",
      "for x in range(numRuns):\n",
      "    ar = lbv.apply_async(SingleDataTest, 'outBox3', True, x, useVal, shift)\n",
      "    async_results3.append(ar)"
     ],
     "language": "python",
     "metadata": {},
     "outputs": []
    },
    {
     "cell_type": "code",
     "collapsed": false,
     "input": [
      "async_results4 = []\n",
      "for x in range(numRuns):\n",
      "    ar = lbv.apply_async(SingleDataTest, 'outBox12', True, x, useVal, shift)\n",
      "    async_results4.append(ar)"
     ],
     "language": "python",
     "metadata": {},
     "outputs": []
    },
    {
     "cell_type": "code",
     "collapsed": false,
     "input": [
      "async_results5 = []\n",
      "for x in range(numRuns):\n",
      "    ar = lbv.apply_async(SingleDataTest, 'outBox13', True, x, useVal, shift)\n",
      "    async_results5.append(ar)"
     ],
     "language": "python",
     "metadata": {},
     "outputs": []
    },
    {
     "cell_type": "code",
     "collapsed": false,
     "input": [
      "async_results6 = []\n",
      "for x in range(numRuns):\n",
      "    ar = lbv.apply_async(SingleDataTest, 'outBox123', True, x, useVal, shift)\n",
      "    async_results6.append(ar)"
     ],
     "language": "python",
     "metadata": {},
     "outputs": []
    },
    {
     "cell_type": "heading",
     "level": 3,
     "metadata": {},
     "source": [
      "End Singles"
     ]
    },
    {
     "cell_type": "code",
     "collapsed": false,
     "input": [
      "async_results7 = []\n",
      "for x in range(numRuns):\n",
      "    ar = lbv.apply_async(SameDataTest, 'outBox1', useVal, shift)\n",
      "    async_results7.append(ar)"
     ],
     "language": "python",
     "metadata": {},
     "outputs": []
    },
    {
     "cell_type": "code",
     "collapsed": false,
     "input": [
      "async_results8 = []\n",
      "for x in range(numRuns):\n",
      "    ar = lbv.apply_async(SameDataTest, 'outBox2', useVal, shift)\n",
      "    async_results8.append(ar)"
     ],
     "language": "python",
     "metadata": {},
     "outputs": []
    },
    {
     "cell_type": "code",
     "collapsed": false,
     "input": [
      "async_results9 = []\n",
      "for x in range(numRuns):\n",
      "    ar = lbv.apply_async(SameDataTest, 'outBox3', useVal, shift)\n",
      "    async_results9.append(ar)"
     ],
     "language": "python",
     "metadata": {},
     "outputs": []
    },
    {
     "cell_type": "code",
     "collapsed": false,
     "input": [
      "async_results10 = []\n",
      "for x in range(numRuns):\n",
      "    ar = lbv.apply_async(CombineDataTest, 'outBox1', 'outBox2', 'outBox12', useVal, shift)\n",
      "    async_results10.append(ar)"
     ],
     "language": "python",
     "metadata": {},
     "outputs": []
    },
    {
     "cell_type": "code",
     "collapsed": false,
     "input": [
      "async_results11 = []\n",
      "for x in range(numRuns):\n",
      "    ar = lbv.apply_async(CombineDataTest, 'outBox1', 'outBox3', 'outBox13', useVal, shift)\n",
      "    async_results11.append(ar)"
     ],
     "language": "python",
     "metadata": {},
     "outputs": []
    },
    {
     "cell_type": "heading",
     "level": 3,
     "metadata": {},
     "source": [
      "Status"
     ]
    },
    {
     "cell_type": "code",
     "collapsed": false,
     "input": [
      "lbv.queue_status()"
     ],
     "language": "python",
     "metadata": {},
     "outputs": [
      {
       "metadata": {},
       "output_type": "pyout",
       "prompt_number": 98,
       "text": [
        "{0: {u'completed': 67, u'queue': 0, u'tasks': 0},\n",
        " 1: {u'completed': 65, u'queue': 0, u'tasks': 0},\n",
        " 2: {u'completed': 54, u'queue': 0, u'tasks': 0},\n",
        " 3: {u'completed': 65, u'queue': 0, u'tasks': 0},\n",
        " 4: {u'completed': 68, u'queue': 0, u'tasks': 0},\n",
        " 5: {u'completed': 58, u'queue': 0, u'tasks': 0},\n",
        " 6: {u'completed': 57, u'queue': 0, u'tasks': 0},\n",
        " 7: {u'completed': 66, u'queue': 0, u'tasks': 0},\n",
        " 8: {u'completed': 65, u'queue': 0, u'tasks': 0},\n",
        " 9: {u'completed': 68, u'queue': 0, u'tasks': 0},\n",
        " 10: {u'completed': 69, u'queue': 0, u'tasks': 0},\n",
        " 11: {u'completed': 69, u'queue': 0, u'tasks': 0},\n",
        " 12: {u'completed': 64, u'queue': 0, u'tasks': 0},\n",
        " 13: {u'completed': 61, u'queue': 0, u'tasks': 0},\n",
        " 14: {u'completed': 63, u'queue': 0, u'tasks': 0},\n",
        " 15: {u'completed': 67, u'queue': 0, u'tasks': 0},\n",
        " 16: {u'completed': 62, u'queue': 0, u'tasks': 0},\n",
        " 17: {u'completed': 67, u'queue': 0, u'tasks': 0},\n",
        " 18: {u'completed': 62, u'queue': 0, u'tasks': 0},\n",
        " 19: {u'completed': 67, u'queue': 0, u'tasks': 0},\n",
        " 20: {u'completed': 65, u'queue': 0, u'tasks': 0},\n",
        " 21: {u'completed': 63, u'queue': 0, u'tasks': 0},\n",
        " 22: {u'completed': 72, u'queue': 0, u'tasks': 0},\n",
        " 23: {u'completed': 67, u'queue': 0, u'tasks': 0},\n",
        " u'unassigned': 0}"
       ]
      }
     ],
     "prompt_number": 98
    },
    {
     "cell_type": "code",
     "collapsed": false,
     "input": [
      "[(x, [z.status for z in y]) for (x, y) in async_dict3.items()]"
     ],
     "language": "python",
     "metadata": {},
     "outputs": [
      {
       "metadata": {},
       "output_type": "pyout",
       "prompt_number": 96,
       "text": [
        "[('CirInSq-vetask1task5-svtask5-uValTrue-uRFalse',\n",
        "  [None,\n",
        "   None,\n",
        "   None,\n",
        "   None,\n",
        "   None,\n",
        "   None,\n",
        "   None,\n",
        "   None,\n",
        "   None,\n",
        "   None,\n",
        "   None,\n",
        "   None,\n",
        "   None,\n",
        "   None,\n",
        "   None]),\n",
        " ('band-vetask1task5-svtask5-uValTrue-uRFalse',\n",
        "  [None,\n",
        "   None,\n",
        "   None,\n",
        "   None,\n",
        "   None,\n",
        "   None,\n",
        "   None,\n",
        "   None,\n",
        "   None,\n",
        "   None,\n",
        "   None,\n",
        "   None,\n",
        "   None,\n",
        "   None,\n",
        "   None]),\n",
        " ('CirInSq-vetask1task5-svtask5-uValFalse-uRTrue',\n",
        "  [None,\n",
        "   None,\n",
        "   None,\n",
        "   None,\n",
        "   None,\n",
        "   None,\n",
        "   None,\n",
        "   None,\n",
        "   None,\n",
        "   None,\n",
        "   None,\n",
        "   None,\n",
        "   None,\n",
        "   None,\n",
        "   None]),\n",
        " ('CirInSq-vetask1task5-svtask1-uValTrue-uRTrue',\n",
        "  [u'ok',\n",
        "   u'ok',\n",
        "   u'ok',\n",
        "   u'ok',\n",
        "   u'ok',\n",
        "   u'ok',\n",
        "   u'ok',\n",
        "   u'ok',\n",
        "   u'ok',\n",
        "   u'ok',\n",
        "   u'ok',\n",
        "   u'ok',\n",
        "   u'ok',\n",
        "   u'ok',\n",
        "   u'ok']),\n",
        " ('band-vetask1task5-svtask5-uValTrue-uRTrue',\n",
        "  [u'ok',\n",
        "   u'ok',\n",
        "   u'ok',\n",
        "   u'ok',\n",
        "   u'ok',\n",
        "   u'ok',\n",
        "   u'ok',\n",
        "   u'ok',\n",
        "   u'ok',\n",
        "   u'ok',\n",
        "   u'ok',\n",
        "   u'ok',\n",
        "   u'ok',\n",
        "   u'ok',\n",
        "   u'ok']),\n",
        " ('band-vetask1task5-svtask5-uValFalse-uRFalse',\n",
        "  [None,\n",
        "   None,\n",
        "   None,\n",
        "   None,\n",
        "   None,\n",
        "   None,\n",
        "   None,\n",
        "   None,\n",
        "   None,\n",
        "   None,\n",
        "   None,\n",
        "   None,\n",
        "   None,\n",
        "   None,\n",
        "   None]),\n",
        " ('CirInSq-vetask1task5-svtask1-uValFalse-uRTrue',\n",
        "  [None,\n",
        "   None,\n",
        "   None,\n",
        "   None,\n",
        "   None,\n",
        "   None,\n",
        "   None,\n",
        "   None,\n",
        "   None,\n",
        "   None,\n",
        "   None,\n",
        "   None,\n",
        "   None,\n",
        "   None,\n",
        "   None]),\n",
        " ('band-vetask1task5-svtask1-uValTrue-uRTrue',\n",
        "  [u'ok',\n",
        "   u'ok',\n",
        "   u'ok',\n",
        "   u'ok',\n",
        "   u'ok',\n",
        "   u'ok',\n",
        "   u'ok',\n",
        "   u'ok',\n",
        "   u'ok',\n",
        "   u'ok',\n",
        "   u'ok',\n",
        "   u'ok',\n",
        "   u'ok',\n",
        "   u'ok',\n",
        "   u'ok']),\n",
        " ('CirInSq-vetask1task5-svtask5-uValTrue-uRTrue',\n",
        "  [u'ok',\n",
        "   None,\n",
        "   None,\n",
        "   None,\n",
        "   None,\n",
        "   None,\n",
        "   None,\n",
        "   None,\n",
        "   None,\n",
        "   None,\n",
        "   None,\n",
        "   None,\n",
        "   None,\n",
        "   None,\n",
        "   None]),\n",
        " ('band-vetask1task5-svtask1-uValFalse-uRFalse',\n",
        "  [None,\n",
        "   None,\n",
        "   None,\n",
        "   None,\n",
        "   None,\n",
        "   None,\n",
        "   None,\n",
        "   None,\n",
        "   None,\n",
        "   None,\n",
        "   None,\n",
        "   None,\n",
        "   None,\n",
        "   None,\n",
        "   None]),\n",
        " ('CirInSq-vetask1task5-svtask1-uValFalse-uRFalse',\n",
        "  [None,\n",
        "   None,\n",
        "   None,\n",
        "   None,\n",
        "   None,\n",
        "   None,\n",
        "   None,\n",
        "   None,\n",
        "   None,\n",
        "   None,\n",
        "   None,\n",
        "   None,\n",
        "   None,\n",
        "   None,\n",
        "   None]),\n",
        " ('band-vetask1task5-svtask1-uValFalse-uRTrue',\n",
        "  [None,\n",
        "   None,\n",
        "   None,\n",
        "   None,\n",
        "   None,\n",
        "   None,\n",
        "   None,\n",
        "   None,\n",
        "   None,\n",
        "   None,\n",
        "   None,\n",
        "   None,\n",
        "   None,\n",
        "   None,\n",
        "   None]),\n",
        " ('CirInSq-vetask1task5-svtask1-uValTrue-uRFalse',\n",
        "  [None,\n",
        "   None,\n",
        "   None,\n",
        "   None,\n",
        "   None,\n",
        "   None,\n",
        "   None,\n",
        "   None,\n",
        "   None,\n",
        "   None,\n",
        "   None,\n",
        "   None,\n",
        "   None,\n",
        "   None,\n",
        "   None]),\n",
        " ('band-vetask1task5-svtask1-uValTrue-uRFalse',\n",
        "  [u'ok',\n",
        "   u'ok',\n",
        "   u'ok',\n",
        "   u'ok',\n",
        "   u'ok',\n",
        "   u'ok',\n",
        "   u'ok',\n",
        "   u'ok',\n",
        "   u'ok',\n",
        "   u'ok',\n",
        "   u'ok',\n",
        "   u'ok',\n",
        "   None,\n",
        "   u'ok',\n",
        "   u'ok']),\n",
        " ('CirInSq-vetask1task5-svtask5-uValFalse-uRFalse',\n",
        "  [None,\n",
        "   None,\n",
        "   None,\n",
        "   None,\n",
        "   None,\n",
        "   None,\n",
        "   None,\n",
        "   None,\n",
        "   None,\n",
        "   None,\n",
        "   None,\n",
        "   None,\n",
        "   None,\n",
        "   None,\n",
        "   None]),\n",
        " ('band-vetask1task5-svtask5-uValFalse-uRTrue',\n",
        "  [None,\n",
        "   None,\n",
        "   None,\n",
        "   None,\n",
        "   None,\n",
        "   None,\n",
        "   None,\n",
        "   None,\n",
        "   None,\n",
        "   None,\n",
        "   None,\n",
        "   None,\n",
        "   None,\n",
        "   None,\n",
        "   None])]"
       ]
      }
     ],
     "prompt_number": 96
    },
    {
     "cell_type": "code",
     "collapsed": false,
     "input": [
      "async_dict3.items()[0][1][0].result"
     ],
     "language": "python",
     "metadata": {},
     "outputs": [
      {
       "ename": "RemoteError",
       "evalue": "NameError(global name 'LoadTabbedDS' is not defined)",
       "output_type": "pyerr",
       "traceback": [
        "\u001b[1;31m---------------------------------------------------------------------------\u001b[0m",
        "\u001b[1;31mNameError\u001b[0m                                 Traceback (most recent call last)\u001b[1;32m<string>\u001b[0m in \u001b[0;36m<module>\u001b[1;34m()\u001b[0m",
        "\u001b[1;32m<ipython-input-76-6f797bed553e>\u001b[0m in \u001b[0;36mSingleDataTestRevTabbed\u001b[1;34m(dsname, view, subview, archive, count, useVal, useRev, numRev, bufferSize)\u001b[0m",
        "\u001b[1;31mNameError\u001b[0m: global name 'LoadTabbedDS' is not defined"
       ]
      }
     ],
     "prompt_number": 92
    },
    {
     "cell_type": "raw",
     "metadata": {},
     "source": [
      "async_results[0].result"
     ]
    },
    {
     "cell_type": "raw",
     "metadata": {},
     "source": [
      "[x.result[0]['task-0'] for x in async_results8 if x.progress == 1]"
     ]
    },
    {
     "cell_type": "raw",
     "metadata": {},
     "source": [
      "[x.result[1] for x in async_results8 if x.progress == 1]"
     ]
    },
    {
     "cell_type": "raw",
     "metadata": {},
     "source": [
      "kbccresults = []\n",
      "for ar in async_results:\n",
      "    kbccresults.append(ar.result)"
     ]
    },
    {
     "cell_type": "code",
     "collapsed": false,
     "input": [
      "import json"
     ],
     "language": "python",
     "metadata": {},
     "outputs": [],
     "prompt_number": 39
    },
    {
     "cell_type": "code",
     "collapsed": false,
     "input": [
      "RevResults = [(\"{}.json\".format(x), [z.result for z in y]) for (x, y) in async_dict3.items()]"
     ],
     "language": "python",
     "metadata": {},
     "outputs": [],
     "prompt_number": 100
    },
    {
     "cell_type": "code",
     "collapsed": false,
     "input": [
      "async_dict3.keys()"
     ],
     "language": "python",
     "metadata": {},
     "outputs": [
      {
       "metadata": {},
       "output_type": "pyout",
       "prompt_number": 99,
       "text": [
        "['CirInSq-vetask1task5-svtask5-uValTrue-uRFalse',\n",
        " 'band-vetask1task5-svtask5-uValTrue-uRFalse',\n",
        " 'CirInSq-vetask1task5-svtask5-uValFalse-uRTrue',\n",
        " 'CirInSq-vetask1task5-svtask1-uValTrue-uRTrue',\n",
        " 'band-vetask1task5-svtask5-uValTrue-uRTrue',\n",
        " 'band-vetask1task5-svtask5-uValFalse-uRFalse',\n",
        " 'CirInSq-vetask1task5-svtask1-uValFalse-uRTrue',\n",
        " 'band-vetask1task5-svtask1-uValTrue-uRTrue',\n",
        " 'CirInSq-vetask1task5-svtask5-uValTrue-uRTrue',\n",
        " 'band-vetask1task5-svtask1-uValFalse-uRFalse',\n",
        " 'CirInSq-vetask1task5-svtask1-uValFalse-uRFalse',\n",
        " 'band-vetask1task5-svtask1-uValFalse-uRTrue',\n",
        " 'CirInSq-vetask1task5-svtask1-uValTrue-uRFalse',\n",
        " 'band-vetask1task5-svtask1-uValTrue-uRFalse',\n",
        " 'CirInSq-vetask1task5-svtask5-uValFalse-uRFalse',\n",
        " 'band-vetask1task5-svtask5-uValFalse-uRTrue']"
       ]
      }
     ],
     "prompt_number": 99
    },
    {
     "cell_type": "code",
     "collapsed": false,
     "input": [
      "for (filename, results) in RevResults:\n",
      "    with open(os.path.join('Notebook Data', filename), 'w') as fileh:\n",
      "        json.dump(results, fileh)"
     ],
     "language": "python",
     "metadata": {},
     "outputs": [],
     "prompt_number": 101
    },
    {
     "cell_type": "heading",
     "level": 3,
     "metadata": {},
     "source": [
      "Scratch Stuff"
     ]
    },
    {
     "cell_type": "code",
     "collapsed": false,
     "input": [],
     "language": "python",
     "metadata": {},
     "outputs": []
    },
    {
     "cell_type": "raw",
     "metadata": {},
     "source": [
      "json.dump(kbccresults, open(\"kbccsametaskresults.json\", 'w'))"
     ]
    },
    {
     "cell_type": "code",
     "collapsed": false,
     "input": [
      "import math"
     ],
     "language": "python",
     "metadata": {},
     "outputs": []
    },
    {
     "cell_type": "code",
     "collapsed": false,
     "input": [
      "math.sqrt(0.0134)"
     ],
     "language": "python",
     "metadata": {},
     "outputs": []
    },
    {
     "cell_type": "code",
     "collapsed": false,
     "input": [
      "async_results2 = []\n",
      "for x in range(30):\n",
      "    ar = lbv.apply_async(SingleDataTest, 'outBox1', False)\n",
      "    async_results2.append(ar)"
     ],
     "language": "python",
     "metadata": {},
     "outputs": []
    },
    {
     "cell_type": "code",
     "collapsed": false,
     "input": [
      "rc.queue_status()"
     ],
     "language": "python",
     "metadata": {},
     "outputs": []
    },
    {
     "cell_type": "code",
     "collapsed": false,
     "input": [
      "[x.result[0]['task-0'] for x in async_results2]"
     ],
     "language": "python",
     "metadata": {},
     "outputs": []
    },
    {
     "cell_type": "code",
     "collapsed": false,
     "input": [
      "[x.result[1] for x in async_results2]"
     ],
     "language": "python",
     "metadata": {},
     "outputs": []
    },
    {
     "cell_type": "code",
     "collapsed": false,
     "input": [
      "outBox1singleresults = []\n",
      "for ar in async_results2:\n",
      "    outBox1singleresults.append(ar.result)"
     ],
     "language": "python",
     "metadata": {},
     "outputs": []
    },
    {
     "cell_type": "code",
     "collapsed": false,
     "input": [
      "json.dump(outBox1singleresults, open(\"outBox1singleResult.json\", 'w'))"
     ],
     "language": "python",
     "metadata": {},
     "outputs": []
    },
    {
     "cell_type": "code",
     "collapsed": false,
     "input": [
      "async_results3 = []\n",
      "for x in range(3):\n",
      "    ar = lbv.apply_async(CombineDataTest, 'outBox1', 'outBox2', 'outBox12')\n",
      "    async_results3.append(ar)"
     ],
     "language": "python",
     "metadata": {},
     "outputs": []
    },
    {
     "cell_type": "code",
     "collapsed": false,
     "input": [
      "rc.queue_status()"
     ],
     "language": "python",
     "metadata": {},
     "outputs": []
    },
    {
     "cell_type": "code",
     "collapsed": false,
     "input": [
      "[x.result[0]['task-0'] for x in async_results3 if x.progress == 1]"
     ],
     "language": "python",
     "metadata": {},
     "outputs": []
    },
    {
     "cell_type": "code",
     "collapsed": false,
     "input": [
      "[x.result[1] for x in async_results3 if x.progress == 1]"
     ],
     "language": "python",
     "metadata": {},
     "outputs": []
    },
    {
     "cell_type": "code",
     "collapsed": false,
     "input": [
      "async_results4 = []\n",
      "for x in range(3):\n",
      "    ar = lbv.apply_async(SingleDataTest, 'outBox12')\n",
      "    async_results4.append(ar)"
     ],
     "language": "python",
     "metadata": {},
     "outputs": []
    },
    {
     "cell_type": "code",
     "collapsed": false,
     "input": [
      "rc.queue_status()"
     ],
     "language": "python",
     "metadata": {},
     "outputs": []
    },
    {
     "cell_type": "code",
     "collapsed": false,
     "input": [
      "[x.result[0]['task-0'] for x in async_results4]"
     ],
     "language": "python",
     "metadata": {},
     "outputs": []
    },
    {
     "cell_type": "code",
     "collapsed": false,
     "input": [
      "[x.result[1] for x in async_results4]"
     ],
     "language": "python",
     "metadata": {},
     "outputs": []
    },
    {
     "cell_type": "code",
     "collapsed": false,
     "input": [
      "tmpArr = [x.result for x in async_results]"
     ],
     "language": "python",
     "metadata": {},
     "outputs": []
    },
    {
     "cell_type": "code",
     "collapsed": false,
     "input": [
      "len(tmpArr)"
     ],
     "language": "python",
     "metadata": {},
     "outputs": []
    },
    {
     "cell_type": "code",
     "collapsed": false,
     "input": [
      "out2sing = tmpArr[0:30]\n",
      "out123sing = tmpArr[30:]\n",
      "(len(out2sing), len(out123sing))"
     ],
     "language": "python",
     "metadata": {},
     "outputs": []
    },
    {
     "cell_type": "code",
     "collapsed": false,
     "input": [
      "json.dump(out2sing, open(\"outBox2Single.json\", 'w'))\n",
      "json.dump(out123sing, open(\"outBox123Single.json\", 'w'))"
     ],
     "language": "python",
     "metadata": {},
     "outputs": []
    },
    {
     "cell_type": "code",
     "collapsed": false,
     "input": [
      "results = [async_results, async_results2, async_results3, async_results4, async_results5, async_results6, async_results7, async_results8, async_results9, async_results10, async_results11]\n",
      "filenames = [\"outBox1Single.json\", \"outBox2Single.json\", \"outBox3Single.json\", \"outBox12Single.json\", \"outBox13Single.json\", \"outBox123Single.json\", \"outBox1Same.json\", \"outBox2Same.json\", \"outBox3Same.json\", \"outBox12Combine.json\", \"outBox13Combine.json\"]"
     ],
     "language": "python",
     "metadata": {},
     "outputs": []
    },
    {
     "cell_type": "code",
     "collapsed": false,
     "input": [
      "results = [async_results, async_results2, async_results3, async_results4, async_results5, async_results6, async_results7, async_results8, async_results9, async_results10, async_results11]\n",
      "filenames = [\"outBox1SingleNoVal.json\", \"outBox2SingleNoVal.json\", \"outBox3SingleNoVal.json\", \"outBox12SingleNoVal.json\", \"outBox13SingleNoVal.json\", \"outBox123SingleNoVal.json\", \"outBox1SameNoVal.json\", \"outBox2SameNoVal.json\", \"outBox3SameNoVal.json\", \"outBox12CombineNoVal.json\", \"outBox13CombineNoVal.json\"]"
     ],
     "language": "python",
     "metadata": {},
     "outputs": []
    },
    {
     "cell_type": "code",
     "collapsed": false,
     "input": [
      "results = [async_results, async_results2, async_results3, async_results4, async_results5, async_results6, async_results7, async_results8, async_results9, async_results10, async_results11]\n",
      "filenames = [\"outBox1SingleShifted.json\", \"outBox2SingleShifted.json\", \"outBox3SingleShifted.json\", \"outBox12SingleShifted.json\", \"outBox13SingleShifted.json\", \"outBox123SingleShifted.json\", \"outBox1SameShifted.json\", \"outBox2SameShifted.json\", \"outBox3SameShifted.json\", \"outBox12CombineShifted.json\", \"outBox13CombineShifted.json\"]"
     ],
     "language": "python",
     "metadata": {},
     "outputs": []
    },
    {
     "cell_type": "code",
     "collapsed": false,
     "input": [
      "results = [async_results, async_results2, async_results3, async_results4, async_results5, async_results6, async_results7, async_results8, async_results9, async_results10, async_results11]\n",
      "filenames = [\"outBox1SingleNoValShifted.json\", \"outBox2SingleNoValShifted.json\", \"outBox3SingleNoValShifted.json\", \"outBox12SingleNoValShifted.json\", \"outBox13SingleNoValShifted.json\", \"outBox123SingleNoValShifted.json\", \"outBox1SameNoValShifted.json\", \"outBox2SameNoValShifted.json\", \"outBox3SameNoValShifted.json\", \"outBox12CombineNoValShifted.json\", \"outBox13CombineNoValShifted.json\"]"
     ],
     "language": "python",
     "metadata": {},
     "outputs": []
    },
    {
     "cell_type": "code",
     "collapsed": false,
     "input": [
      "for (inResult, filename) in zip(results, filenames):\n",
      "    json.dump([x.result for x in inResult], open(filename, 'w'))"
     ],
     "language": "python",
     "metadata": {},
     "outputs": []
    },
    {
     "cell_type": "heading",
     "level": 1,
     "metadata": {},
     "source": [
      "Plotting Things"
     ]
    },
    {
     "cell_type": "code",
     "collapsed": false,
     "input": [
      "import json"
     ],
     "language": "python",
     "metadata": {},
     "outputs": []
    },
    {
     "cell_type": "code",
     "collapsed": false,
     "input": [
      "%pylab"
     ],
     "language": "python",
     "metadata": {},
     "outputs": []
    },
    {
     "cell_type": "code",
     "collapsed": false,
     "input": [
      "import numpy as np"
     ],
     "language": "python",
     "metadata": {},
     "outputs": []
    },
    {
     "cell_type": "code",
     "collapsed": false,
     "input": [
      "from config import *\n",
      "import ObsUtility"
     ],
     "language": "python",
     "metadata": {},
     "outputs": []
    },
    {
     "cell_type": "code",
     "collapsed": false,
     "input": [
      "outBox1same = json.load(open(\"Notebook Data/outBox1Same.json\"))\n",
      "outBox1Single = json.load(open(\"Notebook Data/outBox1Single.json\"))\n",
      "outBox2Single = json.load(open(\"Notebook Data/outBox2Single.json\"))\n",
      "outBox3Single = json.load(open(\"Notebook Data/outBox3Single.json\"))\n",
      "outBox2same = json.load(open(\"Notebook Data/outBox2Same.json\"))\n",
      "outBox3same = json.load(open(\"Notebook Data/outBox3Same.json\"))"
     ],
     "language": "python",
     "metadata": {},
     "outputs": []
    },
    {
     "cell_type": "code",
     "collapsed": false,
     "input": [
      "outBox1same = json.load(open(\"Notebook Data/outBox1SameNoVal.json\"))\n",
      "outBox1Single = json.load(open(\"Notebook Data/outBox1SingleNoVal.json\"))\n",
      "outBox2Single = json.load(open(\"Notebook Data/outBox2SingleNoVal.json\"))\n",
      "outBox3Single = json.load(open(\"Notebook Data/outBox3SingleNoVal.json\"))\n",
      "outBox2same = json.load(open(\"Notebook Data/outBox2SameNoVal.json\"))\n",
      "outBox3same = json.load(open(\"Notebook Data/outBox3SameNoVal.json\"))"
     ],
     "language": "python",
     "metadata": {},
     "outputs": []
    },
    {
     "cell_type": "code",
     "collapsed": false,
     "input": [
      "xmarks = [\"OutBox 1\", \"OutBox 2\", \"OutBox 3\"]"
     ],
     "language": "python",
     "metadata": {},
     "outputs": []
    },
    {
     "cell_type": "code",
     "collapsed": false,
     "input": [
      "sameVars = [outBox1same, outBox2same, outBox3same]\n",
      "singleVars = [outBox1Single, outBox2Single, outBox3Single]"
     ],
     "language": "python",
     "metadata": {},
     "outputs": []
    },
    {
     "cell_type": "code",
     "collapsed": false,
     "input": [
      "ArrayBarTuples = []\n",
      "sameavgs = []\n",
      "sameerrs = []\n",
      "singleavgs = []\n",
      "singleerrs = []\n",
      "\n",
      "for (same, single) in zip(sameVars, singleVars):\n",
      "    sameavg, sameerr = CalcMeanAndError([x[0]['task-0'] for x in same])\n",
      "    singleavg, singleerr = CalcMeanAndError([x[0]['task-0'] for x in single])\n",
      "    sameavgs.append(sameavg)\n",
      "    sameerrs.append(sameerr)\n",
      "    singleavgs.append(singleavg)\n",
      "    singleerrs.append(singleerr)\n",
      "    \n",
      "ArrayBarTuples.append((sameavgs, sameerrs, 'b', 'KBCC'))\n",
      "ArrayBarTuples.append((singleavgs, singleerrs, 'b', 'CC'))\n",
      "    "
     ],
     "language": "python",
     "metadata": {},
     "outputs": []
    },
    {
     "cell_type": "code",
     "collapsed": false,
     "input": [
      "ArrayBarTuples2 = []\n",
      "epsameavgs = []\n",
      "epsameerrs = []\n",
      "epsingleavgs = []\n",
      "epsingleerrs = []\n",
      "\n",
      "for (same, single) in zip(sameVars, singleVars):\n",
      "    sameavg, sameerr = CalcMeanAndError([x[1] for x in same])\n",
      "    singleavg, singleerr = CalcMeanAndError([x[1] for x in single])\n",
      "    epsameavgs.append(sameavg)\n",
      "    epsameerrs.append(sameerr)\n",
      "    epsingleavgs.append(singleavg)\n",
      "    epsingleerrs.append(singleerr)\n",
      "    \n",
      "ArrayBarTuples2.append((epsameavgs, epsameerrs, 'b', 'KBCC'))\n",
      "ArrayBarTuples2.append((epsingleavgs, epsingleerrs, 'b', 'CC'))"
     ],
     "language": "python",
     "metadata": {},
     "outputs": []
    },
    {
     "cell_type": "code",
     "collapsed": false,
     "input": [
      "singleavgs"
     ],
     "language": "python",
     "metadata": {},
     "outputs": []
    },
    {
     "cell_type": "code",
     "collapsed": false,
     "input": [
      "fig1 = ObsUtility.PlotMultiBar(xmarks, ArrayBarTuples, \"KBCC Error\", \"% Error\")\n",
      "fig2 = ObsUtility.PlotMultiBar(xmarks, ArrayBarTuples2, \"KBCC Epochs\", \"Epochs\")"
     ],
     "language": "python",
     "metadata": {},
     "outputs": []
    },
    {
     "cell_type": "code",
     "collapsed": false,
     "input": [
      "%load_ext autoreload\n",
      "%autoreload 2"
     ],
     "language": "python",
     "metadata": {},
     "outputs": []
    },
    {
     "cell_type": "code",
     "collapsed": false,
     "input": [],
     "language": "python",
     "metadata": {},
     "outputs": []
    },
    {
     "cell_type": "code",
     "collapsed": false,
     "input": [
      "xmarks2 = ['outBox 1+2', 'outBox 1+3']"
     ],
     "language": "python",
     "metadata": {},
     "outputs": []
    },
    {
     "cell_type": "code",
     "collapsed": false,
     "input": [
      "outBox12single = json.load(open(\"Notebook Data/outBox12Single.json\"))\n",
      "outBox13single = json.load(open(\"Notebook Data/outBox13Single.json\"))\n",
      "outBox12Comb = json.load(open(\"Notebook Data/outBox12Combine.json\"))\n",
      "outBox13Comb = json.load(open(\"Notebook Data/outBox13Combine.json\"))"
     ],
     "language": "python",
     "metadata": {},
     "outputs": []
    },
    {
     "cell_type": "code",
     "collapsed": false,
     "input": [
      "outBox12single = json.load(open(\"Notebook Data/outBox12SingleNoVal.json\"))\n",
      "outBox13single = json.load(open(\"Notebook Data/outBox13SingleNoVal.json\"))\n",
      "outBox12Comb = json.load(open(\"Notebook Data/outBox12CombineNoVal.json\"))\n",
      "outBox13Comb = json.load(open(\"Notebook Data/outBox13CombineNoVal.json\"))"
     ],
     "language": "python",
     "metadata": {},
     "outputs": []
    },
    {
     "cell_type": "code",
     "collapsed": false,
     "input": [
      "singleVars2 = [outBox12single, outBox13single]\n",
      "combinVars2 = [outBox12Comb, outBox13Comb]"
     ],
     "language": "python",
     "metadata": {},
     "outputs": []
    },
    {
     "cell_type": "code",
     "collapsed": false,
     "input": [
      "ArrayBarTuples3 = []\n",
      "singAvgs3 = []\n",
      "combAvgs3 = []\n",
      "singErrs3 = []\n",
      "combErrs3 = []\n",
      "\n",
      "for (single, comb) in zip(singleVars2, combinVars2):\n",
      "    singleavg, singleerr = CalcMeanAndError([x[0]['task-0'] for x in single])\n",
      "    combavg, comberr = CalcMeanAndError([x[0]['task-0'] for x in comb])\n",
      "    singAvgs3.append(singleavg)\n",
      "    singErrs3.append(singleerr)\n",
      "    combErrs3.append(comberr)\n",
      "    combAvgs3.append(combavg)\n",
      "\n",
      "ArrayBarTuples3.append((singAvgs3, singErrs3, 'b', 'CC'))\n",
      "ArrayBarTuples3.append((combAvgs3, combErrs3, 'b', 'KBCC'))"
     ],
     "language": "python",
     "metadata": {},
     "outputs": []
    },
    {
     "cell_type": "code",
     "collapsed": false,
     "input": [
      "def CalcMaVforMat(inMat, xfunc):\n",
      "    retAvgs = []\n",
      "    retErrs = []\n",
      "    for inArray in inMat:\n",
      "        avg, err = CalcMeanAndError([xfunc(x) for x in inArray])\n",
      "        retAvgs.append(avg)\n",
      "        retErrs.append(err)\n",
      "    \n",
      "    return retAvgs, retErrs"
     ],
     "language": "python",
     "metadata": {},
     "outputs": []
    },
    {
     "cell_type": "code",
     "collapsed": false,
     "input": [
      "fig3 = ObsUtility.PlotMultiBar(xmarks2, ArrayBarTuples3, \"KBCC Combined Error\", \"% Error\")"
     ],
     "language": "python",
     "metadata": {},
     "outputs": []
    },
    {
     "cell_type": "code",
     "collapsed": false,
     "input": [
      "ArrayBarTuples4 = []\n",
      "singAvgs4, singErrs4 = CalcMaVforMat(singleVars2, lambda x: x[1])\n",
      "combAvgs4, combErrs4 = CalcMaVforMat(combinVars2, lambda x: x[1])\n",
      "ArrayBarTuples4.append((singAvgs4, singErrs4, 'b', \"CC\"))\n",
      "ArrayBarTuples4.append((combAvgs4, combErrs4, 'b', \"KBCC\"))"
     ],
     "language": "python",
     "metadata": {},
     "outputs": []
    },
    {
     "cell_type": "code",
     "collapsed": false,
     "input": [
      "fig4 = ObsUtility.PlotMultiBar(xmarks2, ArrayBarTuples4, \"KBCC Combined Epochs\", \"Epochs\")"
     ],
     "language": "python",
     "metadata": {},
     "outputs": []
    },
    {
     "cell_type": "code",
     "collapsed": false,
     "input": [],
     "language": "python",
     "metadata": {},
     "outputs": []
    }
   ],
   "metadata": {}
  }
 ]
}