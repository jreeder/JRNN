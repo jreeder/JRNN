{
 "metadata": {
  "name": "Scratchsheet"
 },
 "nbformat": 3,
 "nbformat_minor": 0,
 "worksheets": [
  {
   "cells": [
    {
     "cell_type": "code",
     "collapsed": false,
     "input": [
      "import random"
     ],
     "language": "python",
     "metadata": {},
     "outputs": []
    },
    {
     "cell_type": "code",
     "collapsed": false,
     "input": [
      "for i in range(1, 10, 2):\n",
      "            i = i / 10.0\n",
      "            i = i + ((random.random() * 0.10) - 0.05)\n",
      "            for j in range(1, 10, 2):\n",
      "                    # don't collide with trees - they are over 500 triangles each\n",
      "                    # Add some randomness to the placement.\n",
      "                    \n",
      "                    j = j / 10.0\n",
      "                    \n",
      "                    #j = j + ((random() * 0.10) - 0.05)\n",
      "                    print i, j"
     ],
     "language": "python",
     "metadata": {},
     "outputs": []
    },
    {
     "cell_type": "code",
     "collapsed": false,
     "input": [
      "XDIM = 800\n",
      "YDIM = 800\n",
      "\n",
      "SPAWN_POINTS = []\n",
      "for i in range(1, 6):\n",
      "    for j in range(1, 6):\n",
      "        point = (XDIM * (i / 6.0), YDIM * (j / 6.0))\n",
      "        SPAWN_POINTS.append(point)\n",
      "\n",
      "\n",
      "def getRandomSpawnPoint():\n",
      "    index = random.randrange(len(SPAWN_POINTS))\n",
      "    return SPAWN_POINTS[index]"
     ],
     "language": "python",
     "metadata": {},
     "outputs": []
    },
    {
     "cell_type": "code",
     "collapsed": false,
     "input": [
      "def getSpawnPoints():\n",
      "        point1 = getRandomSpawnPoint()\n",
      "        point2 = getRandomSpawnPoint()\n",
      "        while point1 == point2:\n",
      "            point2 = getRandomSpawnPoint()\n",
      "\n",
      "        return point1, point2"
     ],
     "language": "python",
     "metadata": {},
     "outputs": []
    },
    {
     "cell_type": "code",
     "collapsed": false,
     "input": [
      "point1, point2 = getSpawnPoints()\n",
      "print point1, point2"
     ],
     "language": "python",
     "metadata": {},
     "outputs": []
    },
    {
     "cell_type": "code",
     "collapsed": false,
     "input": [
      "point1[0]"
     ],
     "language": "python",
     "metadata": {},
     "outputs": []
    },
    {
     "cell_type": "code",
     "collapsed": false,
     "input": [
      "del point1[:]\n",
      "print point1"
     ],
     "language": "python",
     "metadata": {},
     "outputs": []
    },
    {
     "cell_type": "code",
     "collapsed": false,
     "input": [
      "del SPAWN_POINTS[:]\n",
      "print SPAWN_POINTS"
     ],
     "language": "python",
     "metadata": {},
     "outputs": []
    },
    {
     "cell_type": "code",
     "collapsed": false,
     "input": [
      "userdatapath = \"D:\\Users\\John Reeder\\Code\\opennero\\Build\\dist\\Debug\\jrnnexp1\\users\""
     ],
     "language": "python",
     "metadata": {},
     "outputs": []
    },
    {
     "cell_type": "code",
     "collapsed": false,
     "input": [
      "import os\n",
      "jcginn = os.path.join(userdatapath, \"jcginn\")\n",
      "jcginndata = os.path.join(jcginn, \"data\") \n",
      "jcginnscenarios = os.listdir(jcginndata)"
     ],
     "language": "python",
     "metadata": {},
     "outputs": []
    },
    {
     "cell_type": "code",
     "collapsed": false,
     "input": [
      "scenariofiles = {\"training\": [], \"history\": []}"
     ],
     "language": "python",
     "metadata": {},
     "outputs": []
    },
    {
     "cell_type": "code",
     "collapsed": false,
     "input": [
      "def loadScenarioFiles(scenarioPath):\n",
      "    scenariofiles = {}\n",
      "    trainingdir = os.path.join(scenarioPath, \"training\")\n",
      "    historydir = os.path.join(scenarioPath, \"history\")\n",
      "    scenariofiles[\"training\"] = [os.path.join(trainingdir, x) for x in os.listdir(trainingdir)]\n",
      "    scenariofiles[\"history\"] = [os.path.join(historydir, x) for x in os.listdir(historydir)]\n",
      "    return scenariofiles"
     ],
     "language": "python",
     "metadata": {},
     "outputs": []
    },
    {
     "cell_type": "code",
     "collapsed": false,
     "input": [
      "scenariofiles = loadScenarioFiles(os.path.join(jcginndata, jcginnscenarios[0]))"
     ],
     "language": "python",
     "metadata": {},
     "outputs": []
    },
    {
     "cell_type": "code",
     "collapsed": false,
     "input": [
      "scenariofiles"
     ],
     "language": "python",
     "metadata": {},
     "outputs": []
    },
    {
     "cell_type": "code",
     "collapsed": false,
     "input": [
      "import json"
     ],
     "language": "python",
     "metadata": {},
     "outputs": []
    },
    {
     "cell_type": "code",
     "collapsed": false,
     "input": [
      "agenthistory1 = json.load(open(scenariofiles['history'][1]))"
     ],
     "language": "python",
     "metadata": {},
     "outputs": []
    },
    {
     "cell_type": "code",
     "collapsed": false,
     "input": [
      "fileh = open(scenariofiles['history'][1])"
     ],
     "language": "python",
     "metadata": {},
     "outputs": []
    },
    {
     "cell_type": "code",
     "collapsed": false,
     "input": [
      "line = fileh.readline()"
     ],
     "language": "python",
     "metadata": {},
     "outputs": []
    },
    {
     "cell_type": "code",
     "collapsed": false,
     "input": [
      "print line.count(\"}{\")"
     ],
     "language": "python",
     "metadata": {},
     "outputs": []
    },
    {
     "cell_type": "code",
     "collapsed": false,
     "input": [
      "newline = line.replace(\"}{\", \"}|{\")\n",
      "objects = newline.split(\"|\")"
     ],
     "language": "python",
     "metadata": {},
     "outputs": []
    },
    {
     "cell_type": "code",
     "collapsed": false,
     "input": [
      "len(objects)"
     ],
     "language": "python",
     "metadata": {},
     "outputs": []
    },
    {
     "cell_type": "code",
     "collapsed": false,
     "input": [
      "tmpObject = json.loads(objects[0])"
     ],
     "language": "python",
     "metadata": {},
     "outputs": []
    },
    {
     "cell_type": "code",
     "collapsed": false,
     "input": [
      "history = tmpObject[\"Runner\"]\n",
      "len(history)"
     ],
     "language": "python",
     "metadata": {},
     "outputs": []
    },
    {
     "cell_type": "code",
     "collapsed": false,
     "input": [
      "trainingdata = json.load(open(scenariofiles['training'][1]))"
     ],
     "language": "python",
     "metadata": {},
     "outputs": []
    },
    {
     "cell_type": "code",
     "collapsed": false,
     "input": [
      "len(trainingdata)"
     ],
     "language": "python",
     "metadata": {},
     "outputs": []
    },
    {
     "cell_type": "code",
     "collapsed": false,
     "input": [
      "for i in range(10):\n",
      "    print trainingdata[i]\n",
      "    if i > 0:\n",
      "        if trainingdata[i-1][\"sensors\"] == trainingdata[i][\"sensors\"]:\n",
      "            print True\n",
      "        else:\n",
      "            print False"
     ],
     "language": "python",
     "metadata": {},
     "outputs": []
    },
    {
     "cell_type": "code",
     "collapsed": false,
     "input": [
      "tupledata = [repr((x['sensors'], x['actions'])) for x in trainingdata]"
     ],
     "language": "python",
     "metadata": {},
     "outputs": []
    },
    {
     "cell_type": "code",
     "collapsed": false,
     "input": [
      "tmpset = set(tupledata)"
     ],
     "language": "python",
     "metadata": {},
     "outputs": []
    },
    {
     "cell_type": "code",
     "collapsed": false,
     "input": [
      "len(tmpset)"
     ],
     "language": "python",
     "metadata": {},
     "outputs": []
    },
    {
     "cell_type": "code",
     "collapsed": false,
     "input": [],
     "language": "python",
     "metadata": {},
     "outputs": []
    },
    {
     "cell_type": "code",
     "collapsed": false,
     "input": [
      "from IPython.lib import passwd"
     ],
     "language": "python",
     "metadata": {},
     "outputs": []
    },
    {
     "cell_type": "code",
     "collapsed": false,
     "input": [
      "from IPython.parallel import Client\n",
      "rc = Client()"
     ],
     "language": "python",
     "metadata": {},
     "outputs": []
    },
    {
     "cell_type": "code",
     "collapsed": false,
     "input": [
      "rc.ids"
     ],
     "language": "python",
     "metadata": {},
     "outputs": []
    },
    {
     "cell_type": "code",
     "collapsed": false,
     "input": [
      "import PyJRNN"
     ],
     "language": "python",
     "metadata": {},
     "outputs": []
    },
    {
     "cell_type": "code",
     "collapsed": false,
     "input": [
      "PyJRNN.trainers.INDEX"
     ],
     "language": "python",
     "metadata": {},
     "outputs": []
    },
    {
     "cell_type": "code",
     "collapsed": false,
     "input": [
      "print PyJRNN.trainers.INDEX"
     ],
     "language": "python",
     "metadata": {},
     "outputs": []
    },
    {
     "cell_type": "code",
     "collapsed": false,
     "input": [
      "import json\n",
      "resultsjames = json.load(open('Notebook Data/ObsResult1.json'))"
     ],
     "language": "python",
     "metadata": {},
     "outputs": []
    },
    {
     "cell_type": "code",
     "collapsed": false,
     "input": [
      "from config import *"
     ],
     "language": "python",
     "metadata": {},
     "outputs": []
    },
    {
     "cell_type": "code",
     "collapsed": false,
     "input": [
      "resultsjames[0][0]"
     ],
     "language": "python",
     "metadata": {},
     "outputs": []
    },
    {
     "cell_type": "code",
     "collapsed": false,
     "input": [
      "tr1erravg, tr1errerr = CalcMeanAndError([x[0]['tr1.testError'] for x in resultsjames])\n",
      "tr2erravg, tr2errerr = CalcMeanAndError([x[0]['tr2.testError'] for x in resultsjames])\n",
      "tr3erravg, tr3errerr = CalcMeanAndError([x[0]['tr3.testError'] for x in resultsjames])"
     ],
     "language": "python",
     "metadata": {},
     "outputs": []
    },
    {
     "cell_type": "code",
     "collapsed": false,
     "input": [
      "print tr1erravg, tr2erravg, tr3erravg"
     ],
     "language": "python",
     "metadata": {},
     "outputs": []
    },
    {
     "cell_type": "code",
     "collapsed": false,
     "input": [
      "from ObsUtility import userspath, LoadUserData, LoadTrainingData, CreateUserDatasets, ConsolidatedTrainingTest, sortField, ScoreFromInputs"
     ],
     "language": "python",
     "metadata": {},
     "outputs": [],
     "prompt_number": 1
    },
    {
     "cell_type": "code",
     "collapsed": false,
     "input": [
      "scenarios = LoadUserData('jcginn')\n",
      "scenarios.keys()"
     ],
     "language": "python",
     "metadata": {},
     "outputs": [
      {
       "output_type": "pyout",
       "prompt_number": 48,
       "text": [
        "['ChaseObstaclesShoot - 13Feb2013183704',\n",
        " 'ChaseShoot - 13Feb2013183027',\n",
        " 'Obstacles - 07Feb2013174443',\n",
        " 'ChaseObstacles - 07Feb2013175126',\n",
        " 'Chase - 13Nov2012223245',\n",
        " 'Chase - 07Feb2013172954',\n",
        " 'ChaseObstacles - 13Nov2012224137']"
       ]
      }
     ],
     "prompt_number": 48
    },
    {
     "cell_type": "code",
     "collapsed": false,
     "input": [
      "training = scenarios['ChaseObstaclesShoot - 13Feb2013183704']['training']\n",
      "training.sort(key=lambda x: int(sortField.search(x).group(1)))\n",
      "data = LoadTrainingData(training)"
     ],
     "language": "python",
     "metadata": {},
     "outputs": [],
     "prompt_number": 51
    },
    {
     "cell_type": "code",
     "collapsed": false,
     "input": [
      "import numpy"
     ],
     "language": "python",
     "metadata": {},
     "outputs": [],
     "prompt_number": 44
    },
    {
     "cell_type": "code",
     "collapsed": false,
     "input": [
      "scoreArray = []\n",
      "shootScoreArray = []\n",
      "size = len(data[1])\n",
      "minSize = min([len(x) for x in data])\n",
      "stride = size / 900\n",
      "for scen in data:\n",
      "    inputs = numpy.array([x['sensors'] for x in scen[-minSize::stride]])\n",
      "    outputs = numpy.array([x['actions'] for x in scen[-minSize::stride]])\n",
      "    scoreArray.append(ScoreFromInputs(inputs))\n",
      "    shootScoreArray.append(shootScoreFrom(inputs, outputs))\n",
      "    \n",
      "scoreArray, shootScoreArray"
     ],
     "language": "python",
     "metadata": {},
     "outputs": [
      {
       "output_type": "pyout",
       "prompt_number": 52,
       "text": [
        "([18.821052631578947,\n",
        "  25.199999999999999,\n",
        "  26.810526315789474,\n",
        "  12.947368421052632,\n",
        "  26.589473684210525,\n",
        "  24.442105263157895,\n",
        "  22.010526315789473,\n",
        "  20.336842105263155,\n",
        "  25.642105263157895],\n",
        " [457, 522, 801, 556, 725, 732, 663, 621, 714])"
       ]
      }
     ],
     "prompt_number": 52
    },
    {
     "cell_type": "code",
     "collapsed": false,
     "input": [
      "def shootScoreFrom(inputs, outputs):\n",
      "    numHits = sum(1 for x,y in zip(inputs[:,-1], outputs[:,-1]) if (x > 0.494 or x < 0.506) and y == 1)\n",
      "    return numHits"
     ],
     "language": "python",
     "metadata": {},
     "outputs": [],
     "prompt_number": 37
    },
    {
     "cell_type": "code",
     "collapsed": false,
     "input": [
      "100/(300*1.0)"
     ],
     "language": "python",
     "metadata": {},
     "outputs": [
      {
       "output_type": "pyout",
       "prompt_number": 22,
       "text": [
        "0.3333333333333333"
       ]
      }
     ],
     "prompt_number": 22
    },
    {
     "cell_type": "code",
     "collapsed": false,
     "input": [
      "size = len(data[1])\n",
      "minSize = min([len(x) for x in data])\n",
      "stride = size / 900\n",
      "inputs = numpy.array([x['sensors'] for x in data[0][-minSize::stride]])\n",
      "outputs = numpy.array([x['actions'] for x in data[0][-minSize::stride]])"
     ],
     "language": "python",
     "metadata": {},
     "outputs": [],
     "prompt_number": 27
    },
    {
     "cell_type": "code",
     "collapsed": false,
     "input": [
      "sum(1 for x,y in zip(inputs[:,-1], outputs[:,-1]) if (x > 0.494 or x < 0.506) and y == 1)"
     ],
     "language": "python",
     "metadata": {},
     "outputs": [
      {
       "output_type": "pyout",
       "prompt_number": 36,
       "text": [
        "154"
       ]
      }
     ],
     "prompt_number": 36
    },
    {
     "cell_type": "code",
     "collapsed": false,
     "input": [
      "inputs[numpy.where(outputs[:,-1] == 1),-1]"
     ],
     "language": "python",
     "metadata": {},
     "outputs": [
      {
       "output_type": "pyout",
       "prompt_number": 34,
       "text": [
        "array([[ 0.50287542,  0.50293023,  0.50298716,  0.50304634,  0.49545816,\n",
        "         0.49476632,  0.49406774,  0.49336236,  0.47835732,  0.4774493 ,\n",
        "         0.47639639,  0.47513533,  0.51447246,  0.51502562,  0.51637269,\n",
        "         0.52514254,  0.52589358,  0.52718376,  0.5259989 ,  0.53586877,\n",
        "         0.54245712,  0.55318848,  0.56535829,  0.57817122,  0.59093447,\n",
        "         0.60393123,  0.60156991,  0.59865597,  0.59511373,  0.59044538,\n",
        "         0.58379403,  0.53326812,  0.52681068,  0.50981322,  0.50065735,\n",
        "         0.43734832,  0.40894841,  0.37328852,  0.3484683 ,  0.32722953,\n",
        "         0.32387355,  0.31948881,  0.31667582,  0.32527915,  0.32025346,\n",
        "         0.2944292 ,  0.26028436,  0.23572537,  0.2349688 ,  0.22899205,\n",
        "         0.22347103,  0.2210247 ,  0.22130117,  0.22172022,  0.22283685,\n",
        "         0.19292944,  0.19638318,  0.19650666,  0.17209802,  0.15924848,\n",
        "         0.16006033,  0.16233175,  0.1717461 ,  0.18455654,  0.18614338,\n",
        "         0.1912289 ,  0.21178593,  0.24655611,  0.25983822,  0.2882949 ,\n",
        "         0.3016526 ,  0.31543261,  0.53353075,  0.53420822,  0.53390278,\n",
        "         0.53076751,  0.45549044,  0.45867438,  0.4640411 ,  0.47226154,\n",
        "         0.50484711,  0.50534987,  0.50585917,  0.50637512,  0.50689783,\n",
        "         0.49324887,  0.48995408,  0.48654374,  0.48301533,  0.53456819,\n",
        "         0.53603352,  0.53751903,  0.53808984,  0.48789517,  0.48721021,\n",
        "         0.48651356,  0.48836778,  0.48302987,  0.48180699,  0.48055718,\n",
        "         0.47927969,  0.47098986,  0.46949637,  0.46891054,  0.47046911,\n",
        "         0.53739634,  0.54018088,  0.54303233,  0.54595122,  0.48280647,\n",
        "         0.47368985,  0.4666415 ,  0.46427669,  0.47406926,  0.47734432,\n",
        "         0.4808542 ,  0.48533107,  0.5074523 ,  0.51454443,  0.52182951,\n",
        "         0.52894525,  0.5433381 ,  0.54419273,  0.54415785,  0.54253176,\n",
        "         0.49817583,  0.49178158,  0.48543665,  0.47844925,  0.47188852,\n",
        "         0.46928156,  0.4655649 ,  0.46151757,  0.46243097,  0.46330825,\n",
        "         0.4646807 ,  0.465862  ,  0.5073209 ,  0.51404886,  0.52220313,\n",
        "         0.49397137,  0.48694019,  0.47989036,  0.47282115,  0.6001379 ,\n",
        "         0.64136044,  0.68061517,  0.71103777,  0.73371482,  0.48150511,\n",
        "         0.47998434,  0.47843765,  0.47686468,  0.47526506]])"
       ]
      }
     ],
     "prompt_number": 34
    },
    {
     "cell_type": "code",
     "collapsed": false,
     "input": [
      "2/(360*1.0)"
     ],
     "language": "python",
     "metadata": {},
     "outputs": [
      {
       "output_type": "pyout",
       "prompt_number": 25,
       "text": [
        "0.005555555555555556"
       ]
      }
     ],
     "prompt_number": 25
    },
    {
     "cell_type": "code",
     "collapsed": false,
     "input": [
      "len(data)"
     ],
     "language": "python",
     "metadata": {},
     "outputs": []
    },
    {
     "cell_type": "code",
     "collapsed": false,
     "input": [
      "import numpy"
     ],
     "language": "python",
     "metadata": {},
     "outputs": []
    },
    {
     "cell_type": "code",
     "collapsed": false,
     "input": [
      "size = len(data[1])\n",
      "stride = size / 900\n",
      "inputs = numpy.array([x['sensors'] for x in data[1][::stride]])\n",
      "outputs = numpy.array([x['actions'] for x in data[1][::stride]])"
     ],
     "language": "python",
     "metadata": {},
     "outputs": []
    },
    {
     "cell_type": "code",
     "collapsed": false,
     "input": [
      "numpy.max(outputs, axis=0)"
     ],
     "language": "python",
     "metadata": {},
     "outputs": []
    },
    {
     "cell_type": "code",
     "collapsed": false,
     "input": [
      "import os\n",
      "import pickle"
     ],
     "language": "python",
     "metadata": {},
     "outputs": []
    },
    {
     "cell_type": "code",
     "collapsed": false,
     "input": [
      "def LoadUserSettings(user):\n",
      "    filepath = os.path.join(userspath, user, \"settings.pickle\")\n",
      "    uSettings = pickle.load(open(filepath))\n",
      "    return uSettings"
     ],
     "language": "python",
     "metadata": {},
     "outputs": []
    },
    {
     "cell_type": "code",
     "collapsed": false,
     "input": [
      "class UserSettings:\n",
      "    def __init__(self, turnSensitivity=30, deadzone=15):\n",
      "        self.turnSensitivity = turnSensitivity\n",
      "        self.deadzone = deadzone"
     ],
     "language": "python",
     "metadata": {},
     "outputs": []
    },
    {
     "cell_type": "code",
     "collapsed": false,
     "input": [
      "settings = LoadUserSettings('Cong')"
     ],
     "language": "python",
     "metadata": {},
     "outputs": []
    },
    {
     "cell_type": "code",
     "collapsed": false,
     "input": [
      "adjustTurnVal = 100.0 / settings.turnSensitivity\n",
      "print adjustTurnVal"
     ],
     "language": "python",
     "metadata": {},
     "outputs": []
    },
    {
     "cell_type": "code",
     "collapsed": false,
     "input": [
      "adjustArray = numpy.array([1, adjustTurnVal])\n",
      "newOutputs = outputs * adjustArray\n",
      "print newOutputs[1]"
     ],
     "language": "python",
     "metadata": {},
     "outputs": []
    },
    {
     "cell_type": "code",
     "collapsed": false,
     "input": [
      "numpy.min(newOutputs, axis=0)"
     ],
     "language": "python",
     "metadata": {},
     "outputs": []
    },
    {
     "cell_type": "code",
     "collapsed": false,
     "input": [
      "def DiscritizeIntoRanges(Value, ranges, absolute=True):\n",
      "    outArray = [0.0] * len(ranges)\n",
      "    i, val = GetIndexFromRange(Value, ranges, absolute)\n",
      "    outArray[i] = val\n",
      "    return outArray"
     ],
     "language": "python",
     "metadata": {},
     "outputs": []
    },
    {
     "cell_type": "code",
     "collapsed": false,
     "input": [
      "def CreateRanges(minVal, dist, numRanges=5, percentages=[], symetric=False):\n",
      "        ranges = []\n",
      "        if len(percentages) == 0:\n",
      "            rangeWidth = dist / float(numRanges)\n",
      "            startp = minVal\n",
      "            for i in range(numRanges):\n",
      "                r = (startp, startp + rangeWidth)\n",
      "                ranges.append(r)\n",
      "                startp = startp + rangeWidth\n",
      "        else:\n",
      "            if symetric == False:\n",
      "                startp = minVal\n",
      "                for i, v in enumerate(percentages):\n",
      "                    tmpWidth = dist * v\n",
      "                    r = (startp, startp + tmpWidth)\n",
      "                    ranges.append(r)\n",
      "                    startp = startp + tmpWidth\n",
      "            else:\n",
      "                startp = minVal\n",
      "                for i, v in enumerate(percentages):\n",
      "                    tmpWidth = dist * v\n",
      "                    r = (startp, startp + tmpWidth)\n",
      "                    ranges.append(r)\n",
      "                    startp = startp + tmpWidth\n",
      "                \n",
      "                for i, v in enumerate(reversed(percentages)):\n",
      "                    if i == 0:\n",
      "                        continue\n",
      "                    tmpWidth = dist * v\n",
      "                    r = (startp, startp + tmpWidth)\n",
      "                    ranges.append(r)\n",
      "                    startp = startp + tmpWidth\n",
      "                    \n",
      "        return ranges"
     ],
     "language": "python",
     "metadata": {},
     "outputs": []
    },
    {
     "cell_type": "code",
     "collapsed": false,
     "input": [
      "testranges = CreateRanges(-1, 2, percentages=[0.25, 0.15, 0.075, 0.05], symetric=True)"
     ],
     "language": "python",
     "metadata": {},
     "outputs": []
    },
    {
     "cell_type": "code",
     "collapsed": false,
     "input": [
      "testranges2 = CreateRanges(-1, 2, 2)"
     ],
     "language": "python",
     "metadata": {},
     "outputs": []
    },
    {
     "cell_type": "code",
     "collapsed": false,
     "input": [
      "def GetIndexFromRange(value, ranges, absolute=True):\n",
      "    outIndex = -1\n",
      "    outValue = -1\n",
      "    \n",
      "    #check to make sure that the value doesn't fall outside of the ranges\n",
      "    if value < ranges[0][0]:\n",
      "        value = ranges[0][0]\n",
      "    \n",
      "    if value > ranges[-1][1]:\n",
      "        value = ranges[-1][1]\n",
      "        \n",
      "    for i, v in enumerate(ranges):\n",
      "        if value >= v[0] and value <= v[1]:\n",
      "            if absolute:\n",
      "                return i, 1\n",
      "            else:\n",
      "                if value <= 0:\n",
      "                    outVal = (value - v[1]) / (v[0] - v[1])\n",
      "                else:\n",
      "                    outVal = (value - v[0]) / (v[1] - v[0])\n",
      "                return i, outVal"
     ],
     "language": "python",
     "metadata": {},
     "outputs": []
    },
    {
     "cell_type": "code",
     "collapsed": false,
     "input": [
      "ind, val = GetIndexFromRange(-0.9, testranges2, False)\n",
      "print ind, val"
     ],
     "language": "python",
     "metadata": {},
     "outputs": []
    },
    {
     "cell_type": "code",
     "collapsed": false,
     "input": [
      "tmpArray = map(lambda x: DiscritizeIntoRanges(x, testranges2, False), newOutputs[:, 1])"
     ],
     "language": "python",
     "metadata": {},
     "outputs": []
    },
    {
     "cell_type": "code",
     "collapsed": false,
     "input": [
      "len(newOutputs)"
     ],
     "language": "python",
     "metadata": {},
     "outputs": []
    },
    {
     "cell_type": "code",
     "collapsed": false,
     "input": [
      "tmpArray2 = map(lambda x: DiscritizeIntoRanges(x, testranges2, False), newOutputs[:, 0])"
     ],
     "language": "python",
     "metadata": {},
     "outputs": []
    },
    {
     "cell_type": "code",
     "collapsed": false,
     "input": [
      "for i, v in enumerate(tmpArray):\n",
      "    print i, v"
     ],
     "language": "python",
     "metadata": {},
     "outputs": []
    },
    {
     "cell_type": "code",
     "collapsed": false,
     "input": [
      "test = numpy.array([x[0] + x[1] for x in zip(tmpArray2, tmpArray)])"
     ],
     "language": "python",
     "metadata": {},
     "outputs": []
    },
    {
     "cell_type": "code",
     "collapsed": false,
     "input": [
      "test"
     ],
     "language": "python",
     "metadata": {},
     "outputs": []
    },
    {
     "cell_type": "code",
     "collapsed": false,
     "input": [
      "test = numpy.hstack((tmpArray, tmpArray2))"
     ],
     "language": "python",
     "metadata": {},
     "outputs": []
    },
    {
     "cell_type": "code",
     "collapsed": false,
     "input": [
      "test"
     ],
     "language": "python",
     "metadata": {},
     "outputs": []
    },
    {
     "cell_type": "code",
     "collapsed": false,
     "input": [
      "test2 = numpy.concatenate((tmpArray, tmpArray2), axis=1)"
     ],
     "language": "python",
     "metadata": {},
     "outputs": []
    },
    {
     "cell_type": "code",
     "collapsed": false,
     "input": [
      "test2"
     ],
     "language": "python",
     "metadata": {},
     "outputs": []
    },
    {
     "cell_type": "code",
     "collapsed": false,
     "input": [
      "test == test2"
     ],
     "language": "python",
     "metadata": {},
     "outputs": []
    },
    {
     "cell_type": "code",
     "collapsed": false,
     "input": [
      "test.size"
     ],
     "language": "python",
     "metadata": {},
     "outputs": []
    },
    {
     "cell_type": "code",
     "collapsed": false,
     "input": [
      "test2[0].size"
     ],
     "language": "python",
     "metadata": {},
     "outputs": []
    },
    {
     "cell_type": "code",
     "collapsed": false,
     "input": [
      "winnerGroups = [[0,1],[2,3,4,5,6,7,8]]"
     ],
     "language": "python",
     "metadata": {},
     "outputs": []
    },
    {
     "cell_type": "code",
     "collapsed": false,
     "input": [
      "sum([x[-1] - x[0] for x in winnerGroups])"
     ],
     "language": "python",
     "metadata": {},
     "outputs": []
    },
    {
     "cell_type": "code",
     "collapsed": false,
     "input": [
      "range(10)"
     ],
     "language": "python",
     "metadata": {},
     "outputs": []
    },
    {
     "cell_type": "code",
     "collapsed": false,
     "input": [
      "[(i,x) for i, x in enumerate(reversed(range(10)))]"
     ],
     "language": "python",
     "metadata": {},
     "outputs": []
    },
    {
     "cell_type": "code",
     "collapsed": false,
     "input": [
      "200 / 1000.0"
     ],
     "language": "python",
     "metadata": {},
     "outputs": []
    },
    {
     "cell_type": "code",
     "collapsed": false,
     "input": [
      "0.2 / 9.0"
     ],
     "language": "python",
     "metadata": {},
     "outputs": []
    },
    {
     "cell_type": "code",
     "collapsed": false,
     "input": [
      "200 / 9000.0"
     ],
     "language": "python",
     "metadata": {},
     "outputs": []
    },
    {
     "cell_type": "code",
     "collapsed": false,
     "input": [
      "import PyJRNN"
     ],
     "language": "python",
     "metadata": {},
     "outputs": []
    },
    {
     "cell_type": "code",
     "collapsed": false,
     "input": [
      "import pyublas"
     ],
     "language": "python",
     "metadata": {},
     "outputs": []
    },
    {
     "cell_type": "code",
     "collapsed": false,
     "input": [
      "cds = PyJRNN.utility.CSMTLDataset()"
     ],
     "language": "python",
     "metadata": {},
     "outputs": []
    },
    {
     "cell_type": "code",
     "collapsed": false,
     "input": [
      "cds.realOuts = True"
     ],
     "language": "python",
     "metadata": {},
     "outputs": []
    },
    {
     "cell_type": "code",
     "collapsed": false,
     "input": [
      "cds.realOuts"
     ],
     "language": "python",
     "metadata": {},
     "outputs": []
    },
    {
     "cell_type": "code",
     "collapsed": false,
     "input": [
      "cds1 = PyJRNN.utility.CSMTLDataset()"
     ],
     "language": "python",
     "metadata": {},
     "outputs": []
    },
    {
     "cell_type": "code",
     "collapsed": false,
     "input": [
      "cds.realOuts"
     ],
     "language": "python",
     "metadata": {},
     "outputs": []
    },
    {
     "cell_type": "code",
     "collapsed": false,
     "input": [
      "cds1.realOuts"
     ],
     "language": "python",
     "metadata": {},
     "outputs": []
    },
    {
     "cell_type": "code",
     "collapsed": false,
     "input": [
      "def printCDSState(cds):\n",
      "    print cds.realOuts"
     ],
     "language": "python",
     "metadata": {},
     "outputs": []
    },
    {
     "cell_type": "code",
     "collapsed": false,
     "input": [
      "printCDSState(cds)"
     ],
     "language": "python",
     "metadata": {},
     "outputs": []
    },
    {
     "cell_type": "code",
     "collapsed": false,
     "input": [
      "printCDSState(cds1)"
     ],
     "language": "python",
     "metadata": {},
     "outputs": []
    },
    {
     "cell_type": "code",
     "collapsed": false,
     "input": [
      "cds2 = cds.SpawnDS()"
     ],
     "language": "python",
     "metadata": {},
     "outputs": []
    },
    {
     "cell_type": "code",
     "collapsed": false,
     "input": [
      "cds2.realOuts"
     ],
     "language": "python",
     "metadata": {},
     "outputs": []
    },
    {
     "cell_type": "code",
     "collapsed": false,
     "input": [
      "from config import *"
     ],
     "language": "python",
     "metadata": {},
     "outputs": []
    },
    {
     "cell_type": "code",
     "collapsed": false,
     "input": [
      "import PyJRNN\n",
      "import pyublas\n",
      "import numpy\n",
      "from PyJRNN.utility import DSDatatype\n",
      "from PyJRNN.types import strings\n",
      "from PyJRNN.trainers import TestResults, TestResult"
     ],
     "language": "python",
     "metadata": {},
     "outputs": []
    },
    {
     "cell_type": "code",
     "collapsed": false,
     "input": [
      "import ObsUtility\n",
      "from ObsUtility import userspath, UserSettings"
     ],
     "language": "python",
     "metadata": {},
     "outputs": []
    },
    {
     "cell_type": "code",
     "collapsed": false,
     "input": [
      "scenarios = ObsUtility.LoadUserData('jcginn')\n",
      "training = scenarios['Chase - 13Nov2012223245']['training']\n",
      "training.sort(key=lambda x: int(ObsUtility.sortField.search(x).group(1)))"
     ],
     "language": "python",
     "metadata": {},
     "outputs": []
    },
    {
     "cell_type": "code",
     "collapsed": false,
     "input": [
      "import json\n",
      "data = ObsUtility.LoadTrainingData(training)"
     ],
     "language": "python",
     "metadata": {},
     "outputs": []
    },
    {
     "cell_type": "code",
     "collapsed": false,
     "input": [
      "from PyJRNN.utility import CSMTLDataset"
     ],
     "language": "python",
     "metadata": {},
     "outputs": []
    },
    {
     "cell_type": "code",
     "collapsed": false,
     "input": [
      "cds = CSMTLDataset()\n",
      "cds.realOuts = True\n",
      "settings = ObsUtility.LoadUserSettings('jcginn')"
     ],
     "language": "python",
     "metadata": {},
     "outputs": []
    },
    {
     "cell_type": "code",
     "collapsed": false,
     "input": [
      "ObsUtility.loadCSMTLDSfromData(cds, data, [1,], 900, 'Chase', settings=settings)"
     ],
     "language": "python",
     "metadata": {},
     "outputs": []
    },
    {
     "cell_type": "code",
     "collapsed": false,
     "input": [
      "cds.GetSize(DSDatatype.ALL)"
     ],
     "language": "python",
     "metadata": {},
     "outputs": []
    },
    {
     "cell_type": "code",
     "collapsed": false,
     "input": [
      "cds.DistData(200,200,200)"
     ],
     "language": "python",
     "metadata": {},
     "outputs": []
    },
    {
     "cell_type": "code",
     "collapsed": false,
     "input": [
      "ds = cds.SpawnDS()"
     ],
     "language": "python",
     "metadata": {},
     "outputs": []
    },
    {
     "cell_type": "code",
     "collapsed": false,
     "input": [
      "revCC = PyJRNN.trainers.RevCCTrainer(cds.numInputs,cds.numOutputs,4)"
     ],
     "language": "python",
     "metadata": {},
     "outputs": []
    },
    {
     "cell_type": "code",
     "collapsed": false,
     "input": [
      "revCC.net1.PrintConnectsion()"
     ],
     "language": "python",
     "metadata": {},
     "outputs": []
    },
    {
     "cell_type": "code",
     "collapsed": false,
     "input": [
      "archiver = PyJRNN.utility.JSONArchiver()"
     ],
     "language": "python",
     "metadata": {},
     "outputs": []
    },
    {
     "cell_type": "code",
     "collapsed": false,
     "input": [
      "archiver.SaveToFile(revCC.net1, 'testfile.txt')"
     ],
     "language": "python",
     "metadata": {},
     "outputs": []
    },
    {
     "cell_type": "code",
     "collapsed": false,
     "input": [
      "revCC2 = archiver.LoadFromFile('testfile.txt')"
     ],
     "language": "python",
     "metadata": {},
     "outputs": []
    },
    {
     "cell_type": "code",
     "collapsed": false,
     "input": [
      "type(revCC2)"
     ],
     "language": "python",
     "metadata": {},
     "outputs": []
    },
    {
     "cell_type": "code",
     "collapsed": false,
     "input": [
      "revCC.net1 == revCC2"
     ],
     "language": "python",
     "metadata": {},
     "outputs": []
    },
    {
     "cell_type": "code",
     "collapsed": false,
     "input": [
      "revCC2.PrintConnectsion()"
     ],
     "language": "python",
     "metadata": {},
     "outputs": []
    },
    {
     "cell_type": "code",
     "collapsed": false,
     "input": [
      "testString = \"D:\\\\Users\\\\John Reeder\\\\Code\\\\opennero\\\\Build\\\\dist\\\\Release\\\\jrnnexp1\\\\users\\\\jcginn\\\\data\\\\Chase - 07Feb2013172954\\\\training\\\\PersonTrainingData_eps_1.json\"\n",
      "testString = os.path.normpath(testString)"
     ],
     "language": "python",
     "metadata": {},
     "outputs": []
    },
    {
     "cell_type": "code",
     "collapsed": false,
     "input": [
      "import os\n",
      "import sys"
     ],
     "language": "python",
     "metadata": {},
     "outputs": []
    },
    {
     "cell_type": "code",
     "collapsed": false,
     "input": [
      "result = os.path.split(testString)"
     ],
     "language": "python",
     "metadata": {},
     "outputs": []
    },
    {
     "cell_type": "code",
     "collapsed": false,
     "input": [
      "result"
     ],
     "language": "python",
     "metadata": {},
     "outputs": []
    },
    {
     "cell_type": "code",
     "collapsed": false,
     "input": [
      "os.path.dirname(os.path.normpath(os.path.join(testString, \"..\")))"
     ],
     "language": "python",
     "metadata": {},
     "outputs": []
    },
    {
     "cell_type": "code",
     "collapsed": false,
     "input": [
      "def splitall(path):\n",
      "    allparts = []\n",
      "    while 1:\n",
      "        parts = os.path.split(path)\n",
      "        if parts[0] == path:  # sentinel for absolute paths\n",
      "            allparts.insert(0, parts[0])\n",
      "            break\n",
      "        elif parts[1] == path: # sentinel for relative paths\n",
      "            allparts.insert(0, parts[1])\n",
      "            break\n",
      "        else:\n",
      "            path = parts[0]\n",
      "            allparts.insert(0, parts[1])\n",
      "    return allparts"
     ],
     "language": "python",
     "metadata": {},
     "outputs": []
    },
    {
     "cell_type": "code",
     "collapsed": false,
     "input": [
      "list = splitall(testString)"
     ],
     "language": "python",
     "metadata": {},
     "outputs": []
    },
    {
     "cell_type": "code",
     "collapsed": false,
     "input": [
      "list[-3]"
     ],
     "language": "python",
     "metadata": {},
     "outputs": []
    },
    {
     "cell_type": "code",
     "collapsed": false,
     "input": [
      "import PyJRNN\n",
      "import pyublas"
     ],
     "language": "python",
     "metadata": {},
     "outputs": []
    },
    {
     "cell_type": "code",
     "collapsed": false,
     "input": [
      "net1 = PyJRNN.networks.CCNetwork.Create()\n",
      "net2 = PyJRNN.networks.RevCCNetwork.Create()\n",
      "net3 = PyJRNN.networks.FFMLPNetwork.Create()"
     ],
     "language": "python",
     "metadata": {},
     "outputs": []
    },
    {
     "cell_type": "code",
     "collapsed": false,
     "input": [
      "net1.type"
     ],
     "language": "python",
     "metadata": {},
     "outputs": []
    },
    {
     "cell_type": "code",
     "collapsed": false,
     "input": [
      "net2.type"
     ],
     "language": "python",
     "metadata": {},
     "outputs": []
    },
    {
     "cell_type": "code",
     "collapsed": false,
     "input": [
      "net3.type"
     ],
     "language": "python",
     "metadata": {},
     "outputs": []
    },
    {
     "cell_type": "code",
     "collapsed": false,
     "input": [
      "test = (x for x in range(5))"
     ],
     "language": "python",
     "metadata": {},
     "outputs": []
    },
    {
     "cell_type": "code",
     "collapsed": false,
     "input": [
      "test.next()"
     ],
     "language": "python",
     "metadata": {},
     "outputs": []
    },
    {
     "cell_type": "code",
     "collapsed": false,
     "input": [
      "import numpy"
     ],
     "language": "python",
     "metadata": {},
     "outputs": []
    },
    {
     "cell_type": "code",
     "collapsed": false,
     "input": [
      "sensors = numpy.array([1.0, 1.0, 1.0, 1.0, 1.0, 0.0, 0.0, 0.0, 0.0, 0.0, 0.37883636518980124, 0.0, 0.0, 0.0, 0.0, 0.0, 0.0, 0.0, 0.0, 0.574035540844675, 0.4465111517048699])"
     ],
     "language": "python",
     "metadata": {},
     "outputs": []
    },
    {
     "cell_type": "code",
     "collapsed": false,
     "input": [],
     "language": "python",
     "metadata": {},
     "outputs": []
    },
    {
     "cell_type": "code",
     "collapsed": false,
     "input": [],
     "language": "python",
     "metadata": {},
     "outputs": []
    },
    {
     "cell_type": "code",
     "collapsed": false,
     "input": [
      "obstacles = sensors[0:7]\n",
      "enemies = sensors[7:19]\n",
      "enemydistang = sensors[19:21]"
     ],
     "language": "python",
     "metadata": {},
     "outputs": []
    },
    {
     "cell_type": "code",
     "collapsed": false,
     "input": [
      "enemies[(enemies > 0) & (enemies < 0.4)] = 0.4\n",
      "enemies"
     ],
     "language": "python",
     "metadata": {},
     "outputs": []
    },
    {
     "cell_type": "code",
     "collapsed": false,
     "input": [
      "newout = numpy.concatenate((obstacles, enemies, enemydistang))\n",
      "newout"
     ],
     "language": "python",
     "metadata": {},
     "outputs": []
    },
    {
     "cell_type": "code",
     "collapsed": false,
     "input": [],
     "language": "python",
     "metadata": {},
     "outputs": []
    }
   ],
   "metadata": {}
  }
 ]
}