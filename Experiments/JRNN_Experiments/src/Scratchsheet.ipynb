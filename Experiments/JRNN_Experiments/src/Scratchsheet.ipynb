{
 "metadata": {
  "name": "Scratchsheet"
 },
 "nbformat": 3,
 "nbformat_minor": 0,
 "worksheets": [
  {
   "cells": [
    {
     "cell_type": "code",
     "collapsed": false,
     "input": [
      "import random"
     ],
     "language": "python",
     "metadata": {},
     "outputs": [],
     "prompt_number": 1
    },
    {
     "cell_type": "code",
     "collapsed": false,
     "input": [
      "for i in range(1, 10, 2):\n",
      "            i = i / 10.0\n",
      "            i = i + ((random.random() * 0.10) - 0.05)\n",
      "            for j in range(1, 10, 2):\n",
      "                    # don't collide with trees - they are over 500 triangles each\n",
      "                    # Add some randomness to the placement.\n",
      "                    \n",
      "                    j = j / 10.0\n",
      "                    \n",
      "                    #j = j + ((random() * 0.10) - 0.05)\n",
      "                    print i, j"
     ],
     "language": "python",
     "metadata": {},
     "outputs": [
      {
       "output_type": "stream",
       "stream": "stdout",
       "text": [
        "0.0688034245871 0.1\n",
        "0.0688034245871 0.3\n",
        "0.0688034245871 0.5\n",
        "0.0688034245871 0.7\n",
        "0.0688034245871 0.9\n",
        "0.28917449358 0.1\n",
        "0.28917449358 0.3\n",
        "0.28917449358 0.5\n",
        "0.28917449358 0.7\n",
        "0.28917449358 0.9\n",
        "0.491000496895 0.1\n",
        "0.491000496895 0.3\n",
        "0.491000496895 0.5\n",
        "0.491000496895 0.7\n",
        "0.491000496895 0.9\n",
        "0.712234954616 0.1\n",
        "0.712234954616 0.3\n",
        "0.712234954616 0.5\n",
        "0.712234954616 0.7\n",
        "0.712234954616 0.9\n",
        "0.945326825951 0.1\n",
        "0.945326825951 0.3\n",
        "0.945326825951 0.5\n",
        "0.945326825951 0.7\n",
        "0.945326825951 0.9\n"
       ]
      }
     ],
     "prompt_number": 3
    },
    {
     "cell_type": "code",
     "collapsed": false,
     "input": [
      "XDIM = 800\n",
      "YDIM = 800\n",
      "\n",
      "SPAWN_POINTS = []\n",
      "for i in range(1, 6):\n",
      "    for j in range(1, 6):\n",
      "        point = (XDIM * (i / 6.0), YDIM * (j / 6.0))\n",
      "        SPAWN_POINTS.append(point)\n",
      "\n",
      "\n",
      "def getRandomSpawnPoint():\n",
      "    index = random.randrange(len(SPAWN_POINTS))\n",
      "    return SPAWN_POINTS[index]"
     ],
     "language": "python",
     "metadata": {},
     "outputs": [],
     "prompt_number": 4
    },
    {
     "cell_type": "code",
     "collapsed": false,
     "input": [
      "def getSpawnPoints():\n",
      "        point1 = getRandomSpawnPoint()\n",
      "        point2 = getRandomSpawnPoint()\n",
      "        while point1 == point2:\n",
      "            point2 = getRandomSpawnPoint()\n",
      "\n",
      "        return point1, point2"
     ],
     "language": "python",
     "metadata": {},
     "outputs": [],
     "prompt_number": 5
    },
    {
     "cell_type": "code",
     "collapsed": false,
     "input": [
      "point1, point2 = getSpawnPoints()\n",
      "print point1, point2"
     ],
     "language": "python",
     "metadata": {},
     "outputs": [
      {
       "output_type": "stream",
       "stream": "stdout",
       "text": [
        "(533.3333333333333, 533.3333333333333) (266.66666666666663, 666.6666666666667)\n"
       ]
      }
     ],
     "prompt_number": 6
    },
    {
     "cell_type": "code",
     "collapsed": false,
     "input": [
      "point1[0]"
     ],
     "language": "python",
     "metadata": {},
     "outputs": [
      {
       "output_type": "pyout",
       "prompt_number": 7,
       "text": [
        "533.3333333333333"
       ]
      }
     ],
     "prompt_number": 7
    },
    {
     "cell_type": "code",
     "collapsed": false,
     "input": [
      "del point1[:]\n",
      "print point1"
     ],
     "language": "python",
     "metadata": {},
     "outputs": [
      {
       "ename": "TypeError",
       "evalue": "'tuple' object does not support item deletion",
       "output_type": "pyerr",
       "traceback": [
        "\u001b[1;31m---------------------------------------------------------------------------\u001b[0m\n\u001b[1;31mTypeError\u001b[0m                                 Traceback (most recent call last)",
        "\u001b[1;32m<ipython-input-8-9564ab96b488>\u001b[0m in \u001b[0;36m<module>\u001b[1;34m()\u001b[0m\n\u001b[1;32m----> 1\u001b[1;33m \u001b[1;32mdel\u001b[0m \u001b[0mpoint1\u001b[0m\u001b[1;33m[\u001b[0m\u001b[1;33m:\u001b[0m\u001b[1;33m]\u001b[0m\u001b[1;33m\u001b[0m\u001b[0m\n\u001b[0m\u001b[0;32m      2\u001b[0m \u001b[1;32mprint\u001b[0m \u001b[0mpoint1\u001b[0m\u001b[1;33m\u001b[0m\u001b[0m\n",
        "\u001b[1;31mTypeError\u001b[0m: 'tuple' object does not support item deletion"
       ]
      }
     ],
     "prompt_number": 8
    },
    {
     "cell_type": "code",
     "collapsed": false,
     "input": [
      "del SPAWN_POINTS[:]\n",
      "print SPAWN_POINTS"
     ],
     "language": "python",
     "metadata": {},
     "outputs": [
      {
       "output_type": "stream",
       "stream": "stdout",
       "text": [
        "[]\n"
       ]
      }
     ],
     "prompt_number": 9
    },
    {
     "cell_type": "code",
     "collapsed": false,
     "input": [],
     "language": "python",
     "metadata": {},
     "outputs": []
    }
   ],
   "metadata": {}
  }
 ]
}