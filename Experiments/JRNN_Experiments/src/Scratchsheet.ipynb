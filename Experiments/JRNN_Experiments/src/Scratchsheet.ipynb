{
 "metadata": {
  "name": "Scratchsheet"
 },
 "nbformat": 3,
 "nbformat_minor": 0,
 "worksheets": [
  {
   "cells": [
    {
     "cell_type": "code",
     "collapsed": false,
     "input": [
      "import random"
     ],
     "language": "python",
     "metadata": {},
     "outputs": []
    },
    {
     "cell_type": "code",
     "collapsed": false,
     "input": [
      "for i in range(1, 10, 2):\n",
      "            i = i / 10.0\n",
      "            i = i + ((random.random() * 0.10) - 0.05)\n",
      "            for j in range(1, 10, 2):\n",
      "                    # don't collide with trees - they are over 500 triangles each\n",
      "                    # Add some randomness to the placement.\n",
      "                    \n",
      "                    j = j / 10.0\n",
      "                    \n",
      "                    #j = j + ((random() * 0.10) - 0.05)\n",
      "                    print i, j"
     ],
     "language": "python",
     "metadata": {},
     "outputs": []
    },
    {
     "cell_type": "code",
     "collapsed": false,
     "input": [
      "XDIM = 800\n",
      "YDIM = 800\n",
      "\n",
      "SPAWN_POINTS = []\n",
      "for i in range(1, 6):\n",
      "    for j in range(1, 6):\n",
      "        point = (XDIM * (i / 6.0), YDIM * (j / 6.0))\n",
      "        SPAWN_POINTS.append(point)\n",
      "\n",
      "\n",
      "def getRandomSpawnPoint():\n",
      "    index = random.randrange(len(SPAWN_POINTS))\n",
      "    return SPAWN_POINTS[index]"
     ],
     "language": "python",
     "metadata": {},
     "outputs": []
    },
    {
     "cell_type": "code",
     "collapsed": false,
     "input": [
      "def getSpawnPoints():\n",
      "        point1 = getRandomSpawnPoint()\n",
      "        point2 = getRandomSpawnPoint()\n",
      "        while point1 == point2:\n",
      "            point2 = getRandomSpawnPoint()\n",
      "\n",
      "        return point1, point2"
     ],
     "language": "python",
     "metadata": {},
     "outputs": []
    },
    {
     "cell_type": "code",
     "collapsed": false,
     "input": [
      "point1, point2 = getSpawnPoints()\n",
      "print point1, point2"
     ],
     "language": "python",
     "metadata": {},
     "outputs": []
    },
    {
     "cell_type": "code",
     "collapsed": false,
     "input": [
      "point1[0]"
     ],
     "language": "python",
     "metadata": {},
     "outputs": []
    },
    {
     "cell_type": "code",
     "collapsed": false,
     "input": [
      "del point1[:]\n",
      "print point1"
     ],
     "language": "python",
     "metadata": {},
     "outputs": []
    },
    {
     "cell_type": "code",
     "collapsed": false,
     "input": [
      "del SPAWN_POINTS[:]\n",
      "print SPAWN_POINTS"
     ],
     "language": "python",
     "metadata": {},
     "outputs": []
    },
    {
     "cell_type": "code",
     "collapsed": false,
     "input": [
      "userdatapath = \"D:\\Users\\John Reeder\\Code\\opennero\\Build\\dist\\Debug\\jrnnexp1\\users\""
     ],
     "language": "python",
     "metadata": {},
     "outputs": [],
     "prompt_number": 39
    },
    {
     "cell_type": "code",
     "collapsed": false,
     "input": [
      "import os\n",
      "jcginn = os.path.join(userdatapath, \"jcginn\")\n",
      "jcginndata = os.path.join(jcginn, \"data\") \n",
      "jcginnscenarios = os.listdir(jcginndata)"
     ],
     "language": "python",
     "metadata": {},
     "outputs": [],
     "prompt_number": 40
    },
    {
     "cell_type": "code",
     "collapsed": false,
     "input": [
      "scenariofiles = {\"training\": [], \"history\": []}"
     ],
     "language": "python",
     "metadata": {},
     "outputs": [],
     "prompt_number": 43
    },
    {
     "cell_type": "code",
     "collapsed": false,
     "input": [
      "def loadScenarioFiles(scenarioPath):\n",
      "    scenariofiles = {}\n",
      "    trainingdir = os.path.join(scenarioPath, \"training\")\n",
      "    historydir = os.path.join(scenarioPath, \"history\")\n",
      "    scenariofiles[\"training\"] = [os.path.join(trainingdir, x) for x in os.listdir(trainingdir)]\n",
      "    scenariofiles[\"history\"] = [os.path.join(historydir, x) for x in os.listdir(historydir)]\n",
      "    return scenariofiles"
     ],
     "language": "python",
     "metadata": {},
     "outputs": [],
     "prompt_number": 44
    },
    {
     "cell_type": "code",
     "collapsed": false,
     "input": [
      "scenariofiles = loadScenarioFiles(os.path.join(jcginndata, jcginnscenarios[0]))"
     ],
     "language": "python",
     "metadata": {},
     "outputs": [],
     "prompt_number": 45
    },
    {
     "cell_type": "code",
     "collapsed": false,
     "input": [
      "scenariofiles"
     ],
     "language": "python",
     "metadata": {},
     "outputs": []
    },
    {
     "cell_type": "code",
     "collapsed": false,
     "input": [
      "import json"
     ],
     "language": "python",
     "metadata": {},
     "outputs": [],
     "prompt_number": 46
    },
    {
     "cell_type": "code",
     "collapsed": false,
     "input": [
      "agenthistory1 = json.load(open(scenariofiles['history'][1]))"
     ],
     "language": "python",
     "metadata": {},
     "outputs": [
      {
       "ename": "ValueError",
       "evalue": "Extra data: line 1 column 567020 - line 1 column 1218695 (char 567020 - 1218695)",
       "output_type": "pyerr",
       "traceback": [
        "\u001b[1;31m---------------------------------------------------------------------------\u001b[0m\n\u001b[1;31mValueError\u001b[0m                                Traceback (most recent call last)",
        "\u001b[1;32m<ipython-input-35-2f56ac8e350d>\u001b[0m in \u001b[0;36m<module>\u001b[1;34m()\u001b[0m\n\u001b[1;32m----> 1\u001b[1;33m \u001b[0magenthistory1\u001b[0m \u001b[1;33m=\u001b[0m \u001b[0mjson\u001b[0m\u001b[1;33m.\u001b[0m\u001b[0mload\u001b[0m\u001b[1;33m(\u001b[0m\u001b[0mopen\u001b[0m\u001b[1;33m(\u001b[0m\u001b[0mscenariofiles\u001b[0m\u001b[1;33m[\u001b[0m\u001b[1;34m'history'\u001b[0m\u001b[1;33m]\u001b[0m\u001b[1;33m[\u001b[0m\u001b[1;36m1\u001b[0m\u001b[1;33m]\u001b[0m\u001b[1;33m)\u001b[0m\u001b[1;33m)\u001b[0m\u001b[1;33m\u001b[0m\u001b[0m\n\u001b[0m",
        "\u001b[1;32mC:\\Python27\\lib\\json\\__init__.pyc\u001b[0m in \u001b[0;36mload\u001b[1;34m(fp, encoding, cls, object_hook, parse_float, parse_int, parse_constant, object_pairs_hook, **kw)\u001b[0m\n\u001b[0;32m    276\u001b[0m         \u001b[0mparse_float\u001b[0m\u001b[1;33m=\u001b[0m\u001b[0mparse_float\u001b[0m\u001b[1;33m,\u001b[0m \u001b[0mparse_int\u001b[0m\u001b[1;33m=\u001b[0m\u001b[0mparse_int\u001b[0m\u001b[1;33m,\u001b[0m\u001b[1;33m\u001b[0m\u001b[0m\n\u001b[0;32m    277\u001b[0m         \u001b[0mparse_constant\u001b[0m\u001b[1;33m=\u001b[0m\u001b[0mparse_constant\u001b[0m\u001b[1;33m,\u001b[0m \u001b[0mobject_pairs_hook\u001b[0m\u001b[1;33m=\u001b[0m\u001b[0mobject_pairs_hook\u001b[0m\u001b[1;33m,\u001b[0m\u001b[1;33m\u001b[0m\u001b[0m\n\u001b[1;32m--> 278\u001b[1;33m         **kw)\n\u001b[0m\u001b[0;32m    279\u001b[0m \u001b[1;33m\u001b[0m\u001b[0m\n\u001b[0;32m    280\u001b[0m \u001b[1;33m\u001b[0m\u001b[0m\n",
        "\u001b[1;32mC:\\Python27\\lib\\json\\__init__.pyc\u001b[0m in \u001b[0;36mloads\u001b[1;34m(s, encoding, cls, object_hook, parse_float, parse_int, parse_constant, object_pairs_hook, **kw)\u001b[0m\n\u001b[0;32m    324\u001b[0m             \u001b[0mparse_int\u001b[0m \u001b[1;32mis\u001b[0m \u001b[0mNone\u001b[0m \u001b[1;32mand\u001b[0m \u001b[0mparse_float\u001b[0m \u001b[1;32mis\u001b[0m \u001b[0mNone\u001b[0m \u001b[1;32mand\u001b[0m\u001b[1;33m\u001b[0m\u001b[0m\n\u001b[0;32m    325\u001b[0m             parse_constant is None and object_pairs_hook is None and not kw):\n\u001b[1;32m--> 326\u001b[1;33m         \u001b[1;32mreturn\u001b[0m \u001b[0m_default_decoder\u001b[0m\u001b[1;33m.\u001b[0m\u001b[0mdecode\u001b[0m\u001b[1;33m(\u001b[0m\u001b[0ms\u001b[0m\u001b[1;33m)\u001b[0m\u001b[1;33m\u001b[0m\u001b[0m\n\u001b[0m\u001b[0;32m    327\u001b[0m     \u001b[1;32mif\u001b[0m \u001b[0mcls\u001b[0m \u001b[1;32mis\u001b[0m \u001b[0mNone\u001b[0m\u001b[1;33m:\u001b[0m\u001b[1;33m\u001b[0m\u001b[0m\n\u001b[0;32m    328\u001b[0m         \u001b[0mcls\u001b[0m \u001b[1;33m=\u001b[0m \u001b[0mJSONDecoder\u001b[0m\u001b[1;33m\u001b[0m\u001b[0m\n",
        "\u001b[1;32mC:\\Python27\\lib\\json\\decoder.pyc\u001b[0m in \u001b[0;36mdecode\u001b[1;34m(self, s, _w)\u001b[0m\n\u001b[0;32m    367\u001b[0m         \u001b[0mend\u001b[0m \u001b[1;33m=\u001b[0m \u001b[0m_w\u001b[0m\u001b[1;33m(\u001b[0m\u001b[0ms\u001b[0m\u001b[1;33m,\u001b[0m \u001b[0mend\u001b[0m\u001b[1;33m)\u001b[0m\u001b[1;33m.\u001b[0m\u001b[0mend\u001b[0m\u001b[1;33m(\u001b[0m\u001b[1;33m)\u001b[0m\u001b[1;33m\u001b[0m\u001b[0m\n\u001b[0;32m    368\u001b[0m         \u001b[1;32mif\u001b[0m \u001b[0mend\u001b[0m \u001b[1;33m!=\u001b[0m \u001b[0mlen\u001b[0m\u001b[1;33m(\u001b[0m\u001b[0ms\u001b[0m\u001b[1;33m)\u001b[0m\u001b[1;33m:\u001b[0m\u001b[1;33m\u001b[0m\u001b[0m\n\u001b[1;32m--> 369\u001b[1;33m             \u001b[1;32mraise\u001b[0m \u001b[0mValueError\u001b[0m\u001b[1;33m(\u001b[0m\u001b[0merrmsg\u001b[0m\u001b[1;33m(\u001b[0m\u001b[1;34m\"Extra data\"\u001b[0m\u001b[1;33m,\u001b[0m \u001b[0ms\u001b[0m\u001b[1;33m,\u001b[0m \u001b[0mend\u001b[0m\u001b[1;33m,\u001b[0m \u001b[0mlen\u001b[0m\u001b[1;33m(\u001b[0m\u001b[0ms\u001b[0m\u001b[1;33m)\u001b[0m\u001b[1;33m)\u001b[0m\u001b[1;33m)\u001b[0m\u001b[1;33m\u001b[0m\u001b[0m\n\u001b[0m\u001b[0;32m    370\u001b[0m         \u001b[1;32mreturn\u001b[0m \u001b[0mobj\u001b[0m\u001b[1;33m\u001b[0m\u001b[0m\n\u001b[0;32m    371\u001b[0m \u001b[1;33m\u001b[0m\u001b[0m\n",
        "\u001b[1;31mValueError\u001b[0m: Extra data: line 1 column 567020 - line 1 column 1218695 (char 567020 - 1218695)"
       ]
      }
     ],
     "prompt_number": 35
    },
    {
     "cell_type": "code",
     "collapsed": false,
     "input": [
      "fileh = open(scenariofiles['history'][1])"
     ],
     "language": "python",
     "metadata": {},
     "outputs": [],
     "prompt_number": 47
    },
    {
     "cell_type": "code",
     "collapsed": false,
     "input": [
      "line = fileh.readline()"
     ],
     "language": "python",
     "metadata": {},
     "outputs": [],
     "prompt_number": 48
    },
    {
     "cell_type": "code",
     "collapsed": false,
     "input": [
      "print line.count(\"}{\")"
     ],
     "language": "python",
     "metadata": {},
     "outputs": [
      {
       "output_type": "stream",
       "stream": "stdout",
       "text": [
        "1\n"
       ]
      }
     ],
     "prompt_number": 49
    },
    {
     "cell_type": "code",
     "collapsed": false,
     "input": [
      "newline = line.replace(\"}{\", \"}|{\")\n",
      "objects = newline.split(\"|\")"
     ],
     "language": "python",
     "metadata": {},
     "outputs": [],
     "prompt_number": 52
    },
    {
     "cell_type": "code",
     "collapsed": false,
     "input": [
      "len(objects)"
     ],
     "language": "python",
     "metadata": {},
     "outputs": [
      {
       "output_type": "pyout",
       "prompt_number": 53,
       "text": [
        "2"
       ]
      }
     ],
     "prompt_number": 53
    },
    {
     "cell_type": "code",
     "collapsed": false,
     "input": [
      "tmpObject = json.loads(objects[0])"
     ],
     "language": "python",
     "metadata": {},
     "outputs": [],
     "prompt_number": 54
    },
    {
     "cell_type": "code",
     "collapsed": false,
     "input": [
      "history = tmpObject[\"Runner\"]\n",
      "len(history)"
     ],
     "language": "python",
     "metadata": {},
     "outputs": [
      {
       "output_type": "pyout",
       "prompt_number": 56,
       "text": [
        "14973"
       ]
      }
     ],
     "prompt_number": 56
    },
    {
     "cell_type": "code",
     "collapsed": false,
     "input": [
      "trainingdata = json.load(open(scenariofiles['training'][1]))"
     ],
     "language": "python",
     "metadata": {},
     "outputs": [],
     "prompt_number": 75
    },
    {
     "cell_type": "code",
     "collapsed": false,
     "input": [
      "len(trainingdata)"
     ],
     "language": "python",
     "metadata": {},
     "outputs": [
      {
       "output_type": "pyout",
       "prompt_number": 76,
       "text": [
        "14972"
       ]
      }
     ],
     "prompt_number": 76
    },
    {
     "cell_type": "code",
     "collapsed": false,
     "input": [
      "for i in range(10):\n",
      "    print trainingdata[i]\n",
      "    if i > 0:\n",
      "        if trainingdata[i-1][\"sensors\"] == trainingdata[i][\"sensors\"]:\n",
      "            print True\n",
      "        else:\n",
      "            print False"
     ],
     "language": "python",
     "metadata": {},
     "outputs": [
      {
       "output_type": "stream",
       "stream": "stdout",
       "text": [
        "{u'sensors': [1.0, 1.0, 1.0, 1.0, 1.0, 0.0, 0.0, 0.18973664144918145, 0.0, 0.0, 0.0, 0.0, 0.0, 0.0, 0.0, 0.0, 0.0, 0.0, 0.0, 0.0, 0.0], u'actions': [0.0, 0.0]}\n",
        "{u'sensors': [1.0, 1.0, 1.0, 1.0, 1.0, 0.0, 0.0, 0.18973664144918145, 0.0, 0.0, 0.0, 0.0, 0.0, 0.0, 0.0, 0.0, 0.0, 0.0, 0.0, 0.0, 0.0], u'actions': [0.0, 0.0]}\n",
        "True\n",
        "{u'sensors': [1.0, 1.0, 1.0, 1.0, 1.0, 0.0, 0.0, 0.18973664144918145, 0.0, 0.0, 0.0, 0.0, 0.0, 0.0, 0.0, 0.0, 0.0, 0.0, 0.0, 0.9938080317017495, 0.9262081929961672], u'actions': [0.0, 0.0]}\n",
        "False\n",
        "{u'sensors': [1.0, 1.0, 1.0, 1.0, 1.0, 0.0, 0.0, 0.18973664144918145, 0.0, 0.0, 0.0, 0.0, 0.0, 0.0, 0.0, 0.0, 0.0, 0.0, 0.0, 0.9938080317017495, 0.9262081929961672], u'actions': [0.0, 0.0]}\n",
        "True\n",
        "{u'sensors': [1.0, 1.0, 1.0, 1.0, 1.0, 0.0, 0.0, 0.18973664144918145, 0.0, 0.0, 0.0, 0.0, 0.0, 0.0, 0.0, 0.0, 0.0, 0.0, 0.0, 0.9938080317017495, 0.9262081929961672], u'actions': [0.0, 0.0]}\n",
        "True\n",
        "{u'sensors': [1.0, 1.0, 1.0, 1.0, 1.0, 0.0, 0.0, 0.18973664144918145, 0.0, 0.0, 0.0, 0.0, 0.0, 0.0, 0.0, 0.0, 0.0, 0.0, 0.0, 0.9938080317017495, 0.9262081929961672], u'actions': [0.0, 0.0]}\n",
        "True\n",
        "{u'sensors': [1.0, 1.0, 1.0, 1.0, 1.0, 0.0, 0.0, 0.18973664144918145, 0.0, 0.0, 0.0, 0.0, 0.0, 0.0, 0.0, 0.0, 0.0, 0.0, 0.0, 0.9938080317017495, 0.9262081929961672], u'actions': [0.0, 0.0]}\n",
        "True\n",
        "{u'sensors': [1.0, 1.0, 1.0, 1.0, 1.0, 0.0, 0.0, 0.18973664144918145, 0.0, 0.0, 0.0, 0.0, 0.0, 0.0, 0.0, 0.0, 0.0, 0.0, 0.0, 0.9938080317017495, 0.9262081929961672], u'actions': [0.0, 0.0]}\n",
        "True\n",
        "{u'sensors': [1.0, 1.0, 1.0, 1.0, 1.0, 0.0, 0.0, 0.18973664144918145, 0.0, 0.0, 0.0, 0.0, 0.0, 0.0, 0.0, 0.0, 0.0, 0.0, 0.0, 0.9938080317017495, 0.9262081929961672], u'actions': [0.0, 0.0]}\n",
        "True\n",
        "{u'sensors': [1.0, 1.0, 1.0, 1.0, 1.0, 0.0, 0.0, 0.18973664144918145, 0.0, 0.0, 0.0, 0.0, 0.0, 0.0, 0.0, 0.0, 0.0, 0.0, 0.0, 0.9938080317017495, 0.9262081929961672], u'actions': [0.0, 0.0]}\n",
        "True\n"
       ]
      }
     ],
     "prompt_number": 77
    },
    {
     "cell_type": "code",
     "collapsed": false,
     "input": [
      "tupledata = [repr((x['sensors'], x['actions'])) for x in trainingdata]"
     ],
     "language": "python",
     "metadata": {},
     "outputs": [],
     "prompt_number": 78
    },
    {
     "cell_type": "code",
     "collapsed": false,
     "input": [
      "tmpset = set(tupledata)"
     ],
     "language": "python",
     "metadata": {},
     "outputs": [],
     "prompt_number": 79
    },
    {
     "cell_type": "code",
     "collapsed": false,
     "input": [
      "len(tmpset)"
     ],
     "language": "python",
     "metadata": {},
     "outputs": [
      {
       "output_type": "pyout",
       "prompt_number": 80,
       "text": [
        "14119"
       ]
      }
     ],
     "prompt_number": 80
    },
    {
     "cell_type": "code",
     "collapsed": false,
     "input": [],
     "language": "python",
     "metadata": {},
     "outputs": [],
     "prompt_number": 80
    },
    {
     "cell_type": "code",
     "collapsed": false,
     "input": [
      "from IPython.lib import passwd"
     ],
     "language": "python",
     "metadata": {},
     "outputs": [],
     "prompt_number": 1
    },
    {
     "cell_type": "code",
     "collapsed": false,
     "input": [
      "from IPython.parallel import Client\n",
      "rc = Client()"
     ],
     "language": "python",
     "metadata": {},
     "outputs": [],
     "prompt_number": 1
    },
    {
     "cell_type": "code",
     "collapsed": false,
     "input": [
      "rc.ids"
     ],
     "language": "python",
     "metadata": {},
     "outputs": [
      {
       "output_type": "pyout",
       "prompt_number": 3,
       "text": [
        "[0, 1, 2]"
       ]
      }
     ],
     "prompt_number": 3
    },
    {
     "cell_type": "code",
     "collapsed": false,
     "input": [
      "import PyJRNN"
     ],
     "language": "python",
     "metadata": {},
     "outputs": [],
     "prompt_number": 4
    },
    {
     "cell_type": "code",
     "collapsed": false,
     "input": [
      "PyJRNN.trainers.INDEX"
     ],
     "language": "python",
     "metadata": {},
     "outputs": [
      {
       "output_type": "pyout",
       "prompt_number": 5,
       "text": [
        "PyJRNN.trainers.ErrorType.INDEX"
       ]
      }
     ],
     "prompt_number": 5
    },
    {
     "cell_type": "code",
     "collapsed": false,
     "input": [
      "print PyJRNN.trainers.INDEX"
     ],
     "language": "python",
     "metadata": {},
     "outputs": [
      {
       "output_type": "stream",
       "stream": "stdout",
       "text": [
        "INDEX\n"
       ]
      }
     ],
     "prompt_number": 6
    },
    {
     "cell_type": "code",
     "collapsed": false,
     "input": [
      "import json\n",
      "resultsjames = json.load(open('Notebook Data/ObsResult1.json'))"
     ],
     "language": "python",
     "metadata": {},
     "outputs": [],
     "prompt_number": 1
    },
    {
     "cell_type": "code",
     "collapsed": false,
     "input": [
      "from config import *"
     ],
     "language": "python",
     "metadata": {},
     "outputs": [],
     "prompt_number": 2
    },
    {
     "cell_type": "code",
     "collapsed": false,
     "input": [
      "resultsjames[0][0]"
     ],
     "language": "python",
     "metadata": {},
     "outputs": [
      {
       "output_type": "pyout",
       "prompt_number": 3,
       "text": [
        "{u'tr1.epochs': 571,\n",
        " u'tr1.hiddenLayers': 6,\n",
        " u'tr1.testError': 0.09018444675166601,\n",
        " u'tr2.epochs': 564,\n",
        " u'tr2.hiddenLayers': 15,\n",
        " u'tr2.testError': 0.08034941423264627,\n",
        " u'tr3.epochs': 369,\n",
        " u'tr3.hiddenLayers': 22,\n",
        " u'tr3.testError': 0.03842043058925464}"
       ]
      }
     ],
     "prompt_number": 3
    },
    {
     "cell_type": "code",
     "collapsed": false,
     "input": [
      "tr1erravg, tr1errerr = CalcMeanAndError([x[0]['tr1.testError'] for x in resultsjames])\n",
      "tr2erravg, tr2errerr = CalcMeanAndError([x[0]['tr2.testError'] for x in resultsjames])\n",
      "tr3erravg, tr3errerr = CalcMeanAndError([x[0]['tr3.testError'] for x in resultsjames])"
     ],
     "language": "python",
     "metadata": {},
     "outputs": [],
     "prompt_number": 4
    },
    {
     "cell_type": "code",
     "collapsed": false,
     "input": [
      "print tr1erravg, tr2erravg, tr3erravg"
     ],
     "language": "python",
     "metadata": {},
     "outputs": [
      {
       "output_type": "stream",
       "stream": "stdout",
       "text": [
        "0.108356428724 0.0904250020481 0.0517463025585\n"
       ]
      }
     ],
     "prompt_number": 5
    },
    {
     "cell_type": "code",
     "collapsed": false,
     "input": [
      "from ObsUtility import userspath, LoadUserData, LoadTrainingData, CreateUserDatasets, ConsolidatedTrainingTest, sortField, ScoreFromInputs"
     ],
     "language": "python",
     "metadata": {},
     "outputs": [],
     "prompt_number": 1
    },
    {
     "cell_type": "code",
     "collapsed": false,
     "input": [
      "scenarios = LoadUserData('yinjie')\n",
      "scenarios.keys()"
     ],
     "language": "python",
     "metadata": {},
     "outputs": [
      {
       "output_type": "pyout",
       "prompt_number": 11,
       "text": [
        "['Chase - 16Nov2012165154',\n",
        " 'Obstacles - 16Nov2012170059',\n",
        " 'ChaseObstacles - 16Nov2012170823']"
       ]
      }
     ],
     "prompt_number": 11
    },
    {
     "cell_type": "code",
     "collapsed": false,
     "input": [
      "training = scenarios['Chase - 16Nov2012165154']['training']\n",
      "training.sort(key=lambda x: int(sortField.search(x).group(1)))\n",
      "data = LoadTrainingData(training)"
     ],
     "language": "python",
     "metadata": {},
     "outputs": [],
     "prompt_number": 12
    },
    {
     "cell_type": "code",
     "collapsed": false,
     "input": [
      "import numpy"
     ],
     "language": "python",
     "metadata": {},
     "outputs": [],
     "prompt_number": 5
    },
    {
     "cell_type": "code",
     "collapsed": false,
     "input": [
      "scoreArray = []\n",
      "size = len(data[1])\n",
      "stride = size / 900\n",
      "for scen in data:\n",
      "    inputs = numpy.array([x['sensors'] for x in scen[::stride]])\n",
      "    scoreArray.append(ScoreFromInputs(inputs))\n",
      "    \n",
      "scoreArray"
     ],
     "language": "python",
     "metadata": {},
     "outputs": [
      {
       "output_type": "pyout",
       "prompt_number": 13,
       "text": [
        "[14.404466501240694,\n",
        " 24.077134986225897,\n",
        " 24.337016574585636,\n",
        " 24.275229357798164,\n",
        " 25.54428044280443,\n",
        " 24.990723562152134,\n",
        " 25.05097312326228,\n",
        " 23.308957952468006,\n",
        " 21.499540018399266,\n",
        " 24.728610855565776]"
       ]
      }
     ],
     "prompt_number": 13
    },
    {
     "cell_type": "code",
     "collapsed": false,
     "input": [
      "len(data)"
     ],
     "language": "python",
     "metadata": {},
     "outputs": [
      {
       "output_type": "pyout",
       "prompt_number": 4,
       "text": [
        "10"
       ]
      }
     ],
     "prompt_number": 4
    },
    {
     "cell_type": "code",
     "collapsed": false,
     "input": [
      "import numpy"
     ],
     "language": "python",
     "metadata": {},
     "outputs": [],
     "prompt_number": 5
    },
    {
     "cell_type": "code",
     "collapsed": false,
     "input": [
      "size = len(data[1])\n",
      "stride = size / 900\n",
      "inputs = numpy.array([x['sensors'] for x in data[1][::stride]])\n",
      "outputs = numpy.array([x['actions'] for x in data[1][::stride]])"
     ],
     "language": "python",
     "metadata": {},
     "outputs": [],
     "prompt_number": 6
    },
    {
     "cell_type": "code",
     "collapsed": false,
     "input": [
      "numpy.max(outputs, axis=0)"
     ],
     "language": "python",
     "metadata": {},
     "outputs": [
      {
       "output_type": "pyout",
       "prompt_number": 7,
       "text": [
        "array([ 1.00003052,  0.12790124])"
       ]
      }
     ],
     "prompt_number": 7
    },
    {
     "cell_type": "code",
     "collapsed": false,
     "input": [
      "import os\n",
      "import pickle"
     ],
     "language": "python",
     "metadata": {},
     "outputs": [],
     "prompt_number": 8
    },
    {
     "cell_type": "code",
     "collapsed": false,
     "input": [
      "def LoadUserSettings(user):\n",
      "    filepath = os.path.join(userspath, user, \"settings.pickle\")\n",
      "    uSettings = pickle.load(open(filepath))\n",
      "    return uSettings"
     ],
     "language": "python",
     "metadata": {},
     "outputs": [],
     "prompt_number": 9
    },
    {
     "cell_type": "code",
     "collapsed": false,
     "input": [
      "class UserSettings:\n",
      "    def __init__(self, turnSensitivity=30, deadzone=15):\n",
      "        self.turnSensitivity = turnSensitivity\n",
      "        self.deadzone = deadzone"
     ],
     "language": "python",
     "metadata": {},
     "outputs": [],
     "prompt_number": 10
    },
    {
     "cell_type": "code",
     "collapsed": false,
     "input": [
      "settings = LoadUserSettings('Cong')"
     ],
     "language": "python",
     "metadata": {},
     "outputs": [],
     "prompt_number": 11
    },
    {
     "cell_type": "code",
     "collapsed": false,
     "input": [
      "adjustTurnVal = 100.0 / settings.turnSensitivity\n",
      "print adjustTurnVal"
     ],
     "language": "python",
     "metadata": {},
     "outputs": [
      {
       "output_type": "stream",
       "stream": "stdout",
       "text": [
        "7.69230769231\n"
       ]
      }
     ],
     "prompt_number": 12
    },
    {
     "cell_type": "code",
     "collapsed": false,
     "input": [
      "adjustArray = numpy.array([1, adjustTurnVal])\n",
      "newOutputs = outputs * adjustArray\n",
      "print newOutputs[1]"
     ],
     "language": "python",
     "metadata": {},
     "outputs": [
      {
       "output_type": "stream",
       "stream": "stdout",
       "text": [
        "[ 0.14804529 -0.0938139 ]\n"
       ]
      }
     ],
     "prompt_number": 13
    },
    {
     "cell_type": "code",
     "collapsed": false,
     "input": [
      "numpy.min(newOutputs, axis=0)"
     ],
     "language": "python",
     "metadata": {},
     "outputs": [
      {
       "output_type": "pyout",
       "prompt_number": 14,
       "text": [
        "array([-0.17715995, -1.        ])"
       ]
      }
     ],
     "prompt_number": 14
    },
    {
     "cell_type": "code",
     "collapsed": false,
     "input": [
      "def DiscritizeIntoRanges(Value, ranges, absolute=True):\n",
      "    outArray = [0.0] * len(ranges)\n",
      "    i, val = GetIndexFromRange(Value, ranges, absolute)\n",
      "    outArray[i] = val\n",
      "    return outArray"
     ],
     "language": "python",
     "metadata": {},
     "outputs": [],
     "prompt_number": 15
    },
    {
     "cell_type": "code",
     "collapsed": false,
     "input": [
      "def CreateRanges(minVal, dist, numRanges=5, percentages=[], symetric=False):\n",
      "        ranges = []\n",
      "        if len(percentages) == 0:\n",
      "            rangeWidth = dist / float(numRanges)\n",
      "            startp = minVal\n",
      "            for i in range(numRanges):\n",
      "                r = (startp, startp + rangeWidth)\n",
      "                ranges.append(r)\n",
      "                startp = startp + rangeWidth\n",
      "        else:\n",
      "            if symetric == False:\n",
      "                startp = minVal\n",
      "                for i, v in enumerate(percentages):\n",
      "                    tmpWidth = dist * v\n",
      "                    r = (startp, startp + tmpWidth)\n",
      "                    ranges.append(r)\n",
      "                    startp = startp + tmpWidth\n",
      "            else:\n",
      "                startp = minVal\n",
      "                for i, v in enumerate(percentages):\n",
      "                    tmpWidth = dist * v\n",
      "                    r = (startp, startp + tmpWidth)\n",
      "                    ranges.append(r)\n",
      "                    startp = startp + tmpWidth\n",
      "                \n",
      "                for i, v in enumerate(reversed(percentages)):\n",
      "                    if i == 0:\n",
      "                        continue\n",
      "                    tmpWidth = dist * v\n",
      "                    r = (startp, startp + tmpWidth)\n",
      "                    ranges.append(r)\n",
      "                    startp = startp + tmpWidth\n",
      "                    \n",
      "        return ranges"
     ],
     "language": "python",
     "metadata": {},
     "outputs": [],
     "prompt_number": 16
    },
    {
     "cell_type": "code",
     "collapsed": false,
     "input": [
      "testranges = CreateRanges(-1, 2, percentages=[0.25, 0.15, 0.075, 0.05], symetric=True)"
     ],
     "language": "python",
     "metadata": {},
     "outputs": [],
     "prompt_number": 17
    },
    {
     "cell_type": "code",
     "collapsed": false,
     "input": [
      "testranges2 = CreateRanges(-1, 2, 2)"
     ],
     "language": "python",
     "metadata": {},
     "outputs": [],
     "prompt_number": 18
    },
    {
     "cell_type": "code",
     "collapsed": false,
     "input": [
      "def GetIndexFromRange(value, ranges, absolute=True):\n",
      "    outIndex = -1\n",
      "    outValue = -1\n",
      "    \n",
      "    #check to make sure that the value doesn't fall outside of the ranges\n",
      "    if value < ranges[0][0]:\n",
      "        value = ranges[0][0]\n",
      "    \n",
      "    if value > ranges[-1][1]:\n",
      "        value = ranges[-1][1]\n",
      "        \n",
      "    for i, v in enumerate(ranges):\n",
      "        if value >= v[0] and value <= v[1]:\n",
      "            if absolute:\n",
      "                return i, 1\n",
      "            else:\n",
      "                if value <= 0:\n",
      "                    outVal = (value - v[1]) / (v[0] - v[1])\n",
      "                else:\n",
      "                    outVal = (value - v[0]) / (v[1] - v[0])\n",
      "                return i, outVal"
     ],
     "language": "python",
     "metadata": {},
     "outputs": [],
     "prompt_number": 19
    },
    {
     "cell_type": "code",
     "collapsed": false,
     "input": [
      "ind, val = GetIndexFromRange(-0.9, testranges2, False)\n",
      "print ind, val"
     ],
     "language": "python",
     "metadata": {},
     "outputs": [
      {
       "output_type": "stream",
       "stream": "stdout",
       "text": [
        "0 0.9\n"
       ]
      }
     ],
     "prompt_number": 20
    },
    {
     "cell_type": "code",
     "collapsed": false,
     "input": [
      "tmpArray = map(lambda x: DiscritizeIntoRanges(x, testranges2, False), newOutputs[:, 1])"
     ],
     "language": "python",
     "metadata": {},
     "outputs": [],
     "prompt_number": 21
    },
    {
     "cell_type": "code",
     "collapsed": false,
     "input": [
      "len(newOutputs)"
     ],
     "language": "python",
     "metadata": {},
     "outputs": [
      {
       "output_type": "pyout",
       "prompt_number": 22,
       "text": [
        "1097"
       ]
      }
     ],
     "prompt_number": 22
    },
    {
     "cell_type": "code",
     "collapsed": false,
     "input": [
      "tmpArray2 = map(lambda x: DiscritizeIntoRanges(x, testranges2, False), newOutputs[:, 0])"
     ],
     "language": "python",
     "metadata": {},
     "outputs": [],
     "prompt_number": 23
    },
    {
     "cell_type": "code",
     "collapsed": false,
     "input": [
      "for i, v in enumerate(tmpArray):\n",
      "    print i, v"
     ],
     "language": "python",
     "metadata": {},
     "outputs": [
      {
       "output_type": "stream",
       "stream": "stdout",
       "text": [
        "0 [0.093813896179199219, 0.0]\n",
        "1 [0.093813896179199219, 0.0]\n",
        "2 [0.093813896179199219, 0.0]\n",
        "3 [0.093813896179199219, 0.0]\n",
        "4 [0.093813896179199219, 0.0]\n",
        "5 [0.093813896179199219, 0.0]\n",
        "6 [0.093813896179199219, 0.0]\n",
        "7 [0.093813896179199219, 0.0]\n",
        "8 [0.093813896179199219, 0.0]\n",
        "9 [0.093813896179199219, 0.0]\n",
        "10 [0.093813896179199219, 0.0]\n",
        "11 [0.093813896179199219, 0.0]\n",
        "12 [0.093813896179199219, 0.0]\n",
        "13 [0.093813896179199219, 0.0]\n",
        "14 [0.093813896179199219, 0.0]\n",
        "15 [0.093813896179199219, 0.0]\n",
        "16 [0.093813896179199219, 0.0]\n",
        "17 [0.1035187840461731, 0.0]\n",
        "18 [0.1035187840461731, 0.0]\n",
        "19 [0.11325418949127199, 0.0]\n",
        "20 [0.11325418949127199, 0.0]\n",
        "21 [0.12295907735824585, 0.0]\n",
        "22 [0.158543661236763, 0.0]\n",
        "23 [0.23944821953773499, 0.0]\n",
        "24 [0.43363749980926514, 0.0]\n",
        "25 [0.49513229727745056, 0.0]\n",
        "26 [0.59868162870407104, 0.0]\n",
        "27 [0.64400160312652588, 0.0]\n",
        "28 [0.65370649099349976, 0.0]\n",
        "29 [0.65370649099349976, 0.0]\n",
        "30 [0.65370649099349976, 0.0]\n",
        "31 [0.65370649099349976, 0.0]\n",
        "32 [0.65370649099349976, 0.0]\n",
        "33 [0.68282115459442139, 0.0]\n",
        "34 [0.74431592226028453, 0.0]\n",
        "35 [0.75402081012725841, 0.0]\n",
        "36 [0.76372569799423218, 0.0]\n",
        "37 [0.77343058586120605, 0.0]\n",
        "38 [0.77343058586120605, 0.0]\n",
        "39 [0.77343058586120605, 0.0]\n",
        "40 [0.77343058586120605, 0.0]\n",
        "41 [0.77343058586120605, 0.0]\n",
        "42 [0.77343058586120605, 0.0]\n",
        "43 [0.77343058586120605, 0.0]\n",
        "44 [0.77343058586120605, 0.0]\n",
        "45 [0.77343058586120605, 0.0]\n",
        "46 [0.77343058586120605, 0.0]\n",
        "47 [0.77343058586120605, 0.0]\n",
        "48 [0.77343058586120605, 0.0]\n",
        "49 [0.77343058586120605, 0.0]\n",
        "50 [0.77343058586120605, 0.0]\n",
        "51 [0.77343058586120605, 0.0]\n",
        "52 [0.77343058586120605, 0.0]\n",
        "53 [0.77343058586120605, 0.0]\n",
        "54 [0.77343058586120605, 0.0]\n",
        "55 [0.77343058586120605, 0.0]\n",
        "56 [0.77343058586120605, 0.0]\n",
        "57 [0.77343058586120605, 0.0]\n",
        "58 [0.75078582763671875, 0.0]\n",
        "59 [0.44657734036445623, 0.0]\n",
        "60 [0.2297433465719223, 0.0]\n",
        "61 [0.13266396522521975, 0.0]\n",
        "62 [0.10675374418497087, 0.0]\n",
        "63 [0.09704886376857759, 0.0]\n",
        "64 [0.0, 0.0]\n",
        "65 [0.0, 0.0]\n",
        "66 [0.0, 0.09710989892482759]\n",
        "67 [0.0, 0.13595995306968689]\n",
        "68 [0.0, 0.22009949386119843]\n",
        "69 [0.0, 0.29776909947395325]\n",
        "70 [0.0, 0.32688376307487493]\n",
        "71 [0.0, 0.32688376307487493]\n",
        "72 [0.0, 0.32688376307487493]\n",
        "73 [0.0, 0.32688376307487493]\n",
        "74 [0.0, 0.32688376307487493]\n",
        "75 [0.0, 0.32688376307487493]\n",
        "76 [0.0, 0.32688376307487493]\n",
        "77 [0.0, 0.32688376307487493]\n",
        "78 [0.0, 0.32688376307487493]\n",
        "79 [0.0, 0.32688376307487493]\n",
        "80 [0.0, 0.32688376307487493]\n",
        "81 [0.0, 0.32688376307487493]\n",
        "82 [0.0, 0.32688376307487493]\n",
        "83 [0.0, 0.32688376307487493]\n",
        "84 [0.0, 0.32688376307487493]\n",
        "85 [0.0, 0.32688376307487493]\n",
        "86 [0.0, 0.32688376307487493]\n",
        "87 [0.0, 0.32688376307487493]\n",
        "88 [0.0, 0.32688376307487493]\n",
        "89 [0.0, 0.32688376307487493]\n",
        "90 [0.0, 0.32688376307487493]\n",
        "91 [0.0, 0.32688376307487493]\n",
        "92 [0.0, 0.32688376307487493]\n",
        "93 [0.0, 0.32688376307487493]\n",
        "94 [0.0, 0.32688376307487493]\n",
        "95 [0.0, 0.32688376307487493]\n",
        "96 [0.0, 0.32688376307487493]\n",
        "97 [0.0, 0.32688376307487493]\n",
        "98 [0.0, 0.31070894002914429]\n",
        "99 [0.0, 0.24921414256095889]\n",
        "100 [0.0, 0.13919492065906525]\n",
        "101 [0.0, 0.0]\n",
        "102 [0.0, 0.0]\n",
        "103 [0.0, 0.0]\n",
        "104 [0.0, 0.0]\n",
        "105 [0.10028382390737534, 0.0]\n",
        "106 [0.11001922935247421, 0.0]\n",
        "107 [0.11001922935247421, 0.0]\n",
        "108 [0.13266396522521975, 0.0]\n",
        "109 [0.158543661236763, 0.0]\n",
        "110 [0.16824854910373688, 0.0]\n",
        "111 [0.16824854910373688, 0.0]\n",
        "112 [0.16824854910373688, 0.0]\n",
        "113 [0.16824854910373688, 0.0]\n",
        "114 [0.16824854910373688, 0.0]\n",
        "115 [0.16824854910373688, 0.0]\n",
        "116 [0.16824854910373688, 0.0]\n",
        "117 [0.16824854910373688, 0.0]\n",
        "118 [0.16824854910373688, 0.0]\n",
        "119 [0.16824854910373688, 0.0]\n",
        "120 [0.16824854910373688, 0.0]\n",
        "121 [0.16824854910373688, 0.0]\n",
        "122 [0.16824854910373688, 0.0]\n",
        "123 [0.16824854910373688, 0.0]\n",
        "124 [0.16824854910373688, 0.0]\n",
        "125 [0.16824854910373688, 0.0]\n",
        "126 [0.16824854910373688, 0.0]\n",
        "127 [0.16824854910373688, 0.0]\n",
        "128 [0.16824854910373688, 0.0]\n",
        "129 [0.16824854910373688, 0.0]\n",
        "130 [0.16824854910373688, 0.0]\n",
        "131 [0.16824854910373688, 0.0]\n",
        "132 [0.16824854910373688, 0.0]\n",
        "133 [0.16824854910373688, 0.0]\n",
        "134 [0.16824854910373688, 0.0]\n",
        "135 [0.16824854910373688, 0.0]\n",
        "136 [0.15530869364738464, 0.0]\n",
        "137 [0.11001922935247421, 0.0]\n",
        "138 [0.09704886376857759, 0.0]\n",
        "139 [0.0, 0.0]\n",
        "140 [0.0, 0.0]\n",
        "141 [0.0, 0.0]\n",
        "142 [0.0, 0.0]\n",
        "143 [0.0, 0.0]\n",
        "144 [0.0, 0.0]\n",
        "145 [0.0, 0.0]\n",
        "146 [0.0, 0.0]\n",
        "147 [0.0, 0.0]\n",
        "148 [0.0, 0.0]\n",
        "149 [0.0, 0.0]\n",
        "150 [0.0, 0.0]\n",
        "151 [0.0, 0.0]\n",
        "152 [0.0, 0.0]\n",
        "153 [0.0, 0.0]\n",
        "154 [0.0, 0.0]\n",
        "155 [0.0, 0.093874938786029816]\n",
        "156 [0.0, 0.1197851523756981]\n",
        "157 [0.0, 0.13272500038146975]\n",
        "158 [0.0, 0.13272500038146975]\n",
        "159 [0.0, 0.13272500038146975]\n",
        "160 [0.0, 0.13272500038146975]\n",
        "161 [0.0, 0.13272500038146975]\n",
        "162 [0.0, 0.13272500038146975]\n",
        "163 [0.0, 0.13272500038146975]\n",
        "164 [0.0, 0.13272500038146975]\n",
        "165 [0.0, 0.13272500038146975]\n",
        "166 [0.0, 0.13272500038146975]\n",
        "167 [0.0, 0.13272500038146975]\n",
        "168 [0.0, 0.13272500038146975]\n",
        "169 [0.0, 0.13272500038146975]\n",
        "170 [0.0, 0.13272500038146975]\n",
        "171 [0.0, 0.13272500038146975]\n",
        "172 [0.0, 0.13272500038146975]\n",
        "173 [0.0, 0.13272500038146975]\n",
        "174 [0.0, 0.13272500038146975]\n",
        "175 [0.0, 0.13272500038146975]\n",
        "176 [0.0, 0.13272500038146975]\n",
        "177 [0.0, 0.1424298882484436]\n",
        "178 [0.0, 0.1424298882484436]\n",
        "179 [0.0, 0.1424298882484436]\n",
        "180 [0.0, 0.1424298882484436]\n",
        "181 [0.0, 0.1424298882484436]\n",
        "182 [0.0, 0.1424298882484436]\n",
        "183 [0.0, 0.1424298882484436]\n",
        "184 [0.0, 0.1424298882484436]\n",
        "185 [0.0, 0.1424298882484436]\n",
        "186 [0.0, 0.1424298882484436]\n",
        "187 [0.0, 0.1424298882484436]\n",
        "188 [0.0, 0.1424298882484436]\n",
        "189 [0.0, 0.1424298882484436]\n",
        "190 [0.0, 0.1424298882484436]\n",
        "191 [0.0, 0.1424298882484436]\n",
        "192 [0.0, 0.1424298882484436]\n",
        "193 [0.0, 0.1424298882484436]\n",
        "194 [0.0, 0.1424298882484436]\n",
        "195 [0.0, 0.1424298882484436]\n",
        "196 [0.0, 0.1424298882484436]\n",
        "197 [0.0, 0.1424298882484436]\n",
        "198 [0.0, 0.1424298882484436]\n",
        "199 [0.0, 0.1424298882484436]\n",
        "200 [0.0, 0.1424298882484436]\n",
        "201 [0.0, 0.1424298882484436]\n",
        "202 [0.0, 0.1424298882484436]\n",
        "203 [0.0, 0.1424298882484436]\n",
        "204 [0.0, 0.1424298882484436]\n",
        "205 [0.0, 0.1424298882484436]\n",
        "206 [0.0, 0.11651966720819475]\n",
        "207 [0.0, 0.080935090780258193]\n",
        "208 [0.0, 0.0]\n",
        "209 [0.0, 0.0]\n",
        "210 [0.0, 0.0]\n",
        "211 [0.0, 0.0]\n",
        "212 [0.0, 0.0]\n",
        "213 [0.087343975901603699, 0.0]\n",
        "214 [0.15207372605800631, 0.0]\n",
        "215 [0.24915310740470889, 0.0]\n",
        "216 [0.2621234655380249, 0.0]\n",
        "217 [0.2621234655380249, 0.0]\n",
        "218 [0.2621234655380249, 0.0]\n",
        "219 [0.2621234655380249, 0.0]\n",
        "220 [0.27182835340499878, 0.0]\n",
        "221 [0.27182835340499878, 0.0]\n",
        "222 [0.27182835340499878, 0.0]\n",
        "223 [0.20386365056037903, 0.0]\n",
        "224 [0.1035187840461731, 0.0]\n",
        "225 [0.0, 0.0]\n",
        "226 [0.0, 0.0]\n",
        "227 [0.0, 0.0]\n",
        "228 [0.0, 0.0]\n",
        "229 [0.0, 0.0]\n",
        "230 [0.0, 0.0]\n",
        "231 [0.0, 0.0]\n",
        "232 [0.0, 0.0]\n",
        "233 [0.080874048173427582, 0.0]\n",
        "234 [0.11325418949127199, 0.0]\n",
        "235 [0.24268318712711334, 0.0]\n",
        "236 [0.25238806009292603, 0.0]\n",
        "237 [0.2621234655380249, 0.0]\n",
        "238 [0.32358774542808538, 0.0]\n",
        "239 [0.57280188798904419, 0.0]\n",
        "240 [0.70546585321426403, 0.0]\n",
        "241 [0.76372569799423218, 0.0]\n",
        "242 [0.77343058586120605, 0.0]\n",
        "243 [0.77343058586120605, 0.0]\n",
        "244 [0.77343058586120605, 0.0]\n",
        "245 [0.80904567241668712, 0.0]\n",
        "246 [0.83816033601760875, 0.0]\n",
        "247 [0.83816033601760875, 0.0]\n",
        "248 [0.83816033601760875, 0.0]\n",
        "249 [0.83816033601760875, 0.0]\n",
        "250 [0.83816033601760875, 0.0]\n",
        "251 [0.83816033601760875, 0.0]\n",
        "252 [0.83816033601760875, 0.0]\n",
        "253 [0.83816033601760875, 0.0]\n",
        "254 [0.64400160312652588, 0.0]\n",
        "255 [0.4595172107219696, 0.0]\n",
        "256 [0.43687245249748236, 0.0]\n",
        "257 [0.42716756463050842, 0.0]\n",
        "258 [0.42716756463050842, 0.0]\n",
        "259 [0.74108093976974487, 0.0]\n",
        "260 [0.81228065490722656, 0.0]\n",
        "261 [0.8575701117515564, 0.0]\n",
        "262 [0.86730551719665538, 0.0]\n",
        "263 [0.91582995653152466, 0.0]\n",
        "264 [0.92553484439849854, 0.0]\n",
        "265 [0.93523973226547241, 0.0]\n",
        "266 [0.93523973226547241, 0.0]\n",
        "267 [0.94497513771057129, 0.0]\n",
        "268 [0.94497513771057129, 0.0]\n",
        "269 [0.95468002557754517, 0.0]\n",
        "270 [0.95468002557754517, 0.0]\n",
        "271 [0.95468002557754517, 0.0]\n",
        "272 [0.95468002557754517, 0.0]\n",
        "273 [0.95468002557754517, 0.0]\n",
        "274 [0.95468002557754517, 0.0]\n",
        "275 [0.95468002557754517, 0.0]\n",
        "276 [0.95468002557754517, 0.0]\n",
        "277 [0.95468002557754517, 0.0]\n",
        "278 [0.95468002557754517, 0.0]\n",
        "279 [0.95468002557754517, 0.0]\n",
        "280 [0.95468002557754517, 0.0]\n",
        "281 [0.95468002557754517, 0.0]\n",
        "282 [0.95468002557754517, 0.0]\n",
        "283 [0.95468002557754517, 0.0]\n",
        "284 [0.95468002557754517, 0.0]\n",
        "285 [0.95468002557754517, 0.0]\n",
        "286 [0.95468002557754517, 0.0]\n",
        "287 [0.95468002557754517, 0.0]\n",
        "288 [0.95468002557754517, 0.0]\n",
        "289 [0.94497513771057129, 0.0]\n",
        "290 [0.90612506866455078, 0.0]\n",
        "291 [0.70546585321426403, 0.0]\n",
        "292 [0.49189734458923345, 0.0]\n",
        "293 [0.34626302123069769, 0.0]\n",
        "294 [0.25562304258346558, 0.0]\n",
        "295 [0.19415876269340518, 0.0]\n",
        "296 [0.12942899763584137, 0.0]\n",
        "297 [0.11325418949127199, 0.0]\n",
        "298 [0.0, 0.0]\n",
        "299 [0.0, 0.0]\n",
        "300 [0.0, 0.0]\n",
        "301 [0.0, 0.0]\n",
        "302 [0.0, 0.0]\n",
        "303 [0.0, 0.09710989892482759]\n",
        "304 [0.0, 0.12625508010387421]\n",
        "305 [0.0, 0.15213477611541748]\n",
        "306 [0.0, 0.25891903042793274]\n",
        "307 [0.0, 0.32364878058433538]\n",
        "308 [0.0, 0.38514357805252081]\n",
        "309 [0.0, 0.41749322414398193]\n",
        "310 [0.0, 0.43369853496551514]\n",
        "311 [0.0, 0.45634326338768005]\n",
        "312 [0.0, 0.46928313374519348]\n",
        "313 [0.0, 0.46928313374519348]\n",
        "314 [0.0, 0.47898799180984503]\n",
        "315 [0.0, 0.47898799180984503]\n",
        "316 [0.0, 0.47898799180984503]\n",
        "317 [0.0, 0.47898799180984503]\n",
        "318 [0.0, 0.47898799180984503]\n",
        "319 [0.0, 0.47898799180984503]\n",
        "320 [0.0, 0.47898799180984503]\n",
        "321 [0.0, 0.47898799180984503]\n",
        "322 [0.0, 0.47898799180984503]\n",
        "323 [0.0, 0.47898799180984503]\n",
        "324 [0.0, 0.47898799180984503]\n",
        "325 [0.0, 0.47898799180984503]\n",
        "326 [0.0, 0.47898799180984503]\n",
        "327 [0.0, 0.47898799180984503]\n",
        "328 [0.0, 0.47898799180984503]\n",
        "329 [0.0, 0.48869287967681885]\n",
        "330 [0.0, 0.48869287967681885]\n",
        "331 [0.0, 0.48869287967681885]\n",
        "332 [0.0, 0.48869287967681885]\n",
        "333 [0.0, 0.48869287967681885]\n",
        "334 [0.0, 0.48869287967681885]\n",
        "335 [0.0, 0.48869287967681885]\n",
        "336 [0.0, 0.48869287967681885]\n",
        "337 [0.0, 0.48869287967681885]\n",
        "338 [0.0, 0.48869287967681885]\n",
        "339 [0.0, 0.48869287967681885]\n",
        "340 [0.0, 0.48869287967681885]\n",
        "341 [0.0, 0.48869287967681885]\n",
        "342 [0.0, 0.48869287967681885]\n",
        "343 [0.0, 0.48869287967681885]\n",
        "344 [0.0, 0.48869287967681885]\n",
        "345 [0.0, 0.48869287967681885]\n",
        "346 [0.0, 0.48869287967681885]\n",
        "347 [0.0, 0.48869287967681885]\n",
        "348 [0.0, 0.48869287967681885]\n",
        "349 [0.0, 0.48869287967681885]\n",
        "350 [0.0, 0.48869287967681885]\n",
        "351 [0.0, 0.48869287967681885]\n",
        "352 [0.0, 0.48869287967681885]\n",
        "353 [0.0, 0.48869287967681885]\n",
        "354 [0.0, 0.48869287967681885]\n",
        "355 [0.0, 0.48869287967681885]\n",
        "356 [0.0, 0.48869287967681885]\n",
        "357 [0.0, 0.34632405638694769]\n",
        "358 [0.0, 0.28482925891876226]\n",
        "359 [0.0, 0.23303933441638949]\n",
        "360 [0.0, 0.11328470706939699]\n",
        "361 [0.0, 0.0]\n",
        "362 [0.090578936040401473, 0.0]\n",
        "363 [0.1035187840461731, 0.0]\n",
        "364 [0.12619403004646301, 0.0]\n",
        "365 [0.2459181547164917, 0.0]\n",
        "366 [0.35273292660713201, 0.0]\n",
        "367 [0.44657734036445623, 0.0]\n",
        "368 [0.46598711609840393, 0.0]\n",
        "369 [0.46598711609840393, 0.0]\n",
        "370 [0.46598711609840393, 0.0]\n",
        "371 [0.46598711609840393, 0.0]\n",
        "372 [0.46598711609840393, 0.0]\n",
        "373 [0.46598711609840393, 0.0]\n",
        "374 [0.46598711609840393, 0.0]\n",
        "375 [0.46598711609840393, 0.0]\n",
        "376 [0.46598711609840393, 0.0]\n",
        "377 [0.46598711609840393, 0.0]\n",
        "378 [0.46598711609840393, 0.0]\n",
        "379 [0.41422772407531744, 0.0]\n",
        "380 [0.34949797391891479, 0.0]\n",
        "381 [0.27182835340499878, 0.0]\n",
        "382 [0.21033357083797458, 0.0]\n",
        "383 [0.21033357083797458, 0.0]\n",
        "384 [0.20062868297100067, 0.0]\n",
        "385 [0.20062868297100067, 0.0]\n",
        "386 [0.20062868297100067, 0.0]\n",
        "387 [0.20062868297100067, 0.0]\n",
        "388 [0.16177861392498016, 0.0]\n",
        "389 [0.10028382390737534, 0.0]\n",
        "390 [0.0, 0.0]\n",
        "391 [0.0, 0.0]\n",
        "392 [0.0, 0.0]\n",
        "393 [0.0, 0.0]\n",
        "394 [0.0, 0.0]\n",
        "395 [0.0, 0.0]\n",
        "396 [0.0, 0.0]\n",
        "397 [0.0, 0.0]\n",
        "398 [0.0, 0.0]\n",
        "399 [0.0, 0.0]\n",
        "400 [0.0, 0.0]\n",
        "401 [0.0, 0.0]\n",
        "402 [0.0, 0.0]\n",
        "403 [0.0, 0.0]\n",
        "404 [0.0, 0.0]\n",
        "405 [0.0, 0.0]\n",
        "406 [0.0, 0.0]\n",
        "407 [0.0, 0.084170050919055939]\n",
        "408 [0.0, 0.12302011251449585]\n",
        "409 [0.0, 0.13272500038146975]\n",
        "410 [0.0, 0.14566484093666077]\n",
        "411 [0.0, 0.18124942481517795]\n",
        "412 [0.0, 0.22333444654941559]\n",
        "413 [0.0, 0.2459791898727417]\n",
        "414 [0.0, 0.26538896560668951]\n",
        "415 [0.0, 0.27512437105178833]\n",
        "416 [0.0, 0.27512437105178833]\n",
        "417 [0.0, 0.27512437105178833]\n",
        "418 [0.0, 0.27512437105178833]\n",
        "419 [0.0, 0.27512437105178833]\n",
        "420 [0.0, 0.27512437105178833]\n",
        "421 [0.0, 0.28482925891876226]\n",
        "422 [0.0, 0.28482925891876226]\n",
        "423 [0.0, 0.28482925891876226]\n",
        "424 [0.0, 0.28482925891876226]\n",
        "425 [0.0, 0.28482925891876226]\n",
        "426 [0.0, 0.25244912505149841]\n",
        "427 [0.0, 0.25244912505149841]\n",
        "428 [0.0, 0.25244912505149841]\n",
        "429 [0.0, 0.19745475053787231]\n",
        "430 [0.0, 0.0]\n",
        "431 [0.090578936040401473, 0.0]\n",
        "432 [0.090578936040401473, 0.0]\n",
        "433 [0.090578936040401473, 0.0]\n",
        "434 [0.11001922935247421, 0.0]\n",
        "435 [0.20386365056037903, 0.0]\n",
        "436 [0.2297433465719223, 0.0]\n",
        "437 [0.27829828858375549, 0.0]\n",
        "438 [0.27829828858375549, 0.0]\n",
        "439 [0.27829828858375549, 0.0]\n",
        "440 [0.27829828858375549, 0.0]\n",
        "441 [0.27829828858375549, 0.0]\n",
        "442 [0.27829828858375549, 0.0]\n",
        "443 [0.27829828858375549, 0.0]\n",
        "444 [0.27829828858375549, 0.0]\n",
        "445 [0.27829828858375549, 0.0]\n",
        "446 [0.27829828858375549, 0.0]\n",
        "447 [0.27829828858375549, 0.0]\n",
        "448 [0.27829828858375549, 0.0]\n",
        "449 [0.26535844802856445, 0.0]\n",
        "450 [0.2297433465719223, 0.0]\n",
        "451 [0.19739371538162234, 0.0]\n",
        "452 [0.15530869364738464, 0.0]\n",
        "453 [0.10675374418497087, 0.0]\n",
        "454 [0.093813896179199219, 0.0]\n",
        "455 [0.0, 0.0]\n",
        "456 [0.0, 0.0]\n",
        "457 [0.0, 0.0]\n",
        "458 [0.0, 0.0]\n",
        "459 [0.0, 0.0]\n",
        "460 [0.0, 0.0]\n",
        "461 [0.0, 0.0]\n",
        "462 [0.0, 0.084170050919055939]\n",
        "463 [0.0, 0.11004974693059921]\n",
        "464 [0.0, 0.1197851523756981]\n",
        "465 [0.0, 0.1197851523756981]\n",
        "466 [0.0, 0.1197851523756981]\n",
        "467 [0.0, 0.12949003279209137]\n",
        "468 [0.0, 0.12949003279209137]\n",
        "469 [0.0, 0.12949003279209137]\n",
        "470 [0.0, 0.12949003279209137]\n",
        "471 [0.0, 0.12949003279209137]\n",
        "472 [0.0, 0.12949003279209137]\n",
        "473 [0.0, 0.12949003279209137]\n",
        "474 [0.0, 0.12949003279209137]\n",
        "475 [0.0, 0.12949003279209137]\n",
        "476 [0.0, 0.12949003279209137]\n",
        "477 [0.0, 0.12949003279209137]\n",
        "478 [0.0, 0.12949003279209137]\n",
        "479 [0.0, 0.12949003279209137]\n",
        "480 [0.0, 0.12949003279209137]\n",
        "481 [0.0, 0.12949003279209137]\n",
        "482 [0.0, 0.13919492065906525]\n",
        "483 [0.0, 0.14889980852603915]\n",
        "484 [0.0, 0.14889980852603915]\n",
        "485 [0.0, 0.14889980852603915]\n",
        "486 [0.0, 0.14889980852603915]\n",
        "487 [0.0, 0.14889980852603915]\n",
        "488 [0.0, 0.14889980852603915]\n",
        "489 [0.0, 0.14889980852603915]\n",
        "490 [0.0, 0.14889980852603915]\n",
        "491 [0.0, 0.158604696393013]\n",
        "492 [0.0, 0.158604696393013]\n",
        "493 [0.0, 0.16830958425998688]\n",
        "494 [0.0, 0.16830958425998688]\n",
        "495 [0.0, 0.16830958425998688]\n",
        "496 [0.0, 0.16830958425998688]\n",
        "497 [0.0, 0.17801447212696078]\n",
        "498 [0.0, 0.17801447212696078]\n",
        "499 [0.0, 0.18771934509277347]\n",
        "500 [0.0, 0.20392468571662903]\n",
        "501 [0.0, 0.21362957358360293]\n",
        "502 [0.0, 0.22333444654941559]\n",
        "503 [0.0, 0.23303933441638949]\n",
        "504 [0.0, 0.23303933441638949]\n",
        "505 [0.0, 0.23303933441638949]\n",
        "506 [0.0, 0.23303933441638949]\n",
        "507 [0.0, 0.23303933441638949]\n",
        "508 [0.0, 0.23303933441638949]\n",
        "509 [0.0, 0.23303933441638949]\n",
        "510 [0.0, 0.23303933441638949]\n",
        "511 [0.0, 0.23303933441638949]\n",
        "512 [0.0, 0.23303933441638949]\n",
        "513 [0.0, 0.23303933441638949]\n",
        "514 [0.0, 0.23303933441638949]\n",
        "515 [0.0, 0.23303933441638949]\n",
        "516 [0.0, 0.23303933441638949]\n",
        "517 [0.0, 0.23303933441638949]\n",
        "518 [0.0, 0.23303933441638949]\n",
        "519 [0.0, 0.23303933441638949]\n",
        "520 [0.0, 0.23303933441638949]\n",
        "521 [0.0, 0.23303933441638949]\n",
        "522 [0.0, 0.0]\n",
        "523 [0.43363749980926514, 0.0]\n",
        "524 [0.49836724996566772, 0.0]\n",
        "525 [0.49836724996566772, 0.0]\n",
        "526 [0.45628222823143011, 0.0]\n",
        "527 [0.365672767162323, 0.0]\n",
        "528 [0.365672767162323, 0.0]\n",
        "529 [0.365672767162323, 0.0]\n",
        "530 [0.42393261194229132, 0.0]\n",
        "531 [0.46598711609840393, 0.0]\n",
        "532 [0.47892695665359503, 0.0]\n",
        "533 [0.60191655158996593, 0.0]\n",
        "534 [0.74108093976974487, 0.0]\n",
        "535 [0.84786522388458263, 0.0]\n",
        "536 [0.90936005115509044, 0.0]\n",
        "537 [0.91906493902206432, 0.0]\n",
        "538 [0.93523973226547241, 0.0]\n",
        "539 [0.94497513771057129, 0.0]\n",
        "540 [0.94497513771057129, 0.0]\n",
        "541 [0.94497513771057129, 0.0]\n",
        "542 [0.94497513771057129, 0.0]\n",
        "543 [0.94497513771057129, 0.0]\n",
        "544 [0.94497513771057129, 0.0]\n",
        "545 [0.94497513771057129, 0.0]\n",
        "546 [0.94497513771057129, 0.0]\n",
        "547 [0.94497513771057129, 0.0]\n",
        "548 [0.94497513771057129, 0.0]\n",
        "549 [0.94497513771057129, 0.0]\n",
        "550 [0.94497513771057129, 0.0]\n",
        "551 [0.94497513771057129, 0.0]\n",
        "552 [0.94497513771057129, 0.0]\n",
        "553 [0.93200474977493297, 0.0]\n",
        "554 [0.9222998619079591, 0.0]\n",
        "555 [0.8964201807975769, 0.0]\n",
        "556 [0.88348031044006348, 0.0]\n",
        "557 [0.88348031044006348, 0.0]\n",
        "558 [0.84786522388458263, 0.0]\n",
        "559 [0.77666556835174572, 0.0]\n",
        "560 [0.68282115459442139, 0.0]\n",
        "561 [0.51130712032318115, 0.0]\n",
        "562 [0.44981232285499578, 0.0]\n",
        "563 [0.4206976592540741, 0.0]\n",
        "564 [0.35920286178588867, 0.0]\n",
        "565 [0.20709860324859619, 0.0]\n",
        "566 [0.10675374418497087, 0.0]\n",
        "567 [0.0, 0.0]\n",
        "568 [0.0, 0.12625508010387421]\n",
        "569 [0.0, 0.25891903042793274]\n",
        "570 [0.0, 0.32364878058433538]\n",
        "571 [0.0, 0.34308907389640814]\n",
        "572 [0.0, 0.36249884963035589]\n",
        "573 [0.0, 0.41102328896522528]\n",
        "574 [0.0, 0.43693348765373236]\n",
        "575 [0.0, 0.45634326338768005]\n",
        "576 [0.0, 0.45634326338768005]\n",
        "577 [0.0, 0.45634326338768005]\n",
        "578 [0.0, 0.45634326338768005]\n",
        "579 [0.0, 0.45634326338768005]\n",
        "580 [0.0, 0.45634326338768005]\n",
        "581 [0.0, 0.45634326338768005]\n",
        "582 [0.0, 0.45634326338768005]\n",
        "583 [0.0, 0.45634326338768005]\n",
        "584 [0.0, 0.43046358227729803]\n",
        "585 [0.0, 0.4207586944103241]\n",
        "586 [0.0, 0.4207586944103241]\n",
        "587 [0.0, 0.41102328896522528]\n",
        "588 [0.0, 0.41102328896522528]\n",
        "589 [0.0, 0.4013184010982514]\n",
        "590 [0.0, 0.4013184010982514]\n",
        "591 [0.0, 0.37220373749732971]\n",
        "592 [0.0, 0.32364878058433538]\n",
        "593 [0.0, 0.25891903042793274]\n",
        "594 [0.0, 0.087405011057853699]\n",
        "595 [0.1035187840461731, 0.0]\n",
        "596 [0.18768882751464847, 0.0]\n",
        "597 [0.2621234655380249, 0.0]\n",
        "598 [0.2621234655380249, 0.0]\n",
        "599 [0.2621234655380249, 0.0]\n",
        "600 [0.2621234655380249, 0.0]\n",
        "601 [0.27829828858375549, 0.0]\n",
        "602 [0.33655813336372375, 0.0]\n",
        "603 [0.35920286178588867, 0.0]\n",
        "604 [0.35920286178588867, 0.0]\n",
        "605 [0.35920286178588867, 0.0]\n",
        "606 [0.35920286178588867, 0.0]\n",
        "607 [0.35920286178588867, 0.0]\n",
        "608 [0.34949797391891479, 0.0]\n",
        "609 [0.27182835340499878, 0.0]\n",
        "610 [0.20709860324859619, 0.0]\n",
        "611 [0.12942899763584137, 0.0]\n",
        "612 [0.093813896179199219, 0.0]\n",
        "613 [0.0, 0.0]\n",
        "614 [0.0, 0.0]\n",
        "615 [0.0, 0.0]\n",
        "616 [0.0, 0.12625508010387421]\n",
        "617 [0.0, 0.12625508010387421]\n",
        "618 [0.0, 0.14889980852603915]\n",
        "619 [0.0, 0.1747795045375824]\n",
        "620 [0.0, 0.2006897181272507]\n",
        "621 [0.0, 0.21039460599422458]\n",
        "622 [0.0, 0.21039460599422458]\n",
        "623 [0.0, 0.21039460599422458]\n",
        "624 [0.0, 0.21039460599422458]\n",
        "625 [0.0, 0.21039460599422458]\n",
        "626 [0.0, 0.21039460599422458]\n",
        "627 [0.0, 0.21039460599422458]\n",
        "628 [0.0, 0.21039460599422458]\n",
        "629 [0.0, 0.21039460599422458]\n",
        "630 [0.0, 0.21039460599422458]\n",
        "631 [0.0, 0.21039460599422458]\n",
        "632 [0.0, 0.21039460599422458]\n",
        "633 [0.0, 0.1747795045375824]\n",
        "634 [0.0, 0.1747795045375824]\n",
        "635 [0.0, 0.16507461667060855]\n",
        "636 [0.0, 0.14566484093666077]\n",
        "637 [0.0, 0.14566484093666077]\n",
        "638 [0.0, 0.13595995306968689]\n",
        "639 [0.0, 0.1035798192024231]\n",
        "640 [0.093813896179199219, 0.0]\n",
        "641 [0.23944821953773499, 0.0]\n",
        "642 [0.36243781447410589, 0.0]\n",
        "643 [0.36243781447410589, 0.0]\n",
        "644 [0.36243781447410589, 0.0]\n",
        "645 [0.36243781447410589, 0.0]\n",
        "646 [0.38184759020805359, 0.0]\n",
        "647 [0.43040254712104803, 0.0]\n",
        "648 [0.44334238767623901, 0.0]\n",
        "649 [0.44334238767623901, 0.0]\n",
        "650 [0.44334238767623901, 0.0]\n",
        "651 [0.44334238767623901, 0.0]\n",
        "652 [0.44334238767623901, 0.0]\n",
        "653 [0.44334238767623901, 0.0]\n",
        "654 [0.43363749980926514, 0.0]\n",
        "655 [0.365672767162323, 0.0]\n",
        "656 [0.35596790909767156, 0.0]\n",
        "657 [0.29447311162948614, 0.0]\n",
        "658 [0.25238806009292603, 0.0]\n",
        "659 [0.23297829926013949, 0.0]\n",
        "660 [0.22327341139316559, 0.0]\n",
        "661 [0.21356852352619174, 0.0]\n",
        "662 [0.19092379510402679, 0.0]\n",
        "663 [0.15530869364738464, 0.0]\n",
        "664 [0.093813896179199219, 0.0]\n",
        "665 [0.0, 0.0]\n",
        "666 [0.0, 0.0]\n",
        "667 [0.0, 0.090639971196651459]\n",
        "668 [0.0, 0.11651966720819475]\n",
        "669 [0.0, 0.11651966720819475]\n",
        "670 [0.0, 0.12625508010387421]\n",
        "671 [0.0, 0.13595995306968689]\n",
        "672 [0.0, 0.17801447212696078]\n",
        "673 [0.0, 0.24921414256095889]\n",
        "674 [0.0, 0.30423903465270996]\n",
        "675 [0.0, 0.35602894425392156]\n",
        "676 [0.0, 0.4013184010982514]\n",
        "677 [0.0, 0.43693348765373236]\n",
        "678 [0.0, 0.47898799180984503]\n",
        "679 [0.0, 0.50489825010299683]\n",
        "680 [0.0, 0.52754294872283936]\n",
        "681 [0.0, 0.53724783658981323]\n",
        "682 [0.0, 0.54695272445678711]\n",
        "683 [0.0, 0.55665761232376099]\n",
        "684 [0.0, 0.58256781101226807]\n",
        "685 [0.0, 0.60197758674621582]\n",
        "686 [0.0, 0.6116824746131897]\n",
        "687 [0.0, 0.62138736248016357]\n",
        "688 [0.0, 0.62138736248016357]\n",
        "689 [0.0, 0.62138736248016357]\n",
        "690 [0.0, 0.62138736248016357]\n",
        "691 [0.0, 0.62138736248016357]\n",
        "692 [0.0, 0.63109225034713745]\n",
        "693 [0.0, 0.63109225034713745]\n",
        "694 [0.0, 0.63109225034713745]\n",
        "695 [0.0, 0.63109225034713745]\n",
        "696 [0.0, 0.63109225034713745]\n",
        "697 [0.0, 0.63109225034713745]\n",
        "698 [0.0, 0.63109225034713745]\n",
        "699 [0.0, 0.63109225034713745]\n",
        "700 [0.0, 0.63109225034713745]\n",
        "701 [0.0, 0.63109225034713745]\n",
        "702 [0.0, 0.63109225034713745]\n",
        "703 [0.0, 0.63109225034713745]\n",
        "704 [0.0, 0.63109225034713745]\n",
        "705 [0.0, 0.63109225034713745]\n",
        "706 [0.0, 0.63109225034713745]\n",
        "707 [0.0, 0.63109225034713745]\n",
        "708 [0.0, 0.63109225034713745]\n",
        "709 [0.0, 0.63109225034713745]\n",
        "710 [0.0, 0.63109225034713745]\n",
        "711 [0.0, 0.63109225034713745]\n",
        "712 [0.0, 0.63109225034713745]\n",
        "713 [0.0, 0.63109225034713745]\n",
        "714 [0.0, 0.63109225034713745]\n",
        "715 [0.0, 0.63109225034713745]\n",
        "716 [0.0, 0.63109225034713745]\n",
        "717 [0.0, 0.58580279350280762]\n",
        "718 [0.0, 0.34955900907516479]\n",
        "719 [0.0, 0.33011871576309204]\n",
        "720 [0.0, 0.32041382789611816]\n",
        "721 [0.0, 0.32041382789611816]\n",
        "722 [0.0, 0.32041382789611816]\n",
        "723 [0.0, 0.24921414256095889]\n",
        "724 [0.17148350179195404, 0.0]\n",
        "725 [0.44981232285499578, 0.0]\n",
        "726 [0.64400160312652588, 0.0]\n",
        "727 [0.69576096534729015, 0.0]\n",
        "728 [0.72814112901687622, 0.0]\n",
        "729 [0.76049071550369263, 0.0]\n",
        "730 [0.7701956033706665, 0.0]\n",
        "731 [0.7701956033706665, 0.0]\n",
        "732 [0.7701956033706665, 0.0]\n",
        "733 [0.7701956033706665, 0.0]\n",
        "734 [0.7701956033706665, 0.0]\n",
        "735 [0.71843624114990234, 0.0]\n",
        "736 [0.62132632732391369, 0.0]\n",
        "737 [0.46598711609840393, 0.0]\n",
        "738 [0.26859340071678167, 0.0]\n",
        "739 [0.19739371538162234, 0.0]\n",
        "740 [0.11972410976886749, 0.0]\n",
        "741 [0.1035187840461731, 0.0]\n",
        "742 [0.0, 0.0]\n",
        "743 [0.0, 0.0]\n",
        "744 [0.0, 0.0]\n",
        "745 [0.0, 0.0]\n",
        "746 [0.0, 0.0]\n",
        "747 [0.0, 0.0]\n",
        "748 [0.0, 0.0]\n",
        "749 [0.0, 0.0]\n",
        "750 [0.0, 0.0]\n",
        "751 [0.0, 0.0]\n",
        "752 [0.0, 0.090639971196651459]\n",
        "753 [0.0, 0.20392468571662903]\n",
        "754 [0.0, 0.34955900907516479]\n",
        "755 [0.0, 0.47575303912162781]\n",
        "756 [0.0, 0.55342262983322144]\n",
        "757 [0.0, 0.59227269887924194]\n",
        "758 [0.0, 0.63109225034713745]\n",
        "759 [0.0, 0.64729756116867077]\n",
        "760 [0.0, 0.69258707761764526]\n",
        "761 [0.0, 0.71846675872802745]\n",
        "762 [0.0, 0.73790705204010021]\n",
        "763 [0.0, 0.77672660350799561]\n",
        "764 [0.0, 0.78966641426086426]\n",
        "765 [0.0, 0.80910670757293701]\n",
        "766 [0.0, 0.8414563536643983]\n",
        "767 [0.0, 0.89648121595382702]\n",
        "768 [0.0, 0.93853574991226196]\n",
        "769 [0.0, 0.97091585397720348]\n",
        "770 [0.0, 0.98385572433471691]\n",
        "771 [0.0, 0.98385572433471691]\n",
        "772 [0.0, 0.98385572433471691]\n",
        "773 [0.0, 0.98385572433471691]\n",
        "774 [0.0, 0.98385572433471691]\n",
        "775 [0.0, 0.98385572433471691]\n",
        "776 [0.0, 0.98385572433471691]\n",
        "777 [0.0, 0.98385572433471691]\n",
        "778 [0.0, 0.98385572433471691]\n",
        "779 [0.0, 0.98385572433471691]\n",
        "780 [0.0, 0.98385572433471691]\n",
        "781 [0.0, 0.98385572433471691]\n",
        "782 [0.0, 0.98385572433471691]\n",
        "783 [0.0, 0.98385572433471691]\n",
        "784 [0.0, 0.98385572433471691]\n",
        "785 [0.0, 0.98385572433471691]\n",
        "786 [0.0, 0.98385572433471691]\n",
        "787 [0.0, 0.98385572433471691]\n",
        "788 [0.0, 0.98385572433471691]\n",
        "789 [0.0, 0.98385572433471691]\n",
        "790 [0.0, 0.98385572433471691]\n",
        "791 [0.0, 0.98385572433471691]\n",
        "792 [0.0, 0.98385572433471691]\n",
        "793 [0.0, 0.98385572433471691]\n",
        "794 [0.0, 0.98385572433471691]\n",
        "795 [0.0, 0.97415083646774303]\n",
        "796 [0.0, 0.94500565528869629]\n",
        "797 [0.0, 0.85116124153137218]\n",
        "798 [0.0, 0.62785726785659801]\n",
        "799 [0.0, 0.38514357805252081]\n",
        "800 [0.0, 0.0]\n",
        "801 [0.16501358151435855, 0.0]\n",
        "802 [0.19415876269340518, 0.0]\n",
        "803 [0.19415876269340518, 0.0]\n",
        "804 [0.19415876269340518, 0.0]\n",
        "805 [0.19415876269340518, 0.0]\n",
        "806 [0.19415876269340518, 0.0]\n",
        "807 [0.19415876269340518, 0.0]\n",
        "808 [0.31388285756111145, 0.0]\n",
        "809 [0.49513229727745056, 0.0]\n",
        "810 [0.61485642194747925, 0.0]\n",
        "811 [0.61485642194747925, 0.0]\n",
        "812 [0.61485642194747925, 0.0]\n",
        "813 [0.61485642194747925, 0.0]\n",
        "814 [0.64723652601242065, 0.0]\n",
        "815 [0.80581074953079235, 0.0]\n",
        "816 [0.91582995653152466, 0.0]\n",
        "817 [0.93200474977493297, 0.0]\n",
        "818 [0.94821006059646606, 0.0]\n",
        "819 [0.94821006059646606, 0.0]\n",
        "820 [0.94821006059646606, 0.0]\n",
        "821 [0.8575701117515564, 0.0]\n",
        "822 [0.77343058586120605, 0.0]\n",
        "823 [0.70870083570480347, 0.0]\n",
        "824 [0.55659657716751099, 0.0]\n",
        "825 [0.43363749980926514, 0.0]\n",
        "826 [0.31388285756111145, 0.0]\n",
        "827 [0.2459181547164917, 0.0]\n",
        "828 [0.21356852352619174, 0.0]\n",
        "829 [0.21356852352619174, 0.0]\n",
        "830 [0.0, 0.0]\n",
        "831 [0.0, 0.093874938786029816]\n",
        "832 [0.0, 0.21362957358360293]\n",
        "833 [0.0, 0.2459791898727417]\n",
        "834 [0.0, 0.2459791898727417]\n",
        "835 [0.0, 0.16507461667060855]\n",
        "836 [0.0, 0.0]\n",
        "837 [0.0, 0.0]\n",
        "838 [0.0, 0.0]\n",
        "839 [0.0, 0.0]\n",
        "840 [0.0, 0.0]\n",
        "841 [0.0, 0.0]\n",
        "842 [0.10675374418497087, 0.0]\n",
        "843 [0.11648914963006975, 0.0]\n",
        "844 [0.11648914963006975, 0.0]\n",
        "845 [0.12619403004646301, 0.0]\n",
        "846 [0.16177861392498016, 0.0]\n",
        "847 [0.18442335724830627, 0.0]\n",
        "848 [0.18442335724830627, 0.0]\n",
        "849 [0.18442335724830627, 0.0]\n",
        "850 [0.20062868297100067, 0.0]\n",
        "851 [0.22003845870494843, 0.0]\n",
        "852 [0.23944821953773499, 0.0]\n",
        "853 [0.26535844802856445, 0.0]\n",
        "854 [0.26535844802856445, 0.0]\n",
        "855 [0.26535844802856445, 0.0]\n",
        "856 [0.26535844802856445, 0.0]\n",
        "857 [0.26535844802856445, 0.0]\n",
        "858 [0.25562304258346558, 0.0]\n",
        "859 [0.2459181547164917, 0.0]\n",
        "860 [0.23621326684951782, 0.0]\n",
        "861 [0.22650837898254397, 0.0]\n",
        "862 [0.18768882751464847, 0.0]\n",
        "863 [0.084109015762805939, 0.0]\n",
        "864 [0.0, 0.0]\n",
        "865 [0.0, 0.090639971196651459]\n",
        "866 [0.0, 0.090639971196651459]\n",
        "867 [0.0, 0.090639971196651459]\n",
        "868 [0.0, 0.090639971196651459]\n",
        "869 [0.0, 0.090639971196651459]\n",
        "870 [0.0, 0.13272500038146975]\n",
        "871 [0.0, 0.20715963840484619]\n",
        "872 [0.0, 0.2168645262718201]\n",
        "873 [0.0, 0.22656941413879397]\n",
        "874 [0.0, 0.22656941413879397]\n",
        "875 [0.0, 0.22656941413879397]\n",
        "876 [0.0, 0.14889980852603915]\n",
        "877 [0.0, 0.0]\n",
        "878 [0.0, 0.0]\n",
        "879 [0.0, 0.0]\n",
        "880 [0.087343975901603699, 0.0]\n",
        "881 [0.10675374418497087, 0.0]\n",
        "882 [0.13266396522521975, 0.0]\n",
        "883 [0.16501358151435855, 0.0]\n",
        "884 [0.1747184693813324, 0.0]\n",
        "885 [0.1747184693813324, 0.0]\n",
        "886 [0.1747184693813324, 0.0]\n",
        "887 [0.1747184693813324, 0.0]\n",
        "888 [0.1747184693813324, 0.0]\n",
        "889 [0.15530869364738464, 0.0]\n",
        "890 [0.11648914963006975, 0.0]\n",
        "891 [0.10675374418497087, 0.0]\n",
        "892 [0.084109015762805939, 0.0]\n",
        "893 [0.0, 0.0]\n",
        "894 [0.0, 0.0]\n",
        "895 [0.0, 0.0]\n",
        "896 [0.0, 0.0]\n",
        "897 [0.0, 0.13272500038146975]\n",
        "898 [0.0, 0.18448439240455627]\n",
        "899 [0.0, 0.22980438172817233]\n",
        "900 [0.0, 0.25891903042793274]\n",
        "901 [0.0, 0.28806421160697937]\n",
        "902 [0.0, 0.30747398734092712]\n",
        "903 [0.0, 0.30747398734092712]\n",
        "904 [0.0, 0.30747398734092712]\n",
        "905 [0.0, 0.30747398734092712]\n",
        "906 [0.0, 0.30747398734092712]\n",
        "907 [0.0, 0.30747398734092712]\n",
        "908 [0.0, 0.30747398734092712]\n",
        "909 [0.0, 0.30747398734092712]\n",
        "910 [0.0, 0.30747398734092712]\n",
        "911 [0.0, 0.26538896560668951]\n",
        "912 [0.0, 0.13272500038146975]\n",
        "913 [0.0, 0.0]\n",
        "914 [0.12619403004646301, 0.0]\n",
        "915 [0.15530869364738464, 0.0]\n",
        "916 [0.15530869364738464, 0.0]\n",
        "917 [0.15530869364738464, 0.0]\n",
        "918 [0.15530869364738464, 0.0]\n",
        "919 [0.15530869364738464, 0.0]\n",
        "920 [0.15530869364738464, 0.0]\n",
        "921 [0.15530869364738464, 0.0]\n",
        "922 [0.15530869364738464, 0.0]\n",
        "923 [0.15530869364738464, 0.0]\n",
        "924 [0.15530869364738464, 0.0]\n",
        "925 [0.15530869364738464, 0.0]\n",
        "926 [0.15530869364738464, 0.0]\n",
        "927 [0.15530869364738464, 0.0]\n",
        "928 [0.15530869364738464, 0.0]\n",
        "929 [0.15530869364738464, 0.0]\n",
        "930 [0.15530869364738464, 0.0]\n",
        "931 [0.15530869364738464, 0.0]\n",
        "932 [0.15530869364738464, 0.0]\n",
        "933 [0.15530869364738464, 0.0]\n",
        "934 [0.15530869364738464, 0.0]\n",
        "935 [0.1423688530921936, 0.0]\n",
        "936 [0.12295907735824585, 0.0]\n",
        "937 [0.1035187840461731, 0.0]\n",
        "938 [0.093813896179199219, 0.0]\n",
        "939 [0.0, 0.0]\n",
        "940 [0.0, 0.0]\n",
        "941 [0.0, 0.0]\n",
        "942 [0.0, 0.0]\n",
        "943 [0.0, 0.0]\n",
        "944 [0.0, 0.10681478679180147]\n",
        "945 [0.0, 0.14889980852603915]\n",
        "946 [0.0, 0.2459791898727417]\n",
        "947 [0.0, 0.27512437105178833]\n",
        "948 [0.0, 0.28806421160697937]\n",
        "949 [0.0, 0.30747398734092712]\n",
        "950 [0.0, 0.32364878058433538]\n",
        "951 [0.0, 0.34632405638694769]\n",
        "952 [0.0, 0.35602894425392156]\n",
        "953 [0.0, 0.35602894425392156]\n",
        "954 [0.0, 0.35602894425392156]\n",
        "955 [0.0, 0.35602894425392156]\n",
        "956 [0.0, 0.35602894425392156]\n",
        "957 [0.0, 0.29453414678573614]\n",
        "958 [0.0, 0.14566484093666077]\n",
        "959 [0.0, 0.0]\n",
        "960 [0.0, 0.0]\n",
        "961 [0.0, 0.0]\n",
        "962 [0.0, 0.0]\n",
        "963 [0.0, 0.0]\n",
        "964 [0.11001922935247421, 0.0]\n",
        "965 [0.17795342206954956, 0.0]\n",
        "966 [0.21033357083797458, 0.0]\n",
        "967 [0.24915310740470889, 0.0]\n",
        "968 [0.24915310740470889, 0.0]\n",
        "969 [0.24915310740470889, 0.0]\n",
        "970 [0.24915310740470889, 0.0]\n",
        "971 [0.24915310740470889, 0.0]\n",
        "972 [0.2621234655380249, 0.0]\n",
        "973 [0.27506333589553833, 0.0]\n",
        "974 [0.27506333589553833, 0.0]\n",
        "975 [0.27506333589553833, 0.0]\n",
        "976 [0.27506333589553833, 0.0]\n",
        "977 [0.2459181547164917, 0.0]\n",
        "978 [0.21356852352619174, 0.0]\n",
        "979 [0.20386365056037903, 0.0]\n",
        "980 [0.19415876269340518, 0.0]\n",
        "981 [0.18442335724830627, 0.0]\n",
        "982 [0.158543661236763, 0.0]\n",
        "983 [0.12295907735824585, 0.0]\n",
        "984 [0.09704886376857759, 0.0]\n",
        "985 [0.0, 0.0]\n",
        "986 [0.0, 0.0]\n",
        "987 [0.0, 0.0]\n",
        "988 [0.0, 0.1035798192024231]\n",
        "989 [0.0, 0.14566484093666077]\n",
        "990 [0.0, 0.22009949386119843]\n",
        "991 [0.0, 0.25244912505149841]\n",
        "992 [0.0, 0.27835932374000549]\n",
        "993 [0.0, 0.29776909947395325]\n",
        "994 [0.0, 0.31070894002914429]\n",
        "995 [0.0, 0.32041382789611816]\n",
        "996 [0.0, 0.32041382789611816]\n",
        "997 [0.0, 0.32041382789611816]\n",
        "998 [0.0, 0.32041382789611816]\n",
        "999 [0.0, 0.32041382789611816]\n",
        "1000 [0.0, 0.32041382789611816]\n",
        "1001 [0.0, 0.32041382789611816]\n",
        "1002 [0.0, 0.30100405216217047]\n",
        "1003 [0.0, 0.20392468571662903]\n",
        "1004 [0.0, 0.084170050919055939]\n",
        "1005 [0.0, 0.0]\n",
        "1006 [0.093813896179199219, 0.0]\n",
        "1007 [0.093813896179199219, 0.0]\n",
        "1008 [0.093813896179199219, 0.0]\n",
        "1009 [0.12619403004646301, 0.0]\n",
        "1010 [0.13913388550281525, 0.0]\n",
        "1011 [0.13913388550281525, 0.0]\n",
        "1012 [0.13913388550281525, 0.0]\n",
        "1013 [0.13913388550281525, 0.0]\n",
        "1014 [0.13913388550281525, 0.0]\n",
        "1015 [0.15207372605800631, 0.0]\n",
        "1016 [0.16177861392498016, 0.0]\n",
        "1017 [0.17148350179195404, 0.0]\n",
        "1018 [0.18118838965892795, 0.0]\n",
        "1019 [0.19092379510402679, 0.0]\n",
        "1020 [0.24915310740470889, 0.0]\n",
        "1021 [0.36243781447410589, 0.0]\n",
        "1022 [0.42716756463050842, 0.0]\n",
        "1023 [0.43687245249748236, 0.0]\n",
        "1024 [0.43687245249748236, 0.0]\n",
        "1025 [0.43687245249748236, 0.0]\n",
        "1026 [0.43687245249748236, 0.0]\n",
        "1027 [0.49513229727745056, 0.0]\n",
        "1028 [0.64400160312652588, 0.0]\n",
        "1029 [0.73461103439331066, 0.0]\n",
        "1030 [0.8575701117515564, 0.0]\n",
        "1031 [0.96761983633041382, 0.0]\n",
        "1032 [0.98702961206436157, 0.0]\n",
        "1033 [0.9611499309539796, 0.0]\n",
        "1034 [0.79287087917327881, 0.0]\n",
        "1035 [0.79287087917327881, 0.0]\n",
        "1036 [0.79287087917327881, 0.0]\n",
        "1037 [0.79287087917327881, 0.0]\n",
        "1038 [0.67311626672744751, 0.0]\n",
        "1039 [0.365672767162323, 0.0]\n",
        "1040 [0.0, 0.09710989892482759]\n",
        "1041 [0.0, 0.23950926959514621]\n",
        "1042 [0.0, 0.30100405216217047]\n",
        "1043 [0.0, 0.31394389271736151]\n",
        "1044 [0.0, 0.28159427642822266]\n",
        "1045 [0.093813896179199219, 0.0]\n",
        "1046 [0.32358774542808538, 0.0]\n",
        "1047 [0.65047150850296032, 0.0]\n",
        "1048 [0.8252205252647401, 0.0]\n",
        "1049 [1.0, 0.0]\n",
        "1050 [1.0, 0.0]\n",
        "1051 [1.0, 0.0]\n",
        "1052 [1.0, 0.0]\n",
        "1053 [1.0, 0.0]\n",
        "1054 [1.0, 0.0]\n",
        "1055 [1.0, 0.0]\n",
        "1056 [1.0, 0.0]\n",
        "1057 [1.0, 0.0]\n",
        "1058 [1.0, 0.0]\n",
        "1059 [1.0, 0.0]\n",
        "1060 [1.0, 0.0]\n",
        "1061 [0.94497513771057129, 0.0]\n",
        "1062 [0.90936005115509044, 0.0]\n",
        "1063 [0.85433512926101685, 0.0]\n",
        "1064 [0.79610586166381836, 0.0]\n",
        "1065 [0.72167116403579712, 0.0]\n",
        "1066 [0.64076662063598644, 0.0]\n",
        "1067 [0.46598711609840393, 0.0]\n",
        "1068 [0.31388285756111145, 0.0]\n",
        "1069 [0.21356852352619174, 0.0]\n",
        "1070 [0.21356852352619174, 0.0]\n",
        "1071 [0.21356852352619174, 0.0]\n",
        "1072 [0.21356852352619174, 0.0]\n",
        "1073 [0.21356852352619174, 0.0]\n",
        "1074 [0.21356852352619174, 0.0]\n",
        "1075 [0.21356852352619174, 0.0]\n",
        "1076 [0.21356852352619174, 0.0]\n",
        "1077 [0.19415876269340518, 0.0]\n",
        "1078 [0.13266396522521975, 0.0]\n",
        "1079 [0.10675374418497087, 0.0]\n",
        "1080 [0.0, 0.0]\n",
        "1081 [0.0, 0.0]\n",
        "1082 [0.0, 0.0]\n",
        "1083 [0.0, 0.0]\n",
        "1084 [0.0, 0.11328470706939699]\n",
        "1085 [0.0, 0.22009949386119843]\n",
        "1086 [0.0, 0.24274422228336337]\n",
        "1087 [0.0, 0.25244912505149841]\n",
        "1088 [0.0, 0.25244912505149841]\n",
        "1089 [0.0, 0.27835932374000549]\n",
        "1090 [0.0, 0.28806421160697937]\n",
        "1091 [0.0, 0.28806421160697937]\n",
        "1092 [0.0, 0.28806421160697937]\n",
        "1093 [0.0, 0.28806421160697937]\n",
        "1094 [0.0, 0.28806421160697937]\n",
        "1095 [0.0, 0.28806421160697937]\n",
        "1096 [0.0, 0.28806421160697937]\n"
       ]
      }
     ],
     "prompt_number": 24
    },
    {
     "cell_type": "code",
     "collapsed": false,
     "input": [
      "test = numpy.array([x[0] + x[1] for x in zip(tmpArray2, tmpArray)])"
     ],
     "language": "python",
     "metadata": {},
     "outputs": [],
     "prompt_number": 27
    },
    {
     "cell_type": "code",
     "collapsed": false,
     "input": [
      "test"
     ],
     "language": "python",
     "metadata": {},
     "outputs": [
      {
       "output_type": "pyout",
       "prompt_number": 28,
       "text": [
        "array([[ 0.        ,  0.14804529,  0.0938139 ,  0.        ],\n",
        "       [ 0.        ,  0.14804529,  0.0938139 ,  0.        ],\n",
        "       [ 0.        ,  0.14804529,  0.0938139 ,  0.        ],\n",
        "       ..., \n",
        "       [ 0.        ,  0.97729421,  0.        ,  0.28806421],\n",
        "       [ 0.        ,  0.97729421,  0.        ,  0.28806421],\n",
        "       [ 0.        ,  0.96752828,  0.        ,  0.28806421]])"
       ]
      }
     ],
     "prompt_number": 28
    },
    {
     "cell_type": "code",
     "collapsed": false,
     "input": [
      "test = numpy.hstack((tmpArray, tmpArray2))"
     ],
     "language": "python",
     "metadata": {},
     "outputs": [],
     "prompt_number": 25
    },
    {
     "cell_type": "code",
     "collapsed": false,
     "input": [
      "test"
     ],
     "language": "python",
     "metadata": {},
     "outputs": [
      {
       "output_type": "pyout",
       "prompt_number": 26,
       "text": [
        "array([[ 0.0938139 ,  0.        ,  0.        ,  0.14804529],\n",
        "       [ 0.0938139 ,  0.        ,  0.        ,  0.14804529],\n",
        "       [ 0.0938139 ,  0.        ,  0.        ,  0.14804529],\n",
        "       ..., \n",
        "       [ 0.        ,  0.28806421,  0.        ,  0.97729421],\n",
        "       [ 0.        ,  0.28806421,  0.        ,  0.97729421],\n",
        "       [ 0.        ,  0.28806421,  0.        ,  0.96752828]])"
       ]
      }
     ],
     "prompt_number": 26
    },
    {
     "cell_type": "code",
     "collapsed": false,
     "input": [
      "test2 = numpy.concatenate((tmpArray, tmpArray2), axis=1)"
     ],
     "language": "python",
     "metadata": {},
     "outputs": [],
     "prompt_number": 28
    },
    {
     "cell_type": "code",
     "collapsed": false,
     "input": [
      "test2"
     ],
     "language": "python",
     "metadata": {},
     "outputs": [
      {
       "output_type": "pyout",
       "prompt_number": 29,
       "text": [
        "array([[ 0.0938139 ,  0.        ,  0.        ,  0.14804529],\n",
        "       [ 0.0938139 ,  0.        ,  0.        ,  0.14804529],\n",
        "       [ 0.0938139 ,  0.        ,  0.        ,  0.14804529],\n",
        "       ..., \n",
        "       [ 0.        ,  0.28806421,  0.        ,  0.97729421],\n",
        "       [ 0.        ,  0.28806421,  0.        ,  0.97729421],\n",
        "       [ 0.        ,  0.28806421,  0.        ,  0.96752828]])"
       ]
      }
     ],
     "prompt_number": 29
    },
    {
     "cell_type": "code",
     "collapsed": false,
     "input": [
      "test == test2"
     ],
     "language": "python",
     "metadata": {},
     "outputs": [
      {
       "output_type": "pyout",
       "prompt_number": 30,
       "text": [
        "array([[ True,  True,  True,  True],\n",
        "       [ True,  True,  True,  True],\n",
        "       [ True,  True,  True,  True],\n",
        "       ..., \n",
        "       [ True,  True,  True,  True],\n",
        "       [ True,  True,  True,  True],\n",
        "       [ True,  True,  True,  True]], dtype=bool)"
       ]
      }
     ],
     "prompt_number": 30
    },
    {
     "cell_type": "code",
     "collapsed": false,
     "input": [
      "test.size"
     ],
     "language": "python",
     "metadata": {},
     "outputs": [
      {
       "output_type": "pyout",
       "prompt_number": 31,
       "text": [
        "4388"
       ]
      }
     ],
     "prompt_number": 31
    },
    {
     "cell_type": "code",
     "collapsed": false,
     "input": [
      "test2[0].size"
     ],
     "language": "python",
     "metadata": {},
     "outputs": [
      {
       "output_type": "pyout",
       "prompt_number": 33,
       "text": [
        "4"
       ]
      }
     ],
     "prompt_number": 33
    },
    {
     "cell_type": "code",
     "collapsed": false,
     "input": [],
     "language": "python",
     "metadata": {},
     "outputs": []
    }
   ],
   "metadata": {}
  }
 ]
}