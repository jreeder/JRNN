{
 "metadata": {
  "name": "Scratchsheet"
 },
 "nbformat": 3,
 "nbformat_minor": 0,
 "worksheets": [
  {
   "cells": [
    {
     "cell_type": "code",
     "collapsed": false,
     "input": [
      "import random"
     ],
     "language": "python",
     "metadata": {},
     "outputs": [],
     "prompt_number": 11
    },
    {
     "cell_type": "code",
     "collapsed": false,
     "input": [
      "for i in range(1, 10, 2):\n",
      "            i = i / 10.0\n",
      "            i = i + ((random() * 0.10) - 0.05)\n",
      "            for j in range(1, 10, 2):\n",
      "                    # don't collide with trees - they are over 500 triangles each\n",
      "                    # Add some randomness to the placement.\n",
      "                    \n",
      "                    j = j / 10.0\n",
      "                    \n",
      "                    #j = j + ((random() * 0.10) - 0.05)\n",
      "                    print i, j"
     ],
     "language": "python",
     "metadata": {},
     "outputs": [
      {
       "output_type": "stream",
       "stream": "stdout",
       "text": [
        "0.1 0.1\n",
        "0.01 0.3\n",
        "0.001 0.5\n",
        "0.0001 0.7\n",
        "1e-05 0.9\n",
        "0.3 0.1\n",
        "0.03 0.3\n",
        "0.003 0.5\n",
        "0.0003 0.7\n",
        "3e-05 0.9\n",
        "0.5 0.1\n",
        "0.05 0.3\n",
        "0.005 0.5\n",
        "0.0005 0.7\n",
        "5e-05 0.9\n",
        "0.7 0.1\n",
        "0.07 0.3\n",
        "0.007 0.5\n",
        "0.0007 0.7\n",
        "7e-05 0.9\n",
        "0.9 0.1\n",
        "0.09 0.3\n",
        "0.009 0.5\n",
        "0.0009 0.7\n",
        "9e-05 0.9\n"
       ]
      }
     ],
     "prompt_number": 4
    },
    {
     "cell_type": "code",
     "collapsed": false,
     "input": [
      "XDIM = 800\n",
      "YDIM = 800\n",
      "\n",
      "SPAWN_POINTS = []\n",
      "for i in range(1, 6):\n",
      "    for j in range(1, 6):\n",
      "        point = (XDIM * (i / 6.0), YDIM * (j / 6.0))\n",
      "        SPAWN_POINTS.append(point)\n",
      "\n",
      "\n",
      "def getRandomSpawnPoint():\n",
      "    index = random.randrange(len(SPAWN_POINTS))\n",
      "    return SPAWN_POINTS[index]"
     ],
     "language": "python",
     "metadata": {},
     "outputs": [],
     "prompt_number": 2
    },
    {
     "cell_type": "code",
     "collapsed": false,
     "input": [
      "def getSpawnPoints():\n",
      "        point1 = getRandomSpawnPoint()\n",
      "        point2 = getRandomSpawnPoint()\n",
      "        while point1 == point2:\n",
      "            point2 = getRandomSpawnPoint()\n",
      "\n",
      "        return point1, point2"
     ],
     "language": "python",
     "metadata": {},
     "outputs": [],
     "prompt_number": 6
    },
    {
     "cell_type": "code",
     "collapsed": false,
     "input": [
      "point1, point2 = getSpawnPoints()\n",
      "print point1, point2"
     ],
     "language": "python",
     "metadata": {},
     "outputs": [
      {
       "output_type": "stream",
       "stream": "stdout",
       "text": [
        "(266.66666666666663, 133.33333333333331) (666.6666666666667, 266.66666666666663)\n"
       ]
      }
     ],
     "prompt_number": 12
    },
    {
     "cell_type": "code",
     "collapsed": false,
     "input": [
      "point1[0]"
     ],
     "language": "python",
     "metadata": {},
     "outputs": [
      {
       "output_type": "pyout",
       "prompt_number": 13,
       "text": [
        "266.66666666666663"
       ]
      }
     ],
     "prompt_number": 13
    },
    {
     "cell_type": "code",
     "collapsed": false,
     "input": [],
     "language": "python",
     "metadata": {},
     "outputs": []
    }
   ],
   "metadata": {}
  }
 ]
}