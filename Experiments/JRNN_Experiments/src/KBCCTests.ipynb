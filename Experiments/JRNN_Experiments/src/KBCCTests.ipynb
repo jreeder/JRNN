{
 "metadata": {
  "name": "KBCCTests"
 },
 "nbformat": 3,
 "nbformat_minor": 0,
 "worksheets": [
  {
   "cells": [
    {
     "cell_type": "code",
     "collapsed": false,
     "input": [
      "%pylab\n",
      "import PyJRNN\n",
      "import pyublas\n",
      "import scipy.io\n",
      "import ObsUtility"
     ],
     "language": "python",
     "metadata": {},
     "outputs": []
    },
    {
     "cell_type": "code",
     "collapsed": false,
     "input": [
      "ds = scipy.io.loadmat(\"Notebook Data/datasets/bandcross.mat\")"
     ],
     "language": "python",
     "metadata": {},
     "outputs": []
    },
    {
     "cell_type": "code",
     "collapsed": false,
     "input": [
      "cds = PyJRNN.utility.CSMTLDataset()"
     ],
     "language": "python",
     "metadata": {},
     "outputs": []
    },
    {
     "cell_type": "code",
     "collapsed": false,
     "input": [
      "inputs = np.ascontiguousarray(ds[\"inputs\"])"
     ],
     "language": "python",
     "metadata": {},
     "outputs": []
    },
    {
     "cell_type": "code",
     "collapsed": false,
     "input": [
      "outNames = ['outBox1', 'outBox2', 'outBox3', 'outBox12', 'outBox13', 'outBox123']"
     ],
     "language": "python",
     "metadata": {},
     "outputs": []
    },
    {
     "cell_type": "code",
     "collapsed": false,
     "input": [
      "for outName in outNames:\n",
      "    cds.AddMatDoublesToTask(ObsUtility.matDoubleFromArray(inputs), ObsUtility.matDoubleFromArray(np.ascontiguousarray(ds[outName])), outName)"
     ],
     "language": "python",
     "metadata": {},
     "outputs": []
    },
    {
     "cell_type": "code",
     "collapsed": false,
     "input": [
      "cds.GetTaskNames()"
     ],
     "language": "python",
     "metadata": {},
     "outputs": []
    },
    {
     "cell_type": "code",
     "collapsed": false,
     "input": [
      "for name in cds.GetTaskNames():\n",
      "    print name"
     ],
     "language": "python",
     "metadata": {},
     "outputs": []
    },
    {
     "cell_type": "code",
     "collapsed": false,
     "input": [
      "def TestKBCC(cds, firsttask, secondtask, thirdtask):\n",
      "    tmpsview = PyJRNN.types.strings()\n",
      "    tmpsview.append(firsttask)\n",
      "    cds.view = tmpsview\n",
      "    cds.distdata(200,200,200)\n",
      "    ds1 = cds.SpawnDS()\n",
      "    del tmpsview[:]\n",
      "    tmpsview.append(secondtask)\n",
      "    cds.view = tmpsview\n",
      "    cds.RedistData()\n",
      "    ds2 = cds.SpawnDS()\n",
      "    del tmpsview[:]\n",
      "    tmpsview.append(thirdtask)\n",
      "    cds.view = tmpsview\n",
      "    cds.RedistData()\n",
      "    ds3 = cds.SpawnDS()\n",
      "    \n",
      "    ccnet1 = PyJRNN.networks.CCNetwork.Create()\n",
      "    ccnet2 = PyJRNN.networks.CCNetwork.Create()\n",
      "    kbccnet1 = PyJRNN.networks.KBCCNetwork.Create()\n",
      "    \n",
      "    cct1 = PyJRNN.trainers.CCTrainer(ccnet1, ds1, 8)\n",
      "    cct2 = PyJRNN.trainers.CCTrainer(ccnet2, ds2, 8)\n",
      "    \n",
      "    kbcct1 = PyJRNN.trainers.KBCCTrainer(kbccnet1, ds3, 4)\n",
      "    \n",
      "    kbcct1.AddSubNet(ccnet1)\n",
      "    kbcct1.AddSubNet(ccnet2)\n",
      "    kbcct1.numCopies = 3\n",
      "    \n",
      "    cct1.TrainToValConv()\n",
      "    cct2.TrainToValConv()\n",
      "    \n",
      "    kbcct1.TrainToValConv()"
     ],
     "language": "python",
     "metadata": {},
     "outputs": []
    },
    {
     "cell_type": "code",
     "collapsed": false,
     "input": [],
     "language": "python",
     "metadata": {},
     "outputs": []
    }
   ],
   "metadata": {}
  }
 ]
}