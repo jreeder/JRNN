{
 "metadata": {
  "name": "KBCCTests"
 },
 "nbformat": 3,
 "nbformat_minor": 0,
 "worksheets": [
  {
   "cells": [
    {
     "cell_type": "code",
     "collapsed": false,
     "input": [
      "import PyJRNN\n",
      "import pyublas\n",
      "import scipy.io\n",
      "import ObsUtility\n",
      "import numpy as np"
     ],
     "language": "python",
     "metadata": {},
     "outputs": []
    },
    {
     "cell_type": "code",
     "collapsed": false,
     "input": [
      "from collections import defaultdict"
     ],
     "language": "python",
     "metadata": {},
     "outputs": []
    },
    {
     "cell_type": "code",
     "collapsed": false,
     "input": [
      "%pylab"
     ],
     "language": "python",
     "metadata": {},
     "outputs": []
    },
    {
     "cell_type": "code",
     "collapsed": false,
     "input": [
      "ds = scipy.io.loadmat(\"Notebook Data/datasets/bandcross.mat\")\n",
      "\n",
      "# <codecell>"
     ],
     "language": "python",
     "metadata": {},
     "outputs": []
    },
    {
     "cell_type": "code",
     "collapsed": false,
     "input": [
      "cds = PyJRNN.utility.CSMTLDataset()\n",
      "cds.isConceptData = False"
     ],
     "language": "python",
     "metadata": {},
     "outputs": []
    },
    {
     "cell_type": "code",
     "collapsed": false,
     "input": [
      "# <codecell>\n",
      "\n",
      "inputs = np.ascontiguousarray(ds[\"inputs\"])\n",
      "\n",
      "# <codecell>\n",
      "\n",
      "outNames = ['outBox1', 'outBox2', 'outBox3', 'outBox12', 'outBox13', 'outBox123']\n",
      "\n",
      "# <codecell>\n",
      "\n",
      "for outName in outNames:\n",
      "    cds.AddMatDoublesToTask(ObsUtility.matDoubleFromArray(inputs), ObsUtility.matDoubleFromArray(np.ascontiguousarray(ds[outName])), outName)"
     ],
     "language": "python",
     "metadata": {},
     "outputs": []
    },
    {
     "cell_type": "code",
     "collapsed": false,
     "input": [
      "def LoadBandCross():\n",
      "    ds = scipy.io.loadmat(\"Notebook Data/datasets/bandcross.mat\")\n",
      "    cds = PyJRNN.utility.CSMTLDataset()\n",
      "    cds.isConceptData = False\n",
      "    inputs = np.ascontiguousarray(ds[\"inputs\"])\n",
      "    outNames = ['outBox1', 'outBox2', 'outBox3', 'outBox12', 'outBox13', 'outBox123']\n",
      "    for outName in outNames:\n",
      "        cds.AddMatDoublesToTask(ObsUtility.matDoubleFromArray(inputs), ObsUtility.matDoubleFromArray(np.ascontiguousarray(ds[outName])), outName)\n",
      "    \n",
      "    cds.DistData(200,200,200)\n",
      "    \n",
      "    return cds"
     ],
     "language": "python",
     "metadata": {},
     "outputs": []
    },
    {
     "cell_type": "code",
     "collapsed": false,
     "input": [
      "# <codecell>\n",
      "\n",
      "cds.GetTaskNames()\n",
      "\n",
      "# <codecell>\n",
      "\n",
      "for name in cds.GetTaskNames():\n",
      "    print name\n",
      "\n",
      "# <codecell>"
     ],
     "language": "python",
     "metadata": {},
     "outputs": []
    },
    {
     "cell_type": "code",
     "collapsed": false,
     "input": [
      "def TestKBCC(cds, firsttask, secondtask, thirdtask):\n",
      "    tmpsview = PyJRNN.types.strings()\n",
      "    tmpsview.append(firsttask)\n",
      "    cds.View = tmpsview\n",
      "    cds.DistData(200,200,200)\n",
      "    ds1 = cds.SpawnDS()\n",
      "    del tmpsview[:]\n",
      "    tmpsview.append(secondtask)\n",
      "    cds.View = tmpsview\n",
      "    cds.RedistData()\n",
      "    ds2 = cds.SpawnDS()\n",
      "    del tmpsview[:]\n",
      "    tmpsview.append(thirdtask)\n",
      "    cds.View = tmpsview\n",
      "    cds.RedistData()\n",
      "    ds3 = cds.SpawnDS()\n",
      "    \n",
      "    #ccnet1 = PyJRNN.networks.CCNetwork.Create()\n",
      "    #ccnet2 = PyJRNN.networks.CCNetwork.Create()\n",
      "    kbccnet1 = PyJRNN.networks.KBCCNetwork.Create()\n",
      "    \n",
      "    #ccnet1.Build(ds1.numInputs, ds1.numOutputs, False, True, False)\n",
      "    #ccnet2.Build(ds2.numInputs, ds2.numOutputs, False, True, False)\n",
      "    #cct1 = PyJRNN.trainers.CCTrainer(ccnet1, ds1, 8)\n",
      "    #cct2 = PyJRNN.trainers.CCTrainer(ccnet2, ds2, 8)\n",
      "    \n",
      "    kbccnet1.Build(ds3.numInputs, ds3.numOutputs, False, True, False)\n",
      "    kbcct1 = PyJRNN.trainers.KBCCTrainer(kbccnet1, ds3, 4)\n",
      "\n",
      "    archiver = PyJRNN.utility.JSONArchiver()\n",
      "    \n",
      "    ccnet1 = archiver.LoadFromFile(\"ccnet1.net\")\n",
      "    ccnet2 = archiver.LoadFromFile(\"ccnet2.net\")\n",
      "    \n",
      "    kbcct1.AddSubNet(ccnet1)\n",
      "    kbcct1.AddSubNet(ccnet2)\n",
      "    kbcct1.numCopies = 1\n",
      "    \n",
      "    #cct1.TrainToValConv(2000)\n",
      "    #cct2.TrainToValConv(2000)\n",
      "    \n",
      "    kbcct1.TrainToValConv(2000)\n",
      "\n",
      "    res = kbcct1.TestWiClass(PyJRNN.utility.TEST)\n",
      "    print ObsUtility.ConvHashedDM(res)\n",
      "    print \"Done\"\n",
      "# <codecell>"
     ],
     "language": "python",
     "metadata": {},
     "outputs": []
    },
    {
     "cell_type": "code",
     "collapsed": false,
     "input": [
      "TestKBCC(cds, \"outBox1\", \"outBox2\", \"outBox12\")"
     ],
     "language": "python",
     "metadata": {},
     "outputs": []
    },
    {
     "cell_type": "code",
     "collapsed": false,
     "input": [
      "viewstring = PyJRNN.types.strings()\n",
      "for name in outNames:\n",
      "    viewstring.append(name)\n",
      "    \n",
      "cds.View = viewstring"
     ],
     "language": "python",
     "metadata": {},
     "outputs": []
    },
    {
     "cell_type": "code",
     "collapsed": false,
     "input": [
      "cds.DistData(200,200,200)"
     ],
     "language": "python",
     "metadata": {},
     "outputs": []
    },
    {
     "cell_type": "code",
     "collapsed": false,
     "input": [
      "archiver = PyJRNN.utility.JSONArchiver()"
     ],
     "language": "python",
     "metadata": {},
     "outputs": []
    },
    {
     "cell_type": "code",
     "collapsed": false,
     "input": [
      "for name in outNames:\n",
      "    ds = cds.SpawnDS()\n",
      "    tmpstrings = PyJRNN.types.strings()\n",
      "    tmpstrings.append(name)\n",
      "    ds.DistSubview(tmpstrings)\n",
      "    ccnet = PyJRNN.networks.CCNetwork.Create()\n",
      "    ccnet.Build(ds.numInputs, ds.numOutputs,  False, True, False)\n",
      "    cct = PyJRNN.trainers.CCTrainer(ccnet, ds, 8)\n",
      "    for index in range(5):\n",
      "        cct.TrainToValConv(3000)\n",
      "        res = ObsUtility.ConvHashedDM(cct.TestWiClass(PyJRNN.utility.TEST))\n",
      "        err = res['task-0']\n",
      "        archiver.SaveToFile(ccnet, \"{0}-{1}.net\".format(name, err))\n",
      "        cct.Reset()\n",
      "    print name + \" saved to file.\""
     ],
     "language": "python",
     "metadata": {},
     "outputs": []
    },
    {
     "cell_type": "code",
     "collapsed": false,
     "input": [
      "import os"
     ],
     "language": "python",
     "metadata": {},
     "outputs": []
    },
    {
     "cell_type": "code",
     "collapsed": false,
     "input": [
      "genData = {}\n",
      "for name in outNames:\n",
      "    filename = [x for x in os.listdir(os.curdir) if name in x][0]\n",
      "    ccnet = archiver.LoadFromFile(filename)\n",
      "    ds = cds.SpawnDS()\n",
      "    tmpstrings = PyJRNN.types.strings()\n",
      "    tmpstrings.append(name)\n",
      "    ds.DistSubview(tmpstrings, 1000, 0, 0)\n",
      "    inputs = ds.GetInputs(PyJRNN.utility.TRAIN)\n",
      "    outputs = PyJRNN.types.matDouble()\n",
      "    for inVec in inputs:\n",
      "        ccnet.Activate(inVec)\n",
      "        outputs.append(ccnet.GetOutputs())\n",
      "    \n",
      "    genData[name] = (inputs, outputs)"
     ],
     "language": "python",
     "metadata": {},
     "outputs": []
    },
    {
     "cell_type": "code",
     "collapsed": false,
     "input": [
      "plotGenData = defaultdict(dict)\n",
      "for key in genData.iterkeys():\n",
      "    plotGenData[key]['inputs'] = np.array([x for x in genData[key][0]])\n",
      "    plotGenData[key]['outputs'] = np.array([x for x in genData[key][1]])"
     ],
     "language": "python",
     "metadata": {},
     "outputs": []
    },
    {
     "cell_type": "code",
     "collapsed": false,
     "input": [
      "colors = ['b' if x > 0.5 else 'r' for x in plotGenData['outBox1']['outputs'][:,0]]"
     ],
     "language": "python",
     "metadata": {},
     "outputs": []
    },
    {
     "cell_type": "code",
     "collapsed": false,
     "input": [
      "for key in plotGenData.iterkeys():\n",
      "    fig = figure()\n",
      "    plt.scatter(plotGenData[key]['inputs'][:,0], plotGenData[key]['inputs'][:,1], c=['b' if x > 0.5 else 'r' for x in plotGenData[key]['outputs'][:,0]])\n",
      "    fig.suptitle(key)"
     ],
     "language": "python",
     "metadata": {},
     "outputs": []
    },
    {
     "cell_type": "code",
     "collapsed": false,
     "input": [
      "def SameDataTest(dsname):\n",
      "    cds = LoadBandCross()\n",
      "    tmpsview = PyJRNN.types.strings()\n",
      "    tmpsview.append(dsname)\n",
      "    cds.DistSubView(tmpsview)\n",
      "    ds = cds.SpawnDS()\n",
      "    kbcc = PyJRNN.networks.KBCCNetwork.Create()\n",
      "    kbcc.Build(ds.numInputs, ds.numOutputs, False, True, False)\n",
      "    kbcct = PyJRNN.trainers.KBCCTrainer(kbcc, ds, 4)\n",
      "    filename = [x for x in os.listdir(os.curdir) if dsname in x][0]\n",
      "    ccnet = archiver.LoadFromFile(filename)\n",
      "    kbcct.AddSubNet(ccnet)\n",
      "    kbcct.numCopies = 2\n",
      "    kbcct.TrainToValConv(3000)\n",
      "    result = ObsUtility.ConvHashedDM(kbcct.TestWiClass(PyJRNN.utility.TEST))\n",
      "    epochs = kbcct.Epochs\n",
      "    numHid = kbcct.NumHidLayers\n",
      "    mseRec = kbcct.GetMSERec()\n",
      "    retVal = (result, epochs, numHid, mseRec)\n",
      "    return retVal"
     ],
     "language": "python",
     "metadata": {},
     "outputs": []
    },
    {
     "cell_type": "code",
     "collapsed": false,
     "input": [
      "def SingleDataTest(dsname):\n",
      "    cds = LoadBandCross()\n",
      "    tmpsview = PyJRNN.types.strings()\n",
      "    tmpsview.append(dsname)\n",
      "    cds.DistSubView(tmpsview)\n",
      "    ds = cds.SpawnDS()\n",
      "    cc = PyJRNN.network.CCNetwork.Create()\n",
      "    cc.Build(ds.numInputs, ds.numOutputs, False, True, False)\n",
      "    cct = PyJRNN.trainers.CCTrainer(cc, ds, 8)\n",
      "    cct.TrainToValConv(3000)\n",
      "    result = ObsUtility.ConvHashedDM(cct.TestWiClass(PyJRNN.utility.TEST))\n",
      "    epochs = cct.Epochs\n",
      "    numHid = cct.NumHidLayers\n",
      "    mseRec = cct.GetMSERec()\n",
      "    retVal = (result, epochs, numHid, mseRec)\n",
      "    return retVal"
     ],
     "language": "python",
     "metadata": {},
     "outputs": []
    },
    {
     "cell_type": "code",
     "collapsed": false,
     "input": [
      "def CombineDataTest(dsname1, dsname2, dsname12):\n",
      "    cds = LoadBandCross()\n",
      "    tmpsview = PyJRNN.types.strings()\n",
      "    tmpsview.append(dsname12)\n",
      "    cds.DistSubview(tmpsview)\n",
      "    ds = cds.SpawnDS()\n",
      "    filename1 = [x for x in os.listdir(os.curdir) if dsname1 in x][0]\n",
      "    filename2 = [x for x in os.listdir(os.curdir) if dsname2 in x][0]\n",
      "    ccnet1 = archiver.LoadFromFile(filename1)\n",
      "    ccnet2 = archiver.LoadFromFile(filename2)\n",
      "    kbcc = PyJRNN.networks.KBCCNetwork.Create()\n",
      "    kbcc.Build(ds.numInputs, ds.numOutputs, False, True, False)\n",
      "    kbcct = PyJRNN.trainers.KBCCTrainer(kbcc, ds, 4)\n",
      "    kbcct.AddSubNet(ccnet1)\n",
      "    kbcct.AddSubNet(ccnet2)\n",
      "    kbcct.numCopies = 2\n",
      "    \n",
      "    kbcct.TrainToValConv(3000)\n",
      "    result = ObsUtility.ConvHashedDM(kbcct.TestWiClass(PyJRNN.utility.TEST))\n",
      "    epochs = kbcct.Epochs\n",
      "    numHid = kbcct.NumHidLayers\n",
      "    mseRec = kbcct.GetMSERec()\n",
      "    retVal = (result, epochs, numHid, mseRec)\n",
      "    return retVal"
     ],
     "language": "python",
     "metadata": {},
     "outputs": []
    }
   ],
   "metadata": {}
  }
 ]
}