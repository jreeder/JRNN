{
 "metadata": {
  "name": "KBCCTests"
 },
 "nbformat": 3,
 "nbformat_minor": 0,
 "worksheets": [
  {
   "cells": [
    {
     "cell_type": "code",
     "collapsed": false,
     "input": [
      "import PyJRNN\n",
      "import pyublas\n",
      "import scipy.io\n",
      "import ObsUtility\n",
      "import numpy\n",
      "import os\n",
      "import re"
     ],
     "language": "python",
     "metadata": {},
     "outputs": []
    },
    {
     "cell_type": "code",
     "collapsed": false,
     "input": [
      "from collections import defaultdict"
     ],
     "language": "python",
     "metadata": {},
     "outputs": []
    },
    {
     "cell_type": "code",
     "collapsed": false,
     "input": [
      "networkpath = 'Notebook Data/networks/'"
     ],
     "language": "python",
     "metadata": {},
     "outputs": []
    },
    {
     "cell_type": "code",
     "collapsed": false,
     "input": [
      "%pylab"
     ],
     "language": "python",
     "metadata": {},
     "outputs": []
    },
    {
     "cell_type": "raw",
     "metadata": {},
     "source": [
      "archiver = PyJRNN.utility.JSONArchiver()"
     ]
    },
    {
     "cell_type": "raw",
     "metadata": {},
     "source": [
      "kbccnet = archiver.LoadFromFile(os.path.join(networkpath, 'kbcc-outBox1.net'))"
     ]
    },
    {
     "cell_type": "raw",
     "metadata": {},
     "source": [
      "ds = scipy.io.loadmat(\"Notebook Data/datasets/bandcross.mat\")\n",
      "\n",
      "# <codecell>"
     ]
    },
    {
     "cell_type": "raw",
     "metadata": {},
     "source": [
      "cds = PyJRNN.utility.CSMTLDataset()\n",
      "cds.isConceptData = False"
     ]
    },
    {
     "cell_type": "raw",
     "metadata": {},
     "source": [
      "# <codecell>\n",
      "\n",
      "inputs = np.ascontiguousarray(ds[\"inputs\"])\n",
      "\n",
      "# <codecell>\n",
      "\n",
      "outNames = ['outBox1', 'outBox2', 'outBox3', 'outBox12', 'outBox13', 'outBox123']\n",
      "\n",
      "# <codecell>\n",
      "\n",
      "for outName in outNames:\n",
      "    cds.AddMatDoublesToTask(ObsUtility.matDoubleFromArray(inputs), ObsUtility.matDoubleFromArray(np.ascontiguousarray(ds[outName])), outName)"
     ]
    },
    {
     "cell_type": "raw",
     "metadata": {},
     "source": [
      "def LoadBandCross():\n",
      "    ds = scipy.io.loadmat(\"Notebook Data/datasets/bandcross.mat\")\n",
      "    cds = PyJRNN.utility.CSMTLDataset()\n",
      "    cds.isConceptData = False\n",
      "    inputs = numpy.ascontiguousarray(ds[\"inputs\"])\n",
      "    outNames = ['outBox1', 'outBox2', 'outBox3', 'outBox12', 'outBox13', 'outBox123']\n",
      "    for outName in outNames:\n",
      "        cds.AddMatDoublesToTask(ObsUtility.matDoubleFromArray(inputs), ObsUtility.matDoubleFromArray(numpy.ascontiguousarray(ds[outName])), outName)\n",
      "    \n",
      "    cds.DistData(200,200,200)\n",
      "    \n",
      "    return cds"
     ]
    },
    {
     "cell_type": "raw",
     "metadata": {},
     "source": [
      "cds = LoadBandCross(True)"
     ]
    },
    {
     "cell_type": "raw",
     "metadata": {},
     "source": [
      "# <codecell>\n",
      "\n",
      "cds.GetTaskNames()\n",
      "\n",
      "# <codecell>\n",
      "\n",
      "for name in cds.GetTaskNames():\n",
      "    print name\n",
      "\n",
      "# <codecell>"
     ]
    },
    {
     "cell_type": "raw",
     "metadata": {},
     "source": [
      "def TestKBCC(cds, firsttask, secondtask, thirdtask):\n",
      "    tmpsview = PyJRNN.types.strings()\n",
      "    tmpsview.append(firsttask)\n",
      "    cds.View = tmpsview\n",
      "    cds.DistData(200,200,200)\n",
      "    ds1 = cds.SpawnDS()\n",
      "    del tmpsview[:]\n",
      "    tmpsview.append(secondtask)\n",
      "    cds.View = tmpsview\n",
      "    cds.RedistData()\n",
      "    ds2 = cds.SpawnDS()\n",
      "    del tmpsview[:]\n",
      "    tmpsview.append(thirdtask)\n",
      "    cds.View = tmpsview\n",
      "    cds.RedistData()\n",
      "    ds3 = cds.SpawnDS()\n",
      "    \n",
      "    #ccnet1 = PyJRNN.networks.CCNetwork.Create()\n",
      "    #ccnet2 = PyJRNN.networks.CCNetwork.Create()\n",
      "    kbccnet1 = PyJRNN.networks.KBCCNetwork.Create()\n",
      "    \n",
      "    #ccnet1.Build(ds1.numInputs, ds1.numOutputs, False, True, False)\n",
      "    #ccnet2.Build(ds2.numInputs, ds2.numOutputs, False, True, False)\n",
      "    #cct1 = PyJRNN.trainers.CCTrainer(ccnet1, ds1, 8)\n",
      "    #cct2 = PyJRNN.trainers.CCTrainer(ccnet2, ds2, 8)\n",
      "    \n",
      "    kbccnet1.Build(ds3.numInputs, ds3.numOutputs, False, True, False)\n",
      "    kbcct1 = PyJRNN.trainers.KBCCTrainer(kbccnet1, ds3, 4)\n",
      "\n",
      "    archiver = PyJRNN.utility.JSONArchiver()\n",
      "    \n",
      "    ccnet1 = archiver.LoadFromFile(\"ccnet1.net\")\n",
      "    ccnet2 = archiver.LoadFromFile(\"ccnet2.net\")\n",
      "    \n",
      "    kbcct1.AddSubNet(ccnet1)\n",
      "    kbcct1.AddSubNet(ccnet2)\n",
      "    kbcct1.numCopies = 1\n",
      "    \n",
      "    #cct1.TrainToValConv(2000)\n",
      "    #cct2.TrainToValConv(2000)\n",
      "    \n",
      "    kbcct1.TrainToValConv(2000)\n",
      "\n",
      "    res = kbcct1.TestWiClass(PyJRNN.utility.TEST)\n",
      "    print ObsUtility.ConvHashedDM(res)\n",
      "    print \"Done\"\n",
      "# <codecell>"
     ]
    },
    {
     "cell_type": "raw",
     "metadata": {},
     "source": [
      "TestKBCC(cds, \"outBox1\", \"outBox2\", \"outBox12\")"
     ]
    },
    {
     "cell_type": "raw",
     "metadata": {},
     "source": [
      "viewstring = PyJRNN.types.strings()\n",
      "for name in outNames:\n",
      "    viewstring.append(name)\n",
      "    \n",
      "cds.View = viewstring"
     ]
    },
    {
     "cell_type": "raw",
     "metadata": {},
     "source": [
      "cds.DistData(200,200,200)"
     ]
    },
    {
     "cell_type": "heading",
     "level": 1,
     "metadata": {},
     "source": [
      "Create Networks and Generate Data"
     ]
    },
    {
     "cell_type": "code",
     "collapsed": false,
     "input": [
      "archiver = PyJRNN.utility.JSONArchiver()"
     ],
     "language": "python",
     "metadata": {},
     "outputs": []
    },
    {
     "cell_type": "code",
     "collapsed": false,
     "input": [
      "for name in outNames:\n",
      "    ds = cds.SpawnDS()\n",
      "    tmpstrings = PyJRNN.types.strings()\n",
      "    tmpstrings.append(name)\n",
      "    ds.DistSubview(tmpstrings)\n",
      "    ccnet = PyJRNN.networks.CCNetwork.Create()\n",
      "    ccnet.Build(ds.numInputs, ds.numOutputs,  False, True, False)\n",
      "    cct = PyJRNN.trainers.CCTrainer(ccnet, ds, 8)\n",
      "    for index in range(5):\n",
      "        cct.TrainToValConv(3000)\n",
      "        res = ObsUtility.ConvHashedDM(cct.TestWiClass(PyJRNN.utility.TEST))\n",
      "        err = res['task-0']\n",
      "        archiver.SaveToFile(ccnet, \"{0}-{1}.net\".format(name, err))\n",
      "        cct.Reset()\n",
      "    print name + \" saved to file.\""
     ],
     "language": "python",
     "metadata": {},
     "outputs": []
    },
    {
     "cell_type": "code",
     "collapsed": false,
     "input": [
      "import os"
     ],
     "language": "python",
     "metadata": {},
     "outputs": []
    },
    {
     "cell_type": "code",
     "collapsed": false,
     "input": [
      "genData = {}\n",
      "for name in outNames:\n",
      "    filename = [x for x in os.listdir(os.curdir) if name in x][0]\n",
      "    ccnet = archiver.LoadFromFile(filename)\n",
      "    ds = cds.SpawnDS()\n",
      "    tmpstrings = PyJRNN.types.strings()\n",
      "    tmpstrings.append(name)\n",
      "    ds.DistSubview(tmpstrings, 1000, 0, 0)\n",
      "    inputs = ds.GetInputs(PyJRNN.utility.TRAIN)\n",
      "    outputs = PyJRNN.types.matDouble()\n",
      "    for inVec in inputs:\n",
      "        ccnet.Activate(inVec)\n",
      "        outputs.append(ccnet.GetOutputs())\n",
      "    \n",
      "    genData[name] = (inputs, outputs)"
     ],
     "language": "python",
     "metadata": {},
     "outputs": []
    },
    {
     "cell_type": "code",
     "collapsed": false,
     "input": [
      "plotGenData = defaultdict(dict)\n",
      "for key in genData.iterkeys():\n",
      "    plotGenData[key]['inputs'] = np.array([x for x in genData[key][0]])\n",
      "    plotGenData[key]['outputs'] = np.array([x for x in genData[key][1]])"
     ],
     "language": "python",
     "metadata": {},
     "outputs": []
    },
    {
     "cell_type": "code",
     "collapsed": false,
     "input": [
      "colors = ['b' if x > 0.5 else 'r' for x in plotGenData['outBox1']['outputs'][:,0]]"
     ],
     "language": "python",
     "metadata": {},
     "outputs": []
    },
    {
     "cell_type": "code",
     "collapsed": false,
     "input": [
      "for key in plotGenData.iterkeys():\n",
      "    fig = figure()\n",
      "    plt.scatter(plotGenData[key]['inputs'][:,0], plotGenData[key]['inputs'][:,1], c=['b' if x > 0.5 else 'r' for x in plotGenData[key]['outputs'][:,0]])\n",
      "    fig.suptitle(key)"
     ],
     "language": "python",
     "metadata": {},
     "outputs": []
    },
    {
     "cell_type": "heading",
     "level": 1,
     "metadata": {},
     "source": [
      "Worker Functions"
     ]
    },
    {
     "cell_type": "code",
     "collapsed": false,
     "input": [
      "def LoadBandCross(shift = False, view=[]):\n",
      "    ds = scipy.io.loadmat(\"Notebook Data/datasets/bandcross.mat\")\n",
      "    cds = PyJRNN.utility.CSMTLDataset()\n",
      "    cds.isConceptData = False\n",
      "    inputs = numpy.ascontiguousarray(ds[\"inputs\"])\n",
      "    outNames = None\n",
      "    if shift:\n",
      "        inputs = inputs - 0.5\n",
      "    if len(view) == 0:\n",
      "        outNames = ['outBox1', 'outBox2', 'outBox3', 'outBox12', 'outBox13', 'outBox123']\n",
      "    else:\n",
      "        outNames = view\n",
      "        \n",
      "    for outName in outNames:\n",
      "        outputs = numpy.ascontiguousarray(ds[outName])\n",
      "        if shift:\n",
      "            outputs = outputs - 0.5\n",
      "        cds.AddMatDoublesToTask(ObsUtility.matDoubleFromArray(inputs), ObsUtility.matDoubleFromArray(numpy.ascontiguousarray(ds[outName])), outName)\n",
      "    \n",
      "    inView = PyJRNN.types.strings()\n",
      "    for name in outNames:\n",
      "        inView.append(name)\n",
      "    \n",
      "    cds.View = inView\n",
      "    \n",
      "    cds.DistData(200,200,200)\n",
      "    \n",
      "    return cds"
     ],
     "language": "python",
     "metadata": {},
     "outputs": []
    },
    {
     "cell_type": "code",
     "collapsed": false,
     "input": [
      "def TestWiClass(net, dataset, dstype):\n",
      "    inputs = dataset.GetInputs(dstype)\n",
      "    outputs = dataset.GetOutputs(dstype)\n",
      "    numInCorrect = 0\n",
      "    totalItems = len(inputs)\n",
      "    numTasks = len(outputs[0])\n",
      "    taskErrs = defaultdict(int)\n",
      "    taskErrorRate = {}\n",
      "    for (inputIt, outputIt) in zip(inputs, outputs):\n",
      "        net.Activate(inputIt)\n",
      "        netout = net.GetOutputs()\n",
      "        error = outputIt - netout\n",
      "        for i in range(numTasks):\n",
      "            name = \"task-{0}\".format(i)\n",
      "            err = error[i]\n",
      "            if abs(err) > 0.5:\n",
      "                taskErrs[name] += 1\n",
      "    \n",
      "    for i in range(numTasks):\n",
      "        name = \"task-{0}\".format(i)\n",
      "        taskErrorRate[name] = taskErrs[name] / (totalItems * 1.0)\n",
      "    return taskErrorRate"
     ],
     "language": "python",
     "metadata": {},
     "outputs": []
    },
    {
     "cell_type": "code",
     "collapsed": false,
     "input": [
      "def SameDataTest(dsname, useVal = True, shift = False):\n",
      "    cds = LoadBandCross(shift)\n",
      "    tmpsview = PyJRNN.types.strings()\n",
      "    tmpsview.append(dsname)\n",
      "    cds.DistSubview(tmpsview)\n",
      "    ds = cds.SpawnDS()\n",
      "    kbcc = PyJRNN.networks.KBCCNetwork.Create()\n",
      "    outNodeType = PyJRNN.utility.ActType.ASIGMOID\n",
      "    if shift:\n",
      "        outNodeType = PyJRNN.utility.ActType.SIGMOID\n",
      "    kbcc.Build(ds.numInputs, ds.numOutputs, False, True, True, outNodeType)\n",
      "    kbcct = PyJRNN.trainers.KBCCTrainer(kbcc, ds, 8)\n",
      "    kbcct.parms.errorMeasure = PyJRNN.trainers.BITS\n",
      "    kbcct.useHoldBestCand = True\n",
      "    filename = \"\"\n",
      "    varString = \"uVal{0}-uSh{1}\".format(useVal, shift)\n",
      "    filename = sorted([x for x in os.listdir(networkpath) if dsname+'-' in x and varString in x], key=sortkey)[0]\n",
      "    archiver = PyJRNN.utility.JSONArchiver()\n",
      "    ccnet = archiver.LoadFromFile(os.path.join(networkpath, filename))\n",
      "    kbcct.AddSubNet(ccnet)\n",
      "    kbcct.numCopies = 2\n",
      "    kbcct.TrainToConvergence(3000, useVal)\n",
      "    #result = ObsUtility.ConvHashedDM(kbcct.TestWiClass(PyJRNN.utility.TEST))\n",
      "    result = TestWiClass(kbcc, cds, PyJRNN.utility.TEST)\n",
      "    epochs = kbcct.Epochs\n",
      "    numHid = kbcct.NumHidLayers\n",
      "    mseRec = kbcct.GetMSERec()\n",
      "    retVal = (result, epochs, numHid, [x for x in mseRec])\n",
      "    return retVal"
     ],
     "language": "python",
     "metadata": {},
     "outputs": []
    },
    {
     "cell_type": "code",
     "collapsed": false,
     "input": [
      "def SingleDataTest(dsname, archive=True, count = 0, useVal = True, shift = False):\n",
      "    cds = LoadBandCross(shift)\n",
      "    tmpsview = PyJRNN.types.strings()\n",
      "    tmpsview.append(dsname)\n",
      "    cds.DistSubview(tmpsview)\n",
      "    ds = cds.SpawnDS()\n",
      "    cc = PyJRNN.networks.CCNetwork.Create()\n",
      "    useSDCC = True\n",
      "    useVaryAct = True\n",
      "    outNodeType = PyJRNN.utility.ActType.ASIGMOID\n",
      "    if shift:\n",
      "        outNodeType = PyJRNN.utility.ActType.SIGMOID\n",
      "    cc.Build(ds.numInputs, ds.numOutputs, False, useSDCC, useVaryAct, outNodeType)\n",
      "    cct = PyJRNN.trainers.CCTrainer(cc, ds, 8)\n",
      "    cct.parms.errorMeasure = PyJRNN.trainers.BITS\n",
      "    cct.TrainToConvergence(3000, useVal)\n",
      "    #result = ObsUtility.ConvHashedDM(cct.TestWiClass(PyJRNN.utility.TEST))\n",
      "    result = TestWiClass(cc, cds, PyJRNN.utility.TEST)\n",
      "    epochs = cct.Epochs\n",
      "    numHid = cct.NumHidLayers\n",
      "    mseRec = cct.GetMSERec()\n",
      "    retVal = (result, epochs, numHid, [x for x in mseRec])\n",
      "    if archive:\n",
      "        archiver = PyJRNN.utility.JSONArchiver()\n",
      "        err = result['task-0']\n",
      "        archiver.SaveToFile(cc, os.path.join(networkpath, \"{0}-{1}-uSD{2}-uVA{3}-uVal{5}-uSh{6}-{4}.net\".format(dsname, err, useSDCC, useVaryAct, count, useVal, shift)))\n",
      "    return retVal"
     ],
     "language": "python",
     "metadata": {},
     "outputs": []
    },
    {
     "cell_type": "code",
     "collapsed": false,
     "input": [
      "def SingleDataTestRev(dsname, archive=True, count = 0, useVal = True, shift = False, useRev=True, numRev=2, bufferSize=0):\n",
      "    cds = LoadBandCross(shift)\n",
      "    tmpsview = PyJRNN.types.strings()\n",
      "    tmpsview.append(dsname)\n",
      "    cds.DistSubview(tmpsview)\n",
      "    ds = cds.SpawnDS()\n",
      "    #cc = PyJRNN.networks.CCNetwork.Create()\n",
      "    useSDCC = True\n",
      "    useVaryAct = True\n",
      "    outNodeType = PyJRNN.utility.ActType.ASIGMOID\n",
      "    if shift:\n",
      "        outNodeType = PyJRNN.utility.ActType.SIGMOID\n",
      "    #cc.Build(ds.numInputs, ds.numOutputs, False, useSDCC, useVaryAct, outNodeType)\n",
      "    cct = None\n",
      "    netType = 'revcc' if useRev else 'kbcc'\n",
      "    \n",
      "    if useRev:\n",
      "        cct = PyJRNN.trainers.RevCCTrainer(ds.numInputs, ds.numOutputs, 8, outNodeType, outNodeType)\n",
      "    else:\n",
      "        cct = PyJRNN.trainers.DualKBCCTrainer(ds.numInputs, ds.numOutputs, 8, outNodeType)\n",
      "    \n",
      "    cct.parms.errorMeasure = PyJRNN.trainers.BITS\n",
      "    \n",
      "    cct.SetSDCCandVaryActFunc(useSDCC, useVaryAct)\n",
      "    cct.revparams.numRev = numRev if useRev else 1\n",
      "    cct.revparams.bufferSize = bufferSize if useRev else 0\n",
      "    \n",
      "    cct.TrainTask(ds, 3000, useVal)\n",
      "    #cct.TrainToConvergence(3000, useVal)\n",
      "    #result = ObsUtility.ConvHashedDM(cct.TestWiClass(PyJRNN.utility.TEST))\n",
      "    result = TestWiClass(cct.net1, ds, PyJRNN.utility.TEST)\n",
      "    epochs = cct.Epochs\n",
      "    numHid = cct.NumHidLayers\n",
      "    mseRec = cct.GetMSERec()\n",
      "    retVal = (result, epochs, numHid, [x for x in mseRec])\n",
      "    if archive:\n",
      "        archiver = PyJRNN.utility.JSONArchiver()\n",
      "        err = result['task-0']\n",
      "        archiver.SaveToFile(cct.net1, os.path.join(networkpath, \"{0}-{1}-uSD{2}-uVA{3}-uVal{5}-uSh{6}-{4}.{7}\".format(dsname, err, useSDCC, useVaryAct, count, useVal, shift, netType)))\n",
      "    return retVal"
     ],
     "language": "python",
     "metadata": {},
     "outputs": []
    },
    {
     "cell_type": "code",
     "collapsed": false,
     "input": [
      "def CombineDataTest(dsname1, dsname2, dsname12, useVal = True, shift=False):\n",
      "    cds = LoadBandCross(shift)\n",
      "    tmpsview = PyJRNN.types.strings()\n",
      "    tmpsview.append(dsname12)\n",
      "    cds.DistSubview(tmpsview)\n",
      "    ds = cds.SpawnDS()\n",
      "    filename1 = \"\"\n",
      "    filename2 = \"\"\n",
      "    varString = \"uVal{0}-uSh{1}\".format(useVal, shift)\n",
      "    filename1 = sorted([x for x in os.listdir(networkpath) if dsname1+'-' in x and varString in x], key=sortkey)[0]\n",
      "    filename2 = sorted([x for x in os.listdir(networkpath) if dsname2+'-' in x and varString in x], key=sortkey)[0]\n",
      "    archiver = PyJRNN.utility.JSONArchiver()\n",
      "    ccnet1 = archiver.LoadFromFile(os.path.join(networkpath, filename1))\n",
      "    ccnet2 = archiver.LoadFromFile(os.path.join(networkpath, filename2))\n",
      "    kbcc = PyJRNN.networks.KBCCNetwork.Create()\n",
      "    outNodeType = PyJRNN.utility.ActType.ASIGMOID\n",
      "    if shift:\n",
      "        outNodeType = PyJRNN.utility.ActType.SIGMOID\n",
      "    kbcc.Build(ds.numInputs, ds.numOutputs, False, True, True, outNodeType)\n",
      "    kbcct = PyJRNN.trainers.KBCCTrainer(kbcc, ds, 8)\n",
      "    kbcct.parms.errorMeasure = PyJRNN.trainers.BITS\n",
      "    kbcct.useHoldBestCand = True\n",
      "    kbcct.AddSubNet(ccnet1)\n",
      "    kbcct.AddSubNet(ccnet2)\n",
      "    kbcct.numCopies = 2\n",
      "    \n",
      "    kbcct.TrainToConvergence(3000, useVal)\n",
      "    #result = ObsUtility.ConvHashedDM(kbcct.TestWiClass(PyJRNN.utility.TEST))\n",
      "    result = TestWiClass(kbcc, cds, PyJRNN.utility.TEST)\n",
      "    epochs = kbcct.Epochs\n",
      "    numHid = kbcct.NumHidLayers\n",
      "    mseRec = kbcct.GetMSERec()\n",
      "    retVal = (result, epochs, numHid, [x for x in mseRec])\n",
      "    return retVal"
     ],
     "language": "python",
     "metadata": {},
     "outputs": []
    },
    {
     "cell_type": "code",
     "collapsed": false,
     "input": [
      "def sortkey(string):\n",
      "    errRe = re.compile(\"-(\\d+\\.\\d+)-\")\n",
      "    return float(errRe.findall(string)[0])"
     ],
     "language": "python",
     "metadata": {},
     "outputs": []
    },
    {
     "cell_type": "code",
     "collapsed": false,
     "input": [
      "def MergeNetTest(dsname1, dsname2, dsname12, count = 0, useVal = True, shift=False, useRev=True, numRev=2, bufferSize=200):\n",
      "    cds = LoadBandCross(shift)\n",
      "    tmpsview = PyJRNN.types.strings()\n",
      "    tmpsview.append(dsname12)\n",
      "    cds.DistSubview(tmpsview)\n",
      "    ds = cds.SpawnDS()\n",
      "    del tmpsview[:]\n",
      "    tmpsview.append(dsname1)\n",
      "    tmpsview.append(dsname2)\n",
      "    cds.DistSubview(tmpsview)\n",
      "    ds2 = cds.SpawnDS()\n",
      "    \n",
      "    numContext = cds.ViewSize\n",
      "    filename1 = \"\"\n",
      "    filename2 = \"\"\n",
      "    varString = \"uVal{0}-uSh{1}\".format(useVal, shift)\n",
      "    netType = 'revcc' if useRev else 'kbcc'\n",
      "    filename1 = sorted([x for x in os.listdir(networkpath) if dsname1+'-' in x and varString in x and netType in x], key=sortkey)[0]\n",
      "    filename2 = sorted([x for x in os.listdir(networkpath) if dsname2+'-' in x and varString in x and netType in x], key=sortkey)[0]\n",
      "    archiver = PyJRNN.utility.JSONArchiver()\n",
      "    print \"Loading Existing Nets\"\n",
      "    net1 = archiver.LoadFromFile(os.path.join(networkpath, filename1))\n",
      "    net2 = archiver.LoadFromFile(os.path.join(networkpath, filename2))\n",
      "    \n",
      "    revGenT = None\n",
      "    if useRev:\n",
      "        revGenT = PyJRNN.trainers.RevCCTrainer(net1.numIn, net1.numOut, 8)\n",
      "    else:\n",
      "        revGenT = PyJRNN.trainers.DualKBCCTrainer(net1.numIn, net1.numOut, 8)\n",
      "        \n",
      "    print \"Generating Pseudo Data\"\n",
      "    revGenT.AddPrevTrainedNets(net1, net1.Clone())\n",
      "    revGenT.revparams.numRev = numRev\n",
      "    revGenT.revparams.bufferSize = bufferSize\n",
      "    revGenT.revparams.numContext = numContext\n",
      "    revGenT.SetDataSet(cds)\n",
      "    del tmpsview[:]\n",
      "    tmpsview.append(dsname1)\n",
      "    newDS = revGenT.ReverbMainNet(100, 100, tmpsview)\n",
      "    \n",
      "    del tmpsview[:]\n",
      "    tmpsview.append(dsname2)\n",
      "    revGenT.AddPrevTrainedNets(net2, net2.Clone())\n",
      "    secDS = revGenT.ReverbMainNet(100, 100, tmpsview)\n",
      "    \n",
      "    \n",
      "    newDS.MergeSubsets(secDS, True)\n",
      "    \n",
      "    kbcct = None\n",
      "    \n",
      "    if useRev:\n",
      "        kbcct = PyJRNN.trainers.RevKBCCTrainer(newDS.numInputs, newDS.numOutputs, 4) #use Varied means this gets trippled\n",
      "    else:\n",
      "        kbcct = PyJRNN.trainers.DualKBCCTrainer(newDS.numInputs, newDS.numOutputs, 4)\n",
      "        \n",
      "    print \"Creating Trainer\"\n",
      "    kbcct.SetSDCCandVaryActFunc(True, True)\n",
      "    kbcct.revparams.numRev = numRev if useRev else 0\n",
      "    kbcct.revparams.bufferSize = 0 # Only going to be training task once. \n",
      "    \n",
      "    subnet1 = net1 if not useRev else net1.CloneToCC()\n",
      "    subnet2 = net2 if not useRev else net2.CloneToCC()\n",
      "    \n",
      "    kbcct.AddSubNet(subnet1)\n",
      "    kbcct.AddSubNet(subnet2)\n",
      "    kbcct.numCopies = 0 # only add direct connections\n",
      "    \n",
      "    print \"Training Pseudo Set\"\n",
      "    kbcct.TrainTask(newDS, 3000, useVal)\n",
      "    \n",
      "    print \"Getting Results\"\n",
      "    resultDict = {}\n",
      "    resultDict['FinTask'] = dsname12\n",
      "    resultDict['SubTasks'] = (filename1, filename2)\n",
      "    resultDict['epochs'] = kbcct.net1vals.epochs\n",
      "    resultDict['hiddenLayers'] = kbcct.net1vals.numHidLayers\n",
      "    resultDict['MSERec'] = [x for x in kbcct.net1vals.MSERec]\n",
      "    resultDict['testMSEComb'] = kbcct.TestOnData(ds, PyJRNN.utility.DSDatatype.TEST)\n",
      "    resultDict['errorRateComb'] = TestWiClass(kbcct.net1, ds, PyJRNN.utility.DSDatatype.TEST)\n",
      "    resultDict['testMSESep'] = kbcct.TestOnData(ds2, PyJRNN.utility.DSDatatype.TEST)\n",
      "    resultDict['errorRateSep'] = TestWiClass(kbcct.net1, ds2, PyJRNN.utility.DSDatatype.TEST)\n",
      "    \n",
      "    err = resultDict['errorRate']\n",
      "    newNetType = 'revkbcc' if useRev else 'kbcc'\n",
      "    archiver.SaveToFile(kbcct.net1, os.path.join(networkpath, \"merged-{dsname12}-{err}-uSDTrue-uVATrue-uVal{useVal}-uSh{shift}-{count}.{newNetType}\".format(**locals())))\n",
      "    \n",
      "    return resultDict"
     ],
     "language": "python",
     "metadata": {},
     "outputs": []
    },
    {
     "cell_type": "code",
     "collapsed": false,
     "input": [
      "dsname1 = 'outBox1'\n",
      "dsname2 = 'outBox2'\n",
      "dsname12 = 'outBox12'"
     ],
     "language": "python",
     "metadata": {},
     "outputs": []
    },
    {
     "cell_type": "code",
     "collapsed": false,
     "input": [
      "useVal = True\n",
      "shift = False\n",
      "useRev=True\n",
      "varString = \"uVal{0}-uSh{1}\".format(useVal, shift)\n",
      "netType = 'revcc' if useRev else 'kbcc'"
     ],
     "language": "python",
     "metadata": {},
     "outputs": []
    },
    {
     "cell_type": "code",
     "collapsed": false,
     "input": [
      "sorted([x for x in os.listdir(networkpath) if dsname2+'-' in x and varString in x and netType in x], key=sortkey)[0]"
     ],
     "language": "python",
     "metadata": {},
     "outputs": []
    },
    {
     "cell_type": "code",
     "collapsed": false,
     "input": [
      "results = MergeNetTest(dsname1, dsname2, dsname12, useVal = True, shift=False, useRev=False, numRev=2, bufferSize=200)"
     ],
     "language": "python",
     "metadata": {},
     "outputs": []
    },
    {
     "cell_type": "code",
     "collapsed": false,
     "input": [
      "results"
     ],
     "language": "python",
     "metadata": {},
     "outputs": []
    },
    {
     "cell_type": "heading",
     "level": 1,
     "metadata": {},
     "source": [
      "Parallel Stuff"
     ]
    },
    {
     "cell_type": "code",
     "collapsed": false,
     "input": [
      "from IPython.parallel import Client"
     ],
     "language": "python",
     "metadata": {},
     "outputs": []
    },
    {
     "cell_type": "code",
     "collapsed": false,
     "input": [
      "rc = Client(profile='cluster')\n",
      "rc.ids"
     ],
     "language": "python",
     "metadata": {},
     "outputs": []
    },
    {
     "cell_type": "code",
     "collapsed": false,
     "input": [
      "rc = Client(profile='default')\n",
      "rc.ids"
     ],
     "language": "python",
     "metadata": {},
     "outputs": []
    },
    {
     "cell_type": "code",
     "collapsed": false,
     "input": [
      "with rc[:].sync_imports():\n",
      "    import PyJRNN\n",
      "    import pyublas\n",
      "    import scipy\n",
      "    import scipy.io\n",
      "    import ObsUtility\n",
      "    import numpy\n",
      "    from collections import defaultdict\n",
      "    import os\n",
      "    import re\n",
      "    \n",
      "rc[:]['networkpath'] = networkpath\n",
      "rc[:]['LoadBandCross'] = LoadBandCross\n",
      "rc[:]['sortkey'] = sortkey\n",
      "rc[:]['TestWiClass'] = TestWiClass"
     ],
     "language": "python",
     "metadata": {},
     "outputs": []
    },
    {
     "cell_type": "code",
     "collapsed": false,
     "input": [
      "lbv = rc.load_balanced_view()"
     ],
     "language": "python",
     "metadata": {},
     "outputs": []
    },
    {
     "cell_type": "raw",
     "metadata": {},
     "source": [
      "dsname, archive=True, count = 0, useVal = True, shift = False, useRev=True, numRev=2, bufferSize=0"
     ]
    },
    {
     "cell_type": "code",
     "collapsed": false,
     "input": [
      "numRuns = 15\n",
      "useVal = True\n",
      "shift = False\n",
      "useRev=True\n",
      "dsname1 = 'outBox1'\n",
      "dsname2 = 'outBox2'\n",
      "dsname12 = 'outBox12'\n",
      "numRev=4"
     ],
     "language": "python",
     "metadata": {},
     "outputs": []
    },
    {
     "cell_type": "code",
     "collapsed": false,
     "input": [
      "async_dict = defaultdict(list)\n",
      "for useRev in [True,]:\n",
      "    for numRev in [6, 8]:\n",
      "        name = \"merged-{dsname12}-uVal{useVal}-uSh{shift}-uR{useRev}-nRev{numRev}\".format(**locals())\n",
      "        for x in range(numRuns):\n",
      "            ar = lbv.apply_async(MergeNetTest, dsname1, dsname2, dsname12, count = x, useVal = useVal, shift=shift, useRev=useRev, numRev=numRev, bufferSize=200)\n",
      "            async_dict[name].append(ar)"
     ],
     "language": "python",
     "metadata": {},
     "outputs": []
    },
    {
     "cell_type": "code",
     "collapsed": false,
     "input": [
      "dsname1 = 'outBox1'\n",
      "dsname2 = 'outBox3'\n",
      "dsname12 = 'outBox13'"
     ],
     "language": "python",
     "metadata": {},
     "outputs": []
    },
    {
     "cell_type": "code",
     "collapsed": false,
     "input": [
      "async_dict2 = defaultdict(list)\n",
      "for useRev in [True,False]:\n",
      "    for numRev in [2, 4, 6, 8]:\n",
      "        if not useRev and numRev > 2:\n",
      "            continue\n",
      "        name = \"merged-{dsname12}-uVal{useVal}-uSh{shift}-uR{useRev}-nRev{numRev}\".format(**locals())\n",
      "        for x in range(numRuns):\n",
      "            ar = lbv.apply_async(MergeNetTest, dsname1, dsname2, dsname12, count = x, useVal = useVal, shift=shift, useRev=useRev, numRev=numRev, bufferSize=200)\n",
      "            async_dict2[name].append(ar)"
     ],
     "language": "python",
     "metadata": {},
     "outputs": []
    },
    {
     "cell_type": "code",
     "collapsed": false,
     "input": [
      "async_dict = defaultdict(list)\n",
      "for useVal in [True, False]:\n",
      "    for shift in [False,]:\n",
      "        for useRev in [False, True]:\n",
      "            for dsname in ['outBox1', 'outBox2', 'outBox3']:\n",
      "                name = \"{dsname}-uVal{useVal}-uSh{shift}-uR{useRev}\".format(**locals())\n",
      "                for x in range(numRuns):\n",
      "                    ar = lbv.apply_async(SingleDataTestRev, dsname, True, x, useVal, shift, useRev)\n",
      "                    async_dict[name].append(ar)"
     ],
     "language": "python",
     "metadata": {},
     "outputs": []
    },
    {
     "cell_type": "code",
     "collapsed": false,
     "input": [
      "async_results = []\n",
      "for x in range(numRuns):\n",
      "    ar = lbv.apply_async(SingleDataTest, 'outBox1', True, x, useVal, shift)\n",
      "    async_results.append(ar)"
     ],
     "language": "python",
     "metadata": {},
     "outputs": []
    },
    {
     "cell_type": "code",
     "collapsed": false,
     "input": [
      "async_results2 = []\n",
      "for x in range(numRuns):\n",
      "    ar = lbv.apply_async(SingleDataTest, 'outBox2', True, x, useVal, shift)\n",
      "    async_results2.append(ar)"
     ],
     "language": "python",
     "metadata": {},
     "outputs": []
    },
    {
     "cell_type": "code",
     "collapsed": false,
     "input": [
      "async_results3 = []\n",
      "for x in range(numRuns):\n",
      "    ar = lbv.apply_async(SingleDataTest, 'outBox3', True, x, useVal, shift)\n",
      "    async_results3.append(ar)"
     ],
     "language": "python",
     "metadata": {},
     "outputs": []
    },
    {
     "cell_type": "code",
     "collapsed": false,
     "input": [
      "async_results4 = []\n",
      "for x in range(numRuns):\n",
      "    ar = lbv.apply_async(SingleDataTest, 'outBox12', True, x, useVal, shift)\n",
      "    async_results4.append(ar)"
     ],
     "language": "python",
     "metadata": {},
     "outputs": []
    },
    {
     "cell_type": "code",
     "collapsed": false,
     "input": [
      "async_results5 = []\n",
      "for x in range(numRuns):\n",
      "    ar = lbv.apply_async(SingleDataTest, 'outBox13', True, x, useVal, shift)\n",
      "    async_results5.append(ar)"
     ],
     "language": "python",
     "metadata": {},
     "outputs": []
    },
    {
     "cell_type": "code",
     "collapsed": false,
     "input": [
      "async_results6 = []\n",
      "for x in range(numRuns):\n",
      "    ar = lbv.apply_async(SingleDataTest, 'outBox123', True, x, useVal, shift)\n",
      "    async_results6.append(ar)"
     ],
     "language": "python",
     "metadata": {},
     "outputs": []
    },
    {
     "cell_type": "heading",
     "level": 3,
     "metadata": {},
     "source": [
      "End Singles"
     ]
    },
    {
     "cell_type": "code",
     "collapsed": false,
     "input": [
      "async_results7 = []\n",
      "for x in range(numRuns):\n",
      "    ar = lbv.apply_async(SameDataTest, 'outBox1', useVal, shift)\n",
      "    async_results7.append(ar)"
     ],
     "language": "python",
     "metadata": {},
     "outputs": []
    },
    {
     "cell_type": "code",
     "collapsed": false,
     "input": [
      "async_results8 = []\n",
      "for x in range(numRuns):\n",
      "    ar = lbv.apply_async(SameDataTest, 'outBox2', useVal, shift)\n",
      "    async_results8.append(ar)"
     ],
     "language": "python",
     "metadata": {},
     "outputs": []
    },
    {
     "cell_type": "code",
     "collapsed": false,
     "input": [
      "async_results9 = []\n",
      "for x in range(numRuns):\n",
      "    ar = lbv.apply_async(SameDataTest, 'outBox3', useVal, shift)\n",
      "    async_results9.append(ar)"
     ],
     "language": "python",
     "metadata": {},
     "outputs": []
    },
    {
     "cell_type": "code",
     "collapsed": false,
     "input": [
      "async_results10 = []\n",
      "for x in range(numRuns):\n",
      "    ar = lbv.apply_async(CombineDataTest, 'outBox1', 'outBox2', 'outBox12', useVal, shift)\n",
      "    async_results10.append(ar)"
     ],
     "language": "python",
     "metadata": {},
     "outputs": []
    },
    {
     "cell_type": "code",
     "collapsed": false,
     "input": [
      "async_results11 = []\n",
      "for x in range(numRuns):\n",
      "    ar = lbv.apply_async(CombineDataTest, 'outBox1', 'outBox3', 'outBox13', useVal, shift)\n",
      "    async_results11.append(ar)"
     ],
     "language": "python",
     "metadata": {},
     "outputs": []
    },
    {
     "cell_type": "code",
     "collapsed": false,
     "input": [
      "lbv.queue_status()"
     ],
     "language": "python",
     "metadata": {},
     "outputs": []
    },
    {
     "cell_type": "code",
     "collapsed": false,
     "input": [
      "[(x, [z.status for z in y]) for (x, y) in async_dict2.items()]"
     ],
     "language": "python",
     "metadata": {},
     "outputs": []
    },
    {
     "cell_type": "raw",
     "metadata": {},
     "source": [
      "async_dict.items()[0][1][0].result"
     ]
    },
    {
     "cell_type": "raw",
     "metadata": {},
     "source": [
      "async_results[0].result"
     ]
    },
    {
     "cell_type": "raw",
     "metadata": {},
     "source": [
      "[x.result[0]['task-0'] for x in async_results8 if x.progress == 1]"
     ]
    },
    {
     "cell_type": "raw",
     "metadata": {},
     "source": [
      "[x.result[1] for x in async_results8 if x.progress == 1]"
     ]
    },
    {
     "cell_type": "raw",
     "metadata": {},
     "source": [
      "kbccresults = []\n",
      "for ar in async_results:\n",
      "    kbccresults.append(ar.result)"
     ]
    },
    {
     "cell_type": "code",
     "collapsed": false,
     "input": [
      "import json"
     ],
     "language": "python",
     "metadata": {},
     "outputs": []
    },
    {
     "cell_type": "code",
     "collapsed": false,
     "input": [
      "RevResults = [(\"{}.json\".format(x), [z.result for z in y]) for (x, y) in async_dict2.items() if 'uRTrue' in x]"
     ],
     "language": "python",
     "metadata": {},
     "outputs": []
    },
    {
     "cell_type": "code",
     "collapsed": false,
     "input": [
      "for (filename, results) in RevResults:\n",
      "    with open(os.path.join('Notebook Data', filename), 'w') as fileh:\n",
      "        json.dump(results, fileh)"
     ],
     "language": "python",
     "metadata": {},
     "outputs": []
    },
    {
     "cell_type": "heading",
     "level": 3,
     "metadata": {},
     "source": [
      "Scratch Stuff"
     ]
    },
    {
     "cell_type": "code",
     "collapsed": false,
     "input": [],
     "language": "python",
     "metadata": {},
     "outputs": []
    },
    {
     "cell_type": "raw",
     "metadata": {},
     "source": [
      "json.dump(kbccresults, open(\"kbccsametaskresults.json\", 'w'))"
     ]
    },
    {
     "cell_type": "code",
     "collapsed": false,
     "input": [
      "import math"
     ],
     "language": "python",
     "metadata": {},
     "outputs": []
    },
    {
     "cell_type": "code",
     "collapsed": false,
     "input": [
      "math.sqrt(0.0134)"
     ],
     "language": "python",
     "metadata": {},
     "outputs": []
    },
    {
     "cell_type": "code",
     "collapsed": false,
     "input": [
      "async_results2 = []\n",
      "for x in range(30):\n",
      "    ar = lbv.apply_async(SingleDataTest, 'outBox1', False)\n",
      "    async_results2.append(ar)"
     ],
     "language": "python",
     "metadata": {},
     "outputs": []
    },
    {
     "cell_type": "code",
     "collapsed": false,
     "input": [
      "rc.queue_status()"
     ],
     "language": "python",
     "metadata": {},
     "outputs": []
    },
    {
     "cell_type": "code",
     "collapsed": false,
     "input": [
      "[x.result[0]['task-0'] for x in async_results2]"
     ],
     "language": "python",
     "metadata": {},
     "outputs": []
    },
    {
     "cell_type": "code",
     "collapsed": false,
     "input": [
      "[x.result[1] for x in async_results2]"
     ],
     "language": "python",
     "metadata": {},
     "outputs": []
    },
    {
     "cell_type": "code",
     "collapsed": false,
     "input": [
      "outBox1singleresults = []\n",
      "for ar in async_results2:\n",
      "    outBox1singleresults.append(ar.result)"
     ],
     "language": "python",
     "metadata": {},
     "outputs": []
    },
    {
     "cell_type": "code",
     "collapsed": false,
     "input": [
      "json.dump(outBox1singleresults, open(\"outBox1singleResult.json\", 'w'))"
     ],
     "language": "python",
     "metadata": {},
     "outputs": []
    },
    {
     "cell_type": "code",
     "collapsed": false,
     "input": [
      "async_results3 = []\n",
      "for x in range(3):\n",
      "    ar = lbv.apply_async(CombineDataTest, 'outBox1', 'outBox2', 'outBox12')\n",
      "    async_results3.append(ar)"
     ],
     "language": "python",
     "metadata": {},
     "outputs": []
    },
    {
     "cell_type": "code",
     "collapsed": false,
     "input": [
      "rc.queue_status()"
     ],
     "language": "python",
     "metadata": {},
     "outputs": []
    },
    {
     "cell_type": "code",
     "collapsed": false,
     "input": [
      "[x.result[0]['task-0'] for x in async_results3 if x.progress == 1]"
     ],
     "language": "python",
     "metadata": {},
     "outputs": []
    },
    {
     "cell_type": "code",
     "collapsed": false,
     "input": [
      "[x.result[1] for x in async_results3 if x.progress == 1]"
     ],
     "language": "python",
     "metadata": {},
     "outputs": []
    },
    {
     "cell_type": "code",
     "collapsed": false,
     "input": [
      "async_results4 = []\n",
      "for x in range(3):\n",
      "    ar = lbv.apply_async(SingleDataTest, 'outBox12')\n",
      "    async_results4.append(ar)"
     ],
     "language": "python",
     "metadata": {},
     "outputs": []
    },
    {
     "cell_type": "code",
     "collapsed": false,
     "input": [
      "rc.queue_status()"
     ],
     "language": "python",
     "metadata": {},
     "outputs": []
    },
    {
     "cell_type": "code",
     "collapsed": false,
     "input": [
      "[x.result[0]['task-0'] for x in async_results4]"
     ],
     "language": "python",
     "metadata": {},
     "outputs": []
    },
    {
     "cell_type": "code",
     "collapsed": false,
     "input": [
      "[x.result[1] for x in async_results4]"
     ],
     "language": "python",
     "metadata": {},
     "outputs": []
    },
    {
     "cell_type": "code",
     "collapsed": false,
     "input": [
      "tmpArr = [x.result for x in async_results]"
     ],
     "language": "python",
     "metadata": {},
     "outputs": []
    },
    {
     "cell_type": "code",
     "collapsed": false,
     "input": [
      "len(tmpArr)"
     ],
     "language": "python",
     "metadata": {},
     "outputs": []
    },
    {
     "cell_type": "code",
     "collapsed": false,
     "input": [
      "out2sing = tmpArr[0:30]\n",
      "out123sing = tmpArr[30:]\n",
      "(len(out2sing), len(out123sing))"
     ],
     "language": "python",
     "metadata": {},
     "outputs": []
    },
    {
     "cell_type": "code",
     "collapsed": false,
     "input": [
      "json.dump(out2sing, open(\"outBox2Single.json\", 'w'))\n",
      "json.dump(out123sing, open(\"outBox123Single.json\", 'w'))"
     ],
     "language": "python",
     "metadata": {},
     "outputs": []
    },
    {
     "cell_type": "code",
     "collapsed": false,
     "input": [
      "results = [async_results, async_results2, async_results3, async_results4, async_results5, async_results6, async_results7, async_results8, async_results9, async_results10, async_results11]\n",
      "filenames = [\"outBox1Single.json\", \"outBox2Single.json\", \"outBox3Single.json\", \"outBox12Single.json\", \"outBox13Single.json\", \"outBox123Single.json\", \"outBox1Same.json\", \"outBox2Same.json\", \"outBox3Same.json\", \"outBox12Combine.json\", \"outBox13Combine.json\"]"
     ],
     "language": "python",
     "metadata": {},
     "outputs": []
    },
    {
     "cell_type": "code",
     "collapsed": false,
     "input": [
      "results = [async_results, async_results2, async_results3, async_results4, async_results5, async_results6, async_results7, async_results8, async_results9, async_results10, async_results11]\n",
      "filenames = [\"outBox1SingleNoVal.json\", \"outBox2SingleNoVal.json\", \"outBox3SingleNoVal.json\", \"outBox12SingleNoVal.json\", \"outBox13SingleNoVal.json\", \"outBox123SingleNoVal.json\", \"outBox1SameNoVal.json\", \"outBox2SameNoVal.json\", \"outBox3SameNoVal.json\", \"outBox12CombineNoVal.json\", \"outBox13CombineNoVal.json\"]"
     ],
     "language": "python",
     "metadata": {},
     "outputs": []
    },
    {
     "cell_type": "code",
     "collapsed": false,
     "input": [
      "results = [async_results, async_results2, async_results3, async_results4, async_results5, async_results6, async_results7, async_results8, async_results9, async_results10, async_results11]\n",
      "filenames = [\"outBox1SingleShifted.json\", \"outBox2SingleShifted.json\", \"outBox3SingleShifted.json\", \"outBox12SingleShifted.json\", \"outBox13SingleShifted.json\", \"outBox123SingleShifted.json\", \"outBox1SameShifted.json\", \"outBox2SameShifted.json\", \"outBox3SameShifted.json\", \"outBox12CombineShifted.json\", \"outBox13CombineShifted.json\"]"
     ],
     "language": "python",
     "metadata": {},
     "outputs": []
    },
    {
     "cell_type": "code",
     "collapsed": false,
     "input": [
      "results = [async_results, async_results2, async_results3, async_results4, async_results5, async_results6, async_results7, async_results8, async_results9, async_results10, async_results11]\n",
      "filenames = [\"outBox1SingleNoValShifted.json\", \"outBox2SingleNoValShifted.json\", \"outBox3SingleNoValShifted.json\", \"outBox12SingleNoValShifted.json\", \"outBox13SingleNoValShifted.json\", \"outBox123SingleNoValShifted.json\", \"outBox1SameNoValShifted.json\", \"outBox2SameNoValShifted.json\", \"outBox3SameNoValShifted.json\", \"outBox12CombineNoValShifted.json\", \"outBox13CombineNoValShifted.json\"]"
     ],
     "language": "python",
     "metadata": {},
     "outputs": []
    },
    {
     "cell_type": "code",
     "collapsed": false,
     "input": [
      "for (inResult, filename) in zip(results, filenames):\n",
      "    json.dump([x.result for x in inResult], open(filename, 'w'))"
     ],
     "language": "python",
     "metadata": {},
     "outputs": []
    },
    {
     "cell_type": "heading",
     "level": 1,
     "metadata": {},
     "source": [
      "Plotting Things"
     ]
    },
    {
     "cell_type": "code",
     "collapsed": false,
     "input": [
      "import json"
     ],
     "language": "python",
     "metadata": {},
     "outputs": []
    },
    {
     "cell_type": "code",
     "collapsed": false,
     "input": [
      "%pylab"
     ],
     "language": "python",
     "metadata": {},
     "outputs": []
    },
    {
     "cell_type": "code",
     "collapsed": false,
     "input": [
      "import numpy as np"
     ],
     "language": "python",
     "metadata": {},
     "outputs": []
    },
    {
     "cell_type": "code",
     "collapsed": false,
     "input": [
      "from config import *\n",
      "import ObsUtility"
     ],
     "language": "python",
     "metadata": {},
     "outputs": []
    },
    {
     "cell_type": "code",
     "collapsed": false,
     "input": [
      "outBox1same = json.load(open(\"Notebook Data/outBox1Same.json\"))\n",
      "outBox1Single = json.load(open(\"Notebook Data/outBox1Single.json\"))\n",
      "outBox2Single = json.load(open(\"Notebook Data/outBox2Single.json\"))\n",
      "outBox3Single = json.load(open(\"Notebook Data/outBox3Single.json\"))\n",
      "outBox2same = json.load(open(\"Notebook Data/outBox2Same.json\"))\n",
      "outBox3same = json.load(open(\"Notebook Data/outBox3Same.json\"))"
     ],
     "language": "python",
     "metadata": {},
     "outputs": []
    },
    {
     "cell_type": "code",
     "collapsed": false,
     "input": [
      "outBox1same = json.load(open(\"Notebook Data/outBox1SameNoVal.json\"))\n",
      "outBox1Single = json.load(open(\"Notebook Data/outBox1SingleNoVal.json\"))\n",
      "outBox2Single = json.load(open(\"Notebook Data/outBox2SingleNoVal.json\"))\n",
      "outBox3Single = json.load(open(\"Notebook Data/outBox3SingleNoVal.json\"))\n",
      "outBox2same = json.load(open(\"Notebook Data/outBox2SameNoVal.json\"))\n",
      "outBox3same = json.load(open(\"Notebook Data/outBox3SameNoVal.json\"))"
     ],
     "language": "python",
     "metadata": {},
     "outputs": []
    },
    {
     "cell_type": "code",
     "collapsed": false,
     "input": [
      "xmarks = [\"OutBox 1\", \"OutBox 2\", \"OutBox 3\"]"
     ],
     "language": "python",
     "metadata": {},
     "outputs": []
    },
    {
     "cell_type": "code",
     "collapsed": false,
     "input": [
      "sameVars = [outBox1same, outBox2same, outBox3same]\n",
      "singleVars = [outBox1Single, outBox2Single, outBox3Single]"
     ],
     "language": "python",
     "metadata": {},
     "outputs": []
    },
    {
     "cell_type": "code",
     "collapsed": false,
     "input": [
      "ArrayBarTuples = []\n",
      "sameavgs = []\n",
      "sameerrs = []\n",
      "singleavgs = []\n",
      "singleerrs = []\n",
      "\n",
      "for (same, single) in zip(sameVars, singleVars):\n",
      "    sameavg, sameerr = CalcMeanAndError([x[0]['task-0'] for x in same])\n",
      "    singleavg, singleerr = CalcMeanAndError([x[0]['task-0'] for x in single])\n",
      "    sameavgs.append(sameavg)\n",
      "    sameerrs.append(sameerr)\n",
      "    singleavgs.append(singleavg)\n",
      "    singleerrs.append(singleerr)\n",
      "    \n",
      "ArrayBarTuples.append((sameavgs, sameerrs, 'b', 'KBCC'))\n",
      "ArrayBarTuples.append((singleavgs, singleerrs, 'b', 'CC'))\n",
      "    "
     ],
     "language": "python",
     "metadata": {},
     "outputs": []
    },
    {
     "cell_type": "code",
     "collapsed": false,
     "input": [
      "ArrayBarTuples2 = []\n",
      "epsameavgs = []\n",
      "epsameerrs = []\n",
      "epsingleavgs = []\n",
      "epsingleerrs = []\n",
      "\n",
      "for (same, single) in zip(sameVars, singleVars):\n",
      "    sameavg, sameerr = CalcMeanAndError([x[1] for x in same])\n",
      "    singleavg, singleerr = CalcMeanAndError([x[1] for x in single])\n",
      "    epsameavgs.append(sameavg)\n",
      "    epsameerrs.append(sameerr)\n",
      "    epsingleavgs.append(singleavg)\n",
      "    epsingleerrs.append(singleerr)\n",
      "    \n",
      "ArrayBarTuples2.append((epsameavgs, epsameerrs, 'b', 'KBCC'))\n",
      "ArrayBarTuples2.append((epsingleavgs, epsingleerrs, 'b', 'CC'))"
     ],
     "language": "python",
     "metadata": {},
     "outputs": []
    },
    {
     "cell_type": "code",
     "collapsed": false,
     "input": [
      "singleavgs"
     ],
     "language": "python",
     "metadata": {},
     "outputs": []
    },
    {
     "cell_type": "code",
     "collapsed": false,
     "input": [
      "fig1 = ObsUtility.PlotMultiBar(xmarks, ArrayBarTuples, \"KBCC Error\", \"% Error\")\n",
      "fig2 = ObsUtility.PlotMultiBar(xmarks, ArrayBarTuples2, \"KBCC Epochs\", \"Epochs\")"
     ],
     "language": "python",
     "metadata": {},
     "outputs": []
    },
    {
     "cell_type": "code",
     "collapsed": false,
     "input": [
      "%load_ext autoreload\n",
      "%autoreload 2"
     ],
     "language": "python",
     "metadata": {},
     "outputs": []
    },
    {
     "cell_type": "code",
     "collapsed": false,
     "input": [],
     "language": "python",
     "metadata": {},
     "outputs": []
    },
    {
     "cell_type": "code",
     "collapsed": false,
     "input": [
      "xmarks2 = ['outBox 1+2', 'outBox 1+3']"
     ],
     "language": "python",
     "metadata": {},
     "outputs": []
    },
    {
     "cell_type": "code",
     "collapsed": false,
     "input": [
      "outBox12single = json.load(open(\"Notebook Data/outBox12Single.json\"))\n",
      "outBox13single = json.load(open(\"Notebook Data/outBox13Single.json\"))\n",
      "outBox12Comb = json.load(open(\"Notebook Data/outBox12Combine.json\"))\n",
      "outBox13Comb = json.load(open(\"Notebook Data/outBox13Combine.json\"))"
     ],
     "language": "python",
     "metadata": {},
     "outputs": []
    },
    {
     "cell_type": "code",
     "collapsed": false,
     "input": [
      "outBox12single = json.load(open(\"Notebook Data/outBox12SingleNoVal.json\"))\n",
      "outBox13single = json.load(open(\"Notebook Data/outBox13SingleNoVal.json\"))\n",
      "outBox12Comb = json.load(open(\"Notebook Data/outBox12CombineNoVal.json\"))\n",
      "outBox13Comb = json.load(open(\"Notebook Data/outBox13CombineNoVal.json\"))"
     ],
     "language": "python",
     "metadata": {},
     "outputs": []
    },
    {
     "cell_type": "code",
     "collapsed": false,
     "input": [
      "singleVars2 = [outBox12single, outBox13single]\n",
      "combinVars2 = [outBox12Comb, outBox13Comb]"
     ],
     "language": "python",
     "metadata": {},
     "outputs": []
    },
    {
     "cell_type": "code",
     "collapsed": false,
     "input": [
      "ArrayBarTuples3 = []\n",
      "singAvgs3 = []\n",
      "combAvgs3 = []\n",
      "singErrs3 = []\n",
      "combErrs3 = []\n",
      "\n",
      "for (single, comb) in zip(singleVars2, combinVars2):\n",
      "    singleavg, singleerr = CalcMeanAndError([x[0]['task-0'] for x in single])\n",
      "    combavg, comberr = CalcMeanAndError([x[0]['task-0'] for x in comb])\n",
      "    singAvgs3.append(singleavg)\n",
      "    singErrs3.append(singleerr)\n",
      "    combErrs3.append(comberr)\n",
      "    combAvgs3.append(combavg)\n",
      "\n",
      "ArrayBarTuples3.append((singAvgs3, singErrs3, 'b', 'CC'))\n",
      "ArrayBarTuples3.append((combAvgs3, combErrs3, 'b', 'KBCC'))"
     ],
     "language": "python",
     "metadata": {},
     "outputs": []
    },
    {
     "cell_type": "code",
     "collapsed": false,
     "input": [
      "def CalcMaVforMat(inMat, xfunc):\n",
      "    retAvgs = []\n",
      "    retErrs = []\n",
      "    for inArray in inMat:\n",
      "        avg, err = CalcMeanAndError([xfunc(x) for x in inArray])\n",
      "        retAvgs.append(avg)\n",
      "        retErrs.append(err)\n",
      "    \n",
      "    return retAvgs, retErrs"
     ],
     "language": "python",
     "metadata": {},
     "outputs": []
    },
    {
     "cell_type": "code",
     "collapsed": false,
     "input": [
      "fig3 = ObsUtility.PlotMultiBar(xmarks2, ArrayBarTuples3, \"KBCC Combined Error\", \"% Error\")"
     ],
     "language": "python",
     "metadata": {},
     "outputs": []
    },
    {
     "cell_type": "code",
     "collapsed": false,
     "input": [
      "ArrayBarTuples4 = []\n",
      "singAvgs4, singErrs4 = CalcMaVforMat(singleVars2, lambda x: x[1])\n",
      "combAvgs4, combErrs4 = CalcMaVforMat(combinVars2, lambda x: x[1])\n",
      "ArrayBarTuples4.append((singAvgs4, singErrs4, 'b', \"CC\"))\n",
      "ArrayBarTuples4.append((combAvgs4, combErrs4, 'b', \"KBCC\"))"
     ],
     "language": "python",
     "metadata": {},
     "outputs": []
    },
    {
     "cell_type": "code",
     "collapsed": false,
     "input": [
      "fig4 = ObsUtility.PlotMultiBar(xmarks2, ArrayBarTuples4, \"KBCC Combined Epochs\", \"Epochs\")"
     ],
     "language": "python",
     "metadata": {},
     "outputs": []
    },
    {
     "cell_type": "code",
     "collapsed": false,
     "input": [],
     "language": "python",
     "metadata": {},
     "outputs": []
    }
   ],
   "metadata": {}
  }
 ]
}