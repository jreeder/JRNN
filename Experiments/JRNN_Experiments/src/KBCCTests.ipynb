{
 "metadata": {
  "name": "KBCCTests"
 },
 "nbformat": 3,
 "nbformat_minor": 0,
 "worksheets": [
  {
   "cells": [
    {
     "cell_type": "code",
     "collapsed": false,
     "input": [
      "import PyJRNN\n",
      "import pyublas\n",
      "import scipy.io\n",
      "import ObsUtility\n",
      "import numpy\n",
      "import os"
     ],
     "language": "python",
     "metadata": {},
     "outputs": []
    },
    {
     "cell_type": "code",
     "collapsed": false,
     "input": [
      "from collections import defaultdict"
     ],
     "language": "python",
     "metadata": {},
     "outputs": []
    },
    {
     "cell_type": "code",
     "collapsed": false,
     "input": [
      "networkpath = 'Notebook Data/networks/'"
     ],
     "language": "python",
     "metadata": {},
     "outputs": []
    },
    {
     "cell_type": "code",
     "collapsed": false,
     "input": [
      "%pylab"
     ],
     "language": "python",
     "metadata": {},
     "outputs": []
    },
    {
     "cell_type": "code",
     "collapsed": false,
     "input": [
      "archiver = PyJRNN.utility.JSONArchiver()"
     ],
     "language": "python",
     "metadata": {},
     "outputs": []
    },
    {
     "cell_type": "raw",
     "metadata": {},
     "source": [
      "kbccnet = archiver.LoadFromFile(os.path.join(networkpath, 'kbcc-outBox1.net'))"
     ]
    },
    {
     "cell_type": "raw",
     "metadata": {},
     "source": [
      "ds = scipy.io.loadmat(\"Notebook Data/datasets/bandcross.mat\")\n",
      "\n",
      "# <codecell>"
     ]
    },
    {
     "cell_type": "raw",
     "metadata": {},
     "source": [
      "cds = PyJRNN.utility.CSMTLDataset()\n",
      "cds.isConceptData = False"
     ]
    },
    {
     "cell_type": "raw",
     "metadata": {},
     "source": [
      "# <codecell>\n",
      "\n",
      "inputs = np.ascontiguousarray(ds[\"inputs\"])\n",
      "\n",
      "# <codecell>\n",
      "\n",
      "outNames = ['outBox1', 'outBox2', 'outBox3', 'outBox12', 'outBox13', 'outBox123']\n",
      "\n",
      "# <codecell>\n",
      "\n",
      "for outName in outNames:\n",
      "    cds.AddMatDoublesToTask(ObsUtility.matDoubleFromArray(inputs), ObsUtility.matDoubleFromArray(np.ascontiguousarray(ds[outName])), outName)"
     ]
    },
    {
     "cell_type": "raw",
     "metadata": {},
     "source": [
      "def LoadBandCross():\n",
      "    ds = scipy.io.loadmat(\"Notebook Data/datasets/bandcross.mat\")\n",
      "    cds = PyJRNN.utility.CSMTLDataset()\n",
      "    cds.isConceptData = False\n",
      "    inputs = numpy.ascontiguousarray(ds[\"inputs\"])\n",
      "    outNames = ['outBox1', 'outBox2', 'outBox3', 'outBox12', 'outBox13', 'outBox123']\n",
      "    for outName in outNames:\n",
      "        cds.AddMatDoublesToTask(ObsUtility.matDoubleFromArray(inputs), ObsUtility.matDoubleFromArray(numpy.ascontiguousarray(ds[outName])), outName)\n",
      "    \n",
      "    cds.DistData(200,200,200)\n",
      "    \n",
      "    return cds"
     ]
    },
    {
     "cell_type": "raw",
     "metadata": {},
     "source": [
      "cds = LoadBandCross()"
     ]
    },
    {
     "cell_type": "raw",
     "metadata": {},
     "source": [
      "# <codecell>\n",
      "\n",
      "cds.GetTaskNames()\n",
      "\n",
      "# <codecell>\n",
      "\n",
      "for name in cds.GetTaskNames():\n",
      "    print name\n",
      "\n",
      "# <codecell>"
     ]
    },
    {
     "cell_type": "raw",
     "metadata": {},
     "source": [
      "def TestKBCC(cds, firsttask, secondtask, thirdtask):\n",
      "    tmpsview = PyJRNN.types.strings()\n",
      "    tmpsview.append(firsttask)\n",
      "    cds.View = tmpsview\n",
      "    cds.DistData(200,200,200)\n",
      "    ds1 = cds.SpawnDS()\n",
      "    del tmpsview[:]\n",
      "    tmpsview.append(secondtask)\n",
      "    cds.View = tmpsview\n",
      "    cds.RedistData()\n",
      "    ds2 = cds.SpawnDS()\n",
      "    del tmpsview[:]\n",
      "    tmpsview.append(thirdtask)\n",
      "    cds.View = tmpsview\n",
      "    cds.RedistData()\n",
      "    ds3 = cds.SpawnDS()\n",
      "    \n",
      "    #ccnet1 = PyJRNN.networks.CCNetwork.Create()\n",
      "    #ccnet2 = PyJRNN.networks.CCNetwork.Create()\n",
      "    kbccnet1 = PyJRNN.networks.KBCCNetwork.Create()\n",
      "    \n",
      "    #ccnet1.Build(ds1.numInputs, ds1.numOutputs, False, True, False)\n",
      "    #ccnet2.Build(ds2.numInputs, ds2.numOutputs, False, True, False)\n",
      "    #cct1 = PyJRNN.trainers.CCTrainer(ccnet1, ds1, 8)\n",
      "    #cct2 = PyJRNN.trainers.CCTrainer(ccnet2, ds2, 8)\n",
      "    \n",
      "    kbccnet1.Build(ds3.numInputs, ds3.numOutputs, False, True, False)\n",
      "    kbcct1 = PyJRNN.trainers.KBCCTrainer(kbccnet1, ds3, 4)\n",
      "\n",
      "    archiver = PyJRNN.utility.JSONArchiver()\n",
      "    \n",
      "    ccnet1 = archiver.LoadFromFile(\"ccnet1.net\")\n",
      "    ccnet2 = archiver.LoadFromFile(\"ccnet2.net\")\n",
      "    \n",
      "    kbcct1.AddSubNet(ccnet1)\n",
      "    kbcct1.AddSubNet(ccnet2)\n",
      "    kbcct1.numCopies = 1\n",
      "    \n",
      "    #cct1.TrainToValConv(2000)\n",
      "    #cct2.TrainToValConv(2000)\n",
      "    \n",
      "    kbcct1.TrainToValConv(2000)\n",
      "\n",
      "    res = kbcct1.TestWiClass(PyJRNN.utility.TEST)\n",
      "    print ObsUtility.ConvHashedDM(res)\n",
      "    print \"Done\"\n",
      "# <codecell>"
     ]
    },
    {
     "cell_type": "raw",
     "metadata": {},
     "source": [
      "TestKBCC(cds, \"outBox1\", \"outBox2\", \"outBox12\")"
     ]
    },
    {
     "cell_type": "raw",
     "metadata": {},
     "source": [
      "viewstring = PyJRNN.types.strings()\n",
      "for name in outNames:\n",
      "    viewstring.append(name)\n",
      "    \n",
      "cds.View = viewstring"
     ]
    },
    {
     "cell_type": "raw",
     "metadata": {},
     "source": [
      "cds.DistData(200,200,200)"
     ]
    },
    {
     "cell_type": "heading",
     "level": 1,
     "metadata": {},
     "source": [
      "Create Networks and Generate Data"
     ]
    },
    {
     "cell_type": "code",
     "collapsed": false,
     "input": [
      "archiver = PyJRNN.utility.JSONArchiver()"
     ],
     "language": "python",
     "metadata": {},
     "outputs": []
    },
    {
     "cell_type": "code",
     "collapsed": false,
     "input": [
      "for name in outNames:\n",
      "    ds = cds.SpawnDS()\n",
      "    tmpstrings = PyJRNN.types.strings()\n",
      "    tmpstrings.append(name)\n",
      "    ds.DistSubview(tmpstrings)\n",
      "    ccnet = PyJRNN.networks.CCNetwork.Create()\n",
      "    ccnet.Build(ds.numInputs, ds.numOutputs,  False, True, False)\n",
      "    cct = PyJRNN.trainers.CCTrainer(ccnet, ds, 8)\n",
      "    for index in range(5):\n",
      "        cct.TrainToValConv(3000)\n",
      "        res = ObsUtility.ConvHashedDM(cct.TestWiClass(PyJRNN.utility.TEST))\n",
      "        err = res['task-0']\n",
      "        archiver.SaveToFile(ccnet, \"{0}-{1}.net\".format(name, err))\n",
      "        cct.Reset()\n",
      "    print name + \" saved to file.\""
     ],
     "language": "python",
     "metadata": {},
     "outputs": []
    },
    {
     "cell_type": "code",
     "collapsed": false,
     "input": [
      "import os"
     ],
     "language": "python",
     "metadata": {},
     "outputs": []
    },
    {
     "cell_type": "code",
     "collapsed": false,
     "input": [
      "genData = {}\n",
      "for name in outNames:\n",
      "    filename = [x for x in os.listdir(os.curdir) if name in x][0]\n",
      "    ccnet = archiver.LoadFromFile(filename)\n",
      "    ds = cds.SpawnDS()\n",
      "    tmpstrings = PyJRNN.types.strings()\n",
      "    tmpstrings.append(name)\n",
      "    ds.DistSubview(tmpstrings, 1000, 0, 0)\n",
      "    inputs = ds.GetInputs(PyJRNN.utility.TRAIN)\n",
      "    outputs = PyJRNN.types.matDouble()\n",
      "    for inVec in inputs:\n",
      "        ccnet.Activate(inVec)\n",
      "        outputs.append(ccnet.GetOutputs())\n",
      "    \n",
      "    genData[name] = (inputs, outputs)"
     ],
     "language": "python",
     "metadata": {},
     "outputs": []
    },
    {
     "cell_type": "code",
     "collapsed": false,
     "input": [
      "plotGenData = defaultdict(dict)\n",
      "for key in genData.iterkeys():\n",
      "    plotGenData[key]['inputs'] = np.array([x for x in genData[key][0]])\n",
      "    plotGenData[key]['outputs'] = np.array([x for x in genData[key][1]])"
     ],
     "language": "python",
     "metadata": {},
     "outputs": []
    },
    {
     "cell_type": "code",
     "collapsed": false,
     "input": [
      "colors = ['b' if x > 0.5 else 'r' for x in plotGenData['outBox1']['outputs'][:,0]]"
     ],
     "language": "python",
     "metadata": {},
     "outputs": []
    },
    {
     "cell_type": "code",
     "collapsed": false,
     "input": [
      "for key in plotGenData.iterkeys():\n",
      "    fig = figure()\n",
      "    plt.scatter(plotGenData[key]['inputs'][:,0], plotGenData[key]['inputs'][:,1], c=['b' if x > 0.5 else 'r' for x in plotGenData[key]['outputs'][:,0]])\n",
      "    fig.suptitle(key)"
     ],
     "language": "python",
     "metadata": {},
     "outputs": []
    },
    {
     "cell_type": "heading",
     "level": 1,
     "metadata": {},
     "source": [
      "Worker Functions"
     ]
    },
    {
     "cell_type": "code",
     "collapsed": false,
     "input": [
      "def LoadBandCross():\n",
      "    ds = scipy.io.loadmat(\"Notebook Data/datasets/bandcross.mat\")\n",
      "    cds = PyJRNN.utility.CSMTLDataset()\n",
      "    cds.isConceptData = False\n",
      "    inputs = numpy.ascontiguousarray(ds[\"inputs\"])\n",
      "    outNames = ['outBox1', 'outBox2', 'outBox3', 'outBox12', 'outBox13', 'outBox123']\n",
      "    for outName in outNames:\n",
      "        cds.AddMatDoublesToTask(ObsUtility.matDoubleFromArray(inputs), ObsUtility.matDoubleFromArray(numpy.ascontiguousarray(ds[outName])), outName)\n",
      "    \n",
      "    cds.DistData(200,200,200)\n",
      "    \n",
      "    return cds"
     ],
     "language": "python",
     "metadata": {},
     "outputs": []
    },
    {
     "cell_type": "code",
     "collapsed": false,
     "input": [
      "def SameDataTest(dsname):\n",
      "    cds = LoadBandCross()\n",
      "    tmpsview = PyJRNN.types.strings()\n",
      "    tmpsview.append(dsname)\n",
      "    cds.DistSubview(tmpsview)\n",
      "    ds = cds.SpawnDS()\n",
      "    kbcc = PyJRNN.networks.KBCCNetwork.Create()\n",
      "    kbcc.Build(ds.numInputs, ds.numOutputs, False, True, True)\n",
      "    kbcct = PyJRNN.trainers.KBCCTrainer(kbcc, ds, 8)\n",
      "    kbcct.parms.errorMeasure = PyJRNN.trainers.BITS\n",
      "    filename = [x for x in os.listdir(networkpath) if dsname in x][0]\n",
      "    archiver = PyJRNN.utility.JSONArchiver()\n",
      "    ccnet = archiver.LoadFromFile(os.path.join(networkpath, filename))\n",
      "    kbcct.AddSubNet(ccnet)\n",
      "    kbcct.numCopies = 2\n",
      "    kbcct.TrainToValConv(3000)\n",
      "    result = ObsUtility.ConvHashedDM(kbcct.TestWiClass(PyJRNN.utility.TEST))\n",
      "    epochs = kbcct.Epochs\n",
      "    numHid = kbcct.NumHidLayers\n",
      "    mseRec = kbcct.GetMSERec()\n",
      "    retVal = (result, epochs, numHid, [x for x in mseRec])\n",
      "    return retVal"
     ],
     "language": "python",
     "metadata": {},
     "outputs": []
    },
    {
     "cell_type": "code",
     "collapsed": false,
     "input": [
      "def SingleDataTest(dsname, archive=True):\n",
      "    cds = LoadBandCross()\n",
      "    tmpsview = PyJRNN.types.strings()\n",
      "    tmpsview.append(dsname)\n",
      "    cds.DistSubview(tmpsview)\n",
      "    ds = cds.SpawnDS()\n",
      "    cc = PyJRNN.networks.CCNetwork.Create()\n",
      "    useSDCC = True\n",
      "    useVaryAct = True\n",
      "    cc.Build(ds.numInputs, ds.numOutputs, False, useSDCC, useVaryAct)\n",
      "    cct = PyJRNN.trainers.CCTrainer(cc, ds, 8)\n",
      "    cct.parms.errorMeasure = PyJRNN.trainers.BITS\n",
      "    cct.TrainToValConv(3000)\n",
      "    result = ObsUtility.ConvHashedDM(cct.TestWiClass(PyJRNN.utility.TEST))\n",
      "    epochs = cct.Epochs\n",
      "    numHid = cct.NumHidLayers\n",
      "    mseRec = cct.GetMSERec()\n",
      "    retVal = (result, epochs, numHid, [x for x in mseRec])\n",
      "    if archive:\n",
      "        archiver = PyJRNN.utility.JSONArchiver()\n",
      "        err = result['task-0']\n",
      "        archiver.SaveToFile(cc, \"{0}-{1}-uSD{2}-uVA{3}.net\".format(dsname, err, useSDCC, useVaryAct))\n",
      "    return retVal"
     ],
     "language": "python",
     "metadata": {},
     "outputs": []
    },
    {
     "cell_type": "code",
     "collapsed": false,
     "input": [
      "def CombineDataTest(dsname1, dsname2, dsname12):\n",
      "    cds = LoadBandCross()\n",
      "    tmpsview = PyJRNN.types.strings()\n",
      "    tmpsview.append(dsname12)\n",
      "    cds.DistSubview(tmpsview)\n",
      "    ds = cds.SpawnDS()\n",
      "    filename1 = [x for x in os.listdir(networkpath) if dsname1 in x][0]\n",
      "    filename2 = [x for x in os.listdir(networkpath) if dsname2 in x][0]\n",
      "    archiver = PyJRNN.utility.JSONArchiver()\n",
      "    ccnet1 = archiver.LoadFromFile(os.path.join(networkpath, filename1))\n",
      "    ccnet2 = archiver.LoadFromFile(os.path.join(networkpath, filename2))\n",
      "    kbcc = PyJRNN.networks.KBCCNetwork.Create()\n",
      "    kbcc.Build(ds.numInputs, ds.numOutputs, False, True, True)\n",
      "    kbcct = PyJRNN.trainers.KBCCTrainer(kbcc, ds, 8)\n",
      "    kbcct.AddSubNet(ccnet1)\n",
      "    kbcct.AddSubNet(ccnet2)\n",
      "    kbcct.numCopies = 2\n",
      "    \n",
      "    kbcct.TrainToValConv(3000)\n",
      "    result = ObsUtility.ConvHashedDM(kbcct.TestWiClass(PyJRNN.utility.TEST))\n",
      "    epochs = kbcct.Epochs\n",
      "    numHid = kbcct.NumHidLayers\n",
      "    mseRec = kbcct.GetMSERec()\n",
      "    retVal = (result, epochs, numHid, [x for x in mseRec])\n",
      "    return retVal"
     ],
     "language": "python",
     "metadata": {},
     "outputs": []
    },
    {
     "cell_type": "heading",
     "level": 1,
     "metadata": {},
     "source": [
      "Parallel Stuff"
     ]
    },
    {
     "cell_type": "code",
     "collapsed": false,
     "input": [
      "from IPython.parallel import Client"
     ],
     "language": "python",
     "metadata": {},
     "outputs": []
    },
    {
     "cell_type": "code",
     "collapsed": false,
     "input": [
      "rc = Client(profile='default')\n",
      "rc.ids"
     ],
     "language": "python",
     "metadata": {},
     "outputs": []
    },
    {
     "cell_type": "code",
     "collapsed": false,
     "input": [
      "with rc[:].sync_imports():\n",
      "    import PyJRNN\n",
      "    import pyublas\n",
      "    import scipy\n",
      "    import scipy.io\n",
      "    import ObsUtility\n",
      "    import numpy\n",
      "    from collections import defaultdict\n",
      "    import os\n",
      "    \n",
      "rc[:]['networkpath'] = networkpath\n",
      "rc[:]['LoadBandCross'] = LoadBandCross"
     ],
     "language": "python",
     "metadata": {},
     "outputs": []
    },
    {
     "cell_type": "code",
     "collapsed": false,
     "input": [
      "lbv = rc.load_balanced_view()"
     ],
     "language": "python",
     "metadata": {},
     "outputs": []
    },
    {
     "cell_type": "code",
     "collapsed": false,
     "input": [
      "async_results = []\n",
      "for x in range(30):\n",
      "    ar = lbv.apply_async(SingleDataTest, 'outBox2', False)\n",
      "    async_results.append(ar)"
     ],
     "language": "python",
     "metadata": {},
     "outputs": []
    },
    {
     "cell_type": "code",
     "collapsed": false,
     "input": [
      "async_results2 = []\n",
      "for x in range(30):\n",
      "    ar = lbv.apply_async(SingleDataTest, 'outBox3', False)\n",
      "    async_results2.append(ar)"
     ],
     "language": "python",
     "metadata": {},
     "outputs": []
    },
    {
     "cell_type": "code",
     "collapsed": false,
     "input": [
      "async_results3 = []\n",
      "for x in range(30):\n",
      "    ar = lbv.apply_async(SingleDataTest, 'outBox12', False)\n",
      "    async_results3.append(ar)"
     ],
     "language": "python",
     "metadata": {},
     "outputs": []
    },
    {
     "cell_type": "code",
     "collapsed": false,
     "input": [
      "async_results4 = []\n",
      "for x in range(30):\n",
      "    ar = lbv.apply_async(SingleDataTest, 'outBox13', False)\n",
      "    async_results4.append(ar)"
     ],
     "language": "python",
     "metadata": {},
     "outputs": []
    },
    {
     "cell_type": "code",
     "collapsed": false,
     "input": [
      "async_results5 = []\n",
      "for x in range(30):\n",
      "    ar = lbv.apply_async(SingleDataTest, 'outBox123', False)\n",
      "    async_results5.append(ar)"
     ],
     "language": "python",
     "metadata": {},
     "outputs": []
    },
    {
     "cell_type": "code",
     "collapsed": false,
     "input": [
      "async_results6 = []\n",
      "for x in range(30):\n",
      "    ar = lbv.apply_async(SameDataTest, 'outBox2')\n",
      "    async_results6.append(ar)"
     ],
     "language": "python",
     "metadata": {},
     "outputs": []
    },
    {
     "cell_type": "code",
     "collapsed": false,
     "input": [
      "async_results7 = []\n",
      "for x in range(30):\n",
      "    ar = lbv.apply_async(SameDataTest, 'outBox3')\n",
      "    async_results7.append(ar)"
     ],
     "language": "python",
     "metadata": {},
     "outputs": []
    },
    {
     "cell_type": "code",
     "collapsed": false,
     "input": [
      "async_results8 = []\n",
      "for x in range(30):\n",
      "    ar = lbv.apply_async(CombineDataTest, 'outBox1', 'outBox2', 'outBox12')\n",
      "    async_results8.append(ar)"
     ],
     "language": "python",
     "metadata": {},
     "outputs": []
    },
    {
     "cell_type": "code",
     "collapsed": false,
     "input": [
      "async_results9 = []\n",
      "for x in range(30):\n",
      "    ar = lbv.apply_async(CombineDataTest, 'outBox1', 'outBox3', 'outBox13')\n",
      "    async_results9.append(ar)"
     ],
     "language": "python",
     "metadata": {},
     "outputs": []
    },
    {
     "cell_type": "code",
     "collapsed": false,
     "input": [
      "rc.queue_status()"
     ],
     "language": "python",
     "metadata": {},
     "outputs": []
    },
    {
     "cell_type": "code",
     "collapsed": false,
     "input": [
      "[x.result[0]['task-0'] for x in async_results if x.progress == 1]"
     ],
     "language": "python",
     "metadata": {},
     "outputs": []
    },
    {
     "cell_type": "code",
     "collapsed": false,
     "input": [
      "[x.result[1] for x in async_results if x.progress == 1]"
     ],
     "language": "python",
     "metadata": {},
     "outputs": []
    },
    {
     "cell_type": "code",
     "collapsed": false,
     "input": [
      "kbccresults = []\n",
      "for ar in async_results:\n",
      "    kbccresults.append(ar.result)"
     ],
     "language": "python",
     "metadata": {},
     "outputs": []
    },
    {
     "cell_type": "code",
     "collapsed": false,
     "input": [
      "import json"
     ],
     "language": "python",
     "metadata": {},
     "outputs": []
    },
    {
     "cell_type": "code",
     "collapsed": false,
     "input": [
      "json.dump(kbccresults, open(\"kbccsametaskresults.json\", 'w'))"
     ],
     "language": "python",
     "metadata": {},
     "outputs": []
    },
    {
     "cell_type": "code",
     "collapsed": false,
     "input": [
      "import math"
     ],
     "language": "python",
     "metadata": {},
     "outputs": []
    },
    {
     "cell_type": "code",
     "collapsed": false,
     "input": [
      "math.sqrt(0.0134)"
     ],
     "language": "python",
     "metadata": {},
     "outputs": []
    },
    {
     "cell_type": "code",
     "collapsed": false,
     "input": [
      "async_results2 = []\n",
      "for x in range(30):\n",
      "    ar = lbv.apply_async(SingleDataTest, 'outBox1', False)\n",
      "    async_results2.append(ar)"
     ],
     "language": "python",
     "metadata": {},
     "outputs": []
    },
    {
     "cell_type": "code",
     "collapsed": false,
     "input": [
      "rc.queue_status()"
     ],
     "language": "python",
     "metadata": {},
     "outputs": []
    },
    {
     "cell_type": "code",
     "collapsed": false,
     "input": [
      "[x.result[0]['task-0'] for x in async_results2]"
     ],
     "language": "python",
     "metadata": {},
     "outputs": []
    },
    {
     "cell_type": "code",
     "collapsed": false,
     "input": [
      "[x.result[1] for x in async_results2]"
     ],
     "language": "python",
     "metadata": {},
     "outputs": []
    },
    {
     "cell_type": "code",
     "collapsed": false,
     "input": [
      "outBox1singleresults = []\n",
      "for ar in async_results2:\n",
      "    outBox1singleresults.append(ar.result)"
     ],
     "language": "python",
     "metadata": {},
     "outputs": []
    },
    {
     "cell_type": "code",
     "collapsed": false,
     "input": [
      "json.dump(outBox1singleresults, open(\"outBox1singleResult.json\", 'w'))"
     ],
     "language": "python",
     "metadata": {},
     "outputs": []
    },
    {
     "cell_type": "code",
     "collapsed": false,
     "input": [
      "async_results3 = []\n",
      "for x in range(3):\n",
      "    ar = lbv.apply_async(CombineDataTest, 'outBox1', 'outBox2', 'outBox12')\n",
      "    async_results3.append(ar)"
     ],
     "language": "python",
     "metadata": {},
     "outputs": []
    },
    {
     "cell_type": "code",
     "collapsed": false,
     "input": [
      "rc.queue_status()"
     ],
     "language": "python",
     "metadata": {},
     "outputs": []
    },
    {
     "cell_type": "code",
     "collapsed": false,
     "input": [
      "[x.result[0]['task-0'] for x in async_results3 if x.progress == 1]"
     ],
     "language": "python",
     "metadata": {},
     "outputs": []
    },
    {
     "cell_type": "code",
     "collapsed": false,
     "input": [
      "[x.result[1] for x in async_results3 if x.progress == 1]"
     ],
     "language": "python",
     "metadata": {},
     "outputs": []
    },
    {
     "cell_type": "code",
     "collapsed": false,
     "input": [
      "async_results4 = []\n",
      "for x in range(3):\n",
      "    ar = lbv.apply_async(SingleDataTest, 'outBox12')\n",
      "    async_results4.append(ar)"
     ],
     "language": "python",
     "metadata": {},
     "outputs": []
    },
    {
     "cell_type": "code",
     "collapsed": false,
     "input": [
      "rc.queue_status()"
     ],
     "language": "python",
     "metadata": {},
     "outputs": []
    },
    {
     "cell_type": "code",
     "collapsed": false,
     "input": [
      "[x.result[0]['task-0'] for x in async_results4]"
     ],
     "language": "python",
     "metadata": {},
     "outputs": []
    },
    {
     "cell_type": "code",
     "collapsed": false,
     "input": [
      "[x.result[1] for x in async_results4]"
     ],
     "language": "python",
     "metadata": {},
     "outputs": []
    },
    {
     "cell_type": "code",
     "collapsed": false,
     "input": [
      "tmpArr = [x.result for x in async_results]"
     ],
     "language": "python",
     "metadata": {},
     "outputs": []
    },
    {
     "cell_type": "code",
     "collapsed": false,
     "input": [
      "len(tmpArr)"
     ],
     "language": "python",
     "metadata": {},
     "outputs": []
    },
    {
     "cell_type": "code",
     "collapsed": false,
     "input": [
      "out2sing = tmpArr[0:30]\n",
      "out123sing = tmpArr[30:]\n",
      "(len(out2sing), len(out123sing))"
     ],
     "language": "python",
     "metadata": {},
     "outputs": []
    },
    {
     "cell_type": "code",
     "collapsed": false,
     "input": [
      "json.dump(out2sing, open(\"outBox2Single.json\", 'w'))\n",
      "json.dump(out123sing, open(\"outBox123Single.json\", 'w'))"
     ],
     "language": "python",
     "metadata": {},
     "outputs": []
    },
    {
     "cell_type": "code",
     "collapsed": false,
     "input": [
      "results = [async_results, async_results2, async_results3, async_results4, async_results5, async_results6, async_results7, async_results8, async_results9]\n",
      "filenames = [\"outBox2Single.json\", \"outBox3Single.json\", \"outBox12Single.json\", \"outBox13Single.json\", \"outBox123Single.json\", \"outBox2Same.json\", \"outBox3Same.json\", \"outBox12Combine.json\", \"outBox13Combine.json\"]"
     ],
     "language": "python",
     "metadata": {},
     "outputs": []
    },
    {
     "cell_type": "code",
     "collapsed": false,
     "input": [
      "for (inResult, filename) in zip(results, filenames):\n",
      "    json.dump([x.result for x in inResult], open(filename, 'w'))"
     ],
     "language": "python",
     "metadata": {},
     "outputs": []
    },
    {
     "cell_type": "heading",
     "level": 1,
     "metadata": {},
     "source": [
      "Plotting Things"
     ]
    },
    {
     "cell_type": "code",
     "collapsed": false,
     "input": [
      "import json"
     ],
     "language": "python",
     "metadata": {},
     "outputs": []
    },
    {
     "cell_type": "code",
     "collapsed": false,
     "input": [
      "from config import *\n",
      "import ObsUtility"
     ],
     "language": "python",
     "metadata": {},
     "outputs": []
    },
    {
     "cell_type": "code",
     "collapsed": false,
     "input": [
      "outBox1same = json.load(open(\"Notebook Data/kbccsametaskresults.json\"))"
     ],
     "language": "python",
     "metadata": {},
     "outputs": []
    },
    {
     "cell_type": "code",
     "collapsed": false,
     "input": [
      "outBox1Single = json.load(open(\"Notebook Data/outBox1Single.json\"))\n",
      "outBox2Single = json.load(open(\"Notebook Data/outBox2Single.json\"))\n",
      "outBox3Single = json.load(open(\"Notebook Data/outBox3Single.json\"))"
     ],
     "language": "python",
     "metadata": {},
     "outputs": []
    },
    {
     "cell_type": "code",
     "collapsed": false,
     "input": [
      "outBox2same = json.load(open(\"Notebook Data/outBox2Same.json\"))\n",
      "outBox3same = json.load(open(\"Notebook Data/outBox3Same.json\"))"
     ],
     "language": "python",
     "metadata": {},
     "outputs": []
    },
    {
     "cell_type": "code",
     "collapsed": false,
     "input": [
      "ArrayBarTuples = []\n",
      "xticks = [\"CC\", \"KBCC\"]\n",
      "\n"
     ],
     "language": "python",
     "metadata": {},
     "outputs": []
    }
   ],
   "metadata": {}
  }
 ]
}