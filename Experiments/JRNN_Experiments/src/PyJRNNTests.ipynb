{
 "metadata": {
  "name": "PyJRNNTests"
 },
 "nbformat": 3,
 "nbformat_minor": 0,
 "worksheets": [
  {
   "cells": [
    {
     "cell_type": "markdown",
     "metadata": {},
     "source": [
      "#Setup#"
     ]
    },
    {
     "cell_type": "code",
     "collapsed": false,
     "input": [
      "bookmark PyJRNNTestHome \"C:\\\\Users\\\\John Reeder\\\\Code\\\\JRNN\\\\Builds\\\\VS2010\\\\JRNN\\\\Debug\""
     ],
     "language": "python",
     "metadata": {},
     "outputs": [],
     "prompt_number": 1
    },
    {
     "cell_type": "code",
     "collapsed": false,
     "input": [
      "bookmark PyJRNNTest \"C:\\\\Users\\\\jreeder\\\\Documents\\\\GitHub\\\\JRNN\\\\Builds\\\\VS2010\\\\JRNN\\\\Debug\""
     ],
     "language": "python",
     "metadata": {},
     "outputs": [],
     "prompt_number": 2
    },
    {
     "cell_type": "code",
     "collapsed": false,
     "input": [
      "bookmark PyJRNNTestTitan \"D:\\\\Users\\\\John Reeder\\\\Code\\\\JRNN\\\\Builds\\\\VS2010\\\\JRNN\\\\Debug\""
     ],
     "language": "python",
     "metadata": {},
     "outputs": [],
     "prompt_number": 3
    },
    {
     "cell_type": "code",
     "collapsed": false,
     "input": [
      "cd PyJRNNTestTitan"
     ],
     "language": "python",
     "metadata": {},
     "outputs": [
      {
       "output_type": "stream",
       "stream": "stdout",
       "text": [
        "(bookmark:PyJRNNTestTitan) -> D:\\\\Users\\\\John Reeder\\\\Code\\\\JRNN\\\\Builds\\\\VS2010\\\\JRNN\\\\Debug\n",
        "D:\\Users\\John Reeder\\Code\\JRNN\\Builds\\VS2010\\JRNN\\Debug\n"
       ]
      }
     ],
     "prompt_number": 4
    },
    {
     "cell_type": "code",
     "collapsed": false,
     "input": [
      "from PyJRNN import networks as net"
     ],
     "language": "python",
     "metadata": {},
     "outputs": [],
     "prompt_number": 5
    },
    {
     "cell_type": "code",
     "collapsed": false,
     "input": [
      "import pyublas"
     ],
     "language": "python",
     "metadata": {},
     "outputs": [],
     "prompt_number": 6
    },
    {
     "cell_type": "markdown",
     "metadata": {},
     "source": [
      "#Playing with Networks#"
     ]
    },
    {
     "cell_type": "code",
     "collapsed": false,
     "input": [
      "cc = net.CCNetwork.Create()"
     ],
     "language": "python",
     "metadata": {},
     "outputs": []
    },
    {
     "cell_type": "code",
     "collapsed": false,
     "input": [
      "cc.Build(2,1)"
     ],
     "language": "python",
     "metadata": {},
     "outputs": []
    },
    {
     "cell_type": "code",
     "collapsed": false,
     "input": [
      "a = numpy.array((0.6,0.4))\n",
      "a"
     ],
     "language": "python",
     "metadata": {},
     "outputs": []
    },
    {
     "cell_type": "code",
     "collapsed": false,
     "input": [
      "\n",
      "cc.Activate(a)"
     ],
     "language": "python",
     "metadata": {},
     "outputs": []
    },
    {
     "cell_type": "code",
     "collapsed": false,
     "input": [
      "print cc.GetOutputs()"
     ],
     "language": "python",
     "metadata": {},
     "outputs": []
    },
    {
     "cell_type": "markdown",
     "metadata": {},
     "source": [
      "#Playing with Datasets#"
     ]
    },
    {
     "cell_type": "code",
     "collapsed": false,
     "input": [
      "from PyJRNN import utility as utils\n",
      "from PyJRNN.types import strings"
     ],
     "language": "python",
     "metadata": {},
     "outputs": [],
     "prompt_number": 7
    },
    {
     "cell_type": "code",
     "collapsed": false,
     "input": [
      "mds = utils.MTLDataset()"
     ],
     "language": "python",
     "metadata": {},
     "outputs": []
    },
    {
     "cell_type": "code",
     "collapsed": false,
     "input": [
      "mds.AddTaskFromFile(\"C:\\\\Users\\\\John Reeder\\\\Code\\\\JRNN\\\\Experiments\\\\Data\\\\Tabbed Data\\\\Band Tasks\\\\Single Tasks\\\\band-task1.txt\",\"task1\", 2,1) "
     ],
     "language": "python",
     "metadata": {},
     "outputs": []
    },
    {
     "cell_type": "code",
     "collapsed": false,
     "input": [
      "mds.GetSize(utils.DSDatatype.ALL)"
     ],
     "language": "python",
     "metadata": {},
     "outputs": []
    },
    {
     "cell_type": "code",
     "collapsed": false,
     "input": [
      "view = strings()\n",
      "view.append(\"task1\")"
     ],
     "language": "python",
     "metadata": {},
     "outputs": []
    },
    {
     "cell_type": "code",
     "collapsed": false,
     "input": [
      "mds.View = view\n",
      "mds.DistData(100,100,100)"
     ],
     "language": "python",
     "metadata": {},
     "outputs": []
    },
    {
     "cell_type": "code",
     "collapsed": false,
     "input": [
      "ds = mds.SpawnDS()\n"
     ],
     "language": "python",
     "metadata": {},
     "outputs": []
    },
    {
     "cell_type": "code",
     "collapsed": false,
     "input": [
      "ds"
     ],
     "language": "python",
     "metadata": {},
     "outputs": []
    },
    {
     "cell_type": "code",
     "collapsed": false,
     "input": [
      "ds.GetSize(utils.DSDatatype.TRAIN)"
     ],
     "language": "python",
     "metadata": {},
     "outputs": []
    },
    {
     "cell_type": "markdown",
     "metadata": {},
     "source": [
      "#Testing csmtldataset and load data from python#"
     ]
    },
    {
     "cell_type": "code",
     "collapsed": false,
     "input": [
      "from PyJRNN.types import matDouble"
     ],
     "language": "python",
     "metadata": {},
     "outputs": [],
     "prompt_number": 8
    },
    {
     "cell_type": "code",
     "collapsed": false,
     "input": [
      "cds = utils.CSMTLDataset()"
     ],
     "language": "python",
     "metadata": {},
     "outputs": [],
     "prompt_number": 9
    },
    {
     "cell_type": "code",
     "collapsed": false,
     "input": [
      "inVec = numpy.random.random(5,)\n",
      "outVec = numpy.random.random(2,)"
     ],
     "language": "python",
     "metadata": {},
     "outputs": [],
     "prompt_number": 10
    },
    {
     "cell_type": "code",
     "collapsed": false,
     "input": [
      "inVec"
     ],
     "language": "python",
     "metadata": {},
     "outputs": [
      {
       "output_type": "pyout",
       "prompt_number": 11,
       "text": [
        "array([ 0.68259146,  0.72887542,  0.49041304,  0.09233089,  0.95606223])"
       ]
      }
     ],
     "prompt_number": 11
    },
    {
     "cell_type": "code",
     "collapsed": false,
     "input": [
      "outVec"
     ],
     "language": "python",
     "metadata": {},
     "outputs": [
      {
       "output_type": "pyout",
       "prompt_number": 12,
       "text": [
        "array([ 0.9699852 ,  0.84707884])"
       ]
      }
     ],
     "prompt_number": 12
    },
    {
     "cell_type": "code",
     "collapsed": false,
     "input": [
      "inMatDouble = matDouble()\n",
      "outMatDouble = matDouble()"
     ],
     "language": "python",
     "metadata": {},
     "outputs": [],
     "prompt_number": 13
    },
    {
     "cell_type": "code",
     "collapsed": false,
     "input": [
      "for i in range(10):\n",
      "        invalue = numpy.random.random(5,)\n",
      "        outvalue = numpy.random.random(2,)\n",
      "        inMatDouble.append(invalue)\n",
      "        outMatDouble.append(outvalue)\n"
     ],
     "language": "python",
     "metadata": {},
     "outputs": [],
     "prompt_number": 14
    },
    {
     "cell_type": "code",
     "collapsed": false,
     "input": [
      "inMatDouble"
     ],
     "language": "python",
     "metadata": {},
     "outputs": [
      {
       "output_type": "pyout",
       "prompt_number": 15,
       "text": [
        "<PyJRNN.types.matDouble at 0x4adc660>"
       ]
      }
     ],
     "prompt_number": 15
    },
    {
     "cell_type": "code",
     "collapsed": false,
     "input": [
      "for val in inMatDouble:\n",
      "    print val"
     ],
     "language": "python",
     "metadata": {},
     "outputs": [
      {
       "output_type": "stream",
       "stream": "stdout",
       "text": [
        "[ 0.96101176  0.89321129  0.64195907  0.3313434   0.86244925]\n",
        "[ 0.72378825  0.17615811  0.84949481  0.71754844  0.68138759]\n",
        "[ 0.24699469  0.40664384  0.20696879  0.05727801  0.09471366]\n",
        "[ 0.70385042  0.43260798  0.54895635  0.3559026   0.65800235]\n",
        "[ 0.03488549  0.37929324  0.53624127  0.82294463  0.88929575]\n",
        "[ 0.85581358  0.15438434  0.43690174  0.43020401  0.20677049]\n",
        "[ 0.74173892  0.08563242  0.46995559  0.94254904  0.39300711]\n",
        "[ 0.87044294  0.19773135  0.934881    0.93531705  0.41545564]\n",
        "[ 0.37780877  0.11287622  0.36412534  0.4105788   0.5549523 ]\n",
        "[ 0.87764148  0.21394114  0.85222201  0.05338102  0.43909961]\n"
       ]
      }
     ],
     "prompt_number": 16
    },
    {
     "cell_type": "code",
     "collapsed": false,
     "input": [
      "cds.AddMatDoublesToTask(inMatDouble, outMatDouble, \"Task1\")"
     ],
     "language": "python",
     "metadata": {},
     "outputs": [],
     "prompt_number": 17
    },
    {
     "cell_type": "code",
     "collapsed": false,
     "input": [
      "cds.GetSize(utils.DSDatatype.ALL)"
     ],
     "language": "python",
     "metadata": {},
     "outputs": [
      {
       "output_type": "pyout",
       "prompt_number": 18,
       "text": [
        "10"
       ]
      }
     ],
     "prompt_number": 18
    },
    {
     "cell_type": "code",
     "collapsed": false,
     "input": [
      "view = strings()\n",
      "view.append(\"Task1\")\n",
      "cds.View = view"
     ],
     "language": "python",
     "metadata": {},
     "outputs": [],
     "prompt_number": 19
    },
    {
     "cell_type": "code",
     "collapsed": false,
     "input": [
      "cds.DistData(2,2,2)"
     ],
     "language": "python",
     "metadata": {},
     "outputs": [],
     "prompt_number": 35
    },
    {
     "cell_type": "code",
     "collapsed": false,
     "input": [
      "cds.GetSize(utils.DSDatatype.VAL)"
     ],
     "language": "python",
     "metadata": {},
     "outputs": [
      {
       "output_type": "pyout",
       "prompt_number": 37,
       "text": [
        "2"
       ]
      }
     ],
     "prompt_number": 37
    },
    {
     "cell_type": "code",
     "collapsed": false,
     "input": [
      "cds.AddVecDoublesToTask(inVec, outVec, \"Task1\")"
     ],
     "language": "python",
     "metadata": {},
     "outputs": [],
     "prompt_number": 23
    },
    {
     "cell_type": "code",
     "collapsed": false,
     "input": [
      "cds.GetSize(utils.DSDatatype.ALL)"
     ],
     "language": "python",
     "metadata": {},
     "outputs": [
      {
       "output_type": "pyout",
       "prompt_number": 33,
       "text": [
        "11"
       ]
      }
     ],
     "prompt_number": 33
    },
    {
     "cell_type": "code",
     "collapsed": false,
     "input": [
      "inputs = cds.GetInputs(utils.DSDatatype.TRAIN)"
     ],
     "language": "python",
     "metadata": {},
     "outputs": [],
     "prompt_number": 25
    },
    {
     "cell_type": "code",
     "collapsed": false,
     "input": [
      "len(inMatDouble)"
     ],
     "language": "python",
     "metadata": {},
     "outputs": [
      {
       "output_type": "pyout",
       "prompt_number": 29,
       "text": [
        "10"
       ]
      }
     ],
     "prompt_number": 29
    },
    {
     "cell_type": "code",
     "collapsed": false,
     "input": [
      "inputs"
     ],
     "language": "python",
     "metadata": {},
     "outputs": [
      {
       "output_type": "pyout",
       "prompt_number": 30,
       "text": [
        "<PyJRNN.types.matDouble at 0x4ac5e88>"
       ]
      }
     ],
     "prompt_number": 30
    },
    {
     "cell_type": "code",
     "collapsed": false,
     "input": [
      "inputs = cds.GetInputs(utils.DSDatatype.ALL)"
     ],
     "language": "python",
     "metadata": {},
     "outputs": [],
     "prompt_number": 39
    },
    {
     "cell_type": "code",
     "collapsed": false,
     "input": [
      "len(inputs)"
     ],
     "language": "python",
     "metadata": {},
     "outputs": [
      {
       "output_type": "pyout",
       "prompt_number": 40,
       "text": [
        "10"
       ]
      }
     ],
     "prompt_number": 40
    },
    {
     "cell_type": "code",
     "collapsed": false,
     "input": [
      "for val in inputs:\n",
      "    print val"
     ],
     "language": "python",
     "metadata": {},
     "outputs": [
      {
       "output_type": "stream",
       "stream": "stdout",
       "text": [
        "[ 0.96101176  0.89321129  0.64195907  0.3313434   0.86244925  1.        ]\n",
        "[ 0.72378825  0.17615811  0.84949481  0.71754844  0.68138759  1.        ]\n",
        "[ 0.24699469  0.40664384  0.20696879  0.05727801  0.09471366  1.        ]\n",
        "[ 0.70385042  0.43260798  0.54895635  0.3559026   0.65800235  1.        ]\n",
        "[ 0.03488549  0.37929324  0.53624127  0.82294463  0.88929575  1.        ]\n",
        "[ 0.85581358  0.15438434  0.43690174  0.43020401  0.20677049  1.        ]\n",
        "[ 0.74173892  0.08563242  0.46995559  0.94254904  0.39300711  1.        ]\n",
        "[ 0.87044294  0.19773135  0.934881    0.93531705  0.41545564  1.        ]\n",
        "[ 0.37780877  0.11287622  0.36412534  0.4105788   0.5549523   1.        ]\n",
        "[ 0.87764148  0.21394114  0.85222201  0.05338102  0.43909961  1.        ]\n"
       ]
      }
     ],
     "prompt_number": 41
    },
    {
     "cell_type": "code",
     "collapsed": false,
     "input": [],
     "language": "python",
     "metadata": {},
     "outputs": []
    }
   ],
   "metadata": {}
  }
 ]
}