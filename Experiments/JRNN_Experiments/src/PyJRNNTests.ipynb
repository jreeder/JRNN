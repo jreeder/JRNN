{
 "metadata": {
  "name": "PyJRNNTests"
 },
 "nbformat": 3,
 "nbformat_minor": 0,
 "worksheets": [
  {
   "cells": [
    {
     "cell_type": "markdown",
     "metadata": {},
     "source": [
      "#Setup#"
     ]
    },
    {
     "cell_type": "code",
     "collapsed": false,
     "input": [
      "bookmark PyJRNNTestHome \"C:\\\\Users\\\\John Reeder\\\\Code\\\\JRNN\\\\Builds\\\\VS2010\\\\JRNN\\\\Debug\""
     ],
     "language": "python",
     "metadata": {},
     "outputs": [],
     "prompt_number": 1
    },
    {
     "cell_type": "code",
     "collapsed": false,
     "input": [
      "bookmark PyJRNNTest \"C:\\\\Users\\\\jreeder\\\\Documents\\\\GitHub\\\\JRNN\\\\Builds\\\\VS2010\\\\JRNN\\\\Debug\""
     ],
     "language": "python",
     "metadata": {},
     "outputs": [],
     "prompt_number": 2
    },
    {
     "cell_type": "code",
     "collapsed": false,
     "input": [
      "bookmark PyJRNNTestTitan \"D:\\\\Users\\\\John Reeder\\\\Code\\\\JRNN\\\\Builds\\\\VS2010\\\\JRNN\\\\Debug\""
     ],
     "language": "python",
     "metadata": {},
     "outputs": [],
     "prompt_number": 3
    },
    {
     "cell_type": "code",
     "collapsed": false,
     "input": [
      "cd PyJRNNTestTitan"
     ],
     "language": "python",
     "metadata": {},
     "outputs": [
      {
       "output_type": "stream",
       "stream": "stdout",
       "text": [
        "(bookmark:PyJRNNTestTitan) -> D:\\\\Users\\\\John Reeder\\\\Code\\\\JRNN\\\\Builds\\\\VS2010\\\\JRNN\\\\Debug\n",
        "D:\\Users\\John Reeder\\Code\\JRNN\\Builds\\VS2010\\JRNN\\Debug\n"
       ]
      }
     ],
     "prompt_number": 4
    },
    {
     "cell_type": "code",
     "collapsed": false,
     "input": [
      "from PyJRNN import networks as net"
     ],
     "language": "python",
     "metadata": {},
     "outputs": [],
     "prompt_number": 2
    },
    {
     "cell_type": "code",
     "collapsed": false,
     "input": [
      "import pyublas"
     ],
     "language": "python",
     "metadata": {},
     "outputs": [],
     "prompt_number": 3
    },
    {
     "cell_type": "code",
     "collapsed": false,
     "input": [
      "from config import *\n",
      "import os"
     ],
     "language": "python",
     "metadata": {},
     "outputs": [],
     "prompt_number": 12
    },
    {
     "cell_type": "markdown",
     "metadata": {},
     "source": [
      "#Playing with Networks#"
     ]
    },
    {
     "cell_type": "code",
     "collapsed": false,
     "input": [
      "cc = net.CCNetwork.Create()"
     ],
     "language": "python",
     "metadata": {},
     "outputs": [],
     "prompt_number": 4
    },
    {
     "cell_type": "code",
     "collapsed": false,
     "input": [
      "cc.Build(2,1)"
     ],
     "language": "python",
     "metadata": {},
     "outputs": [],
     "prompt_number": 5
    },
    {
     "cell_type": "code",
     "collapsed": false,
     "input": [
      "a = numpy.array((0.6,0.4))\n",
      "a"
     ],
     "language": "python",
     "metadata": {},
     "outputs": [
      {
       "output_type": "pyout",
       "prompt_number": 6,
       "text": [
        "array([ 0.6,  0.4])"
       ]
      }
     ],
     "prompt_number": 6
    },
    {
     "cell_type": "code",
     "collapsed": false,
     "input": [
      "\n",
      "cc.Activate(a)"
     ],
     "language": "python",
     "metadata": {},
     "outputs": [],
     "prompt_number": 7
    },
    {
     "cell_type": "code",
     "collapsed": false,
     "input": [
      "print cc.GetOutputs()"
     ],
     "language": "python",
     "metadata": {},
     "outputs": [
      {
       "output_type": "stream",
       "stream": "stdout",
       "text": [
        "[ 0.48415215]\n"
       ]
      }
     ],
     "prompt_number": 8
    },
    {
     "cell_type": "markdown",
     "metadata": {},
     "source": [
      "#Playing with Datasets#"
     ]
    },
    {
     "cell_type": "code",
     "collapsed": false,
     "input": [
      "from PyJRNN import utility as utils\n",
      "from PyJRNN.types import strings"
     ],
     "language": "python",
     "metadata": {},
     "outputs": [],
     "prompt_number": 9
    },
    {
     "cell_type": "code",
     "collapsed": false,
     "input": [
      "mds = utils.MTLDataset()"
     ],
     "language": "python",
     "metadata": {},
     "outputs": [],
     "prompt_number": 10
    },
    {
     "cell_type": "code",
     "collapsed": false,
     "input": [
      "mds.AddTaskFromFile(os.path.join(datapath, \"band-task1.txt\"),\"task1\", 2,1) "
     ],
     "language": "python",
     "metadata": {},
     "outputs": [],
     "prompt_number": 13
    },
    {
     "cell_type": "code",
     "collapsed": false,
     "input": [
      "mds.GetSize(utils.DSDatatype.ALL)"
     ],
     "language": "python",
     "metadata": {},
     "outputs": [
      {
       "output_type": "pyout",
       "prompt_number": 14,
       "text": [
        "1000"
       ]
      }
     ],
     "prompt_number": 14
    },
    {
     "cell_type": "code",
     "collapsed": false,
     "input": [
      "view = strings()\n",
      "view.append(\"task1\")"
     ],
     "language": "python",
     "metadata": {},
     "outputs": [],
     "prompt_number": 15
    },
    {
     "cell_type": "code",
     "collapsed": false,
     "input": [
      "mds.View = view\n",
      "mds.DistData(100,100,100)"
     ],
     "language": "python",
     "metadata": {},
     "outputs": [],
     "prompt_number": 16
    },
    {
     "cell_type": "code",
     "collapsed": false,
     "input": [
      "ds = mds.SpawnDS()\n"
     ],
     "language": "python",
     "metadata": {},
     "outputs": [],
     "prompt_number": 17
    },
    {
     "cell_type": "code",
     "collapsed": false,
     "input": [
      "ds"
     ],
     "language": "python",
     "metadata": {},
     "outputs": [
      {
       "output_type": "pyout",
       "prompt_number": 18,
       "text": [
        "<PyJRNN.utility.MTLDataset at 0x77b6370>"
       ]
      }
     ],
     "prompt_number": 18
    },
    {
     "cell_type": "code",
     "collapsed": false,
     "input": [
      "ds.GetSize(utils.DSDatatype.TRAIN)"
     ],
     "language": "python",
     "metadata": {},
     "outputs": [
      {
       "output_type": "pyout",
       "prompt_number": 19,
       "text": [
        "100"
       ]
      }
     ],
     "prompt_number": 19
    },
    {
     "cell_type": "markdown",
     "metadata": {},
     "source": [
      "#Testing csmtldataset and load data from python#"
     ]
    },
    {
     "cell_type": "code",
     "collapsed": false,
     "input": [
      "from PyJRNN.types import matDouble"
     ],
     "language": "python",
     "metadata": {},
     "outputs": [],
     "prompt_number": 20
    },
    {
     "cell_type": "code",
     "collapsed": false,
     "input": [
      "cds = utils.CSMTLDataset()"
     ],
     "language": "python",
     "metadata": {},
     "outputs": [],
     "prompt_number": 21
    },
    {
     "cell_type": "code",
     "collapsed": false,
     "input": [
      "inVec = numpy.random.random(5,)\n",
      "outVec = numpy.random.random(2,)"
     ],
     "language": "python",
     "metadata": {},
     "outputs": [],
     "prompt_number": 22
    },
    {
     "cell_type": "code",
     "collapsed": false,
     "input": [
      "inVec"
     ],
     "language": "python",
     "metadata": {},
     "outputs": [
      {
       "output_type": "pyout",
       "prompt_number": 23,
       "text": [
        "array([ 0.21580805,  0.98674351,  0.2015946 ,  0.84456991,  0.65664449])"
       ]
      }
     ],
     "prompt_number": 23
    },
    {
     "cell_type": "code",
     "collapsed": false,
     "input": [
      "outVec"
     ],
     "language": "python",
     "metadata": {},
     "outputs": [
      {
       "output_type": "pyout",
       "prompt_number": 24,
       "text": [
        "array([ 0.2329338 ,  0.93986801])"
       ]
      }
     ],
     "prompt_number": 24
    },
    {
     "cell_type": "code",
     "collapsed": false,
     "input": [
      "inMatDouble = matDouble()\n",
      "outMatDouble = matDouble()"
     ],
     "language": "python",
     "metadata": {},
     "outputs": [],
     "prompt_number": 25
    },
    {
     "cell_type": "code",
     "collapsed": false,
     "input": [
      "for i in range(10):\n",
      "        invalue = numpy.random.random(5,)\n",
      "        outvalue = numpy.random.random(2,)\n",
      "        inMatDouble.append(invalue)\n",
      "        outMatDouble.append(outvalue)\n"
     ],
     "language": "python",
     "metadata": {},
     "outputs": [],
     "prompt_number": 26
    },
    {
     "cell_type": "code",
     "collapsed": false,
     "input": [
      "inMatDouble"
     ],
     "language": "python",
     "metadata": {},
     "outputs": [
      {
       "output_type": "pyout",
       "prompt_number": 27,
       "text": [
        "<PyJRNN.types.matDouble at 0x77c24b0>"
       ]
      }
     ],
     "prompt_number": 27
    },
    {
     "cell_type": "code",
     "collapsed": false,
     "input": [
      "for val in inMatDouble:\n",
      "    print val"
     ],
     "language": "python",
     "metadata": {},
     "outputs": [
      {
       "output_type": "stream",
       "stream": "stdout",
       "text": [
        "[ 0.47053334  0.15623737  0.08320912  0.46174173  0.23891651]\n",
        "[ 0.45917032  0.87170356  0.12291471  0.31545984  0.54121421]\n",
        "[ 0.82168551  0.76505773  0.17618105  0.55490518  0.9462627 ]\n",
        "[ 0.17208318  0.56173703  0.88373417  0.01728649  0.64912008]\n",
        "[ 0.61618641  0.3687268   0.4711876   0.83410058  0.20305538]\n",
        "[ 0.31018932  0.53048228  0.9530442   0.71501142  0.33712818]\n",
        "[ 0.67919481  0.22011149  0.27946401  0.45220724  0.2376707 ]\n",
        "[ 0.03710912  0.33317986  0.12681499  0.7514945   0.35163064]\n",
        "[  1.55131694e-01   1.43032159e-01   1.06245218e-01   7.87743300e-04\n",
        "   8.77496124e-01]\n",
        "[ 0.52251792  0.80399429  0.2461455   0.50265849  0.26234457]\n"
       ]
      }
     ],
     "prompt_number": 28
    },
    {
     "cell_type": "code",
     "collapsed": false,
     "input": [
      "cds.AddMatDoublesToTask(inMatDouble, outMatDouble, \"Task1\")"
     ],
     "language": "python",
     "metadata": {},
     "outputs": [],
     "prompt_number": 29
    },
    {
     "cell_type": "code",
     "collapsed": false,
     "input": [
      "cds.GetSize(utils.DSDatatype.ALL)"
     ],
     "language": "python",
     "metadata": {},
     "outputs": [
      {
       "output_type": "pyout",
       "prompt_number": 30,
       "text": [
        "10"
       ]
      }
     ],
     "prompt_number": 30
    },
    {
     "cell_type": "code",
     "collapsed": false,
     "input": [
      "view = strings()\n",
      "view.append(\"Task1\")\n",
      "cds.View = view"
     ],
     "language": "python",
     "metadata": {},
     "outputs": [],
     "prompt_number": 31
    },
    {
     "cell_type": "code",
     "collapsed": false,
     "input": [
      "cds.DistData(2,2,2)"
     ],
     "language": "python",
     "metadata": {},
     "outputs": [],
     "prompt_number": 32
    },
    {
     "cell_type": "code",
     "collapsed": false,
     "input": [
      "cds.GetSize(utils.DSDatatype.VAL)"
     ],
     "language": "python",
     "metadata": {},
     "outputs": [
      {
       "output_type": "pyout",
       "prompt_number": 33,
       "text": [
        "2"
       ]
      }
     ],
     "prompt_number": 33
    },
    {
     "cell_type": "code",
     "collapsed": false,
     "input": [
      "cds.AddVecDoublesToTask(inVec, outVec, \"Task1\")"
     ],
     "language": "python",
     "metadata": {},
     "outputs": [],
     "prompt_number": 34
    },
    {
     "cell_type": "code",
     "collapsed": false,
     "input": [
      "cds.GetSize(utils.DSDatatype.ALL)"
     ],
     "language": "python",
     "metadata": {},
     "outputs": [
      {
       "output_type": "pyout",
       "prompt_number": 35,
       "text": [
        "11"
       ]
      }
     ],
     "prompt_number": 35
    },
    {
     "cell_type": "code",
     "collapsed": false,
     "input": [
      "inputs = cds.GetInputs(utils.DSDatatype.TRAIN)"
     ],
     "language": "python",
     "metadata": {},
     "outputs": [],
     "prompt_number": 36
    },
    {
     "cell_type": "code",
     "collapsed": false,
     "input": [
      "len(inMatDouble)"
     ],
     "language": "python",
     "metadata": {},
     "outputs": [
      {
       "output_type": "pyout",
       "prompt_number": 37,
       "text": [
        "10"
       ]
      }
     ],
     "prompt_number": 37
    },
    {
     "cell_type": "code",
     "collapsed": false,
     "input": [
      "inputs"
     ],
     "language": "python",
     "metadata": {},
     "outputs": [
      {
       "output_type": "pyout",
       "prompt_number": 38,
       "text": [
        "<PyJRNN.types.matDouble at 0x77bac48>"
       ]
      }
     ],
     "prompt_number": 38
    },
    {
     "cell_type": "code",
     "collapsed": false,
     "input": [
      "inputs = cds.GetInputs(utils.DSDatatype.ALL)"
     ],
     "language": "python",
     "metadata": {},
     "outputs": [],
     "prompt_number": 39
    },
    {
     "cell_type": "code",
     "collapsed": false,
     "input": [
      "len(inputs)"
     ],
     "language": "python",
     "metadata": {},
     "outputs": [
      {
       "output_type": "pyout",
       "prompt_number": 40,
       "text": [
        "10"
       ]
      }
     ],
     "prompt_number": 40
    },
    {
     "cell_type": "code",
     "collapsed": false,
     "input": [
      "for val in inputs:\n",
      "    print val"
     ],
     "language": "python",
     "metadata": {},
     "outputs": [
      {
       "output_type": "stream",
       "stream": "stdout",
       "text": [
        "[ 0.47053334  0.15623737  0.08320912  0.46174173  0.23891651  1.        ]\n",
        "[ 0.45917032  0.87170356  0.12291471  0.31545984  0.54121421  1.        ]\n",
        "[ 0.82168551  0.76505773  0.17618105  0.55490518  0.9462627   1.        ]\n",
        "[ 0.17208318  0.56173703  0.88373417  0.01728649  0.64912008  1.        ]\n",
        "[ 0.61618641  0.3687268   0.4711876   0.83410058  0.20305538  1.        ]\n",
        "[ 0.31018932  0.53048228  0.9530442   0.71501142  0.33712818  1.        ]\n",
        "[ 0.67919481  0.22011149  0.27946401  0.45220724  0.2376707   1.        ]\n",
        "[ 0.03710912  0.33317986  0.12681499  0.7514945   0.35163064  1.        ]\n",
        "[  1.55131694e-01   1.43032159e-01   1.06245218e-01   7.87743300e-04\n",
        "   8.77496124e-01   1.00000000e+00]\n",
        "[ 0.52251792  0.80399429  0.2461455   0.50265849  0.26234457  1.        ]\n"
       ]
      }
     ],
     "prompt_number": 41
    },
    {
     "cell_type": "code",
     "collapsed": false,
     "input": [],
     "language": "python",
     "metadata": {},
     "outputs": []
    }
   ],
   "metadata": {}
  }
 ]
}