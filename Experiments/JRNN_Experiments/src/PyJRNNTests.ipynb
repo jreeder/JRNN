{
 "metadata": {
  "name": "PyJRNNTests"
 },
 "nbformat": 3,
 "nbformat_minor": 0,
 "worksheets": [
  {
   "cells": [
    {
     "cell_type": "code",
     "collapsed": false,
     "input": [
      "bookmark PyJRNNTestHome \"C:\\\\Users\\\\jreeder\\\\Documents\\\\GitHub\\\\JRNN\\\\Builds\\\\VS2010\\\\JRNN\\\\Debug\""
     ],
     "language": "python",
     "metadata": {},
     "outputs": []
    },
    {
     "cell_type": "code",
     "collapsed": false,
     "input": [
      "bookmark PyJRNNTest \"C:\\\\Users\\\\jreeder\\\\Documents\\\\GitHub\\\\JRNN\\\\Builds\\\\VS2010\\\\JRNN\\\\Debug\""
     ],
     "language": "python",
     "metadata": {},
     "outputs": [],
     "prompt_number": 1
    },
    {
     "cell_type": "code",
     "collapsed": false,
     "input": [
      "cd PyJRNNTest"
     ],
     "language": "python",
     "metadata": {},
     "outputs": [
      {
       "output_type": "stream",
       "stream": "stdout",
       "text": [
        "(bookmark:PyJRNNTest) -> C:\\\\Users\\\\jreeder\\\\Documents\\\\GitHub\\\\JRNN\\\\Builds\\\\VS2010\\\\JRNN\\\\Debug\n",
        "C:\\Users\\jreeder\\Documents\\GitHub\\JRNN\\Builds\\VS2010\\JRNN\\Debug\n"
       ]
      }
     ],
     "prompt_number": 2
    },
    {
     "cell_type": "code",
     "collapsed": false,
     "input": [
      "from PyJRNN import networks as net\n",
      "import pyublas"
     ],
     "language": "python",
     "metadata": {},
     "outputs": [],
     "prompt_number": 3
    },
    {
     "cell_type": "code",
     "collapsed": false,
     "input": [
      "cc = net.CCNetwork.Create()"
     ],
     "language": "python",
     "metadata": {},
     "outputs": [],
     "prompt_number": 4
    },
    {
     "cell_type": "code",
     "collapsed": false,
     "input": [
      "cc.Build(2,1)"
     ],
     "language": "python",
     "metadata": {},
     "outputs": [],
     "prompt_number": 5
    },
    {
     "cell_type": "code",
     "collapsed": false,
     "input": [
      "a = numpy.array((0.6,0.4))\n",
      "cc.Activate(a)"
     ],
     "language": "python",
     "metadata": {},
     "outputs": [],
     "prompt_number": 8
    },
    {
     "cell_type": "code",
     "collapsed": false,
     "input": [
      "print cc.GetOutputs()"
     ],
     "language": "python",
     "metadata": {},
     "outputs": [
      {
       "output_type": "stream",
       "stream": "stdout",
       "text": [
        "[ 0.50843657]\n"
       ]
      }
     ],
     "prompt_number": 9
    },
    {
     "cell_type": "code",
     "collapsed": false,
     "input": [],
     "language": "python",
     "metadata": {},
     "outputs": []
    }
   ],
   "metadata": {}
  }
 ]
}