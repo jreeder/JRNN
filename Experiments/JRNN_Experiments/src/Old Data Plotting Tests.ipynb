{
 "metadata": {
  "name": "Old Data Plotting Tests"
 },
 "nbformat": 3,
 "worksheets": [
  {
   "cells": [
    {
     "cell_type": "code",
     "collapsed": true,
     "input": [
      "filepaths = r\"D:\\Users\\John Reeder\\Code\\JRNN\\Experiments\\Results\\csvresults\\EXP 2-1 Round 17\\combined\""
     ],
     "language": "python",
     "outputs": [],
     "prompt_number": 1
    },
    {
     "cell_type": "code",
     "collapsed": true,
     "input": [
      "import os"
     ],
     "language": "python",
     "outputs": [],
     "prompt_number": 2
    },
    {
     "cell_type": "code",
     "collapsed": true,
     "input": [
      "filelist = os.listdir(filepaths)"
     ],
     "language": "python",
     "outputs": [],
     "prompt_number": 3
    },
    {
     "cell_type": "code",
     "collapsed": false,
     "input": [
      "print filelist"
     ],
     "language": "python",
     "outputs": [
      {
       "output_type": "stream",
       "stream": "stdout",
       "text": [
        "[]"
       ]
      }
     ],
     "prompt_number": 4
    },
    {
     "cell_type": "code",
     "collapsed": false,
     "input": [
      "test = os.path.splitext(filelist[0])[0]",
      "print test",
      "test2 = test.split(\"-\")[0].strip()",
      "print test2"
     ],
     "language": "python",
     "outputs": [
      {
       "output_type": "stream",
       "stream": "stdout",
       "text": [
        "CCMTL - Error",
        "CCMTL"
       ]
      }
     ],
     "prompt_number": 11
    },
    {
     "cell_type": "code",
     "collapsed": false,
     "input": [
      "testfile.close()"
     ],
     "language": "python",
     "outputs": [],
     "prompt_number": 16
    },
    {
     "cell_type": "code",
     "collapsed": true,
     "input": [
      "from combinecsvs import *",
      "",
      "combine(\"NormSize \", \"Error\")"
     ],
     "language": "python",
     "outputs": [],
     "prompt_number": 9
    },
    {
     "cell_type": "code",
     "collapsed": false,
     "input": [
      "errordata = {}",
      "for filename in filelist:",
      "    basename = os.path.splitext(filename)[0]",
      "    testname = basename.split(\"-\")[0].strip()",
      "    with (infile = open(os.path.join(filepaths, filename), 'r'))"
     ],
     "language": "python",
     "outputs": [
      {
       "ename": "IndentationError",
       "evalue": "expected an indented block (<ipython-input-5-500409e6295f>, line 2)",
       "output_type": "pyerr",
       "traceback": [
        "\u001b[1;31mIndentationError\u001b[0m\u001b[1;31m:\u001b[0m expected an indented block\n"
       ]
      }
     ],
     "prompt_number": 5
    }
   ]
  }
 ]
}