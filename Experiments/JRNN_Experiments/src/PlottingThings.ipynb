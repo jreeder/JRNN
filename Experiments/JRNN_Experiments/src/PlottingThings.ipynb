{
 "metadata": {
  "name": "PlottingThings"
 },
 "nbformat": 3,
 "nbformat_minor": 0,
 "worksheets": [
  {
   "cells": [
    {
     "cell_type": "code",
     "collapsed": true,
     "input": [
      "import ParseReverbFiles as pe\n",
      "import PlotReverbFiles as pr"
     ],
     "language": "python",
     "metadata": {},
     "outputs": []
    },
    {
     "cell_type": "code",
     "collapsed": true,
     "input": [
      "import config"
     ],
     "language": "python",
     "metadata": {},
     "outputs": []
    },
    {
     "cell_type": "code",
     "collapsed": true,
     "input": [
      "import os"
     ],
     "language": "python",
     "metadata": {},
     "outputs": []
    },
    {
     "cell_type": "code",
     "collapsed": true,
     "input": [
      "reverbpath = os.path.join(config.outpath3,'Round 18', 'band/REVERBTest')"
     ],
     "language": "python",
     "metadata": {},
     "outputs": []
    },
    {
     "cell_type": "code",
     "collapsed": false,
     "input": [
      "filelist = os.listdir(reverbpath)"
     ],
     "language": "python",
     "metadata": {},
     "outputs": []
    },
    {
     "cell_type": "code",
     "collapsed": false,
     "input": [
      "novallist = [x for x in filelist if 'noval' in x]"
     ],
     "language": "python",
     "metadata": {},
     "outputs": []
    },
    {
     "cell_type": "code",
     "collapsed": false,
     "input": [
      "vallist = [x for x in filelist if 'noval' not in x]"
     ],
     "language": "python",
     "metadata": {},
     "outputs": []
    },
    {
     "cell_type": "code",
     "collapsed": false,
     "input": [
      "valarrs = {}\n",
      "for filename in vallist:\n",
      "    filepath = os.path.join(reverbpath, filename)\n",
      "    valarrs[filename]=pr.MakeGraph(\"bleh\",filepath)"
     ],
     "language": "python",
     "metadata": {},
     "outputs": []
    },
    {
     "cell_type": "code",
     "collapsed": false,
     "input": [
      "novalarrs = {}\n",
      "for filename in novallist:\n",
      "    filepath = os.path.join(reverbpath, filename)\n",
      "    novalarrs[filename] = pr.MakeGraph(\"bleh\", filepath)"
     ],
     "language": "python",
     "metadata": {},
     "outputs": []
    },
    {
     "cell_type": "code",
     "collapsed": false,
     "input": [
      "import re\n",
      "\n",
      "revNum = re.compile('reverb(\\d+)')"
     ],
     "language": "python",
     "metadata": {},
     "outputs": []
    },
    {
     "cell_type": "code",
     "collapsed": false,
     "input": [
      "tmpKeys = novalarrs.keys()\n",
      "tmpKeys.sort(key=lambda x: 0 if not revNum.match(x) else int(revNum.match(x).group(1)))\n",
      "print tmpKeys"
     ],
     "language": "python",
     "metadata": {},
     "outputs": []
    },
    {
     "cell_type": "code",
     "collapsed": false,
     "input": [
      "%pylab"
     ],
     "language": "python",
     "metadata": {},
     "outputs": []
    },
    {
     "cell_type": "code",
     "collapsed": false,
     "input": [
      "plt.rcParams.update({'font.size': 14})"
     ],
     "language": "python",
     "metadata": {},
     "outputs": []
    },
    {
     "cell_type": "code",
     "collapsed": false,
     "input": [
      "from itertools import cycle"
     ],
     "language": "python",
     "metadata": {},
     "outputs": []
    },
    {
     "cell_type": "code",
     "collapsed": false,
     "input": [
      "fig = figure()\n",
      "fig.set_size_inches(11, 8.5)\n",
      "count = 0\n",
      "ax = fig.add_subplot(111)\n",
      "ax.set_color_cycle([cm.gray(i) for i in np.linspace(0,0.5,5)])\n",
      "dashes = [[5,5], [5,3,1,3], [1,3], [5,2,5,2,5,10], [5,3,1,2,1,10], (None, None)]\n",
      "dashcycler = cycle(dashes)"
     ],
     "language": "python",
     "metadata": {},
     "outputs": []
    },
    {
     "cell_type": "code",
     "collapsed": false,
     "input": [
      "plot(valarrs['noreverbvalrecall.txt'], label=\"No Reverb\", dashes=next(dashcycler), linewidth=2)\n",
      "plot(valarrs['reverb0valrecall.txt'], label=\"1 Reverb\", dashes=next(dashcycler), linewidth=2)\n",
      "plot(valarrs['reverb2valrecall.txt'], label=\"2 Reverbs\", dashes=next(dashcycler), linewidth=2)\n",
      "plot(valarrs['reverb4valrecall.txt'], label=\"4 Reverbs\", dashes=next(dashcycler), linewidth=2)\n",
      "plot(valarrs['reverb6valrecall.txt'], label=\"6 Reverbs\", dashes=next(dashcycler), linewidth=2)     "
     ],
     "language": "python",
     "metadata": {},
     "outputs": []
    },
    {
     "cell_type": "code",
     "collapsed": false,
     "input": [
      "legend()"
     ],
     "language": "python",
     "metadata": {},
     "outputs": []
    },
    {
     "cell_type": "code",
     "collapsed": false,
     "input": [
      "xlabel(\"Epochs\")\n",
      "ylabel(\"Error Rate\")"
     ],
     "language": "python",
     "metadata": {},
     "outputs": []
    },
    {
     "cell_type": "code",
     "collapsed": false,
     "input": [
      "xlim([0,250])"
     ],
     "language": "python",
     "metadata": {},
     "outputs": []
    },
    {
     "cell_type": "code",
     "collapsed": false,
     "input": [
      "fig.savefig('Notebook Data/figures/BandRevCCRecall.pdf', dpi=300)"
     ],
     "language": "python",
     "metadata": {},
     "outputs": []
    },
    {
     "cell_type": "code",
     "collapsed": false,
     "input": [
      "tmpKeys2 = valarrs.keys()\n",
      "tmpKeys2.sort(key=lambda x: 0 if not revNum.match(x) else int(revNum.match(x).group(1)))\n",
      "print tmpKeys2"
     ],
     "language": "python",
     "metadata": {},
     "outputs": []
    },
    {
     "cell_type": "code",
     "collapsed": false,
     "input": [
      "figure()\n",
      "plot(novalarrs['noreverbnovalrecall.txt'], label=\"No Reverb\")\n",
      "plot(novalarrs['reverb0novalrecall.txt'], label=\"1 Reverb\")\n",
      "plot(novalarrs['reverb2novalrecall.txt'], label=\"2 Reverbs\")\n",
      "plot(novalarrs['reverb4novalrecall.txt'], label=\"4 Reverbs\")\n",
      "plot(novalarrs['reverb6novalrecall.txt'], label=\"6 Reverbs\")     "
     ],
     "language": "python",
     "metadata": {},
     "outputs": []
    },
    {
     "cell_type": "code",
     "collapsed": false,
     "input": [
      "legend()"
     ],
     "language": "python",
     "metadata": {},
     "outputs": []
    },
    {
     "cell_type": "code",
     "collapsed": false,
     "input": [
      "xlabel(\"Epochs\")\n",
      "ylabel(\"Error Rate\")"
     ],
     "language": "python",
     "metadata": {},
     "outputs": []
    },
    {
     "cell_type": "code",
     "collapsed": true,
     "input": [],
     "language": "python",
     "metadata": {},
     "outputs": []
    }
   ],
   "metadata": {}
  }
 ]
}