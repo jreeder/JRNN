{
 "metadata": {
  "name": "PlottingThings"
 },
 "nbformat": 3,
 "nbformat_minor": 0,
 "worksheets": [
  {
   "cells": [
    {
     "cell_type": "code",
     "collapsed": true,
     "input": [
      "import ParseReverbFiles as pe\n",
      "import PlotReverbFiles as pr"
     ],
     "language": "python",
     "metadata": {},
     "outputs": []
    },
    {
     "cell_type": "code",
     "collapsed": true,
     "input": [
      "import config"
     ],
     "language": "python",
     "metadata": {},
     "outputs": []
    },
    {
     "cell_type": "code",
     "collapsed": true,
     "input": [
      "import os"
     ],
     "language": "python",
     "metadata": {},
     "outputs": []
    },
    {
     "cell_type": "code",
     "collapsed": true,
     "input": [
      "#reverbpath = os.path.join(config.outpath3, 'Round 18', 'band/REVERBTest')\n",
      "#reverbpath = os.path.join(config.outpath3, 'Round 20', 'linear/REVERBTest')\n",
      "reverbpath = os.path.join(config.outpath3, 'Round 20', 'CirInSq/REVERBTest')"
     ],
     "language": "python",
     "metadata": {},
     "outputs": []
    },
    {
     "cell_type": "code",
     "collapsed": false,
     "input": [
      "filelist = os.listdir(reverbpath)"
     ],
     "language": "python",
     "metadata": {},
     "outputs": []
    },
    {
     "cell_type": "code",
     "collapsed": false,
     "input": [
      "novallist = [x for x in filelist if 'noval' in x]"
     ],
     "language": "python",
     "metadata": {},
     "outputs": []
    },
    {
     "cell_type": "code",
     "collapsed": false,
     "input": [
      "vallist = [x for x in filelist if 'noval' not in x]"
     ],
     "language": "python",
     "metadata": {},
     "outputs": []
    },
    {
     "cell_type": "code",
     "collapsed": false,
     "input": [
      "valarrs = {}\n",
      "for filename in vallist:\n",
      "    filepath = os.path.join(reverbpath, filename)\n",
      "    valarrs[filename]=pr.MakeGraph(\"bleh\",filepath)"
     ],
     "language": "python",
     "metadata": {},
     "outputs": []
    },
    {
     "cell_type": "code",
     "collapsed": false,
     "input": [
      "novalarrs = {}\n",
      "for filename in novallist:\n",
      "    filepath = os.path.join(reverbpath, filename)\n",
      "    novalarrs[filename] = pr.MakeGraph(\"bleh\", filepath)"
     ],
     "language": "python",
     "metadata": {},
     "outputs": []
    },
    {
     "cell_type": "code",
     "collapsed": false,
     "input": [
      "import re\n",
      "\n",
      "revNum = re.compile('reverb(\\d+)')"
     ],
     "language": "python",
     "metadata": {},
     "outputs": []
    },
    {
     "cell_type": "code",
     "collapsed": false,
     "input": [
      "tmpKeys = novalarrs.keys()\n",
      "tmpKeys.sort(key=lambda x: 0 if not revNum.match(x) else int(revNum.match(x).group(1)))\n",
      "print tmpKeys"
     ],
     "language": "python",
     "metadata": {},
     "outputs": []
    },
    {
     "cell_type": "code",
     "collapsed": false,
     "input": [
      "%pylab"
     ],
     "language": "python",
     "metadata": {},
     "outputs": []
    },
    {
     "cell_type": "code",
     "collapsed": false,
     "input": [
      "plt.rcParams.update({'font.size': 14})"
     ],
     "language": "python",
     "metadata": {},
     "outputs": []
    },
    {
     "cell_type": "code",
     "collapsed": false,
     "input": [
      "from itertools import cycle"
     ],
     "language": "python",
     "metadata": {},
     "outputs": []
    },
    {
     "cell_type": "code",
     "collapsed": false,
     "input": [
      "fig = figure()\n",
      "#fig.set_size_inches(11, 8.5)\n",
      "count = 0\n",
      "ax = fig.add_subplot(111)\n",
      "ax.set_color_cycle([cm.gray(i) for i in np.linspace(0,0.5,5)])\n",
      "dashes = [[5,5], [5,3,1,3], [1,3], [5,2,5,2,5,10], [5,3,1,2,1,10], (None, None)]\n",
      "dashcycler = cycle(dashes)"
     ],
     "language": "python",
     "metadata": {},
     "outputs": []
    },
    {
     "cell_type": "code",
     "collapsed": false,
     "input": [
      "plot(valarrs['noreverbvalrecall.txt'], label=\"No Reverb\", dashes=next(dashcycler), linewidth=2)\n",
      "plot(valarrs['reverb0valrecall.txt'], label=\"1 Reverb\", dashes=next(dashcycler), linewidth=2)\n",
      "plot(valarrs['reverb2valrecall.txt'], label=\"2 Reverbs\", dashes=next(dashcycler), linewidth=2)\n",
      "plot(valarrs['reverb4valrecall.txt'], label=\"4 Reverbs\", dashes=next(dashcycler), linewidth=2)\n",
      "plot(valarrs['reverb6valrecall.txt'], label=\"6 Reverbs\", dashes=next(dashcycler), linewidth=2)     "
     ],
     "language": "python",
     "metadata": {},
     "outputs": []
    },
    {
     "cell_type": "code",
     "collapsed": false,
     "input": [
      "#legend()"
     ],
     "language": "python",
     "metadata": {},
     "outputs": []
    },
    {
     "cell_type": "code",
     "collapsed": false,
     "input": [
      "xlabel(\"Task 2 Epochs\")\n",
      "ylabel(\"% Error\")"
     ],
     "language": "python",
     "metadata": {},
     "outputs": []
    },
    {
     "cell_type": "code",
     "collapsed": false,
     "input": [
      "xlim([0,250])"
     ],
     "language": "python",
     "metadata": {},
     "outputs": []
    },
    {
     "cell_type": "code",
     "collapsed": false,
     "input": [
      "box = ax.get_position()\n",
      "ax.set_position([box.x0, box.y0 + box.height * 0.15, box.width, box.height * 0.85])\n",
      "ax.legend(loc='upper center', bbox_to_anchor = (0.5, -0.09), fancybox=True, shadow=True, ncol=3)\n",
      "fig.canvas.draw()"
     ],
     "language": "python",
     "metadata": {},
     "outputs": []
    },
    {
     "cell_type": "code",
     "collapsed": false,
     "input": [
      "def AnnotatedLegend(ax, lb, ub, epoch=-1):\n",
      "    lines = ax.lines\n",
      "    box = ax.get_position()\n",
      "    ax.set_position([box.x0, box.y0, box.width * 0.9, box.height])\n",
      "    annposs = []\n",
      "    for line in lines:\n",
      "        data = line.get_data()\n",
      "        label = line.get_label()\n",
      "        endpoint = epoch if len(data[1]) > epoch else len(data[1]) - 1\n",
      "        avgy = np.mean(data[1][endpoint-10:endpoint])\n",
      "        percy = (avgy - lb) / (1.0 * (ub - lb))\n",
      "        annposs.append(avgy)\n",
      "        ax.annotate(label, xy=(1.00, percy), xycoords='axes fraction', xytext=(1.03, percy), textcoords='axes fraction',\n",
      "                    arrowprops=dict(arrowstyle=\"-\", relpos=(0.0, 0.5)), verticalalignment='center')\n",
      "    \n",
      "    return annposs"
     ],
     "language": "python",
     "metadata": {},
     "outputs": []
    },
    {
     "cell_type": "code",
     "collapsed": false,
     "input": [
      "def adjust_boxes(initpos, widths, lb, ub, max_iter=1000, adjust_factor=0.35, factor_decrement=2.0, fd_p=0.75):\n",
      "    niter = 0\n",
      "    changed=True\n",
      "    npos = len(initpos)\n",
      "    \n",
      "    adjpos = [[x,y] for x,y in enumerate(initpos)]\n",
      "    adjpos.sort(key=lambda x: x[1])\n",
      "    while changed:\n",
      "        changed = False\n",
      "        for i in range(npos):\n",
      "            if i > 0:\n",
      "                diff1 = adjpos[i][1] - adjpos[i-1][1]\n",
      "                separation1 = (widths[i] + widths[i-1]) / 1.8\n",
      "            else:\n",
      "                diff1 = adjpos[i][1] - lb + widths[i] * 1.01\n",
      "                separation1 = widths[i]\n",
      "            \n",
      "            if i < npos - 2:\n",
      "                diff2 = adjpos[i+1][1] - adjpos[i][1]\n",
      "                separation2 = (widths[i] + widths[i+1]) / 1.8\n",
      "            else:\n",
      "                diff2 = ub + widths[i] * 1.01 - adjpos[i][1]\n",
      "                separation2 = widths[i]\n",
      "            \n",
      "            if diff1 < separation1 or diff2 < separation2:\n",
      "                if adjpos[i][1] == lb: diff1 = 0\n",
      "                if adjpos[i][1] == ub: diff2 = 0\n",
      "                if diff2 > diff1:\n",
      "                    adjpos[i][1] = adjpos[i][1] + separation2 * adjust_factor\n",
      "                    adjpos[i][1] = adjpos[i][1] if adjpos[i][1] < ub else ub\n",
      "                else:\n",
      "                    adjpos[i][1] = adjpos[i][1] - separation1 * adjust_factor\n",
      "                    adjpos[i][1] = adjpos[i][1] if adjpos[i][1] > lb else lb\n",
      "                changed = True\n",
      "            niter += 1\n",
      "        if niter == max_iter * fd_p:\n",
      "            adjust_factor /= factor_decrement\n",
      "        if niter >= max_iter:\n",
      "            break\n",
      "    \n",
      "    adjpos.sort(key=lambda x: x[0])\n",
      "    \n",
      "    return [(x[1] - lb) / (1.0 * (ub - lb)) for x in adjpos], changed, niter"
     ],
     "language": "python",
     "metadata": {},
     "outputs": []
    },
    {
     "cell_type": "code",
     "collapsed": false,
     "input": [
      "annposs = AnnotatedLegend(ax, 0.00, 0.45, 250)\n",
      "fig.canvas.draw()"
     ],
     "language": "python",
     "metadata": {},
     "outputs": []
    },
    {
     "cell_type": "code",
     "collapsed": false,
     "input": [
      "widths = []\n",
      "ax_inv_trans = ax.transData.inverted()\n",
      "for box in ax.texts:\n",
      "    b_ext = box.get_window_extent()\n",
      "    widths.append(b_ext.transformed(ax_inv_trans).height)\n",
      "adjpos, changed, niter = adjust_boxes(annposs, widths, 0.00, 0.45)\n",
      "for i in range(len(adjpos)):\n",
      "    box = ax.texts[i]\n",
      "    box.xytext = (box.xytext[0], adjpos[i])\n",
      "\n",
      "fig.canvas.draw()"
     ],
     "language": "python",
     "metadata": {},
     "outputs": []
    },
    {
     "cell_type": "code",
     "collapsed": false,
     "input": [
      "filename = 'Notebook Data/figures/CirInSqRevCCRecall'\n",
      "fig.savefig(filename + '.pdf', dpi=300)\n",
      "fig.savefig(filename + '.eps', dpi=300)"
     ],
     "language": "python",
     "metadata": {},
     "outputs": []
    },
    {
     "cell_type": "code",
     "collapsed": false,
     "input": [
      "tmpKeys2 = valarrs.keys()\n",
      "tmpKeys2.sort(key=lambda x: 0 if not revNum.match(x) else int(revNum.match(x).group(1)))\n",
      "print tmpKeys2"
     ],
     "language": "python",
     "metadata": {},
     "outputs": []
    },
    {
     "cell_type": "code",
     "collapsed": false,
     "input": [
      "figure()\n",
      "plot(novalarrs['noreverbnovalrecall.txt'], label=\"No Reverb\")\n",
      "plot(novalarrs['reverb0novalrecall.txt'], label=\"1 Reverb\")\n",
      "plot(novalarrs['reverb2novalrecall.txt'], label=\"2 Reverbs\")\n",
      "plot(novalarrs['reverb4novalrecall.txt'], label=\"4 Reverbs\")\n",
      "plot(novalarrs['reverb6novalrecall.txt'], label=\"6 Reverbs\")     "
     ],
     "language": "python",
     "metadata": {},
     "outputs": []
    },
    {
     "cell_type": "code",
     "collapsed": false,
     "input": [
      "legend()"
     ],
     "language": "python",
     "metadata": {},
     "outputs": []
    },
    {
     "cell_type": "code",
     "collapsed": false,
     "input": [
      "xlabel(\"Epochs\")\n",
      "ylabel(\"Error Rate\")"
     ],
     "language": "python",
     "metadata": {},
     "outputs": []
    },
    {
     "cell_type": "code",
     "collapsed": true,
     "input": [],
     "language": "python",
     "metadata": {},
     "outputs": []
    }
   ],
   "metadata": {}
  }
 ]
}