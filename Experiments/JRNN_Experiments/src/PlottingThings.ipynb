{
 "metadata": {
  "name": "PlottingThings"
 },
 "nbformat": 3,
 "nbformat_minor": 0,
 "worksheets": [
  {
   "cells": [
    {
     "cell_type": "code",
     "collapsed": true,
     "input": [
      "import ParseReverbFiles as pe\n",
      "import PlotReverbFiles as pr"
     ],
     "language": "python",
     "metadata": {},
     "outputs": [],
     "prompt_number": 1
    },
    {
     "cell_type": "code",
     "collapsed": true,
     "input": [
      "import config"
     ],
     "language": "python",
     "metadata": {},
     "outputs": [],
     "prompt_number": 2
    },
    {
     "cell_type": "code",
     "collapsed": true,
     "input": [
      "import os"
     ],
     "language": "python",
     "metadata": {},
     "outputs": [],
     "prompt_number": 3
    },
    {
     "cell_type": "code",
     "collapsed": true,
     "input": [
      "reverbpath = os.path.join(config.outpath3,'Round 20', 'linear/REVERBTest')"
     ],
     "language": "python",
     "metadata": {},
     "outputs": [],
     "prompt_number": 4
    },
    {
     "cell_type": "code",
     "collapsed": false,
     "input": [
      "filelist = os.listdir(reverbpath)"
     ],
     "language": "python",
     "metadata": {},
     "outputs": [],
     "prompt_number": 5
    },
    {
     "cell_type": "code",
     "collapsed": false,
     "input": [
      "novallist = [x for x in filelist if 'noval' in x]"
     ],
     "language": "python",
     "metadata": {},
     "outputs": [],
     "prompt_number": 6
    },
    {
     "cell_type": "code",
     "collapsed": false,
     "input": [
      "vallist = [x for x in filelist if 'noval' not in x]"
     ],
     "language": "python",
     "metadata": {},
     "outputs": [],
     "prompt_number": 7
    },
    {
     "cell_type": "code",
     "collapsed": false,
     "input": [
      "valarrs = {}\n",
      "for filename in vallist:\n",
      "    filepath = os.path.join(reverbpath, filename)\n",
      "    valarrs[filename]=pr.MakeGraph(\"bleh\",filepath)"
     ],
     "language": "python",
     "metadata": {},
     "outputs": [],
     "prompt_number": 8
    },
    {
     "cell_type": "code",
     "collapsed": false,
     "input": [
      "novalarrs = {}\n",
      "for filename in novallist:\n",
      "    filepath = os.path.join(reverbpath, filename)\n",
      "    novalarrs[filename] = pr.MakeGraph(\"bleh\", filepath)"
     ],
     "language": "python",
     "metadata": {},
     "outputs": [],
     "prompt_number": 9
    },
    {
     "cell_type": "code",
     "collapsed": false,
     "input": [
      "import re\n",
      "\n",
      "revNum = re.compile('reverb(\\d+)')"
     ],
     "language": "python",
     "metadata": {},
     "outputs": [],
     "prompt_number": 10
    },
    {
     "cell_type": "code",
     "collapsed": false,
     "input": [
      "tmpKeys = novalarrs.keys()\n",
      "tmpKeys.sort(key=lambda x: 0 if not revNum.match(x) else int(revNum.match(x).group(1)))\n",
      "print tmpKeys"
     ],
     "language": "python",
     "metadata": {},
     "outputs": [
      {
       "output_type": "stream",
       "stream": "stdout",
       "text": [
        "['reverb0novalrecall.txt', 'noreverbnovalrecall.txt', 'reverb2novalrecall.txt', 'reverb4novalrecall.txt', 'reverb6novalrecall.txt', 'reverb8novalrecall.txt', 'reverb10novalrecall.txt', 'reverb12novalrecall.txt', 'reverb14novalrecall.txt']\n"
       ]
      }
     ],
     "prompt_number": 11
    },
    {
     "cell_type": "code",
     "collapsed": false,
     "input": [
      "%pylab"
     ],
     "language": "python",
     "metadata": {},
     "outputs": [
      {
       "output_type": "stream",
       "stream": "stdout",
       "text": [
        "\n",
        "Welcome to pylab, a matplotlib-based Python environment [backend: TkAgg].\n",
        "For more information, type 'help(pylab)'.\n"
       ]
      }
     ],
     "prompt_number": 12
    },
    {
     "cell_type": "code",
     "collapsed": false,
     "input": [
      "figure()"
     ],
     "language": "python",
     "metadata": {},
     "outputs": [
      {
       "output_type": "pyout",
       "prompt_number": 13,
       "text": [
        "<matplotlib.figure.Figure at 0x5211630>"
       ]
      }
     ],
     "prompt_number": 13
    },
    {
     "cell_type": "code",
     "collapsed": false,
     "input": [
      "plot(valarrs['noreverbvalrecall.txt'], label=\"No Reverb\")\n",
      "plot(valarrs['reverb0valrecall.txt'], label=\"1 Reverb\")\n",
      "plot(valarrs['reverb2valrecall.txt'], label=\"2 Reverbs\")\n",
      "plot(valarrs['reverb4valrecall.txt'], label=\"4 Reverbs\")\n",
      "plot(valarrs['reverb6valrecall.txt'], label=\"6 Reverbs\")     "
     ],
     "language": "python",
     "metadata": {},
     "outputs": [
      {
       "output_type": "pyout",
       "prompt_number": 14,
       "text": [
        "[<matplotlib.lines.Line2D at 0x52e2270>]"
       ]
      }
     ],
     "prompt_number": 14
    },
    {
     "cell_type": "code",
     "collapsed": false,
     "input": [
      "legend()"
     ],
     "language": "python",
     "metadata": {},
     "outputs": [
      {
       "output_type": "pyout",
       "prompt_number": 15,
       "text": [
        "<matplotlib.legend.Legend at 0x56a42d0>"
       ]
      }
     ],
     "prompt_number": 15
    },
    {
     "cell_type": "code",
     "collapsed": false,
     "input": [
      "xlabel(\"Epochs\")\n",
      "ylabel(\"Error Rate\")"
     ],
     "language": "python",
     "metadata": {},
     "outputs": [
      {
       "output_type": "pyout",
       "prompt_number": 16,
       "text": [
        "<matplotlib.text.Text at 0x520bbb0>"
       ]
      }
     ],
     "prompt_number": 16
    },
    {
     "cell_type": "code",
     "collapsed": false,
     "input": [
      "tmpKeys2 = valarrs.keys()\n",
      "tmpKeys2.sort(key=lambda x: 0 if not revNum.match(x) else int(revNum.match(x).group(1)))\n",
      "print tmpKeys2"
     ],
     "language": "python",
     "metadata": {},
     "outputs": [
      {
       "output_type": "stream",
       "stream": "stdout",
       "text": [
        "['reverb0valrecall.txt', 'noreverbvalrecall.txt', 'reverb2valrecall.txt', 'reverb4valrecall.txt', 'reverb6valrecall.txt', 'reverb8valrecall.txt', 'reverb10valrecall.txt', 'reverb12valrecall.txt', 'reverb14valrecall.txt']\n"
       ]
      }
     ],
     "prompt_number": 17
    },
    {
     "cell_type": "code",
     "collapsed": false,
     "input": [
      "figure()\n",
      "plot(novalarrs['noreverbnovalrecall.txt'], label=\"No Reverb\")\n",
      "plot(novalarrs['reverb0novalrecall.txt'], label=\"1 Reverb\")\n",
      "plot(novalarrs['reverb2novalrecall.txt'], label=\"2 Reverbs\")\n",
      "plot(novalarrs['reverb4novalrecall.txt'], label=\"4 Reverbs\")\n",
      "plot(novalarrs['reverb6novalrecall.txt'], label=\"6 Reverbs\")     "
     ],
     "language": "python",
     "metadata": {},
     "outputs": [
      {
       "output_type": "pyout",
       "prompt_number": 18,
       "text": [
        "[<matplotlib.lines.Line2D at 0x538a130>]"
       ]
      }
     ],
     "prompt_number": 18
    },
    {
     "cell_type": "code",
     "collapsed": false,
     "input": [
      "legend()"
     ],
     "language": "python",
     "metadata": {},
     "outputs": [
      {
       "output_type": "pyout",
       "prompt_number": 19,
       "text": [
        "<matplotlib.legend.Legend at 0x97e8050>"
       ]
      }
     ],
     "prompt_number": 19
    },
    {
     "cell_type": "code",
     "collapsed": false,
     "input": [
      "xlabel(\"Epochs\")\n",
      "ylabel(\"Error Rate\")"
     ],
     "language": "python",
     "metadata": {},
     "outputs": [
      {
       "output_type": "pyout",
       "prompt_number": 20,
       "text": [
        "<matplotlib.text.Text at 0x56b8b50>"
       ]
      }
     ],
     "prompt_number": 20
    },
    {
     "cell_type": "code",
     "collapsed": true,
     "input": [],
     "language": "python",
     "metadata": {},
     "outputs": []
    }
   ],
   "metadata": {}
  }
 ]
}