{
 "metadata": {
  "name": "PlottingThings"
 },
 "nbformat": 3,
 "worksheets": [
  {
   "cells": [
    {
     "cell_type": "code",
     "collapsed": true,
     "input": [
      "import ParseReverbFiles as pe",
      "import PlotReverbFiles as pr"
     ],
     "language": "python",
     "outputs": [],
     "prompt_number": 1
    },
    {
     "cell_type": "code",
     "collapsed": true,
     "input": [
      "import config"
     ],
     "language": "python",
     "outputs": [],
     "prompt_number": 2
    },
    {
     "cell_type": "code",
     "collapsed": true,
     "input": [
      "import os"
     ],
     "language": "python",
     "outputs": [],
     "prompt_number": 3
    },
    {
     "cell_type": "code",
     "collapsed": true,
     "input": [
      "reverbpath = os.path.join(config.outpath3,'Round 18', 'band/REVERBTest')"
     ],
     "language": "python",
     "outputs": [],
     "prompt_number": 4
    },
    {
     "cell_type": "code",
     "collapsed": false,
     "input": [
      "filelist = os.listdir(reverbpath)"
     ],
     "language": "python",
     "outputs": [],
     "prompt_number": 5
    },
    {
     "cell_type": "code",
     "collapsed": false,
     "input": [
      "novallist = [x for x in filelist if 'noval' in x]"
     ],
     "language": "python",
     "outputs": [],
     "prompt_number": 6
    },
    {
     "cell_type": "code",
     "collapsed": false,
     "input": [
      "vallist = [x for x in filelist if 'noval' not in x]"
     ],
     "language": "python",
     "outputs": [],
     "prompt_number": 7
    },
    {
     "cell_type": "code",
     "collapsed": false,
     "input": [
      "valarrs = {}",
      "for filename in vallist:",
      "    filepath = os.path.join(reverbpath, filename)",
      "    valarrs[filename]=pr.MakeGraph(\"bleh\",filepath)"
     ],
     "language": "python",
     "outputs": [],
     "prompt_number": 8
    },
    {
     "cell_type": "code",
     "collapsed": false,
     "input": [
      "novalarrs = {}",
      "for filename in novallist:",
      "    filepath = os.path.join(reverbpath, filename)",
      "    novalarrs[filename] = pr.MakeGraph(\"bleh\", filepath)"
     ],
     "language": "python",
     "outputs": [],
     "prompt_number": 9
    },
    {
     "cell_type": "code",
     "collapsed": false,
     "input": [
      "import re",
      "",
      "revNum = re.compile('reverb(\\d+)')"
     ],
     "language": "python",
     "outputs": [],
     "prompt_number": 10
    },
    {
     "cell_type": "code",
     "collapsed": false,
     "input": [
      "tmpKeys = novalarrs.keys()",
      "tmpKeys.sort(key=lambda x: 0 if not revNum.match(x) else int(revNum.match(x).group(1)))",
      "print tmpKeys"
     ],
     "language": "python",
     "outputs": [
      {
       "output_type": "stream",
       "stream": "stdout",
       "text": [
        "['reverb0novalrecall.txt', 'noreverbnovalrecall.txt', 'reverb2novalrecall.txt', 'reverb4novalrecall.txt', 'reverb6novalrecall.txt', 'reverb8novalrecall.txt', 'reverb10novalrecall.txt', 'reverb12novalrecall.txt', 'reverb14novalrecall.txt']"
       ]
      }
     ],
     "prompt_number": 11
    },
    {
     "cell_type": "code",
     "collapsed": false,
     "input": [
      "figure()"
     ],
     "language": "python",
     "outputs": [
      {
       "output_type": "pyout",
       "prompt_number": 12,
       "text": [
        "<matplotlib.figure.Figure at 0x5275db0>"
       ]
      }
     ],
     "prompt_number": 12
    },
    {
     "cell_type": "code",
     "collapsed": false,
     "input": [
      "plot(valarrs['noreverbvalrecall.txt'], label=\"No Reverb\")",
      "plot(valarrs['reverb0valrecall.txt'], label=\"1 Reverb\")",
      "plot(valarrs['reverb2valrecall.txt'], label=\"2 Reverbs\")",
      "plot(valarrs['reverb4valrecall.txt'], label=\"4 Reverbs\")",
      "plot(valarrs['reverb6valrecall.txt'], label=\"6 Reverbs\")     "
     ],
     "language": "python",
     "outputs": [
      {
       "output_type": "pyout",
       "prompt_number": 13,
       "text": [
        "[<matplotlib.lines.Line2D at 0x5329ab0>]"
       ]
      }
     ],
     "prompt_number": 13
    },
    {
     "cell_type": "code",
     "collapsed": false,
     "input": [
      "legend()"
     ],
     "language": "python",
     "outputs": [
      {
       "output_type": "pyout",
       "prompt_number": 14,
       "text": [
        "<matplotlib.legend.Legend at 0x5275dd0>"
       ]
      }
     ],
     "prompt_number": 14
    },
    {
     "cell_type": "code",
     "collapsed": false,
     "input": [
      "xlabel(\"Epochs\")",
      "ylabel(\"Error Rate\")"
     ],
     "language": "python",
     "outputs": [
      {
       "output_type": "pyout",
       "prompt_number": 15,
       "text": [
        "<matplotlib.text.Text at 0x57d1730>"
       ]
      }
     ],
     "prompt_number": 15
    },
    {
     "cell_type": "code",
     "collapsed": false,
     "input": [
      "tmpKeys2 = valarrs.keys()",
      "tmpKeys2.sort(key=lambda x: 0 if not revNum.match(x) else int(revNum.match(x).group(1)))",
      "print tmpKeys2"
     ],
     "language": "python",
     "outputs": [
      {
       "output_type": "stream",
       "stream": "stdout",
       "text": [
        "['reverb0valrecall.txt', 'noreverbvalrecall.txt', 'reverb2valrecall.txt', 'reverb4valrecall.txt', 'reverb6valrecall.txt', 'reverb8valrecall.txt', 'reverb10valrecall.txt', 'reverb12valrecall.txt', 'reverb14valrecall.txt']"
       ]
      }
     ],
     "prompt_number": 16
    },
    {
     "cell_type": "code",
     "collapsed": false,
     "input": [
      "figure()",
      "plot(novalarrs['noreverbnovalrecall.txt'], label=\"No Reverb\")",
      "plot(novalarrs['reverb0novalrecall.txt'], label=\"1 Reverb\")",
      "plot(novalarrs['reverb2novalrecall.txt'], label=\"2 Reverbs\")",
      "plot(novalarrs['reverb4novalrecall.txt'], label=\"4 Reverbs\")",
      "plot(novalarrs['reverb6novalrecall.txt'], label=\"6 Reverbs\")     "
     ],
     "language": "python",
     "outputs": [
      {
       "output_type": "pyout",
       "prompt_number": 17,
       "text": [
        "[<matplotlib.lines.Line2D at 0x54879b0>]"
       ]
      }
     ],
     "prompt_number": 17
    },
    {
     "cell_type": "code",
     "collapsed": false,
     "input": [
      "legend()"
     ],
     "language": "python",
     "outputs": [
      {
       "output_type": "pyout",
       "prompt_number": 18,
       "text": [
        "<matplotlib.legend.Legend at 0x529b5f0>"
       ]
      }
     ],
     "prompt_number": 18
    },
    {
     "cell_type": "code",
     "collapsed": false,
     "input": [
      "xlabel(\"Epochs\")",
      "ylabel(\"Error Rate\")"
     ],
     "language": "python",
     "outputs": [
      {
       "output_type": "pyout",
       "prompt_number": 19,
       "text": [
        "<matplotlib.text.Text at 0x52b05d0>"
       ]
      }
     ],
     "prompt_number": 19
    },
    {
     "cell_type": "code",
     "collapsed": true,
     "input": [],
     "language": "python",
     "outputs": []
    }
   ]
  }
 ]
}