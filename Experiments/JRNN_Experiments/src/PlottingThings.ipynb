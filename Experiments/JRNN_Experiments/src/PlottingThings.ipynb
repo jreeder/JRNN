{
 "metadata": {
  "name": "PlottingThings"
 },
 "nbformat": 3,
 "worksheets": [
  {
   "cells": [
    {
     "cell_type": "code",
     "collapsed": true,
     "input": [
      "import ParseReverbFiles as pe",
      "import PlotReverbFiles as pr"
     ],
     "language": "python",
     "outputs": [],
     "prompt_number": 1
    },
    {
     "cell_type": "code",
     "collapsed": true,
     "input": [
      "import config"
     ],
     "language": "python",
     "outputs": [],
     "prompt_number": 2
    },
    {
     "cell_type": "code",
     "collapsed": true,
     "input": [
      "import os"
     ],
     "language": "python",
     "outputs": [],
     "prompt_number": 3
    },
    {
     "cell_type": "code",
     "collapsed": true,
     "input": [
      "reverbpath = os.path.join(config.outpath3,'Round 18', 'band/REVERBTest')"
     ],
     "language": "python",
     "outputs": [],
     "prompt_number": 4
    },
    {
     "cell_type": "code",
     "collapsed": false,
     "input": [
      "filelist = os.listdir(reverbpath)"
     ],
     "language": "python",
     "outputs": [],
     "prompt_number": 5
    },
    {
     "cell_type": "code",
     "collapsed": false,
     "input": [
      "novallist = [x for x in filelist if 'noval' in x]"
     ],
     "language": "python",
     "outputs": [],
     "prompt_number": 6
    },
    {
     "cell_type": "code",
     "collapsed": false,
     "input": [
      "vallist = [x for x in filelist if 'noval' not in x]"
     ],
     "language": "python",
     "outputs": [],
     "prompt_number": 24
    },
    {
     "cell_type": "code",
     "collapsed": false,
     "input": [
      "valarrs = {}",
      "for filename in vallist:",
      "    filepath = os.path.join(reverbpath, filename)",
      "    valarrs[filename]=pr.MakeGraph(\"bleh\",filepath)"
     ],
     "language": "python",
     "outputs": [],
     "prompt_number": 36
    },
    {
     "cell_type": "code",
     "collapsed": false,
     "input": [
      "valarrs['noreverbvalrecall.txt']"
     ],
     "language": "python",
     "outputs": [
      {
       "output_type": "pyout",
       "prompt_number": 37,
       "text": [
        "array([ 0.016     ,  0.075     ,  0.13433333,  0.11566667,  0.11466667,",
        "        0.136     ,  0.13733333,  0.13933333,  0.14      ,  0.158     ,",
        "        0.16366667,  0.17666667,  0.16666667,  0.17233333,  0.201     ,",
        "        0.19166667,  0.19866667,  0.19833333,  0.20533333,  0.21066667,",
        "        0.20866667,  0.21533333,  0.217     ,  0.21666667,  0.21466667,",
        "        0.21466667,  0.21533333,  0.21733333,  0.215     ,  0.21733333,",
        "        0.21866667,  0.21533333,  0.21733333,  0.21966667,  0.22433333,",
        "        0.22266667,  0.22166667,  0.225     ,  0.223     ,  0.224     ,",
        "        0.22433333,  0.22433333,  0.22433333,  0.22566667,  0.22666667,",
        "        0.22533333,  0.22166667,  0.223     ,  0.223     ,  0.22433333,",
        "        0.22666667,  0.225     ,  0.22666667,  0.227     ,  0.22666667,",
        "        0.22666667,  0.22733333,  0.22633333,  0.22566667,  0.225     ,",
        "        0.22733333,  0.22766667,  0.22666667,  0.22666667,  0.22566667,",
        "        0.226     ,  0.22533333,  0.22533333,  0.223     ,  0.22633333,",
        "        0.22566667,  0.22433333,  0.226     ,  0.22433333,  0.22566667,",
        "        0.22733333,  0.22533333,  0.22766667,  0.226     ,  0.22433333,",
        "        0.223     ,  0.225     ,  0.22666667,  0.22733333,  0.225     ,",
        "        0.22433333,  0.22666667,  0.22666667,  0.22533333,  0.22633333,",
        "        0.22533333,  0.22733333,  0.226     ,  0.223     ,  0.22633333,",
        "        0.22366667,  0.22666667])"
       ]
      }
     ],
     "prompt_number": 37
    },
    {
     "cell_type": "code",
     "collapsed": false,
     "input": [
      "plot(valarrs[\"noreverbvalrecall.txt\"])"
     ],
     "language": "python",
     "outputs": [
      {
       "output_type": "pyout",
       "prompt_number": 39,
       "text": [
        "[<matplotlib.lines.Line2D at 0x52bfbf0>]"
       ]
      }
     ],
     "prompt_number": 39
    },
    {
     "cell_type": "code",
     "collapsed": false,
     "input": [
      "valarrs.keys()"
     ],
     "language": "python",
     "outputs": [
      {
       "output_type": "pyout",
       "prompt_number": 41,
       "text": [
        "['reverb4valrecall.txt',",
        " 'reverb12valrecall.txt',",
        " 'reverb0valrecall.txt',",
        " 'reverb8valrecall.txt',",
        " 'reverb10valrecall.txt',",
        " 'reverb2valrecall.txt',",
        " 'noreverbvalrecall.txt',",
        " 'reverb14valrecall.txt',",
        " 'reverb6valrecall.txt']"
       ]
      }
     ],
     "prompt_number": 41
    },
    {
     "cell_type": "code",
     "collapsed": false,
     "input": [
      "plot(valarrs[\"reverb14valrecall.txt\"])"
     ],
     "language": "python",
     "outputs": [
      {
       "output_type": "pyout",
       "prompt_number": 49,
       "text": [
        "[<matplotlib.lines.Line2D at 0x538e4b0>]"
       ]
      }
     ],
     "prompt_number": 49
    },
    {
     "cell_type": "code",
     "collapsed": false,
     "input": [
      "figure()"
     ],
     "language": "python",
     "outputs": [
      {
       "output_type": "pyout",
       "prompt_number": 50,
       "text": [
        "<matplotlib.figure.Figure at 0x537bfb0>"
       ]
      }
     ],
     "prompt_number": 50
    },
    {
     "cell_type": "code",
     "collapsed": false,
     "input": [
      "novalarrs = {}",
      "for filename in novallist:",
      "    filepath = os.path.join(reverbpath, filename)",
      "    novalarrs[filename] = pr.MakeGraph(\"bleh\", filepath)"
     ],
     "language": "python",
     "outputs": [],
     "prompt_number": 7
    },
    {
     "cell_type": "code",
     "collapsed": false,
     "input": [
      "novalarrs.keys()"
     ],
     "language": "python",
     "outputs": [
      {
       "output_type": "pyout",
       "prompt_number": 8,
       "text": [
        "['reverb10novalrecall.txt',",
        " 'reverb12novalrecall.txt',",
        " 'reverb4novalrecall.txt',",
        " 'reverb6novalrecall.txt',",
        " 'reverb14novalrecall.txt',",
        " 'reverb8novalrecall.txt',",
        " 'noreverbnovalrecall.txt',",
        " 'reverb2novalrecall.txt']"
       ]
      }
     ],
     "prompt_number": 8
    },
    {
     "cell_type": "code",
     "collapsed": false,
     "input": [
      "tmpKeys = novalarrs.keys()",
      "tmpKeys.sort()",
      "print tmpKeys"
     ],
     "language": "python",
     "outputs": [
      {
       "output_type": "stream",
       "stream": "stdout",
       "text": [
        "['noreverbnovalrecall.txt', 'reverb10novalrecall.txt', 'reverb12novalrecall.txt', 'reverb14novalrecall.txt', 'reverb2novalrecall.txt', 'reverb4novalrecall.txt', 'reverb6novalrecall.txt', 'reverb8novalrecall.txt']"
       ]
      }
     ],
     "prompt_number": 10
    },
    {
     "cell_type": "code",
     "collapsed": false,
     "input": [
      "import re",
      "",
      "revNum = re.compile('reverb(\\d+)')",
      "print revNum.match(tmpKeys[1]).group(1)"
     ],
     "language": "python",
     "outputs": [
      {
       "output_type": "stream",
       "stream": "stdout",
       "text": [
        "10"
       ]
      }
     ],
     "prompt_number": 14
    },
    {
     "cell_type": "code",
     "collapsed": false,
     "input": [
      "tmpKeys.sort(key=lambda x: 0 if not revNum.match(x) else int(revNum.match(x).group(1)))"
     ],
     "language": "python",
     "outputs": [],
     "prompt_number": 20
    },
    {
     "cell_type": "code",
     "collapsed": false,
     "input": [
      "for nKey in tmpKeys:",
      "    plot(novalarrs[nKey])"
     ],
     "language": "python",
     "outputs": [],
     "prompt_number": 21
    },
    {
     "cell_type": "code",
     "collapsed": false,
     "input": [
      "run combinecsvs ETAMTL Error"
     ],
     "language": "python",
     "outputs": [
      {
       "output_type": "stream",
       "stream": "stderr",
       "text": [
        "ERROR: File `u'combinecsvs.py'` not found."
       ]
      }
     ],
     "prompt_number": 67
    },
    {
     "cell_type": "code",
     "collapsed": false,
     "input": [
      "pwd"
     ],
     "language": "python",
     "outputs": [
      {
       "output_type": "pyout",
       "prompt_number": 68,
       "text": [
        "u'D:\\\\Users\\\\John Reeder\\\\Code\\\\JRNN\\\\Experiments\\\\Results\\\\csvresults\\\\EXP 2-1 Round 14'"
       ]
      }
     ],
     "prompt_number": 68
    },
    {
     "cell_type": "code",
     "collapsed": false,
     "input": [
      "cd .."
     ],
     "language": "python",
     "outputs": [
      {
       "output_type": "stream",
       "stream": "stdout",
       "text": [
        "D:\\Users\\John Reeder\\Code\\JRNN\\Experiments\\Results\\csvresults"
       ]
      }
     ],
     "prompt_number": 69
    },
    {
     "cell_type": "code",
     "collapsed": false,
     "input": [
      "cd .."
     ],
     "language": "python",
     "outputs": [
      {
       "output_type": "stream",
       "stream": "stdout",
       "text": [
        "D:\\Users\\John Reeder\\Code\\JRNN\\Experiments\\Results"
       ]
      }
     ],
     "prompt_number": 70
    },
    {
     "cell_type": "code",
     "collapsed": false,
     "input": [
      "cd .."
     ],
     "language": "python",
     "outputs": [
      {
       "output_type": "stream",
       "stream": "stdout",
       "text": [
        "D:\\Users\\John Reeder\\Code\\JRNN\\Experiments"
       ]
      }
     ],
     "prompt_number": 71
    },
    {
     "cell_type": "code",
     "collapsed": false,
     "input": [
      "os.listdir()"
     ],
     "language": "python",
     "outputs": [
      {
       "ename": "TypeError",
       "evalue": "listdir() takes exactly 1 argument (0 given)",
       "output_type": "pyerr",
       "traceback": [
        "\u001b[1;31m---------------------------------------------------------------------------\u001b[0m\n\u001b[1;31mTypeError\u001b[0m                                 Traceback (most recent call last)",
        "\u001b[1;32mD:\\Users\\John Reeder\\Code\\JRNN\\Experiments\\<ipython-input-72-eff7f7465dbc>\u001b[0m in \u001b[0;36m<module>\u001b[1;34m()\u001b[0m\n\u001b[1;32m----> 1\u001b[1;33m \u001b[0mos\u001b[0m\u001b[1;33m.\u001b[0m\u001b[0mlistdir\u001b[0m\u001b[1;33m(\u001b[0m\u001b[1;33m)\u001b[0m\u001b[1;33m\u001b[0m\u001b[0m\n\u001b[0m",
        "\u001b[1;31mTypeError\u001b[0m: listdir() takes exactly 1 argument (0 given)"
       ]
      }
     ],
     "prompt_number": 72
    },
    {
     "cell_type": "code",
     "collapsed": false,
     "input": [
      "os.listdir"
     ],
     "language": "python",
     "outputs": [
      {
       "output_type": "pyout",
       "prompt_number": 73,
       "text": [
        "<function nt.listdir>"
       ]
      }
     ],
     "prompt_number": 73
    },
    {
     "cell_type": "code",
     "collapsed": false,
     "input": [
      "os.listdir()"
     ],
     "language": "python",
     "outputs": [
      {
       "ename": "TypeError",
       "evalue": "listdir() takes exactly 1 argument (0 given)",
       "output_type": "pyerr",
       "traceback": [
        "\u001b[1;31m---------------------------------------------------------------------------\u001b[0m\n\u001b[1;31mTypeError\u001b[0m                                 Traceback (most recent call last)",
        "\u001b[1;32mD:\\Users\\John Reeder\\Code\\JRNN\\Experiments\\<ipython-input-74-eff7f7465dbc>\u001b[0m in \u001b[0;36m<module>\u001b[1;34m()\u001b[0m\n\u001b[1;32m----> 1\u001b[1;33m \u001b[0mos\u001b[0m\u001b[1;33m.\u001b[0m\u001b[0mlistdir\u001b[0m\u001b[1;33m(\u001b[0m\u001b[1;33m)\u001b[0m\u001b[1;33m\u001b[0m\u001b[0m\n\u001b[0m",
        "\u001b[1;31mTypeError\u001b[0m: listdir() takes exactly 1 argument (0 given)"
       ]
      }
     ],
     "prompt_number": 74
    },
    {
     "cell_type": "code",
     "collapsed": false,
     "input": [
      "os.listdir(os.curdir)"
     ],
     "language": "python",
     "outputs": [
      {
       "output_type": "pyout",
       "prompt_number": 76,
       "text": [
        "['config', 'Data', 'JRNN_Experiments', 'Results']"
       ]
      }
     ],
     "prompt_number": 76
    },
    {
     "cell_type": "code",
     "collapsed": false,
     "input": [
      "cd JRNN_Experiments/"
     ],
     "language": "python",
     "outputs": [
      {
       "output_type": "stream",
       "stream": "stdout",
       "text": [
        "D:\\Users\\John Reeder\\Code\\JRNN\\Experiments\\JRNN_Experiments"
       ]
      }
     ],
     "prompt_number": 77
    },
    {
     "cell_type": "code",
     "collapsed": false,
     "input": [
      "cd src/"
     ],
     "language": "python",
     "outputs": [
      {
       "output_type": "stream",
       "stream": "stdout",
       "text": [
        "D:\\Users\\John Reeder\\Code\\JRNN\\Experiments\\JRNN_Experiments\\src"
       ]
      }
     ],
     "prompt_number": 78
    },
    {
     "cell_type": "code",
     "collapsed": false,
     "input": [
      "pwd"
     ],
     "language": "python",
     "outputs": [
      {
       "output_type": "pyout",
       "prompt_number": 79,
       "text": [
        "u'D:\\\\Users\\\\John Reeder\\\\Code\\\\JRNN\\\\Experiments\\\\JRNN_Experiments\\\\src'"
       ]
      }
     ],
     "prompt_number": 79
    },
    {
     "cell_type": "code",
     "collapsed": true,
     "input": [
      "from combinecsvs import combine"
     ],
     "language": "python",
     "outputs": [],
     "prompt_number": 80
    },
    {
     "cell_type": "code",
     "collapsed": true,
     "input": [
      "combine(\"CCMTL\", \"Error\")"
     ],
     "language": "python",
     "outputs": [],
     "prompt_number": 87
    },
    {
     "cell_type": "code",
     "collapsed": true,
     "input": [],
     "language": "python",
     "outputs": []
    }
   ]
  }
 ]
}