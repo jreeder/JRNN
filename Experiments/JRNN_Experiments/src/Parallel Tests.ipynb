{
 "metadata": {
  "name": "Parallel Tests"
 },
 "nbformat": 3,
 "nbformat_minor": 0,
 "worksheets": [
  {
   "cells": [
    {
     "cell_type": "code",
     "collapsed": false,
     "input": [
      "from IPython.parallel import Client"
     ],
     "language": "python",
     "metadata": {},
     "outputs": []
    },
    {
     "cell_type": "code",
     "collapsed": false,
     "input": [
      "rc = Client(profile=\"cluster\")\n",
      "rc.ids"
     ],
     "language": "python",
     "metadata": {},
     "outputs": []
    },
    {
     "cell_type": "code",
     "collapsed": false,
     "input": [
      "def parallelTest(user, scenario, maxEpochs=2000, numFrames=900, numCand=4, numRev=5, numRevTrainRatio=1, reshuffle=False):\n",
      "    global sortField\n",
      "    scenarios = LoadUserData(user)\n",
      "    training = scenarios[scenario]['training']\n",
      "    training.sort(key=lambda x: int(sortField.search(x).group(1)))\n",
      "    data = LoadTrainingData(training)\n",
      "    dstuple = CreateUserDatasets(data, numFrames)\n",
      "    del scenarios\n",
      "    del training\n",
      "    del data\n",
      "    revCC = PyJRNN.trainers.RevCCTrainer(21,2,numCand)\n",
      "    revCC.revparams.numRevTrainRatio = numRevTrainRatio\n",
      "    revCC.revparams.numRev = numRev\n",
      "    \n",
      "    returnVal = ConsolidatedTrainingTest(dstuple, 1, revCC, maxEpochs, reshuffle)\n",
      "    for ds in dstuple:\n",
      "        ds.Clear()\n",
      "\n",
      "    return returnVal\n",
      "    #return \"hello world\""
     ],
     "language": "python",
     "metadata": {},
     "outputs": []
    },
    {
     "cell_type": "code",
     "collapsed": false,
     "input": [
      "rc[:].clear()"
     ],
     "language": "python",
     "metadata": {},
     "outputs": []
    },
    {
     "cell_type": "code",
     "collapsed": false,
     "input": [
      "with rc[:].sync_imports():\n",
      "    import PyJRNN\n",
      "    import pyublas\n",
      "    import numpy\n",
      "    from PyJRNN.utility import DSDatatype\n",
      "    import os\n",
      "    import re\n",
      "    import json\n",
      "    from ObsUtility import userspath, LoadUserData, LoadTrainingData, CreateUserDatasets, ConsolidatedTrainingTest, sortField"
     ],
     "language": "python",
     "metadata": {},
     "outputs": []
    },
    {
     "cell_type": "code",
     "collapsed": false,
     "input": [
      "lbv = rc.load_balanced_view()\n",
      "async_results = []\n",
      "for i in range(30):\n",
      "    ar = lbv.apply_async(parallelTest, 'Cong', 'Chase - 16Nov2012171621', maxEpochs=500, numFrames=500)\n",
      "    async_results.append(ar)"
     ],
     "language": "python",
     "metadata": {},
     "outputs": []
    },
    {
     "cell_type": "code",
     "collapsed": false,
     "input": [
      "async_results2 = [] \n",
      "for i in range(30):\n",
      "    ar = lbv.apply_async(parallelTest, 'Yinjie', 'Chase - 16Nov2012165154', maxEpochs=500, numFrames=500)\n",
      "    async_results2.append(ar)"
     ],
     "language": "python",
     "metadata": {},
     "outputs": []
    },
    {
     "cell_type": "code",
     "collapsed": false,
     "input": [
      "sum([ar.progress for ar in async_results]) / float(len(async_results))"
     ],
     "language": "python",
     "metadata": {},
     "outputs": []
    },
    {
     "cell_type": "code",
     "collapsed": false,
     "input": [
      "result = [ar.get() for ar in async_results2 if ar.progress == 1]\n",
      "print result"
     ],
     "language": "python",
     "metadata": {},
     "outputs": []
    },
    {
     "cell_type": "code",
     "collapsed": false,
     "input": [
      "rc.wait(async_results)\n",
      "r = [ar.get() for ar in async_results]\n",
      "import json\n",
      "json.dump(r, open('Notebook Data/ObsResultCong500-2.json', 'w'))\n",
      "rc.wait(async_results2)\n",
      "r2 = [ar.get() for ar in async_results2]\n",
      "json.dump(r2, open('Notebook Data/ObsResultYin500-2.json', 'w'))"
     ],
     "language": "python",
     "metadata": {},
     "outputs": []
    },
    {
     "cell_type": "code",
     "collapsed": false,
     "input": [
      "[(ar.metadata.completed - ar.metadata.started).total_seconds() / float(60) for ar in async_results2]"
     ],
     "language": "python",
     "metadata": {},
     "outputs": []
    },
    {
     "cell_type": "code",
     "collapsed": false,
     "input": [
      "rc[:].clear()"
     ],
     "language": "python",
     "metadata": {},
     "outputs": []
    },
    {
     "cell_type": "code",
     "collapsed": false,
     "input": [
      "rc[:].shutdown()"
     ],
     "language": "python",
     "metadata": {},
     "outputs": []
    },
    {
     "cell_type": "code",
     "collapsed": false,
     "input": [],
     "language": "python",
     "metadata": {},
     "outputs": []
    }
   ],
   "metadata": {}
  }
 ]
}