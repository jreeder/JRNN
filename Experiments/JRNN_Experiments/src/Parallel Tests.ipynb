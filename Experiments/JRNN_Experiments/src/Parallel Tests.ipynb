{
 "metadata": {
  "name": "Parallel Tests"
 },
 "nbformat": 3,
 "nbformat_minor": 0,
 "worksheets": [
  {
   "cells": [
    {
     "cell_type": "code",
     "collapsed": false,
     "input": [
      "from IPython.parallel import Client"
     ],
     "language": "python",
     "metadata": {},
     "outputs": [],
     "prompt_number": 1
    },
    {
     "cell_type": "code",
     "collapsed": false,
     "input": [
      "rc = Client(profile=\"cluster\")\n",
      "rc.ids"
     ],
     "language": "python",
     "metadata": {},
     "outputs": [
      {
       "output_type": "pyout",
       "prompt_number": 4,
       "text": [
        "[0, 1, 2]"
       ]
      }
     ],
     "prompt_number": 4
    },
    {
     "cell_type": "code",
     "collapsed": false,
     "input": [
      "def parallelTest(user, scenario, maxEpochs=2000, numFrames=900, numCand=4, numRev=5, numRevTrainRatio=1, reshuffle=False):\n",
      "    global sortField\n",
      "    scenarios = LoadUserData(user)\n",
      "    training = scenarios[scenario]['training']\n",
      "    training.sort(key=lambda x: int(sortField.search(x).group(1)))\n",
      "    data = LoadTrainingData(training)\n",
      "    \n",
      "    dstuple = CreateUserDatasets(data, numFrames)\n",
      "    revCC = PyJRNN.trainers.RevCCTrainer(21,2,numCand)\n",
      "    revCC.revparams.numRevTrainRatio = numRevTrainRatio\n",
      "    revCC.revparams.numRev = numRev\n",
      "    \n",
      "    return ConsolidatedTrainingTest(dstuple, 1, revCC, maxEpochs, reshuffle)\n",
      "    #return \"hello world\""
     ],
     "language": "python",
     "metadata": {},
     "outputs": [],
     "prompt_number": 23
    },
    {
     "cell_type": "code",
     "collapsed": false,
     "input": [
      "with rc[:].sync_imports():\n",
      "    import PyJRNN\n",
      "    import pyublas\n",
      "    import numpy\n",
      "    from PyJRNN.utility import DSDatatype\n",
      "    import os\n",
      "    import re\n",
      "    import json\n",
      "    from ObsUtility import userspath, LoadUserData, LoadTrainingData, CreateUserDatasets, ConsolidatedTrainingTest, sortField"
     ],
     "language": "python",
     "metadata": {},
     "outputs": [
      {
       "output_type": "stream",
       "stream": "stdout",
       "text": [
        "importing PyJRNN on engine(s)\n",
        "importing pyublas on engine(s)\n",
        "importing numpy on engine(s)\n",
        "importing DSDatatype from PyJRNN.utility on engine(s)\n",
        "importing os on engine(s)\n",
        "importing re on engine(s)\n",
        "importing json on engine(s)\n",
        "importing userspath,LoadUserData,LoadTrainingData,CreateUserDatasets,ConsolidatedTrainingTest,sortField from ObsUtility on engine(s)\n"
       ]
      }
     ],
     "prompt_number": 24
    },
    {
     "cell_type": "code",
     "collapsed": false,
     "input": [
      "lbv = rc.load_balanced_view()\n",
      "async_results = []\n",
      "for i in range(30):\n",
      "    ar = lbv.apply_async(parallelTest, 'jcginn', 'Chase - 13Nov2012223245', maxEpochs=500, numFrames=100)\n",
      "    async_results.append(ar)"
     ],
     "language": "python",
     "metadata": {},
     "outputs": [],
     "prompt_number": 28
    },
    {
     "cell_type": "code",
     "collapsed": false,
     "input": [
      "rc.wait(async_results)\n",
      "r = [ar.get() for ar in async_results]"
     ],
     "language": "python",
     "metadata": {},
     "outputs": [],
     "prompt_number": 29
    },
    {
     "cell_type": "code",
     "collapsed": false,
     "input": [
      "r"
     ],
     "language": "python",
     "metadata": {},
     "outputs": [
      {
       "output_type": "pyout",
       "prompt_number": 30,
       "text": [
        "[[{'tr1.epochs': 698,\n",
        "   'tr1.hiddenLayers': 5,\n",
        "   'tr1.testError': 0.11330972538377733,\n",
        "   'tr2.epochs': 542,\n",
        "   'tr2.hiddenLayers': 15,\n",
        "   'tr2.testError': 0.060960442666359464,\n",
        "   'tr3.epochs': 519,\n",
        "   'tr3.hiddenLayers': 22,\n",
        "   'tr3.testError': 0.050701070254900345}],\n",
        " [{'tr1.epochs': 862,\n",
        "   'tr1.hiddenLayers': 7,\n",
        "   'tr1.testError': 0.12929783842613687,\n",
        "   'tr2.epochs': 718,\n",
        "   'tr2.hiddenLayers': 16,\n",
        "   'tr2.testError': 0.0703155517888649,\n",
        "   'tr3.epochs': 552,\n",
        "   'tr3.hiddenLayers': 22,\n",
        "   'tr3.testError': 0.03098314020269613}],\n",
        " [{'tr1.epochs': 862,\n",
        "   'tr1.hiddenLayers': 7,\n",
        "   'tr1.testError': 0.12929783842613687,\n",
        "   'tr2.epochs': 516,\n",
        "   'tr2.hiddenLayers': 13,\n",
        "   'tr2.testError': 0.08592154725431253,\n",
        "   'tr3.epochs': 690,\n",
        "   'tr3.hiddenLayers': 18,\n",
        "   'tr3.testError': 0.04071347158220016}],\n",
        " [{'tr1.epochs': 526,\n",
        "   'tr1.hiddenLayers': 5,\n",
        "   'tr1.testError': 0.1025922153328187,\n",
        "   'tr2.epochs': 604,\n",
        "   'tr2.hiddenLayers': 10,\n",
        "   'tr2.testError': 0.08447164607204924,\n",
        "   'tr3.epochs': 499,\n",
        "   'tr3.hiddenLayers': 17,\n",
        "   'tr3.testError': 0.030965499656639545}],\n",
        " [{'tr1.epochs': 559,\n",
        "   'tr1.hiddenLayers': 7,\n",
        "   'tr1.testError': 0.0913561490606766,\n",
        "   'tr2.epochs': 518,\n",
        "   'tr2.hiddenLayers': 17,\n",
        "   'tr2.testError': 0.07808745510611917,\n",
        "   'tr3.epochs': 540,\n",
        "   'tr3.hiddenLayers': 26,\n",
        "   'tr3.testError': 0.03966046937986671}],\n",
        " [{'tr1.epochs': 654,\n",
        "   'tr1.hiddenLayers': 6,\n",
        "   'tr1.testError': 0.09892456039937221,\n",
        "   'tr2.epochs': 625,\n",
        "   'tr2.hiddenLayers': 11,\n",
        "   'tr2.testError': 0.0854587273715199,\n",
        "   'tr3.epochs': 351,\n",
        "   'tr3.hiddenLayers': 15,\n",
        "   'tr3.testError': 0.07560762461240306}],\n",
        " [{'tr1.epochs': 728,\n",
        "   'tr1.hiddenLayers': 6,\n",
        "   'tr1.testError': 0.09440926171694536,\n",
        "   'tr2.epochs': 533,\n",
        "   'tr2.hiddenLayers': 15,\n",
        "   'tr2.testError': 0.1019557255832359,\n",
        "   'tr3.epochs': 536,\n",
        "   'tr3.hiddenLayers': 27,\n",
        "   'tr3.testError': 0.042450171468370164}],\n",
        " [{'tr1.epochs': 551,\n",
        "   'tr1.hiddenLayers': 5,\n",
        "   'tr1.testError': 0.12150132750589984,\n",
        "   'tr2.epochs': 516,\n",
        "   'tr2.hiddenLayers': 12,\n",
        "   'tr2.testError': 0.10706457872045032,\n",
        "   'tr3.epochs': 621,\n",
        "   'tr3.hiddenLayers': 14,\n",
        "   'tr3.testError': 0.04229749014516576}],\n",
        " [{'tr1.epochs': 554,\n",
        "   'tr1.hiddenLayers': 6,\n",
        "   'tr1.testError': 0.10109946528476531,\n",
        "   'tr2.epochs': 589,\n",
        "   'tr2.hiddenLayers': 15,\n",
        "   'tr2.testError': 0.08890119458454461,\n",
        "   'tr3.epochs': 563,\n",
        "   'tr3.hiddenLayers': 19,\n",
        "   'tr3.testError': 0.04096735257677011}],\n",
        " [{'tr1.epochs': 555,\n",
        "   'tr1.hiddenLayers': 6,\n",
        "   'tr1.testError': 0.10009635960908124,\n",
        "   'tr2.epochs': 317,\n",
        "   'tr2.hiddenLayers': 9,\n",
        "   'tr2.testError': 0.08157567632060866,\n",
        "   'tr3.epochs': 201,\n",
        "   'tr3.hiddenLayers': 9,\n",
        "   'tr3.testError': 0.030960066815158446}]]"
       ]
      }
     ],
     "prompt_number": 30
    },
    {
     "cell_type": "code",
     "collapsed": false,
     "input": [],
     "language": "python",
     "metadata": {},
     "outputs": []
    }
   ],
   "metadata": {}
  }
 ]
}