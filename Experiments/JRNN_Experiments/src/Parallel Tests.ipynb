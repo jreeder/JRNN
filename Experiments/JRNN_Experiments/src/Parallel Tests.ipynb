{
 "metadata": {
  "name": "Parallel Tests"
 },
 "nbformat": 3,
 "nbformat_minor": 0,
 "worksheets": [
  {
   "cells": [
    {
     "cell_type": "code",
     "collapsed": false,
     "input": [
      "from IPython.parallel import Client"
     ],
     "language": "python",
     "metadata": {},
     "outputs": [],
     "prompt_number": 1
    },
    {
     "cell_type": "code",
     "collapsed": false,
     "input": [
      "rc = Client(profile=\"cluster\")\n",
      "rc.ids"
     ],
     "language": "python",
     "metadata": {},
     "outputs": [
      {
       "output_type": "pyout",
       "prompt_number": 27,
       "text": [
        "[0, 1, 2, 3, 4, 5, 6]"
       ]
      }
     ],
     "prompt_number": 27
    },
    {
     "cell_type": "code",
     "collapsed": false,
     "input": [
      "def parallelTest(user, scenario, maxEpochs=2000, numFrames=900, numCand=4, numRev=5, numRevTrainRatio=1, indexes = [1,2,3,4], distNums = (), reshuffle=False):\n",
      "    global sortField\n",
      "    scenarios = ObsUtility.LoadUserData(user)\n",
      "    settings = ObsUtility.LoadUserSettings(user)\n",
      "    training = scenarios[scenario]['training']\n",
      "    training.sort(key=lambda x: int(ObsUtility.sortField.search(x).group(1)))\n",
      "    data = ObsUtility.LoadTrainingData(training)\n",
      "    dstuple = ObsUtility.CreateUserDatasets(data, numFrames, indexes, distNums, False, True, settings) # this is going to do splitouts by default and not normalize with this config\n",
      "    del scenarios\n",
      "    del training\n",
      "    del data\n",
      "    numInputs = dstuple[0].numInputs\n",
      "    numOutputs = dstuple[0].numOutputs\n",
      "    revCC = PyJRNN.trainers.RevCCTrainer(numInputs,numOutputs,numCand)\n",
      "    revCC.revparams.numRevTrainRatio = numRevTrainRatio\n",
      "    revCC.revparams.numRev = numRev\n",
      "    \n",
      "    returnVal = ObsUtility.ConsolidatedTrainingTest(dstuple, 1, revCC, maxEpochs, reshuffle)\n",
      "    for ds in dstuple:\n",
      "        ds.Clear()\n",
      "\n",
      "    return returnVal\n",
      "    #return \"hello world\""
     ],
     "language": "python",
     "metadata": {},
     "outputs": [],
     "prompt_number": 28
    },
    {
     "cell_type": "code",
     "collapsed": false,
     "input": [
      "with rc[:].sync_imports():\n",
      "    import PyJRNN\n",
      "    import pyublas\n",
      "    import numpy\n",
      "    from PyJRNN.utility import DSDatatype\n",
      "    import os\n",
      "    import re\n",
      "    import json\n",
      "    import ObsUtility\n",
      "    from ObsUtility import userspath, UserSettings\n",
      "    #from ObsUtility import userspath, LoadUserData, LoadTrainingData, CreateUserDatasets, ConsolidatedTrainingTest, sortField, LoadUserSettings, SplitAndAdjustObsOutputs, Norm01Array, CreateRanges, UserSettings, GetIndexFromRange, DiscritizeIntoRanges"
     ],
     "language": "python",
     "metadata": {},
     "outputs": [
      {
       "output_type": "stream",
       "stream": "stdout",
       "text": [
        "importing PyJRNN on engine(s)\n",
        "importing pyublas on engine(s)\n",
        "importing numpy on engine(s)\n",
        "importing DSDatatype from PyJRNN.utility on engine(s)\n",
        "importing os on engine(s)\n",
        "importing re on engine(s)\n",
        "importing json on engine(s)\n",
        "importing ObsUtility on engine(s)\n",
        "importing userspath,UserSettings from ObsUtility on engine(s)\n"
       ]
      }
     ],
     "prompt_number": 29
    },
    {
     "cell_type": "code",
     "collapsed": false,
     "input": [
      "maxEpochs=300\n",
      "numFrames=900\n",
      "trialNum=1\n",
      "numRuns=5\n",
      "indexes=[1,2,3,4]\n",
      "distNums=(200,200,900)"
     ],
     "language": "python",
     "metadata": {},
     "outputs": [],
     "prompt_number": 30
    },
    {
     "cell_type": "code",
     "collapsed": false,
     "input": [
      "lbv = rc.load_balanced_view()\n",
      "async_results = []\n",
      "for i in range(numRuns):\n",
      "    ar = lbv.apply_async(parallelTest, 'Cong', 'Chase - 16Nov2012171621', maxEpochs=maxEpochs, numFrames=numFrames, indexes=indexes, distNums=distNums)\n",
      "    async_results.append(ar)"
     ],
     "language": "python",
     "metadata": {},
     "outputs": [],
     "prompt_number": 31
    },
    {
     "cell_type": "code",
     "collapsed": false,
     "input": [
      "async_results2 = [] \n",
      "for i in range(numRuns):\n",
      "    ar = lbv.apply_async(parallelTest, 'Yinjie', 'Chase - 16Nov2012165154', maxEpochs=maxEpochs, numFrames=numFrames, indexes=indexes, distNums=distNums)\n",
      "    async_results2.append(ar)"
     ],
     "language": "python",
     "metadata": {},
     "outputs": []
    },
    {
     "cell_type": "code",
     "collapsed": false,
     "input": [
      "async_results3 = []\n",
      "for i in range(numRuns):\n",
      "    ar = lbv.apply_async(parallelTest, 'jcginn', 'Chase - 13Nov2012223245', maxEpochs=maxEpochs, numFrames=numFrames, indexes=indexes, distNums=distNums)\n",
      "    async_results3.append(ar)"
     ],
     "language": "python",
     "metadata": {},
     "outputs": []
    },
    {
     "cell_type": "code",
     "collapsed": false,
     "input": [
      "#sum([ar.progress for ar in async_results]) / float(len(async_results))"
     ],
     "language": "python",
     "metadata": {},
     "outputs": []
    },
    {
     "cell_type": "code",
     "collapsed": false,
     "input": [
      "rc.wait(async_results)\n",
      "r = [ar.get() for ar in async_results]\n",
      "import json\n",
      "json.dump(r, open('Notebook Data/ObsResultCong-Ep{0}-Nf{1}-Nr{2}-Tr{3}.json'.format(maxEpochs, numFrames, numRuns, trialNum), 'w'))\n",
      "rc.wait(async_results2)\n",
      "r2 = [ar.get() for ar in async_results2]\n",
      "json.dump(r2, open('Notebook Data/ObsResultYin-Ep{0}-Nf{1}-Nr{2}-Tr{3}.json'.format(maxEpochs, numFrames, numRuns, trialNum), 'w'))\n",
      "rc.wait(async_results3)\n",
      "r3 = [ar.get() for ar in async_results3]\n",
      "json.dump(r3, open('Notebook Data/ObsResultJames-Ep{0}-Nf{1}-Nr{2}-Tr{3}.json'.format(maxEpochs, numFrames, numRuns, trialNum), 'w'))"
     ],
     "language": "python",
     "metadata": {},
     "outputs": []
    },
    {
     "cell_type": "code",
     "collapsed": false,
     "input": [
      "result = [ar.get() for ar in async_results if ar.progress == 1]\n",
      "print result"
     ],
     "language": "python",
     "metadata": {},
     "outputs": [
      {
       "ename": "RemoteError",
       "evalue": "EngineError(Engine 'dd938efd-18e2-4a02-aaac-571ec45a91aa' died while running task u'c3b3d389-ef8a-4560-948e-1d324c816891')",
       "output_type": "pyerr",
       "traceback": [
        "Traceback (most recent call last):",
        "  File \"C:\\Python27\\lib\\site-packages\\ipython-0.14.dev-py2.7.egg\\IPython\\parallel\\controller\\scheduler.py\", line 351, in handle_stranded_tasks",
        "    raise error.EngineError(\"Engine %r died while running task %r\"%(engine, msg_id))",
        "EngineError: Engine 'dd938efd-18e2-4a02-aaac-571ec45a91aa' died while running task u'c3b3d389-ef8a-4560-948e-1d324c816891'"
       ]
      }
     ],
     "prompt_number": 35
    },
    {
     "cell_type": "code",
     "collapsed": false,
     "input": [
      "[(ar.metadata.completed - ar.metadata.started).total_seconds() / float(60) for ar in async_results2]"
     ],
     "language": "python",
     "metadata": {},
     "outputs": []
    },
    {
     "cell_type": "code",
     "collapsed": false,
     "input": [
      "rc[:].clear()"
     ],
     "language": "python",
     "metadata": {},
     "outputs": [],
     "prompt_number": 9
    },
    {
     "cell_type": "code",
     "collapsed": false,
     "input": [
      "rc[:].shutdown()"
     ],
     "language": "python",
     "metadata": {},
     "outputs": [],
     "prompt_number": 33
    },
    {
     "cell_type": "code",
     "collapsed": false,
     "input": [
      "rc[:].apply(dreload(ObsUtility))"
     ],
     "language": "python",
     "metadata": {},
     "outputs": [
      {
       "output_type": "stream",
       "stream": "stdout",
       "text": [
        "Reloading PyJRNN\n",
        "Reloading pyublas\n",
        "Reloading pyublas.numpy\n",
        "Reloading numpy\n",
        "Reloading numpy.numpy\n",
        "Reloading numpy.__config__\n",
        "Reloading numpy.version\n",
        "Reloading numpy._import_tools\n",
        "Reloading numpy.os\n",
        "Reloading os\n",
        "Reloading errno\n",
        "Reloading nt\n",
        "Reloading ntpath\n",
        "Reloading stat\n",
        "Reloading genericpath\n",
        "Reloading warnings\n",
        "Reloading linecache\n",
        "Reloading types\n",
        "Reloading _warnings\n",
        "Reloading UserDict\n",
        "Reloading _abcoll\n",
        "Reloading abc\n",
        "Reloading _weakrefset\n",
        "Reloading _weakref\n",
        "Reloading copy_reg\n",
        "Reloading numpy.sys\n",
        "Reloading numpy.add_newdocs\n",
        "Reloading numpy.lib\n",
        "Reloading numpy.lib.info\n",
        "Reloading numpy.lib.numpy\n",
        "Reloading numpy.lib.type_check\n",
        "Reloading numpy.core\n",
        "Reloading numpy.core.info\n",
        "Reloading numpy.core.numpy\n",
        "Reloading numpy.core.multiarray\n",
        "Reloading numpy.core.umath\n",
        "Reloading numpy.core._internal\n",
        "Reloading numpy.core.re\n",
        "Reloading re\n",
        "Reloading"
       ]
      },
      {
       "output_type": "stream",
       "stream": "stdout",
       "text": [
        " sre_compile\n",
        "Reloading _sre\n",
        "Reloading sre_parse\n",
        "Reloading sre_constants\n",
        "Reloading numpy.core.sys\n",
        "Reloading numpy.core.warnings\n",
        "Reloading numpy.compat\n",
        "Reloading numpy.compat._inspect\n",
        "Reloading numpy.compat.types\n",
        "Reloading numpy.compat.py3k\n",
        "Reloading numpy.compat.sys\n",
        "Reloading numpy.core.numerictypes\n",
        "Reloading numpy.core.types\n",
        "Reloading numpy.core.__builtin__\n",
        "Reloading numpy.core._sort\n",
        "Reloading numpy.core.numeric\n",
        "Reloading numpy.core._dotblas\n",
        "Reloading numpy.core.arrayprint\n",
        "Reloading numpy.core.fromnumeric\n",
        "Reloading numpy.core.cPickle\n",
        "Reloading cPickle\n",
        "Reloading numpy.core.defchararray\n",
        "Reloading numpy.core.records\n",
        "Reloading numpy.core.os\n",
        "Reloading numpy.core.memmap\n",
        "Reloading numpy.core.scalarmath\n",
        "Reloading numpy.core.function_base\n",
        "Reloading numpy.core.machar\n",
        "Reloading numpy.core.getlimits\n",
        "Reloading numpy.core.shape_base\n",
        "Reloading numpy.testing\n",
        "Reloading numpy.testing.unittest\n",
        "Reloading unittest\n",
        "Reloading unittest.result\n",
        "Reloading unittest.os\n",
        "Reloading unittest.sys\n",
        "Reloading unittest.traceback\n",
        "Reloading traceback\n",
        "Reloading unittest.StringIO\n",
        "Reloading StringIO\n",
        "Reloading unittest.functools\n",
        "Reloading functools\n",
        "Reloading _functools\n",
        "Reloading unittest.case\n",
        "Reloading unittest.collections\n",
        "Reloading collections\n",
        "Reloading _collections\n",
        "Reloading operator\n",
        "Reloading keyword\n",
        "Reloading heapq\n",
        "Reloading itertools\n",
        "Reloading bisect\n",
        "Reloading _bisect\n",
        "Reloading _heapq\n",
        "Reloading thread\n",
        "Reloading unittest.difflib\n",
        "Reloading difflib\n",
        "Reloading"
       ]
      },
      {
       "output_type": "stream",
       "stream": "stdout",
       "text": [
        " unittest.pprint\n",
        "Reloading pprint\n",
        "Reloading cStringIO\n",
        "Reloading unittest.re\n",
        "Reloading unittest.warnings\n",
        "Reloading unittest.util\n",
        "Reloading unittest.suite\n",
        "Reloading unittest.loader\n",
        "Reloading unittest.types\n",
        "Reloading unittest.fnmatch\n",
        "Reloading fnmatch\n",
        "Reloading unittest.main\n",
        "Reloading unittest.signals\n",
        "Reloading unittest.signal\n",
        "Reloading signal\n",
        "Reloading unittest.weakref\n",
        "Reloading weakref\n",
        "Reloading exceptions\n",
        "Reloading unittest.runner\n",
        "Reloading unittest.time\n",
        "Reloading time\n",
        "Reloading numpy.testing.decorators\n",
        "Reloading numpy.testing.warnings\n",
        "Reloading numpy.testing.sys\n",
        "Reloading numpy.testing.numpy\n",
        "Reloading numpy.testing.utils\n",
        "Reloading numpy.testing.os\n",
        "Reloading numpy.testing.re\n",
        "Reloading numpy.testing.operator\n",
        "Reloading numpy.testing.types\n",
        "Reloading numpy.testing.nosetester\n",
        "Reloading numpy.testing.numpytest\n",
        "Reloading numpy.testing.traceback\n",
        "Reloading numpy.lib.ufunclike\n",
        "Reloading numpy.lib.index_tricks\n",
        "Reloading numpy.lib.sys\n",
        "Reloading numpy.lib.math\n",
        "Reloading math\n",
        "Reloading numpy.lib.function_base\n",
        "Reloading numpy.lib.warnings\n",
        "Reloading numpy.lib.types\n",
        "Reloading numpy.lib.twodim_base\n",
        "Reloading numpy.lib._compiled_base\n",
        "Reloading numpy.lib.arraysetops\n",
        "Reloading numpy.lib.utils\n",
        "Reloading numpy.lib.os\n",
        "Reloading numpy.lib.re\n",
        "Reloading numpy.matrixlib\n",
        "Reloading numpy.matrixlib.defmatrix\n",
        "Reloading numpy.matrixlib.sys\n",
        "Reloading numpy.matrixlib.numpy\n",
        "Reloading numpy.lib.shape_base\n",
        "Reloading numpy.lib.stride_tricks\n",
        "Reloading numpy.lib.scimath\n",
        "Reloading numpy.lib.polynomial\n",
        "Reloading numpy.linalg\n",
        "Reloading numpy.linalg.info\n",
        "Reloading numpy.linalg.linalg\n",
        "Reloading numpy.linalg.numpy\n",
        "Reloading numpy.lib.npyio\n",
        "Reloading numpy.lib.format\n",
        "Reloading numpy.lib.cPickle\n",
        "Reloading numpy.lib.itertools\n",
        "Reloading numpy.lib.weakref\n",
        "Reloading numpy.lib.operator\n",
        "Reloading numpy.lib._datasource\n",
        "Reloading numpy.lib.shutil\n",
        "Reloading shutil\n",
        "Reloading pwd\n",
        "Reloading grp\n",
        "Reloading numpy.lib._iotools\n",
        "Reloading numpy.lib.__builtin__\n",
        "Reloading numpy.lib.cStringIO\n",
        "Reloading numpy.lib.financial\n",
        "Reloading numpy.lib.arrayterator\n",
        "Reloading numpy.lib.__future__\n",
        "Reloading __future__\n",
        "Reloading"
       ]
      },
      {
       "output_type": "stream",
       "stream": "stdout",
       "text": [
        " numpy.fft\n",
        "Reloading numpy.fft.info\n",
        "Reloading numpy.fft.fftpack\n",
        "Reloading numpy.fft.numpy\n",
        "Reloading numpy.fft.fftpack_lite\n",
        "Reloading numpy.fft.helper\n",
        "Reloading numpy.fft.types\n",
        "Reloading numpy.polynomial\n",
        "Reloading numpy.polynomial.warnings\n",
        "Reloading numpy.polynomial.polynomial\n",
        "Reloading numpy.polynomial.__future__\n",
        "Reloading numpy.polynomial.numpy\n",
        "Reloading numpy.polynomial.polyutils\n",
        "Reloading numpy.polynomial.sys\n",
        "Reloading numpy.polynomial.polytemplate\n",
        "Reloading numpy.polynomial.string\n",
        "Reloading string\n",
        "Reloading strop\n",
        "Reloading numpy.polynomial.chebyshev\n",
        "Reloading numpy.polynomial.legendre\n",
        "Reloading numpy.polynomial.hermite\n",
        "Reloading numpy.polynomial.hermite_e\n",
        "Reloading numpy.polynomial.laguerre\n",
        "Reloading numpy.random\n",
        "Reloading numpy.random.info\n",
        "Reloading numpy.random.mtrand\n",
        "Reloading numpy.random.numpy\n",
        "Reloading numpy.ctypeslib\n",
        "Reloading numpy.ctypes\n",
        "Reloading ctypes\n",
        "Reloading ctypes.os\n",
        "Reloading ctypes.sys\n",
        "Reloading ctypes._ctypes\n",
        "Reloading _ctypes\n",
        "Reloading ctypes.struct\n",
        "Reloading struct\n",
        "Reloading"
       ]
      },
      {
       "ename": "ImportError",
       "evalue": "No module named utility",
       "output_type": "pyerr",
       "traceback": [
        "\u001b[1;31m---------------------------------------------------------------------------\u001b[0m\n\u001b[1;31mImportError\u001b[0m                               Traceback (most recent call last)",
        "\u001b[1;32m<ipython-input-23-67a5e570994b>\u001b[0m in \u001b[0;36m<module>\u001b[1;34m()\u001b[0m\n",
        "\u001b[1;32mC:\\Python27\\lib\\site-packages\\ipython-0.14.dev-py2.7.egg\\IPython\\lib\\deepreload.pyc\u001b[0m in \u001b[0;36mreload\u001b[1;34m(module, exclude)\u001b[0m\n\u001b[0;32m    329\u001b[0m     \u001b[1;32mtry\u001b[0m\u001b[1;33m:\u001b[0m\u001b[1;33m\u001b[0m\u001b[0m\n\u001b[0;32m    330\u001b[0m         \u001b[1;32mwith\u001b[0m \u001b[0mreplace_import_hook\u001b[0m\u001b[1;33m(\u001b[0m\u001b[0mdeep_import_hook\u001b[0m\u001b[1;33m)\u001b[0m\u001b[1;33m:\u001b[0m\u001b[1;33m\u001b[0m\u001b[0m\n\u001b[1;32m--> 331\u001b[1;33m             \u001b[0mret\u001b[0m \u001b[1;33m=\u001b[0m \u001b[0mdeep_reload_hook\u001b[0m\u001b[1;33m(\u001b[0m\u001b[0mmodule\u001b[0m\u001b[1;33m)\u001b[0m\u001b[1;33m\u001b[0m\u001b[0m\n\u001b[0m\u001b[0;32m    332\u001b[0m     \u001b[1;32mfinally\u001b[0m\u001b[1;33m:\u001b[0m\u001b[1;33m\u001b[0m\u001b[0m\n\u001b[0;32m    333\u001b[0m         \u001b[0mfound_now\u001b[0m \u001b[1;33m=\u001b[0m \u001b[1;33m{\u001b[0m\u001b[1;33m}\u001b[0m\u001b[1;33m\u001b[0m\u001b[0m\n",
        "\u001b[1;32mC:\\Python27\\lib\\site-packages\\ipython-0.14.dev-py2.7.egg\\IPython\\lib\\deepreload.pyc\u001b[0m in \u001b[0;36mdeep_reload_hook\u001b[1;34m(m)\u001b[0m\n\u001b[0;32m    299\u001b[0m \u001b[1;33m\u001b[0m\u001b[0m\n\u001b[0;32m    300\u001b[0m     \u001b[1;32mtry\u001b[0m\u001b[1;33m:\u001b[0m\u001b[1;33m\u001b[0m\u001b[0m\n\u001b[1;32m--> 301\u001b[1;33m         \u001b[0mnewm\u001b[0m \u001b[1;33m=\u001b[0m \u001b[0mimp\u001b[0m\u001b[1;33m.\u001b[0m\u001b[0mload_module\u001b[0m\u001b[1;33m(\u001b[0m\u001b[0mname\u001b[0m\u001b[1;33m,\u001b[0m \u001b[0mfp\u001b[0m\u001b[1;33m,\u001b[0m \u001b[0mfilename\u001b[0m\u001b[1;33m,\u001b[0m \u001b[0mstuff\u001b[0m\u001b[1;33m)\u001b[0m\u001b[1;33m\u001b[0m\u001b[0m\n\u001b[0m\u001b[0;32m    302\u001b[0m     \u001b[1;32mexcept\u001b[0m\u001b[1;33m:\u001b[0m\u001b[1;33m\u001b[0m\u001b[0m\n\u001b[0;32m    303\u001b[0m          \u001b[1;31m# load_module probably removed name from modules because of\u001b[0m\u001b[1;33m\u001b[0m\u001b[1;33m\u001b[0m\u001b[0m\n",
        "\u001b[1;32mC:\\Users\\John\\Documents\\Source\\JRNN\\Experiments\\JRNN_Experiments\\src\\ObsUtility.py\u001b[0m in \u001b[0;36m<module>\u001b[1;34m()\u001b[0m\n\u001b[0;32m      5\u001b[0m \u001b[1;32mimport\u001b[0m \u001b[0mpyublas\u001b[0m\u001b[1;33m\u001b[0m\u001b[0m\n\u001b[0;32m      6\u001b[0m \u001b[1;32mimport\u001b[0m \u001b[0mnumpy\u001b[0m\u001b[1;33m\u001b[0m\u001b[0m\n\u001b[1;32m----> 7\u001b[1;33m \u001b[1;32mfrom\u001b[0m \u001b[0mPyJRNN\u001b[0m\u001b[1;33m.\u001b[0m\u001b[0mutility\u001b[0m \u001b[1;32mimport\u001b[0m \u001b[0mDSDatatype\u001b[0m\u001b[1;33m\u001b[0m\u001b[0m\n\u001b[0m\u001b[0;32m      8\u001b[0m \u001b[1;32mimport\u001b[0m \u001b[0mos\u001b[0m\u001b[1;33m\u001b[0m\u001b[0m\n\u001b[0;32m      9\u001b[0m \u001b[1;32mimport\u001b[0m \u001b[0mre\u001b[0m\u001b[1;33m\u001b[0m\u001b[0m\n",
        "\u001b[1;32mC:\\Python27\\lib\\site-packages\\ipython-0.14.dev-py2.7.egg\\IPython\\lib\\deepreload.pyc\u001b[0m in \u001b[0;36mdeep_import_hook\u001b[1;34m(name, globals, locals, fromlist, level)\u001b[0m\n\u001b[0;32m    244\u001b[0m     \u001b[0mtail\u001b[0m \u001b[1;33m=\u001b[0m \u001b[0mhead\u001b[0m\u001b[1;33m\u001b[0m\u001b[0m\n\u001b[0;32m    245\u001b[0m     \u001b[1;32mwhile\u001b[0m \u001b[0mname\u001b[0m\u001b[1;33m:\u001b[0m\u001b[1;33m\u001b[0m\u001b[0m\n\u001b[1;32m--> 246\u001b[1;33m         \u001b[0mtail\u001b[0m\u001b[1;33m,\u001b[0m \u001b[0mname\u001b[0m\u001b[1;33m,\u001b[0m \u001b[0mbuf\u001b[0m \u001b[1;33m=\u001b[0m \u001b[0mload_next\u001b[0m\u001b[1;33m(\u001b[0m\u001b[0mtail\u001b[0m\u001b[1;33m,\u001b[0m \u001b[0mtail\u001b[0m\u001b[1;33m,\u001b[0m \u001b[0mname\u001b[0m\u001b[1;33m,\u001b[0m \u001b[0mbuf\u001b[0m\u001b[1;33m)\u001b[0m\u001b[1;33m\u001b[0m\u001b[0m\n\u001b[0m\u001b[0;32m    247\u001b[0m \u001b[1;33m\u001b[0m\u001b[0m\n\u001b[0;32m    248\u001b[0m     \u001b[1;31m# If tail is None, both get_parent and load_next found\u001b[0m\u001b[1;33m\u001b[0m\u001b[1;33m\u001b[0m\u001b[0m\n",
        "\u001b[1;32mC:\\Python27\\lib\\site-packages\\ipython-0.14.dev-py2.7.egg\\IPython\\lib\\deepreload.pyc\u001b[0m in \u001b[0;36mload_next\u001b[1;34m(mod, altmod, name, buf)\u001b[0m\n\u001b[0;32m    151\u001b[0m \u001b[1;33m\u001b[0m\u001b[0m\n\u001b[0;32m    152\u001b[0m     \u001b[1;32mif\u001b[0m \u001b[0mresult\u001b[0m \u001b[1;32mis\u001b[0m \u001b[0mNone\u001b[0m\u001b[1;33m:\u001b[0m\u001b[1;33m\u001b[0m\u001b[0m\n\u001b[1;32m--> 153\u001b[1;33m         \u001b[1;32mraise\u001b[0m \u001b[0mImportError\u001b[0m\u001b[1;33m(\u001b[0m\u001b[1;34m\"No module named %.200s\"\u001b[0m \u001b[1;33m%\u001b[0m \u001b[0mname\u001b[0m\u001b[1;33m)\u001b[0m\u001b[1;33m\u001b[0m\u001b[0m\n\u001b[0m\u001b[0;32m    154\u001b[0m \u001b[1;33m\u001b[0m\u001b[0m\n\u001b[0;32m    155\u001b[0m     \u001b[1;32mreturn\u001b[0m \u001b[0mresult\u001b[0m\u001b[1;33m,\u001b[0m \u001b[0mnext\u001b[0m\u001b[1;33m,\u001b[0m \u001b[0mbuf\u001b[0m\u001b[1;33m\u001b[0m\u001b[0m\n",
        "\u001b[1;31mImportError\u001b[0m: No module named utility"
       ]
      },
      {
       "output_type": "stream",
       "stream": "stdout",
       "text": [
        " _struct\n",
        "Reloading ctypes.ctypes\n",
        "Reloading ctypes._endian\n",
        "Reloading numpy.core.ctypes\n",
        "Reloading numpy.ma\n",
        "Reloading numpy.ma.core\n",
        "Reloading numpy.ma.cPickle\n",
        "Reloading numpy.ma.numpy\n",
        "Reloading numpy.ma.warnings\n",
        "Reloading numpy.ma.sys\n",
        "Reloading numpy.ma.extras\n",
        "Reloading numpy.ma.itertools\n",
        "Reloading numpy.__builtin__\n",
        "Reloading pyublas.pyublas\n",
        "Reloading pyublas._internal\n",
        "Reloading PyJRNN.utility\n"
       ]
      }
     ],
     "prompt_number": 23
    },
    {
     "cell_type": "code",
     "collapsed": false,
     "input": [],
     "language": "python",
     "metadata": {},
     "outputs": []
    }
   ],
   "metadata": {}
  }
 ]
}