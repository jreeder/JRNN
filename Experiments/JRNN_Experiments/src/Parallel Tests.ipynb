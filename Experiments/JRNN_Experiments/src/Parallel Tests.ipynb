{
 "metadata": {
  "name": "Parallel Tests"
 },
 "nbformat": 3,
 "nbformat_minor": 0,
 "worksheets": [
  {
   "cells": [
    {
     "cell_type": "code",
     "collapsed": false,
     "input": [
      "from IPython.parallel import Client"
     ],
     "language": "python",
     "metadata": {},
     "outputs": [],
     "prompt_number": 1
    },
    {
     "cell_type": "code",
     "collapsed": false,
     "input": [
      "rc = Client(profile=\"cluster\")\n",
      "rc.ids"
     ],
     "language": "python",
     "metadata": {},
     "outputs": [
      {
       "output_type": "pyout",
       "prompt_number": 2,
       "text": [
        "[0, 1, 2]"
       ]
      }
     ],
     "prompt_number": 2
    },
    {
     "cell_type": "code",
     "collapsed": false,
     "input": [
      "def parallelTest(user, scenario, maxEpochs=2000, numFrames=900, numCand=4, numRev=5, numRevTrainRatio=1, indexes = [1,2,3,4], distNums = (), reshuffle=False):\n",
      "    global sortField\n",
      "    scenarios = ObsUtility.LoadUserData(user)\n",
      "    settings = ObsUtility.LoadUserSettings(user)\n",
      "    training = scenarios[scenario]['training']\n",
      "    training.sort(key=lambda x: int(ObsUtility.sortField.search(x).group(1)))\n",
      "    data = ObsUtility.LoadTrainingData(training)\n",
      "    dstuple = ObsUtility.CreateUserDatasets(data, numFrames, indexes, distNums, True, True, settings) # this is going to do splitouts by default and not normalize with this config\n",
      "    del scenarios\n",
      "    del training\n",
      "    del data\n",
      "    numInputs = dstuple[0].numInputs\n",
      "    numOutputs = dstuple[0].numOutputs\n",
      "    revCC = PyJRNN.trainers.RevCCTrainer(numInputs,numOutputs,numCand)\n",
      "    revCC.revparams.numRevTrainRatio = numRevTrainRatio\n",
      "    revCC.revparams.numRev = numRev\n",
      "    \n",
      "    returnVal = ObsUtility.ConsolidatedTrainingTest(dstuple, 1, revCC, maxEpochs, reshuffle)\n",
      "    for ds in dstuple[:]:\n",
      "        ds.Clear()\n",
      "        del ds\n",
      "\n",
      "    return returnVal\n",
      "    #return \"hello world\""
     ],
     "language": "python",
     "metadata": {},
     "outputs": [],
     "prompt_number": 3
    },
    {
     "cell_type": "code",
     "collapsed": false,
     "input": [
      "with rc[:].sync_imports():\n",
      "    import PyJRNN\n",
      "    import pyublas\n",
      "    import numpy\n",
      "    from PyJRNN.utility import DSDatatype\n",
      "    import os\n",
      "    import re\n",
      "    import json\n",
      "    import ObsUtility\n",
      "    from ObsUtility import userspath, UserSettings\n",
      "    #from ObsUtility import userspath, LoadUserData, LoadTrainingData, CreateUserDatasets, ConsolidatedTrainingTest, sortField, LoadUserSettings, SplitAndAdjustObsOutputs, Norm01Array, CreateRanges, UserSettings, GetIndexFromRange, DiscritizeIntoRanges"
     ],
     "language": "python",
     "metadata": {},
     "outputs": [
      {
       "output_type": "stream",
       "stream": "stdout",
       "text": [
        "importing PyJRNN on engine(s)\n",
        "importing pyublas on engine(s)"
       ]
      },
      {
       "output_type": "stream",
       "stream": "stdout",
       "text": [
        "\n",
        "importing numpy on engine(s)\n",
        "importing DSDatatype from PyJRNN.utility on engine(s)\n",
        "importing os on engine(s)\n",
        "importing re on engine(s)\n",
        "importing json on engine(s)\n",
        "importing ObsUtility on engine(s)"
       ]
      },
      {
       "output_type": "stream",
       "stream": "stdout",
       "text": [
        "\n",
        "importing userspath,UserSettings from ObsUtility on engine(s)\n"
       ]
      }
     ],
     "prompt_number": 4
    },
    {
     "cell_type": "code",
     "collapsed": false,
     "input": [
      "maxEpochs=300\n",
      "numFrames=900\n",
      "trialNum=3 # 1 was with 2 outputs - 2 is with 4 outputs - 3 is 4 outputs and Normalization turned on. \n",
      "numRuns=30\n",
      "indexes=[1,2,3,4]\n",
      "distNums=(100,200,900)"
     ],
     "language": "python",
     "metadata": {},
     "outputs": [],
     "prompt_number": 5
    },
    {
     "cell_type": "code",
     "collapsed": false,
     "input": [
      "lbv = rc.load_balanced_view()"
     ],
     "language": "python",
     "metadata": {},
     "outputs": [],
     "prompt_number": 6
    },
    {
     "cell_type": "code",
     "collapsed": false,
     "input": [
      "async_results = []\n",
      "for i in range(numRuns):\n",
      "    ar = lbv.apply_async(parallelTest, 'Cong', 'Chase - 16Nov2012171621', maxEpochs=maxEpochs, numFrames=numFrames, indexes=indexes, distNums=distNums)\n",
      "    async_results.append(ar)"
     ],
     "language": "python",
     "metadata": {},
     "outputs": [],
     "prompt_number": 7
    },
    {
     "cell_type": "code",
     "collapsed": false,
     "input": [
      "async_results2 = [] \n",
      "for i in range(numRuns):\n",
      "    ar = lbv.apply_async(parallelTest, 'Yinjie', 'Chase - 16Nov2012165154', maxEpochs=maxEpochs, numFrames=numFrames, indexes=indexes, distNums=distNums)\n",
      "    async_results2.append(ar)"
     ],
     "language": "python",
     "metadata": {},
     "outputs": [],
     "prompt_number": 8
    },
    {
     "cell_type": "code",
     "collapsed": false,
     "input": [
      "async_results3 = []\n",
      "for i in range(numRuns):\n",
      "    ar = lbv.apply_async(parallelTest, 'jcginn', 'Chase - 13Nov2012223245', maxEpochs=maxEpochs, numFrames=numFrames, indexes=indexes, distNums=distNums)\n",
      "    async_results3.append(ar)"
     ],
     "language": "python",
     "metadata": {},
     "outputs": [],
     "prompt_number": 9
    },
    {
     "cell_type": "code",
     "collapsed": false,
     "input": [
      "#sum([ar.progress for ar in async_results]) / float(len(async_results))"
     ],
     "language": "python",
     "metadata": {},
     "outputs": []
    },
    {
     "cell_type": "code",
     "collapsed": false,
     "input": [
      "rc.wait(async_results)\n",
      "r = [ar.get() for ar in async_results]\n",
      "import json\n",
      "json.dump(r, open('Notebook Data/ObsResultCong-Ep{0}-Nf{1}-Nr{2}-Tr{3}-Ntr{4}-Nv{5}-Nte{6}.json'.format(maxEpochs, numFrames, numRuns, trialNum, distNums[0], distNums[1], distNums[2]), 'w'))\n",
      "rc.wait(async_results2)\n",
      "r2 = [ar.get() for ar in async_results2]\n",
      "json.dump(r2, open('Notebook Data/ObsResultYin-Ep{0}-Nf{1}-Nr{2}-Tr{3}-Ntr{4}-Nv{5}-Nte{6}.json'.format(maxEpochs, numFrames, numRuns, trialNum, distNums[0], distNums[1], distNums[2]), 'w'))\n",
      "rc.wait(async_results3)\n",
      "r3 = [ar.get() for ar in async_results3]\n",
      "json.dump(r3, open('Notebook Data/ObsResultJames-Ep{0}-Nf{1}-Nr{2}-Tr{3}-Ntr{4}-Nv{5}-Nte{6}.json'.format(maxEpochs, numFrames, numRuns, trialNum, distNums[0], distNums[1], distNums[2]), 'w'))"
     ],
     "language": "python",
     "metadata": {},
     "outputs": [],
     "prompt_number": 10
    },
    {
     "cell_type": "code",
     "collapsed": false,
     "input": [
      "result = [ar.get() for ar in async_results if ar.progress == 1]\n",
      "print result"
     ],
     "language": "python",
     "metadata": {},
     "outputs": []
    },
    {
     "cell_type": "code",
     "collapsed": false,
     "input": [
      "[(ar.metadata.completed - ar.metadata.started).total_seconds() / float(60) for ar in async_results]"
     ],
     "language": "python",
     "metadata": {},
     "outputs": [
      {
       "output_type": "pyout",
       "prompt_number": 11,
       "text": [
        "[0.6958666666666667,\n",
        " 0.6956166666666667,\n",
        " 0.7601666666666667,\n",
        " 0.6575500000000001,\n",
        " 0.6084333333333334,\n",
        " 0.4219,\n",
        " 0.62595,\n",
        " 0.61805,\n",
        " 0.8091166666666666,\n",
        " 0.4953166666666667,\n",
        " 0.5735166666666667,\n",
        " 0.5541333333333333,\n",
        " 0.7455833333333334,\n",
        " 0.5198166666666667,\n",
        " 0.5652333333333334,\n",
        " 0.5723833333333334,\n",
        " 0.5216999999999999,\n",
        " 0.4683,\n",
        " 0.5694166666666667,\n",
        " 0.4404166666666667,\n",
        " 0.5140166666666667,\n",
        " 0.7302,\n",
        " 0.52655,\n",
        " 0.39913333333333334,\n",
        " 0.6232500000000001,\n",
        " 0.5026333333333334,\n",
        " 0.4457833333333333,\n",
        " 0.8387333333333333,\n",
        " 0.5300166666666667,\n",
        " 0.8151499999999999]"
       ]
      }
     ],
     "prompt_number": 11
    },
    {
     "cell_type": "code",
     "collapsed": false,
     "input": [
      "from config import *"
     ],
     "language": "python",
     "metadata": {},
     "outputs": []
    },
    {
     "cell_type": "code",
     "collapsed": false,
     "input": [
      "tr1erravg, tr1errerr = CalcMeanAndError([x[0]['tr1.testError'] for x in result])\n",
      "tr2erravg, tr2errerr = CalcMeanAndError([x[0]['tr2.testError'] for x in result])\n",
      "tr3erravg, tr2errerr = CalcMeanAndError([x[0]['tr3.testError'] for x in result])"
     ],
     "language": "python",
     "metadata": {},
     "outputs": []
    },
    {
     "cell_type": "code",
     "collapsed": false,
     "input": [
      "print tr1erravg, tr2erravg, tr3erravg"
     ],
     "language": "python",
     "metadata": {},
     "outputs": []
    },
    {
     "cell_type": "code",
     "collapsed": false,
     "input": [
      "rc[:].clear()"
     ],
     "language": "python",
     "metadata": {},
     "outputs": [],
     "prompt_number": 12
    },
    {
     "cell_type": "code",
     "collapsed": false,
     "input": [
      "rc[:].shutdown()"
     ],
     "language": "python",
     "metadata": {},
     "outputs": []
    },
    {
     "cell_type": "code",
     "collapsed": false,
     "input": [
      "rc[:].apply(dreload(ObsUtility))"
     ],
     "language": "python",
     "metadata": {},
     "outputs": []
    },
    {
     "cell_type": "code",
     "collapsed": false,
     "input": [],
     "language": "python",
     "metadata": {},
     "outputs": []
    }
   ],
   "metadata": {}
  }
 ]
}