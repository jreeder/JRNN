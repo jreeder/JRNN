{
 "metadata": {
  "name": "Parallel Tests"
 },
 "nbformat": 3,
 "nbformat_minor": 0,
 "worksheets": [
  {
   "cells": [
    {
     "cell_type": "code",
     "collapsed": false,
     "input": [
      "from IPython.parallel import Client"
     ],
     "language": "python",
     "metadata": {},
     "outputs": [],
     "prompt_number": 1
    },
    {
     "cell_type": "code",
     "collapsed": false,
     "input": [
      "rc = Client(profile=\"cluster\")\n",
      "rc.ids"
     ],
     "language": "python",
     "metadata": {},
     "outputs": [
      {
       "output_type": "pyout",
       "prompt_number": 21,
       "text": [
        "[0, 1, 2, 3, 4, 5, 6]"
       ]
      }
     ],
     "prompt_number": 21
    },
    {
     "cell_type": "code",
     "collapsed": false,
     "input": [
      "def parallelTest(user, scenario, maxEpochs=2000, numFrames=900, numCand=4, numRev=5, numRevTrainRatio=1, reshuffle=False):\n",
      "    global sortField\n",
      "    scenarios = LoadUserData(user)\n",
      "    training = scenarios[scenario]['training']\n",
      "    training.sort(key=lambda x: int(sortField.search(x).group(1)))\n",
      "    data = LoadTrainingData(training)\n",
      "    \n",
      "    dstuple = CreateUserDatasets(data, numFrames)\n",
      "    revCC = PyJRNN.trainers.RevCCTrainer(21,2,numCand)\n",
      "    revCC.revparams.numRevTrainRatio = numRevTrainRatio\n",
      "    revCC.revparams.numRev = numRev\n",
      "    \n",
      "    return ConsolidatedTrainingTest(dstuple, 1, revCC, maxEpochs, reshuffle)\n",
      "    #return \"hello world\""
     ],
     "language": "python",
     "metadata": {},
     "outputs": [],
     "prompt_number": 22
    },
    {
     "cell_type": "code",
     "collapsed": false,
     "input": [
      "with rc[:].sync_imports():\n",
      "    import PyJRNN\n",
      "    import pyublas\n",
      "    import numpy\n",
      "    from PyJRNN.utility import DSDatatype\n",
      "    import os\n",
      "    import re\n",
      "    import json\n",
      "    from ObsUtility import userspath, LoadUserData, LoadTrainingData, CreateUserDatasets, ConsolidatedTrainingTest, sortField"
     ],
     "language": "python",
     "metadata": {},
     "outputs": [
      {
       "output_type": "stream",
       "stream": "stdout",
       "text": [
        "importing PyJRNN on engine(s)\n",
        "importing pyublas on engine(s)\n",
        "importing numpy on engine(s)\n",
        "importing DSDatatype from PyJRNN.utility on engine(s)\n",
        "importing os on engine(s)\n",
        "importing re on engine(s)\n",
        "importing json on engine(s)\n",
        "importing userspath,LoadUserData,LoadTrainingData,CreateUserDatasets,ConsolidatedTrainingTest,sortField from ObsUtility on engine(s)\n"
       ]
      }
     ],
     "prompt_number": 23
    },
    {
     "cell_type": "code",
     "collapsed": false,
     "input": [
      "lbv = rc.load_balanced_view()\n",
      "async_results = []\n",
      "for i in range(30):\n",
      "    ar = lbv.apply_async(parallelTest, 'Cong', 'Chase - 16Nov2012171621', maxEpochs=500, numFrames=100)\n",
      "    async_results.append(ar)"
     ],
     "language": "python",
     "metadata": {},
     "outputs": [],
     "prompt_number": 24
    },
    {
     "cell_type": "code",
     "collapsed": false,
     "input": [
      "async_results2 = [] \n",
      "for i in range(30):\n",
      "    ar = lbv.apply_async(parallelTest, 'Yinjie', 'Chase - 16Nov2012165154', maxEpochs=500, numFrames=100)\n",
      "    async_results2.append(ar)"
     ],
     "language": "python",
     "metadata": {},
     "outputs": [],
     "prompt_number": 25
    },
    {
     "cell_type": "code",
     "collapsed": false,
     "input": [
      "sum([ar.progress for ar in async_results]) / float(len(async_results))"
     ],
     "language": "python",
     "metadata": {},
     "outputs": [
      {
       "output_type": "pyout",
       "prompt_number": 29,
       "text": [
        "0.0"
       ]
      }
     ],
     "prompt_number": 29
    },
    {
     "cell_type": "code",
     "collapsed": false,
     "input": [
      "[ar.progress for ar in async_results2]"
     ],
     "language": "python",
     "metadata": {},
     "outputs": [
      {
       "output_type": "pyout",
       "prompt_number": 28,
       "text": [
        "[0,\n",
        " 0,\n",
        " 0,\n",
        " 0,\n",
        " 0,\n",
        " 0,\n",
        " 0,\n",
        " 0,\n",
        " 0,\n",
        " 0,\n",
        " 0,\n",
        " 0,\n",
        " 0,\n",
        " 0,\n",
        " 0,\n",
        " 0,\n",
        " 0,\n",
        " 0,\n",
        " 0,\n",
        " 0,\n",
        " 0,\n",
        " 0,\n",
        " 0,\n",
        " 0,\n",
        " 0,\n",
        " 0,\n",
        " 0,\n",
        " 0,\n",
        " 0,\n",
        " 0]"
       ]
      }
     ],
     "prompt_number": 28
    },
    {
     "cell_type": "code",
     "collapsed": false,
     "input": [
      "rc.wait(async_results)\n",
      "r = [ar.get() for ar in async_results]"
     ],
     "language": "python",
     "metadata": {},
     "outputs": [],
     "prompt_number": 35
    },
    {
     "cell_type": "code",
     "collapsed": false,
     "input": [
      "import json\n",
      "json.dump(r, open('Notebook Data/ObsResult1.json', 'w'))"
     ],
     "language": "python",
     "metadata": {},
     "outputs": [],
     "prompt_number": 39
    },
    {
     "cell_type": "code",
     "collapsed": false,
     "input": [],
     "language": "python",
     "metadata": {},
     "outputs": []
    }
   ],
   "metadata": {}
  }
 ]
}