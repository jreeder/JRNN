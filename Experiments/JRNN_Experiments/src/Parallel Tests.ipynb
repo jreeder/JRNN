{
 "metadata": {
  "name": "Parallel Tests"
 },
 "nbformat": 3,
 "nbformat_minor": 0,
 "worksheets": [
  {
   "cells": [
    {
     "cell_type": "code",
     "collapsed": false,
     "input": [
      "from IPython.parallel import Client"
     ],
     "language": "python",
     "metadata": {},
     "outputs": []
    },
    {
     "cell_type": "code",
     "collapsed": false,
     "input": [
      "rc = Client(profile=\"cluster\")\n",
      "rc.ids"
     ],
     "language": "python",
     "metadata": {},
     "outputs": []
    },
    {
     "cell_type": "code",
     "collapsed": false,
     "input": [
      "def parallelTest(user, scenario, maxEpochs=2000, numFrames=900, numCand=4, numRuns=1, numRev=5, numRevTrainRatio=1, indexes = [1,2,3,4], distNums = (), reshuffle=False, useFannedTurn = False, fileName=\"\"):\n",
      "    global sortField\n",
      "    scenarios = ObsUtility.LoadUserData(user)\n",
      "    settings = ObsUtility.LoadUserSettings(user)\n",
      "    training = scenarios[scenario]['training']\n",
      "    training.sort(key=lambda x: int(ObsUtility.sortField.search(x).group(1)))\n",
      "    data = ObsUtility.LoadTrainingData(training)\n",
      "    dstuple = ObsUtility.CreateUserDatasets(data, numFrames, indexes, distNums, True, True, settings, useFannedTurn) # this is going to do splitouts by default and normalize with this config\n",
      "    del scenarios\n",
      "    del training\n",
      "    del data\n",
      "    numInputs = dstuple[0].numInputs\n",
      "    numOutputs = dstuple[0].numOutputs\n",
      "    revCC = PyJRNN.trainers.RevCCTrainer(numInputs,numOutputs,numCand)\n",
      "    revCC.revparams.numRevTrainRatio = numRevTrainRatio\n",
      "    if numRev == -1:\n",
      "        revCC.revparams.bufferSize = 0\n",
      "        numRev = 0\n",
      "    revCC.revparams.numRev = numRev\n",
      "    \n",
      "    winnerGroups = []\n",
      "    if useFannedTurn:\n",
      "        winnerGroups = [[0,1],[2,3,4,5,6,7,8]]\n",
      "    else:\n",
      "        winnerGroups = [[0,1],[2,3]]\n",
      "        \n",
      "    returnVal = ObsUtility.ConsolidatedTrainingTest(dstuple, numRuns, revCC, maxEpochs, reshuffle, winnerGroups)\n",
      "    for ds in dstuple[:]:\n",
      "        ds.Clear()\n",
      "        del ds\n",
      "\n",
      "    if fileName != \"\":\n",
      "        with open(fileName, 'w') as fileh:\n",
      "            json.dump(returnVal, fileh)\n",
      "    \n",
      "    return returnVal\n",
      "    #return \"hello world\""
     ],
     "language": "python",
     "metadata": {},
     "outputs": []
    },
    {
     "cell_type": "code",
     "collapsed": false,
     "input": [
      "with rc[:].sync_imports():\n",
      "    import PyJRNN\n",
      "    import pyublas\n",
      "    import numpy\n",
      "    from PyJRNN.utility import DSDatatype\n",
      "    import os\n",
      "    import re\n",
      "    import json\n",
      "    import ObsUtility\n",
      "    from ObsUtility import UserSettings, userspath\n",
      "    #from ObsUtility import userspath, LoadUserData, LoadTrainingData, CreateUserDatasets, ConsolidatedTrainingTest, sortField, LoadUserSettings, SplitAndAdjustObsOutputs, Norm01Array, CreateRanges, UserSettings, GetIndexFromRange, DiscritizeIntoRanges"
     ],
     "language": "python",
     "metadata": {},
     "outputs": []
    },
    {
     "cell_type": "heading",
     "level": 1,
     "metadata": {},
     "source": [
      "Single Parameter Set Test"
     ]
    },
    {
     "cell_type": "code",
     "collapsed": false,
     "input": [
      "maxEpochs=1000\n",
      "numFrames=900\n",
      "trialNum=6 # 1 was with 2 outputs - 2 is with 4 outputs - 3 is 4 outputs and Normalization turned on. - 4 has test with winner - 5 has test with winner and many varied parameters. - 6 has caching turned off. It probably borked my results \n",
      "numRuns=3\n",
      "indexes=[1,2,3,4]\n",
      "distNums=(50,200,900)\n",
      "numRev=2\n",
      "reshuffle=False\n",
      "useFannedTurn=True"
     ],
     "language": "python",
     "metadata": {},
     "outputs": []
    },
    {
     "cell_type": "code",
     "collapsed": false,
     "input": [
      "\"{0}\".format(indexes)"
     ],
     "language": "python",
     "metadata": {},
     "outputs": []
    },
    {
     "cell_type": "code",
     "collapsed": false,
     "input": [
      "lbv = rc.load_balanced_view()"
     ],
     "language": "python",
     "metadata": {},
     "outputs": []
    },
    {
     "cell_type": "code",
     "collapsed": false,
     "input": [
      "async_results = []\n",
      "for i in range(numRuns):\n",
      "    ar = lbv.apply_async(parallelTest, 'Cong', 'Chase - 16Nov2012171621', maxEpochs=maxEpochs, numFrames=numFrames, indexes=indexes, distNums=distNums, numRev=numRev, reshuffle=reshuffle, useFannedTurn=useFannedTurn)\n",
      "    async_results.append(ar)"
     ],
     "language": "python",
     "metadata": {},
     "outputs": []
    },
    {
     "cell_type": "code",
     "collapsed": false,
     "input": [
      "async_results2 = [] \n",
      "for i in range(numRuns):\n",
      "    ar = lbv.apply_async(parallelTest, 'Yinjie', 'Chase - 16Nov2012165154', maxEpochs=maxEpochs, numFrames=numFrames, indexes=indexes, distNums=distNums, numRev=numRev, reshuffle=reshuffle, useFannedTurn=useFannedTurn)\n",
      "    async_results2.append(ar)"
     ],
     "language": "python",
     "metadata": {},
     "outputs": []
    },
    {
     "cell_type": "code",
     "collapsed": false,
     "input": [
      "async_results3 = []\n",
      "for i in range(numRuns):\n",
      "    ar = lbv.apply_async(parallelTest, 'jcginn', 'Chase - 13Nov2012223245', maxEpochs=maxEpochs, numFrames=numFrames, indexes=indexes, distNums=distNums, numRev=numRev, reshuffle=reshuffle, useFannedTurn=useFannedTurn)\n",
      "    async_results3.append(ar)"
     ],
     "language": "python",
     "metadata": {},
     "outputs": []
    },
    {
     "cell_type": "code",
     "collapsed": false,
     "input": [
      "sum([ar.progress for ar in async_results]) / float(len(async_results))"
     ],
     "language": "python",
     "metadata": {},
     "outputs": []
    },
    {
     "cell_type": "raw",
     "metadata": {},
     "source": [
      "rc.wait(async_results)\n",
      "r = [ar.get() for ar in async_results]\n",
      "import json\n",
      "json.dump(r, open('Notebook Data/ObsResultCong-Ep{0}-Nf{1}-Nr{2}-Tr{3}-Ntr{4}-Nv{5}-Nte{6}-Nrev{7}-In{8}-Res{9}-useF{10}.json'.format(maxEpochs, numFrames, numRuns, trialNum, distNums[0], distNums[1], distNums[2], numRev, indexes, reshuffle, useFannedTurn), 'w'))\n",
      "rc.wait(async_results2)\n",
      "r2 = [ar.get() for ar in async_results2]\n",
      "json.dump(r2, open('Notebook Data/ObsResultYin-Ep{0}-Nf{1}-Nr{2}-Tr{3}-Ntr{4}-Nv{5}-Nte{6}-Nrev{7}-In{8}-Res{9}-useF{10}.json'.format(maxEpochs, numFrames, numRuns, trialNum, distNums[0], distNums[1], distNums[2], numRev, indexes, reshuffle, useFannedTurn), 'w'))\n",
      "rc.wait(async_results3)\n",
      "r3 = [ar.get() for ar in async_results3]\n",
      "json.dump(r3, open('Notebook Data/ObsResultJames-Ep{0}-Nf{1}-Nr{2}-Tr{3}-Ntr{4}-Nv{5}-Nte{6}-Nrev{7}-In{8}-Res{9}-useF{10}.json'.format(maxEpochs, numFrames, numRuns, trialNum, distNums[0], distNums[1], distNums[2], numRev, indexes, reshuffle, useFannedTurn), 'w'))"
     ]
    },
    {
     "cell_type": "code",
     "collapsed": false,
     "input": [
      "result = [ar.get() for ar in async_results if ar.progress == 1]\n",
      "print result"
     ],
     "language": "python",
     "metadata": {},
     "outputs": []
    },
    {
     "cell_type": "code",
     "collapsed": false,
     "input": [
      "rc.shutdown(hub=True)"
     ],
     "language": "python",
     "metadata": {},
     "outputs": []
    },
    {
     "cell_type": "code",
     "collapsed": false,
     "input": [
      "[(ar.metadata.completed - ar.metadata.started).total_seconds() / float(60) for ar in async_results]"
     ],
     "language": "python",
     "metadata": {},
     "outputs": []
    },
    {
     "cell_type": "code",
     "collapsed": false,
     "input": [
      "from config import *"
     ],
     "language": "python",
     "metadata": {},
     "outputs": []
    },
    {
     "cell_type": "raw",
     "metadata": {},
     "source": [
      "tr1erravg, tr1errerr = CalcMeanAndError([x[0]['tr1.winError']['totalErrorRate'] for x in result])\n",
      "tr2erravg, tr2errerr = CalcMeanAndError([x[0]['tr2.winError']['totalErrorRate'] for x in result])\n",
      "tr3erravg, tr2errerr = CalcMeanAndError([x[0]['tr3.winError']['totalErrorRate'] for x in result])"
     ]
    },
    {
     "cell_type": "code",
     "collapsed": false,
     "input": [
      "tr1erravg, tr1errerr = CalcMeanAndError([x[0]['tr1.winError']['totalMSE'] for x in result])\n",
      "tr2erravg, tr2errerr = CalcMeanAndError([x[0]['tr2.winError']['totalMSE'] for x in result])\n",
      "tr3erravg, tr2errerr = CalcMeanAndError([x[0]['tr3.winError']['totalMSE'] for x in result])"
     ],
     "language": "python",
     "metadata": {},
     "outputs": []
    },
    {
     "cell_type": "code",
     "collapsed": false,
     "input": [
      "print tr1erravg, tr2erravg, tr3erravg"
     ],
     "language": "python",
     "metadata": {},
     "outputs": []
    },
    {
     "cell_type": "code",
     "collapsed": false,
     "input": [
      "result[0]"
     ],
     "language": "python",
     "metadata": {},
     "outputs": []
    },
    {
     "cell_type": "code",
     "collapsed": false,
     "input": [
      "rc[:].clear()"
     ],
     "language": "python",
     "metadata": {},
     "outputs": []
    },
    {
     "cell_type": "code",
     "collapsed": false,
     "input": [
      "rc[:].shutdown()"
     ],
     "language": "python",
     "metadata": {},
     "outputs": []
    },
    {
     "cell_type": "code",
     "collapsed": false,
     "input": [
      "rc[:].apply(dreload(ObsUtility))"
     ],
     "language": "python",
     "metadata": {},
     "outputs": []
    },
    {
     "cell_type": "heading",
     "level": 1,
     "metadata": {},
     "source": [
      "Large Parallel Test"
     ]
    },
    {
     "cell_type": "code",
     "collapsed": false,
     "input": [
      "rc.purge_results('all')\n",
      "rc[:].clear()"
     ],
     "language": "python",
     "metadata": {},
     "outputs": []
    },
    {
     "cell_type": "code",
     "collapsed": false,
     "input": [
      "maxEpochs=1000 # 100 for tests 1000+ for real runs\n",
      "numFrames=900\n",
      "trialNum=6 # 1 was with 2 outputs - 2 is with 4 outputs - 3 is 4 outputs and Normalization turned on. - 4 has test with winner - 5 has test with winner and many varied parameters. - 6 Caching turned off. Probably borked results\n",
      "numRuns=10 # 20 for normal runs\n",
      "indexes=[1,2,3,4]\n",
      "distNums=[50,200,900]\n",
      "numRev=5\n",
      "reshuffle=False\n",
      "useFannedTurn=False\n",
      "batchNum=0"
     ],
     "language": "python",
     "metadata": {},
     "outputs": []
    },
    {
     "cell_type": "code",
     "collapsed": false,
     "input": [
      "lbv = rc.load_balanced_view()"
     ],
     "language": "python",
     "metadata": {},
     "outputs": []
    },
    {
     "cell_type": "code",
     "collapsed": false,
     "input": [
      "async_results = []\n",
      "resultFileNames = []\n",
      "for useFannedTurn in [True, False]:\n",
      "    #for reshuffle in [True, False]:\n",
      "    for numRev in [-1, 1, 2, 4, 8]: # [1, 2, 4, 8, 12]\n",
      "        for numT in [50, 100, 200]: #[50, 100, 200, 500]\n",
      "            distNums[0] = numT\n",
      "            fn = 'Notebook Data/ObsResult{11}-Ep{0}-Nf{1}-Nr{2}-Tr{3}-Ntr{4}-Nv{5}-Nte{6}-Nrev{7}-In{8}-Res{9}-useF{10}_{12}.json'.format(maxEpochs, numFrames, numRuns, trialNum, distNums[0], distNums[1], distNums[2], numRev, indexes, reshuffle, useFannedTurn, 'Cong', batchNum)\n",
      "            ar = lbv.apply_async(parallelTest, 'Cong', 'Chase - 16Nov2012171621', maxEpochs=maxEpochs, numFrames=numFrames, indexes=indexes, numRuns=numRuns, distNums=distNums, numRev=numRev, reshuffle=reshuffle, useFannedTurn=useFannedTurn, fileName=fn)\n",
      "            async_results.append(ar)\n",
      "                \n",
      "            resultFileNames.append(fn)\n",
      "                \n",
      "            fn = 'Notebook Data/ObsResult{11}-Ep{0}-Nf{1}-Nr{2}-Tr{3}-Ntr{4}-Nv{5}-Nte{6}-Nrev{7}-In{8}-Res{9}-useF{10}_{12}.json'.format(maxEpochs, numFrames, numRuns, trialNum, distNums[0], distNums[1], distNums[2], numRev, indexes, reshuffle, useFannedTurn, 'Yinjie', batchNum)\n",
      "            ar = lbv.apply_async(parallelTest, 'Yinjie', 'Chase - 16Nov2012165154', maxEpochs=maxEpochs, numFrames=numFrames, indexes=indexes, numRuns=numRuns, distNums=distNums, numRev=numRev, reshuffle=reshuffle, useFannedTurn=useFannedTurn, fileName=fn)\n",
      "            async_results.append(ar)\n",
      "                \n",
      "            resultFileNames.append(fn)\n",
      "                \n",
      "            fn = 'Notebook Data/ObsResult{11}-Ep{0}-Nf{1}-Nr{2}-Tr{3}-Ntr{4}-Nv{5}-Nte{6}-Nrev{7}-In{8}-Res{9}-useF{10}_{12}.json'.format(maxEpochs, numFrames, numRuns, trialNum, distNums[0], distNums[1], distNums[2], numRev, indexes, reshuffle, useFannedTurn, 'jcginn', batchNum)\n",
      "            ar = lbv.apply_async(parallelTest, 'jcginn', 'Chase - 13Nov2012223245', maxEpochs=maxEpochs, numFrames=numFrames, indexes=indexes, numRuns=numRuns, distNums=distNums, numRev=numRev, reshuffle=reshuffle, useFannedTurn=useFannedTurn, fileName=fn)\n",
      "            async_results.append(ar)\n",
      "                \n",
      "            resultFileNames.append(fn)"
     ],
     "language": "python",
     "metadata": {},
     "outputs": []
    },
    {
     "cell_type": "raw",
     "metadata": {},
     "source": [
      "rc.wait(async_results)\n",
      "import json\n",
      "for (filename, ar) in zip(resultFileNames, async_results):\n",
      "    json.dump(ar.get(), open(filename, 'w'))"
     ]
    },
    {
     "cell_type": "code",
     "collapsed": false,
     "input": [
      "sum([ar.progress for ar in async_results]) / (len(async_results)*1.0)"
     ],
     "language": "python",
     "metadata": {},
     "outputs": []
    },
    {
     "cell_type": "code",
     "collapsed": false,
     "input": [
      "[str(ar.completed - ar.started) for ar in async_results if ar.progress == 1]"
     ],
     "language": "python",
     "metadata": {},
     "outputs": []
    },
    {
     "cell_type": "code",
     "collapsed": false,
     "input": [
      "ar = async_results[0]"
     ],
     "language": "python",
     "metadata": {},
     "outputs": []
    },
    {
     "cell_type": "code",
     "collapsed": false,
     "input": [
      "rc.spin_thread()"
     ],
     "language": "python",
     "metadata": {},
     "outputs": []
    },
    {
     "cell_type": "code",
     "collapsed": false,
     "input": [
      "status = rc.queue_status()\n",
      "status"
     ],
     "language": "python",
     "metadata": {},
     "outputs": []
    },
    {
     "cell_type": "code",
     "collapsed": false,
     "input": [
      "tmpR = rc.get_result(status[0]['completed'][0])"
     ],
     "language": "python",
     "metadata": {},
     "outputs": []
    },
    {
     "cell_type": "code",
     "collapsed": false,
     "input": [
      "rc.result_status(status[0]['completed'][0])"
     ],
     "language": "python",
     "metadata": {},
     "outputs": []
    },
    {
     "cell_type": "code",
     "collapsed": false,
     "input": [
      "rc.history"
     ],
     "language": "python",
     "metadata": {},
     "outputs": []
    },
    {
     "cell_type": "code",
     "collapsed": false,
     "input": [
      "rc.outstanding"
     ],
     "language": "python",
     "metadata": {},
     "outputs": []
    },
    {
     "cell_type": "code",
     "collapsed": false,
     "input": [
      "rc.shutdown(hub=True)"
     ],
     "language": "python",
     "metadata": {},
     "outputs": []
    },
    {
     "cell_type": "code",
     "collapsed": false,
     "input": [],
     "language": "python",
     "metadata": {},
     "outputs": []
    }
   ],
   "metadata": {}
  }
 ]
}