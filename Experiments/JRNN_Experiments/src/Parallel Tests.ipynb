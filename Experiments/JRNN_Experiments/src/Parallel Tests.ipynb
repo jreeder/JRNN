{
 "metadata": {
  "name": "Parallel Tests"
 },
 "nbformat": 3,
 "nbformat_minor": 0,
 "worksheets": [
  {
   "cells": [
    {
     "cell_type": "code",
     "collapsed": false,
     "input": [
      "from IPython.parallel import Client"
     ],
     "language": "python",
     "metadata": {},
     "outputs": [],
     "prompt_number": 1
    },
    {
     "cell_type": "code",
     "collapsed": false,
     "input": [
      "rc = Client(profile=\"cluster\")\n",
      "rc.ids"
     ],
     "language": "python",
     "metadata": {},
     "outputs": [
      {
       "output_type": "pyout",
       "prompt_number": 3,
       "text": [
        "[0, 1, 2]"
       ]
      }
     ],
     "prompt_number": 3
    },
    {
     "cell_type": "code",
     "collapsed": false,
     "input": [
      "def parallelTest(user, scenario, maxEpochs=2000, numFrames=900, numCand=4, numRev=5, numRevTrainRatio=1, reshuffle=False):\n",
      "    global sortField\n",
      "    scenarios = LoadUserData(user)\n",
      "    training = scenarios[scenario]['training']\n",
      "    training.sort(key=lambda x: int(sortField.search(x).group(1)))\n",
      "    data = LoadTrainingData(training)\n",
      "    \n",
      "    dstuple = CreateUserDatasets(data, numFrames)\n",
      "    revCC = PyJRNN.trainers.RevCCTrainer(21,2,numCand)\n",
      "    revCC.revparams.numRevTrainRatio = numRevTrainRatio\n",
      "    revCC.revparams.numRev = numRev\n",
      "    \n",
      "    return ConsolidatedTrainingTest(dstuple, 1, revCC, maxEpochs, reshuffle)\n",
      "    #return \"hello world\""
     ],
     "language": "python",
     "metadata": {},
     "outputs": [],
     "prompt_number": 4
    },
    {
     "cell_type": "code",
     "collapsed": false,
     "input": [
      "with rc[:].sync_imports():\n",
      "    import PyJRNN\n",
      "    import pyublas\n",
      "    import numpy\n",
      "    from PyJRNN.utility import DSDatatype\n",
      "    import os\n",
      "    import re\n",
      "    import json\n",
      "    from ObsUtility import userspath, LoadUserData, LoadTrainingData, CreateUserDatasets, ConsolidatedTrainingTest, sortField"
     ],
     "language": "python",
     "metadata": {},
     "outputs": [
      {
       "output_type": "stream",
       "stream": "stdout",
       "text": [
        "importing PyJRNN on engine(s)\n",
        "importing pyublas on engine(s)"
       ]
      },
      {
       "output_type": "stream",
       "stream": "stdout",
       "text": [
        "\n",
        "importing numpy on engine(s)\n",
        "importing DSDatatype from PyJRNN.utility on engine(s)\n",
        "importing os on engine(s)\n",
        "importing re on engine(s)\n",
        "importing json on engine(s)\n",
        "importing userspath,LoadUserData,LoadTrainingData,CreateUserDatasets,ConsolidatedTrainingTest,sortField from ObsUtility on engine(s)"
       ]
      },
      {
       "output_type": "stream",
       "stream": "stdout",
       "text": [
        "\n"
       ]
      }
     ],
     "prompt_number": 5
    },
    {
     "cell_type": "code",
     "collapsed": false,
     "input": [
      "lbv = rc.load_balanced_view()\n",
      "async_results = []\n",
      "for i in range(3):\n",
      "    ar = lbv.apply_async(parallelTest, 'Cong', 'Chase - 16Nov2012171621', maxEpochs=100, numFrames=100)\n",
      "    async_results.append(ar)"
     ],
     "language": "python",
     "metadata": {},
     "outputs": [],
     "prompt_number": 6
    },
    {
     "cell_type": "code",
     "collapsed": false,
     "input": [
      "sum([ar.progress for ar in async_results]) / float(len(async_results))"
     ],
     "language": "python",
     "metadata": {},
     "outputs": [
      {
       "output_type": "pyout",
       "prompt_number": 7,
       "text": [
        "1.0"
       ]
      }
     ],
     "prompt_number": 7
    },
    {
     "cell_type": "code",
     "collapsed": false,
     "input": [
      "rc.wait(async_results)\n",
      "r = [ar.get() for ar in async_results]"
     ],
     "language": "python",
     "metadata": {},
     "outputs": [],
     "prompt_number": 8
    },
    {
     "cell_type": "code",
     "collapsed": false,
     "input": [
      "r"
     ],
     "language": "python",
     "metadata": {},
     "outputs": [
      {
       "output_type": "pyout",
       "prompt_number": 9,
       "text": [
        "[[{'tr1.epochs': 224,\n",
        "   'tr1.hiddenLayers': 2,\n",
        "   'tr1.testError': 0.0328537782375993,\n",
        "   'tr2.epochs': 344,\n",
        "   'tr2.hiddenLayers': 3,\n",
        "   'tr2.testError': 0.12125292058023077,\n",
        "   'tr3.epochs': 293,\n",
        "   'tr3.hiddenLayers': 4,\n",
        "   'tr3.testError': 0.06685985069207036}],\n",
        " [{'tr1.epochs': 224,\n",
        "   'tr1.hiddenLayers': 2,\n",
        "   'tr1.testError': 0.0328537782375993,\n",
        "   'tr2.epochs': 344,\n",
        "   'tr2.hiddenLayers': 3,\n",
        "   'tr2.testError': 0.12125292058023077,\n",
        "   'tr3.epochs': 293,\n",
        "   'tr3.hiddenLayers': 4,\n",
        "   'tr3.testError': 0.06685985069207036}],\n",
        " [{'tr1.epochs': 224,\n",
        "   'tr1.hiddenLayers': 2,\n",
        "   'tr1.testError': 0.0328537782375993,\n",
        "   'tr2.epochs': 344,\n",
        "   'tr2.hiddenLayers': 3,\n",
        "   'tr2.testError': 0.12125292058023077,\n",
        "   'tr3.epochs': 293,\n",
        "   'tr3.hiddenLayers': 4,\n",
        "   'tr3.testError': 0.06685985069207036}]]"
       ]
      }
     ],
     "prompt_number": 9
    },
    {
     "cell_type": "code",
     "collapsed": false,
     "input": [
      "import json\n",
      "json.dump(r, open('Notebook Data/ObsResult1.json', 'w'))"
     ],
     "language": "python",
     "metadata": {},
     "outputs": [],
     "prompt_number": 39
    },
    {
     "cell_type": "code",
     "collapsed": false,
     "input": [
      "import json\n",
      "result = json.load(open('Notebook Data/ObsResult1.json'))"
     ],
     "language": "python",
     "metadata": {},
     "outputs": [],
     "prompt_number": 2
    },
    {
     "cell_type": "code",
     "collapsed": false,
     "input": [
      "from config import *"
     ],
     "language": "python",
     "metadata": {},
     "outputs": [],
     "prompt_number": 4
    },
    {
     "cell_type": "code",
     "collapsed": false,
     "input": [
      "tr1testerravg, tr1testerrerr = CalcMeanAndError([x[0]['tr1.testError'] for x in result])\n",
      "tr2testerravg, tr2testerrerr = CalcMeanAndError([x[0]['tr2.testError'] for x in result])\n",
      "tr3testerravg, tr3testerrerr = CalcMeanAndError([x[0]['tr3.testError'] for x in result])\n",
      "print \"Tr1 Error: {0}, Tr2 Error: {1}, Tr3 Error: {2}\".format(tr1testerravg, tr2testerravg, tr3testerravg)"
     ],
     "language": "python",
     "metadata": {},
     "outputs": [
      {
       "output_type": "stream",
       "stream": "stdout",
       "text": [
        "Tr1 Error: 0.108356428724, Tr2 Error: 0.0904250020481, Tr3 Error: 0.0517463025585\n"
       ]
      }
     ],
     "prompt_number": 5
    },
    {
     "cell_type": "code",
     "collapsed": false,
     "input": [],
     "language": "python",
     "metadata": {},
     "outputs": []
    }
   ],
   "metadata": {}
  }
 ]
}