{
 "metadata": {
  "name": "RevCCTestPython"
 },
 "nbformat": 3,
 "nbformat_minor": 0,
 "worksheets": [
  {
   "cells": [
    {
     "cell_type": "heading",
     "level": 1,
     "metadata": {},
     "source": [
      "Setup"
     ]
    },
    {
     "cell_type": "code",
     "collapsed": false,
     "input": [
      "from config import *"
     ],
     "language": "python",
     "metadata": {},
     "outputs": []
    },
    {
     "cell_type": "code",
     "collapsed": false,
     "input": [
      "import PyJRNN\n",
      "import pyublas\n",
      "import numpy\n",
      "from PyJRNN.utility import DSDatatype\n",
      "from PyJRNN.types import strings\n",
      "from PyJRNN.trainers import TestResults, TestResult"
     ],
     "language": "python",
     "metadata": {},
     "outputs": []
    },
    {
     "cell_type": "code",
     "collapsed": false,
     "input": [
      "import ObsUtility\n",
      "from ObsUtility import userspath, UserSettings"
     ],
     "language": "python",
     "metadata": {},
     "outputs": []
    },
    {
     "cell_type": "heading",
     "level": 6,
     "metadata": {},
     "source": [
      "These are now defined in ObsUtility"
     ]
    },
    {
     "cell_type": "raw",
     "metadata": {},
     "source": [
      "def RevCCWorker(RevCCTrainer, results, numRuns, subView1, subView2, cds, testRecall, useValidation=True, maxEpochs=3000):\n",
      "    dt = DSDatatype.TEST\n",
      "    if(testRecall):\n",
      "        dt = DSDatatype.TRAIN\n",
      "        \n",
      "    \n",
      "    useRealOuts = cds.realOuts\n",
      "    \n",
      "    def printHashedDoubleMap(DM):\n",
      "        returnStr = \"\"\n",
      "        for elm in DM:\n",
      "            returnStr += \"{0}:{1}\\t\".format(elm.key(), elm.data())\n",
      "            \n",
      "        return returnStr\n",
      "    \n",
      "    \n",
      "    if (subView1 != '' and subView2 != ''):\n",
      "        subview = strings()\n",
      "        subview.append(subView1)\n",
      "        cds.DistSubview(subview)\n",
      "        firstDS = cds.SpawnDS()\n",
      "        del subview[:]\n",
      "        subview.append(subView2)\n",
      "        cds.DistSubview(subview)\n",
      "        secondDS = cds.SpawnDS()\n",
      "        \n",
      "        resultArray = []\n",
      "        \n",
      "        for i in range(numRuns):\n",
      "            resultDict = {'Chase':{}, 'ChaseObstacles':{}}\n",
      "            #Run First Task\n",
      "            RevCCTrainer.TrainTask(firstDS, maxEpochs, useValidation)\n",
      "            #First Task Results\n",
      "            resultDict['Chase']['epochs'] = RevCCTrainer.net1vals.epochs\n",
      "            resultDict['Chase']['hiddenLayers'] = RevCCTrainer.net1vals.hiddenLayers\n",
      "            resultDict['Chase']['numResets'] = RevCCTrainer.net1vals.hiddenLayers\n",
      "            resultDict['Chase']['MSERec'] = RevCCTrainer.net1vals.MSERec\n",
      "            #Test on second test before training on it. \n",
      "            if useRealOuts:\n",
      "                firstResults = RevCCTrainer.TestOnData(secondDS, DSDatatype.TEST)\n",
      "            else:\n",
      "                firstResults = RevCCTrainer.TestWiClass(secondDS, DSDatatype.TEST)\n",
      "                \n",
      "            resultDict['Chase']['firstResults'] = firstResults\n",
      "            \n",
      "            #Run Second Task\n",
      "            RevCCTrainer.TrainTask(secondDS, maxEpochs, useValidation, True, firstDS, dt)\n",
      "            \n",
      "            #SecondTask Results\n",
      "            if useRealOuts:\n",
      "                secondResults = RevCCTrainer.TestOnData(secondDS, DSDatatype.TEST)\n",
      "            else:\n",
      "                secondResults = RevCCTrainer.TestWiClass(secondDS, DSDatatype.TEST)\n",
      "            hiddenLayers = RevCCTrainer.net1vals.numHidLayers\n",
      "            epochs = RevCCTrainer.net1vals.epochs\n",
      "            numResets = RevCCTrainer.net1vals.numResets\n",
      "            \n",
      "            resultDict['ChaseObstacles']['epochs'] = epochs\n",
      "            resultDict['ChaseObstacles']['hiddenLayers'] = hiddenLayers\n",
      "            resultDict['ChaseObstacles']['numResets'] = numResets\n",
      "            resultDict['ChaseObstacles']['secondResults'] = secondResults\n",
      "            \n",
      "            time = 0\n",
      "            result = \"\"\n",
      "            result += \"{0}\\t\".format(epochs)\n",
      "            result += \"{0}\\t\".format(time)\n",
      "            result += \"{0}\\t\".format(hiddenLayers)\n",
      "            result += \"{0}\\t\".format(numResets)\n",
      "            if useRealOuts:\n",
      "                result += \"{0}:{1}\\t|\\t\".format('task-0', secondResults)\n",
      "            else:\n",
      "                result += printHashedDoubleMap(secondResults) + \"|\\t\"\n",
      "                \n",
      "            result += \"\\t\".join([str(x) for x in RevCCTrainer.net1vals.MSERec]) + \"\\t|\\t\"\n",
      "        \n",
      "            resultDict['ChaseObstacles']['MSERec'] = RevCCTrainer.net1vals.MSERec\n",
      "        \n",
      "            if useRealOuts:\n",
      "                firstTaskResults = RevCCTrainer.TestOnData(firstDS, dt)\n",
      "                result += \"{0}:{1}\\t|\\t\".format('task-0', firstTaskResults)\n",
      "            else:\n",
      "                firstTaskResults = RevCCTrainer.TestWiClass(firstDS, dt)\n",
      "                result += printHashedDoubleMap(firstTaskResults) + \"|\\t\"\n",
      "            \n",
      "            resultDict['ChaseObstacles']['firstTaskResults'] = firstTaskResults\n",
      "            \n",
      "            tmpResults = RevCCTrainer.getTestWhileTrainResults()\n",
      "            \n",
      "            resultDict['ChaseObstacles']['testWhileTrainResults'] = tmpResults\n",
      "            \n",
      "            for trainResult in tmpResults:\n",
      "                result += \"*{0}!{1}\".format(trainResult.epoch, printHashedDoubleMap(trainResult.result))\n",
      "            \n",
      "            result += \"$\\n\"\n",
      "            results.append(result)\n",
      "            resultArray.append(resultDict)\n",
      "            result = \"\"\n",
      "            RevCCTrainer.Reset()\n",
      "            firstDS.RedistData()\n",
      "            secondDS.RedistData()\n",
      "            \n",
      "        return resultArray"
     ]
    },
    {
     "cell_type": "raw",
     "metadata": {},
     "source": [
      "def loadCSMTLDSfromData(outDS, data, indexes, numFrames, taskName, normalize=True, splitOuts=True, useFannedTurn=True, settings=UserSettings()):\n",
      "    subData = [data[x] for x in indexes]\n",
      "    minSize = min([len(x) for x in subData])\n",
      "    strideSize = minSize / numFrames\n",
      "    for d in subData:\n",
      "        inputs = numpy.array([item['sensors'] for item in d[-minSize::strideSize]])\n",
      "        outputs = numpy.array([item['actions'] for item in d[-minSize::strideSize]])\n",
      "        if splitOuts:\n",
      "            outputs = ObsUtility.SplitAndAdjustObsOutputs(outputs, settings, useFannedTurn)\n",
      "        if normalize:\n",
      "            inputs = ObsUtility.Norm01Array(inputs)\n",
      "            outputs = ObsUtility.Norm01Array(outputs)\n",
      "            \n",
      "        outDS.AddMatDoublesToTask(ObsUtility.matDoubleFromArray(inputs), ObsUtility.matDoubleFromArray(outputs), taskName)\n",
      "        "
     ]
    },
    {
     "cell_type": "heading",
     "level": 1,
     "metadata": {},
     "source": [
      "Testing"
     ]
    },
    {
     "cell_type": "code",
     "collapsed": false,
     "input": [
      "scenarios = ObsUtility.LoadUserData('jcginn')\n",
      "training = scenarios['Chase - 13Nov2012223245']['training']\n",
      "training.sort(key=lambda x: int(ObsUtility.sortField.search(x).group(1)))"
     ],
     "language": "python",
     "metadata": {},
     "outputs": []
    },
    {
     "cell_type": "code",
     "collapsed": false,
     "input": [
      "import json\n",
      "data = ObsUtility.LoadTrainingData(training)"
     ],
     "language": "python",
     "metadata": {},
     "outputs": []
    },
    {
     "cell_type": "code",
     "collapsed": false,
     "input": [
      "from PyJRNN.utility import CSMTLDataset"
     ],
     "language": "python",
     "metadata": {},
     "outputs": []
    },
    {
     "cell_type": "raw",
     "metadata": {},
     "source": [
      "def Norm01Array(inArray):\n",
      "    minval = numpy.min(inArray, axis=0)\n",
      "    maxval = numpy.max(inArray, axis=0)\n",
      "    inArray -= minval\n",
      "    inArray /= (maxval - minval + 0.000001)\n",
      "    return inArray"
     ]
    },
    {
     "cell_type": "code",
     "collapsed": false,
     "input": [
      "cds = CSMTLDataset()\n",
      "cds.realOuts = True\n",
      "settings = ObsUtility.LoadUserSettings('jcginn')"
     ],
     "language": "python",
     "metadata": {},
     "outputs": []
    },
    {
     "cell_type": "code",
     "collapsed": false,
     "input": [
      "loadCSMTLDSfromData(cds, data, [1,], 900, 'Chase', settings=settings)"
     ],
     "language": "python",
     "metadata": {},
     "outputs": []
    },
    {
     "cell_type": "code",
     "collapsed": false,
     "input": [
      "training2 = scenarios['ChaseObstacles - 13Nov2012224137']['training']\n",
      "training2.sort(key=lambda x: int(ObsUtility.sortField.search(x).group(1)))\n",
      "data2 = ObsUtility.LoadTrainingData(training2)\n",
      "loadCSMTLDSfromData(cds, data2, [1,], 900, 'ChaseObstacles')"
     ],
     "language": "python",
     "metadata": {},
     "outputs": []
    },
    {
     "cell_type": "code",
     "collapsed": false,
     "input": [
      "viewStrings = PyJRNN.types.strings()\n",
      "viewStrings.append('Chase')\n",
      "viewStrings.append('ChaseObstacles')\n",
      "cds.View = viewStrings"
     ],
     "language": "python",
     "metadata": {},
     "outputs": []
    },
    {
     "cell_type": "code",
     "collapsed": false,
     "input": [
      "cds.DistData(200,200,200)"
     ],
     "language": "python",
     "metadata": {},
     "outputs": []
    },
    {
     "cell_type": "code",
     "collapsed": false,
     "input": [
      "print cds.numInputs, cds.numOutputs"
     ],
     "language": "python",
     "metadata": {},
     "outputs": []
    },
    {
     "cell_type": "code",
     "collapsed": false,
     "input": [
      "revCC = PyJRNN.trainers.RevCCTrainer(cds.numInputs,cds.numOutputs,4)\n",
      "revCC.revparams.cleanReverb = True\n",
      "revCC.revparams.numContexts = 2"
     ],
     "language": "python",
     "metadata": {},
     "outputs": []
    },
    {
     "cell_type": "code",
     "collapsed": false,
     "input": [
      "results = []\n",
      "RevCCWorker(revCC, results, 2, 'Chase', 'ChaseObstacles', cds, True, maxEpochs=2000)"
     ],
     "language": "python",
     "metadata": {},
     "outputs": []
    },
    {
     "cell_type": "code",
     "collapsed": false,
     "input": [
      "import ParseReverbFiles as pe\n",
      "import PlotReverbFiles as pr"
     ],
     "language": "python",
     "metadata": {},
     "outputs": []
    },
    {
     "cell_type": "code",
     "collapsed": false,
     "input": [
      "dreload(pe)\n",
      "dreload(pr)"
     ],
     "language": "python",
     "metadata": {},
     "outputs": []
    },
    {
     "cell_type": "code",
     "collapsed": false,
     "input": [
      "vals = pr.MakeGraph(\"bleh\", results)"
     ],
     "language": "python",
     "metadata": {},
     "outputs": []
    },
    {
     "cell_type": "code",
     "collapsed": false,
     "input": [
      "tasksplit = results[0].split(\"$\")\n",
      "firstsplit = tasksplit[0].split(\"|\")"
     ],
     "language": "python",
     "metadata": {},
     "outputs": []
    },
    {
     "cell_type": "code",
     "collapsed": false,
     "input": [
      "secondTaskMetrics = firstsplit[0].split(\"\\t\")\n",
      "secondTaskrunMSEs = [float(x) for x in firstsplit[1].split(\"\\t\")[1:-1]]"
     ],
     "language": "python",
     "metadata": {},
     "outputs": []
    },
    {
     "cell_type": "code",
     "collapsed": false,
     "input": [
      "secondTaskMetrics"
     ],
     "language": "python",
     "metadata": {},
     "outputs": []
    },
    {
     "cell_type": "code",
     "collapsed": false,
     "input": [
      "firsttaskerrs = firstsplit[2].split(\"\\t\")"
     ],
     "language": "python",
     "metadata": {},
     "outputs": []
    },
    {
     "cell_type": "code",
     "collapsed": false,
     "input": [
      "testWhileTrain = [x.strip() for x in firstsplit[3].split(\"*\")]\n",
      "\n",
      "tmpDict = {}\n",
      "firstDSErrsWhileTrain = []\n",
      "\n",
      "for item in testWhileTrain:\n",
      "    itemsplit = item.split(\"!\")\n",
      "    if len(itemsplit) > 1:\n",
      "        secsplit = itemsplit[1].split(\":\")\n",
      "        tmpDict[int(itemsplit[0])] = secsplit[1]\n",
      "firstDSErrsWhileTrain.append(tmpDict)"
     ],
     "language": "python",
     "metadata": {},
     "outputs": []
    },
    {
     "cell_type": "code",
     "collapsed": false,
     "input": [
      "%pylab"
     ],
     "language": "python",
     "metadata": {},
     "outputs": []
    },
    {
     "cell_type": "code",
     "collapsed": false,
     "input": [
      "figure()"
     ],
     "language": "python",
     "metadata": {},
     "outputs": []
    },
    {
     "cell_type": "code",
     "collapsed": false,
     "input": [
      "plot(vals, label=\"5 Reverbs\")"
     ],
     "language": "python",
     "metadata": {},
     "outputs": []
    },
    {
     "cell_type": "heading",
     "level": 1,
     "metadata": {},
     "source": [
      "Parallel Test"
     ]
    },
    {
     "cell_type": "code",
     "collapsed": false,
     "input": [
      "import ObsUtility\n",
      "from ObsUtility import userspath, UserSettings"
     ],
     "language": "python",
     "metadata": {},
     "outputs": []
    },
    {
     "cell_type": "code",
     "collapsed": false,
     "input": [
      "scenarios = ObsUtility.LoadUserData('jcginn')\n",
      "scenarios.keys()"
     ],
     "language": "python",
     "metadata": {},
     "outputs": []
    },
    {
     "cell_type": "code",
     "collapsed": false,
     "input": [
      "from IPython.parallel import Client\n",
      "rc = Client(profile=\"cluster\")\n",
      "rc.ids"
     ],
     "language": "python",
     "metadata": {},
     "outputs": []
    },
    {
     "cell_type": "code",
     "collapsed": false,
     "input": [
      "with rc[:].sync_imports(local=True):\n",
      "    import ObsUtility\n",
      "    from ObsUtility import userspath, UserSettings, loadCSMTLDSfromData, RevCCWorker\n",
      "    import json\n",
      "    from PyJRNN.utility import CSMTLDataset\n",
      "    import PyJRNN\n",
      "    import pyublas\n",
      "    import numpy\n",
      "    from PyJRNN.utility import DSDatatype\n",
      "    from PyJRNN.types import strings\n",
      "    from PyJRNN.trainers import TestResults, TestResult\n",
      "    #from config import *"
     ],
     "language": "python",
     "metadata": {},
     "outputs": []
    },
    {
     "cell_type": "code",
     "collapsed": false,
     "input": [
      "def RunRevCC(user, scenario1, scenario2, numRev, numRuns, indexes, maxEpochs=2000):\n",
      "    cds = PyJRNN.utility.CSMTLDataset()\n",
      "    cds.realOuts = True\n",
      "    settings = ObsUtility.LoadUserSettings(user)\n",
      "    \n",
      "    print 'Loading {0}'.format(scenario1['sn'])\n",
      "    scenarios = ObsUtility.LoadUserData(user)\n",
      "    training1 = scenarios[scenario1['ln']]['training']\n",
      "    training1.sort(key=lambda x: int(ObsUtility.sortField.search(x).group(1)))\n",
      "    data1 = ObsUtility.LoadTrainingData(training1)\n",
      "    \n",
      "    ObsUtility.loadCSMTLDSfromData(cds, data1, indexes, 900, scenario1['sn'], settings=settings)\n",
      "    del training1, data1\n",
      "    \n",
      "    print 'Loading {0}'.format(scenario2['sn'])\n",
      "    training2 = scenarios[scenario2['ln']]['training']\n",
      "    training2.sort(key=lambda x: int(ObsUtility.sortField.search(x).group(1)))\n",
      "    data2 = ObsUtility.LoadTrainingData(training2)\n",
      "    ObsUtility.loadCSMTLDSfromData(cds, data2, indexes, 900, scenario2['sn'], settings=settings)\n",
      "    del training2, data2\n",
      "    \n",
      "    viewStrings = PyJRNN.types.strings()\n",
      "    viewStrings.append(scenario1['sn'])\n",
      "    viewStrings.append(scenario2['sn'])\n",
      "    cds.View = viewStrings\n",
      "    \n",
      "    cds.DistData(200,200,200) # need to parameterize this \n",
      "    \n",
      "    print 'Creating Trainer'\n",
      "    revCC = PyJRNN.trainers.RevCCTrainer(cds.numInputs,cds.numOutputs,4)\n",
      "    revCC.revparams.cleanReverb = True\n",
      "    revCC.revparams.numContexts = 2\n",
      "    if numRev == -1:\n",
      "        revCC.revparams.bufferSize = 0\n",
      "        numRev = 0\n",
      "    revCC.revparams.numRev = numRev\n",
      "    \n",
      "    bufferSize = revCC.revparams.bufferSize\n",
      "    \n",
      "    print 'Calling Worker'\n",
      "    results = []\n",
      "    retArray = ObsUtility.RevCCWorker(revCC, results, numRuns, scenario1['sn'], scenario2['sn'], cds, True, maxEpochs=maxEpochs)\n",
      "    return ({'user': user, 'scenarios': (scenario1['sn'], scenario2['sn']), 'numRev': numRev, 'numRuns': numRuns, 'indexes': indexes, 'bufferSize': bufferSize}, results, retArray)"
     ],
     "language": "python",
     "metadata": {},
     "outputs": []
    },
    {
     "cell_type": "heading",
     "level": 3,
     "metadata": {},
     "source": [
      "Submit Experiments"
     ]
    },
    {
     "cell_type": "code",
     "collapsed": false,
     "input": [
      "lbv = rc.load_balanced_view()"
     ],
     "language": "python",
     "metadata": {},
     "outputs": []
    },
    {
     "cell_type": "raw",
     "metadata": {},
     "source": [
      "async_result = []\n",
      "numRuns = 15\n",
      "indexes = [1,]\n",
      "maxEpochs = 1000\n",
      "for numRev in [-1,1,2,4,8,12]: #[-1,0,1,2,4,6,8,10]\n",
      "    ar = lbv.apply_async(RunRevCC, 'Yinjie', {'sn': 'Chase', 'ln': 'Chase - 16Nov2012165154'}, {'sn': 'ChaseObstacles', 'ln': 'ChaseObstacles - 16Nov2012170823'}, numRev, numRuns, indexes, maxEpochs)\n",
      "    async_result.append(ar)"
     ]
    },
    {
     "cell_type": "raw",
     "metadata": {},
     "source": [
      "async_result2 = []\n",
      "numRuns = 15\n",
      "indexes = [1,]\n",
      "maxEpochs = 1000\n",
      "for numRev in [-1,1,2,4,8,12]: #[-1,0,1,2,4,6,8,10]\n",
      "    ar = lbv.apply_async(RunRevCC, 'Cong', {'sn': 'Chase', 'ln': 'Chase - 16Nov2012171621'}, {'sn': 'ChaseObstacles', 'ln': 'ChaseObstacles - 16Nov2012173013'}, numRev, numRuns, indexes, maxEpochs)\n",
      "    async_result2.append(ar)"
     ]
    },
    {
     "cell_type": "raw",
     "metadata": {},
     "source": [
      "async_result3 = []\n",
      "numRuns = 15\n",
      "indexes = [1,]\n",
      "maxEpochs = 1000\n",
      "for numRev in [-1,1,2,4,8,12]: #[-1,0,1,2,4,6,8,10]\n",
      "    ar = lbv.apply_async(RunRevCC, 'jcginn', {'sn': 'Chase', 'ln': 'Chase - 13Nov2012223245'}, {'sn': 'ChaseObstacles', 'ln': 'ChaseObstacles - 13Nov2012224137'}, numRev, numRuns, indexes, maxEpochs)\n",
      "    async_result3.append(ar)"
     ]
    },
    {
     "cell_type": "code",
     "collapsed": false,
     "input": [
      "async_result4 = []\n",
      "numRuns = 15\n",
      "indexes = [1,]\n",
      "maxEpochs = 1000\n",
      "for numRev in [-1,1,2,4,8,12]: #[-1,0,1,2,4,6,8,10] 0 and 1 are equivalent\n",
      "    ar = lbv.apply_async(RunRevCC, 'Yinjie', {'sn': 'Chase', 'ln': 'Chase - 16Nov2012165154'}, {'sn': 'Obstacles', 'ln': 'Obstacles - 16Nov2012170059'}, numRev, numRuns, indexes, maxEpochs)\n",
      "    async_result4.append(ar)"
     ],
     "language": "python",
     "metadata": {},
     "outputs": []
    },
    {
     "cell_type": "code",
     "collapsed": false,
     "input": [
      "async_result5 = []\n",
      "numRuns = 15\n",
      "indexes = [1,]\n",
      "maxEpochs = 1000\n",
      "for numRev in [-1,1,2,4,8,12]: #[-1,0,1,2,4,6,8,10] 0 and 1 are equivalent\n",
      "    ar = lbv.apply_async(RunRevCC, 'Cong', {'sn': 'Chase', 'ln': 'Chase - 16Nov2012171621'}, {'sn': 'Obstacles', 'ln': 'Obstacles - 16Nov2012172406'}, numRev, numRuns, indexes, maxEpochs)\n",
      "    async_result5.append(ar)"
     ],
     "language": "python",
     "metadata": {},
     "outputs": []
    },
    {
     "cell_type": "heading",
     "level": 3,
     "metadata": {},
     "source": [
      "Check Status of Experiments"
     ]
    },
    {
     "cell_type": "code",
     "collapsed": false,
     "input": [
      "[ar.status for ar in async_result if ar.progress == 1]"
     ],
     "language": "python",
     "metadata": {},
     "outputs": []
    },
    {
     "cell_type": "code",
     "collapsed": false,
     "input": [
      "[ar.progress for ar in async_result4]"
     ],
     "language": "python",
     "metadata": {},
     "outputs": []
    },
    {
     "cell_type": "code",
     "collapsed": false,
     "input": [
      "[ar.progress for ar in async_result5]"
     ],
     "language": "python",
     "metadata": {},
     "outputs": []
    },
    {
     "cell_type": "code",
     "collapsed": false,
     "input": [
      "async_result2[1].stdout"
     ],
     "language": "python",
     "metadata": {},
     "outputs": []
    },
    {
     "cell_type": "code",
     "collapsed": false,
     "input": [
      "[str(ar.completed - ar.started) for ar in async_result4 if ar.progress == 1]"
     ],
     "language": "python",
     "metadata": {},
     "outputs": []
    },
    {
     "cell_type": "code",
     "collapsed": false,
     "input": [
      "rc.queue_status()"
     ],
     "language": "python",
     "metadata": {},
     "outputs": []
    },
    {
     "cell_type": "heading",
     "level": 3,
     "metadata": {},
     "source": [
      "Print Results "
     ]
    },
    {
     "cell_type": "code",
     "collapsed": false,
     "input": [
      "import json"
     ],
     "language": "python",
     "metadata": {},
     "outputs": []
    },
    {
     "cell_type": "code",
     "collapsed": false,
     "input": [
      "results = [ar.r for ar in async_result]"
     ],
     "language": "python",
     "metadata": {},
     "outputs": []
    },
    {
     "cell_type": "code",
     "collapsed": false,
     "input": [
      "json.dump(results, open('Notebook Data/RevCCObsYinjieResults.json', 'w'))"
     ],
     "language": "python",
     "metadata": {},
     "outputs": []
    },
    {
     "cell_type": "code",
     "collapsed": false,
     "input": [
      "results2 = [ar.r for ar in async_result2]"
     ],
     "language": "python",
     "metadata": {},
     "outputs": []
    },
    {
     "cell_type": "code",
     "collapsed": false,
     "input": [
      "json.dump(results2, open('Notebook Data/RevCCObsCongResults.json', 'w'))"
     ],
     "language": "python",
     "metadata": {},
     "outputs": []
    },
    {
     "cell_type": "code",
     "collapsed": false,
     "input": [
      "results3 = [ar.r for ar in async_result3]"
     ],
     "language": "python",
     "metadata": {},
     "outputs": []
    },
    {
     "cell_type": "code",
     "collapsed": false,
     "input": [
      "json.dump(results3, open('Notebook Data/RevCCObsJamesResults.json', 'w'))"
     ],
     "language": "python",
     "metadata": {},
     "outputs": []
    },
    {
     "cell_type": "code",
     "collapsed": false,
     "input": [
      "results4 = [ar.r for ar in async_result4]"
     ],
     "language": "python",
     "metadata": {},
     "outputs": []
    },
    {
     "cell_type": "code",
     "collapsed": false,
     "input": [
      "json.dump(results4, open('Notebook Data/RevCCObsYinjieResults-CO.json', 'w'))"
     ],
     "language": "python",
     "metadata": {},
     "outputs": []
    },
    {
     "cell_type": "code",
     "collapsed": false,
     "input": [
      "results5 = [ar.r for ar in async_result5]"
     ],
     "language": "python",
     "metadata": {},
     "outputs": []
    },
    {
     "cell_type": "code",
     "collapsed": false,
     "input": [
      "json.dump(results5, open('Notebook Data/RevCCObsCongResults-CO.json', 'w'))"
     ],
     "language": "python",
     "metadata": {},
     "outputs": []
    },
    {
     "cell_type": "heading",
     "level": 3,
     "metadata": {},
     "source": [
      "Misc Commands"
     ]
    },
    {
     "cell_type": "code",
     "collapsed": false,
     "input": [
      "returnedVals = [ar.get() for ar in async_result if ar.progress == 1]\n",
      "returnedVals"
     ],
     "language": "python",
     "metadata": {},
     "outputs": []
    },
    {
     "cell_type": "code",
     "collapsed": false,
     "input": [
      "rc[:].clear()"
     ],
     "language": "python",
     "metadata": {},
     "outputs": []
    },
    {
     "cell_type": "code",
     "collapsed": false,
     "input": [
      "rc[:].apply(dreload(ObsUtility))"
     ],
     "language": "python",
     "metadata": {},
     "outputs": []
    },
    {
     "cell_type": "code",
     "collapsed": false,
     "input": [
      "rc.purge_results('all')"
     ],
     "language": "python",
     "metadata": {},
     "outputs": []
    },
    {
     "cell_type": "code",
     "collapsed": false,
     "input": [
      "rc.shutdown(hub=True)"
     ],
     "language": "python",
     "metadata": {},
     "outputs": []
    },
    {
     "cell_type": "heading",
     "level": 2,
     "metadata": {},
     "source": [
      "Plot Results"
     ]
    },
    {
     "cell_type": "code",
     "collapsed": false,
     "input": [
      "import json"
     ],
     "language": "python",
     "metadata": {},
     "outputs": []
    },
    {
     "cell_type": "code",
     "collapsed": false,
     "input": [
      "results = json.load(open('Notebook Data/RevCCObsYinjieResults-CO.json', 'r'))"
     ],
     "language": "python",
     "metadata": {},
     "outputs": []
    },
    {
     "cell_type": "code",
     "collapsed": false,
     "input": [
      "len(results)"
     ],
     "language": "python",
     "metadata": {},
     "outputs": []
    },
    {
     "cell_type": "code",
     "collapsed": false,
     "input": [
      "results[0][2]"
     ],
     "language": "python",
     "metadata": {},
     "outputs": []
    },
    {
     "cell_type": "code",
     "collapsed": false,
     "input": [
      "import ParseReverbFiles as pe\n",
      "import PlotReverbFiles as pr"
     ],
     "language": "python",
     "metadata": {},
     "outputs": []
    },
    {
     "cell_type": "code",
     "collapsed": false,
     "input": [
      "ArrayOfResults = []\n",
      "for result in results:\n",
      "    resDict = result[0]\n",
      "    resString = result[1]\n",
      "    label = \"\"\n",
      "    if resDict['bufferSize'] == 0:\n",
      "        label = 'No Reverb'\n",
      "    elif resDict['numRev'] == 0 or resDict['numRev'] == 1:\n",
      "        label = '0 Reverb'\n",
      "    else:\n",
      "        label = '{0} Reverbs'.format(resDict['numRev'])\n",
      "        \n",
      "    ArrayOfResults.append((label, resString))"
     ],
     "language": "python",
     "metadata": {},
     "outputs": []
    },
    {
     "cell_type": "code",
     "collapsed": false,
     "input": [
      "%pylab"
     ],
     "language": "python",
     "metadata": {},
     "outputs": []
    },
    {
     "cell_type": "code",
     "collapsed": false,
     "input": [
      "figure()"
     ],
     "language": "python",
     "metadata": {},
     "outputs": []
    },
    {
     "cell_type": "code",
     "collapsed": false,
     "input": [
      "figure()\n",
      "count = 0\n",
      "linestyles = ['-', '--', ':']\n",
      "from matplotlib.lines import Line2D\n",
      "markers = []\n",
      "colors = ('b', 'g', 'r', 'c', 'm', 'y', 'k')\n",
      "for m in Line2D.markers:\n",
      "    try:\n",
      "        if len(m) == 1 and m != ' ':\n",
      "            markers.append(m)\n",
      "    except TypeError:\n",
      "        pass\n",
      "        \n",
      "for items in ArrayOfResults:\n",
      "    count += 1\n",
      "    \n",
      "    color = colors[count % len(colors)]\n",
      "    lstyle = linestyles[count % len(linestyles)]\n",
      "    plot(pr.MakeGraph(\"bleh\", items[1]), label=items[0], color=color, linestyle=lstyle)\n",
      "\n",
      "legend()"
     ],
     "language": "python",
     "metadata": {},
     "outputs": []
    },
    {
     "cell_type": "code",
     "collapsed": false,
     "input": [],
     "language": "python",
     "metadata": {},
     "outputs": []
    }
   ],
   "metadata": {}
  }
 ]
}