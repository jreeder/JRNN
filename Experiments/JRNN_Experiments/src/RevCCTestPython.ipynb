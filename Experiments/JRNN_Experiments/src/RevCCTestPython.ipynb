{
 "metadata": {
  "name": "RevCCTestPython"
 },
 "nbformat": 3,
 "nbformat_minor": 0,
 "worksheets": [
  {
   "cells": [
    {
     "cell_type": "code",
     "collapsed": false,
     "input": [
      "from config import *"
     ],
     "language": "python",
     "metadata": {},
     "outputs": [],
     "prompt_number": 1
    },
    {
     "cell_type": "code",
     "collapsed": false,
     "input": [
      "import PyJRNN\n",
      "import pyublas\n",
      "from PyJRNN.utility import DSDatatype\n",
      "from PyJRNN.types import strings"
     ],
     "language": "python",
     "metadata": {},
     "outputs": [],
     "prompt_number": 4
    },
    {
     "cell_type": "code",
     "collapsed": false,
     "input": [
      "def RevCCWorker(RevCCTrainer, results, numRuns, subView1, subView2, cds, testRecall, useValidation=True, maxEpochs=3000):\n",
      "    dt = DSDatatype.TEST\n",
      "    if(testRecall):\n",
      "        dt = DSDatatype.TRAIN\n",
      "        \n",
      "    if (subView1 != '' and subView2 != ''):\n",
      "        subview = strings()\n",
      "        subview.append(subView1)\n",
      "        cds.DistSubview(subview)\n",
      "        firstDS = cds.SpawnDS()\n",
      "        del subview[:]\n",
      "        subview.append(subView2)\n",
      "        cds.DistSubview(subview)\n",
      "        secondDS = cds.SpawnDS\n",
      "        \n",
      "        for i in range(numRuns):\n",
      "            #Run First Task\n",
      "            RevCCTrainer.TrainTask(firstDS, maxEpochs, useValidation)\n",
      "            #Run Second Task\n",
      "            RevCCTrainer.TrainTask(secondDS, maxEpochs, useValidation, True, firstDS, dt)\n",
      "            \n",
      "            #SecondTask Result\n",
      "            secondResults = RevCCTrainer.TestWiData(secondDS, Dataset::TEST)\n",
      "            hiddenLayers = RevCCTrainer.net1vals.numHidLayers\n",
      "            epochs = RevCCTrainer.net1vals.epochs\n",
      "            numResets = RevCCTrainer.net1vals.numResets\n",
      "            time = 0\n",
      "            \n",
      "            "
     ],
     "language": "python",
     "metadata": {},
     "outputs": []
    }
   ],
   "metadata": {}
  }
 ]
}