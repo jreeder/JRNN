{
 "metadata": {
  "name": "RevCCTestPython"
 },
 "nbformat": 3,
 "nbformat_minor": 0,
 "worksheets": [
  {
   "cells": [
    {
     "cell_type": "code",
     "collapsed": false,
     "input": [
      "from config import *"
     ],
     "language": "python",
     "metadata": {},
     "outputs": []
    },
    {
     "cell_type": "code",
     "collapsed": false,
     "input": [
      "import PyJRNN\n",
      "import pyublas\n",
      "from PyJRNN.utility import DSDatatype\n",
      "from PyJRNN.types import strings\n",
      "from PyJRNN.trainers import TestResults, TestResult"
     ],
     "language": "python",
     "metadata": {},
     "outputs": []
    },
    {
     "cell_type": "code",
     "collapsed": false,
     "input": [
      "def RevCCWorker(RevCCTrainer, results, numRuns, subView1, subView2, cds, testRecall, useValidation=True, maxEpochs=3000):\n",
      "    dt = DSDatatype.TEST\n",
      "    if(testRecall):\n",
      "        dt = DSDatatype.TRAIN\n",
      "        \n",
      "    \n",
      "    useRealOuts = cds.realOuts\n",
      "    \n",
      "    def printHashedDoubleMap(DM):\n",
      "        returnStr = \"\"\n",
      "        for elm in DM:\n",
      "            returnStr += \"{0}:{1}\\t\".format(elm.key(), elm.data())\n",
      "            \n",
      "        return returnStr\n",
      "    \n",
      "    \n",
      "    if (subView1 != '' and subView2 != ''):\n",
      "        subview = strings()\n",
      "        subview.append(subView1)\n",
      "        cds.DistSubview(subview)\n",
      "        firstDS = cds.SpawnDS()\n",
      "        del subview[:]\n",
      "        subview.append(subView2)\n",
      "        cds.DistSubview(subview)\n",
      "        secondDS = cds.SpawnDS()\n",
      "        \n",
      "        for i in range(numRuns):\n",
      "            #Run First Task\n",
      "            RevCCTrainer.TrainTask(firstDS, maxEpochs, useValidation)\n",
      "            #Run Second Task\n",
      "            RevCCTrainer.TrainTask(secondDS, maxEpochs, useValidation, True, firstDS, dt)\n",
      "            \n",
      "            #SecondTask Result\n",
      "            if useRealOuts:\n",
      "                secondResults = RevCCTrainer.TestOnData(secondDS, DSDatatype.TEST)\n",
      "            else:\n",
      "                secondResults = RevCCTrainer.TestWiClass(secondDS, DSDatatype.TEST)\n",
      "            hiddenLayers = RevCCTrainer.net1vals.numHidLayers\n",
      "            epochs = RevCCTrainer.net1vals.epochs\n",
      "            numResets = RevCCTrainer.net1vals.numResets\n",
      "            time = 0\n",
      "            result = \"\"\n",
      "            result += \"{0}\\t\".format(epochs)\n",
      "            result += \"{0}\\t\".format(time)\n",
      "            result += \"{0}\\t\".format(hiddenLayers)\n",
      "            result += \"{0}\\t\".format(numResets)\n",
      "            if useRealOuts:\n",
      "                result += \"{0}:{1}\\t|\\t\".format('task-0', secondResults)\n",
      "            else:\n",
      "                result += printHashedDoubleMap(secondResults) + \"|\\t\"\n",
      "                \n",
      "            result += \"\\t\".join([str(x) for x in RevCCTrainer.net1vals.MSERec]) + \"\\t|\\t\"\n",
      "            \n",
      "            if useRealOuts:\n",
      "                firstTaskResults = RevCCTrainer.TestOnData(firstDS, dt)\n",
      "                result += \"{0}:{1}\\t|\\t\".format('task-0', firstTaskResults)\n",
      "            else:\n",
      "                firstTaskResults = RevCCTrainer.TestWiClass(firstDS, dt)\n",
      "                result += printHashedDoubleMap(firstTaskResults) + \"|\\t\"\n",
      "            \n",
      "            tmpResults = RevCCTrainer.getTestWhileTrainResults()\n",
      "            \n",
      "            for trainResult in tmpResults:\n",
      "                result += \"*{0}!{1}\".format(trainResult.epoch, printHashedDoubleMap(trainResult.result))\n",
      "            \n",
      "            result += \"$\\n\"\n",
      "            results.append(result)\n",
      "            result = \"\"\n",
      "            RevCCTrainer.Reset()\n",
      "            firstDS.RedistData()\n",
      "            secondDS.RedistData()"
     ],
     "language": "python",
     "metadata": {},
     "outputs": []
    },
    {
     "cell_type": "code",
     "collapsed": false,
     "input": [
      "from ObsUtility import *"
     ],
     "language": "python",
     "metadata": {},
     "outputs": []
    },
    {
     "cell_type": "code",
     "collapsed": false,
     "input": [
      "scenarios = LoadUserData('jcginn')\n",
      "training = scenarios['Chase - 13Nov2012223245']['training']\n",
      "training.sort(key=lambda x: int(sortField.search(x).group(1)))"
     ],
     "language": "python",
     "metadata": {},
     "outputs": []
    },
    {
     "cell_type": "code",
     "collapsed": false,
     "input": [
      "import json\n",
      "data = LoadTrainingData(training)"
     ],
     "language": "python",
     "metadata": {},
     "outputs": []
    },
    {
     "cell_type": "code",
     "collapsed": false,
     "input": [
      "from PyJRNN.utility import CSMTLDataset"
     ],
     "language": "python",
     "metadata": {},
     "outputs": []
    },
    {
     "cell_type": "code",
     "collapsed": false,
     "input": [
      "def Norm01Array(inArray):\n",
      "    minval = numpy.min(inArray, axis=0)\n",
      "    maxval = numpy.max(inArray, axis=0)\n",
      "    inArray -= minval\n",
      "    inArray /= (maxval - minval + 0.000001)\n",
      "    return inArray"
     ],
     "language": "python",
     "metadata": {},
     "outputs": []
    },
    {
     "cell_type": "code",
     "collapsed": false,
     "input": [
      "def loadCSMTLDSfromData(outDS, data, indexes, numFrames, taskName):\n",
      "    subData = [data[x] for x in indexes]\n",
      "    minSize = min([len(x) for x in subData])\n",
      "    strideSize = minSize / numFrames\n",
      "    for d in subData:\n",
      "        inputs = numpy.array([item['sensors'] for item in d[-minSize::strideSize]])\n",
      "        outputs = numpy.array([item['actions'] for item in d[-minSize::strideSize]])\n",
      "        outDS.AddMatDoublesToTask(matDoubleFromArray(Norm01Array(inputs)), matDoubleFromArray(Norm01Array(outputs)), taskName)\n",
      "        "
     ],
     "language": "python",
     "metadata": {},
     "outputs": []
    },
    {
     "cell_type": "code",
     "collapsed": false,
     "input": [
      "cds = CSMTLDataset()\n",
      "cds.realOuts = True"
     ],
     "language": "python",
     "metadata": {},
     "outputs": []
    },
    {
     "cell_type": "code",
     "collapsed": false,
     "input": [
      "loadCSMTLDSfromData(cds, data, [1,], 900, 'Chase')"
     ],
     "language": "python",
     "metadata": {},
     "outputs": []
    },
    {
     "cell_type": "code",
     "collapsed": false,
     "input": [
      "training2 = scenarios['ChaseObstacles - 13Nov2012224137']['training']\n",
      "training2.sort(key=lambda x: int(sortField.search(x).group(1)))\n",
      "data2 = LoadTrainingData(training2)\n",
      "loadCSMTLDSfromData(cds, data2, [1,], 900, 'ChaseObstacles')"
     ],
     "language": "python",
     "metadata": {},
     "outputs": []
    },
    {
     "cell_type": "code",
     "collapsed": false,
     "input": [
      "viewStrings = PyJRNN.types.strings()\n",
      "viewStrings.append('Chase')\n",
      "viewStrings.append('ChaseObstacles')\n",
      "cds.View = viewStrings"
     ],
     "language": "python",
     "metadata": {},
     "outputs": []
    },
    {
     "cell_type": "code",
     "collapsed": false,
     "input": [
      "cds.DistData(500,200,200)"
     ],
     "language": "python",
     "metadata": {},
     "outputs": []
    },
    {
     "cell_type": "code",
     "collapsed": false,
     "input": [
      "print cds.numInputs, cds.numOutputs"
     ],
     "language": "python",
     "metadata": {},
     "outputs": []
    },
    {
     "cell_type": "code",
     "collapsed": false,
     "input": [
      "revCC = PyJRNN.trainers.RevCCTrainer(23,2,4)\n",
      "revCC.revparams.cleanReverb = True\n",
      "revCC.revparams.numContexts = 2"
     ],
     "language": "python",
     "metadata": {},
     "outputs": []
    },
    {
     "cell_type": "code",
     "collapsed": false,
     "input": [],
     "language": "python",
     "metadata": {},
     "outputs": []
    },
    {
     "cell_type": "code",
     "collapsed": false,
     "input": [
      "results = []\n",
      "RevCCWorker(revCC, results, 2, 'Chase', 'ChaseObstacles', cds, True, maxEpochs=300)"
     ],
     "language": "python",
     "metadata": {},
     "outputs": []
    },
    {
     "cell_type": "code",
     "collapsed": false,
     "input": [
      "import ParseReverbFiles as pe\n",
      "import PlotReverbFiles as pr"
     ],
     "language": "python",
     "metadata": {},
     "outputs": []
    },
    {
     "cell_type": "code",
     "collapsed": false,
     "input": [
      "dreload(pe)\n",
      "dreload(pr)"
     ],
     "language": "python",
     "metadata": {},
     "outputs": []
    },
    {
     "cell_type": "code",
     "collapsed": false,
     "input": [
      "vals = pr.MakeGraph(\"bleh\", results)"
     ],
     "language": "python",
     "metadata": {},
     "outputs": []
    },
    {
     "cell_type": "code",
     "collapsed": false,
     "input": [
      "tasksplit = results[0].split(\"$\")\n",
      "firstsplit = tasksplit[0].split(\"|\")"
     ],
     "language": "python",
     "metadata": {},
     "outputs": []
    },
    {
     "cell_type": "code",
     "collapsed": false,
     "input": [
      "secondTaskMetrics = firstsplit[0].split(\"\\t\")\n",
      "secondTaskrunMSEs = [float(x) for x in firstsplit[1].split(\"\\t\")[1:-1]]"
     ],
     "language": "python",
     "metadata": {},
     "outputs": []
    },
    {
     "cell_type": "code",
     "collapsed": false,
     "input": [
      "secondTaskMetrics"
     ],
     "language": "python",
     "metadata": {},
     "outputs": []
    },
    {
     "cell_type": "code",
     "collapsed": false,
     "input": [
      "firsttaskerrs = firstsplit[2].split(\"\\t\")"
     ],
     "language": "python",
     "metadata": {},
     "outputs": []
    },
    {
     "cell_type": "code",
     "collapsed": false,
     "input": [
      "testWhileTrain = [x.strip() for x in firstsplit[3].split(\"*\")]\n",
      "\n",
      "tmpDict = {}\n",
      "firstDSErrsWhileTrain = []\n",
      "\n",
      "for item in testWhileTrain:\n",
      "    itemsplit = item.split(\"!\")\n",
      "    if len(itemsplit) > 1:\n",
      "        secsplit = itemsplit[1].split(\":\")\n",
      "        tmpDict[int(itemsplit[0])] = secsplit[1]\n",
      "firstDSErrsWhileTrain.append(tmpDict)"
     ],
     "language": "python",
     "metadata": {},
     "outputs": []
    },
    {
     "cell_type": "code",
     "collapsed": false,
     "input": [
      "%pylab"
     ],
     "language": "python",
     "metadata": {},
     "outputs": []
    },
    {
     "cell_type": "code",
     "collapsed": false,
     "input": [
      "figure()"
     ],
     "language": "python",
     "metadata": {},
     "outputs": []
    },
    {
     "cell_type": "code",
     "collapsed": false,
     "input": [
      "plot(vals, label=\"5 Reverbs\")"
     ],
     "language": "python",
     "metadata": {},
     "outputs": []
    },
    {
     "cell_type": "code",
     "collapsed": false,
     "input": [],
     "language": "python",
     "metadata": {},
     "outputs": []
    }
   ],
   "metadata": {}
  }
 ]
}