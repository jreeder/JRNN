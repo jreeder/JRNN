{
 "metadata": {
  "name": "PlotObsResults"
 },
 "nbformat": 3,
 "nbformat_minor": 0,
 "worksheets": [
  {
   "cells": [
    {
     "cell_type": "code",
     "collapsed": false,
     "input": [
      "import json"
     ],
     "language": "python",
     "metadata": {},
     "outputs": []
    },
    {
     "cell_type": "code",
     "collapsed": false,
     "input": [
      "%pylab"
     ],
     "language": "python",
     "metadata": {},
     "outputs": []
    },
    {
     "cell_type": "code",
     "collapsed": false,
     "input": [
      "import os\n",
      "from config import *"
     ],
     "language": "python",
     "metadata": {},
     "outputs": []
    },
    {
     "cell_type": "code",
     "collapsed": false,
     "input": [
      "os.listdir('Notebook Data')"
     ],
     "language": "python",
     "metadata": {},
     "outputs": []
    },
    {
     "cell_type": "code",
     "collapsed": false,
     "input": [
      "resultlist = [x for x in os.listdir('Notebook Data') if \"Tr6\" in x and 'jcginn' in x and 'Ep1000' in x and 'useFTrue' in x]"
     ],
     "language": "python",
     "metadata": {},
     "outputs": []
    },
    {
     "cell_type": "code",
     "collapsed": false,
     "input": [
      "resultlist = [x for x in os.listdir('Notebook Data') if \"Tr1\" in x and 'CirInSq-task3' in x]"
     ],
     "language": "python",
     "metadata": {},
     "outputs": []
    },
    {
     "cell_type": "code",
     "collapsed": false,
     "input": [
      "print resultlist"
     ],
     "language": "python",
     "metadata": {},
     "outputs": []
    },
    {
     "cell_type": "code",
     "collapsed": false,
     "input": [
      "def ParseObsResult(filename, subkey, secondKey=\"\", adjVal = 1.0, rmoutliers = True):\n",
      "    tmpResult = json.load(open(os.path.join(os.curdir, \"Notebook Data\", filename)))\n",
      "    if secondKey == \"\":\n",
      "        tr1varavg, tr1varerr = CalcMeanAndError([x['tr1.' + subkey] for x in tmpResult], rmoutliers=rmoutliers)\n",
      "        tr2varavg, tr2varerr = CalcMeanAndError([x['tr2.' + subkey] for x in tmpResult], rmoutliers=rmoutliers)\n",
      "        tr3varavg, tr3varerr = CalcMeanAndError([x['tr3.' + subkey] for x in tmpResult], rmoutliers=rmoutliers)\n",
      "    else:\n",
      "        tr1varavg, tr1varerr = CalcMeanAndError([x['tr1.' + subkey][secondKey] * adjVal for x in tmpResult], rmoutliers=rmoutliers)\n",
      "        tr2varavg, tr2varerr = CalcMeanAndError([x['tr2.' + subkey][secondKey] * adjVal for x in tmpResult], rmoutliers=rmoutliers)\n",
      "        tr3varavg, tr3varerr = CalcMeanAndError([x['tr3.' + subkey][secondKey] * adjVal for x in tmpResult], rmoutliers=rmoutliers)\n",
      "    retDict = {}\n",
      "    retDict['Average'] = {'tr1': tr1varavg, 'tr2': tr2varavg, 'tr3': tr3varavg}\n",
      "    retDict['Error'] = {'tr1': tr1varerr, 'tr2': tr2varerr, 'tr3': tr3varerr}\n",
      "    \n",
      "    return retDict"
     ],
     "language": "python",
     "metadata": {},
     "outputs": []
    },
    {
     "cell_type": "code",
     "collapsed": false,
     "input": [
      "import re\n",
      "findNtr = re.compile('(?<=Ntr)\\d+')\n",
      "findNrev = re.compile('(?<=Nrev)-?\\d+')"
     ],
     "language": "python",
     "metadata": {},
     "outputs": []
    },
    {
     "cell_type": "code",
     "collapsed": false,
     "input": [
      "print findNtr.search(resultlist[0]).group(0), findNrev.search(resultlist[0]).group(0)"
     ],
     "language": "python",
     "metadata": {},
     "outputs": []
    },
    {
     "cell_type": "code",
     "collapsed": false,
     "input": [
      "def Create3DBars(datalist, firstKey, secondKey=\"\", adjVal = 1.0, title=\"\"):\n",
      "\n",
      "    def Plot3dBar(xvals, yvals, xinds, yinds, zvals, colorarr):\n",
      "        fig = plt.figure()\n",
      "        ax = fig.gca(projection='3d')\n",
      "        sxvals = sorted(xvals)\n",
      "        syvals = sorted(yvals)\n",
      "        xticks = [str(x) for x in sxvals]\n",
      "        yticks = [str(x) for x in syvals]\n",
      "        xlocs = np.arange(1, len(xticks) + 1)\n",
      "        width = 0.2\n",
      "        xvalli = list(sxvals)\n",
      "        yvalli = list(syvals)\n",
      "        XCoord = np.array([xvalli.index(x) for x in xinds])\n",
      "        YCoord = np.array([yvalli.index(x) for x in yinds])\n",
      "        zinds = np.zeros_like(XCoord)\n",
      "        dx = np.ones_like(XCoord)\n",
      "        dy = np.ones_like(YCoord)\n",
      "        locAdj = 0\n",
      "        for arr, color in zip(zvals, colorarr):\n",
      "            locAdj += 1\n",
      "            ZCoord = np.array(arr)\n",
      "            ax.bar3d(XCoord + locAdj*width + 1, YCoord - 0.25, zinds, width, width, ZCoord, color=color)\n",
      "        plt.xticks(xlocs + (locAdj * (width/2)), xticks)\n",
      "        plt.yticks(range(len(yticks)),yticks)\n",
      "        plt.show()\n",
      "\n",
      "    # This will index over numTrain and numRev x will be nT y will be numRev\n",
      "    global findNtr, findNrev\n",
      "    xvals = set()\n",
      "    yvals = set()\n",
      "    xinds = []\n",
      "    yinds = []\n",
      "    tr1z = []\n",
      "    tr2z = []\n",
      "    tr3z = []\n",
      "    for fileN in datalist:\n",
      "        xval = int(findNrev.search(fileN).group(0))\n",
      "        yval = int(findNtr.search(fileN).group(0))\n",
      "        xvals.add(xval)\n",
      "        yvals.add(yval)\n",
      "        xinds.append(xval)\n",
      "        yinds.append(yval)\n",
      "        tmpVal = None\n",
      "        if secondKey == \"\":\n",
      "            tmpVal = ParseObsResult(fileN, firstKey)\n",
      "        else:\n",
      "            tmpVal = ParseObsResult(fileN, firstKey, secondKey, adjVal)\n",
      "        \n",
      "        tr1z.append(tmpVal['Average']['tr1'])\n",
      "        tr2z.append(tmpVal['Average']['tr2'])\n",
      "        tr3z.append(tmpVal['Average']['tr3'])\n",
      "        \n",
      "    Plot3dBar(xvals, yvals, xinds, yinds, [tr1z, tr2z, tr3z], ['b','g','r'])\n",
      "    \n",
      "    if title != \"\":\n",
      "        plt.title = title\n",
      "    #Plot3dBar(xvals, yvals, xinds, yinds, tr2z)\n",
      "    #Plot3dBar(xvals, yvals, xinds, yinds, tr3z)"
     ],
     "language": "python",
     "metadata": {},
     "outputs": []
    },
    {
     "cell_type": "code",
     "collapsed": false,
     "input": [
      "from mpl_toolkits.mplot3d import Axes3D"
     ],
     "language": "python",
     "metadata": {},
     "outputs": []
    },
    {
     "cell_type": "code",
     "collapsed": false,
     "input": [
      "#Create3DBars(resultlist, 'winError', 'totalErrorRate', 1800 / (7.0 * 900))\n",
      "Create3DBars(resultlist, 'winError', 'totalErrorRate')"
     ],
     "language": "python",
     "metadata": {},
     "outputs": []
    },
    {
     "cell_type": "code",
     "collapsed": false,
     "input": [
      "Create3DBars(resultlist, 'testError')"
     ],
     "language": "python",
     "metadata": {},
     "outputs": []
    },
    {
     "cell_type": "code",
     "collapsed": false,
     "input": [
      "Create3DBars(resultlist, 'testError', 'task-0')"
     ],
     "language": "python",
     "metadata": {},
     "outputs": []
    },
    {
     "cell_type": "code",
     "collapsed": false,
     "input": [
      "Create3DBars(resultlist, 'epochs')"
     ],
     "language": "python",
     "metadata": {},
     "outputs": []
    },
    {
     "cell_type": "code",
     "collapsed": false,
     "input": [],
     "language": "python",
     "metadata": {},
     "outputs": []
    }
   ],
   "metadata": {}
  }
 ]
}