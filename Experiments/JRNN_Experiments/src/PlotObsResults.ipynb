{
 "metadata": {
  "name": "PlotObsResults"
 },
 "nbformat": 3,
 "nbformat_minor": 0,
 "worksheets": [
  {
   "cells": [
    {
     "cell_type": "code",
     "collapsed": false,
     "input": [
      "import json"
     ],
     "language": "python",
     "metadata": {},
     "outputs": [],
     "prompt_number": 1
    },
    {
     "cell_type": "code",
     "collapsed": false,
     "input": [
      "%pylab"
     ],
     "language": "python",
     "metadata": {},
     "outputs": [
      {
       "output_type": "stream",
       "stream": "stdout",
       "text": [
        "\n",
        "Welcome to pylab, a matplotlib-based Python environment [backend: TkAgg].\n",
        "For more information, type 'help(pylab)'.\n"
       ]
      }
     ],
     "prompt_number": 2
    },
    {
     "cell_type": "code",
     "collapsed": false,
     "input": [
      "import os\n",
      "from config import *"
     ],
     "language": "python",
     "metadata": {},
     "outputs": [],
     "prompt_number": 3
    },
    {
     "cell_type": "code",
     "collapsed": false,
     "input": [
      "os.listdir('Notebook Data')"
     ],
     "language": "python",
     "metadata": {},
     "outputs": [
      {
       "output_type": "pyout",
       "prompt_number": 4,
       "text": [
        "['bandlinearresults.json',\n",
        " 'irisresults.json',\n",
        " 'ObsResultCong-Ep100-Nf900-Nr2-Tr5-Ntr100-Nv200-Nte900-Nrev1-In[1, 2, 3, 4]-ResFalse-useFFalse.json',\n",
        " 'ObsResultCong-Ep100-Nf900-Nr2-Tr5-Ntr100-Nv200-Nte900-Nrev1-In[1, 2, 3, 4]-ResFalse-useFTrue.json',\n",
        " 'ObsResultCong-Ep100-Nf900-Nr2-Tr5-Ntr100-Nv200-Nte900-Nrev2-In[1, 2, 3, 4]-ResFalse-useFFalse.json',\n",
        " 'ObsResultCong-Ep100-Nf900-Nr2-Tr5-Ntr100-Nv200-Nte900-Nrev2-In[1, 2, 3, 4]-ResFalse-useFTrue.json',\n",
        " 'ObsResultCong-Ep100-Nf900-Nr2-Tr5-Ntr50-Nv200-Nte900-Nrev1-In[1, 2, 3, 4]-ResFalse-useFFalse.json',\n",
        " 'ObsResultCong-Ep100-Nf900-Nr2-Tr5-Ntr50-Nv200-Nte900-Nrev1-In[1, 2, 3, 4]-ResFalse-useFTrue.json',\n",
        " 'ObsResultCong-Ep100-Nf900-Nr2-Tr5-Ntr50-Nv200-Nte900-Nrev2-In[1, 2, 3, 4]-ResFalse-useFFalse.json',\n",
        " 'ObsResultCong-Ep100-Nf900-Nr2-Tr5-Ntr50-Nv200-Nte900-Nrev2-In[1, 2, 3, 4]-ResFalse-useFTrue.json',\n",
        " 'ObsResultCong-Ep1000-Nf900-Nr10-Tr5-Ntr100-Nv200-Nte900-Nrev1-In[1, 2, 3, 4]-ResFalse-useFFalse_0.json',\n",
        " 'ObsResultCong-Ep1000-Nf900-Nr10-Tr5-Ntr100-Nv200-Nte900-Nrev1-In[1, 2, 3, 4]-ResFalse-useFTrue_0.json',\n",
        " 'ObsResultCong-Ep1000-Nf900-Nr10-Tr5-Ntr100-Nv200-Nte900-Nrev12-In[1, 2, 3, 4]-ResFalse-useFFalse_0.json',\n",
        " 'ObsResultCong-Ep1000-Nf900-Nr10-Tr5-Ntr100-Nv200-Nte900-Nrev12-In[1, 2, 3, 4]-ResFalse-useFTrue_0.json',\n",
        " 'ObsResultCong-Ep1000-Nf900-Nr10-Tr5-Ntr100-Nv200-Nte900-Nrev2-In[1, 2, 3, 4]-ResFalse-useFFalse_0.json',\n",
        " 'ObsResultCong-Ep1000-Nf900-Nr10-Tr5-Ntr100-Nv200-Nte900-Nrev2-In[1, 2, 3, 4]-ResFalse-useFTrue_0.json',\n",
        " 'ObsResultCong-Ep1000-Nf900-Nr10-Tr5-Ntr100-Nv200-Nte900-Nrev4-In[1, 2, 3, 4]-ResFalse-useFFalse_0.json',\n",
        " 'ObsResultCong-Ep1000-Nf900-Nr10-Tr5-Ntr100-Nv200-Nte900-Nrev4-In[1, 2, 3, 4]-ResFalse-useFTrue_0.json',\n",
        " 'ObsResultCong-Ep1000-Nf900-Nr10-Tr5-Ntr100-Nv200-Nte900-Nrev8-In[1, 2, 3, 4]-ResFalse-useFFalse_0.json',\n",
        " 'ObsResultCong-Ep1000-Nf900-Nr10-Tr5-Ntr100-Nv200-Nte900-Nrev8-In[1, 2, 3, 4]-ResFalse-useFTrue_0.json',\n",
        " 'ObsResultCong-Ep1000-Nf900-Nr10-Tr5-Ntr200-Nv200-Nte900-Nrev1-In[1, 2, 3, 4]-ResFalse-useFFalse_0.json',\n",
        " 'ObsResultCong-Ep1000-Nf900-Nr10-Tr5-Ntr200-Nv200-Nte900-Nrev1-In[1, 2, 3, 4]-ResFalse-useFTrue_0.json',\n",
        " 'ObsResultCong-Ep1000-Nf900-Nr10-Tr5-Ntr200-Nv200-Nte900-Nrev12-In[1, 2, 3, 4]-ResFalse-useFFalse_0.json',\n",
        " 'ObsResultCong-Ep1000-Nf900-Nr10-Tr5-Ntr200-Nv200-Nte900-Nrev12-In[1, 2, 3, 4]-ResFalse-useFTrue_0.json',\n",
        " 'ObsResultCong-Ep1000-Nf900-Nr10-Tr5-Ntr200-Nv200-Nte900-Nrev2-In[1, 2, 3, 4]-ResFalse-useFFalse_0.json',\n",
        " 'ObsResultCong-Ep1000-Nf900-Nr10-Tr5-Ntr200-Nv200-Nte900-Nrev2-In[1, 2, 3, 4]-ResFalse-useFTrue_0.json',\n",
        " 'ObsResultCong-Ep1000-Nf900-Nr10-Tr5-Ntr200-Nv200-Nte900-Nrev4-In[1, 2, 3, 4]-ResFalse-useFFalse_0.json',\n",
        " 'ObsResultCong-Ep1000-Nf900-Nr10-Tr5-Ntr200-Nv200-Nte900-Nrev4-In[1, 2, 3, 4]-ResFalse-useFTrue_0.json',\n",
        " 'ObsResultCong-Ep1000-Nf900-Nr10-Tr5-Ntr200-Nv200-Nte900-Nrev8-In[1, 2, 3, 4]-ResFalse-useFFalse_0.json',\n",
        " 'ObsResultCong-Ep1000-Nf900-Nr10-Tr5-Ntr200-Nv200-Nte900-Nrev8-In[1, 2, 3, 4]-ResFalse-useFTrue_0.json',\n",
        " 'ObsResultCong-Ep1000-Nf900-Nr10-Tr5-Ntr50-Nv200-Nte900-Nrev1-In[1, 2, 3, 4]-ResFalse-useFFalse_0.json',\n",
        " 'ObsResultCong-Ep1000-Nf900-Nr10-Tr5-Ntr50-Nv200-Nte900-Nrev1-In[1, 2, 3, 4]-ResFalse-useFTrue_0.json',\n",
        " 'ObsResultCong-Ep1000-Nf900-Nr10-Tr5-Ntr50-Nv200-Nte900-Nrev12-In[1, 2, 3, 4]-ResFalse-useFFalse_0.json',\n",
        " 'ObsResultCong-Ep1000-Nf900-Nr10-Tr5-Ntr50-Nv200-Nte900-Nrev12-In[1, 2, 3, 4]-ResFalse-useFTrue_0.json',\n",
        " 'ObsResultCong-Ep1000-Nf900-Nr10-Tr5-Ntr50-Nv200-Nte900-Nrev2-In[1, 2, 3, 4]-ResFalse-useFFalse_0.json',\n",
        " 'ObsResultCong-Ep1000-Nf900-Nr10-Tr5-Ntr50-Nv200-Nte900-Nrev2-In[1, 2, 3, 4]-ResFalse-useFTrue_0.json',\n",
        " 'ObsResultCong-Ep1000-Nf900-Nr10-Tr5-Ntr50-Nv200-Nte900-Nrev4-In[1, 2, 3, 4]-ResFalse-useFFalse_0.json',\n",
        " 'ObsResultCong-Ep1000-Nf900-Nr10-Tr5-Ntr50-Nv200-Nte900-Nrev4-In[1, 2, 3, 4]-ResFalse-useFTrue_0.json',\n",
        " 'ObsResultCong-Ep1000-Nf900-Nr10-Tr5-Ntr50-Nv200-Nte900-Nrev8-In[1, 2, 3, 4]-ResFalse-useFFalse_0.json',\n",
        " 'ObsResultCong-Ep1000-Nf900-Nr10-Tr5-Ntr50-Nv200-Nte900-Nrev8-In[1, 2, 3, 4]-ResFalse-useFTrue_0.json',\n",
        " 'ObsResultCong-Ep1000-Nf900-Nr10-Tr5-Ntr500-Nv200-Nte900-Nrev1-In[1, 2, 3, 4]-ResFalse-useFFalse_0.json',\n",
        " 'ObsResultCong-Ep1000-Nf900-Nr10-Tr5-Ntr500-Nv200-Nte900-Nrev1-In[1, 2, 3, 4]-ResFalse-useFTrue_0.json',\n",
        " 'ObsResultCong-Ep1000-Nf900-Nr10-Tr5-Ntr500-Nv200-Nte900-Nrev12-In[1, 2, 3, 4]-ResFalse-useFFalse_0.json',\n",
        " 'ObsResultCong-Ep1000-Nf900-Nr10-Tr5-Ntr500-Nv200-Nte900-Nrev12-In[1, 2, 3, 4]-ResFalse-useFTrue_0.json',\n",
        " 'ObsResultCong-Ep1000-Nf900-Nr10-Tr5-Ntr500-Nv200-Nte900-Nrev2-In[1, 2, 3, 4]-ResFalse-useFFalse_0.json',\n",
        " 'ObsResultCong-Ep1000-Nf900-Nr10-Tr5-Ntr500-Nv200-Nte900-Nrev2-In[1, 2, 3, 4]-ResFalse-useFTrue_0.json',\n",
        " 'ObsResultCong-Ep1000-Nf900-Nr10-Tr5-Ntr500-Nv200-Nte900-Nrev4-In[1, 2, 3, 4]-ResFalse-useFFalse_0.json',\n",
        " 'ObsResultCong-Ep1000-Nf900-Nr10-Tr5-Ntr500-Nv200-Nte900-Nrev4-In[1, 2, 3, 4]-ResFalse-useFTrue_0.json',\n",
        " 'ObsResultCong-Ep1000-Nf900-Nr10-Tr5-Ntr500-Nv200-Nte900-Nrev8-In[1, 2, 3, 4]-ResFalse-useFFalse_0.json',\n",
        " 'ObsResultCong-Ep1000-Nf900-Nr10-Tr5-Ntr500-Nv200-Nte900-Nrev8-In[1, 2, 3, 4]-ResFalse-useFTrue_0.json',\n",
        " 'ObsResultjcginn-Ep100-Nf900-Nr2-Tr5-Ntr100-Nv200-Nte900-Nrev1-In[1, 2, 3, 4]-ResFalse-useFFalse.json',\n",
        " 'ObsResultjcginn-Ep100-Nf900-Nr2-Tr5-Ntr100-Nv200-Nte900-Nrev1-In[1, 2, 3, 4]-ResFalse-useFTrue.json',\n",
        " 'ObsResultjcginn-Ep100-Nf900-Nr2-Tr5-Ntr100-Nv200-Nte900-Nrev2-In[1, 2, 3, 4]-ResFalse-useFFalse.json',\n",
        " 'ObsResultjcginn-Ep100-Nf900-Nr2-Tr5-Ntr100-Nv200-Nte900-Nrev2-In[1, 2, 3, 4]-ResFalse-useFTrue.json',\n",
        " 'ObsResultjcginn-Ep100-Nf900-Nr2-Tr5-Ntr50-Nv200-Nte900-Nrev1-In[1, 2, 3, 4]-ResFalse-useFFalse.json',\n",
        " 'ObsResultjcginn-Ep100-Nf900-Nr2-Tr5-Ntr50-Nv200-Nte900-Nrev1-In[1, 2, 3, 4]-ResFalse-useFTrue.json',\n",
        " 'ObsResultjcginn-Ep100-Nf900-Nr2-Tr5-Ntr50-Nv200-Nte900-Nrev2-In[1, 2, 3, 4]-ResFalse-useFFalse.json',\n",
        " 'ObsResultjcginn-Ep100-Nf900-Nr2-Tr5-Ntr50-Nv200-Nte900-Nrev2-In[1, 2, 3, 4]-ResFalse-useFTrue.json',\n",
        " 'ObsResultjcginn-Ep1000-Nf900-Nr10-Tr5-Ntr100-Nv200-Nte900-Nrev1-In[1, 2, 3, 4]-ResFalse-useFFalse_0.json',\n",
        " 'ObsResultjcginn-Ep1000-Nf900-Nr10-Tr5-Ntr100-Nv200-Nte900-Nrev1-In[1, 2, 3, 4]-ResFalse-useFTrue_0.json',\n",
        " 'ObsResultjcginn-Ep1000-Nf900-Nr10-Tr5-Ntr100-Nv200-Nte900-Nrev12-In[1, 2, 3, 4]-ResFalse-useFFalse_0.json',\n",
        " 'ObsResultjcginn-Ep1000-Nf900-Nr10-Tr5-Ntr100-Nv200-Nte900-Nrev12-In[1, 2, 3, 4]-ResFalse-useFTrue_0.json',\n",
        " 'ObsResultjcginn-Ep1000-Nf900-Nr10-Tr5-Ntr100-Nv200-Nte900-Nrev2-In[1, 2, 3, 4]-ResFalse-useFFalse_0.json',\n",
        " 'ObsResultjcginn-Ep1000-Nf900-Nr10-Tr5-Ntr100-Nv200-Nte900-Nrev2-In[1, 2, 3, 4]-ResFalse-useFTrue_0.json',\n",
        " 'ObsResultjcginn-Ep1000-Nf900-Nr10-Tr5-Ntr100-Nv200-Nte900-Nrev4-In[1, 2, 3, 4]-ResFalse-useFFalse_0.json',\n",
        " 'ObsResultjcginn-Ep1000-Nf900-Nr10-Tr5-Ntr100-Nv200-Nte900-Nrev4-In[1, 2, 3, 4]-ResFalse-useFTrue_0.json',\n",
        " 'ObsResultjcginn-Ep1000-Nf900-Nr10-Tr5-Ntr100-Nv200-Nte900-Nrev8-In[1, 2, 3, 4]-ResFalse-useFFalse_0.json',\n",
        " 'ObsResultjcginn-Ep1000-Nf900-Nr10-Tr5-Ntr100-Nv200-Nte900-Nrev8-In[1, 2, 3, 4]-ResFalse-useFTrue_0.json',\n",
        " 'ObsResultjcginn-Ep1000-Nf900-Nr10-Tr5-Ntr200-Nv200-Nte900-Nrev1-In[1, 2, 3, 4]-ResFalse-useFFalse_0.json',\n",
        " 'ObsResultjcginn-Ep1000-Nf900-Nr10-Tr5-Ntr200-Nv200-Nte900-Nrev1-In[1, 2, 3, 4]-ResFalse-useFTrue_0.json',\n",
        " 'ObsResultjcginn-Ep1000-Nf900-Nr10-Tr5-Ntr200-Nv200-Nte900-Nrev12-In[1, 2, 3, 4]-ResFalse-useFFalse_0.json',\n",
        " 'ObsResultjcginn-Ep1000-Nf900-Nr10-Tr5-Ntr200-Nv200-Nte900-Nrev12-In[1, 2, 3, 4]-ResFalse-useFTrue_0.json',\n",
        " 'ObsResultjcginn-Ep1000-Nf900-Nr10-Tr5-Ntr200-Nv200-Nte900-Nrev2-In[1, 2, 3, 4]-ResFalse-useFFalse_0.json',\n",
        " 'ObsResultjcginn-Ep1000-Nf900-Nr10-Tr5-Ntr200-Nv200-Nte900-Nrev2-In[1, 2, 3, 4]-ResFalse-useFTrue_0.json',\n",
        " 'ObsResultjcginn-Ep1000-Nf900-Nr10-Tr5-Ntr200-Nv200-Nte900-Nrev4-In[1, 2, 3, 4]-ResFalse-useFFalse_0.json',\n",
        " 'ObsResultjcginn-Ep1000-Nf900-Nr10-Tr5-Ntr200-Nv200-Nte900-Nrev4-In[1, 2, 3, 4]-ResFalse-useFTrue_0.json',\n",
        " 'ObsResultjcginn-Ep1000-Nf900-Nr10-Tr5-Ntr200-Nv200-Nte900-Nrev8-In[1, 2, 3, 4]-ResFalse-useFFalse_0.json',\n",
        " 'ObsResultjcginn-Ep1000-Nf900-Nr10-Tr5-Ntr200-Nv200-Nte900-Nrev8-In[1, 2, 3, 4]-ResFalse-useFTrue_0.json',\n",
        " 'ObsResultjcginn-Ep1000-Nf900-Nr10-Tr5-Ntr50-Nv200-Nte900-Nrev1-In[1, 2, 3, 4]-ResFalse-useFFalse_0.json',\n",
        " 'ObsResultjcginn-Ep1000-Nf900-Nr10-Tr5-Ntr50-Nv200-Nte900-Nrev1-In[1, 2, 3, 4]-ResFalse-useFTrue_0.json',\n",
        " 'ObsResultjcginn-Ep1000-Nf900-Nr10-Tr5-Ntr50-Nv200-Nte900-Nrev12-In[1, 2, 3, 4]-ResFalse-useFFalse_0.json',\n",
        " 'ObsResultjcginn-Ep1000-Nf900-Nr10-Tr5-Ntr50-Nv200-Nte900-Nrev12-In[1, 2, 3, 4]-ResFalse-useFTrue_0.json',\n",
        " 'ObsResultjcginn-Ep1000-Nf900-Nr10-Tr5-Ntr50-Nv200-Nte900-Nrev2-In[1, 2, 3, 4]-ResFalse-useFFalse_0.json',\n",
        " 'ObsResultjcginn-Ep1000-Nf900-Nr10-Tr5-Ntr50-Nv200-Nte900-Nrev2-In[1, 2, 3, 4]-ResFalse-useFTrue_0.json',\n",
        " 'ObsResultjcginn-Ep1000-Nf900-Nr10-Tr5-Ntr50-Nv200-Nte900-Nrev4-In[1, 2, 3, 4]-ResFalse-useFFalse_0.json',\n",
        " 'ObsResultjcginn-Ep1000-Nf900-Nr10-Tr5-Ntr50-Nv200-Nte900-Nrev4-In[1, 2, 3, 4]-ResFalse-useFTrue_0.json',\n",
        " 'ObsResultjcginn-Ep1000-Nf900-Nr10-Tr5-Ntr50-Nv200-Nte900-Nrev8-In[1, 2, 3, 4]-ResFalse-useFFalse_0.json',\n",
        " 'ObsResultjcginn-Ep1000-Nf900-Nr10-Tr5-Ntr50-Nv200-Nte900-Nrev8-In[1, 2, 3, 4]-ResFalse-useFTrue_0.json',\n",
        " 'ObsResultjcginn-Ep1000-Nf900-Nr10-Tr5-Ntr500-Nv200-Nte900-Nrev1-In[1, 2, 3, 4]-ResFalse-useFFalse_0.json',\n",
        " 'ObsResultjcginn-Ep1000-Nf900-Nr10-Tr5-Ntr500-Nv200-Nte900-Nrev1-In[1, 2, 3, 4]-ResFalse-useFTrue_0.json',\n",
        " 'ObsResultjcginn-Ep1000-Nf900-Nr10-Tr5-Ntr500-Nv200-Nte900-Nrev12-In[1, 2, 3, 4]-ResFalse-useFFalse_0.json',\n",
        " 'ObsResultjcginn-Ep1000-Nf900-Nr10-Tr5-Ntr500-Nv200-Nte900-Nrev12-In[1, 2, 3, 4]-ResFalse-useFTrue_0.json',\n",
        " 'ObsResultjcginn-Ep1000-Nf900-Nr10-Tr5-Ntr500-Nv200-Nte900-Nrev2-In[1, 2, 3, 4]-ResFalse-useFFalse_0.json',\n",
        " 'ObsResultjcginn-Ep1000-Nf900-Nr10-Tr5-Ntr500-Nv200-Nte900-Nrev2-In[1, 2, 3, 4]-ResFalse-useFTrue_0.json',\n",
        " 'ObsResultjcginn-Ep1000-Nf900-Nr10-Tr5-Ntr500-Nv200-Nte900-Nrev4-In[1, 2, 3, 4]-ResFalse-useFFalse_0.json',\n",
        " 'ObsResultjcginn-Ep1000-Nf900-Nr10-Tr5-Ntr500-Nv200-Nte900-Nrev4-In[1, 2, 3, 4]-ResFalse-useFTrue_0.json',\n",
        " 'ObsResultjcginn-Ep1000-Nf900-Nr10-Tr5-Ntr500-Nv200-Nte900-Nrev8-In[1, 2, 3, 4]-ResFalse-useFFalse_0.json',\n",
        " 'ObsResultjcginn-Ep1000-Nf900-Nr10-Tr5-Ntr500-Nv200-Nte900-Nrev8-In[1, 2, 3, 4]-ResFalse-useFTrue_0.json',\n",
        " 'ObsResultYinjie-Ep100-Nf900-Nr2-Tr5-Ntr100-Nv200-Nte900-Nrev1-In[1, 2, 3, 4]-ResFalse-useFFalse.json',\n",
        " 'ObsResultYinjie-Ep100-Nf900-Nr2-Tr5-Ntr100-Nv200-Nte900-Nrev1-In[1, 2, 3, 4]-ResFalse-useFTrue.json',\n",
        " 'ObsResultYinjie-Ep100-Nf900-Nr2-Tr5-Ntr100-Nv200-Nte900-Nrev2-In[1, 2, 3, 4]-ResFalse-useFFalse.json',\n",
        " 'ObsResultYinjie-Ep100-Nf900-Nr2-Tr5-Ntr100-Nv200-Nte900-Nrev2-In[1, 2, 3, 4]-ResFalse-useFTrue.json',\n",
        " 'ObsResultYinjie-Ep100-Nf900-Nr2-Tr5-Ntr50-Nv200-Nte900-Nrev1-In[1, 2, 3, 4]-ResFalse-useFFalse.json',\n",
        " 'ObsResultYinjie-Ep100-Nf900-Nr2-Tr5-Ntr50-Nv200-Nte900-Nrev1-In[1, 2, 3, 4]-ResFalse-useFTrue.json',\n",
        " 'ObsResultYinjie-Ep100-Nf900-Nr2-Tr5-Ntr50-Nv200-Nte900-Nrev2-In[1, 2, 3, 4]-ResFalse-useFFalse.json',\n",
        " 'ObsResultYinjie-Ep100-Nf900-Nr2-Tr5-Ntr50-Nv200-Nte900-Nrev2-In[1, 2, 3, 4]-ResFalse-useFTrue.json',\n",
        " 'ObsResultYinjie-Ep1000-Nf900-Nr10-Tr5-Ntr100-Nv200-Nte900-Nrev1-In[1, 2, 3, 4]-ResFalse-useFFalse_0.json',\n",
        " 'ObsResultYinjie-Ep1000-Nf900-Nr10-Tr5-Ntr100-Nv200-Nte900-Nrev1-In[1, 2, 3, 4]-ResFalse-useFTrue_0.json',\n",
        " 'ObsResultYinjie-Ep1000-Nf900-Nr10-Tr5-Ntr100-Nv200-Nte900-Nrev12-In[1, 2, 3, 4]-ResFalse-useFFalse_0.json',\n",
        " 'ObsResultYinjie-Ep1000-Nf900-Nr10-Tr5-Ntr100-Nv200-Nte900-Nrev12-In[1, 2, 3, 4]-ResFalse-useFTrue_0.json',\n",
        " 'ObsResultYinjie-Ep1000-Nf900-Nr10-Tr5-Ntr100-Nv200-Nte900-Nrev2-In[1, 2, 3, 4]-ResFalse-useFFalse_0.json',\n",
        " 'ObsResultYinjie-Ep1000-Nf900-Nr10-Tr5-Ntr100-Nv200-Nte900-Nrev2-In[1, 2, 3, 4]-ResFalse-useFTrue_0.json',\n",
        " 'ObsResultYinjie-Ep1000-Nf900-Nr10-Tr5-Ntr100-Nv200-Nte900-Nrev4-In[1, 2, 3, 4]-ResFalse-useFFalse_0.json',\n",
        " 'ObsResultYinjie-Ep1000-Nf900-Nr10-Tr5-Ntr100-Nv200-Nte900-Nrev4-In[1, 2, 3, 4]-ResFalse-useFTrue_0.json',\n",
        " 'ObsResultYinjie-Ep1000-Nf900-Nr10-Tr5-Ntr100-Nv200-Nte900-Nrev8-In[1, 2, 3, 4]-ResFalse-useFFalse_0.json',\n",
        " 'ObsResultYinjie-Ep1000-Nf900-Nr10-Tr5-Ntr100-Nv200-Nte900-Nrev8-In[1, 2, 3, 4]-ResFalse-useFTrue_0.json',\n",
        " 'ObsResultYinjie-Ep1000-Nf900-Nr10-Tr5-Ntr200-Nv200-Nte900-Nrev1-In[1, 2, 3, 4]-ResFalse-useFFalse_0.json',\n",
        " 'ObsResultYinjie-Ep1000-Nf900-Nr10-Tr5-Ntr200-Nv200-Nte900-Nrev1-In[1, 2, 3, 4]-ResFalse-useFTrue_0.json',\n",
        " 'ObsResultYinjie-Ep1000-Nf900-Nr10-Tr5-Ntr200-Nv200-Nte900-Nrev12-In[1, 2, 3, 4]-ResFalse-useFFalse_0.json',\n",
        " 'ObsResultYinjie-Ep1000-Nf900-Nr10-Tr5-Ntr200-Nv200-Nte900-Nrev12-In[1, 2, 3, 4]-ResFalse-useFTrue_0.json',\n",
        " 'ObsResultYinjie-Ep1000-Nf900-Nr10-Tr5-Ntr200-Nv200-Nte900-Nrev2-In[1, 2, 3, 4]-ResFalse-useFFalse_0.json',\n",
        " 'ObsResultYinjie-Ep1000-Nf900-Nr10-Tr5-Ntr200-Nv200-Nte900-Nrev2-In[1, 2, 3, 4]-ResFalse-useFTrue_0.json',\n",
        " 'ObsResultYinjie-Ep1000-Nf900-Nr10-Tr5-Ntr200-Nv200-Nte900-Nrev4-In[1, 2, 3, 4]-ResFalse-useFFalse_0.json',\n",
        " 'ObsResultYinjie-Ep1000-Nf900-Nr10-Tr5-Ntr200-Nv200-Nte900-Nrev4-In[1, 2, 3, 4]-ResFalse-useFTrue_0.json',\n",
        " 'ObsResultYinjie-Ep1000-Nf900-Nr10-Tr5-Ntr200-Nv200-Nte900-Nrev8-In[1, 2, 3, 4]-ResFalse-useFFalse_0.json',\n",
        " 'ObsResultYinjie-Ep1000-Nf900-Nr10-Tr5-Ntr200-Nv200-Nte900-Nrev8-In[1, 2, 3, 4]-ResFalse-useFTrue_0.json',\n",
        " 'ObsResultYinjie-Ep1000-Nf900-Nr10-Tr5-Ntr50-Nv200-Nte900-Nrev1-In[1, 2, 3, 4]-ResFalse-useFFalse_0.json',\n",
        " 'ObsResultYinjie-Ep1000-Nf900-Nr10-Tr5-Ntr50-Nv200-Nte900-Nrev1-In[1, 2, 3, 4]-ResFalse-useFTrue_0.json',\n",
        " 'ObsResultYinjie-Ep1000-Nf900-Nr10-Tr5-Ntr50-Nv200-Nte900-Nrev12-In[1, 2, 3, 4]-ResFalse-useFFalse_0.json',\n",
        " 'ObsResultYinjie-Ep1000-Nf900-Nr10-Tr5-Ntr50-Nv200-Nte900-Nrev12-In[1, 2, 3, 4]-ResFalse-useFTrue_0.json',\n",
        " 'ObsResultYinjie-Ep1000-Nf900-Nr10-Tr5-Ntr50-Nv200-Nte900-Nrev2-In[1, 2, 3, 4]-ResFalse-useFFalse_0.json',\n",
        " 'ObsResultYinjie-Ep1000-Nf900-Nr10-Tr5-Ntr50-Nv200-Nte900-Nrev2-In[1, 2, 3, 4]-ResFalse-useFTrue_0.json',\n",
        " 'ObsResultYinjie-Ep1000-Nf900-Nr10-Tr5-Ntr50-Nv200-Nte900-Nrev4-In[1, 2, 3, 4]-ResFalse-useFFalse_0.json',\n",
        " 'ObsResultYinjie-Ep1000-Nf900-Nr10-Tr5-Ntr50-Nv200-Nte900-Nrev4-In[1, 2, 3, 4]-ResFalse-useFTrue_0.json',\n",
        " 'ObsResultYinjie-Ep1000-Nf900-Nr10-Tr5-Ntr50-Nv200-Nte900-Nrev8-In[1, 2, 3, 4]-ResFalse-useFFalse_0.json',\n",
        " 'ObsResultYinjie-Ep1000-Nf900-Nr10-Tr5-Ntr50-Nv200-Nte900-Nrev8-In[1, 2, 3, 4]-ResFalse-useFTrue_0.json',\n",
        " 'ObsResultYinjie-Ep1000-Nf900-Nr10-Tr5-Ntr500-Nv200-Nte900-Nrev1-In[1, 2, 3, 4]-ResFalse-useFFalse_0.json',\n",
        " 'ObsResultYinjie-Ep1000-Nf900-Nr10-Tr5-Ntr500-Nv200-Nte900-Nrev1-In[1, 2, 3, 4]-ResFalse-useFTrue_0.json',\n",
        " 'ObsResultYinjie-Ep1000-Nf900-Nr10-Tr5-Ntr500-Nv200-Nte900-Nrev12-In[1, 2, 3, 4]-ResFalse-useFFalse_0.json',\n",
        " 'ObsResultYinjie-Ep1000-Nf900-Nr10-Tr5-Ntr500-Nv200-Nte900-Nrev12-In[1, 2, 3, 4]-ResFalse-useFTrue_0.json',\n",
        " 'ObsResultYinjie-Ep1000-Nf900-Nr10-Tr5-Ntr500-Nv200-Nte900-Nrev2-In[1, 2, 3, 4]-ResFalse-useFFalse_0.json',\n",
        " 'ObsResultYinjie-Ep1000-Nf900-Nr10-Tr5-Ntr500-Nv200-Nte900-Nrev2-In[1, 2, 3, 4]-ResFalse-useFTrue_0.json',\n",
        " 'ObsResultYinjie-Ep1000-Nf900-Nr10-Tr5-Ntr500-Nv200-Nte900-Nrev4-In[1, 2, 3, 4]-ResFalse-useFFalse_0.json',\n",
        " 'ObsResultYinjie-Ep1000-Nf900-Nr10-Tr5-Ntr500-Nv200-Nte900-Nrev4-In[1, 2, 3, 4]-ResFalse-useFTrue_0.json',\n",
        " 'ObsResultYinjie-Ep1000-Nf900-Nr10-Tr5-Ntr500-Nv200-Nte900-Nrev8-In[1, 2, 3, 4]-ResFalse-useFFalse_0.json',\n",
        " 'ObsResultYinjie-Ep1000-Nf900-Nr10-Tr5-Ntr500-Nv200-Nte900-Nrev8-In[1, 2, 3, 4]-ResFalse-useFTrue_0.json',\n",
        " 'RevCCObsCongResults.json',\n",
        " 'RevCCObsJamesResults.json',\n",
        " 'RevCCObsYinjieResults.json',\n",
        " 'SugarSyncTemp']"
       ]
      }
     ],
     "prompt_number": 4
    },
    {
     "cell_type": "code",
     "collapsed": false,
     "input": [
      "resultlist = [x for x in os.listdir('Notebook Data') if \"Tr5\" in x and 'Cong' in x and 'Ep1000' in x and 'useFFalse' in x]"
     ],
     "language": "python",
     "metadata": {},
     "outputs": [],
     "prompt_number": 87
    },
    {
     "cell_type": "code",
     "collapsed": false,
     "input": [
      "print resultlist"
     ],
     "language": "python",
     "metadata": {},
     "outputs": [
      {
       "output_type": "stream",
       "stream": "stdout",
       "text": [
        "['ObsResultCong-Ep1000-Nf900-Nr10-Tr5-Ntr100-Nv200-Nte900-Nrev1-In[1, 2, 3, 4]-ResFalse-useFFalse_0.json', 'ObsResultCong-Ep1000-Nf900-Nr10-Tr5-Ntr100-Nv200-Nte900-Nrev12-In[1, 2, 3, 4]-ResFalse-useFFalse_0.json', 'ObsResultCong-Ep1000-Nf900-Nr10-Tr5-Ntr100-Nv200-Nte900-Nrev2-In[1, 2, 3, 4]-ResFalse-useFFalse_0.json', 'ObsResultCong-Ep1000-Nf900-Nr10-Tr5-Ntr100-Nv200-Nte900-Nrev4-In[1, 2, 3, 4]-ResFalse-useFFalse_0.json', 'ObsResultCong-Ep1000-Nf900-Nr10-Tr5-Ntr100-Nv200-Nte900-Nrev8-In[1, 2, 3, 4]-ResFalse-useFFalse_0.json', 'ObsResultCong-Ep1000-Nf900-Nr10-Tr5-Ntr200-Nv200-Nte900-Nrev1-In[1, 2, 3, 4]-ResFalse-useFFalse_0.json', 'ObsResultCong-Ep1000-Nf900-Nr10-Tr5-Ntr200-Nv200-Nte900-Nrev12-In[1, 2, 3, 4]-ResFalse-useFFalse_0.json', 'ObsResultCong-Ep1000-Nf900-Nr10-Tr5-Ntr200-Nv200-Nte900-Nrev2-In[1, 2, 3, 4]-ResFalse-useFFalse_0.json', 'ObsResultCong-Ep1000-Nf900-Nr10-Tr5-Ntr200-Nv200-Nte900-Nrev4-In[1, 2, 3, 4]-ResFalse-useFFalse_0.json', 'ObsResultCong-Ep1000-Nf900-Nr10-Tr5-Ntr200-Nv200-Nte900-Nrev8-In[1, 2, 3, 4]-ResFalse-useFFalse_0.json', 'ObsResultCong-Ep1000-Nf900-Nr10-Tr5-Ntr50-Nv200-Nte900-Nrev1-In[1, 2, 3, 4]-ResFalse-useFFalse_0.json', 'ObsResultCong-Ep1000-Nf900-Nr10-Tr5-Ntr50-Nv200-Nte900-Nrev12-In[1, 2, 3, 4]-ResFalse-useFFalse_0.json', 'ObsResultCong-Ep1000-Nf900-Nr10-Tr5-Ntr50-Nv200-Nte900-Nrev2-In[1, 2, 3, 4]-ResFalse-useFFalse_0.json', 'ObsResultCong-Ep1000-Nf900-Nr10-Tr5-Ntr50-Nv200-Nte900-Nrev4-In[1, 2, 3, 4]-ResFalse-useFFalse_0.json', 'ObsResultCong-Ep1000-Nf900-Nr10-Tr5-Ntr50-Nv200-Nte900-Nrev8-In[1, 2, 3, 4]-ResFalse-useFFalse_0.json', 'ObsResultCong-Ep1000-Nf900-Nr10-Tr5-Ntr500-Nv200-Nte900-Nrev1-In[1, 2, 3, 4]-ResFalse-useFFalse_0.json', 'ObsResultCong-Ep1000-Nf900-Nr10-Tr5-Ntr500-Nv200-Nte900-Nrev12-In[1, 2, 3, 4]-ResFalse-useFFalse_0.json', 'ObsResultCong-Ep1000-Nf900-Nr10-Tr5-Ntr500-Nv200-Nte900-Nrev2-In[1, 2, 3, 4]-ResFalse-useFFalse_0.json', 'ObsResultCong-Ep1000-Nf900-Nr10-Tr5-Ntr500-Nv200-Nte900-Nrev4-In[1, 2, 3, 4]-ResFalse-useFFalse_0.json', 'ObsResultCong-Ep1000-Nf900-Nr10-Tr5-Ntr500-Nv200-Nte900-Nrev8-In[1, 2, 3, 4]-ResFalse-useFFalse_0.json']\n"
       ]
      }
     ],
     "prompt_number": 88
    },
    {
     "cell_type": "code",
     "collapsed": false,
     "input": [
      "def ParseObsResult(filename, subkey, secondKey=\"\", adjVal = 1.0, rmoutliers = True):\n",
      "    tmpResult = json.load(open(os.path.join(os.curdir, \"Notebook Data\", filename)))\n",
      "    if secondKey == \"\":\n",
      "        tr1varavg, tr1varerr = CalcMeanAndError([x['tr1.' + subkey] for x in tmpResult], rmoutliers=rmoutliers)\n",
      "        tr2varavg, tr2varerr = CalcMeanAndError([x['tr2.' + subkey] for x in tmpResult], rmoutliers=rmoutliers)\n",
      "        tr3varavg, tr3varerr = CalcMeanAndError([x['tr3.' + subkey] for x in tmpResult], rmoutliers=rmoutliers)\n",
      "    else:\n",
      "        tr1varavg, tr1varerr = CalcMeanAndError([x['tr1.' + subkey][secondKey] * adjVal for x in tmpResult], rmoutliers=rmoutliers)\n",
      "        tr2varavg, tr2varerr = CalcMeanAndError([x['tr2.' + subkey][secondKey] * adjVal for x in tmpResult], rmoutliers=rmoutliers)\n",
      "        tr3varavg, tr3varerr = CalcMeanAndError([x['tr3.' + subkey][secondKey] * adjVal for x in tmpResult], rmoutliers=rmoutliers)\n",
      "    retDict = {}\n",
      "    retDict['Average'] = {'tr1': tr1varavg, 'tr2': tr2varavg, 'tr3': tr3varavg}\n",
      "    retDict['Error'] = {'tr1': tr1varerr, 'tr2': tr2varerr, 'tr3': tr3varerr}\n",
      "    \n",
      "    return retDict"
     ],
     "language": "python",
     "metadata": {},
     "outputs": [],
     "prompt_number": 22
    },
    {
     "cell_type": "code",
     "collapsed": false,
     "input": [
      "tmp = ParseObsResult(resultlist[0], 'epochs')\n",
      "tmp"
     ],
     "language": "python",
     "metadata": {},
     "outputs": [
      {
       "output_type": "pyout",
       "prompt_number": 25,
       "text": [
        "{'Average': {'tr1': 791.70000000000005,\n",
        "  'tr2': 1280.2,\n",
        "  'tr3': 1424.8888888888889},\n",
        " 'Error': {'tr1': 110.49378984809657,\n",
        "  'tr2': 194.01543737568451,\n",
        "  'tr3': 130.41866634769042}}"
       ]
      }
     ],
     "prompt_number": 25
    },
    {
     "cell_type": "code",
     "collapsed": false,
     "input": [
      "tmp2 = ParseObsResult(resultlist[0], 'hiddenLayers')\n",
      "tmp2"
     ],
     "language": "python",
     "metadata": {},
     "outputs": [
      {
       "output_type": "pyout",
       "prompt_number": 26,
       "text": [
        "{'Average': {'tr1': 14.9, 'tr2': 16.0, 'tr3': 16.899999999999999},\n",
        " 'Error': {'tr1': 4.1773413373444441,\n",
        "  'tr2': 5.3426088347756631,\n",
        "  'tr3': 6.285830635123081}}"
       ]
      }
     ],
     "prompt_number": 26
    },
    {
     "cell_type": "code",
     "collapsed": false,
     "input": [
      "tmp3 = ParseObsResult(resultlist[0], 'testError')\n",
      "tmp3"
     ],
     "language": "python",
     "metadata": {},
     "outputs": [
      {
       "output_type": "pyout",
       "prompt_number": 27,
       "text": [
        "{'Average': {'tr1': 1.6159530671364721,\n",
        "  'tr2': 1.5338619774223592,\n",
        "  'tr3': 2.2318995989832424},\n",
        " 'Error': {'tr1': 0.010985334459767253,\n",
        "  'tr2': 0.14032536161590617,\n",
        "  'tr3': 0.15611875419753202}}"
       ]
      }
     ],
     "prompt_number": 27
    },
    {
     "cell_type": "code",
     "collapsed": false,
     "input": [
      "tmp4 = ParseObsResult(resultlist[0], 'winError', 'totalErrorRate', 1800 / (7.0 * 900))\n",
      "tmp4"
     ],
     "language": "python",
     "metadata": {},
     "outputs": [
      {
       "output_type": "pyout",
       "prompt_number": 28,
       "text": [
        "{'Average': {'tr1': 0.34735449735449736,\n",
        "  'tr2': 0.25391534391534393,\n",
        "  'tr3': 0.28813051146384477},\n",
        " 'Error': {'tr1': 0.0013545397102700816,\n",
        "  'tr2': 0.005971366150814816,\n",
        "  'tr3': 0.0037605154832676471}}"
       ]
      }
     ],
     "prompt_number": 28
    },
    {
     "cell_type": "code",
     "collapsed": false,
     "input": [
      "tmpObject = json.load(open(os.path.join(os.curdir, \"Notebook Data\", resultlist[0])))"
     ],
     "language": "python",
     "metadata": {},
     "outputs": [],
     "prompt_number": 13
    },
    {
     "cell_type": "code",
     "collapsed": false,
     "input": [
      "tmpObject[0]"
     ],
     "language": "python",
     "metadata": {},
     "outputs": [
      {
       "output_type": "pyout",
       "prompt_number": 15,
       "text": [
        "{u'tr1.epochs': 1029,\n",
        " u'tr1.hiddenLayers': 14,\n",
        " u'tr1.testError': 0.33198336622575497,\n",
        " u'tr1.winError': {u'groupErrorRate': [0.016666666666666666,\n",
        "   0.48333333333333334],\n",
        "  u'groupMSE': [0.049152860922642566, 0.16775584811454908],\n",
        "  u'totalErrorRate': 0.3977777777777778,\n",
        "  u'totalMSE': 0.10845435451859574},\n",
        " u'tr2.epochs': 1035,\n",
        " u'tr2.hiddenLayers': 31,\n",
        " u'tr2.testError': 0.21612068406779825,\n",
        " u'tr2.winError': {u'groupErrorRate': [0.01888888888888889,\n",
        "   0.43222222222222223],\n",
        "  u'groupMSE': [0.04223241053781484, 0.1356098654790009],\n",
        "  u'totalErrorRate': 0.465,\n",
        "  u'totalMSE': 0.0889211380084078},\n",
        " u'tr3.epochs': 1433,\n",
        " u'tr3.hiddenLayers': 35,\n",
        " u'tr3.testError': 0.2791676767187415,\n",
        " u'tr3.winError': {u'groupErrorRate': [0.01, 0.6377777777777778],\n",
        "  u'groupMSE': [0.056835046679323334, 0.1953569784356889],\n",
        "  u'totalErrorRate': 1.0183333333333333,\n",
        "  u'totalMSE': 0.12609601255750597}}"
       ]
      }
     ],
     "prompt_number": 15
    },
    {
     "cell_type": "code",
     "collapsed": false,
     "input": [
      "numIncorrect = 1.01833333 * 1800"
     ],
     "language": "python",
     "metadata": {},
     "outputs": [],
     "prompt_number": 16
    },
    {
     "cell_type": "code",
     "collapsed": false,
     "input": [
      "numIncorrect / (7.0*900)"
     ],
     "language": "python",
     "metadata": {},
     "outputs": [
      {
       "output_type": "pyout",
       "prompt_number": 17,
       "text": [
        "0.29095237999999995"
       ]
      }
     ],
     "prompt_number": 17
    },
    {
     "cell_type": "code",
     "collapsed": false,
     "input": [
      "0.397777 * 0.2857142857142857"
     ],
     "language": "python",
     "metadata": {},
     "outputs": [
      {
       "output_type": "pyout",
       "prompt_number": 21,
       "text": [
        "0.11365057142857142"
       ]
      }
     ],
     "prompt_number": 21
    },
    {
     "cell_type": "code",
     "collapsed": false,
     "input": [
      "1800 / (7.0 * 900)"
     ],
     "language": "python",
     "metadata": {},
     "outputs": [
      {
       "output_type": "pyout",
       "prompt_number": 20,
       "text": [
        "0.2857142857142857"
       ]
      }
     ],
     "prompt_number": 20
    },
    {
     "cell_type": "code",
     "collapsed": false,
     "input": [
      "import re\n",
      "findNtr = re.compile('(?<=Ntr)\\d+')\n",
      "findNrev = re.compile('(?<=Nrev)\\d+')"
     ],
     "language": "python",
     "metadata": {},
     "outputs": [],
     "prompt_number": 34
    },
    {
     "cell_type": "code",
     "collapsed": false,
     "input": [
      "print findNtr.search(resultlist[0]).group(0), findNrev.search(resultlist[0]).group(0)"
     ],
     "language": "python",
     "metadata": {},
     "outputs": [
      {
       "output_type": "stream",
       "stream": "stdout",
       "text": [
        "100 1\n"
       ]
      }
     ],
     "prompt_number": 35
    },
    {
     "cell_type": "code",
     "collapsed": false,
     "input": [
      "def Create3DBars(datalist, firstKey, secondKey=\"\", adjVal = 1.0):\n",
      "\n",
      "    def Plot3dBar(xvals, yvals, xinds, yinds, zvals, colorarr):\n",
      "        fig = plt.figure()\n",
      "        ax = fig.gca(projection='3d')\n",
      "        sxvals = sorted(xvals)\n",
      "        syvals = sorted(yvals)\n",
      "        xticks = [str(x) for x in sxvals]\n",
      "        yticks = [str(x) for x in syvals]\n",
      "        xlocs = np.arange(1, len(xticks) + 1)\n",
      "        width = 0.2\n",
      "        xvalli = list(sxvals)\n",
      "        yvalli = list(syvals)\n",
      "        XCoord = np.array([xvalli.index(x) for x in xinds])\n",
      "        YCoord = np.array([yvalli.index(x) for x in yinds])\n",
      "        zinds = np.zeros_like(XCoord)\n",
      "        dx = np.ones_like(XCoord)\n",
      "        dy = np.ones_like(YCoord)\n",
      "        locAdj = 0\n",
      "        for arr, color in zip(zvals, colorarr):\n",
      "            locAdj += 1\n",
      "            ZCoord = np.array(arr)\n",
      "            ax.bar3d(XCoord + locAdj*width + 1, YCoord - 0.25, zinds, width, width, ZCoord, color=color)\n",
      "        plt.xticks(xlocs + (locAdj * (width/2)), xticks)\n",
      "        plt.yticks(range(len(yticks)),yticks)\n",
      "        plt.show()\n",
      "\n",
      "    # This will index over numTrain and numRev x will be nT y will be numRev\n",
      "    global findNtr, findNrev\n",
      "    xvals = set()\n",
      "    yvals = set()\n",
      "    xinds = []\n",
      "    yinds = []\n",
      "    tr1z = []\n",
      "    tr2z = []\n",
      "    tr3z = []\n",
      "    for fileN in datalist:\n",
      "        xval = int(findNrev.search(fileN).group(0))\n",
      "        yval = int(findNtr.search(fileN).group(0))\n",
      "        xvals.add(xval)\n",
      "        yvals.add(yval)\n",
      "        xinds.append(xval)\n",
      "        yinds.append(yval)\n",
      "        tmpVal = None\n",
      "        if secondKey == \"\":\n",
      "            tmpVal = ParseObsResult(fileN, firstKey)\n",
      "        else:\n",
      "            tmpVal = ParseObsResult(fileN, firstKey, secondKey, adjVal)\n",
      "        \n",
      "        tr1z.append(tmpVal['Average']['tr1'])\n",
      "        tr2z.append(tmpVal['Average']['tr2'])\n",
      "        tr3z.append(tmpVal['Average']['tr3'])\n",
      "        \n",
      "    Plot3dBar(xvals, yvals, xinds, yinds, [tr1z, tr2z, tr3z], ['b','g','r'])\n",
      "    #Plot3dBar(xvals, yvals, xinds, yinds, tr2z)\n",
      "    #Plot3dBar(xvals, yvals, xinds, yinds, tr3z)"
     ],
     "language": "python",
     "metadata": {},
     "outputs": [],
     "prompt_number": 74
    },
    {
     "cell_type": "code",
     "collapsed": false,
     "input": [
      "from mpl_toolkits.mplot3d import Axes3D"
     ],
     "language": "python",
     "metadata": {},
     "outputs": [],
     "prompt_number": 38
    },
    {
     "cell_type": "code",
     "collapsed": false,
     "input": [
      "#Create3DBars(resultlist, 'winError', 'totalErrorRate', 1800 / (7.0 * 900))\n",
      "Create3DBars(resultlist, 'winError', 'totalErrorRate')"
     ],
     "language": "python",
     "metadata": {},
     "outputs": [],
     "prompt_number": 89
    },
    {
     "cell_type": "code",
     "collapsed": false,
     "input": [
      "Create3DBars(resultlist, 'testError')"
     ],
     "language": "python",
     "metadata": {},
     "outputs": [],
     "prompt_number": 90
    },
    {
     "cell_type": "code",
     "collapsed": false,
     "input": [
      "Create3DBars(resultlist, 'epochs')"
     ],
     "language": "python",
     "metadata": {},
     "outputs": [],
     "prompt_number": 91
    },
    {
     "cell_type": "code",
     "collapsed": false,
     "input": [
      "tst = set([1,2,3,4])\n",
      "[x for x in tst].index(2)"
     ],
     "language": "python",
     "metadata": {},
     "outputs": [
      {
       "output_type": "pyout",
       "prompt_number": 54,
       "text": [
        "1"
       ]
      }
     ],
     "prompt_number": 54
    },
    {
     "cell_type": "code",
     "collapsed": false,
     "input": [
      "RevCCObject = json.load(open(os.path.join(os.curdir, 'Notebook Data', 'RevCCObsYinjieResults.json')))"
     ],
     "language": "python",
     "metadata": {},
     "outputs": [],
     "prompt_number": 92
    },
    {
     "cell_type": "code",
     "collapsed": false,
     "input": [
      "del RevCCObject"
     ],
     "language": "python",
     "metadata": {},
     "outputs": [],
     "prompt_number": 95
    },
    {
     "cell_type": "code",
     "collapsed": false,
     "input": [],
     "language": "python",
     "metadata": {},
     "outputs": []
    }
   ],
   "metadata": {}
  }
 ]
}