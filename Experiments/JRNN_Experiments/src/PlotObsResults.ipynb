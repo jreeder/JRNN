{
 "metadata": {
  "name": "PlotObsResults"
 },
 "nbformat": 3,
 "nbformat_minor": 0,
 "worksheets": [
  {
   "cells": [
    {
     "cell_type": "heading",
     "level": 1,
     "metadata": {},
     "source": [
      "Plotting Tools for the Observational Tests"
     ]
    },
    {
     "cell_type": "heading",
     "level": 3,
     "metadata": {},
     "source": [
      "Imports"
     ]
    },
    {
     "cell_type": "code",
     "collapsed": false,
     "input": [
      "import json"
     ],
     "language": "python",
     "metadata": {},
     "outputs": []
    },
    {
     "cell_type": "code",
     "collapsed": false,
     "input": [
      "%pylab"
     ],
     "language": "python",
     "metadata": {},
     "outputs": []
    },
    {
     "cell_type": "code",
     "collapsed": false,
     "input": [
      "import os\n",
      "from config import *"
     ],
     "language": "python",
     "metadata": {},
     "outputs": []
    },
    {
     "cell_type": "code",
     "collapsed": false,
     "input": [
      "from itertools import cycle"
     ],
     "language": "python",
     "metadata": {},
     "outputs": []
    },
    {
     "cell_type": "code",
     "collapsed": false,
     "input": [
      "from mpl_toolkits.mplot3d import Axes3D"
     ],
     "language": "python",
     "metadata": {},
     "outputs": []
    },
    {
     "cell_type": "heading",
     "level": 3,
     "metadata": {},
     "source": [
      "Define Functions"
     ]
    },
    {
     "cell_type": "code",
     "collapsed": false,
     "input": [
      "def ParseObsResult(filename, subkey, secondKey=\"\", adjVal = 1.0, rmoutliers = True):\n",
      "    tmpResult = json.load(open(os.path.join(os.curdir, \"Notebook Data\", filename)))\n",
      "    if secondKey == \"\":\n",
      "        tr1varavg, tr1varerr = CalcMeanAndError([x['tr1.' + subkey] for x in tmpResult], rmoutliers=rmoutliers)\n",
      "        tr2varavg, tr2varerr = CalcMeanAndError([x['tr2.' + subkey] for x in tmpResult], rmoutliers=rmoutliers)\n",
      "        tr3varavg, tr3varerr = CalcMeanAndError([x['tr3.' + subkey] for x in tmpResult], rmoutliers=rmoutliers)\n",
      "    else:\n",
      "        tr1varavg, tr1varerr = CalcMeanAndError([x['tr1.' + subkey][secondKey] * adjVal for x in tmpResult], rmoutliers=rmoutliers)\n",
      "        tr2varavg, tr2varerr = CalcMeanAndError([x['tr2.' + subkey][secondKey] * adjVal for x in tmpResult], rmoutliers=rmoutliers)\n",
      "        tr3varavg, tr3varerr = CalcMeanAndError([x['tr3.' + subkey][secondKey] * adjVal for x in tmpResult], rmoutliers=rmoutliers)\n",
      "    retDict = {}\n",
      "    retDict['Average'] = {'tr1': tr1varavg, 'tr2': tr2varavg, 'tr3': tr3varavg}\n",
      "    retDict['Error'] = {'tr1': tr1varerr, 'tr2': tr2varerr, 'tr3': tr3varerr}\n",
      "    \n",
      "    return retDict"
     ],
     "language": "python",
     "metadata": {},
     "outputs": []
    },
    {
     "cell_type": "code",
     "collapsed": false,
     "input": [
      "import re\n",
      "findNtr = re.compile('(?<=Ntr)\\d+')\n",
      "findNrev = re.compile('(?<=Nrev)-?\\d+')"
     ],
     "language": "python",
     "metadata": {},
     "outputs": []
    },
    {
     "cell_type": "code",
     "collapsed": false,
     "input": [
      "def Create3DBars(datalist, firstKey, secondKey=\"\", adjVal = 1.0, title=\"\"):\n",
      "\n",
      "    def Plot3dBar(xvals, yvals, xinds, yinds, zvals, colorarr):\n",
      "        fig = plt.figure()\n",
      "        ax = fig.gca(projection='3d')\n",
      "        sxvals = sorted(xvals)\n",
      "        syvals = sorted(yvals)\n",
      "        xticks = [str(x) for x in sxvals]\n",
      "        yticks = [str(x) for x in syvals]\n",
      "        xlocs = np.arange(1, len(xticks) + 1)\n",
      "        width = 0.2\n",
      "        xvalli = list(sxvals)\n",
      "        yvalli = list(syvals)\n",
      "        XCoord = np.array([xvalli.index(x) for x in xinds])\n",
      "        YCoord = np.array([yvalli.index(x) for x in yinds])\n",
      "        zinds = np.zeros_like(XCoord)\n",
      "        dx = np.ones_like(XCoord)\n",
      "        dy = np.ones_like(YCoord)\n",
      "        locAdj = 0\n",
      "        for arr, color in zip(zvals, colorarr):\n",
      "            locAdj += 1\n",
      "            ZCoord = np.array(arr)\n",
      "            ax.bar3d(XCoord + locAdj*(width+0.05) + 1, YCoord - 0.25, zinds, width, width, ZCoord, color=color)\n",
      "        plt.xticks(xlocs + (locAdj * (width/2)), xticks)\n",
      "        plt.yticks(range(len(yticks)),yticks)\n",
      "        plt.show()\n",
      "\n",
      "    # This will index over numTrain and numRev x will be nT y will be numRev\n",
      "    global findNtr, findNrev\n",
      "    xvals = set()\n",
      "    yvals = set()\n",
      "    xinds = []\n",
      "    yinds = []\n",
      "    tr1z = []\n",
      "    tr2z = []\n",
      "    tr3z = []\n",
      "    for fileN in datalist:\n",
      "        xval = int(findNrev.search(fileN).group(0))\n",
      "        yval = int(findNtr.search(fileN).group(0))\n",
      "        xvals.add(xval)\n",
      "        yvals.add(yval)\n",
      "        xinds.append(xval)\n",
      "        yinds.append(yval)\n",
      "        tmpVal = None\n",
      "        if secondKey == \"\":\n",
      "            tmpVal = ParseObsResult(fileN, firstKey)\n",
      "        else:\n",
      "            tmpVal = ParseObsResult(fileN, firstKey, secondKey, adjVal)\n",
      "        \n",
      "        tr1z.append(tmpVal['Average']['tr1'])\n",
      "        tr2z.append(tmpVal['Average']['tr2'])\n",
      "        tr3z.append(tmpVal['Average']['tr3'])\n",
      "        \n",
      "    Plot3dBar(xvals, yvals, xinds, yinds, [tr1z, tr2z, tr3z], ['b','g','r'])\n",
      "    \n",
      "    if title != \"\":\n",
      "        plt.title = title\n",
      "    #Plot3dBar(xvals, yvals, xinds, yinds, tr2z)\n",
      "    #Plot3dBar(xvals, yvals, xinds, yinds, tr3z)"
     ],
     "language": "python",
     "metadata": {},
     "outputs": []
    },
    {
     "cell_type": "code",
     "collapsed": false,
     "input": [
      "def PlotMultiBar(xticks, ArrayBarTuples, inTitle, yLabel, inwidth=0.2, colorbounds=[0.3,0.6]):\n",
      "    locs = np.arange(1, len(xticks) + 1)\n",
      "    width = inwidth\n",
      "    \n",
      "    colors = [cm.gray(i) for i in np.linspace(colorbounds[0],colorbounds[1], len(ArrayBarTuples))]\n",
      "    colorcycler = cycle(colors)\n",
      "    \n",
      "    fig = plt.figure()\n",
      "    ax = plt.subplot(111)\n",
      "    \n",
      "    locAdj = 0\n",
      "    for datatuple in ArrayBarTuples:\n",
      "        locAdj += 1\n",
      "        plt.bar(locs + locAdj*width, datatuple[0], yerr=datatuple[1], color=next(colorcycler), width=width,\\\n",
      "                antialiased=True, label=datatuple[3], ecolor='k') # color=datatuple[2]\n",
      "        \n",
      "    box = ax.get_position()\n",
      "    ax.set_position([box.x0, box.y0 + box.height * 0.1, box.width, box.height * 0.9])\n",
      "    ax.legend(loc='upper center', bbox_to_anchor = (0.5, -0.05), fancybox=True, shadow=True, ncol=locAdj)\n",
      "    plt.title(inTitle)\n",
      "    plt.xticks((locs + (locAdj * (width/2)) + width), xticks)\n",
      "    plt.ylabel(yLabel)\n",
      "    \n",
      "    return fig"
     ],
     "language": "python",
     "metadata": {},
     "outputs": []
    },
    {
     "cell_type": "code",
     "collapsed": false,
     "input": [
      "def CreateMultiBars(datalist, firstKey, secondKey=\"\", adjVal = 1.0, title=\"\", ylabel=\"\"):\n",
      "    global findNtr, findNrev\n",
      "    xvals = set()\n",
      "    yvals = set()\n",
      "    xinds = []\n",
      "    yinds = []\n",
      "    tr1z = []\n",
      "    tr2z = []\n",
      "    tr3z = []\n",
      "    tr1ze = []\n",
      "    tr2ze = []\n",
      "    tr3ze = []\n",
      "    for fileN in datalist:\n",
      "        xval = int(findNrev.search(fileN).group(0))\n",
      "        yval = int(findNtr.search(fileN).group(0))\n",
      "        xvals.add(xval)\n",
      "        yvals.add(yval)\n",
      "        xinds.append(xval)\n",
      "        yinds.append(yval)\n",
      "        tmpVal = None\n",
      "        if secondKey == \"\":\n",
      "            tmpVal = ParseObsResult(fileN, firstKey)\n",
      "        else:\n",
      "            tmpVal = ParseObsResult(fileN, firstKey, secondKey, adjVal)\n",
      "        \n",
      "        tr1z.append(tmpVal['Average']['tr1'])\n",
      "        tr2z.append(tmpVal['Average']['tr2'])\n",
      "        tr3z.append(tmpVal['Average']['tr3'])\n",
      "        tr1ze.append(tmpVal['Error']['tr1'])\n",
      "        tr2ze.append(tmpVal['Error']['tr2'])\n",
      "        tr3ze.append(tmpVal['Error']['tr3'])\n",
      "    \n",
      "    def CreateGrids(xvals, yvals, xinds, yinds, zvals, zvales):\n",
      "        sxvals = sorted(xvals)\n",
      "        syvals = sorted(yvals)\n",
      "        xticks = [str(x) for x in sxvals]\n",
      "        yticks = [str(x) for x in syvals]\n",
      "        xvalli = list(sxvals)\n",
      "        yvalli = list(syvals)\n",
      "        XCoord = np.array([xvalli.index(x) for x in xinds])\n",
      "        YCoord = np.array([yvalli.index(x) for x in yinds])\n",
      "        Grids = []\n",
      "        EGrids = []\n",
      "        for arr, arre in zip(zvals, zvales):\n",
      "            Grid = np.empty(shape=(len(xticks), len(yticks)))\n",
      "            eGrid = np.empty(shape=(len(xticks), len(yticks)))\n",
      "            for x, y, z, ze in zip(XCoord, YCoord, arr, arre):\n",
      "                Grid[x,y] = z\n",
      "                eGrid[x,y] = ze\n",
      "            Grids.append(Grid)\n",
      "            EGrids.append(eGrid)\n",
      "        \n",
      "        return Grids, EGrids, xticks, yticks\n",
      "    \n",
      "    Grids, EGrids, xticks, yticks = CreateGrids(xvals, yvals, xinds, yinds, [tr1z, tr2z, tr3z], [tr1ze, tr2ze, tr3ze])\n",
      "    \n",
      "    for ind, yval in enumerate(yticks):\n",
      "        ArrayBarTuples = []\n",
      "        ArrayBarTuples.append((Grids[0][:,ind], EGrids[0][:,ind], 'b', '1st Training'))\n",
      "        ArrayBarTuples.append((Grids[1][:,ind], EGrids[1][:,ind], 'b', '2nd Training'))\n",
      "        ArrayBarTuples.append((Grids[2][:,ind], EGrids[2][:,ind], 'b', '3rd Training'))\n",
      "        PlotMultiBar(xticks, ArrayBarTuples, title + ' {0} Training Points'.format(yval), ylabel)"
     ],
     "language": "python",
     "metadata": {},
     "outputs": []
    },
    {
     "cell_type": "heading",
     "level": 3,
     "metadata": {},
     "source": [
      "Generate Plots"
     ]
    },
    {
     "cell_type": "code",
     "collapsed": false,
     "input": [
      "resultlist = [x for x in os.listdir('Notebook Data') if \"Tr6\" in x and 'jcginn' in x and 'Ep1000' in x and 'useFFalse' in x]"
     ],
     "language": "python",
     "metadata": {},
     "outputs": []
    },
    {
     "cell_type": "code",
     "collapsed": false,
     "input": [
      "resultlist = [x for x in os.listdir('Notebook Data') if \"Tr6\" in x and 'Yinjie' in x and 'Ep1000' in x and 'useFFalse' in x]"
     ],
     "language": "python",
     "metadata": {},
     "outputs": []
    },
    {
     "cell_type": "code",
     "collapsed": false,
     "input": [
      "resultlist = [x for x in os.listdir('Notebook Data') if \"Tr6\" in x and 'Cong' in x and 'Ep1000' in x and 'useFFalse' in x]"
     ],
     "language": "python",
     "metadata": {},
     "outputs": []
    },
    {
     "cell_type": "code",
     "collapsed": false,
     "input": [
      "resultlist = [x for x in os.listdir('Notebook Data') if \"Tr1\" in x and 'CirInSq-task3' in x]"
     ],
     "language": "python",
     "metadata": {},
     "outputs": []
    },
    {
     "cell_type": "code",
     "collapsed": false,
     "input": [
      "resultlist = [x for x in os.listdir('Notebook Data') if \"Tr1\" in x and 'CirInSq-task1' in x]"
     ],
     "language": "python",
     "metadata": {},
     "outputs": []
    },
    {
     "cell_type": "code",
     "collapsed": false,
     "input": [
      "resultlist = [x for x in os.listdir('Notebook Data') if \"Tr1\" in x and 'Band-task1' in x]"
     ],
     "language": "python",
     "metadata": {},
     "outputs": []
    },
    {
     "cell_type": "code",
     "collapsed": false,
     "input": [
      "resultlist = [x for x in os.listdir('Notebook Data') if \"Tr1\" in x and 'Band-task2' in x]"
     ],
     "language": "python",
     "metadata": {},
     "outputs": []
    },
    {
     "cell_type": "code",
     "collapsed": false,
     "input": [
      "resultlist = [x for x in os.listdir('Notebook Data') if \"Tr1\" in x and 'Linear-task1' in x]"
     ],
     "language": "python",
     "metadata": {},
     "outputs": []
    },
    {
     "cell_type": "code",
     "collapsed": false,
     "input": [
      "resultlist = [x for x in os.listdir('Notebook Data') if \"Tr1\" in x and 'Linear-task2' in x]"
     ],
     "language": "python",
     "metadata": {},
     "outputs": []
    },
    {
     "cell_type": "code",
     "collapsed": false,
     "input": [
      "CreateMultiBars(resultlist, 'winError', 'totalErrorRate')"
     ],
     "language": "python",
     "metadata": {},
     "outputs": []
    },
    {
     "cell_type": "code",
     "collapsed": false,
     "input": [
      "CreateMultiBars(resultlist, 'testError')"
     ],
     "language": "python",
     "metadata": {},
     "outputs": []
    },
    {
     "cell_type": "code",
     "collapsed": false,
     "input": [
      "CreateMultiBars(resultlist, 'testError', 'task-0') # Tabbed Data"
     ],
     "language": "python",
     "metadata": {},
     "outputs": []
    },
    {
     "cell_type": "code",
     "collapsed": false,
     "input": [
      "CreateMultiBars(resultlist, 'epochs')"
     ],
     "language": "python",
     "metadata": {},
     "outputs": []
    },
    {
     "cell_type": "heading",
     "level": 4,
     "metadata": {},
     "source": [
      "Modify Active Figure"
     ]
    },
    {
     "cell_type": "code",
     "collapsed": false,
     "input": [
      "fig = plt.figure(5)"
     ],
     "language": "python",
     "metadata": {},
     "outputs": []
    },
    {
     "cell_type": "code",
     "collapsed": false,
     "input": [
      "ylabel('% Error')"
     ],
     "language": "python",
     "metadata": {},
     "outputs": []
    },
    {
     "cell_type": "code",
     "collapsed": false,
     "input": [
      "ylabel('MSE')"
     ],
     "language": "python",
     "metadata": {},
     "outputs": []
    },
    {
     "cell_type": "code",
     "collapsed": false,
     "input": [
      "ylabel('Epochs')"
     ],
     "language": "python",
     "metadata": {},
     "outputs": []
    },
    {
     "cell_type": "code",
     "collapsed": false,
     "input": [
      "xlabel('Number of Reverbs')"
     ],
     "language": "python",
     "metadata": {},
     "outputs": []
    },
    {
     "cell_type": "code",
     "collapsed": false,
     "input": [
      "title(\"User 3 Real Outputs - 100 Training Points\")"
     ],
     "language": "python",
     "metadata": {},
     "outputs": []
    },
    {
     "cell_type": "code",
     "collapsed": false,
     "input": [
      "ax = plt.gca()"
     ],
     "language": "python",
     "metadata": {},
     "outputs": []
    },
    {
     "cell_type": "code",
     "collapsed": false,
     "input": [
      "ax.legend(loc='upper center', bbox_to_anchor = (0.5, -0.1), fancybox=True, shadow=True, ncol=3)"
     ],
     "language": "python",
     "metadata": {},
     "outputs": []
    },
    {
     "cell_type": "code",
     "collapsed": false,
     "input": [
      "fig.canvas.draw()"
     ],
     "language": "python",
     "metadata": {},
     "outputs": []
    },
    {
     "cell_type": "code",
     "collapsed": false,
     "input": [
      "fig.savefig('Notebook Data/figures/CongConsTwinError-useFT-100.pdf')"
     ],
     "language": "python",
     "metadata": {},
     "outputs": []
    },
    {
     "cell_type": "code",
     "collapsed": false,
     "input": [
      "fig.savefig('Notebook Data/figures/CongConsTmse-useFF-100.pdf')"
     ],
     "language": "python",
     "metadata": {},
     "outputs": []
    },
    {
     "cell_type": "raw",
     "metadata": {},
     "source": [
      "#Create3DBars(resultlist, 'winError', 'totalErrorRate', 1800 / (7.0 * 900))\n",
      "Create3DBars(resultlist, 'winError', 'totalErrorRate') # Obs Data"
     ]
    },
    {
     "cell_type": "raw",
     "metadata": {},
     "source": [
      "Create3DBars(resultlist, 'testError')"
     ]
    },
    {
     "cell_type": "raw",
     "metadata": {},
     "source": [
      "Create3DBars(resultlist, 'testError', 'task-0') # Tabbed Data "
     ]
    },
    {
     "cell_type": "raw",
     "metadata": {},
     "source": [
      "Create3DBars(resultlist, 'epochs')"
     ]
    },
    {
     "cell_type": "code",
     "collapsed": false,
     "input": [],
     "language": "python",
     "metadata": {},
     "outputs": []
    }
   ],
   "metadata": {}
  }
 ]
}