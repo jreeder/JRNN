{
 "metadata": {
  "name": "PlotObsResults"
 },
 "nbformat": 3,
 "nbformat_minor": 0,
 "worksheets": [
  {
   "cells": [
    {
     "cell_type": "code",
     "collapsed": false,
     "input": [
      "import json"
     ],
     "language": "python",
     "metadata": {},
     "outputs": [],
     "prompt_number": 1
    },
    {
     "cell_type": "code",
     "collapsed": false,
     "input": [
      "%pylab"
     ],
     "language": "python",
     "metadata": {},
     "outputs": [
      {
       "output_type": "stream",
       "stream": "stdout",
       "text": [
        "\n",
        "Welcome to pylab, a matplotlib-based Python environment [backend: TkAgg].\n",
        "For more information, type 'help(pylab)'.\n"
       ]
      }
     ],
     "prompt_number": 2
    },
    {
     "cell_type": "code",
     "collapsed": false,
     "input": [
      "import os\n",
      "from config import *"
     ],
     "language": "python",
     "metadata": {},
     "outputs": [],
     "prompt_number": 10
    },
    {
     "cell_type": "code",
     "collapsed": false,
     "input": [
      "os.listdir('Notebook Data')"
     ],
     "language": "python",
     "metadata": {},
     "outputs": [
      {
       "output_type": "pyout",
       "prompt_number": 33,
       "text": [
        "['bandlinearresults.json',\n",
        " 'irisresults.json',\n",
        " 'ObsResult1.json',\n",
        " 'ObsResultCong-Ep300-Nf900-Nr30-Tr2-Ntr100-Nv200-Nte900.json',\n",
        " 'ObsResultCong-Ep500-Nf100-Nr30-Tr1.json',\n",
        " 'ObsResultCong-Ep500-Nf500-Nr30-Tr1.json',\n",
        " 'ObsResultCong.json',\n",
        " 'ObsResultCong100-2.json',\n",
        " 'ObsResultCong500-2.json',\n",
        " 'ObsResultCong500.json',\n",
        " 'ObsResultJames-Ep300-Nf900-Nr30-Tr2-Ntr100-Nv200-Nte900.json',\n",
        " 'ObsResultJames-Ep500-Nf100-Nr30-Tr1.json',\n",
        " 'ObsResultJames-Ep500-Nf500-Nr30-Tr1.json',\n",
        " 'ObsResultYin-Ep300-Nf900-Nr30-Tr2-Ntr100-Nv200-Nte900.json',\n",
        " 'ObsResultYin-Ep500-Nf100-Nr30-Tr1.json',\n",
        " 'ObsResultYin-Ep500-Nf500-Nr30-Tr1.json',\n",
        " 'ObsResultYin.json',\n",
        " 'ObsResultYin100-2.json',\n",
        " 'ObsResultYin500-2.json',\n",
        " 'ObsResultYin500.json']"
       ]
      }
     ],
     "prompt_number": 33
    },
    {
     "cell_type": "code",
     "collapsed": false,
     "input": [
      "resultlist = [x for x in os.listdir('Notebook Data') if \"Tr2\" in x]"
     ],
     "language": "python",
     "metadata": {},
     "outputs": [],
     "prompt_number": 8
    },
    {
     "cell_type": "code",
     "collapsed": false,
     "input": [
      "print resultlist"
     ],
     "language": "python",
     "metadata": {},
     "outputs": [
      {
       "output_type": "stream",
       "stream": "stdout",
       "text": [
        "['ObsResultCong-Ep300-Nf900-Nr30-Tr2-Ntr100-Nv200-Nte900.json', 'ObsResultJames-Ep300-Nf900-Nr30-Tr2-Ntr100-Nv200-Nte900.json', 'ObsResultYin-Ep300-Nf900-Nr30-Tr2-Ntr100-Nv200-Nte900.json']\n"
       ]
      }
     ],
     "prompt_number": 14
    },
    {
     "cell_type": "code",
     "collapsed": false,
     "input": [
      "def ParseObsResult(filename, subkey):\n",
      "    tmpResult = json.load(open(os.path.join(os.curdir, \"Notebook Data\", filename)))\n",
      "    tr1varavg, tr1varerr = CalcMeanAndError([x[0]['tr1.' + subkey] for x in tmpResult], rmoutliers=False)\n",
      "    tr2varavg, tr2varerr = CalcMeanAndError([x[0]['tr2.' + subkey] for x in tmpResult], rmoutliers=False)\n",
      "    tr3varavg, tr3varerr = CalcMeanAndError([x[0]['tr3.' + subkey] for x in tmpResult], rmoutliers=False)\n",
      "    retDict = {}\n",
      "    retDict['Average'] = {'tr1': tr1varavg, 'tr2': tr2varavg, 'tr3': tr3varavg}\n",
      "    retDict['Error'] = {'tr1': tr1varerr, 'tr2': tr2varerr, 'tr3': tr3varerr}\n",
      "    \n",
      "    return retDict"
     ],
     "language": "python",
     "metadata": {},
     "outputs": [],
     "prompt_number": 21
    },
    {
     "cell_type": "code",
     "collapsed": false,
     "input": [
      "tmp = ParseObsResult(resultlist[0], 'epochs')\n",
      "tmp"
     ],
     "language": "python",
     "metadata": {},
     "outputs": [
      {
       "output_type": "pyout",
       "prompt_number": 32,
       "text": [
        "{'Average': {'tr1': 441.0,\n",
        "  'tr2': 382.16666666666669,\n",
        "  'tr3': 288.16666666666669},\n",
        " 'Error': {'tr1': 25.328863571491297,\n",
        "  'tr2': 33.308809449606052,\n",
        "  'tr3': 36.15563620957446}}"
       ]
      }
     ],
     "prompt_number": 32
    },
    {
     "cell_type": "code",
     "collapsed": false,
     "input": [
      "tmp2 = ParseObsResult(resultlist[0], 'hiddenLayers')\n",
      "tmp2"
     ],
     "language": "python",
     "metadata": {},
     "outputs": [
      {
       "output_type": "pyout",
       "prompt_number": 34,
       "text": [
        "{'Average': {'tr1': 3.9333333333333331,\n",
        "  'tr2': 6.7999999999999998,\n",
        "  'tr3': 9.9333333333333336},\n",
        " 'Error': {'tr1': 0.25820728435761608,\n",
        "  'tr2': 0.63095388753856485,\n",
        "  'tr3': 0.92994613826144301}}"
       ]
      }
     ],
     "prompt_number": 34
    },
    {
     "cell_type": "code",
     "collapsed": false,
     "input": [],
     "language": "python",
     "metadata": {},
     "outputs": []
    }
   ],
   "metadata": {}
  }
 ]
}