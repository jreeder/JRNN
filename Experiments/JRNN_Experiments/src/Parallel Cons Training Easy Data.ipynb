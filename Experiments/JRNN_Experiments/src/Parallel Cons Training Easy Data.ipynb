{
 "metadata": {
  "name": "Parallel Cons Training Easy Data"
 },
 "nbformat": 3,
 "nbformat_minor": 0,
 "worksheets": [
  {
   "cells": [
    {
     "cell_type": "code",
     "collapsed": false,
     "input": [
      "from config import *\n",
      "import os"
     ],
     "language": "python",
     "metadata": {},
     "outputs": [],
     "prompt_number": 1
    },
    {
     "cell_type": "raw",
     "metadata": {},
     "source": [
      "bandtask1 = os.path.join(datapath, 'band-task1.txt')"
     ]
    },
    {
     "cell_type": "raw",
     "metadata": {},
     "source": [
      "def LoadTabbedData(filepath, numIn, numOut): #already defined this elsewhere \n",
      "    returnIns = []\n",
      "    returnOuts = []\n",
      "    with open(filepath, 'r') as fileh:\n",
      "        for line in fileh:\n",
      "            vals = line.split('\\t')\n",
      "            returnIns.append(vals[0:numIn])\n",
      "            returnOuts.append(vals[numIn:numIn+numOut])\n",
      "    \n",
      "    return returnIns, returnOuts"
     ]
    },
    {
     "cell_type": "code",
     "collapsed": false,
     "input": [
      "import PyJRNN\n",
      "import ObsUtility\n",
      "import json"
     ],
     "language": "python",
     "metadata": {},
     "outputs": [],
     "prompt_number": 2
    },
    {
     "cell_type": "raw",
     "metadata": {},
     "source": [
      "def CreateTabbedConsDS(dsname, numIns, numOuts, numTrain, numVal, numTest):\n",
      "    global datapath\n",
      "    dspath = os.path.join(datapath, dsname)\n",
      "    ins, outs = LoadTabbedDataFiles(numIns, numOuts, dspath)\n",
      "    trainDSLength = numTrain + numVal\n",
      "    print trainDSLength\n",
      "    \n",
      "    ds1 = PyJRNN.utility.Dataset()\n",
      "    ds2 = PyJRNN.utility.Dataset()\n",
      "    ds3 = PyJRNN.utility.Dataset()\n",
      "    tr1 = PyJRNN.utility.Dataset()\n",
      "    \n",
      "    ds1.LoadFromMatDoubles(ObsUtility.matDoubleFromArray(ins[0:trainDSLength]), ObsUtility.matDoubleFromArray(outs[0:trainDSLength]))\n",
      "    ds2.LoadFromMatDoubles(ObsUtility.matDoubleFromArray(ins[trainDSLength:2*trainDSLength]), ObsUtility.matDoubleFromArray(outs[trainDSLength:2*trainDSLength]))\n",
      "    ds3.LoadFromMatDoubles(ObsUtility.matDoubleFromArray(ins[trainDSLength*2:trainDSLength*3]), ObsUtility.matDoubleFromArray(outs[trainDSLength*2:trainDSLength*3]))\n",
      "    tr1.LoadFromMatDoubles(ObsUtility.matDoubleFromArray(ins[trainDSLength*3:]), ObsUtility.matDoubleFromArray(outs[trainDSLength*3:]))\n",
      "    \n",
      "    ds1.DistData(numTrain, numVal, 0)\n",
      "    ds2.DistData(numTrain, numVal, 0)\n",
      "    ds3.DistData(numTrain, numVal, 0)\n",
      "    tr1.DistData(0,0,numTest)\n",
      "    \n",
      "    return (ds1, ds2, ds3, tr1)"
     ]
    },
    {
     "cell_type": "code",
     "collapsed": false,
     "input": [
      "def ParallelTabbedConsTest(dsname, numIns, numOuts, numTrain, numVal, numTest, numCand=8, numRuns=1, numRev=5, maxEpochs=2000, numRevTrainRatio=1, reshuffle=True, fileName=\"\"):\n",
      "    def CreateTabbedConsDS(dsname, numIns, numOuts, numTrain, numVal, numTest):\n",
      "        global datapath\n",
      "        dspath = os.path.join(datapath, dsname)\n",
      "        ins, outs = LoadTabbedDataFiles(numIns, numOuts, dspath)\n",
      "        trainDSLength = numTrain + numVal\n",
      "    \n",
      "        ds1 = PyJRNN.utility.Dataset()\n",
      "        ds2 = PyJRNN.utility.Dataset()\n",
      "        ds3 = PyJRNN.utility.Dataset()\n",
      "        tr1 = PyJRNN.utility.Dataset()\n",
      "    \n",
      "        ds1.LoadFromMatDoubles(ObsUtility.matDoubleFromArray(ins[0:trainDSLength]), ObsUtility.matDoubleFromArray(outs[0:trainDSLength]))\n",
      "        ds2.LoadFromMatDoubles(ObsUtility.matDoubleFromArray(ins[trainDSLength:2*trainDSLength]), ObsUtility.matDoubleFromArray(outs[trainDSLength:2*trainDSLength]))\n",
      "        ds3.LoadFromMatDoubles(ObsUtility.matDoubleFromArray(ins[trainDSLength*2:trainDSLength*3]), ObsUtility.matDoubleFromArray(outs[trainDSLength*2:trainDSLength*3]))\n",
      "        tr1.LoadFromMatDoubles(ObsUtility.matDoubleFromArray(ins[trainDSLength*3:]), ObsUtility.matDoubleFromArray(outs[trainDSLength*3:]))\n",
      "    \n",
      "        del ins, outs\n",
      "        ds1.DistData(numTrain, numVal, 0)\n",
      "        ds2.DistData(numTrain, numVal, 0)\n",
      "        ds3.DistData(numTrain, numVal, 0)\n",
      "        tr1.DistData(0,0,numTest)\n",
      "    \n",
      "        return (ds1, ds2, ds3, tr1)\n",
      "    \n",
      "    dstuple = CreateTabbedConsDS(dsname, numIns, numOuts, numTrain, numVal, numTest)\n",
      "    revCC = PyJRNN.trainers.RevCCTrainer(numIns, numOuts, numCand)\n",
      "    revCC.revparams.numRevTrainRatio = numRevTrainRatio\n",
      "    if numRev == -1:\n",
      "        revCC.revparams.bufferSize = 0\n",
      "        numRev = 0\n",
      "    revCC.revparams.numRev = numRev\n",
      "    returnVal = ObsUtility.ConsolidatedTrainingTest(dstuple, numRuns, revCC, maxEpochs, reshuffle, realOuts=False)\n",
      "    for ds in dstuple[:]:\n",
      "        ds.Clear()\n",
      "        del ds\n",
      "    \n",
      "    if fileName != \"\":\n",
      "        with open(fileName, 'w') as fileh:\n",
      "            json.dump(returnVal, fileh)\n",
      "            \n",
      "    return returnVal"
     ],
     "language": "python",
     "metadata": {},
     "outputs": [],
     "prompt_number": 3
    },
    {
     "cell_type": "code",
     "collapsed": false,
     "input": [
      "result = ParallelTabbedConsTest('band-task2.txt', 2, 1, 15, 100, 400, numRev=4, numRuns=5)"
     ],
     "language": "python",
     "metadata": {},
     "outputs": [
      {
       "output_type": "stream",
       "stream": "stdout",
       "text": [
        "115\n",
        "starting run 0\n",
        "Finished Train and Test 1"
       ]
      },
      {
       "output_type": "stream",
       "stream": "stdout",
       "text": [
        "\n",
        "Finished Train and Test 2"
       ]
      },
      {
       "output_type": "stream",
       "stream": "stdout",
       "text": [
        "\n",
        "Finished Train and Test 3"
       ]
      },
      {
       "output_type": "stream",
       "stream": "stdout",
       "text": [
        "\n",
        "starting run 1\n",
        "Finished Train and Test 1"
       ]
      },
      {
       "output_type": "stream",
       "stream": "stdout",
       "text": [
        "\n",
        "Finished Train and Test 2"
       ]
      },
      {
       "output_type": "stream",
       "stream": "stdout",
       "text": [
        "\n",
        "Finished Train and Test 3"
       ]
      },
      {
       "output_type": "stream",
       "stream": "stdout",
       "text": [
        "\n",
        "starting run 2\n",
        "Finished Train and Test 1"
       ]
      },
      {
       "output_type": "stream",
       "stream": "stdout",
       "text": [
        "\n",
        "Finished Train and Test 2"
       ]
      },
      {
       "output_type": "stream",
       "stream": "stdout",
       "text": [
        "\n",
        "Finished Train and Test 3"
       ]
      },
      {
       "output_type": "stream",
       "stream": "stdout",
       "text": [
        "\n",
        "starting run 3\n",
        "Finished Train and Test 1"
       ]
      },
      {
       "output_type": "stream",
       "stream": "stdout",
       "text": [
        "\n",
        "Finished Train and Test 2"
       ]
      },
      {
       "output_type": "stream",
       "stream": "stdout",
       "text": [
        "\n",
        "Finished Train and Test 3"
       ]
      },
      {
       "output_type": "stream",
       "stream": "stdout",
       "text": [
        "\n",
        "starting run 4\n",
        "Finished Train and Test 1"
       ]
      },
      {
       "output_type": "stream",
       "stream": "stdout",
       "text": [
        "\n",
        "Finished Train and Test 2"
       ]
      },
      {
       "output_type": "stream",
       "stream": "stdout",
       "text": [
        "\n",
        "Finished Train and Test 3"
       ]
      },
      {
       "output_type": "stream",
       "stream": "stdout",
       "text": [
        "\n"
       ]
      }
     ],
     "prompt_number": 11
    },
    {
     "cell_type": "code",
     "collapsed": false,
     "input": [
      "result"
     ],
     "language": "python",
     "metadata": {},
     "outputs": [
      {
       "output_type": "pyout",
       "prompt_number": 12,
       "text": [
        "[{'tr1.epochs': 477,\n",
        "  'tr1.hiddenLayers': 4,\n",
        "  'tr1.testError': {'task-0': 0.4225},\n",
        "  'tr2.epochs': 662,\n",
        "  'tr2.hiddenLayers': 9,\n",
        "  'tr2.testError': {'task-0': 0.42},\n",
        "  'tr3.epochs': 603,\n",
        "  'tr3.hiddenLayers': 11,\n",
        "  'tr3.testError': {'task-0': 0.2125}},\n",
        " {'tr1.epochs': 587,\n",
        "  'tr1.hiddenLayers': 5,\n",
        "  'tr1.testError': {'task-0': 0.165},\n",
        "  'tr2.epochs': 463,\n",
        "  'tr2.hiddenLayers': 7,\n",
        "  'tr2.testError': {'task-0': 0.1275},\n",
        "  'tr3.epochs': 1411,\n",
        "  'tr3.hiddenLayers': 7,\n",
        "  'tr3.testError': {'task-0': 0.125}},\n",
        " {'tr1.epochs': 475,\n",
        "  'tr1.hiddenLayers': 4,\n",
        "  'tr1.testError': {'task-0': 0.1025},\n",
        "  'tr2.epochs': 231,\n",
        "  'tr2.hiddenLayers': 6,\n",
        "  'tr2.testError': {'task-0': 0.1175},\n",
        "  'tr3.epochs': 291,\n",
        "  'tr3.hiddenLayers': 8,\n",
        "  'tr3.testError': {'task-0': 0.15}},\n",
        " {'tr1.epochs': 519,\n",
        "  'tr1.hiddenLayers': 4,\n",
        "  'tr1.testError': {'task-0': 0.1425},\n",
        "  'tr2.epochs': 408,\n",
        "  'tr2.hiddenLayers': 7,\n",
        "  'tr2.testError': {'task-0': 0.08},\n",
        "  'tr3.epochs': 303,\n",
        "  'tr3.hiddenLayers': 7,\n",
        "  'tr3.testError': {'task-0': 0.055}},\n",
        " {'tr1.epochs': 449,\n",
        "  'tr1.hiddenLayers': 4,\n",
        "  'tr1.testError': {'task-0': 0.265},\n",
        "  'tr2.epochs': 488,\n",
        "  'tr2.hiddenLayers': 6,\n",
        "  'tr2.testError': {'task-0': 0.27},\n",
        "  'tr3.epochs': 288,\n",
        "  'tr3.hiddenLayers': 6,\n",
        "  'tr3.testError': {'task-0': 0.2725}}]"
       ]
      }
     ],
     "prompt_number": 12
    },
    {
     "cell_type": "code",
     "collapsed": false,
     "input": [],
     "language": "python",
     "metadata": {},
     "outputs": []
    }
   ],
   "metadata": {}
  }
 ]
}