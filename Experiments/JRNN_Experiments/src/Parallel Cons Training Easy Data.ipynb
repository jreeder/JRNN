{
 "metadata": {
  "name": "Parallel Cons Training Easy Data"
 },
 "nbformat": 3,
 "nbformat_minor": 0,
 "worksheets": [
  {
   "cells": [
    {
     "cell_type": "code",
     "collapsed": false,
     "input": [
      "from config import *"
     ],
     "language": "python",
     "metadata": {},
     "outputs": []
    },
    {
     "cell_type": "code",
     "collapsed": false,
     "input": [
      "import os"
     ],
     "language": "python",
     "metadata": {},
     "outputs": []
    },
    {
     "cell_type": "code",
     "collapsed": false,
     "input": [
      "bandtask1 = os.path.join(datapath, 'band-task1.txt')"
     ],
     "language": "python",
     "metadata": {},
     "outputs": []
    },
    {
     "cell_type": "raw",
     "metadata": {},
     "source": [
      "def LoadTabbedData(filepath, numIn, numOut): #already defined this elsewhere \n",
      "    returnIns = []\n",
      "    returnOuts = []\n",
      "    with open(filepath, 'r') as fileh:\n",
      "        for line in fileh:\n",
      "            vals = line.split('\\t')\n",
      "            returnIns.append(vals[0:numIn])\n",
      "            returnOuts.append(vals[numIn:numIn+numOut])\n",
      "    \n",
      "    return returnIns, returnOuts"
     ]
    },
    {
     "cell_type": "code",
     "collapsed": false,
     "input": [
      "ins, outs = LoadTabbedDataFiles(2, 1, bandtask1)"
     ],
     "language": "python",
     "metadata": {},
     "outputs": []
    },
    {
     "cell_type": "code",
     "collapsed": false,
     "input": [
      "len(ins)"
     ],
     "language": "python",
     "metadata": {},
     "outputs": []
    },
    {
     "cell_type": "code",
     "collapsed": false,
     "input": [
      "testins = ins[500:]\n",
      "testins"
     ],
     "language": "python",
     "metadata": {},
     "outputs": []
    },
    {
     "cell_type": "code",
     "collapsed": false,
     "input": [
      "testouts = outs[500:, :]"
     ],
     "language": "python",
     "metadata": {},
     "outputs": []
    },
    {
     "cell_type": "code",
     "collapsed": false,
     "input": [
      "import PyJRNN\n",
      "import ObsUtility"
     ],
     "language": "python",
     "metadata": {},
     "outputs": []
    },
    {
     "cell_type": "code",
     "collapsed": false,
     "input": [
      "def CreateTabbedConsDS(dsname, numIns, numOuts, numTrain, numVal, numTest):\n",
      "    global datapath\n",
      "    dspath = os.path.join(datapath, dsname)\n",
      "    ins, outs = LoadTabbedDataFiles(numIns, numOuts, dspath)\n",
      "    trainDSLength = numTrain + numVal + 1\n",
      "    ds1 = PyJRNN.utility.Dataset()\n",
      "    ds2 = PyJRNN.utility.Dataset()\n",
      "    ds3 = PyJRNN.utility.Dataset()\n",
      "    tr1 = PyJRNN.utility.Dataset()\n",
      "    \n",
      "    ds1.LoadFromMatDoubles(ObsUtility.matDoubleFromArray(ins[0:trainDSLength]), ObsUtility.matDoubleFromArray(outs[0:trainDSLength]))\n",
      "    ds2.LoadFromMatDoubles(ObsUtility.matDoubleFromArray(ins[trainDSLength:2*trainDSLength]), ObsUtility.matDoubleFromArray(outs[trainDSLength:2*trainDSLength]))\n",
      "    ds2.LoadFromMatDoubles(ObsUtility.matDoubleFromArray(ins[trainDSLength*2:trainDSLength*3]), ObsUtility.matDoubleFromArray(outs[trainDSLength*2:trainDSLength*3]))\n",
      "    tr1.LoadFromMatDoubles(ObsUtility.matDoubleFromArray(ins[trainDSLength*3:]), ObsUtility.matDoubleFromArray(outs[trainDSLength*3:]))\n",
      "    \n",
      "    ds1.DistData(numTrain, numVal, 0)\n",
      "    ds2.DistData(numTrain, numVal, 0)\n",
      "    ds3.DistData(numTrain, numVal, 0)\n",
      "    tr1.DistData(0,0,numTest)\n",
      "    \n",
      "    return (ds1, ds2, ds3, tr1)"
     ],
     "language": "python",
     "metadata": {},
     "outputs": []
    },
    {
     "cell_type": "code",
     "collapsed": false,
     "input": [
      "dstuple = CreateTabbedConsDS('band-task1.txt', 2, 1, 15, 100, 500)"
     ],
     "language": "python",
     "metadata": {},
     "outputs": []
    },
    {
     "cell_type": "code",
     "collapsed": false,
     "input": [],
     "language": "python",
     "metadata": {},
     "outputs": []
    }
   ],
   "metadata": {}
  }
 ]
}