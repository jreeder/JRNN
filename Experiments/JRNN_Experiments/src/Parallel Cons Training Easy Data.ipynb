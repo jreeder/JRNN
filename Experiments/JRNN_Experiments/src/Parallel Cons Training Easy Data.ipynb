{
 "metadata": {
  "name": "Parallel Cons Training Easy Data"
 },
 "nbformat": 3,
 "nbformat_minor": 0,
 "worksheets": [
  {
   "cells": [
    {
     "cell_type": "code",
     "collapsed": false,
     "input": [
      "from config import *\n",
      "import os"
     ],
     "language": "python",
     "metadata": {},
     "outputs": []
    },
    {
     "cell_type": "code",
     "collapsed": false,
     "input": [
      "import PyJRNN\n",
      "import ObsUtility\n",
      "import json"
     ],
     "language": "python",
     "metadata": {},
     "outputs": []
    },
    {
     "cell_type": "code",
     "collapsed": false,
     "input": [
      "def ParallelTabbedConsTest(dsname, numIns, numOuts, numTrain, numVal, numTest, numCand=8, numRuns=1, numRev=5, maxEpochs=2000, numRevTrainRatio=1, reshuffle=True, fileName=\"\"):\n",
      "    def CreateTabbedConsDS(dsname, numIns, numOuts, numTrain, numVal, numTest):\n",
      "        global datapath\n",
      "        dspath = os.path.join(datapath, dsname)\n",
      "        ins, outs = LoadTabbedDataFiles(numIns, numOuts, dspath)\n",
      "        trainDSLength = numTrain + numVal\n",
      "    \n",
      "        ds1 = PyJRNN.utility.Dataset()\n",
      "        ds2 = PyJRNN.utility.Dataset()\n",
      "        ds3 = PyJRNN.utility.Dataset()\n",
      "        tr1 = PyJRNN.utility.Dataset()\n",
      "    \n",
      "        ds1.LoadFromMatDoubles(ObsUtility.matDoubleFromArray(ins[0:trainDSLength]), ObsUtility.matDoubleFromArray(outs[0:trainDSLength]))\n",
      "        ds2.LoadFromMatDoubles(ObsUtility.matDoubleFromArray(ins[trainDSLength:2*trainDSLength]), ObsUtility.matDoubleFromArray(outs[trainDSLength:2*trainDSLength]))\n",
      "        ds3.LoadFromMatDoubles(ObsUtility.matDoubleFromArray(ins[trainDSLength*2:trainDSLength*3]), ObsUtility.matDoubleFromArray(outs[trainDSLength*2:trainDSLength*3]))\n",
      "        tr1.LoadFromMatDoubles(ObsUtility.matDoubleFromArray(ins[trainDSLength*3:]), ObsUtility.matDoubleFromArray(outs[trainDSLength*3:]))\n",
      "    \n",
      "        del ins, outs\n",
      "        ds1.DistData(numTrain, numVal, 0)\n",
      "        ds2.DistData(numTrain, numVal, 0)\n",
      "        ds3.DistData(numTrain, numVal, 0)\n",
      "        tr1.DistData(0,0,numTest)\n",
      "    \n",
      "        return (ds1, ds2, ds3, tr1)\n",
      "    \n",
      "    dstuple = CreateTabbedConsDS(dsname, numIns, numOuts, numTrain, numVal, numTest)\n",
      "    revCC = PyJRNN.trainers.RevCCTrainer(numIns, numOuts, numCand)\n",
      "    revCC.revparams.numRevTrainRatio = numRevTrainRatio\n",
      "    if numRev == -1:\n",
      "        revCC.revparams.bufferSize = 0\n",
      "        numRev = 0\n",
      "    revCC.revparams.numRev = numRev\n",
      "    returnVal = ObsUtility.ConsolidatedTrainingTest(dstuple, numRuns, revCC, maxEpochs, reshuffle, realOuts=False)\n",
      "    for ds in dstuple[:]:\n",
      "        ds.Clear()\n",
      "        del ds\n",
      "    \n",
      "    if fileName != \"\":\n",
      "        with open(fileName, 'w') as fileh:\n",
      "            json.dump(returnVal, fileh)\n",
      "            \n",
      "    return returnVal"
     ],
     "language": "python",
     "metadata": {},
     "outputs": []
    },
    {
     "cell_type": "heading",
     "level": 3,
     "metadata": {},
     "source": [
      "Testing"
     ]
    },
    {
     "cell_type": "code",
     "collapsed": false,
     "input": [
      "result = ParallelTabbedConsTest('band-task2.txt', 2, 1, 15, 100, 400, numRev=2, numRuns=15, reshuffle=False)"
     ],
     "language": "python",
     "metadata": {},
     "outputs": []
    },
    {
     "cell_type": "code",
     "collapsed": false,
     "input": [
      "tr1erravg, tr1errerr = CalcMeanAndError([x['tr1.testError']['task-0'] for x in result])\n",
      "tr2erravg, tr2errerr = CalcMeanAndError([x['tr2.testError']['task-0'] for x in result])\n",
      "tr3erravg, tr3errerr = CalcMeanAndError([x['tr3.testError']['task-0'] for x in result])"
     ],
     "language": "python",
     "metadata": {},
     "outputs": []
    },
    {
     "cell_type": "code",
     "collapsed": false,
     "input": [
      "print tr1erravg, tr2erravg, tr3erravg"
     ],
     "language": "python",
     "metadata": {},
     "outputs": []
    },
    {
     "cell_type": "heading",
     "level": 3,
     "metadata": {},
     "source": [
      "Parallel Test"
     ]
    },
    {
     "cell_type": "code",
     "collapsed": false,
     "input": [
      "from IPython.parallel import Client"
     ],
     "language": "python",
     "metadata": {},
     "outputs": []
    },
    {
     "cell_type": "code",
     "collapsed": false,
     "input": [
      "rc = Client(profile='cluster')\n",
      "rc.ids"
     ],
     "language": "python",
     "metadata": {},
     "outputs": []
    },
    {
     "cell_type": "code",
     "collapsed": false,
     "input": [
      "with rc[:].sync_imports():\n",
      "    import PyJRNN\n",
      "    import pyublas\n",
      "    import numpy\n",
      "    from PyJRNN.utility import DSDatatype\n",
      "    import os\n",
      "    import re\n",
      "    import json\n",
      "    import ObsUtility\n",
      "    from config import datapath, LoadTabbedDataFiles"
     ],
     "language": "python",
     "metadata": {},
     "outputs": []
    },
    {
     "cell_type": "code",
     "collapsed": false,
     "input": [
      "distNums = [15, 100, 400]\n",
      "numRev = 2\n",
      "numRuns = 15\n",
      "trialNum = 1\n",
      "reshuffle = False\n",
      "batchNum = 0"
     ],
     "language": "python",
     "metadata": {},
     "outputs": []
    },
    {
     "cell_type": "code",
     "collapsed": false,
     "input": [
      "dstorun = [('Band-task1', 'band-task1.txt'), ('Band-task2', 'band-task2.txt'),\\\n",
      "           ('Linear-task1', 'linear-task1.txt'), ('Linear-task2', 'linear-task2.txt'),\\\n",
      "           ('CirInSq-task1', 'CirInSq-task1.txt'), ('CirInSq-task3', 'CirInSq-task3.txt')]"
     ],
     "language": "python",
     "metadata": {},
     "outputs": []
    },
    {
     "cell_type": "raw",
     "metadata": {},
     "source": [
      "dstorun = [('Band-task1', 'band-task1.txt'),]"
     ]
    },
    {
     "cell_type": "code",
     "collapsed": false,
     "input": [
      "lbv = rc.load_balanced_view()"
     ],
     "language": "python",
     "metadata": {},
     "outputs": []
    },
    {
     "cell_type": "code",
     "collapsed": false,
     "input": [
      "async_results = []\n",
      "result_filenames = []\n",
      "for numTr in [5,10,15,20]:\n",
      "    for numRev in [-1, 1, 2, 4, 8]:\n",
      "        distNums[0] = numTr\n",
      "        for dataset in dstorun:\n",
      "            fn = 'Notebook Data/TabbedResult{8}-Ep{0}-Nr{1}-Tr{2}-Ntr{3}-Nv{4}-Nte{5}-Nrev{6}-Res{7}_{9}.json'.format(2000, numRuns, trialNum, distNums[0], distNums[1], distNums[2], numRev, reshuffle, dataset[0], batchNum)\n",
      "            ar = lbv.apply_async(ParallelTabbedConsTest, dsname=dataset[1], numIns=2, numOuts=1, numTrain=distNums[0], numVal=distNums[1], numTest=distNums[2], numRuns=numRuns, numRev=numRev, reshuffle=reshuffle, fileName=fn)\n",
      "            async_results.append(ar)\n",
      "            result_filenames.append(fn)"
     ],
     "language": "python",
     "metadata": {},
     "outputs": []
    },
    {
     "cell_type": "code",
     "collapsed": false,
     "input": [
      "sum([ar.progress for ar in async_results]) / float(len(async_results))"
     ],
     "language": "python",
     "metadata": {},
     "outputs": []
    },
    {
     "cell_type": "code",
     "collapsed": false,
     "input": [
      "rc.queue_status()"
     ],
     "language": "python",
     "metadata": {},
     "outputs": []
    },
    {
     "cell_type": "code",
     "collapsed": false,
     "input": [
      "[ar.status for ar in async_results if ar.progress==1]"
     ],
     "language": "python",
     "metadata": {},
     "outputs": []
    },
    {
     "cell_type": "code",
     "collapsed": false,
     "input": [
      "async_results[0].r"
     ],
     "language": "python",
     "metadata": {},
     "outputs": []
    },
    {
     "cell_type": "code",
     "collapsed": false,
     "input": [],
     "language": "python",
     "metadata": {},
     "outputs": []
    }
   ],
   "metadata": {}
  }
 ]
}