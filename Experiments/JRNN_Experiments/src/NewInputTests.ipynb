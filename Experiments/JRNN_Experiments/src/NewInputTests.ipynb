{
 "metadata": {
  "name": "NewInputTests"
 },
 "nbformat": 3,
 "nbformat_minor": 0,
 "worksheets": [
  {
   "cells": [
    {
     "cell_type": "code",
     "collapsed": false,
     "input": [
      "import PyJRNN as pyj"
     ],
     "language": "python",
     "metadata": {},
     "outputs": [],
     "prompt_number": 1
    },
    {
     "cell_type": "code",
     "collapsed": false,
     "input": [
      "import pyublas\n",
      "from config import *"
     ],
     "language": "python",
     "metadata": {},
     "outputs": [],
     "prompt_number": 2
    },
    {
     "cell_type": "code",
     "collapsed": false,
     "input": [
      "%pylab"
     ],
     "language": "python",
     "metadata": {},
     "outputs": [
      {
       "output_type": "stream",
       "stream": "stdout",
       "text": [
        "\n",
        "Welcome to pylab, a matplotlib-based Python environment [backend: TkAgg].\n",
        "For more information, type 'help(pylab)'.\n"
       ]
      }
     ],
     "prompt_number": 3
    },
    {
     "cell_type": "code",
     "collapsed": false,
     "input": [
      "ucidatapath = basepath + r\"/Experiments/Data/UCI Data/\"\n"
     ],
     "language": "python",
     "metadata": {},
     "outputs": [],
     "prompt_number": 4
    },
    {
     "cell_type": "code",
     "collapsed": false,
     "input": [
      "import scipy.io"
     ],
     "language": "python",
     "metadata": {},
     "outputs": [],
     "prompt_number": 5
    },
    {
     "cell_type": "code",
     "collapsed": false,
     "input": [
      "import os\n",
      "iris = scipy.io.loadmat(os.path.join(ucidatapath, \"IRIS/iris.mat\"))"
     ],
     "language": "python",
     "metadata": {},
     "outputs": [],
     "prompt_number": 6
    },
    {
     "cell_type": "code",
     "collapsed": false,
     "input": [
      "irisdata = iris[\"irisdata\"]"
     ],
     "language": "python",
     "metadata": {},
     "outputs": [],
     "prompt_number": 7
    },
    {
     "cell_type": "code",
     "collapsed": false,
     "input": [
      "def matDoubleFromArray(inMat):\n",
      "    newMat = pyj.types.matDouble()\n",
      "    for vec in inMat:\n",
      "        if isinstance(vec, numpy.float64):\n",
      "            newMat.append(np.array([vec]))\n",
      "        else:\n",
      "            newMat.append(vec)\n",
      "    return newMat"
     ],
     "language": "python",
     "metadata": {},
     "outputs": [],
     "prompt_number": 8
    },
    {
     "cell_type": "code",
     "collapsed": false,
     "input": [
      "inputs1 = irisdata[:, [0,1]]\n",
      "inputs2 = irisdata[:, [0,1,2,3]]\n",
      "outs = irisdata[:, 4]"
     ],
     "language": "python",
     "metadata": {},
     "outputs": [],
     "prompt_number": 9
    },
    {
     "cell_type": "code",
     "collapsed": false,
     "input": [
      "inVec1 = matDoubleFromArray(inputs1)\n",
      "inVec2 = matDoubleFromArray(inputs2)\n",
      "outVec = matDoubleFromArray(outs)"
     ],
     "language": "python",
     "metadata": {},
     "outputs": [],
     "prompt_number": 10
    },
    {
     "cell_type": "code",
     "collapsed": false,
     "input": [
      "ds1 = pyj.utility.Dataset()"
     ],
     "language": "python",
     "metadata": {},
     "outputs": [],
     "prompt_number": 11
    },
    {
     "cell_type": "code",
     "collapsed": false,
     "input": [
      "ds1.LoadFromMatDoubles(inVec1, outVec)\n",
      "ds1.DistData(70, 10, 20)"
     ],
     "language": "python",
     "metadata": {},
     "outputs": [],
     "prompt_number": 12
    },
    {
     "cell_type": "code",
     "collapsed": false,
     "input": [
      "ds2 = pyj.utility.Dataset()\n",
      "ds2.LoadFromMatDoubles(inVec2, outVec)\n",
      "ds2.DistData(70, 10, 20)"
     ],
     "language": "python",
     "metadata": {},
     "outputs": [],
     "prompt_number": 13
    },
    {
     "cell_type": "code",
     "collapsed": false,
     "input": [
      "from PyJRNN.types import hashedDoubleMap\n",
      "from PyJRNN.utility import DSDatatype\n",
      "from PyJRNN.types import ints"
     ],
     "language": "python",
     "metadata": {},
     "outputs": [],
     "prompt_number": 14
    },
    {
     "cell_type": "heading",
     "level": 1,
     "metadata": {},
     "source": [
      "RevCC"
     ]
    },
    {
     "cell_type": "code",
     "collapsed": false,
     "input": [
      "revTrainer = pyj.trainers.RevCCTrainer(2,1,8)"
     ],
     "language": "python",
     "metadata": {},
     "outputs": []
    },
    {
     "cell_type": "code",
     "collapsed": false,
     "input": [
      "revTrainer.TrainTask(ds1, 3000, False)"
     ],
     "language": "python",
     "metadata": {},
     "outputs": []
    },
    {
     "cell_type": "code",
     "collapsed": false,
     "input": [
      "revTrainer.parms.indexThreshold"
     ],
     "language": "python",
     "metadata": {},
     "outputs": []
    },
    {
     "cell_type": "code",
     "collapsed": false,
     "input": [
      "print revTrainer.net1vals.epochs\n",
      "print revTrainer.net1vals.numHidLayers"
     ],
     "language": "python",
     "metadata": {},
     "outputs": []
    },
    {
     "cell_type": "code",
     "collapsed": false,
     "input": [
      "print revTrainer.net2vals.epochs\n",
      "print revTrainer.net2vals.numHidLayers"
     ],
     "language": "python",
     "metadata": {},
     "outputs": []
    },
    {
     "cell_type": "code",
     "collapsed": false,
     "input": [
      "result = revTrainer.TestWiClass(ds1, DSDatatype.TEST)"
     ],
     "language": "python",
     "metadata": {},
     "outputs": []
    },
    {
     "cell_type": "code",
     "collapsed": false,
     "input": [
      "result"
     ],
     "language": "python",
     "metadata": {},
     "outputs": []
    },
    {
     "cell_type": "code",
     "collapsed": false,
     "input": [
      "print result[\"task-0\"]"
     ],
     "language": "python",
     "metadata": {},
     "outputs": []
    },
    {
     "cell_type": "code",
     "collapsed": false,
     "input": [
      "newInputIndex = ints()\n",
      "newInputIndex.append(-1)"
     ],
     "language": "python",
     "metadata": {},
     "outputs": []
    },
    {
     "cell_type": "code",
     "collapsed": false,
     "input": [
      "revTrainer.AddNewInputs(newInputIndex, ds2, False)"
     ],
     "language": "python",
     "metadata": {},
     "outputs": []
    },
    {
     "cell_type": "code",
     "collapsed": false,
     "input": [
      "from PyJRNN.networks import RevCCNetwork"
     ],
     "language": "python",
     "metadata": {},
     "outputs": []
    },
    {
     "cell_type": "code",
     "collapsed": false,
     "input": [
      "revTrainer.TrainTask(ds2, 3000, False)"
     ],
     "language": "python",
     "metadata": {},
     "outputs": []
    },
    {
     "cell_type": "code",
     "collapsed": false,
     "input": [
      "result2 = revTrainer.TestWiClass(ds2, DSDatatype.TEST)"
     ],
     "language": "python",
     "metadata": {},
     "outputs": []
    },
    {
     "cell_type": "code",
     "collapsed": false,
     "input": [
      "print result2[\"task-0\"]"
     ],
     "language": "python",
     "metadata": {},
     "outputs": []
    },
    {
     "cell_type": "heading",
     "level": 1,
     "metadata": {},
     "source": [
      "CC"
     ]
    },
    {
     "cell_type": "code",
     "collapsed": false,
     "input": [
      "from PyJRNN.trainers import CCTrainer, ErrorType\n",
      "from PyJRNN.networks import CCNetwork"
     ],
     "language": "python",
     "metadata": {},
     "outputs": [],
     "prompt_number": 15
    },
    {
     "cell_type": "raw",
     "metadata": {},
     "source": [
      "#ccnet = CCNetwork.Create()\n",
      "#ccnet.SetScaleAndOffset(1.0, 0.5)\n",
      "#ccnet.Build(2,1,False, True, False)\n",
      "#cctrainer = CCTrainer(ccnet, ds1, 8)\n",
      "#cctrainer.parms.errorMeasure = ErrorType.BITS\n",
      "#cctrainer.parms.out.epochs = 1000\n",
      "#cctrainer.parms.SDCCRatio = 0.9\n",
      "#cctrainer.parms.useSDCC = True"
     ]
    },
    {
     "cell_type": "code",
     "collapsed": false,
     "input": [
      "import time\n",
      "def CCWorker(trainer, results, numRuns, useValidation, maxEpochs):\n",
      "    for i in range(numRuns):\n",
      "        starttime = time.clock()\n",
      "        if useValidation:\n",
      "            trainer.TrainToValConv(maxEpochs)\n",
      "        else:\n",
      "            trainer.TrainToConvergence(maxEpochs)\n",
      "        tottime = starttime - time.clock()\n",
      "        \n",
      "        epochs = trainer.Epochs\n",
      "        hiddenLayers = trainer.NumHidLayers\n",
      "        numResets = trainer.NumResets\n",
      "        resultline = \"\\t\".join([epochs, time, hiddenLayers, numResets])\n",
      "        resultline += \"\\t\"\n",
      "        \n",
      "        testresult = trainer.TestWiClass(DSDatatype.TEST)\n",
      "        \n",
      "        for key in testresult.iterkeys():\n",
      "            resultline += \"{0}:{1}\\t\".format(key, testresult[key])\n",
      "            \n",
      "        resultline += \"|\\t\"\n",
      "        \n",
      "        mserec = trainer.GetMSERec()\n",
      "        resultline += \"\\t\".join(mserec)\n",
      "        resultline += \"\\n\"\n",
      "        results.append(resultline)\n",
      "        resultline = \"\"\n",
      "        trainer.Reset()\n",
      "        trainer.RedistData()"
     ],
     "language": "python",
     "metadata": {},
     "outputs": [],
     "prompt_number": 16
    },
    {
     "cell_type": "code",
     "collapsed": false,
     "input": [
      "def TestAddNewInput(ds1, ds2, results, numRuns, useValidation, maxEpochs, newInputIndexes, connectToHidden):\n",
      "    for i in range(numRuns):\n",
      "        \n",
      "        ccnet = CCNetwork.Create()\n",
      "        ccnet.SetScaleAndOffset(1.0, 0.5)\n",
      "        ccnet.Build(2,1,False, True, False)\n",
      "        cctrainer = CCTrainer(ccnet, ds1, 8)\n",
      "        cctrainer.parms.errorMeasure = ErrorType.BITS\n",
      "        cctrainer.parms.out.epochs = 1000\n",
      "        cctrainer.parms.SDCCRatio = 0.9\n",
      "        cctrainer.parms.useSDCC = True\n",
      "        \n",
      "        starttime = time.clock()\n",
      "        if useValidation:\n",
      "            cctrainer.TrainToValConv(maxEpochs)\n",
      "        else:\n",
      "            cctrainer.TrainToConvergence(maxEpochs)\n",
      "        tottime = time.clock() - starttime\n",
      "        \n",
      "        epochs = cctrainer.Epochs\n",
      "        hiddenLayers = cctrainer.NumHidLayers\n",
      "        numResets = cctrainer.NumResets\n",
      "        \n",
      "        testresult = cctrainer.TestWiClass(DSDatatype.TEST)\n",
      "        mserec = cctrainer.GetMSERec()\n",
      "        \n",
      "        resultdict = dict(zip((\"epochs\", \"tottime\", \"hiddenLayers\", \"numResets\", \"testresult\", \"mserec\"), \\\n",
      "                              (epochs, tottime, hiddenLayers, numResets, testresult, mserec)))\n",
      "        #resultdict = dict(((k, eval(k)) for k in (\"epochs\", \"tottime\", \"hiddenLyaers\", \"numResets\", \"testresult\", \"mserec\")))\n",
      "        results[\"ds1\"].append(resultdict)\n",
      "        \n",
      "        #Start the new input stuff\n",
      "        cctrainer.AddNewInputs(newInputIndexes, ds2, connectToHidden)\n",
      "        \n",
      "        starttime = time.clock()\n",
      "        if useValidation:\n",
      "            cctrainer.TrainToValConv(maxEpochs)\n",
      "        else:\n",
      "            cctrainer.TrainToConvergence(maxEpochs)\n",
      "        tottime = time.clock() - starttime\n",
      "        \n",
      "        epochs = cctrainer.Epochs\n",
      "        hiddenLayers = cctrainer.NumHidLayers\n",
      "        numResets = cctrainer.NumResets\n",
      "        \n",
      "        testresult = cctrainer.TestWiClass(DSDatatype.TEST)\n",
      "        mserec = cctrainer.GetMSERec()\n",
      "        \n",
      "        resultdict = dict(zip((\"epochs\", \"tottime\", \"hiddenLayers\", \"numResets\", \"testresult\", \"mserec\"), \\\n",
      "                              (epochs, tottime, hiddenLayers, numResets, testresult, mserec)))\n",
      "        #resultdict = dict(((k, eval(k)) for k in (\"epochs\", \"tottime\", \"hiddenLyaers\", \"numResets\", \"testresult\", \"mserec\")))\n",
      "        results[\"ds2\"].append(resultdict)\n",
      "        "
     ],
     "language": "python",
     "metadata": {},
     "outputs": [],
     "prompt_number": 17
    },
    {
     "cell_type": "code",
     "collapsed": false,
     "input": [
      "results = {}\n",
      "results[\"ds1\"] = []\n",
      "results[\"ds2\"] = []\n",
      "newIndexes = ints()\n",
      "newIndexes.append(-1)\n",
      "newIndexes.append(-1)\n",
      "TestAddNewInput(ds1, ds2, results, 2, True, 2000, newIndexes, False)"
     ],
     "language": "python",
     "metadata": {},
     "outputs": [],
     "prompt_number": 18
    },
    {
     "cell_type": "code",
     "collapsed": false,
     "input": [
      "testresults = [x['testresult']['task-0'] for x in results[\"ds1\"]]\n",
      "print testresults\n",
      "testresults2 = [x['testresult']['task-0'] for x in results['ds2']]\n",
      "print testresults2"
     ],
     "language": "python",
     "metadata": {},
     "outputs": [
      {
       "output_type": "stream",
       "stream": "stdout",
       "text": [
        "[0.4, 0.4]\n",
        "[0.05, 0.05]\n"
       ]
      }
     ],
     "prompt_number": 19
    },
    {
     "cell_type": "code",
     "collapsed": false,
     "input": [
      "results2 = {}\n",
      "results2[\"ds1\"] = []\n",
      "results2[\"ds2\"] = []\n",
      "TestAddNewInput(ds1, ds2, results2, 2, True, 2000, newIndexes, True)"
     ],
     "language": "python",
     "metadata": {},
     "outputs": [],
     "prompt_number": 20
    },
    {
     "cell_type": "code",
     "collapsed": false,
     "input": [
      "print [x['testresult']['task-0'] for x in results2['ds1']]\n",
      "print [x['testresult']['task-0'] for x in results2['ds2']]"
     ],
     "language": "python",
     "metadata": {},
     "outputs": [
      {
       "output_type": "stream",
       "stream": "stdout",
       "text": [
        "[0.4, 0.4]\n",
        "[0.0, 0.05]\n"
       ]
      }
     ],
     "prompt_number": 21
    },
    {
     "cell_type": "code",
     "collapsed": false,
     "input": [],
     "language": "python",
     "metadata": {},
     "outputs": []
    }
   ],
   "metadata": {}
  }
 ]
}