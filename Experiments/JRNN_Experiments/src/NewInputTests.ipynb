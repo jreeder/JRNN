{
 "metadata": {
  "name": "NewInputTests"
 },
 "nbformat": 3,
 "nbformat_minor": 0,
 "worksheets": [
  {
   "cells": [
    {
     "cell_type": "code",
     "collapsed": false,
     "input": [
      "import PyJRNN as pyj"
     ],
     "language": "python",
     "metadata": {},
     "outputs": [],
     "prompt_number": 1
    },
    {
     "cell_type": "code",
     "collapsed": false,
     "input": [
      "import pyublas\n",
      "from config import *"
     ],
     "language": "python",
     "metadata": {},
     "outputs": [],
     "prompt_number": 2
    },
    {
     "cell_type": "code",
     "collapsed": false,
     "input": [
      "%pylab"
     ],
     "language": "python",
     "metadata": {},
     "outputs": [
      {
       "output_type": "stream",
       "stream": "stdout",
       "text": [
        "\n",
        "Welcome to pylab, a matplotlib-based Python environment [backend: TkAgg].\n",
        "For more information, type 'help(pylab)'.\n"
       ]
      }
     ],
     "prompt_number": 3
    },
    {
     "cell_type": "heading",
     "level": 1,
     "metadata": {},
     "source": [
      "Load Iris Data"
     ]
    },
    {
     "cell_type": "code",
     "collapsed": false,
     "input": [
      "ucidatapath = basepath + r\"/Experiments/Data/UCI Data/\"\n"
     ],
     "language": "python",
     "metadata": {},
     "outputs": [],
     "prompt_number": 4
    },
    {
     "cell_type": "code",
     "collapsed": false,
     "input": [
      "import scipy.io"
     ],
     "language": "python",
     "metadata": {},
     "outputs": [],
     "prompt_number": 5
    },
    {
     "cell_type": "code",
     "collapsed": false,
     "input": [
      "import os\n",
      "iris = scipy.io.loadmat(os.path.join(ucidatapath, \"IRIS/iris.mat\"))"
     ],
     "language": "python",
     "metadata": {},
     "outputs": [],
     "prompt_number": 6
    },
    {
     "cell_type": "code",
     "collapsed": false,
     "input": [
      "irisdata = iris[\"irisdata\"]"
     ],
     "language": "python",
     "metadata": {},
     "outputs": [],
     "prompt_number": 7
    },
    {
     "cell_type": "code",
     "collapsed": false,
     "input": [
      "def matDoubleFromArray(inMat):\n",
      "    newMat = pyj.types.matDouble()\n",
      "    for vec in inMat:\n",
      "        if isinstance(vec, numpy.float64):\n",
      "            newMat.append(np.array([vec]))\n",
      "        else:\n",
      "            newMat.append(vec)\n",
      "    return newMat"
     ],
     "language": "python",
     "metadata": {},
     "outputs": [],
     "prompt_number": 8
    },
    {
     "cell_type": "code",
     "collapsed": false,
     "input": [
      "inputs1 = irisdata[:, [0,1]]\n",
      "inputs2 = irisdata[:, [0,1,2,3]]\n",
      "outs = irisdata[:, 4]"
     ],
     "language": "python",
     "metadata": {},
     "outputs": [],
     "prompt_number": 9
    },
    {
     "cell_type": "code",
     "collapsed": false,
     "input": [
      "inVec1 = matDoubleFromArray(inputs1)\n",
      "inVec2 = matDoubleFromArray(inputs2)\n",
      "outVec = matDoubleFromArray(outs)"
     ],
     "language": "python",
     "metadata": {},
     "outputs": [],
     "prompt_number": 10
    },
    {
     "cell_type": "code",
     "collapsed": false,
     "input": [
      "ds1 = pyj.utility.Dataset()"
     ],
     "language": "python",
     "metadata": {},
     "outputs": [],
     "prompt_number": 11
    },
    {
     "cell_type": "code",
     "collapsed": false,
     "input": [
      "ds1.LoadFromMatDoubles(inVec1, outVec)\n",
      "ds1.DistData(70, 10, 20)"
     ],
     "language": "python",
     "metadata": {},
     "outputs": [],
     "prompt_number": 12
    },
    {
     "cell_type": "code",
     "collapsed": false,
     "input": [
      "ds2 = pyj.utility.Dataset()\n",
      "ds2.LoadFromMatDoubles(inVec2, outVec)\n",
      "ds2.DistData(70, 10, 20)"
     ],
     "language": "python",
     "metadata": {},
     "outputs": [],
     "prompt_number": 13
    },
    {
     "cell_type": "code",
     "collapsed": false,
     "input": [
      "from PyJRNN.types import hashedDoubleMap\n",
      "from PyJRNN.utility import DSDatatype\n",
      "from PyJRNN.types import ints"
     ],
     "language": "python",
     "metadata": {},
     "outputs": [],
     "prompt_number": 14
    },
    {
     "cell_type": "heading",
     "level": 1,
     "metadata": {},
     "source": [
      "RevCC - This section not used"
     ]
    },
    {
     "cell_type": "raw",
     "metadata": {},
     "source": [
      "revTrainer = pyj.trainers.RevCCTrainer(2,1,8)\n",
      "revTrainer.TrainTask(ds1, 3000, False)\n",
      "revTrainer.parms.indexThreshold\n",
      "print revTrainer.net1vals.epochs\n",
      "print revTrainer.net1vals.numHidLayers\n",
      "print revTrainer.net2vals.epochs\n",
      "print revTrainer.net2vals.numHidLayers\n",
      "result = revTrainer.TestWiClass(ds1, DSDatatype.TEST)\n",
      "result\n",
      "print result[\"task-0\"]\n",
      "newInputIndex = ints()\n",
      "newInputIndex.append(-1)\n",
      "revTrainer.AddNewInputs(newInputIndex, ds2, False)\n",
      "from PyJRNN.networks import RevCCNetwork\n",
      "revTrainer.TrainTask(ds2, 3000, False)\n",
      "result2 = revTrainer.TestWiClass(ds2, DSDatatype.TEST)\n",
      "print result2[\"task-0\"]"
     ]
    },
    {
     "cell_type": "heading",
     "level": 1,
     "metadata": {},
     "source": [
      "Define Test Functions"
     ]
    },
    {
     "cell_type": "code",
     "collapsed": false,
     "input": [
      "from PyJRNN.trainers import CCTrainer, ErrorType\n",
      "from PyJRNN.networks import CCNetwork"
     ],
     "language": "python",
     "metadata": {},
     "outputs": [],
     "prompt_number": 15
    },
    {
     "cell_type": "raw",
     "metadata": {},
     "source": [
      "#ccnet = CCNetwork.Create()\n",
      "#ccnet.SetScaleAndOffset(1.0, 0.5)\n",
      "#ccnet.Build(2,1,False, True, False)\n",
      "#cctrainer = CCTrainer(ccnet, ds1, 8)\n",
      "#cctrainer.parms.errorMeasure = ErrorType.BITS\n",
      "#cctrainer.parms.out.epochs = 1000\n",
      "#cctrainer.parms.SDCCRatio = 0.9\n",
      "#cctrainer.parms.useSDCC = True"
     ]
    },
    {
     "cell_type": "code",
     "collapsed": false,
     "input": [
      "import time\n",
      "def CCWorker(trainer, results, numRuns, useValidation, maxEpochs):\n",
      "    for i in range(numRuns):\n",
      "        starttime = time.clock()\n",
      "        if useValidation:\n",
      "            trainer.TrainToValConv(maxEpochs)\n",
      "        else:\n",
      "            trainer.TrainToConvergence(maxEpochs)\n",
      "        tottime = starttime - time.clock()\n",
      "        \n",
      "        epochs = trainer.Epochs\n",
      "        hiddenLayers = trainer.NumHidLayers\n",
      "        numResets = trainer.NumResets\n",
      "        resultline = \"\\t\".join([epochs, time, hiddenLayers, numResets])\n",
      "        resultline += \"\\t\"\n",
      "        \n",
      "        testresult = trainer.TestWiClass(DSDatatype.TEST)\n",
      "        \n",
      "        for key in testresult.iterkeys():\n",
      "            resultline += \"{0}:{1}\\t\".format(key, testresult[key])\n",
      "            \n",
      "        resultline += \"|\\t\"\n",
      "        \n",
      "        mserec = trainer.GetMSERec()\n",
      "        resultline += \"\\t\".join(mserec)\n",
      "        resultline += \"\\n\"\n",
      "        results.append(resultline)\n",
      "        resultline = \"\"\n",
      "        trainer.Reset()\n",
      "        trainer.RedistData()"
     ],
     "language": "python",
     "metadata": {},
     "outputs": [],
     "prompt_number": 16
    },
    {
     "cell_type": "code",
     "collapsed": false,
     "input": [
      "def TestAddNewInput(ds1, ds2, numRuns, useValidation, maxEpochs, newInputIndexes, connectToHidden):\n",
      "    results = {}\n",
      "    results['ds1'] = []\n",
      "    results['ds2'] = []\n",
      "    for i in range(numRuns):\n",
      "        \n",
      "        ccnet = CCNetwork.Create()\n",
      "        ccnet.SetScaleAndOffset(1.0, 0.5)\n",
      "        numIn = ds1.numInputs\n",
      "        numOut = ds1.numOutputs\n",
      "        ccnet.Build(numIn, numOut, False, True, False)\n",
      "        cctrainer = CCTrainer(ccnet, ds1, 8)\n",
      "        cctrainer.parms.errorMeasure = ErrorType.BITS\n",
      "        cctrainer.parms.out.epochs = 1000\n",
      "        cctrainer.parms.SDCCRatio = 0.9\n",
      "        cctrainer.parms.useSDCC = True\n",
      "        \n",
      "        starttime = time.clock()\n",
      "        if useValidation:\n",
      "            cctrainer.TrainToValConv(maxEpochs)\n",
      "        else:\n",
      "            cctrainer.TrainToConvergence(maxEpochs)\n",
      "        tottime = time.clock() - starttime\n",
      "        \n",
      "        epochs = cctrainer.Epochs\n",
      "        hiddenLayers = cctrainer.NumHidLayers\n",
      "        numResets = cctrainer.NumResets\n",
      "        \n",
      "        testresult = cctrainer.TestWiClass(DSDatatype.TEST)\n",
      "        mserec = cctrainer.GetMSERec()\n",
      "        \n",
      "        resultdict = dict(zip((\"epochs\", \"tottime\", \"hiddenLayers\", \"numResets\", \"testresult\", \"mserec\"), \\\n",
      "                              (epochs, tottime, hiddenLayers, numResets, testresult, mserec)))\n",
      "        #resultdict = dict(((k, eval(k)) for k in (\"epochs\", \"tottime\", \"hiddenLyaers\", \"numResets\", \"testresult\", \"mserec\")))\n",
      "        results[\"ds1\"].append(resultdict)\n",
      "        \n",
      "        #Start the new input stuff\n",
      "        cctrainer.AddNewInputs(newInputIndexes, ds2, connectToHidden)\n",
      "        \n",
      "        starttime = time.clock()\n",
      "        if useValidation:\n",
      "            cctrainer.TrainToValConv(maxEpochs)\n",
      "        else:\n",
      "            cctrainer.TrainToConvergence(maxEpochs)\n",
      "        tottime = time.clock() - starttime\n",
      "        \n",
      "        epochs = cctrainer.Epochs\n",
      "        hiddenLayers = cctrainer.NumHidLayers\n",
      "        numResets = cctrainer.NumResets\n",
      "        \n",
      "        testresult = cctrainer.TestWiClass(DSDatatype.TEST)\n",
      "        mserec = cctrainer.GetMSERec()\n",
      "        \n",
      "        resultdict = dict(zip((\"epochs\", \"tottime\", \"hiddenLayers\", \"numResets\", \"testresult\", \"mserec\"), \\\n",
      "                              (epochs, tottime, hiddenLayers, numResets, testresult, mserec)))\n",
      "        #resultdict = dict(((k, eval(k)) for k in (\"epochs\", \"tottime\", \"hiddenLyaers\", \"numResets\", \"testresult\", \"mserec\")))\n",
      "        results[\"ds2\"].append(resultdict)\n",
      "    \n",
      "    return results"
     ],
     "language": "python",
     "metadata": {},
     "outputs": [],
     "prompt_number": 25
    },
    {
     "cell_type": "code",
     "collapsed": false,
     "input": [
      "def PlotMultiBar(xticks, ArrayBarTuples, inTitle, yLabel, inwidth=0.2):\n",
      "    locs = np.arange(1, len(xticks) + 1)\n",
      "    width = inwidth\n",
      "    \n",
      "    fig = plt.figure()\n",
      "    ax = plt.subplot(111)\n",
      "    \n",
      "    locAdj = 0\n",
      "    for datatuple in ArrayBarTuples:\n",
      "        locAdj += 1\n",
      "        plt.bar(locs + locAdj*width, datatuple[0], yerr=datatuple[1], color=datatuple[2], width=width,\\\n",
      "                antialiased=True, label=datatuple[3])\n",
      "        \n",
      "    box = ax.get_position()\n",
      "    ax.set_position([box.x0, box.y0 + box.height * 0.1, box.width, box.height * 0.9])\n",
      "    ax.legend(loc='upper center', bbox_to_anchor = (0.5, -0.05), fancybox=True, shadow=True, ncol=locAdj)\n",
      "    plt.title(inTitle)\n",
      "    plt.xticks((locs + (locAdj * (width/2)) + width), xticks)\n",
      "    plt.ylabel(yLabel)\n",
      "    \n",
      "    return fig"
     ],
     "language": "python",
     "metadata": {},
     "outputs": [],
     "prompt_number": 37
    },
    {
     "cell_type": "code",
     "collapsed": false,
     "input": [
      "def PlotAddNewInputResults(xticks, results, resultsCtH, resultFunc, inTitle, yLabel):\n",
      "    ds1avg, ds1err = CalcMeanAndError([resultFunc(x) for x in results['ds1']])\n",
      "    ds2avg, ds2err = CalcMeanAndError([resultFunc(x) for x in results['ds2']])\n",
      "    cthds1avg, cthds1err = CalcMeanAndError([resultFunc(x) for x in resultsCtH['ds1']])\n",
      "    cthds2avg, cthds2err = CalcMeanAndError([resultFunc(x) for x in resultsCtH['ds2']])\n",
      "    ArrayBarTuples = []\n",
      "    ArrayBarTuples.append(([ds1avg, cthds1avg], [ds1err, cthds1err], \"red\", \"Limited Inputs\"))\n",
      "    ArrayBarTuples.append(([ds2avg, cthds2avg], [ds2err, cthds2err], \"blue\", \"Full Inputs\"))\n",
      "    return PlotMultiBar(xticks, ArrayBarTuples, inTitle, yLabel)"
     ],
     "language": "python",
     "metadata": {},
     "outputs": [],
     "prompt_number": 49
    },
    {
     "cell_type": "code",
     "collapsed": false,
     "input": [
      "def ConvHDMToDict(HashedDM):\n",
      "    newDict = {}\n",
      "    for elm in HashedDM:\n",
      "        newDict[elm.key()] = elm.data()\n",
      "    \n",
      "    return newDict"
     ],
     "language": "python",
     "metadata": {},
     "outputs": [],
     "prompt_number": 76
    },
    {
     "cell_type": "code",
     "collapsed": false,
     "input": [
      "def ConvResultDict(ResultDict):\n",
      "    newResult = {}\n",
      "    newResult['ds1'] = []\n",
      "    newResult['ds2'] = []\n",
      "    \n",
      "    for nDict in ResultDict['ds1']:\n",
      "        newDict = {}\n",
      "        for key, data in nDict.iteritems():\n",
      "            if key == 'testresult':\n",
      "                newDict[key] = ConvHDMToDict(data)\n",
      "            elif key == 'mserec':\n",
      "                newDict[key] = [x for x in data]\n",
      "            else:\n",
      "                newDict[key] = data\n",
      "        newResult['ds1'].append(newDict)\n",
      "    \n",
      "    for nDict in ResultDict['ds2']:\n",
      "        newDict = {}\n",
      "        for key, data in nDict.iteritems():\n",
      "            if key == 'testresult':\n",
      "                newDict[key] = ConvHDMToDict(data)\n",
      "            elif key == 'mserec':\n",
      "                newDict[key] = [x for x in data]\n",
      "            else:\n",
      "                newDict[key] = data\n",
      "        newResult['ds2'].append(newDict)\n",
      "    \n",
      "    return newResult"
     ],
     "language": "python",
     "metadata": {},
     "outputs": [],
     "prompt_number": 84
    },
    {
     "cell_type": "code",
     "collapsed": false,
     "input": [
      "font = {'family' : 'serif',\n",
      "        'weight' : 'normal',\n",
      "        'size'   : 16}\n",
      "\n",
      "matplotlib.rc('font', **font)"
     ],
     "language": "python",
     "metadata": {},
     "outputs": [],
     "prompt_number": 54
    },
    {
     "cell_type": "heading",
     "level": 1,
     "metadata": {},
     "source": [
      "Iris Tests"
     ]
    },
    {
     "cell_type": "code",
     "collapsed": false,
     "input": [
      "newIndexes = ints()\n",
      "newIndexes.append(-1)\n",
      "newIndexes.append(-1)\n",
      "resultsIris = TestAddNewInput(ds1, ds2, 30, True, 2000, newIndexes, False)"
     ],
     "language": "python",
     "metadata": {},
     "outputs": [],
     "prompt_number": 91
    },
    {
     "cell_type": "code",
     "collapsed": false,
     "input": [
      "resultsIrisCtH = TestAddNewInput(ds1, ds2, 30, True, 2000, newIndexes, True)"
     ],
     "language": "python",
     "metadata": {},
     "outputs": [],
     "prompt_number": 92
    },
    {
     "cell_type": "code",
     "collapsed": false,
     "input": [
      "xticks = [\"New Structure\", \"Adapt Old Stucture\"]\n",
      "# locs = np.arange(1, len(xticks) + 1)\n",
      "# width = 0.2\n",
      "# ds1erravgs = [ds11avgerr, ds12avgerr]\n",
      "# ds1errerrs = [ds11errerr, ds12errerr]\n",
      "# ds2erravgs = [ds21avgerr, ds22avgerr]\n",
      "# ds2errerrs = [ds21errerr, ds22errerr]\n",
      "\n",
      "# plt.figure()\n",
      "# plt.bar(locs+width, ds1erravgs, yerr=ds1errerrs, color='red', width=width, \\\n",
      "#         antialiased=True, label=\"Limited Inputs\")\n",
      "\n",
      "# plt.bar(locs+2*width, ds2erravgs, yerr=ds2errerrs, color='blue', width=width, \\\n",
      "#         antialiased=True, label=\"Full Inputs\")\n",
      "\n",
      "# plt.legend()\n",
      "# plt.title(\"Adding New Inputs - Classification Error\")\n",
      "# plt.xticks((locs + (2*width)), xticks)\n",
      "# plt.ylabel(\"Error Rate\")\n",
      "# plt.show()"
     ],
     "language": "python",
     "metadata": {},
     "outputs": [],
     "prompt_number": 93
    },
    {
     "cell_type": "code",
     "collapsed": false,
     "input": [
      "fig1 = PlotAddNewInputResults(xticks, resultsIris, resultsIrisCtH, lambda x: x['testresult']['task-0'], \"Iris Dataset - Error\", \"% Error\")\n",
      "fig2 = PlotAddNewInputResults(xticks, resultsIris, resultsIrisCtH, lambda x: x['epochs'], \"Iris Dataset - Epochs\", \"# Epochs\")\n",
      "fig3 = PlotAddNewInputResults(xticks, resultsIris, resultsIrisCtH, lambda x : x['hiddenLayers'], \"Iris Dataset - Hidden Layers\", \"# Hidden Layers\")"
     ],
     "language": "python",
     "metadata": {},
     "outputs": [],
     "prompt_number": 94
    },
    {
     "cell_type": "code",
     "collapsed": false,
     "input": [
      "irisresults = {'resultsIris': ConvResultDict(resultsIris), 'resultsIrisCtH': ConvResultDict(resultsIrisCtH)}\n",
      "json.dump(irisresults, open('Notebook Data/irisresults.json', 'w'))"
     ],
     "language": "python",
     "metadata": {},
     "outputs": [],
     "prompt_number": 95
    },
    {
     "cell_type": "heading",
     "level": 1,
     "metadata": {},
     "source": [
      "Other Datasets"
     ]
    },
    {
     "cell_type": "code",
     "collapsed": false,
     "input": [
      "#os.listdir(datapath)"
     ],
     "language": "python",
     "metadata": {},
     "outputs": [],
     "prompt_number": 18
    },
    {
     "cell_type": "code",
     "collapsed": false,
     "input": [
      "bandIns, bandOuts = LoadTabbedDataFiles(2, 1, os.path.join(datapath, 'band-task1.txt'))\n",
      "linearIns, linearOuts = LoadTabbedDataFiles(2, 1, os.path.join(datapath, 'linear-task1.txt'))"
     ],
     "language": "python",
     "metadata": {},
     "outputs": [],
     "prompt_number": 19
    },
    {
     "cell_type": "code",
     "collapsed": false,
     "input": [
      "bandds1 = pyj.utility.Dataset()\n",
      "bandds2 = pyj.utility.Dataset()"
     ],
     "language": "python",
     "metadata": {},
     "outputs": [],
     "prompt_number": 20
    },
    {
     "cell_type": "code",
     "collapsed": false,
     "input": [
      "bandds1.LoadFromMatDoubles(matDoubleFromArray(bandIns[:,0]), matDoubleFromArray(bandOuts))\n",
      "bandds2.LoadFromMatDoubles(matDoubleFromArray(bandIns), matDoubleFromArray(bandOuts))"
     ],
     "language": "python",
     "metadata": {},
     "outputs": [],
     "prompt_number": 21
    },
    {
     "cell_type": "code",
     "collapsed": false,
     "input": [
      "bandds1.DistData(200,100,200)\n",
      "bandds2.DistData(200,100,200)"
     ],
     "language": "python",
     "metadata": {},
     "outputs": [],
     "prompt_number": 22
    },
    {
     "cell_type": "code",
     "collapsed": false,
     "input": [
      "lineards1 = pyj.utility.Dataset()\n",
      "lineards2 = pyj.utility.Dataset()"
     ],
     "language": "python",
     "metadata": {},
     "outputs": [],
     "prompt_number": 23
    },
    {
     "cell_type": "code",
     "collapsed": false,
     "input": [
      "lineards1.LoadFromMatDoubles(matDoubleFromArray(linearIns[:,0]), matDoubleFromArray(linearOuts))\n",
      "lineards2.LoadFromMatDoubles(matDoubleFromArray(linearIns), matDoubleFromArray(linearOuts))\n",
      "lineards1.DistData(200,100,200)\n",
      "lineards2.DistData(200,100,200)"
     ],
     "language": "python",
     "metadata": {},
     "outputs": [],
     "prompt_number": 24
    },
    {
     "cell_type": "code",
     "collapsed": false,
     "input": [
      "odnewIndexes = ints()\n",
      "odnewIndexes.append(-1)\n",
      "resultsBand = TestAddNewInput(bandds1, bandds2, 30, True, 2000, odnewIndexes, False)\n",
      "resultsBandCtH = TestAddNewInput(bandds1, bandds2, 30, True, 2000, odnewIndexes, True)"
     ],
     "language": "python",
     "metadata": {},
     "outputs": [],
     "prompt_number": 27
    },
    {
     "cell_type": "code",
     "collapsed": false,
     "input": [
      "resultsLinear = TestAddNewInput(lineards1, lineards2, 30, True, 2000, odnewIndexes, False)\n",
      "resultsLinearCtH = TestAddNewInput(lineards1, lineards2, 30, True, 2000, odnewIndexes, True)"
     ],
     "language": "python",
     "metadata": {},
     "outputs": [],
     "prompt_number": 28
    },
    {
     "cell_type": "code",
     "collapsed": false,
     "input": [
      "xticks = [\"New Structure\", \"Adapt Old Stucture\"]"
     ],
     "language": "python",
     "metadata": {},
     "outputs": [],
     "prompt_number": 29
    },
    {
     "cell_type": "code",
     "collapsed": false,
     "input": [
      "fig1 = PlotAddNewInputResults(xticks, resultsBand, resultsBandCtH, lambda x: x['testresult']['task-0'], \"Band Dataset - Error\", \"% Error\")\n",
      "fig2 = PlotAddNewInputResults(xticks, resultsBand, resultsBandCtH, lambda x: x['epochs'], \"Band Dataset - Epochs\", \"# Epochs\")\n",
      "fig3 = PlotAddNewInputResults(xticks, resultsBand, resultsBandCtH, lambda x : x['hiddenLayers'], \"Band Dataset - Hidden Layers\", \"# Hidden Layers\")"
     ],
     "language": "python",
     "metadata": {},
     "outputs": [],
     "prompt_number": 56
    },
    {
     "cell_type": "code",
     "collapsed": false,
     "input": [
      "fig4 = PlotAddNewInputResults(xticks, resultsLinear, resultsLinearCtH, lambda x: x['testresult']['task-0'], \"Linear Dataset - Adding New Inputs - Error\", \"% Error\")\n",
      "fig5 = PlotAddNewInputResults(xticks, resultsLinear, resultsLinearCtH, lambda x: x['epochs'], \"Linear Dataset - Epochs\", \"# Epochs\")\n",
      "fig6 = PlotAddNewInputResults(xticks, resultsLinear, resultsLinearCtH, lambda x: x['hiddenLayers'], \"Linear Dataset - Hidden Layers\", \"# Hidden Layers\")"
     ],
     "language": "python",
     "metadata": {},
     "outputs": [],
     "prompt_number": 57
    },
    {
     "cell_type": "code",
     "collapsed": false,
     "input": [
      "CalcMeanAndError([x['epochs'] for x in resultsLinearCtH['ds2']]) # This result basically means that no additional training besides the epochs needed to update the existing network. "
     ],
     "language": "python",
     "metadata": {},
     "outputs": [
      {
       "output_type": "pyout",
       "prompt_number": 58,
       "text": [
        "(0.0, 0.0)"
       ]
      }
     ],
     "prompt_number": 58
    },
    {
     "cell_type": "code",
     "collapsed": false,
     "input": [
      "[x['epochs'] for x in resultsLinear['ds2']]"
     ],
     "language": "python",
     "metadata": {},
     "outputs": [
      {
       "output_type": "pyout",
       "prompt_number": 62,
       "text": [
        "[0,\n",
        " 4,\n",
        " 3,\n",
        " 4,\n",
        " 2,\n",
        " 3,\n",
        " 3,\n",
        " 0,\n",
        " 0,\n",
        " 0,\n",
        " 3,\n",
        " 0,\n",
        " 4,\n",
        " 4,\n",
        " 4,\n",
        " 5,\n",
        " 5,\n",
        " 5,\n",
        " 0,\n",
        " 0,\n",
        " 3,\n",
        " 0,\n",
        " 0,\n",
        " 5,\n",
        " 0,\n",
        " 0,\n",
        " 0,\n",
        " 0,\n",
        " 5,\n",
        " 0]"
       ]
      }
     ],
     "prompt_number": 62
    },
    {
     "cell_type": "code",
     "collapsed": false,
     "input": [
      "resultsToSave = {'resultsBand': ConvResultDict(resultsBand), 'resultsBandCtH': ConvResultDict(resultsBandCtH), 'resultsLinear': ConvResultDict(resultsLinear), 'resultsLinearCtH': ConvResultDict(resultsLinearCtH)}"
     ],
     "language": "python",
     "metadata": {},
     "outputs": [],
     "prompt_number": 87
    },
    {
     "cell_type": "code",
     "collapsed": false,
     "input": [
      "import json\n",
      "json.dump(resultsToSave, open('bandlinearresults.json', 'w'))"
     ],
     "language": "python",
     "metadata": {},
     "outputs": [],
     "prompt_number": 90
    },
    {
     "cell_type": "code",
     "collapsed": false,
     "input": [],
     "language": "python",
     "metadata": {},
     "outputs": []
    }
   ],
   "metadata": {}
  }
 ]
}