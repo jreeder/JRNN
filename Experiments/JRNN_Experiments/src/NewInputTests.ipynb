{
 "metadata": {
  "name": "NewInputTests"
 },
 "nbformat": 3,
 "nbformat_minor": 0,
 "worksheets": [
  {
   "cells": [
    {
     "cell_type": "code",
     "collapsed": false,
     "input": [
      "import PyJRNN as pyj"
     ],
     "language": "python",
     "metadata": {},
     "outputs": [],
     "prompt_number": 1
    },
    {
     "cell_type": "code",
     "collapsed": false,
     "input": [
      "import pyublas\n",
      "from config import *"
     ],
     "language": "python",
     "metadata": {},
     "outputs": [],
     "prompt_number": 23
    },
    {
     "cell_type": "code",
     "collapsed": false,
     "input": [
      "%pylab"
     ],
     "language": "python",
     "metadata": {},
     "outputs": [
      {
       "output_type": "stream",
       "stream": "stdout",
       "text": [
        "\n",
        "Welcome to pylab, a matplotlib-based Python environment [backend: TkAgg].\n",
        "For more information, type 'help(pylab)'.\n"
       ]
      }
     ],
     "prompt_number": 3
    },
    {
     "cell_type": "code",
     "collapsed": false,
     "input": [
      "ucidatapath = basepath + r\"/Experiments/Data/UCI Data/\"\n"
     ],
     "language": "python",
     "metadata": {},
     "outputs": [],
     "prompt_number": 4
    },
    {
     "cell_type": "code",
     "collapsed": false,
     "input": [
      "import scipy.io"
     ],
     "language": "python",
     "metadata": {},
     "outputs": [],
     "prompt_number": 5
    },
    {
     "cell_type": "code",
     "collapsed": false,
     "input": [
      "import os\n",
      "iris = scipy.io.loadmat(os.path.join(ucidatapath, \"IRIS/iris.mat\"))"
     ],
     "language": "python",
     "metadata": {},
     "outputs": [],
     "prompt_number": 6
    },
    {
     "cell_type": "code",
     "collapsed": false,
     "input": [
      "irisdata = iris[\"irisdata\"]"
     ],
     "language": "python",
     "metadata": {},
     "outputs": [],
     "prompt_number": 7
    },
    {
     "cell_type": "code",
     "collapsed": false,
     "input": [
      "def matDoubleFromArray(inMat):\n",
      "    newMat = pyj.types.matDouble()\n",
      "    for vec in inMat:\n",
      "        if isinstance(vec, numpy.float64):\n",
      "            newMat.append(np.array([vec]))\n",
      "        else:\n",
      "            newMat.append(vec)\n",
      "    return newMat"
     ],
     "language": "python",
     "metadata": {},
     "outputs": [],
     "prompt_number": 8
    },
    {
     "cell_type": "code",
     "collapsed": false,
     "input": [
      "inputs1 = irisdata[:, [0,1]]\n",
      "inputs2 = irisdata[:, [0,1,2,3]]\n",
      "outs = irisdata[:, 4]"
     ],
     "language": "python",
     "metadata": {},
     "outputs": [],
     "prompt_number": 9
    },
    {
     "cell_type": "code",
     "collapsed": false,
     "input": [
      "inVec1 = matDoubleFromArray(inputs1)\n",
      "inVec2 = matDoubleFromArray(inputs2)\n",
      "outVec = matDoubleFromArray(outs)"
     ],
     "language": "python",
     "metadata": {},
     "outputs": [],
     "prompt_number": 10
    },
    {
     "cell_type": "code",
     "collapsed": false,
     "input": [
      "ds1 = pyj.utility.Dataset()"
     ],
     "language": "python",
     "metadata": {},
     "outputs": [],
     "prompt_number": 11
    },
    {
     "cell_type": "code",
     "collapsed": false,
     "input": [
      "ds1.LoadFromMatDoubles(inVec1, outVec)\n",
      "ds1.DistData(70, 10, 20)"
     ],
     "language": "python",
     "metadata": {},
     "outputs": [],
     "prompt_number": 12
    },
    {
     "cell_type": "code",
     "collapsed": false,
     "input": [
      "ds2 = pyj.utility.Dataset()\n",
      "ds2.LoadFromMatDoubles(inVec2, outVec)\n",
      "ds2.DistData(70, 10, 20)"
     ],
     "language": "python",
     "metadata": {},
     "outputs": [],
     "prompt_number": 13
    },
    {
     "cell_type": "code",
     "collapsed": false,
     "input": [
      "from PyJRNN.types import hashedDoubleMap\n",
      "from PyJRNN.utility import DSDatatype\n",
      "from PyJRNN.types import ints"
     ],
     "language": "python",
     "metadata": {},
     "outputs": [],
     "prompt_number": 14
    },
    {
     "cell_type": "heading",
     "level": 1,
     "metadata": {},
     "source": [
      "RevCC"
     ]
    },
    {
     "cell_type": "code",
     "collapsed": false,
     "input": [
      "revTrainer = pyj.trainers.RevCCTrainer(2,1,8)"
     ],
     "language": "python",
     "metadata": {},
     "outputs": []
    },
    {
     "cell_type": "code",
     "collapsed": false,
     "input": [
      "revTrainer.TrainTask(ds1, 3000, False)"
     ],
     "language": "python",
     "metadata": {},
     "outputs": []
    },
    {
     "cell_type": "code",
     "collapsed": false,
     "input": [
      "revTrainer.parms.indexThreshold"
     ],
     "language": "python",
     "metadata": {},
     "outputs": []
    },
    {
     "cell_type": "code",
     "collapsed": false,
     "input": [
      "print revTrainer.net1vals.epochs\n",
      "print revTrainer.net1vals.numHidLayers"
     ],
     "language": "python",
     "metadata": {},
     "outputs": []
    },
    {
     "cell_type": "code",
     "collapsed": false,
     "input": [
      "print revTrainer.net2vals.epochs\n",
      "print revTrainer.net2vals.numHidLayers"
     ],
     "language": "python",
     "metadata": {},
     "outputs": []
    },
    {
     "cell_type": "code",
     "collapsed": false,
     "input": [
      "result = revTrainer.TestWiClass(ds1, DSDatatype.TEST)"
     ],
     "language": "python",
     "metadata": {},
     "outputs": []
    },
    {
     "cell_type": "code",
     "collapsed": false,
     "input": [
      "result"
     ],
     "language": "python",
     "metadata": {},
     "outputs": []
    },
    {
     "cell_type": "code",
     "collapsed": false,
     "input": [
      "print result[\"task-0\"]"
     ],
     "language": "python",
     "metadata": {},
     "outputs": []
    },
    {
     "cell_type": "code",
     "collapsed": false,
     "input": [
      "newInputIndex = ints()\n",
      "newInputIndex.append(-1)"
     ],
     "language": "python",
     "metadata": {},
     "outputs": []
    },
    {
     "cell_type": "code",
     "collapsed": false,
     "input": [
      "revTrainer.AddNewInputs(newInputIndex, ds2, False)"
     ],
     "language": "python",
     "metadata": {},
     "outputs": []
    },
    {
     "cell_type": "code",
     "collapsed": false,
     "input": [
      "from PyJRNN.networks import RevCCNetwork"
     ],
     "language": "python",
     "metadata": {},
     "outputs": []
    },
    {
     "cell_type": "code",
     "collapsed": false,
     "input": [
      "revTrainer.TrainTask(ds2, 3000, False)"
     ],
     "language": "python",
     "metadata": {},
     "outputs": []
    },
    {
     "cell_type": "code",
     "collapsed": false,
     "input": [
      "result2 = revTrainer.TestWiClass(ds2, DSDatatype.TEST)"
     ],
     "language": "python",
     "metadata": {},
     "outputs": []
    },
    {
     "cell_type": "code",
     "collapsed": false,
     "input": [
      "print result2[\"task-0\"]"
     ],
     "language": "python",
     "metadata": {},
     "outputs": []
    },
    {
     "cell_type": "heading",
     "level": 1,
     "metadata": {},
     "source": [
      "CC"
     ]
    },
    {
     "cell_type": "code",
     "collapsed": false,
     "input": [
      "from PyJRNN.trainers import CCTrainer, ErrorType\n",
      "from PyJRNN.networks import CCNetwork"
     ],
     "language": "python",
     "metadata": {},
     "outputs": [],
     "prompt_number": 15
    },
    {
     "cell_type": "raw",
     "metadata": {},
     "source": [
      "#ccnet = CCNetwork.Create()\n",
      "#ccnet.SetScaleAndOffset(1.0, 0.5)\n",
      "#ccnet.Build(2,1,False, True, False)\n",
      "#cctrainer = CCTrainer(ccnet, ds1, 8)\n",
      "#cctrainer.parms.errorMeasure = ErrorType.BITS\n",
      "#cctrainer.parms.out.epochs = 1000\n",
      "#cctrainer.parms.SDCCRatio = 0.9\n",
      "#cctrainer.parms.useSDCC = True"
     ]
    },
    {
     "cell_type": "code",
     "collapsed": false,
     "input": [
      "import time\n",
      "def CCWorker(trainer, results, numRuns, useValidation, maxEpochs):\n",
      "    for i in range(numRuns):\n",
      "        starttime = time.clock()\n",
      "        if useValidation:\n",
      "            trainer.TrainToValConv(maxEpochs)\n",
      "        else:\n",
      "            trainer.TrainToConvergence(maxEpochs)\n",
      "        tottime = starttime - time.clock()\n",
      "        \n",
      "        epochs = trainer.Epochs\n",
      "        hiddenLayers = trainer.NumHidLayers\n",
      "        numResets = trainer.NumResets\n",
      "        resultline = \"\\t\".join([epochs, time, hiddenLayers, numResets])\n",
      "        resultline += \"\\t\"\n",
      "        \n",
      "        testresult = trainer.TestWiClass(DSDatatype.TEST)\n",
      "        \n",
      "        for key in testresult.iterkeys():\n",
      "            resultline += \"{0}:{1}\\t\".format(key, testresult[key])\n",
      "            \n",
      "        resultline += \"|\\t\"\n",
      "        \n",
      "        mserec = trainer.GetMSERec()\n",
      "        resultline += \"\\t\".join(mserec)\n",
      "        resultline += \"\\n\"\n",
      "        results.append(resultline)\n",
      "        resultline = \"\"\n",
      "        trainer.Reset()\n",
      "        trainer.RedistData()"
     ],
     "language": "python",
     "metadata": {},
     "outputs": [],
     "prompt_number": 16
    },
    {
     "cell_type": "code",
     "collapsed": false,
     "input": [
      "def TestAddNewInput(ds1, ds2, results, numRuns, useValidation, maxEpochs, newInputIndexes, connectToHidden):\n",
      "    for i in range(numRuns):\n",
      "        \n",
      "        ccnet = CCNetwork.Create()\n",
      "        ccnet.SetScaleAndOffset(1.0, 0.5)\n",
      "        ccnet.Build(2,1,False, True, False)\n",
      "        cctrainer = CCTrainer(ccnet, ds1, 8)\n",
      "        cctrainer.parms.errorMeasure = ErrorType.BITS\n",
      "        cctrainer.parms.out.epochs = 1000\n",
      "        cctrainer.parms.SDCCRatio = 0.9\n",
      "        cctrainer.parms.useSDCC = True\n",
      "        \n",
      "        starttime = time.clock()\n",
      "        if useValidation:\n",
      "            cctrainer.TrainToValConv(maxEpochs)\n",
      "        else:\n",
      "            cctrainer.TrainToConvergence(maxEpochs)\n",
      "        tottime = time.clock() - starttime\n",
      "        \n",
      "        epochs = cctrainer.Epochs\n",
      "        hiddenLayers = cctrainer.NumHidLayers\n",
      "        numResets = cctrainer.NumResets\n",
      "        \n",
      "        testresult = cctrainer.TestWiClass(DSDatatype.TEST)\n",
      "        mserec = cctrainer.GetMSERec()\n",
      "        \n",
      "        resultdict = dict(zip((\"epochs\", \"tottime\", \"hiddenLayers\", \"numResets\", \"testresult\", \"mserec\"), \\\n",
      "                              (epochs, tottime, hiddenLayers, numResets, testresult, mserec)))\n",
      "        #resultdict = dict(((k, eval(k)) for k in (\"epochs\", \"tottime\", \"hiddenLyaers\", \"numResets\", \"testresult\", \"mserec\")))\n",
      "        results[\"ds1\"].append(resultdict)\n",
      "        \n",
      "        #Start the new input stuff\n",
      "        cctrainer.AddNewInputs(newInputIndexes, ds2, connectToHidden)\n",
      "        \n",
      "        starttime = time.clock()\n",
      "        if useValidation:\n",
      "            cctrainer.TrainToValConv(maxEpochs)\n",
      "        else:\n",
      "            cctrainer.TrainToConvergence(maxEpochs)\n",
      "        tottime = time.clock() - starttime\n",
      "        \n",
      "        epochs = cctrainer.Epochs\n",
      "        hiddenLayers = cctrainer.NumHidLayers\n",
      "        numResets = cctrainer.NumResets\n",
      "        \n",
      "        testresult = cctrainer.TestWiClass(DSDatatype.TEST)\n",
      "        mserec = cctrainer.GetMSERec()\n",
      "        \n",
      "        resultdict = dict(zip((\"epochs\", \"tottime\", \"hiddenLayers\", \"numResets\", \"testresult\", \"mserec\"), \\\n",
      "                              (epochs, tottime, hiddenLayers, numResets, testresult, mserec)))\n",
      "        #resultdict = dict(((k, eval(k)) for k in (\"epochs\", \"tottime\", \"hiddenLyaers\", \"numResets\", \"testresult\", \"mserec\")))\n",
      "        results[\"ds2\"].append(resultdict)\n",
      "        "
     ],
     "language": "python",
     "metadata": {},
     "outputs": [],
     "prompt_number": 17
    },
    {
     "cell_type": "code",
     "collapsed": false,
     "input": [
      "results = {}\n",
      "results[\"ds1\"] = []\n",
      "results[\"ds2\"] = []\n",
      "newIndexes = ints()\n",
      "newIndexes.append(-1)\n",
      "newIndexes.append(-1)\n",
      "TestAddNewInput(ds1, ds2, results, 30, True, 2000, newIndexes, False)"
     ],
     "language": "python",
     "metadata": {},
     "outputs": [],
     "prompt_number": 18
    },
    {
     "cell_type": "code",
     "collapsed": false,
     "input": [
      "testresults = [x['testresult']['task-0'] for x in results[\"ds1\"]]\n",
      "print testresults\n",
      "testresults2 = [x['testresult']['task-0'] for x in results['ds2']]\n",
      "print testresults2"
     ],
     "language": "python",
     "metadata": {},
     "outputs": [
      {
       "output_type": "stream",
       "stream": "stdout",
       "text": [
        "[0.4, 0.4, 0.4, 0.4, 0.4, 0.4, 0.4, 0.4, 0.4, 0.4, 0.35, 0.4, 0.4, 0.4, 0.4, 0.4, 0.4, 0.4, 0.4, 0.4, 0.4, 0.4, 0.4, 0.4, 0.4, 0.4, 0.4, 0.4, 0.4, 0.4]\n",
        "[0.0, 0.05, 0.0, 0.1, 0.05, 0.0, 0.05, 0.0, 0.05, 0.05, 0.2, 0.0, 0.05, 0.0, 0.05, 0.05, 0.05, 0.0, 0.05, 0.0, 0.05, 0.0, 0.05, 0.0, 0.0, 0.05, 0.05, 0.0, 0.0, 0.05]\n"
       ]
      }
     ],
     "prompt_number": 19
    },
    {
     "cell_type": "code",
     "collapsed": false,
     "input": [
      "results2 = {}\n",
      "results2[\"ds1\"] = []\n",
      "results2[\"ds2\"] = []\n",
      "TestAddNewInput(ds1, ds2, results2, 30, True, 2000, newIndexes, True)"
     ],
     "language": "python",
     "metadata": {},
     "outputs": [],
     "prompt_number": 20
    },
    {
     "cell_type": "code",
     "collapsed": false,
     "input": [
      "ds1ErrResults2 = [x['testresult']['task-0'] for x in results2['ds1']]\n",
      "ds2ErrResults2 = [x['testresult']['task-0'] for x in results2['ds2']]"
     ],
     "language": "python",
     "metadata": {},
     "outputs": [],
     "prompt_number": 22
    },
    {
     "cell_type": "code",
     "collapsed": false,
     "input": [
      "ds11avgerr, ds11errerr = CalcMeanAndError(testresults, rmoutliers=False)\n",
      "ds21avgerr, ds21errerr = CalcMeanAndError(testresults2, rmoutliers=False)"
     ],
     "language": "python",
     "metadata": {},
     "outputs": [],
     "prompt_number": 33
    },
    {
     "cell_type": "code",
     "collapsed": false,
     "input": [
      "ds12avgerr, ds12errerr = CalcMeanAndError(ds1ErrResults2, rmoutliers=False)\n",
      "ds22avgerr, ds22errerr = CalcMeanAndError(ds2ErrResults2, rmoutliers=False)"
     ],
     "language": "python",
     "metadata": {},
     "outputs": [],
     "prompt_number": 34
    },
    {
     "cell_type": "code",
     "collapsed": false,
     "input": [
      "xticks = [\"New Structure\", \"Adapt Old Stucture\"]\n",
      "locs = np.arange(1, len(xticks) + 1)\n",
      "width = 0.2\n",
      "ds1erravgs = [ds11avgerr, ds12avgerr]\n",
      "ds1errerrs = [ds11errerr, ds12errerr]\n",
      "ds2erravgs = [ds21avgerr, ds22avgerr]\n",
      "ds2errerrs = [ds21errerr, ds22errerr]\n",
      "\n",
      "plt.figure()\n",
      "plt.bar(locs+width, ds1erravgs, yerr=ds1errerrs, color='red', width=width, \\\n",
      "        antialiased=True, label=\"Limited Inputs\")\n",
      "\n",
      "plt.bar(locs+2*width, ds2erravgs, yerr=ds2errerrs, color='blue', width=width, \\\n",
      "        antialiased=True, label=\"Full Inputs\")\n",
      "\n",
      "plt.legend()\n",
      "plt.title(\"Adding New Inputs - Classification Error\")\n",
      "plt.xticks((locs + (2*width)), xticks)\n",
      "plt.ylabel(\"Error Rate\")\n",
      "plt.show()"
     ],
     "language": "python",
     "metadata": {},
     "outputs": [],
     "prompt_number": 35
    },
    {
     "cell_type": "code",
     "collapsed": false,
     "input": [
      "ds11avgepochs, ds11errepochs = CalcMeanAndError([x['epochs'] for x in results['ds1']])\n",
      "ds21avgepochs, ds21errepochs = CalcMeanAndError([x['epochs'] for x in results['ds2']])\n",
      "ds12avgepochs, ds12errepochs = CalcMeanAndError([x['epochs'] for x in results2['ds1']])\n",
      "ds22avgepochs, ds22errepochs = CalcMeanAndError([x['epochs'] for x in results2['ds2']])"
     ],
     "language": "python",
     "metadata": {},
     "outputs": [],
     "prompt_number": 42
    },
    {
     "cell_type": "code",
     "collapsed": false,
     "input": [
      "def PlotMultiBar(xticks, ArrayBarTuples, inTitle, yLabel, inwidth=0.2):\n",
      "    locs = np.arange(1, len(xticks) + 1)\n",
      "    width = inwidth\n",
      "    \n",
      "    fig = plt.figure()\n",
      "    locAdj = 0\n",
      "    for datatuple in ArrayBarTuples:\n",
      "        locAdj += 1\n",
      "        plt.bar(locs + locAdj*width, datatuple[0], yerr=datatuple[1], color=datatuple[2], width=width,\\\n",
      "                antialiased=True, label=datatuple[3])\n",
      "        \n",
      "    \n",
      "    plt.legend()\n",
      "    plt.title(inTitle)\n",
      "    plt.xticks((locs + (locAdj * (width/2)) + width), xticks)\n",
      "    plt.ylabel(yLabel)\n",
      "    \n",
      "    return fig"
     ],
     "language": "python",
     "metadata": {},
     "outputs": [],
     "prompt_number": 36
    },
    {
     "cell_type": "code",
     "collapsed": false,
     "input": [
      "ArrayBarTuples = []\n",
      "ArrayBarTuples.append(([ds11avgepochs, ds12avgepochs], [ds11errepochs, ds12errepochs], \"red\", \"Limited Inputs\"))\n",
      "ArrayBarTuples.append(([ds21avgepochs, ds22avgepochs], [ds21errepochs, ds22errepochs], \"blue\", \"Full Inputs\"))\n",
      "fig = PlotMultiBar(xticks, ArrayBarTuples, \"Adding New Inputs - Epochs\", \"Avg Epochs\")"
     ],
     "language": "python",
     "metadata": {},
     "outputs": [],
     "prompt_number": 43
    },
    {
     "cell_type": "code",
     "collapsed": false,
     "input": [
      "ds11avghiddenLayers, ds11errhiddenLayers = CalcMeanAndError([x['hiddenLayers'] for x in results['ds1']])\n",
      "ds21avghiddenLayers, ds21errhiddenLayers = CalcMeanAndError([x['hiddenLayers'] for x in results['ds2']])\n",
      "ds12avghiddenLayers, ds12errhiddenLayers = CalcMeanAndError([x['hiddenLayers'] for x in results2['ds1']])\n",
      "ds22avghiddenLayers, ds22errhiddenLayers = CalcMeanAndError([x['hiddenLayers'] for x in results2['ds2']])"
     ],
     "language": "python",
     "metadata": {},
     "outputs": [],
     "prompt_number": 44
    },
    {
     "cell_type": "code",
     "collapsed": false,
     "input": [
      "ArrayBarTuples2 = []\n",
      "ArrayBarTuples2.append(([ds11avghiddenLayers, ds12avghiddenLayers], [ds11errhiddenLayers, ds12errhiddenLayers], \"red\", \"Limited Inputs\"))\n",
      "ArrayBarTuples2.append(([ds21avghiddenLayers, ds22avghiddenLayers], [ds21errhiddenLayers, ds22errhiddenLayers], \"blue\", \"Full Inputs\"))\n",
      "fig2 = PlotMultiBar(xticks, ArrayBarTuples2, \"Adding New Inputs - HiddenLayers\", \"Avg HiddenLayers\")"
     ],
     "language": "python",
     "metadata": {},
     "outputs": [],
     "prompt_number": 46
    },
    {
     "cell_type": "code",
     "collapsed": false,
     "input": [
      "%who"
     ],
     "language": "python",
     "metadata": {},
     "outputs": [
      {
       "output_type": "stream",
       "stream": "stdout",
       "text": [
        "ArrayBarTuples\tArrayBarTuples2\tCCNetwork\tCCTrainer\tCCWorker\tCalcMeanAndError\tDSDatatype\tErrorType\tPlotMultiBar\t\n",
        "RemoveOutliers\tTestAddNewInput\tbasepath\tcsvpath\tdatapath\tdatapath2\tds1\tds11avgepochs\tds11avgerr\t\n",
        "ds11avghiddenLayers\tds11errepochs\tds11errerr\tds11errhiddenLayers\tds12avgepochs\tds12avgerr\tds12avghiddenLayers\tds12errepochs\tds12errerr\t\n",
        "ds12errhiddenLayers\tds1ErrResults2\tds1erravgs\tds1errerrs\tds2\tds21avgepochs\tds21avgerr\tds21avghiddenLayers\tds21errepochs\t\n",
        "ds21errerr\tds21errhiddenLayers\tds22avgepochs\tds22avgerr\tds22avghiddenLayers\tds22errepochs\tds22errerr\tds22errhiddenLayers\tds2ErrResults2\t\n",
        "ds2erravgs\tds2errerrs\tfig\tfig2\tfigpath\tgenericout\thashedDoubleMap\tinVec1\tinVec2\t\n",
        "inputs1\tinputs2\tints\tiris\tirisdata\tjrnn_exe\tjrnn_exe2\tjrnn_exprun\tlocalNumProcesses\t\n",
        "locs\tmatDoubleFromArray\tnewIndexes\tnumProcesses\tos\toutVec\toutpath\toutpath2\toutpath3\t\n",
        "outs\tparamspath\tpyj\tpyublas\tquantile\tresults\tresults2\tscipy\tscistats\t\n",
        "testresults\ttestresults2\ttime\tucidatapath\twidth\tx\t\n"
       ]
      }
     ],
     "prompt_number": 47
    },
    {
     "cell_type": "code",
     "collapsed": false,
     "input": [],
     "language": "python",
     "metadata": {},
     "outputs": []
    }
   ],
   "metadata": {}
  }
 ]
}