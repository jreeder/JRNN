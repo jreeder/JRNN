{
 "metadata": {
  "name": "RevCCTabbedTest"
 },
 "nbformat": 3,
 "nbformat_minor": 0,
 "worksheets": [
  {
   "cells": [
    {
     "cell_type": "code",
     "collapsed": false,
     "input": [
      "from config import *\n",
      "import os"
     ],
     "language": "python",
     "metadata": {},
     "outputs": []
    },
    {
     "cell_type": "code",
     "collapsed": false,
     "input": [
      "import PyJRNN\n",
      "import ObsUtility\n",
      "import pyublas\n",
      "import json"
     ],
     "language": "python",
     "metadata": {},
     "outputs": []
    },
    {
     "cell_type": "code",
     "collapsed": false,
     "input": [
      "def RunRevTabbed(dsname, numIns, numOuts, subView1, subView2, numRev, numRuns, numTrain, numVal, numTest, useVal=True, maxEpochs=3000, fileName=\"\"):\n",
      "    def loadTabbedDataToTask(cds, dsname, taskname, numIns, numOuts):\n",
      "        global datapath\n",
      "        dsfilename = dsname + '-' + taskname + \".txt\"\n",
      "        dspath = os.path.join(datapath, dsfilename)\n",
      "        ins, outs = LoadTabbedDataFiles(numIns, numOuts, dspath)\n",
      "        cds.AddMatDoublesToTask(ObsUtility.matDoubleFromArray(ins), ObsUtility.matDoubleFromArray(outs), taskname)\n",
      "    \n",
      "    cds = PyJRNN.utility.CSMTLDataset()\n",
      "    loadTabbedDataToTask(cds, dsname, subView1, numIns, numOuts)\n",
      "    loadTabbedDataToTask(cds, dsname, subView2, numIns, numOuts)\n",
      "    \n",
      "    viewStrings = PyJRNN.types.strings()\n",
      "    viewStrings.append(subView1)\n",
      "    viewStrings.append(subView2)\n",
      "    cds.View = viewStrings\n",
      "    \n",
      "    cds.DistData(numTrain,numVal,numTest)\n",
      "    \n",
      "    print 'Creating Trainer'\n",
      "    revCC = PyJRNN.trainers.RevCCTrainer(cds.numInputs,cds.numOutputs,4)\n",
      "    revCC.revparams.cleanReverb = True\n",
      "    revCC.revparams.numContexts = 2\n",
      "    if numRev == -1:\n",
      "        revCC.revparams.bufferSize = 0\n",
      "        numRev = 0\n",
      "    revCC.revparams.numRev = numRev\n",
      "    \n",
      "    bufferSize = revCC.revparams.bufferSize\n",
      "    \n",
      "    print 'Calling Worker'\n",
      "    results = []\n",
      "    retArray = ObsUtility.RevCCWorker(revCC, results, numRuns, subView1, subView2, cds, True, maxEpochs=maxEpochs)\n",
      "    \n",
      "    retVal = ({'dsname': dsname, 'tasks': (subView1, subView2), 'numRev': numRev, 'numRuns': numRuns, 'bufferSize': bufferSize}, results, retArray)\n",
      "    \n",
      "    if fileName != \"\":\n",
      "        with open(fileName, 'w') as fileh:\n",
      "            json.dump(retVal, fileh)\n",
      "    \n",
      "    return retVal"
     ],
     "language": "python",
     "metadata": {},
     "outputs": []
    },
    {
     "cell_type": "code",
     "collapsed": false,
     "input": [
      "ret = RunRevTabbed('band', 2, 1, 'task1', 'task2', 2, 1, 200, 100, 200, True)"
     ],
     "language": "python",
     "metadata": {},
     "outputs": []
    },
    {
     "cell_type": "heading",
     "level": 1,
     "metadata": {},
     "source": [
      "Parallel Test"
     ]
    },
    {
     "cell_type": "code",
     "collapsed": false,
     "input": [
      "from IPython.parallel import Client"
     ],
     "language": "python",
     "metadata": {},
     "outputs": []
    },
    {
     "cell_type": "code",
     "collapsed": false,
     "input": [
      "rc = Client(profile='cluster')\n",
      "rc.ids"
     ],
     "language": "python",
     "metadata": {},
     "outputs": []
    },
    {
     "cell_type": "code",
     "collapsed": false,
     "input": [
      "with rc[:].sync_imports():\n",
      "    import PyJRNN\n",
      "    import pyublas\n",
      "    import numpy\n",
      "    from PyJRNN.utility import DSDatatype\n",
      "    import os\n",
      "    import re\n",
      "    import json\n",
      "    import ObsUtility\n",
      "    from config import datapath, LoadTabbedDataFiles"
     ],
     "language": "python",
     "metadata": {},
     "outputs": []
    },
    {
     "cell_type": "code",
     "collapsed": false,
     "input": [
      "dstorun = [('band', 'task1', 'task2'),\\\n",
      "        ('band','task1', 'task5'), \\\n",
      "        ('linear', 'task1', 'task2'), \\\n",
      "        ('linear', 'task1', 'task5'), \\\n",
      "        ('CirInSq', 'task1', 'task2'), \\\n",
      "        ('CirInSq', 'task1', 'task5')\\\n",
      "        ]"
     ],
     "language": "python",
     "metadata": {},
     "outputs": []
    },
    {
     "cell_type": "code",
     "collapsed": false,
     "input": [
      "dstorun = [('band', 'task1', 'task2')]"
     ],
     "language": "python",
     "metadata": {},
     "outputs": []
    },
    {
     "cell_type": "code",
     "collapsed": false,
     "input": [
      "lbv = rc.load_balanced_view()"
     ],
     "language": "python",
     "metadata": {},
     "outputs": []
    },
    {
     "cell_type": "code",
     "collapsed": false,
     "input": [
      "async_results = []\n",
      "result_filenames = []\n",
      "numRuns = 30\n",
      "for numRev in [-1,1,2,4,8,12]:#[-1,1]\n",
      "    for ds in dstorun:\n",
      "        fn = 'Notebook Data/TabbedRevCCResult{0}-sv1{1}-sv2{2}-numRev{3}-numRun{4}-useValTrue-maxEp3000.json'.format(ds[0], ds[1], ds[2], numRev, numRuns)\n",
      "        ar = lbv.apply_async(RunRevTabbed, ds[0], 2, 1, ds[1], ds[2], numRev, numRuns, 200, 200, 200, useVal=True, maxEpochs=3000, fileName=fn)\n",
      "        async_results.append(ar)\n",
      "        result_filenames.append(fn)"
     ],
     "language": "python",
     "metadata": {},
     "outputs": []
    },
    {
     "cell_type": "code",
     "collapsed": false,
     "input": [
      "[ar.progress for ar in async_results]"
     ],
     "language": "python",
     "metadata": {},
     "outputs": []
    },
    {
     "cell_type": "code",
     "collapsed": false,
     "input": [
      "rc.queue_status()"
     ],
     "language": "python",
     "metadata": {},
     "outputs": []
    },
    {
     "cell_type": "code",
     "collapsed": false,
     "input": [],
     "language": "python",
     "metadata": {},
     "outputs": []
    }
   ],
   "metadata": {}
  }
 ]
}