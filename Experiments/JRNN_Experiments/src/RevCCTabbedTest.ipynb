{
 "metadata": {
  "name": "RevCCTabbedTest"
 },
 "nbformat": 3,
 "nbformat_minor": 0,
 "worksheets": [
  {
   "cells": [
    {
     "cell_type": "code",
     "collapsed": false,
     "input": [
      "from config import *\n",
      "import os"
     ],
     "language": "python",
     "metadata": {},
     "outputs": []
    },
    {
     "cell_type": "code",
     "collapsed": false,
     "input": [
      "import PyJRNN\n",
      "import ObsUtility\n",
      "import pyublas\n",
      "import json"
     ],
     "language": "python",
     "metadata": {},
     "outputs": []
    },
    {
     "cell_type": "code",
     "collapsed": false,
     "input": [
      "def RunRevTabbed(dsname, numIns, numOuts, subView1, subView2, numRev, numRuns, numTrain, numVal, numTest, useVal=True, maxEpochs=3000, fileName=\"\"):\n",
      "    def loadTabbedDataToTask(cds, dsname, taskname, numIns, numOuts):\n",
      "        global datapath\n",
      "        dsfilename = dsname + '-' + taskname + \".txt\"\n",
      "        dspath = os.path.join(datapath, dsfilename)\n",
      "        ins, outs = LoadTabbedDataFiles(numIns, numOuts, dspath)\n",
      "        cds.AddMatDoublesToTask(ObsUtility.matDoubleFromArray(ins), ObsUtility.matDoubleFromArray(outs), taskname)\n",
      "    \n",
      "    cds = PyJRNN.utility.CSMTLDataset()\n",
      "    loadTabbedDataToTask(cds, dsname, subView1, numIns, numOuts)\n",
      "    loadTabbedDataToTask(cds, dsname, subView2, numIns, numOuts)\n",
      "    \n",
      "    viewStrings = PyJRNN.types.strings()\n",
      "    viewStrings.append(subView1)\n",
      "    viewStrings.append(subView2)\n",
      "    cds.View = viewStrings\n",
      "    \n",
      "    cds.DistData(numTrain,numVal,numTest)\n",
      "    \n",
      "    print 'Creating Trainer'\n",
      "    revCC = PyJRNN.trainers.RevCCTrainer(cds.numInputs,cds.numOutputs,4)\n",
      "    revCC.revparams.cleanReverb = True\n",
      "    revCC.revparams.numContexts = 2\n",
      "    if numRev == -1:\n",
      "        revCC.revparams.bufferSize = 0\n",
      "        numRev = 0\n",
      "    revCC.revparams.numRev = numRev\n",
      "    \n",
      "    bufferSize = revCC.revparams.bufferSize\n",
      "    \n",
      "    print 'Calling Worker'\n",
      "    results = []\n",
      "    retArray = ObsUtility.RevCCWorker(revCC, results, numRuns, subView1, subView2, cds, True, maxEpochs=maxEpochs)\n",
      "    \n",
      "    retVal = ({'dsname': dsname, 'tasks': (subView1, subView2), 'numRev': numRev, 'numRuns': numRuns, 'bufferSize': bufferSize}, results, retArray)\n",
      "    \n",
      "    if fileName != \"\":\n",
      "        with open(fileName, 'w') as fileh:\n",
      "            json.dump(retVal, fileh)\n",
      "    \n",
      "    return retVal"
     ],
     "language": "python",
     "metadata": {},
     "outputs": []
    },
    {
     "cell_type": "code",
     "collapsed": false,
     "input": [
      "ret = RunRevTabbed('band', 2, 1, 'task1', 'task2', 2, 1, 200, 100, 200, True)"
     ],
     "language": "python",
     "metadata": {},
     "outputs": []
    },
    {
     "cell_type": "heading",
     "level": 1,
     "metadata": {},
     "source": [
      "Parallel Test"
     ]
    },
    {
     "cell_type": "code",
     "collapsed": false,
     "input": [
      "from IPython.parallel import Client"
     ],
     "language": "python",
     "metadata": {},
     "outputs": []
    },
    {
     "cell_type": "code",
     "collapsed": false,
     "input": [
      "rc = Client(profile='cluster')\n",
      "rc.ids"
     ],
     "language": "python",
     "metadata": {},
     "outputs": []
    },
    {
     "cell_type": "code",
     "collapsed": false,
     "input": [
      "with rc[:].sync_imports():\n",
      "    import PyJRNN\n",
      "    import pyublas\n",
      "    import numpy\n",
      "    from PyJRNN.utility import DSDatatype\n",
      "    import os\n",
      "    import re\n",
      "    import json\n",
      "    import ObsUtility\n",
      "    from config import datapath, LoadTabbedDataFiles"
     ],
     "language": "python",
     "metadata": {},
     "outputs": []
    },
    {
     "cell_type": "code",
     "collapsed": false,
     "input": [
      "dstorun = [('band', 'task1', 'task2'),\\\n",
      "        ('band','task1', 'task5'), \\\n",
      "        ('linear', 'task1', 'task2'), \\\n",
      "        ('linear', 'task1', 'task5'), \\\n",
      "        ('CirInSq', 'task1', 'task2'), \\\n",
      "        ('CirInSq', 'task1', 'task5')\\\n",
      "        ]"
     ],
     "language": "python",
     "metadata": {},
     "outputs": []
    },
    {
     "cell_type": "code",
     "collapsed": false,
     "input": [
      "dstorun = [('band', 'task1', 'task2')]"
     ],
     "language": "python",
     "metadata": {},
     "outputs": []
    },
    {
     "cell_type": "code",
     "collapsed": false,
     "input": [
      "lbv = rc.load_balanced_view()"
     ],
     "language": "python",
     "metadata": {},
     "outputs": []
    },
    {
     "cell_type": "code",
     "collapsed": false,
     "input": [
      "async_results = []\n",
      "result_filenames = []\n",
      "numRuns = 30\n",
      "for numRev in [-1,1,2,4,8,12]:#[-1,1]\n",
      "    for ds in dstorun:\n",
      "        fn = 'Notebook Data/TabbedRevCCResult{0}-sv1{1}-sv2{2}-numRev{3}-numRun{4}-useValTrue-maxEp3000.json'.format(ds[0], ds[1], ds[2], numRev, numRuns)\n",
      "        ar = lbv.apply_async(RunRevTabbed, ds[0], 2, 1, ds[1], ds[2], numRev, numRuns, 200, 200, 200, useVal=True, maxEpochs=3000, fileName=fn)\n",
      "        async_results.append(ar)\n",
      "        result_filenames.append(fn)"
     ],
     "language": "python",
     "metadata": {},
     "outputs": []
    },
    {
     "cell_type": "code",
     "collapsed": false,
     "input": [
      "[ar.progress for ar in async_results]"
     ],
     "language": "python",
     "metadata": {},
     "outputs": []
    },
    {
     "cell_type": "code",
     "collapsed": false,
     "input": [
      "rc.queue_status()"
     ],
     "language": "python",
     "metadata": {},
     "outputs": []
    },
    {
     "cell_type": "heading",
     "level": 1,
     "metadata": {},
     "source": [
      "Plotting Things"
     ]
    },
    {
     "cell_type": "code",
     "collapsed": false,
     "input": [
      "import ParseReverbFiles as pe\n",
      "import PlotReverbFiles as pr\n",
      "from itertools import cycle"
     ],
     "language": "python",
     "metadata": {},
     "outputs": []
    },
    {
     "cell_type": "code",
     "collapsed": false,
     "input": [
      "%load_ext autoreload\n",
      "%autoreload 2"
     ],
     "language": "python",
     "metadata": {},
     "outputs": []
    },
    {
     "cell_type": "code",
     "collapsed": false,
     "input": [
      "%pylab"
     ],
     "language": "python",
     "metadata": {},
     "outputs": []
    },
    {
     "cell_type": "code",
     "collapsed": false,
     "input": [
      "plt.rcParams.update({'font.size': 14})"
     ],
     "language": "python",
     "metadata": {},
     "outputs": []
    },
    {
     "cell_type": "code",
     "collapsed": false,
     "input": [
      "filelist = os.listdir('Notebook Data')"
     ],
     "language": "python",
     "metadata": {},
     "outputs": []
    },
    {
     "cell_type": "code",
     "collapsed": false,
     "input": [
      "testfiles = [x for x in filelist if 'TabbedRevCCResult' in x]"
     ],
     "language": "python",
     "metadata": {},
     "outputs": []
    },
    {
     "cell_type": "code",
     "collapsed": false,
     "input": [
      "testfiles"
     ],
     "language": "python",
     "metadata": {},
     "outputs": []
    },
    {
     "cell_type": "code",
     "collapsed": false,
     "input": [
      "bandtestfiles = [x for x in testfiles if 'band' in x]\n",
      "lineartestfiles = [x for x in testfiles if 'linear' in x]\n",
      "Cirtestfiles = [x for x in testfiles if 'CirInSq' in x]"
     ],
     "language": "python",
     "metadata": {},
     "outputs": []
    },
    {
     "cell_type": "code",
     "collapsed": false,
     "input": [
      "banddata = {}\n",
      "banddata['task2'] = [json.load(open(os.path.join('Notebook Data', x))) for x in bandtestfiles if 'task2' in x]\n",
      "banddata['task5'] = [json.load(open(os.path.join('Notebook Data', x))) for x in bandtestfiles if 'task5' in x]"
     ],
     "language": "python",
     "metadata": {},
     "outputs": []
    },
    {
     "cell_type": "code",
     "collapsed": false,
     "input": [
      "def ConvertData(indatafiles, task1name, task2name):\n",
      "    tmpdata = {}\n",
      "    tmpdata[task1name] = [json.load(open(os.path.join('Notebook Data', x))) for x in indatafiles if task1name in x]\n",
      "    tmpdata[task2name] = [json.load(open(os.path.join('Notebook Data', x))) for x in indatafiles if task2name in x]\n",
      "    return tmpdata"
     ],
     "language": "python",
     "metadata": {},
     "outputs": []
    },
    {
     "cell_type": "code",
     "collapsed": false,
     "input": [
      "data = ConvertData(bandtestfiles, 'task2', 'task5')"
     ],
     "language": "python",
     "metadata": {},
     "outputs": []
    },
    {
     "cell_type": "code",
     "collapsed": false,
     "input": [
      "tasknum = 2\n",
      "taskname = 'Band'\n",
      "secondtask = 'Task{0}'.format(tasknum)"
     ],
     "language": "python",
     "metadata": {},
     "outputs": []
    },
    {
     "cell_type": "code",
     "collapsed": false,
     "input": [
      "ArrayOfResults = []\n",
      "for result in sorted(data['task{0}'.format(tasknum)], key=lambda x: x[0]['numRev']):\n",
      "    resDict = result[0]\n",
      "    resString = result[1]\n",
      "    label = \"\"\n",
      "    if resDict['bufferSize'] == 0:\n",
      "        label = 'No Reverb'\n",
      "    elif resDict['numRev'] == 0 or resDict['numRev'] == 1:\n",
      "        label = '1 Reverb'\n",
      "    else:\n",
      "        label = '{0} Reverbs'.format(resDict['numRev'])\n",
      "        \n",
      "    ArrayOfResults.append((label, resString))"
     ],
     "language": "python",
     "metadata": {},
     "outputs": []
    },
    {
     "cell_type": "code",
     "collapsed": false,
     "input": [
      "fig = figure()\n",
      "#fig.set_size_inches(11, 8.5)\n",
      "count = 0\n",
      "ax = fig.add_subplot(111)\n",
      "ax.set_color_cycle([cm.gray(i) for i in np.linspace(0,0.5,len(ArrayOfResults))])\n",
      "dashes = [[5,5], [5,3,1,3], [1,3], [5,2,5,2,5,10], [5,3,1,2,1,10], (None, None)]\n",
      "dashcycler = cycle(dashes)\n",
      "linestyles = ['-', '--', ':', '-.']\n",
      "from matplotlib.lines import Line2D\n",
      "markers = []\n",
      "#colors = ('b', 'g', 'r', 'c', 'm', 'y', 'k')\n",
      "for m in Line2D.markers:\n",
      "    try:\n",
      "        if len(m) == 1 and m != ' ':\n",
      "            markers.append(m)\n",
      "    except TypeError:\n",
      "        pass\n",
      "\n",
      "plt.gray()\n",
      "for items in ArrayOfResults:\n",
      "    count += 1\n",
      "    \n",
      "    #color = colors[count % len(colors)]\n",
      "   # lstyle = linestyles[count % len(linestyles)]\n",
      "    plot(pr.MakeGraph(\"bleh\", items[1]), label=items[0], dashes=next(dashcycler), linewidth=2) #linestyle=lstyle"
     ],
     "language": "python",
     "metadata": {},
     "outputs": []
    },
    {
     "cell_type": "code",
     "collapsed": false,
     "input": [
      "xlim=[0,150]\n",
      "ylim=[0.0, 0.601]\n",
      "plt.xlim(xlim)\n",
      "plt.ylim(ylim)"
     ],
     "language": "python",
     "metadata": {},
     "outputs": []
    },
    {
     "cell_type": "code",
     "collapsed": false,
     "input": [
      "box = ax.get_position()\n",
      "ax.set_position([box.x0, box.y0 + box.height * 0.15, box.width, box.height * 0.85])\n",
      "ax.legend(loc='upper center', bbox_to_anchor = (0.5, -0.09), fancybox=True, shadow=True, ncol=3)\n",
      "fig.canvas.draw()"
     ],
     "language": "python",
     "metadata": {},
     "outputs": []
    },
    {
     "cell_type": "code",
     "collapsed": false,
     "input": [
      "annpos = ObsUtility.AnnotatedLegend(ax, ylim[0], ylim[1], xlim[1])\n",
      "fig.canvas.draw()"
     ],
     "language": "python",
     "metadata": {},
     "outputs": []
    },
    {
     "cell_type": "code",
     "collapsed": false,
     "input": [
      "widths = []\n",
      "ax_inv_trans = ax.transData.inverted()\n",
      "for box in ax.texts:\n",
      "    b_ext = box.get_window_extent()\n",
      "    widths.append(b_ext.transformed(ax_inv_trans).height)\n",
      "adjpos, changed, niter = ObsUtility.adjust_boxes(annpos, widths, ylim[0], ylim[1])\n",
      "for i in range(len(adjpos)):\n",
      "    box = ax.texts[i]\n",
      "    box.xytext = (box.xytext[0], adjpos[i])\n",
      "\n",
      "fig.canvas.draw()"
     ],
     "language": "python",
     "metadata": {},
     "outputs": []
    },
    {
     "cell_type": "code",
     "collapsed": false,
     "input": [
      "xlabel('Task {0} Epochs'.format(tasknum))\n",
      "ylabel('% Error')"
     ],
     "language": "python",
     "metadata": {},
     "outputs": []
    },
    {
     "cell_type": "code",
     "collapsed": false,
     "input": [
      "filename = 'Notebook Data/figures/{0}Task1-{1}RevCCRecall'.format(taskname, secondtask)\n",
      "fig.savefig(filename + '.pdf', dpi=300)\n",
      "fig.savefig(filename + '.eps', dpi=300)"
     ],
     "language": "python",
     "metadata": {},
     "outputs": []
    },
    {
     "cell_type": "code",
     "collapsed": false,
     "input": [],
     "language": "python",
     "metadata": {},
     "outputs": []
    }
   ],
   "metadata": {}
  }
 ]
}